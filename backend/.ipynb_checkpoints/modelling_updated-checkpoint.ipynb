{
 "cells": [
  {
   "cell_type": "markdown",
   "metadata": {},
   "source": [
    "# This notebook is simply used for modelling data\n",
    "\n",
    "For the sake of simplicty, this notebook contains the following\n",
    "- Processing of necessary data\n",
    "- Using the given data to create a simple linear regression model for prediction"
   ]
  },
  {
   "cell_type": "code",
   "execution_count": 75,
   "metadata": {},
   "outputs": [],
   "source": [
    "# Load libraries\n",
    "import pandas as pd\n",
    "import numpy as np\n",
    "import seaborn as sns\n",
    "import matplotlib.pyplot as plt\n",
    "from statsmodels.formula.api import ols\n",
    "from statsmodels.stats.api import anova_lm\n",
    "import plotly.graph_objs as go\n",
    "from plotly.subplots import make_subplots\n",
    "import matplotlib.pyplot as plt\n",
    "import seaborn as sns\n"
   ]
  },
  {
   "cell_type": "markdown",
   "metadata": {},
   "source": [
    "## Data processing\n",
    "\n",
    "The below data will be used for this model:\n",
    "\n",
    "### Response variable: Regional population dataset\n",
    "\n",
    "- This dataset contains the population related information in Victoria, ranging from births, deaths to migration.\n",
    "- The key feature that we're interested in is the erp_YYYY column, which holds the estimated regional population for Melbourne\n",
    "\n",
    "### Predictor variable: Buildling permits dataset\n",
    "\n",
    "- This dataset contains information about building permits in Melbourne"
   ]
  },
  {
   "cell_type": "code",
   "execution_count": 76,
   "metadata": {},
   "outputs": [],
   "source": [
    "# Load data\n",
    "\n",
    "response = pd.read_csv(\"../data/response/abs_regional_population_lga_2001_2021.csv\")\n",
    "predictor = pd.read_json(\"../data/predictor/Building Permits Cleaned.json\")"
   ]
  },
  {
   "cell_type": "markdown",
   "metadata": {},
   "source": [
    "First, we have a quick look at the response dataset we've loaded"
   ]
  },
  {
   "cell_type": "code",
   "execution_count": 77,
   "metadata": {},
   "outputs": [
    {
     "data": {
      "text/plain": [
       "Index(['births_2017_18', ' natural_increase_2020_21', ' births_2020_21',\n",
       "       ' births_2016_17', ' state_name_2021',\n",
       "       ' net_internal_migration_2019_20', ' deaths_2018_19',\n",
       "       ' internal_departures_2018_19', ' natural_increase_2018_19',\n",
       "       ' overseas_departures_2018_19', ' natural_increase_2017_18',\n",
       "       ' overseas_departures_2017_18', ' lga_name_2021',\n",
       "       ' internal_arrivals_2017_18', ' overseas_departures_2020_21',\n",
       "       ' deaths_2017_18', ' internal_arrivals_2016_17', ' lga_code_2021',\n",
       "       ' net_overseas_migration_2019_20', ' internal_departures_2016_17',\n",
       "       ' deaths_2016_17', ' erp_2017', ' erp_2018', ' erp_2019',\n",
       "       ' net_internal_migration_2017_18', ' erp_2021', ' erp_2020',\n",
       "       ' erp_change_per_cent_2020_21', ' net_overseas_migration_2016_17',\n",
       "       ' overseas_arrivals_2020_21', ' net_internal_migration_2018_19',\n",
       "       ' overseas_arrivals_2016_17', ' net_overseas_migration_2018_19',\n",
       "       ' overseas_arrivals_2017_18', ' area_km2',\n",
       "       ' net_internal_migration_2020_21', ' overseas_arrivals_2019_20',\n",
       "       ' erp_2008', ' erp_2009', ' erp_2006', ' erp_2007',\n",
       "       ' net_internal_migration_2016_17', ' births_2019_20', ' erp_2012',\n",
       "       ' erp_2011', ' erp_2010', ' internal_departures_2019_20', ' erp_2016',\n",
       "       ' deaths_2020_21', ' erp_2015', ' erp_2014', ' erp_2013',\n",
       "       ' internal_departures_2020_21', ' erp_change_number_2020_21',\n",
       "       ' internal_arrivals_2019_20', ' overseas_arrivals_2018_19',\n",
       "       ' overseas_departures_2019_20', ' internal_departures_2017_18',\n",
       "       ' deaths_2019_20', ' state_code_2021', ' natural_increase_2016_17',\n",
       "       ' pop_density_2021_people_per_km2', ' net_overseas_migration_2020_21',\n",
       "       ' overseas_departures_2016_17', ' primaryindex', ' erp_2001',\n",
       "       ' erp_2003', ' erp_2002', ' erp_2005', ' erp_2004',\n",
       "       ' internal_arrivals_2020_21', ' internal_arrivals_2018_19',\n",
       "       ' net_overseas_migration_2017_18', ' natural_increase_2019_20',\n",
       "       ' births_2018_19'],\n",
       "      dtype='object')"
      ]
     },
     "execution_count": 77,
     "metadata": {},
     "output_type": "execute_result"
    }
   ],
   "source": [
    "response.columns"
   ]
  },
  {
   "cell_type": "markdown",
   "metadata": {},
   "source": [
    "Here, despite the wide range of information, we only need the estimated population data (erp_YYYY) for our model. Further, notice the random spacing before each column name, asides from the first."
   ]
  },
  {
   "cell_type": "code",
   "execution_count": 78,
   "metadata": {},
   "outputs": [],
   "source": [
    "# Remove spacing from column names\n",
    "\n",
    "response.columns = response.columns.str.replace(' ', '')"
   ]
  },
  {
   "cell_type": "code",
   "execution_count": 79,
   "metadata": {},
   "outputs": [],
   "source": [
    "# Get all key columns for our response dataset. The years range from 2001 to 2021, inclusive of start & end. \n",
    "\n",
    "KEY_RESPONSE_COLUMNS = ['lga_name_2021']\n",
    "\n",
    "for i in range(2001, 2022):\n",
    "    key_column = f\"erp_{i}\"\n",
    "    KEY_RESPONSE_COLUMNS.append(key_column)"
   ]
  },
  {
   "cell_type": "code",
   "execution_count": 80,
   "metadata": {},
   "outputs": [
    {
     "data": {
      "text/html": [
       "<div>\n",
       "<style scoped>\n",
       "    .dataframe tbody tr th:only-of-type {\n",
       "        vertical-align: middle;\n",
       "    }\n",
       "\n",
       "    .dataframe tbody tr th {\n",
       "        vertical-align: top;\n",
       "    }\n",
       "\n",
       "    .dataframe thead th {\n",
       "        text-align: right;\n",
       "    }\n",
       "</style>\n",
       "<table border=\"1\" class=\"dataframe\">\n",
       "  <thead>\n",
       "    <tr style=\"text-align: right;\">\n",
       "      <th></th>\n",
       "      <th>lga_name_2021</th>\n",
       "      <th>erp_2001</th>\n",
       "      <th>erp_2002</th>\n",
       "      <th>erp_2003</th>\n",
       "      <th>erp_2004</th>\n",
       "      <th>erp_2005</th>\n",
       "      <th>erp_2006</th>\n",
       "      <th>erp_2007</th>\n",
       "      <th>erp_2008</th>\n",
       "      <th>erp_2009</th>\n",
       "      <th>...</th>\n",
       "      <th>erp_2012</th>\n",
       "      <th>erp_2013</th>\n",
       "      <th>erp_2014</th>\n",
       "      <th>erp_2015</th>\n",
       "      <th>erp_2016</th>\n",
       "      <th>erp_2017</th>\n",
       "      <th>erp_2018</th>\n",
       "      <th>erp_2019</th>\n",
       "      <th>erp_2020</th>\n",
       "      <th>erp_2021</th>\n",
       "    </tr>\n",
       "  </thead>\n",
       "  <tbody>\n",
       "    <tr>\n",
       "      <th>0</th>\n",
       "      <td>Banyule</td>\n",
       "      <td>117967</td>\n",
       "      <td>117559</td>\n",
       "      <td>117313</td>\n",
       "      <td>116661</td>\n",
       "      <td>117149</td>\n",
       "      <td>117963</td>\n",
       "      <td>119362</td>\n",
       "      <td>120580</td>\n",
       "      <td>122248</td>\n",
       "      <td>...</td>\n",
       "      <td>123584</td>\n",
       "      <td>124314</td>\n",
       "      <td>125107</td>\n",
       "      <td>126088</td>\n",
       "      <td>127447</td>\n",
       "      <td>129115</td>\n",
       "      <td>130250</td>\n",
       "      <td>131640</td>\n",
       "      <td>131895</td>\n",
       "      <td>129387</td>\n",
       "    </tr>\n",
       "    <tr>\n",
       "      <th>1</th>\n",
       "      <td>Bayside (Vic.)</td>\n",
       "      <td>88262</td>\n",
       "      <td>88717</td>\n",
       "      <td>89088</td>\n",
       "      <td>89394</td>\n",
       "      <td>89873</td>\n",
       "      <td>90807</td>\n",
       "      <td>92041</td>\n",
       "      <td>93535</td>\n",
       "      <td>94850</td>\n",
       "      <td>...</td>\n",
       "      <td>96971</td>\n",
       "      <td>98252</td>\n",
       "      <td>99797</td>\n",
       "      <td>101268</td>\n",
       "      <td>102912</td>\n",
       "      <td>104282</td>\n",
       "      <td>105745</td>\n",
       "      <td>106856</td>\n",
       "      <td>107516</td>\n",
       "      <td>105580</td>\n",
       "    </tr>\n",
       "    <tr>\n",
       "      <th>2</th>\n",
       "      <td>Boroondara</td>\n",
       "      <td>156246</td>\n",
       "      <td>156886</td>\n",
       "      <td>157298</td>\n",
       "      <td>157885</td>\n",
       "      <td>158727</td>\n",
       "      <td>159605</td>\n",
       "      <td>161308</td>\n",
       "      <td>163408</td>\n",
       "      <td>165284</td>\n",
       "      <td>...</td>\n",
       "      <td>168483</td>\n",
       "      <td>170485</td>\n",
       "      <td>172660</td>\n",
       "      <td>174753</td>\n",
       "      <td>177276</td>\n",
       "      <td>179677</td>\n",
       "      <td>181376</td>\n",
       "      <td>183197</td>\n",
       "      <td>182974</td>\n",
       "      <td>176632</td>\n",
       "    </tr>\n",
       "    <tr>\n",
       "      <th>3</th>\n",
       "      <td>Darebin</td>\n",
       "      <td>127067</td>\n",
       "      <td>127359</td>\n",
       "      <td>127711</td>\n",
       "      <td>128735</td>\n",
       "      <td>130298</td>\n",
       "      <td>132299</td>\n",
       "      <td>134748</td>\n",
       "      <td>137525</td>\n",
       "      <td>140289</td>\n",
       "      <td>...</td>\n",
       "      <td>144986</td>\n",
       "      <td>147272</td>\n",
       "      <td>149511</td>\n",
       "      <td>151974</td>\n",
       "      <td>155126</td>\n",
       "      <td>158751</td>\n",
       "      <td>161653</td>\n",
       "      <td>164224</td>\n",
       "      <td>166356</td>\n",
       "      <td>162501</td>\n",
       "    </tr>\n",
       "    <tr>\n",
       "      <th>4</th>\n",
       "      <td>Glen Eira</td>\n",
       "      <td>122346</td>\n",
       "      <td>123197</td>\n",
       "      <td>123816</td>\n",
       "      <td>125037</td>\n",
       "      <td>126485</td>\n",
       "      <td>128474</td>\n",
       "      <td>130524</td>\n",
       "      <td>132900</td>\n",
       "      <td>135414</td>\n",
       "      <td>...</td>\n",
       "      <td>139116</td>\n",
       "      <td>141260</td>\n",
       "      <td>143694</td>\n",
       "      <td>145924</td>\n",
       "      <td>148583</td>\n",
       "      <td>151457</td>\n",
       "      <td>153920</td>\n",
       "      <td>156535</td>\n",
       "      <td>158149</td>\n",
       "      <td>155123</td>\n",
       "    </tr>\n",
       "    <tr>\n",
       "      <th>5</th>\n",
       "      <td>Hobsons Bay</td>\n",
       "      <td>82854</td>\n",
       "      <td>83124</td>\n",
       "      <td>83107</td>\n",
       "      <td>82668</td>\n",
       "      <td>82990</td>\n",
       "      <td>83906</td>\n",
       "      <td>84819</td>\n",
       "      <td>85513</td>\n",
       "      <td>86767</td>\n",
       "      <td>...</td>\n",
       "      <td>88339</td>\n",
       "      <td>89188</td>\n",
       "      <td>90417</td>\n",
       "      <td>91674</td>\n",
       "      <td>93445</td>\n",
       "      <td>95071</td>\n",
       "      <td>96481</td>\n",
       "      <td>97765</td>\n",
       "      <td>98146</td>\n",
       "      <td>96317</td>\n",
       "    </tr>\n",
       "    <tr>\n",
       "      <th>6</th>\n",
       "      <td>Maribyrnong</td>\n",
       "      <td>60848</td>\n",
       "      <td>61557</td>\n",
       "      <td>62516</td>\n",
       "      <td>63168</td>\n",
       "      <td>64137</td>\n",
       "      <td>65518</td>\n",
       "      <td>67666</td>\n",
       "      <td>69902</td>\n",
       "      <td>71872</td>\n",
       "      <td>...</td>\n",
       "      <td>77179</td>\n",
       "      <td>79782</td>\n",
       "      <td>82463</td>\n",
       "      <td>84783</td>\n",
       "      <td>86942</td>\n",
       "      <td>89362</td>\n",
       "      <td>91413</td>\n",
       "      <td>93482</td>\n",
       "      <td>94928</td>\n",
       "      <td>93467</td>\n",
       "    </tr>\n",
       "    <tr>\n",
       "      <th>7</th>\n",
       "      <td>Melbourne</td>\n",
       "      <td>55398</td>\n",
       "      <td>60415</td>\n",
       "      <td>65954</td>\n",
       "      <td>71425</td>\n",
       "      <td>76034</td>\n",
       "      <td>80154</td>\n",
       "      <td>85366</td>\n",
       "      <td>89937</td>\n",
       "      <td>94247</td>\n",
       "      <td>...</td>\n",
       "      <td>107578</td>\n",
       "      <td>118711</td>\n",
       "      <td>127975</td>\n",
       "      <td>136872</td>\n",
       "      <td>146096</td>\n",
       "      <td>159141</td>\n",
       "      <td>170317</td>\n",
       "      <td>178994</td>\n",
       "      <td>183628</td>\n",
       "      <td>169860</td>\n",
       "    </tr>\n",
       "    <tr>\n",
       "      <th>8</th>\n",
       "      <td>Moonee Valley</td>\n",
       "      <td>104793</td>\n",
       "      <td>104856</td>\n",
       "      <td>104629</td>\n",
       "      <td>104632</td>\n",
       "      <td>105059</td>\n",
       "      <td>105717</td>\n",
       "      <td>106716</td>\n",
       "      <td>108417</td>\n",
       "      <td>110367</td>\n",
       "      <td>...</td>\n",
       "      <td>113673</td>\n",
       "      <td>115464</td>\n",
       "      <td>117763</td>\n",
       "      <td>120231</td>\n",
       "      <td>122871</td>\n",
       "      <td>125411</td>\n",
       "      <td>127906</td>\n",
       "      <td>130313</td>\n",
       "      <td>131702</td>\n",
       "      <td>129379</td>\n",
       "    </tr>\n",
       "    <tr>\n",
       "      <th>9</th>\n",
       "      <td>Moreland</td>\n",
       "      <td>135540</td>\n",
       "      <td>136156</td>\n",
       "      <td>136630</td>\n",
       "      <td>137642</td>\n",
       "      <td>138963</td>\n",
       "      <td>140872</td>\n",
       "      <td>143694</td>\n",
       "      <td>146450</td>\n",
       "      <td>150114</td>\n",
       "      <td>...</td>\n",
       "      <td>156967</td>\n",
       "      <td>160282</td>\n",
       "      <td>164099</td>\n",
       "      <td>167870</td>\n",
       "      <td>172294</td>\n",
       "      <td>176974</td>\n",
       "      <td>181780</td>\n",
       "      <td>185811</td>\n",
       "      <td>188660</td>\n",
       "      <td>184707</td>\n",
       "    </tr>\n",
       "    <tr>\n",
       "      <th>10</th>\n",
       "      <td>Port Phillip</td>\n",
       "      <td>80054</td>\n",
       "      <td>82220</td>\n",
       "      <td>84170</td>\n",
       "      <td>86017</td>\n",
       "      <td>87831</td>\n",
       "      <td>89641</td>\n",
       "      <td>91490</td>\n",
       "      <td>93174</td>\n",
       "      <td>95272</td>\n",
       "      <td>...</td>\n",
       "      <td>99893</td>\n",
       "      <td>102156</td>\n",
       "      <td>104451</td>\n",
       "      <td>106381</td>\n",
       "      <td>108627</td>\n",
       "      <td>110656</td>\n",
       "      <td>113265</td>\n",
       "      <td>115620</td>\n",
       "      <td>116417</td>\n",
       "      <td>112092</td>\n",
       "    </tr>\n",
       "    <tr>\n",
       "      <th>11</th>\n",
       "      <td>Stonnington</td>\n",
       "      <td>89424</td>\n",
       "      <td>90370</td>\n",
       "      <td>91034</td>\n",
       "      <td>92061</td>\n",
       "      <td>92893</td>\n",
       "      <td>94056</td>\n",
       "      <td>95228</td>\n",
       "      <td>96841</td>\n",
       "      <td>98186</td>\n",
       "      <td>...</td>\n",
       "      <td>101410</td>\n",
       "      <td>103487</td>\n",
       "      <td>105894</td>\n",
       "      <td>108028</td>\n",
       "      <td>111003</td>\n",
       "      <td>113772</td>\n",
       "      <td>116281</td>\n",
       "      <td>117776</td>\n",
       "      <td>118567</td>\n",
       "      <td>114340</td>\n",
       "    </tr>\n",
       "    <tr>\n",
       "      <th>12</th>\n",
       "      <td>Yarra</td>\n",
       "      <td>68522</td>\n",
       "      <td>69415</td>\n",
       "      <td>70115</td>\n",
       "      <td>70811</td>\n",
       "      <td>71719</td>\n",
       "      <td>72808</td>\n",
       "      <td>74289</td>\n",
       "      <td>75868</td>\n",
       "      <td>77311</td>\n",
       "      <td>...</td>\n",
       "      <td>81268</td>\n",
       "      <td>83962</td>\n",
       "      <td>87228</td>\n",
       "      <td>89923</td>\n",
       "      <td>92894</td>\n",
       "      <td>95994</td>\n",
       "      <td>98567</td>\n",
       "      <td>101516</td>\n",
       "      <td>103076</td>\n",
       "      <td>99622</td>\n",
       "    </tr>\n",
       "    <tr>\n",
       "      <th>13</th>\n",
       "      <td>Unincorporated Vic</td>\n",
       "      <td>451</td>\n",
       "      <td>516</td>\n",
       "      <td>578</td>\n",
       "      <td>638</td>\n",
       "      <td>697</td>\n",
       "      <td>757</td>\n",
       "      <td>741</td>\n",
       "      <td>745</td>\n",
       "      <td>749</td>\n",
       "      <td>...</td>\n",
       "      <td>797</td>\n",
       "      <td>808</td>\n",
       "      <td>835</td>\n",
       "      <td>862</td>\n",
       "      <td>892</td>\n",
       "      <td>899</td>\n",
       "      <td>889</td>\n",
       "      <td>881</td>\n",
       "      <td>894</td>\n",
       "      <td>910</td>\n",
       "    </tr>\n",
       "  </tbody>\n",
       "</table>\n",
       "<p>14 rows × 22 columns</p>\n",
       "</div>"
      ],
      "text/plain": [
       "         lga_name_2021  erp_2001  erp_2002  erp_2003  erp_2004  erp_2005  \\\n",
       "0              Banyule    117967    117559    117313    116661    117149   \n",
       "1       Bayside (Vic.)     88262     88717     89088     89394     89873   \n",
       "2           Boroondara    156246    156886    157298    157885    158727   \n",
       "3              Darebin    127067    127359    127711    128735    130298   \n",
       "4            Glen Eira    122346    123197    123816    125037    126485   \n",
       "5          Hobsons Bay     82854     83124     83107     82668     82990   \n",
       "6          Maribyrnong     60848     61557     62516     63168     64137   \n",
       "7            Melbourne     55398     60415     65954     71425     76034   \n",
       "8        Moonee Valley    104793    104856    104629    104632    105059   \n",
       "9             Moreland    135540    136156    136630    137642    138963   \n",
       "10        Port Phillip     80054     82220     84170     86017     87831   \n",
       "11         Stonnington     89424     90370     91034     92061     92893   \n",
       "12               Yarra     68522     69415     70115     70811     71719   \n",
       "13  Unincorporated Vic       451       516       578       638       697   \n",
       "\n",
       "    erp_2006  erp_2007  erp_2008  erp_2009  ...  erp_2012  erp_2013  erp_2014  \\\n",
       "0     117963    119362    120580    122248  ...    123584    124314    125107   \n",
       "1      90807     92041     93535     94850  ...     96971     98252     99797   \n",
       "2     159605    161308    163408    165284  ...    168483    170485    172660   \n",
       "3     132299    134748    137525    140289  ...    144986    147272    149511   \n",
       "4     128474    130524    132900    135414  ...    139116    141260    143694   \n",
       "5      83906     84819     85513     86767  ...     88339     89188     90417   \n",
       "6      65518     67666     69902     71872  ...     77179     79782     82463   \n",
       "7      80154     85366     89937     94247  ...    107578    118711    127975   \n",
       "8     105717    106716    108417    110367  ...    113673    115464    117763   \n",
       "9     140872    143694    146450    150114  ...    156967    160282    164099   \n",
       "10     89641     91490     93174     95272  ...     99893    102156    104451   \n",
       "11     94056     95228     96841     98186  ...    101410    103487    105894   \n",
       "12     72808     74289     75868     77311  ...     81268     83962     87228   \n",
       "13       757       741       745       749  ...       797       808       835   \n",
       "\n",
       "    erp_2015  erp_2016  erp_2017  erp_2018  erp_2019  erp_2020  erp_2021  \n",
       "0     126088    127447    129115    130250    131640    131895    129387  \n",
       "1     101268    102912    104282    105745    106856    107516    105580  \n",
       "2     174753    177276    179677    181376    183197    182974    176632  \n",
       "3     151974    155126    158751    161653    164224    166356    162501  \n",
       "4     145924    148583    151457    153920    156535    158149    155123  \n",
       "5      91674     93445     95071     96481     97765     98146     96317  \n",
       "6      84783     86942     89362     91413     93482     94928     93467  \n",
       "7     136872    146096    159141    170317    178994    183628    169860  \n",
       "8     120231    122871    125411    127906    130313    131702    129379  \n",
       "9     167870    172294    176974    181780    185811    188660    184707  \n",
       "10    106381    108627    110656    113265    115620    116417    112092  \n",
       "11    108028    111003    113772    116281    117776    118567    114340  \n",
       "12     89923     92894     95994     98567    101516    103076     99622  \n",
       "13       862       892       899       889       881       894       910  \n",
       "\n",
       "[14 rows x 22 columns]"
      ]
     },
     "execution_count": 80,
     "metadata": {},
     "output_type": "execute_result"
    }
   ],
   "source": [
    "response[KEY_RESPONSE_COLUMNS]"
   ]
  },
  {
   "cell_type": "markdown",
   "metadata": {},
   "source": [
    "Now, we separate this dataframe into a format we're able to use"
   ]
  },
  {
   "cell_type": "code",
   "execution_count": 81,
   "metadata": {},
   "outputs": [],
   "source": [
    "# Pick out row 7 to turn into dataframe\n",
    "\n",
    "response_clean = pd.DataFrame(response[KEY_RESPONSE_COLUMNS].iloc[7]).reset_index()"
   ]
  },
  {
   "cell_type": "code",
   "execution_count": 82,
   "metadata": {},
   "outputs": [],
   "source": [
    "# Rename and clean columns\n",
    "\n",
    "response_clean = response_clean.rename(columns={'index': 'year', 7: 'population'})\n",
    "response_clean = response_clean.iloc[1:] # Remove unnceessary row\n",
    "response_clean['year'] = response_clean['year'].str.removeprefix('erp_')\n",
    "response_clean['year'] = response_clean['year'].astype(int)"
   ]
  },
  {
   "cell_type": "markdown",
   "metadata": {},
   "source": [
    "Now we move onto our predictor dataset to have a quick look"
   ]
  },
  {
   "cell_type": "code",
   "execution_count": 83,
   "metadata": {},
   "outputs": [
    {
     "data": {
      "text/plain": [
       "63568"
      ]
     },
     "execution_count": 83,
     "metadata": {},
     "output_type": "execute_result"
    }
   ],
   "source": [
    "len(predictor)"
   ]
  },
  {
   "cell_type": "code",
   "execution_count": 84,
   "metadata": {},
   "outputs": [
    {
     "data": {
      "text/plain": [
       "Index(['council_ref', 'permit_number', 'issue_date', 'address',\n",
       "       'desc_of_works', 'estimated_cost_of_works', 'rbs_number',\n",
       "       'commence_by_date', 'completed_by_date', 'permit_certificate_type',\n",
       "       'year'],\n",
       "      dtype='object')"
      ]
     },
     "execution_count": 84,
     "metadata": {},
     "output_type": "execute_result"
    }
   ],
   "source": [
    "predictor.columns"
   ]
  },
  {
   "cell_type": "markdown",
   "metadata": {},
   "source": [
    "Note that this dataset has gotten an initial clean, removing records where:\n",
    "- issue_date > completed_by_date\n",
    "- Year is in the future\n",
    "\n",
    "However, there seems to be records of duplicate permits (same coucil_ref). We observe more closely"
   ]
  },
  {
   "cell_type": "code",
   "execution_count": 85,
   "metadata": {},
   "outputs": [
    {
     "data": {
      "text/html": [
       "<div>\n",
       "<style scoped>\n",
       "    .dataframe tbody tr th:only-of-type {\n",
       "        vertical-align: middle;\n",
       "    }\n",
       "\n",
       "    .dataframe tbody tr th {\n",
       "        vertical-align: top;\n",
       "    }\n",
       "\n",
       "    .dataframe thead th {\n",
       "        text-align: right;\n",
       "    }\n",
       "</style>\n",
       "<table border=\"1\" class=\"dataframe\">\n",
       "  <thead>\n",
       "    <tr style=\"text-align: right;\">\n",
       "      <th></th>\n",
       "      <th>council_ref</th>\n",
       "      <th>count</th>\n",
       "    </tr>\n",
       "  </thead>\n",
       "  <tbody>\n",
       "    <tr>\n",
       "      <th>0</th>\n",
       "      <td>BP-2019-1273</td>\n",
       "      <td>66</td>\n",
       "    </tr>\n",
       "    <tr>\n",
       "      <th>1</th>\n",
       "      <td>BP-2020-1544</td>\n",
       "      <td>56</td>\n",
       "    </tr>\n",
       "    <tr>\n",
       "      <th>2</th>\n",
       "      <td>BP-2020-460/4</td>\n",
       "      <td>42</td>\n",
       "    </tr>\n",
       "    <tr>\n",
       "      <th>3</th>\n",
       "      <td>BP-2018-2091</td>\n",
       "      <td>36</td>\n",
       "    </tr>\n",
       "    <tr>\n",
       "      <th>4</th>\n",
       "      <td>BP-2019-1273/1</td>\n",
       "      <td>33</td>\n",
       "    </tr>\n",
       "    <tr>\n",
       "      <th>...</th>\n",
       "      <td>...</td>\n",
       "      <td>...</td>\n",
       "    </tr>\n",
       "    <tr>\n",
       "      <th>19315</th>\n",
       "      <td>BP-2016-2542</td>\n",
       "      <td>2</td>\n",
       "    </tr>\n",
       "    <tr>\n",
       "      <th>19316</th>\n",
       "      <td>BP-2016-2392/8</td>\n",
       "      <td>2</td>\n",
       "    </tr>\n",
       "    <tr>\n",
       "      <th>19317</th>\n",
       "      <td>BP-2016-242</td>\n",
       "      <td>2</td>\n",
       "    </tr>\n",
       "    <tr>\n",
       "      <th>19318</th>\n",
       "      <td>BP-2023-1058</td>\n",
       "      <td>2</td>\n",
       "    </tr>\n",
       "    <tr>\n",
       "      <th>19319</th>\n",
       "      <td>BP-2016-2421</td>\n",
       "      <td>2</td>\n",
       "    </tr>\n",
       "  </tbody>\n",
       "</table>\n",
       "<p>19320 rows × 2 columns</p>\n",
       "</div>"
      ],
      "text/plain": [
       "          council_ref  count\n",
       "0        BP-2019-1273     66\n",
       "1        BP-2020-1544     56\n",
       "2       BP-2020-460/4     42\n",
       "3        BP-2018-2091     36\n",
       "4      BP-2019-1273/1     33\n",
       "...               ...    ...\n",
       "19315    BP-2016-2542      2\n",
       "19316  BP-2016-2392/8      2\n",
       "19317     BP-2016-242      2\n",
       "19318    BP-2023-1058      2\n",
       "19319    BP-2016-2421      2\n",
       "\n",
       "[19320 rows x 2 columns]"
      ]
     },
     "execution_count": 85,
     "metadata": {},
     "output_type": "execute_result"
    }
   ],
   "source": [
    "predictor_count = predictor.groupby(['council_ref'])['permit_number'].count().sort_values(ascending=False).reset_index(name='count')\n",
    "predictor_count[predictor_count['count'] > 1]"
   ]
  },
  {
   "cell_type": "markdown",
   "metadata": {},
   "source": [
    "Here, observe a few highest values and see why it's been duplicated"
   ]
  },
  {
   "cell_type": "code",
   "execution_count": 86,
   "metadata": {},
   "outputs": [
    {
     "data": {
      "text/html": [
       "<div>\n",
       "<style scoped>\n",
       "    .dataframe tbody tr th:only-of-type {\n",
       "        vertical-align: middle;\n",
       "    }\n",
       "\n",
       "    .dataframe tbody tr th {\n",
       "        vertical-align: top;\n",
       "    }\n",
       "\n",
       "    .dataframe thead th {\n",
       "        text-align: right;\n",
       "    }\n",
       "</style>\n",
       "<table border=\"1\" class=\"dataframe\">\n",
       "  <thead>\n",
       "    <tr style=\"text-align: right;\">\n",
       "      <th></th>\n",
       "      <th>council_ref</th>\n",
       "      <th>permit_number</th>\n",
       "      <th>issue_date</th>\n",
       "      <th>address</th>\n",
       "      <th>desc_of_works</th>\n",
       "      <th>estimated_cost_of_works</th>\n",
       "      <th>rbs_number</th>\n",
       "      <th>commence_by_date</th>\n",
       "      <th>completed_by_date</th>\n",
       "      <th>permit_certificate_type</th>\n",
       "      <th>year</th>\n",
       "    </tr>\n",
       "  </thead>\n",
       "  <tbody>\n",
       "    <tr>\n",
       "      <th>2993</th>\n",
       "      <td>BP-2019-1273</td>\n",
       "      <td>1585/20190205/1A</td>\n",
       "      <td>1559001600000</td>\n",
       "      <td>Part Level 5 276 Flinders Street MELBOURNE VIC...</td>\n",
       "      <td>Proposed Fitout of Levels 5-9 for the Purpose ...</td>\n",
       "      <td>2922588</td>\n",
       "      <td>None</td>\n",
       "      <td>2020-05-28</td>\n",
       "      <td>2022-05-28</td>\n",
       "      <td>Building Permit</td>\n",
       "      <td>2019</td>\n",
       "    </tr>\n",
       "    <tr>\n",
       "      <th>2994</th>\n",
       "      <td>BP-2019-1273</td>\n",
       "      <td>1585/20190205/1A</td>\n",
       "      <td>1559001600000</td>\n",
       "      <td>Level 9 276 Flinders Street MELBOURNE VIC 3000</td>\n",
       "      <td>Proposed Fitout of Levels 5-9 for the Purpose ...</td>\n",
       "      <td>2922588</td>\n",
       "      <td>None</td>\n",
       "      <td>2020-05-28</td>\n",
       "      <td>2022-05-28</td>\n",
       "      <td>Building Permit</td>\n",
       "      <td>2019</td>\n",
       "    </tr>\n",
       "    <tr>\n",
       "      <th>2995</th>\n",
       "      <td>BP-2019-1273</td>\n",
       "      <td>1585/20190205/1A</td>\n",
       "      <td>1559001600000</td>\n",
       "      <td>Level 6 276 Flinders Street MELBOURNE VIC 3000</td>\n",
       "      <td>Proposed Fitout of Levels 5-9 for the Purpose ...</td>\n",
       "      <td>2922588</td>\n",
       "      <td>None</td>\n",
       "      <td>2020-05-28</td>\n",
       "      <td>2022-05-28</td>\n",
       "      <td>Building Permit</td>\n",
       "      <td>2019</td>\n",
       "    </tr>\n",
       "    <tr>\n",
       "      <th>2996</th>\n",
       "      <td>BP-2019-1273</td>\n",
       "      <td>1585/20190205/1A</td>\n",
       "      <td>1559001600000</td>\n",
       "      <td>Part Level 9 276 Flinders Street MELBOURNE VIC...</td>\n",
       "      <td>Proposed Fitout of Levels 5-9 for the Purpose ...</td>\n",
       "      <td>2922588</td>\n",
       "      <td>None</td>\n",
       "      <td>2020-05-28</td>\n",
       "      <td>2022-05-28</td>\n",
       "      <td>Building Permit</td>\n",
       "      <td>2019</td>\n",
       "    </tr>\n",
       "    <tr>\n",
       "      <th>2997</th>\n",
       "      <td>BP-2019-1273</td>\n",
       "      <td>1585/20190205/1A</td>\n",
       "      <td>1569888000000</td>\n",
       "      <td>Part Level 8 276 Flinders Street MELBOURNE VIC...</td>\n",
       "      <td>Proposed Fitout of Levels 5-9 for the Purpose ...</td>\n",
       "      <td>2922588</td>\n",
       "      <td>None</td>\n",
       "      <td>2020-05-28</td>\n",
       "      <td>2022-05-28</td>\n",
       "      <td>Certificate of Final Inspection</td>\n",
       "      <td>2019</td>\n",
       "    </tr>\n",
       "    <tr>\n",
       "      <th>...</th>\n",
       "      <td>...</td>\n",
       "      <td>...</td>\n",
       "      <td>...</td>\n",
       "      <td>...</td>\n",
       "      <td>...</td>\n",
       "      <td>...</td>\n",
       "      <td>...</td>\n",
       "      <td>...</td>\n",
       "      <td>...</td>\n",
       "      <td>...</td>\n",
       "      <td>...</td>\n",
       "    </tr>\n",
       "    <tr>\n",
       "      <th>111939</th>\n",
       "      <td>BP-2019-1273</td>\n",
       "      <td>1585/20190205/1A</td>\n",
       "      <td>1563148800000</td>\n",
       "      <td>Part Level 7 276 Flinders Street MELBOURNE VIC...</td>\n",
       "      <td>Proposed Fitout of Levels 5-9 for the Purpose ...</td>\n",
       "      <td>2922588</td>\n",
       "      <td>None</td>\n",
       "      <td>2020-05-28</td>\n",
       "      <td>2022-05-28</td>\n",
       "      <td>Certificate of Final Inspection</td>\n",
       "      <td>2019</td>\n",
       "    </tr>\n",
       "    <tr>\n",
       "      <th>111940</th>\n",
       "      <td>BP-2019-1273</td>\n",
       "      <td>1585/20190205/0</td>\n",
       "      <td>1559001600000</td>\n",
       "      <td>Part Level 8 276 Flinders Street MELBOURNE VIC...</td>\n",
       "      <td>Proposed Fitout of Levels 5-9 for the Purpose ...</td>\n",
       "      <td>2922588</td>\n",
       "      <td>None</td>\n",
       "      <td>2020-05-28</td>\n",
       "      <td>2022-05-28</td>\n",
       "      <td>Building Permit</td>\n",
       "      <td>2019</td>\n",
       "    </tr>\n",
       "    <tr>\n",
       "      <th>111941</th>\n",
       "      <td>BP-2019-1273</td>\n",
       "      <td>1585/20190205/1A</td>\n",
       "      <td>1563148800000</td>\n",
       "      <td>Level 8 276 Flinders Street MELBOURNE VIC 3000</td>\n",
       "      <td>Proposed Fitout of Levels 5-9 for the Purpose ...</td>\n",
       "      <td>2922588</td>\n",
       "      <td>None</td>\n",
       "      <td>2020-05-28</td>\n",
       "      <td>2022-05-28</td>\n",
       "      <td>Certificate of Final Inspection</td>\n",
       "      <td>2019</td>\n",
       "    </tr>\n",
       "    <tr>\n",
       "      <th>111942</th>\n",
       "      <td>BP-2019-1273</td>\n",
       "      <td>1585/20190205/1A</td>\n",
       "      <td>1559001600000</td>\n",
       "      <td>Part Level 8 276 Flinders Street MELBOURNE VIC...</td>\n",
       "      <td>Proposed Fitout of Levels 5-9 for the Purpose ...</td>\n",
       "      <td>2922588</td>\n",
       "      <td>None</td>\n",
       "      <td>2020-05-28</td>\n",
       "      <td>2022-05-28</td>\n",
       "      <td>Building Permit</td>\n",
       "      <td>2019</td>\n",
       "    </tr>\n",
       "    <tr>\n",
       "      <th>111943</th>\n",
       "      <td>BP-2019-1273</td>\n",
       "      <td>1585/20190205/0</td>\n",
       "      <td>1563148800000</td>\n",
       "      <td>Part Level 5 276 Flinders Street MELBOURNE VIC...</td>\n",
       "      <td>Proposed Fitout of Levels 5-9 for the Purpose ...</td>\n",
       "      <td>2922588</td>\n",
       "      <td>None</td>\n",
       "      <td>2020-05-28</td>\n",
       "      <td>2022-05-28</td>\n",
       "      <td>Certificate of Final Inspection</td>\n",
       "      <td>2019</td>\n",
       "    </tr>\n",
       "  </tbody>\n",
       "</table>\n",
       "<p>66 rows × 11 columns</p>\n",
       "</div>"
      ],
      "text/plain": [
       "         council_ref     permit_number     issue_date  \\\n",
       "2993    BP-2019-1273  1585/20190205/1A  1559001600000   \n",
       "2994    BP-2019-1273  1585/20190205/1A  1559001600000   \n",
       "2995    BP-2019-1273  1585/20190205/1A  1559001600000   \n",
       "2996    BP-2019-1273  1585/20190205/1A  1559001600000   \n",
       "2997    BP-2019-1273  1585/20190205/1A  1569888000000   \n",
       "...              ...               ...            ...   \n",
       "111939  BP-2019-1273  1585/20190205/1A  1563148800000   \n",
       "111940  BP-2019-1273   1585/20190205/0  1559001600000   \n",
       "111941  BP-2019-1273  1585/20190205/1A  1563148800000   \n",
       "111942  BP-2019-1273  1585/20190205/1A  1559001600000   \n",
       "111943  BP-2019-1273   1585/20190205/0  1563148800000   \n",
       "\n",
       "                                                  address  \\\n",
       "2993    Part Level 5 276 Flinders Street MELBOURNE VIC...   \n",
       "2994       Level 9 276 Flinders Street MELBOURNE VIC 3000   \n",
       "2995       Level 6 276 Flinders Street MELBOURNE VIC 3000   \n",
       "2996    Part Level 9 276 Flinders Street MELBOURNE VIC...   \n",
       "2997    Part Level 8 276 Flinders Street MELBOURNE VIC...   \n",
       "...                                                   ...   \n",
       "111939  Part Level 7 276 Flinders Street MELBOURNE VIC...   \n",
       "111940  Part Level 8 276 Flinders Street MELBOURNE VIC...   \n",
       "111941     Level 8 276 Flinders Street MELBOURNE VIC 3000   \n",
       "111942  Part Level 8 276 Flinders Street MELBOURNE VIC...   \n",
       "111943  Part Level 5 276 Flinders Street MELBOURNE VIC...   \n",
       "\n",
       "                                            desc_of_works  \\\n",
       "2993    Proposed Fitout of Levels 5-9 for the Purpose ...   \n",
       "2994    Proposed Fitout of Levels 5-9 for the Purpose ...   \n",
       "2995    Proposed Fitout of Levels 5-9 for the Purpose ...   \n",
       "2996    Proposed Fitout of Levels 5-9 for the Purpose ...   \n",
       "2997    Proposed Fitout of Levels 5-9 for the Purpose ...   \n",
       "...                                                   ...   \n",
       "111939  Proposed Fitout of Levels 5-9 for the Purpose ...   \n",
       "111940  Proposed Fitout of Levels 5-9 for the Purpose ...   \n",
       "111941  Proposed Fitout of Levels 5-9 for the Purpose ...   \n",
       "111942  Proposed Fitout of Levels 5-9 for the Purpose ...   \n",
       "111943  Proposed Fitout of Levels 5-9 for the Purpose ...   \n",
       "\n",
       "        estimated_cost_of_works rbs_number commence_by_date completed_by_date  \\\n",
       "2993                    2922588       None       2020-05-28        2022-05-28   \n",
       "2994                    2922588       None       2020-05-28        2022-05-28   \n",
       "2995                    2922588       None       2020-05-28        2022-05-28   \n",
       "2996                    2922588       None       2020-05-28        2022-05-28   \n",
       "2997                    2922588       None       2020-05-28        2022-05-28   \n",
       "...                         ...        ...              ...               ...   \n",
       "111939                  2922588       None       2020-05-28        2022-05-28   \n",
       "111940                  2922588       None       2020-05-28        2022-05-28   \n",
       "111941                  2922588       None       2020-05-28        2022-05-28   \n",
       "111942                  2922588       None       2020-05-28        2022-05-28   \n",
       "111943                  2922588       None       2020-05-28        2022-05-28   \n",
       "\n",
       "                permit_certificate_type  year  \n",
       "2993                    Building Permit  2019  \n",
       "2994                    Building Permit  2019  \n",
       "2995                    Building Permit  2019  \n",
       "2996                    Building Permit  2019  \n",
       "2997    Certificate of Final Inspection  2019  \n",
       "...                                 ...   ...  \n",
       "111939  Certificate of Final Inspection  2019  \n",
       "111940                  Building Permit  2019  \n",
       "111941  Certificate of Final Inspection  2019  \n",
       "111942                  Building Permit  2019  \n",
       "111943  Certificate of Final Inspection  2019  \n",
       "\n",
       "[66 rows x 11 columns]"
      ]
     },
     "execution_count": 86,
     "metadata": {},
     "output_type": "execute_result"
    }
   ],
   "source": [
    "predictor[predictor['council_ref'] == 'BP-2019-1273']"
   ]
  },
  {
   "cell_type": "code",
   "execution_count": 87,
   "metadata": {},
   "outputs": [
    {
     "data": {
      "text/html": [
       "<div>\n",
       "<style scoped>\n",
       "    .dataframe tbody tr th:only-of-type {\n",
       "        vertical-align: middle;\n",
       "    }\n",
       "\n",
       "    .dataframe tbody tr th {\n",
       "        vertical-align: top;\n",
       "    }\n",
       "\n",
       "    .dataframe thead th {\n",
       "        text-align: right;\n",
       "    }\n",
       "</style>\n",
       "<table border=\"1\" class=\"dataframe\">\n",
       "  <thead>\n",
       "    <tr style=\"text-align: right;\">\n",
       "      <th></th>\n",
       "      <th>council_ref</th>\n",
       "      <th>permit_number</th>\n",
       "      <th>issue_date</th>\n",
       "      <th>address</th>\n",
       "      <th>desc_of_works</th>\n",
       "      <th>estimated_cost_of_works</th>\n",
       "      <th>rbs_number</th>\n",
       "      <th>commence_by_date</th>\n",
       "      <th>completed_by_date</th>\n",
       "      <th>permit_certificate_type</th>\n",
       "      <th>year</th>\n",
       "    </tr>\n",
       "  </thead>\n",
       "  <tbody>\n",
       "    <tr>\n",
       "      <th>31601</th>\n",
       "      <td>BP-2020-1544</td>\n",
       "      <td>7362369321433/A</td>\n",
       "      <td>1596499200000</td>\n",
       "      <td>Unit 2002 Level 20 38 Rose Lane MELBOURNE VIC ...</td>\n",
       "      <td>Lots 1909, 2002, 2009, 2102, 2104 2109, 2110, ...</td>\n",
       "      <td>487857</td>\n",
       "      <td>BS-15013</td>\n",
       "      <td>2021-08-04</td>\n",
       "      <td>2022-08-04</td>\n",
       "      <td>Building Permit</td>\n",
       "      <td>2020</td>\n",
       "    </tr>\n",
       "    <tr>\n",
       "      <th>31602</th>\n",
       "      <td>BP-2020-1544</td>\n",
       "      <td>7362369321433/A</td>\n",
       "      <td>1596499200000</td>\n",
       "      <td>Unit 2202 Level 22 38 Rose Lane MELBOURNE VIC ...</td>\n",
       "      <td>Lots 1909, 2002, 2009, 2102, 2104 2109, 2110, ...</td>\n",
       "      <td>487857</td>\n",
       "      <td>BS-15013</td>\n",
       "      <td>2021-08-04</td>\n",
       "      <td>2022-08-04</td>\n",
       "      <td>Building Permit</td>\n",
       "      <td>2020</td>\n",
       "    </tr>\n",
       "    <tr>\n",
       "      <th>31603</th>\n",
       "      <td>BP-2020-1544</td>\n",
       "      <td>7362369321433/A</td>\n",
       "      <td>1596499200000</td>\n",
       "      <td>Unit 2409 Level 24 38 Rose Lane MELBOURNE VIC ...</td>\n",
       "      <td>Lots 1909, 2002, 2009, 2102, 2104 2109, 2110, ...</td>\n",
       "      <td>487857</td>\n",
       "      <td>BS-15013</td>\n",
       "      <td>2021-08-04</td>\n",
       "      <td>2022-08-04</td>\n",
       "      <td>Building Permit</td>\n",
       "      <td>2020</td>\n",
       "    </tr>\n",
       "    <tr>\n",
       "      <th>31604</th>\n",
       "      <td>BP-2020-1544</td>\n",
       "      <td>58176/7362369321433/0</td>\n",
       "      <td>1613433600000</td>\n",
       "      <td>Unit 2104 Level 21 38 Rose Lane MELBOURNE VIC ...</td>\n",
       "      <td>Lots 1909, 2002, 2009, 2102, 2104 2109, 2110, ...</td>\n",
       "      <td>487857</td>\n",
       "      <td>BS-15013</td>\n",
       "      <td>2021-08-04</td>\n",
       "      <td>2022-08-04</td>\n",
       "      <td>Certificate of Final Inspection</td>\n",
       "      <td>2021</td>\n",
       "    </tr>\n",
       "    <tr>\n",
       "      <th>31605</th>\n",
       "      <td>BP-2020-1544</td>\n",
       "      <td>7362369321433/A</td>\n",
       "      <td>1613433600000</td>\n",
       "      <td>Unit 1909 Level 19 38 Rose Lane MELBOURNE VIC ...</td>\n",
       "      <td>Lots 1909, 2002, 2009, 2102, 2104 2109, 2110, ...</td>\n",
       "      <td>487857</td>\n",
       "      <td>BS-15013</td>\n",
       "      <td>2021-08-04</td>\n",
       "      <td>2022-08-04</td>\n",
       "      <td>Certificate of Final Inspection</td>\n",
       "      <td>2021</td>\n",
       "    </tr>\n",
       "    <tr>\n",
       "      <th>31606</th>\n",
       "      <td>BP-2020-1544</td>\n",
       "      <td>7362369321433/A</td>\n",
       "      <td>1613433600000</td>\n",
       "      <td>Unit 2002 Level 20 38 Rose Lane MELBOURNE VIC ...</td>\n",
       "      <td>Lots 1909, 2002, 2009, 2102, 2104 2109, 2110, ...</td>\n",
       "      <td>487857</td>\n",
       "      <td>BS-15013</td>\n",
       "      <td>2021-08-04</td>\n",
       "      <td>2022-08-04</td>\n",
       "      <td>Certificate of Final Inspection</td>\n",
       "      <td>2021</td>\n",
       "    </tr>\n",
       "    <tr>\n",
       "      <th>31607</th>\n",
       "      <td>BP-2020-1544</td>\n",
       "      <td>7362369321433/A</td>\n",
       "      <td>1613433600000</td>\n",
       "      <td>Unit 2609 Level 26 38 Rose Lane MELBOURNE VIC ...</td>\n",
       "      <td>Lots 1909, 2002, 2009, 2102, 2104 2109, 2110, ...</td>\n",
       "      <td>487857</td>\n",
       "      <td>BS-15013</td>\n",
       "      <td>2021-08-04</td>\n",
       "      <td>2022-08-04</td>\n",
       "      <td>Certificate of Final Inspection</td>\n",
       "      <td>2021</td>\n",
       "    </tr>\n",
       "    <tr>\n",
       "      <th>31608</th>\n",
       "      <td>BP-2020-1544</td>\n",
       "      <td>7362369321433/A</td>\n",
       "      <td>1613433600000</td>\n",
       "      <td>Unit 2202 Level 22 38 Rose Lane MELBOURNE VIC ...</td>\n",
       "      <td>Lots 1909, 2002, 2009, 2102, 2104 2109, 2110, ...</td>\n",
       "      <td>487857</td>\n",
       "      <td>BS-15013</td>\n",
       "      <td>2021-08-04</td>\n",
       "      <td>2022-08-04</td>\n",
       "      <td>Certificate of Final Inspection</td>\n",
       "      <td>2021</td>\n",
       "    </tr>\n",
       "    <tr>\n",
       "      <th>31609</th>\n",
       "      <td>BP-2020-1544</td>\n",
       "      <td>7362369321433/A</td>\n",
       "      <td>1613433600000</td>\n",
       "      <td>Unit 2104 Level 21 38 Rose Lane MELBOURNE VIC ...</td>\n",
       "      <td>Lots 1909, 2002, 2009, 2102, 2104 2109, 2110, ...</td>\n",
       "      <td>487857</td>\n",
       "      <td>BS-15013</td>\n",
       "      <td>2021-08-04</td>\n",
       "      <td>2022-08-04</td>\n",
       "      <td>Certificate of Final Inspection</td>\n",
       "      <td>2021</td>\n",
       "    </tr>\n",
       "    <tr>\n",
       "      <th>31610</th>\n",
       "      <td>BP-2020-1544</td>\n",
       "      <td>7362369321433/A</td>\n",
       "      <td>1613433600000</td>\n",
       "      <td>Unit 2102 Level 21 38 Rose Lane MELBOURNE VIC ...</td>\n",
       "      <td>Lots 1909, 2002, 2009, 2102, 2104 2109, 2110, ...</td>\n",
       "      <td>487857</td>\n",
       "      <td>BS-15013</td>\n",
       "      <td>2021-08-04</td>\n",
       "      <td>2022-08-04</td>\n",
       "      <td>Certificate of Final Inspection</td>\n",
       "      <td>2021</td>\n",
       "    </tr>\n",
       "    <tr>\n",
       "      <th>31611</th>\n",
       "      <td>BP-2020-1544</td>\n",
       "      <td>7362369321433/A</td>\n",
       "      <td>1613433600000</td>\n",
       "      <td>Unit 2409 Level 24 38 Rose Lane MELBOURNE VIC ...</td>\n",
       "      <td>Lots 1909, 2002, 2009, 2102, 2104 2109, 2110, ...</td>\n",
       "      <td>487857</td>\n",
       "      <td>BS-15013</td>\n",
       "      <td>2021-08-04</td>\n",
       "      <td>2022-08-04</td>\n",
       "      <td>Certificate of Final Inspection</td>\n",
       "      <td>2021</td>\n",
       "    </tr>\n",
       "    <tr>\n",
       "      <th>31612</th>\n",
       "      <td>BP-2020-1544</td>\n",
       "      <td>58176/7362369321433/0</td>\n",
       "      <td>1596499200000</td>\n",
       "      <td>20-40 Rose Lane MELBOURNE VIC 3000</td>\n",
       "      <td>Lots 1909, 2002, 2009, 2102, 2104 2109, 2110, ...</td>\n",
       "      <td>487857</td>\n",
       "      <td>BS-15013</td>\n",
       "      <td>2021-08-04</td>\n",
       "      <td>2022-08-04</td>\n",
       "      <td>Building Permit</td>\n",
       "      <td>2020</td>\n",
       "    </tr>\n",
       "    <tr>\n",
       "      <th>31613</th>\n",
       "      <td>BP-2020-1544</td>\n",
       "      <td>58176/7362369321433/0</td>\n",
       "      <td>1596499200000</td>\n",
       "      <td>Unit 2102 Level 21 38 Rose Lane MELBOURNE VIC ...</td>\n",
       "      <td>Lots 1909, 2002, 2009, 2102, 2104 2109, 2110, ...</td>\n",
       "      <td>487857</td>\n",
       "      <td>BS-15013</td>\n",
       "      <td>2021-08-04</td>\n",
       "      <td>2022-08-04</td>\n",
       "      <td>Building Permit</td>\n",
       "      <td>2020</td>\n",
       "    </tr>\n",
       "    <tr>\n",
       "      <th>31614</th>\n",
       "      <td>BP-2020-1544</td>\n",
       "      <td>58176/7362369321433/0</td>\n",
       "      <td>1596499200000</td>\n",
       "      <td>Unit 2109 Level 21 38 Rose Lane MELBOURNE VIC ...</td>\n",
       "      <td>Lots 1909, 2002, 2009, 2102, 2104 2109, 2110, ...</td>\n",
       "      <td>487857</td>\n",
       "      <td>BS-15013</td>\n",
       "      <td>2021-08-04</td>\n",
       "      <td>2022-08-04</td>\n",
       "      <td>Building Permit</td>\n",
       "      <td>2020</td>\n",
       "    </tr>\n",
       "    <tr>\n",
       "      <th>31615</th>\n",
       "      <td>BP-2020-1544</td>\n",
       "      <td>58176/7362369321433/0</td>\n",
       "      <td>1596499200000</td>\n",
       "      <td>Unit 2202 Level 22 38 Rose Lane MELBOURNE VIC ...</td>\n",
       "      <td>Lots 1909, 2002, 2009, 2102, 2104 2109, 2110, ...</td>\n",
       "      <td>487857</td>\n",
       "      <td>BS-15013</td>\n",
       "      <td>2021-08-04</td>\n",
       "      <td>2022-08-04</td>\n",
       "      <td>Building Permit</td>\n",
       "      <td>2020</td>\n",
       "    </tr>\n",
       "    <tr>\n",
       "      <th>31616</th>\n",
       "      <td>BP-2020-1544</td>\n",
       "      <td>58176/7362369321433/0</td>\n",
       "      <td>1596499200000</td>\n",
       "      <td>Unit 2502 Level 25 38 Rose Lane MELBOURNE VIC ...</td>\n",
       "      <td>Lots 1909, 2002, 2009, 2102, 2104 2109, 2110, ...</td>\n",
       "      <td>487857</td>\n",
       "      <td>BS-15013</td>\n",
       "      <td>2021-08-04</td>\n",
       "      <td>2022-08-04</td>\n",
       "      <td>Building Permit</td>\n",
       "      <td>2020</td>\n",
       "    </tr>\n",
       "    <tr>\n",
       "      <th>31617</th>\n",
       "      <td>BP-2020-1544</td>\n",
       "      <td>58176/7362369321433/0</td>\n",
       "      <td>1613433600000</td>\n",
       "      <td>Unit 1909 Level 19 38 Rose Lane MELBOURNE VIC ...</td>\n",
       "      <td>Lots 1909, 2002, 2009, 2102, 2104 2109, 2110, ...</td>\n",
       "      <td>487857</td>\n",
       "      <td>BS-15013</td>\n",
       "      <td>2021-08-04</td>\n",
       "      <td>2022-08-04</td>\n",
       "      <td>Certificate of Final Inspection</td>\n",
       "      <td>2021</td>\n",
       "    </tr>\n",
       "    <tr>\n",
       "      <th>31618</th>\n",
       "      <td>BP-2020-1544</td>\n",
       "      <td>58176/7362369321433/0</td>\n",
       "      <td>1613433600000</td>\n",
       "      <td>Unit 2109 Level 21 38 Rose Lane MELBOURNE VIC ...</td>\n",
       "      <td>Lots 1909, 2002, 2009, 2102, 2104 2109, 2110, ...</td>\n",
       "      <td>487857</td>\n",
       "      <td>BS-15013</td>\n",
       "      <td>2021-08-04</td>\n",
       "      <td>2022-08-04</td>\n",
       "      <td>Certificate of Final Inspection</td>\n",
       "      <td>2021</td>\n",
       "    </tr>\n",
       "    <tr>\n",
       "      <th>31619</th>\n",
       "      <td>BP-2020-1544</td>\n",
       "      <td>58176/7362369321433/0</td>\n",
       "      <td>1613433600000</td>\n",
       "      <td>Unit 2609 Level 26 38 Rose Lane MELBOURNE VIC ...</td>\n",
       "      <td>Lots 1909, 2002, 2009, 2102, 2104 2109, 2110, ...</td>\n",
       "      <td>487857</td>\n",
       "      <td>BS-15013</td>\n",
       "      <td>2021-08-04</td>\n",
       "      <td>2022-08-04</td>\n",
       "      <td>Certificate of Final Inspection</td>\n",
       "      <td>2021</td>\n",
       "    </tr>\n",
       "    <tr>\n",
       "      <th>31620</th>\n",
       "      <td>BP-2020-1544</td>\n",
       "      <td>7362369321433/A</td>\n",
       "      <td>1596499200000</td>\n",
       "      <td>Unit 1909 Level 19 38 Rose Lane MELBOURNE VIC ...</td>\n",
       "      <td>Lots 1909, 2002, 2009, 2102, 2104 2109, 2110, ...</td>\n",
       "      <td>487857</td>\n",
       "      <td>BS-15013</td>\n",
       "      <td>2021-08-04</td>\n",
       "      <td>2022-08-04</td>\n",
       "      <td>Building Permit</td>\n",
       "      <td>2020</td>\n",
       "    </tr>\n",
       "    <tr>\n",
       "      <th>73765</th>\n",
       "      <td>BP-2020-1544</td>\n",
       "      <td>58176/7362369321433/0</td>\n",
       "      <td>1613433600000</td>\n",
       "      <td>Unit 2309 Level 23 38 Rose Lane MELBOURNE VIC ...</td>\n",
       "      <td>Lots 1909, 2002, 2009, 2102, 2104 2109, 2110, ...</td>\n",
       "      <td>487857</td>\n",
       "      <td>BS-15013</td>\n",
       "      <td>2021-08-04</td>\n",
       "      <td>2022-08-04</td>\n",
       "      <td>Certificate of Final Inspection</td>\n",
       "      <td>2021</td>\n",
       "    </tr>\n",
       "    <tr>\n",
       "      <th>73766</th>\n",
       "      <td>BP-2020-1544</td>\n",
       "      <td>7362369321433/A</td>\n",
       "      <td>1596499200000</td>\n",
       "      <td>Unit 2102 Level 21 38 Rose Lane MELBOURNE VIC ...</td>\n",
       "      <td>Lots 1909, 2002, 2009, 2102, 2104 2109, 2110, ...</td>\n",
       "      <td>487857</td>\n",
       "      <td>BS-15013</td>\n",
       "      <td>2021-08-04</td>\n",
       "      <td>2022-08-04</td>\n",
       "      <td>Building Permit</td>\n",
       "      <td>2020</td>\n",
       "    </tr>\n",
       "    <tr>\n",
       "      <th>73767</th>\n",
       "      <td>BP-2020-1544</td>\n",
       "      <td>7362369321433/A</td>\n",
       "      <td>1596499200000</td>\n",
       "      <td>Unit 2104 Level 21 38 Rose Lane MELBOURNE VIC ...</td>\n",
       "      <td>Lots 1909, 2002, 2009, 2102, 2104 2109, 2110, ...</td>\n",
       "      <td>487857</td>\n",
       "      <td>BS-15013</td>\n",
       "      <td>2021-08-04</td>\n",
       "      <td>2022-08-04</td>\n",
       "      <td>Building Permit</td>\n",
       "      <td>2020</td>\n",
       "    </tr>\n",
       "    <tr>\n",
       "      <th>73768</th>\n",
       "      <td>BP-2020-1544</td>\n",
       "      <td>7362369321433/A</td>\n",
       "      <td>1596499200000</td>\n",
       "      <td>Unit 2502 Level 25 38 Rose Lane MELBOURNE VIC ...</td>\n",
       "      <td>Lots 1909, 2002, 2009, 2102, 2104 2109, 2110, ...</td>\n",
       "      <td>487857</td>\n",
       "      <td>BS-15013</td>\n",
       "      <td>2021-08-04</td>\n",
       "      <td>2022-08-04</td>\n",
       "      <td>Building Permit</td>\n",
       "      <td>2020</td>\n",
       "    </tr>\n",
       "    <tr>\n",
       "      <th>73769</th>\n",
       "      <td>BP-2020-1544</td>\n",
       "      <td>7362369321433/A</td>\n",
       "      <td>1596499200000</td>\n",
       "      <td>Unit 2509 Level 25 38 Rose Lane MELBOURNE VIC ...</td>\n",
       "      <td>Lots 1909, 2002, 2009, 2102, 2104 2109, 2110, ...</td>\n",
       "      <td>487857</td>\n",
       "      <td>BS-15013</td>\n",
       "      <td>2021-08-04</td>\n",
       "      <td>2022-08-04</td>\n",
       "      <td>Building Permit</td>\n",
       "      <td>2020</td>\n",
       "    </tr>\n",
       "    <tr>\n",
       "      <th>73770</th>\n",
       "      <td>BP-2020-1544</td>\n",
       "      <td>7362369321433/A</td>\n",
       "      <td>1613433600000</td>\n",
       "      <td>20-40 Rose Lane MELBOURNE VIC 3000</td>\n",
       "      <td>Lots 1909, 2002, 2009, 2102, 2104 2109, 2110, ...</td>\n",
       "      <td>487857</td>\n",
       "      <td>BS-15013</td>\n",
       "      <td>2021-08-04</td>\n",
       "      <td>2022-08-04</td>\n",
       "      <td>Certificate of Final Inspection</td>\n",
       "      <td>2021</td>\n",
       "    </tr>\n",
       "    <tr>\n",
       "      <th>73771</th>\n",
       "      <td>BP-2020-1544</td>\n",
       "      <td>58176/7362369321433/0</td>\n",
       "      <td>1613433600000</td>\n",
       "      <td>Unit 2409 Level 24 38 Rose Lane MELBOURNE VIC ...</td>\n",
       "      <td>Lots 1909, 2002, 2009, 2102, 2104 2109, 2110, ...</td>\n",
       "      <td>487857</td>\n",
       "      <td>BS-15013</td>\n",
       "      <td>2021-08-04</td>\n",
       "      <td>2022-08-04</td>\n",
       "      <td>Certificate of Final Inspection</td>\n",
       "      <td>2021</td>\n",
       "    </tr>\n",
       "    <tr>\n",
       "      <th>73772</th>\n",
       "      <td>BP-2020-1544</td>\n",
       "      <td>7362369321433/A</td>\n",
       "      <td>1613433600000</td>\n",
       "      <td>Unit 2502 Level 25 38 Rose Lane MELBOURNE VIC ...</td>\n",
       "      <td>Lots 1909, 2002, 2009, 2102, 2104 2109, 2110, ...</td>\n",
       "      <td>487857</td>\n",
       "      <td>BS-15013</td>\n",
       "      <td>2021-08-04</td>\n",
       "      <td>2022-08-04</td>\n",
       "      <td>Certificate of Final Inspection</td>\n",
       "      <td>2021</td>\n",
       "    </tr>\n",
       "    <tr>\n",
       "      <th>73773</th>\n",
       "      <td>BP-2020-1544</td>\n",
       "      <td>7362369321433/A</td>\n",
       "      <td>1613433600000</td>\n",
       "      <td>Unit 2309 Level 23 38 Rose Lane MELBOURNE VIC ...</td>\n",
       "      <td>Lots 1909, 2002, 2009, 2102, 2104 2109, 2110, ...</td>\n",
       "      <td>487857</td>\n",
       "      <td>BS-15013</td>\n",
       "      <td>2021-08-04</td>\n",
       "      <td>2022-08-04</td>\n",
       "      <td>Certificate of Final Inspection</td>\n",
       "      <td>2021</td>\n",
       "    </tr>\n",
       "    <tr>\n",
       "      <th>73774</th>\n",
       "      <td>BP-2020-1544</td>\n",
       "      <td>58176/7362369321433/0</td>\n",
       "      <td>1596499200000</td>\n",
       "      <td>Unit 2002 Level 20 38 Rose Lane MELBOURNE VIC ...</td>\n",
       "      <td>Lots 1909, 2002, 2009, 2102, 2104 2109, 2110, ...</td>\n",
       "      <td>487857</td>\n",
       "      <td>BS-15013</td>\n",
       "      <td>2021-08-04</td>\n",
       "      <td>2022-08-04</td>\n",
       "      <td>Building Permit</td>\n",
       "      <td>2020</td>\n",
       "    </tr>\n",
       "    <tr>\n",
       "      <th>73775</th>\n",
       "      <td>BP-2020-1544</td>\n",
       "      <td>58176/7362369321433/0</td>\n",
       "      <td>1596499200000</td>\n",
       "      <td>Unit 2009 Level 20 38 Rose Lane MELBOURNE VIC ...</td>\n",
       "      <td>Lots 1909, 2002, 2009, 2102, 2104 2109, 2110, ...</td>\n",
       "      <td>487857</td>\n",
       "      <td>BS-15013</td>\n",
       "      <td>2021-08-04</td>\n",
       "      <td>2022-08-04</td>\n",
       "      <td>Building Permit</td>\n",
       "      <td>2020</td>\n",
       "    </tr>\n",
       "    <tr>\n",
       "      <th>73776</th>\n",
       "      <td>BP-2020-1544</td>\n",
       "      <td>58176/7362369321433/0</td>\n",
       "      <td>1596499200000</td>\n",
       "      <td>Unit 2209 Level 22 38 Rose Lane MELBOURNE VIC ...</td>\n",
       "      <td>Lots 1909, 2002, 2009, 2102, 2104 2109, 2110, ...</td>\n",
       "      <td>487857</td>\n",
       "      <td>BS-15013</td>\n",
       "      <td>2021-08-04</td>\n",
       "      <td>2022-08-04</td>\n",
       "      <td>Building Permit</td>\n",
       "      <td>2020</td>\n",
       "    </tr>\n",
       "    <tr>\n",
       "      <th>73777</th>\n",
       "      <td>BP-2020-1544</td>\n",
       "      <td>58176/7362369321433/0</td>\n",
       "      <td>1596499200000</td>\n",
       "      <td>Unit 2409 Level 24 38 Rose Lane MELBOURNE VIC ...</td>\n",
       "      <td>Lots 1909, 2002, 2009, 2102, 2104 2109, 2110, ...</td>\n",
       "      <td>487857</td>\n",
       "      <td>BS-15013</td>\n",
       "      <td>2021-08-04</td>\n",
       "      <td>2022-08-04</td>\n",
       "      <td>Building Permit</td>\n",
       "      <td>2020</td>\n",
       "    </tr>\n",
       "    <tr>\n",
       "      <th>73778</th>\n",
       "      <td>BP-2020-1544</td>\n",
       "      <td>58176/7362369321433/0</td>\n",
       "      <td>1596499200000</td>\n",
       "      <td>Unit 2609 Level 26 38 Rose Lane MELBOURNE VIC ...</td>\n",
       "      <td>Lots 1909, 2002, 2009, 2102, 2104 2109, 2110, ...</td>\n",
       "      <td>487857</td>\n",
       "      <td>BS-15013</td>\n",
       "      <td>2021-08-04</td>\n",
       "      <td>2022-08-04</td>\n",
       "      <td>Building Permit</td>\n",
       "      <td>2020</td>\n",
       "    </tr>\n",
       "    <tr>\n",
       "      <th>73779</th>\n",
       "      <td>BP-2020-1544</td>\n",
       "      <td>58176/7362369321433/0</td>\n",
       "      <td>1613433600000</td>\n",
       "      <td>Unit 2009 Level 20 38 Rose Lane MELBOURNE VIC ...</td>\n",
       "      <td>Lots 1909, 2002, 2009, 2102, 2104 2109, 2110, ...</td>\n",
       "      <td>487857</td>\n",
       "      <td>BS-15013</td>\n",
       "      <td>2021-08-04</td>\n",
       "      <td>2022-08-04</td>\n",
       "      <td>Certificate of Final Inspection</td>\n",
       "      <td>2021</td>\n",
       "    </tr>\n",
       "    <tr>\n",
       "      <th>73780</th>\n",
       "      <td>BP-2020-1544</td>\n",
       "      <td>58176/7362369321433/0</td>\n",
       "      <td>1613433600000</td>\n",
       "      <td>Unit 2209 Level 22 38 Rose Lane MELBOURNE VIC ...</td>\n",
       "      <td>Lots 1909, 2002, 2009, 2102, 2104 2109, 2110, ...</td>\n",
       "      <td>487857</td>\n",
       "      <td>BS-15013</td>\n",
       "      <td>2021-08-04</td>\n",
       "      <td>2022-08-04</td>\n",
       "      <td>Certificate of Final Inspection</td>\n",
       "      <td>2021</td>\n",
       "    </tr>\n",
       "    <tr>\n",
       "      <th>117842</th>\n",
       "      <td>BP-2020-1544</td>\n",
       "      <td>7362369321433/A</td>\n",
       "      <td>1596499200000</td>\n",
       "      <td>Unit 2009 Level 20 38 Rose Lane MELBOURNE VIC ...</td>\n",
       "      <td>Lots 1909, 2002, 2009, 2102, 2104 2109, 2110, ...</td>\n",
       "      <td>487857</td>\n",
       "      <td>BS-15013</td>\n",
       "      <td>2021-08-04</td>\n",
       "      <td>2022-08-04</td>\n",
       "      <td>Building Permit</td>\n",
       "      <td>2020</td>\n",
       "    </tr>\n",
       "    <tr>\n",
       "      <th>117843</th>\n",
       "      <td>BP-2020-1544</td>\n",
       "      <td>7362369321433/A</td>\n",
       "      <td>1596499200000</td>\n",
       "      <td>Unit 2109 Level 21 38 Rose Lane MELBOURNE VIC ...</td>\n",
       "      <td>Lots 1909, 2002, 2009, 2102, 2104 2109, 2110, ...</td>\n",
       "      <td>487857</td>\n",
       "      <td>BS-15013</td>\n",
       "      <td>2021-08-04</td>\n",
       "      <td>2022-08-04</td>\n",
       "      <td>Building Permit</td>\n",
       "      <td>2020</td>\n",
       "    </tr>\n",
       "    <tr>\n",
       "      <th>117844</th>\n",
       "      <td>BP-2020-1544</td>\n",
       "      <td>7362369321433/A</td>\n",
       "      <td>1596499200000</td>\n",
       "      <td>Unit 2209 Level 22 38 Rose Lane MELBOURNE VIC ...</td>\n",
       "      <td>Lots 1909, 2002, 2009, 2102, 2104 2109, 2110, ...</td>\n",
       "      <td>487857</td>\n",
       "      <td>BS-15013</td>\n",
       "      <td>2021-08-04</td>\n",
       "      <td>2022-08-04</td>\n",
       "      <td>Building Permit</td>\n",
       "      <td>2020</td>\n",
       "    </tr>\n",
       "    <tr>\n",
       "      <th>117845</th>\n",
       "      <td>BP-2020-1544</td>\n",
       "      <td>7362369321433/A</td>\n",
       "      <td>1596499200000</td>\n",
       "      <td>Unit 2309 Level 23 38 Rose Lane MELBOURNE VIC ...</td>\n",
       "      <td>Lots 1909, 2002, 2009, 2102, 2104 2109, 2110, ...</td>\n",
       "      <td>487857</td>\n",
       "      <td>BS-15013</td>\n",
       "      <td>2021-08-04</td>\n",
       "      <td>2022-08-04</td>\n",
       "      <td>Building Permit</td>\n",
       "      <td>2020</td>\n",
       "    </tr>\n",
       "    <tr>\n",
       "      <th>117846</th>\n",
       "      <td>BP-2020-1544</td>\n",
       "      <td>7362369321433/A</td>\n",
       "      <td>1596499200000</td>\n",
       "      <td>Unit 2609 Level 26 38 Rose Lane MELBOURNE VIC ...</td>\n",
       "      <td>Lots 1909, 2002, 2009, 2102, 2104 2109, 2110, ...</td>\n",
       "      <td>487857</td>\n",
       "      <td>BS-15013</td>\n",
       "      <td>2021-08-04</td>\n",
       "      <td>2022-08-04</td>\n",
       "      <td>Building Permit</td>\n",
       "      <td>2020</td>\n",
       "    </tr>\n",
       "    <tr>\n",
       "      <th>117847</th>\n",
       "      <td>BP-2020-1544</td>\n",
       "      <td>7362369321433/A</td>\n",
       "      <td>1613433600000</td>\n",
       "      <td>Unit 2509 Level 25 38 Rose Lane MELBOURNE VIC ...</td>\n",
       "      <td>Lots 1909, 2002, 2009, 2102, 2104 2109, 2110, ...</td>\n",
       "      <td>487857</td>\n",
       "      <td>BS-15013</td>\n",
       "      <td>2021-08-04</td>\n",
       "      <td>2022-08-04</td>\n",
       "      <td>Certificate of Final Inspection</td>\n",
       "      <td>2021</td>\n",
       "    </tr>\n",
       "    <tr>\n",
       "      <th>117848</th>\n",
       "      <td>BP-2020-1544</td>\n",
       "      <td>7362369321433/A</td>\n",
       "      <td>1613433600000</td>\n",
       "      <td>Unit 2209 Level 22 38 Rose Lane MELBOURNE VIC ...</td>\n",
       "      <td>Lots 1909, 2002, 2009, 2102, 2104 2109, 2110, ...</td>\n",
       "      <td>487857</td>\n",
       "      <td>BS-15013</td>\n",
       "      <td>2021-08-04</td>\n",
       "      <td>2022-08-04</td>\n",
       "      <td>Certificate of Final Inspection</td>\n",
       "      <td>2021</td>\n",
       "    </tr>\n",
       "    <tr>\n",
       "      <th>117849</th>\n",
       "      <td>BP-2020-1544</td>\n",
       "      <td>7362369321433/A</td>\n",
       "      <td>1613433600000</td>\n",
       "      <td>Unit 2109 Level 21 38 Rose Lane MELBOURNE VIC ...</td>\n",
       "      <td>Lots 1909, 2002, 2009, 2102, 2104 2109, 2110, ...</td>\n",
       "      <td>487857</td>\n",
       "      <td>BS-15013</td>\n",
       "      <td>2021-08-04</td>\n",
       "      <td>2022-08-04</td>\n",
       "      <td>Certificate of Final Inspection</td>\n",
       "      <td>2021</td>\n",
       "    </tr>\n",
       "    <tr>\n",
       "      <th>117850</th>\n",
       "      <td>BP-2020-1544</td>\n",
       "      <td>58176/7362369321433/0</td>\n",
       "      <td>1596499200000</td>\n",
       "      <td>Unit 1909 Level 19 38 Rose Lane MELBOURNE VIC ...</td>\n",
       "      <td>Lots 1909, 2002, 2009, 2102, 2104 2109, 2110, ...</td>\n",
       "      <td>487857</td>\n",
       "      <td>BS-15013</td>\n",
       "      <td>2021-08-04</td>\n",
       "      <td>2022-08-04</td>\n",
       "      <td>Building Permit</td>\n",
       "      <td>2020</td>\n",
       "    </tr>\n",
       "    <tr>\n",
       "      <th>117851</th>\n",
       "      <td>BP-2020-1544</td>\n",
       "      <td>58176/7362369321433/0</td>\n",
       "      <td>1596499200000</td>\n",
       "      <td>Unit 2104 Level 21 38 Rose Lane MELBOURNE VIC ...</td>\n",
       "      <td>Lots 1909, 2002, 2009, 2102, 2104 2109, 2110, ...</td>\n",
       "      <td>487857</td>\n",
       "      <td>BS-15013</td>\n",
       "      <td>2021-08-04</td>\n",
       "      <td>2022-08-04</td>\n",
       "      <td>Building Permit</td>\n",
       "      <td>2020</td>\n",
       "    </tr>\n",
       "    <tr>\n",
       "      <th>117852</th>\n",
       "      <td>BP-2020-1544</td>\n",
       "      <td>58176/7362369321433/0</td>\n",
       "      <td>1596499200000</td>\n",
       "      <td>Unit 2309 Level 23 38 Rose Lane MELBOURNE VIC ...</td>\n",
       "      <td>Lots 1909, 2002, 2009, 2102, 2104 2109, 2110, ...</td>\n",
       "      <td>487857</td>\n",
       "      <td>BS-15013</td>\n",
       "      <td>2021-08-04</td>\n",
       "      <td>2022-08-04</td>\n",
       "      <td>Building Permit</td>\n",
       "      <td>2020</td>\n",
       "    </tr>\n",
       "    <tr>\n",
       "      <th>117853</th>\n",
       "      <td>BP-2020-1544</td>\n",
       "      <td>58176/7362369321433/0</td>\n",
       "      <td>1596499200000</td>\n",
       "      <td>Unit 2509 Level 25 38 Rose Lane MELBOURNE VIC ...</td>\n",
       "      <td>Lots 1909, 2002, 2009, 2102, 2104 2109, 2110, ...</td>\n",
       "      <td>487857</td>\n",
       "      <td>BS-15013</td>\n",
       "      <td>2021-08-04</td>\n",
       "      <td>2022-08-04</td>\n",
       "      <td>Building Permit</td>\n",
       "      <td>2020</td>\n",
       "    </tr>\n",
       "    <tr>\n",
       "      <th>117854</th>\n",
       "      <td>BP-2020-1544</td>\n",
       "      <td>58176/7362369321433/0</td>\n",
       "      <td>1613433600000</td>\n",
       "      <td>20-40 Rose Lane MELBOURNE VIC 3000</td>\n",
       "      <td>Lots 1909, 2002, 2009, 2102, 2104 2109, 2110, ...</td>\n",
       "      <td>487857</td>\n",
       "      <td>BS-15013</td>\n",
       "      <td>2021-08-04</td>\n",
       "      <td>2022-08-04</td>\n",
       "      <td>Certificate of Final Inspection</td>\n",
       "      <td>2021</td>\n",
       "    </tr>\n",
       "    <tr>\n",
       "      <th>117855</th>\n",
       "      <td>BP-2020-1544</td>\n",
       "      <td>58176/7362369321433/0</td>\n",
       "      <td>1613433600000</td>\n",
       "      <td>Unit 2002 Level 20 38 Rose Lane MELBOURNE VIC ...</td>\n",
       "      <td>Lots 1909, 2002, 2009, 2102, 2104 2109, 2110, ...</td>\n",
       "      <td>487857</td>\n",
       "      <td>BS-15013</td>\n",
       "      <td>2021-08-04</td>\n",
       "      <td>2022-08-04</td>\n",
       "      <td>Certificate of Final Inspection</td>\n",
       "      <td>2021</td>\n",
       "    </tr>\n",
       "    <tr>\n",
       "      <th>117856</th>\n",
       "      <td>BP-2020-1544</td>\n",
       "      <td>58176/7362369321433/0</td>\n",
       "      <td>1613433600000</td>\n",
       "      <td>Unit 2102 Level 21 38 Rose Lane MELBOURNE VIC ...</td>\n",
       "      <td>Lots 1909, 2002, 2009, 2102, 2104 2109, 2110, ...</td>\n",
       "      <td>487857</td>\n",
       "      <td>BS-15013</td>\n",
       "      <td>2021-08-04</td>\n",
       "      <td>2022-08-04</td>\n",
       "      <td>Certificate of Final Inspection</td>\n",
       "      <td>2021</td>\n",
       "    </tr>\n",
       "    <tr>\n",
       "      <th>117857</th>\n",
       "      <td>BP-2020-1544</td>\n",
       "      <td>58176/7362369321433/0</td>\n",
       "      <td>1613433600000</td>\n",
       "      <td>Unit 2202 Level 22 38 Rose Lane MELBOURNE VIC ...</td>\n",
       "      <td>Lots 1909, 2002, 2009, 2102, 2104 2109, 2110, ...</td>\n",
       "      <td>487857</td>\n",
       "      <td>BS-15013</td>\n",
       "      <td>2021-08-04</td>\n",
       "      <td>2022-08-04</td>\n",
       "      <td>Certificate of Final Inspection</td>\n",
       "      <td>2021</td>\n",
       "    </tr>\n",
       "    <tr>\n",
       "      <th>117858</th>\n",
       "      <td>BP-2020-1544</td>\n",
       "      <td>7362369321433/A</td>\n",
       "      <td>1613433600000</td>\n",
       "      <td>Unit 2009 Level 20 38 Rose Lane MELBOURNE VIC ...</td>\n",
       "      <td>Lots 1909, 2002, 2009, 2102, 2104 2109, 2110, ...</td>\n",
       "      <td>487857</td>\n",
       "      <td>BS-15013</td>\n",
       "      <td>2021-08-04</td>\n",
       "      <td>2022-08-04</td>\n",
       "      <td>Certificate of Final Inspection</td>\n",
       "      <td>2021</td>\n",
       "    </tr>\n",
       "    <tr>\n",
       "      <th>117859</th>\n",
       "      <td>BP-2020-1544</td>\n",
       "      <td>58176/7362369321433/0</td>\n",
       "      <td>1613433600000</td>\n",
       "      <td>Unit 2502 Level 25 38 Rose Lane MELBOURNE VIC ...</td>\n",
       "      <td>Lots 1909, 2002, 2009, 2102, 2104 2109, 2110, ...</td>\n",
       "      <td>487857</td>\n",
       "      <td>BS-15013</td>\n",
       "      <td>2021-08-04</td>\n",
       "      <td>2022-08-04</td>\n",
       "      <td>Certificate of Final Inspection</td>\n",
       "      <td>2021</td>\n",
       "    </tr>\n",
       "    <tr>\n",
       "      <th>117860</th>\n",
       "      <td>BP-2020-1544</td>\n",
       "      <td>58176/7362369321433/0</td>\n",
       "      <td>1613433600000</td>\n",
       "      <td>Unit 2509 Level 25 38 Rose Lane MELBOURNE VIC ...</td>\n",
       "      <td>Lots 1909, 2002, 2009, 2102, 2104 2109, 2110, ...</td>\n",
       "      <td>487857</td>\n",
       "      <td>BS-15013</td>\n",
       "      <td>2021-08-04</td>\n",
       "      <td>2022-08-04</td>\n",
       "      <td>Certificate of Final Inspection</td>\n",
       "      <td>2021</td>\n",
       "    </tr>\n",
       "    <tr>\n",
       "      <th>117861</th>\n",
       "      <td>BP-2020-1544</td>\n",
       "      <td>7362369321433/A</td>\n",
       "      <td>1596499200000</td>\n",
       "      <td>20-40 Rose Lane MELBOURNE VIC 3000</td>\n",
       "      <td>Lots 1909, 2002, 2009, 2102, 2104 2109, 2110, ...</td>\n",
       "      <td>487857</td>\n",
       "      <td>BS-15013</td>\n",
       "      <td>2021-08-04</td>\n",
       "      <td>2022-08-04</td>\n",
       "      <td>Building Permit</td>\n",
       "      <td>2020</td>\n",
       "    </tr>\n",
       "  </tbody>\n",
       "</table>\n",
       "</div>"
      ],
      "text/plain": [
       "         council_ref          permit_number     issue_date  \\\n",
       "31601   BP-2020-1544        7362369321433/A  1596499200000   \n",
       "31602   BP-2020-1544        7362369321433/A  1596499200000   \n",
       "31603   BP-2020-1544        7362369321433/A  1596499200000   \n",
       "31604   BP-2020-1544  58176/7362369321433/0  1613433600000   \n",
       "31605   BP-2020-1544        7362369321433/A  1613433600000   \n",
       "31606   BP-2020-1544        7362369321433/A  1613433600000   \n",
       "31607   BP-2020-1544        7362369321433/A  1613433600000   \n",
       "31608   BP-2020-1544        7362369321433/A  1613433600000   \n",
       "31609   BP-2020-1544        7362369321433/A  1613433600000   \n",
       "31610   BP-2020-1544        7362369321433/A  1613433600000   \n",
       "31611   BP-2020-1544        7362369321433/A  1613433600000   \n",
       "31612   BP-2020-1544  58176/7362369321433/0  1596499200000   \n",
       "31613   BP-2020-1544  58176/7362369321433/0  1596499200000   \n",
       "31614   BP-2020-1544  58176/7362369321433/0  1596499200000   \n",
       "31615   BP-2020-1544  58176/7362369321433/0  1596499200000   \n",
       "31616   BP-2020-1544  58176/7362369321433/0  1596499200000   \n",
       "31617   BP-2020-1544  58176/7362369321433/0  1613433600000   \n",
       "31618   BP-2020-1544  58176/7362369321433/0  1613433600000   \n",
       "31619   BP-2020-1544  58176/7362369321433/0  1613433600000   \n",
       "31620   BP-2020-1544        7362369321433/A  1596499200000   \n",
       "73765   BP-2020-1544  58176/7362369321433/0  1613433600000   \n",
       "73766   BP-2020-1544        7362369321433/A  1596499200000   \n",
       "73767   BP-2020-1544        7362369321433/A  1596499200000   \n",
       "73768   BP-2020-1544        7362369321433/A  1596499200000   \n",
       "73769   BP-2020-1544        7362369321433/A  1596499200000   \n",
       "73770   BP-2020-1544        7362369321433/A  1613433600000   \n",
       "73771   BP-2020-1544  58176/7362369321433/0  1613433600000   \n",
       "73772   BP-2020-1544        7362369321433/A  1613433600000   \n",
       "73773   BP-2020-1544        7362369321433/A  1613433600000   \n",
       "73774   BP-2020-1544  58176/7362369321433/0  1596499200000   \n",
       "73775   BP-2020-1544  58176/7362369321433/0  1596499200000   \n",
       "73776   BP-2020-1544  58176/7362369321433/0  1596499200000   \n",
       "73777   BP-2020-1544  58176/7362369321433/0  1596499200000   \n",
       "73778   BP-2020-1544  58176/7362369321433/0  1596499200000   \n",
       "73779   BP-2020-1544  58176/7362369321433/0  1613433600000   \n",
       "73780   BP-2020-1544  58176/7362369321433/0  1613433600000   \n",
       "117842  BP-2020-1544        7362369321433/A  1596499200000   \n",
       "117843  BP-2020-1544        7362369321433/A  1596499200000   \n",
       "117844  BP-2020-1544        7362369321433/A  1596499200000   \n",
       "117845  BP-2020-1544        7362369321433/A  1596499200000   \n",
       "117846  BP-2020-1544        7362369321433/A  1596499200000   \n",
       "117847  BP-2020-1544        7362369321433/A  1613433600000   \n",
       "117848  BP-2020-1544        7362369321433/A  1613433600000   \n",
       "117849  BP-2020-1544        7362369321433/A  1613433600000   \n",
       "117850  BP-2020-1544  58176/7362369321433/0  1596499200000   \n",
       "117851  BP-2020-1544  58176/7362369321433/0  1596499200000   \n",
       "117852  BP-2020-1544  58176/7362369321433/0  1596499200000   \n",
       "117853  BP-2020-1544  58176/7362369321433/0  1596499200000   \n",
       "117854  BP-2020-1544  58176/7362369321433/0  1613433600000   \n",
       "117855  BP-2020-1544  58176/7362369321433/0  1613433600000   \n",
       "117856  BP-2020-1544  58176/7362369321433/0  1613433600000   \n",
       "117857  BP-2020-1544  58176/7362369321433/0  1613433600000   \n",
       "117858  BP-2020-1544        7362369321433/A  1613433600000   \n",
       "117859  BP-2020-1544  58176/7362369321433/0  1613433600000   \n",
       "117860  BP-2020-1544  58176/7362369321433/0  1613433600000   \n",
       "117861  BP-2020-1544        7362369321433/A  1596499200000   \n",
       "\n",
       "                                                  address  \\\n",
       "31601   Unit 2002 Level 20 38 Rose Lane MELBOURNE VIC ...   \n",
       "31602   Unit 2202 Level 22 38 Rose Lane MELBOURNE VIC ...   \n",
       "31603   Unit 2409 Level 24 38 Rose Lane MELBOURNE VIC ...   \n",
       "31604   Unit 2104 Level 21 38 Rose Lane MELBOURNE VIC ...   \n",
       "31605   Unit 1909 Level 19 38 Rose Lane MELBOURNE VIC ...   \n",
       "31606   Unit 2002 Level 20 38 Rose Lane MELBOURNE VIC ...   \n",
       "31607   Unit 2609 Level 26 38 Rose Lane MELBOURNE VIC ...   \n",
       "31608   Unit 2202 Level 22 38 Rose Lane MELBOURNE VIC ...   \n",
       "31609   Unit 2104 Level 21 38 Rose Lane MELBOURNE VIC ...   \n",
       "31610   Unit 2102 Level 21 38 Rose Lane MELBOURNE VIC ...   \n",
       "31611   Unit 2409 Level 24 38 Rose Lane MELBOURNE VIC ...   \n",
       "31612                  20-40 Rose Lane MELBOURNE VIC 3000   \n",
       "31613   Unit 2102 Level 21 38 Rose Lane MELBOURNE VIC ...   \n",
       "31614   Unit 2109 Level 21 38 Rose Lane MELBOURNE VIC ...   \n",
       "31615   Unit 2202 Level 22 38 Rose Lane MELBOURNE VIC ...   \n",
       "31616   Unit 2502 Level 25 38 Rose Lane MELBOURNE VIC ...   \n",
       "31617   Unit 1909 Level 19 38 Rose Lane MELBOURNE VIC ...   \n",
       "31618   Unit 2109 Level 21 38 Rose Lane MELBOURNE VIC ...   \n",
       "31619   Unit 2609 Level 26 38 Rose Lane MELBOURNE VIC ...   \n",
       "31620   Unit 1909 Level 19 38 Rose Lane MELBOURNE VIC ...   \n",
       "73765   Unit 2309 Level 23 38 Rose Lane MELBOURNE VIC ...   \n",
       "73766   Unit 2102 Level 21 38 Rose Lane MELBOURNE VIC ...   \n",
       "73767   Unit 2104 Level 21 38 Rose Lane MELBOURNE VIC ...   \n",
       "73768   Unit 2502 Level 25 38 Rose Lane MELBOURNE VIC ...   \n",
       "73769   Unit 2509 Level 25 38 Rose Lane MELBOURNE VIC ...   \n",
       "73770                  20-40 Rose Lane MELBOURNE VIC 3000   \n",
       "73771   Unit 2409 Level 24 38 Rose Lane MELBOURNE VIC ...   \n",
       "73772   Unit 2502 Level 25 38 Rose Lane MELBOURNE VIC ...   \n",
       "73773   Unit 2309 Level 23 38 Rose Lane MELBOURNE VIC ...   \n",
       "73774   Unit 2002 Level 20 38 Rose Lane MELBOURNE VIC ...   \n",
       "73775   Unit 2009 Level 20 38 Rose Lane MELBOURNE VIC ...   \n",
       "73776   Unit 2209 Level 22 38 Rose Lane MELBOURNE VIC ...   \n",
       "73777   Unit 2409 Level 24 38 Rose Lane MELBOURNE VIC ...   \n",
       "73778   Unit 2609 Level 26 38 Rose Lane MELBOURNE VIC ...   \n",
       "73779   Unit 2009 Level 20 38 Rose Lane MELBOURNE VIC ...   \n",
       "73780   Unit 2209 Level 22 38 Rose Lane MELBOURNE VIC ...   \n",
       "117842  Unit 2009 Level 20 38 Rose Lane MELBOURNE VIC ...   \n",
       "117843  Unit 2109 Level 21 38 Rose Lane MELBOURNE VIC ...   \n",
       "117844  Unit 2209 Level 22 38 Rose Lane MELBOURNE VIC ...   \n",
       "117845  Unit 2309 Level 23 38 Rose Lane MELBOURNE VIC ...   \n",
       "117846  Unit 2609 Level 26 38 Rose Lane MELBOURNE VIC ...   \n",
       "117847  Unit 2509 Level 25 38 Rose Lane MELBOURNE VIC ...   \n",
       "117848  Unit 2209 Level 22 38 Rose Lane MELBOURNE VIC ...   \n",
       "117849  Unit 2109 Level 21 38 Rose Lane MELBOURNE VIC ...   \n",
       "117850  Unit 1909 Level 19 38 Rose Lane MELBOURNE VIC ...   \n",
       "117851  Unit 2104 Level 21 38 Rose Lane MELBOURNE VIC ...   \n",
       "117852  Unit 2309 Level 23 38 Rose Lane MELBOURNE VIC ...   \n",
       "117853  Unit 2509 Level 25 38 Rose Lane MELBOURNE VIC ...   \n",
       "117854                 20-40 Rose Lane MELBOURNE VIC 3000   \n",
       "117855  Unit 2002 Level 20 38 Rose Lane MELBOURNE VIC ...   \n",
       "117856  Unit 2102 Level 21 38 Rose Lane MELBOURNE VIC ...   \n",
       "117857  Unit 2202 Level 22 38 Rose Lane MELBOURNE VIC ...   \n",
       "117858  Unit 2009 Level 20 38 Rose Lane MELBOURNE VIC ...   \n",
       "117859  Unit 2502 Level 25 38 Rose Lane MELBOURNE VIC ...   \n",
       "117860  Unit 2509 Level 25 38 Rose Lane MELBOURNE VIC ...   \n",
       "117861                 20-40 Rose Lane MELBOURNE VIC 3000   \n",
       "\n",
       "                                            desc_of_works  \\\n",
       "31601   Lots 1909, 2002, 2009, 2102, 2104 2109, 2110, ...   \n",
       "31602   Lots 1909, 2002, 2009, 2102, 2104 2109, 2110, ...   \n",
       "31603   Lots 1909, 2002, 2009, 2102, 2104 2109, 2110, ...   \n",
       "31604   Lots 1909, 2002, 2009, 2102, 2104 2109, 2110, ...   \n",
       "31605   Lots 1909, 2002, 2009, 2102, 2104 2109, 2110, ...   \n",
       "31606   Lots 1909, 2002, 2009, 2102, 2104 2109, 2110, ...   \n",
       "31607   Lots 1909, 2002, 2009, 2102, 2104 2109, 2110, ...   \n",
       "31608   Lots 1909, 2002, 2009, 2102, 2104 2109, 2110, ...   \n",
       "31609   Lots 1909, 2002, 2009, 2102, 2104 2109, 2110, ...   \n",
       "31610   Lots 1909, 2002, 2009, 2102, 2104 2109, 2110, ...   \n",
       "31611   Lots 1909, 2002, 2009, 2102, 2104 2109, 2110, ...   \n",
       "31612   Lots 1909, 2002, 2009, 2102, 2104 2109, 2110, ...   \n",
       "31613   Lots 1909, 2002, 2009, 2102, 2104 2109, 2110, ...   \n",
       "31614   Lots 1909, 2002, 2009, 2102, 2104 2109, 2110, ...   \n",
       "31615   Lots 1909, 2002, 2009, 2102, 2104 2109, 2110, ...   \n",
       "31616   Lots 1909, 2002, 2009, 2102, 2104 2109, 2110, ...   \n",
       "31617   Lots 1909, 2002, 2009, 2102, 2104 2109, 2110, ...   \n",
       "31618   Lots 1909, 2002, 2009, 2102, 2104 2109, 2110, ...   \n",
       "31619   Lots 1909, 2002, 2009, 2102, 2104 2109, 2110, ...   \n",
       "31620   Lots 1909, 2002, 2009, 2102, 2104 2109, 2110, ...   \n",
       "73765   Lots 1909, 2002, 2009, 2102, 2104 2109, 2110, ...   \n",
       "73766   Lots 1909, 2002, 2009, 2102, 2104 2109, 2110, ...   \n",
       "73767   Lots 1909, 2002, 2009, 2102, 2104 2109, 2110, ...   \n",
       "73768   Lots 1909, 2002, 2009, 2102, 2104 2109, 2110, ...   \n",
       "73769   Lots 1909, 2002, 2009, 2102, 2104 2109, 2110, ...   \n",
       "73770   Lots 1909, 2002, 2009, 2102, 2104 2109, 2110, ...   \n",
       "73771   Lots 1909, 2002, 2009, 2102, 2104 2109, 2110, ...   \n",
       "73772   Lots 1909, 2002, 2009, 2102, 2104 2109, 2110, ...   \n",
       "73773   Lots 1909, 2002, 2009, 2102, 2104 2109, 2110, ...   \n",
       "73774   Lots 1909, 2002, 2009, 2102, 2104 2109, 2110, ...   \n",
       "73775   Lots 1909, 2002, 2009, 2102, 2104 2109, 2110, ...   \n",
       "73776   Lots 1909, 2002, 2009, 2102, 2104 2109, 2110, ...   \n",
       "73777   Lots 1909, 2002, 2009, 2102, 2104 2109, 2110, ...   \n",
       "73778   Lots 1909, 2002, 2009, 2102, 2104 2109, 2110, ...   \n",
       "73779   Lots 1909, 2002, 2009, 2102, 2104 2109, 2110, ...   \n",
       "73780   Lots 1909, 2002, 2009, 2102, 2104 2109, 2110, ...   \n",
       "117842  Lots 1909, 2002, 2009, 2102, 2104 2109, 2110, ...   \n",
       "117843  Lots 1909, 2002, 2009, 2102, 2104 2109, 2110, ...   \n",
       "117844  Lots 1909, 2002, 2009, 2102, 2104 2109, 2110, ...   \n",
       "117845  Lots 1909, 2002, 2009, 2102, 2104 2109, 2110, ...   \n",
       "117846  Lots 1909, 2002, 2009, 2102, 2104 2109, 2110, ...   \n",
       "117847  Lots 1909, 2002, 2009, 2102, 2104 2109, 2110, ...   \n",
       "117848  Lots 1909, 2002, 2009, 2102, 2104 2109, 2110, ...   \n",
       "117849  Lots 1909, 2002, 2009, 2102, 2104 2109, 2110, ...   \n",
       "117850  Lots 1909, 2002, 2009, 2102, 2104 2109, 2110, ...   \n",
       "117851  Lots 1909, 2002, 2009, 2102, 2104 2109, 2110, ...   \n",
       "117852  Lots 1909, 2002, 2009, 2102, 2104 2109, 2110, ...   \n",
       "117853  Lots 1909, 2002, 2009, 2102, 2104 2109, 2110, ...   \n",
       "117854  Lots 1909, 2002, 2009, 2102, 2104 2109, 2110, ...   \n",
       "117855  Lots 1909, 2002, 2009, 2102, 2104 2109, 2110, ...   \n",
       "117856  Lots 1909, 2002, 2009, 2102, 2104 2109, 2110, ...   \n",
       "117857  Lots 1909, 2002, 2009, 2102, 2104 2109, 2110, ...   \n",
       "117858  Lots 1909, 2002, 2009, 2102, 2104 2109, 2110, ...   \n",
       "117859  Lots 1909, 2002, 2009, 2102, 2104 2109, 2110, ...   \n",
       "117860  Lots 1909, 2002, 2009, 2102, 2104 2109, 2110, ...   \n",
       "117861  Lots 1909, 2002, 2009, 2102, 2104 2109, 2110, ...   \n",
       "\n",
       "        estimated_cost_of_works rbs_number commence_by_date completed_by_date  \\\n",
       "31601                    487857   BS-15013       2021-08-04        2022-08-04   \n",
       "31602                    487857   BS-15013       2021-08-04        2022-08-04   \n",
       "31603                    487857   BS-15013       2021-08-04        2022-08-04   \n",
       "31604                    487857   BS-15013       2021-08-04        2022-08-04   \n",
       "31605                    487857   BS-15013       2021-08-04        2022-08-04   \n",
       "31606                    487857   BS-15013       2021-08-04        2022-08-04   \n",
       "31607                    487857   BS-15013       2021-08-04        2022-08-04   \n",
       "31608                    487857   BS-15013       2021-08-04        2022-08-04   \n",
       "31609                    487857   BS-15013       2021-08-04        2022-08-04   \n",
       "31610                    487857   BS-15013       2021-08-04        2022-08-04   \n",
       "31611                    487857   BS-15013       2021-08-04        2022-08-04   \n",
       "31612                    487857   BS-15013       2021-08-04        2022-08-04   \n",
       "31613                    487857   BS-15013       2021-08-04        2022-08-04   \n",
       "31614                    487857   BS-15013       2021-08-04        2022-08-04   \n",
       "31615                    487857   BS-15013       2021-08-04        2022-08-04   \n",
       "31616                    487857   BS-15013       2021-08-04        2022-08-04   \n",
       "31617                    487857   BS-15013       2021-08-04        2022-08-04   \n",
       "31618                    487857   BS-15013       2021-08-04        2022-08-04   \n",
       "31619                    487857   BS-15013       2021-08-04        2022-08-04   \n",
       "31620                    487857   BS-15013       2021-08-04        2022-08-04   \n",
       "73765                    487857   BS-15013       2021-08-04        2022-08-04   \n",
       "73766                    487857   BS-15013       2021-08-04        2022-08-04   \n",
       "73767                    487857   BS-15013       2021-08-04        2022-08-04   \n",
       "73768                    487857   BS-15013       2021-08-04        2022-08-04   \n",
       "73769                    487857   BS-15013       2021-08-04        2022-08-04   \n",
       "73770                    487857   BS-15013       2021-08-04        2022-08-04   \n",
       "73771                    487857   BS-15013       2021-08-04        2022-08-04   \n",
       "73772                    487857   BS-15013       2021-08-04        2022-08-04   \n",
       "73773                    487857   BS-15013       2021-08-04        2022-08-04   \n",
       "73774                    487857   BS-15013       2021-08-04        2022-08-04   \n",
       "73775                    487857   BS-15013       2021-08-04        2022-08-04   \n",
       "73776                    487857   BS-15013       2021-08-04        2022-08-04   \n",
       "73777                    487857   BS-15013       2021-08-04        2022-08-04   \n",
       "73778                    487857   BS-15013       2021-08-04        2022-08-04   \n",
       "73779                    487857   BS-15013       2021-08-04        2022-08-04   \n",
       "73780                    487857   BS-15013       2021-08-04        2022-08-04   \n",
       "117842                   487857   BS-15013       2021-08-04        2022-08-04   \n",
       "117843                   487857   BS-15013       2021-08-04        2022-08-04   \n",
       "117844                   487857   BS-15013       2021-08-04        2022-08-04   \n",
       "117845                   487857   BS-15013       2021-08-04        2022-08-04   \n",
       "117846                   487857   BS-15013       2021-08-04        2022-08-04   \n",
       "117847                   487857   BS-15013       2021-08-04        2022-08-04   \n",
       "117848                   487857   BS-15013       2021-08-04        2022-08-04   \n",
       "117849                   487857   BS-15013       2021-08-04        2022-08-04   \n",
       "117850                   487857   BS-15013       2021-08-04        2022-08-04   \n",
       "117851                   487857   BS-15013       2021-08-04        2022-08-04   \n",
       "117852                   487857   BS-15013       2021-08-04        2022-08-04   \n",
       "117853                   487857   BS-15013       2021-08-04        2022-08-04   \n",
       "117854                   487857   BS-15013       2021-08-04        2022-08-04   \n",
       "117855                   487857   BS-15013       2021-08-04        2022-08-04   \n",
       "117856                   487857   BS-15013       2021-08-04        2022-08-04   \n",
       "117857                   487857   BS-15013       2021-08-04        2022-08-04   \n",
       "117858                   487857   BS-15013       2021-08-04        2022-08-04   \n",
       "117859                   487857   BS-15013       2021-08-04        2022-08-04   \n",
       "117860                   487857   BS-15013       2021-08-04        2022-08-04   \n",
       "117861                   487857   BS-15013       2021-08-04        2022-08-04   \n",
       "\n",
       "                permit_certificate_type  year  \n",
       "31601                   Building Permit  2020  \n",
       "31602                   Building Permit  2020  \n",
       "31603                   Building Permit  2020  \n",
       "31604   Certificate of Final Inspection  2021  \n",
       "31605   Certificate of Final Inspection  2021  \n",
       "31606   Certificate of Final Inspection  2021  \n",
       "31607   Certificate of Final Inspection  2021  \n",
       "31608   Certificate of Final Inspection  2021  \n",
       "31609   Certificate of Final Inspection  2021  \n",
       "31610   Certificate of Final Inspection  2021  \n",
       "31611   Certificate of Final Inspection  2021  \n",
       "31612                   Building Permit  2020  \n",
       "31613                   Building Permit  2020  \n",
       "31614                   Building Permit  2020  \n",
       "31615                   Building Permit  2020  \n",
       "31616                   Building Permit  2020  \n",
       "31617   Certificate of Final Inspection  2021  \n",
       "31618   Certificate of Final Inspection  2021  \n",
       "31619   Certificate of Final Inspection  2021  \n",
       "31620                   Building Permit  2020  \n",
       "73765   Certificate of Final Inspection  2021  \n",
       "73766                   Building Permit  2020  \n",
       "73767                   Building Permit  2020  \n",
       "73768                   Building Permit  2020  \n",
       "73769                   Building Permit  2020  \n",
       "73770   Certificate of Final Inspection  2021  \n",
       "73771   Certificate of Final Inspection  2021  \n",
       "73772   Certificate of Final Inspection  2021  \n",
       "73773   Certificate of Final Inspection  2021  \n",
       "73774                   Building Permit  2020  \n",
       "73775                   Building Permit  2020  \n",
       "73776                   Building Permit  2020  \n",
       "73777                   Building Permit  2020  \n",
       "73778                   Building Permit  2020  \n",
       "73779   Certificate of Final Inspection  2021  \n",
       "73780   Certificate of Final Inspection  2021  \n",
       "117842                  Building Permit  2020  \n",
       "117843                  Building Permit  2020  \n",
       "117844                  Building Permit  2020  \n",
       "117845                  Building Permit  2020  \n",
       "117846                  Building Permit  2020  \n",
       "117847  Certificate of Final Inspection  2021  \n",
       "117848  Certificate of Final Inspection  2021  \n",
       "117849  Certificate of Final Inspection  2021  \n",
       "117850                  Building Permit  2020  \n",
       "117851                  Building Permit  2020  \n",
       "117852                  Building Permit  2020  \n",
       "117853                  Building Permit  2020  \n",
       "117854  Certificate of Final Inspection  2021  \n",
       "117855  Certificate of Final Inspection  2021  \n",
       "117856  Certificate of Final Inspection  2021  \n",
       "117857  Certificate of Final Inspection  2021  \n",
       "117858  Certificate of Final Inspection  2021  \n",
       "117859  Certificate of Final Inspection  2021  \n",
       "117860  Certificate of Final Inspection  2021  \n",
       "117861                  Building Permit  2020  "
      ]
     },
     "execution_count": 87,
     "metadata": {},
     "output_type": "execute_result"
    }
   ],
   "source": [
    "predictor[predictor['council_ref'] == 'BP-2020-1544']"
   ]
  },
  {
   "cell_type": "code",
   "execution_count": 88,
   "metadata": {},
   "outputs": [
    {
     "data": {
      "text/html": [
       "<div>\n",
       "<style scoped>\n",
       "    .dataframe tbody tr th:only-of-type {\n",
       "        vertical-align: middle;\n",
       "    }\n",
       "\n",
       "    .dataframe tbody tr th {\n",
       "        vertical-align: top;\n",
       "    }\n",
       "\n",
       "    .dataframe thead th {\n",
       "        text-align: right;\n",
       "    }\n",
       "</style>\n",
       "<table border=\"1\" class=\"dataframe\">\n",
       "  <thead>\n",
       "    <tr style=\"text-align: right;\">\n",
       "      <th></th>\n",
       "      <th>council_ref</th>\n",
       "      <th>permit_number</th>\n",
       "      <th>issue_date</th>\n",
       "      <th>address</th>\n",
       "      <th>desc_of_works</th>\n",
       "      <th>estimated_cost_of_works</th>\n",
       "      <th>rbs_number</th>\n",
       "      <th>commence_by_date</th>\n",
       "      <th>completed_by_date</th>\n",
       "      <th>permit_certificate_type</th>\n",
       "      <th>year</th>\n",
       "    </tr>\n",
       "  </thead>\n",
       "  <tbody>\n",
       "    <tr>\n",
       "      <th>14343</th>\n",
       "      <td>BP-2016-2421</td>\n",
       "      <td>2622020160057/0</td>\n",
       "      <td>1478131200000</td>\n",
       "      <td>269-321 Lonsdale Street MELBOURNE VIC 3000</td>\n",
       "      <td>(LG-26) Tenancy fitout of Shop (6c) - Fleet St...</td>\n",
       "      <td>45000</td>\n",
       "      <td>None</td>\n",
       "      <td>2017-11-03</td>\n",
       "      <td>2019-11-03</td>\n",
       "      <td>Building Permit</td>\n",
       "      <td>2016</td>\n",
       "    </tr>\n",
       "    <tr>\n",
       "      <th>62171</th>\n",
       "      <td>BP-2016-2421</td>\n",
       "      <td>2622020160057/0</td>\n",
       "      <td>1478131200000</td>\n",
       "      <td>Shop 26 LwrGround 287 Lonsdale Street MELBOURN...</td>\n",
       "      <td>(LG-26) Tenancy fitout of Shop (6c) - Fleet St...</td>\n",
       "      <td>45000</td>\n",
       "      <td>None</td>\n",
       "      <td>2017-11-03</td>\n",
       "      <td>2019-11-03</td>\n",
       "      <td>Building Permit</td>\n",
       "      <td>2016</td>\n",
       "    </tr>\n",
       "  </tbody>\n",
       "</table>\n",
       "</div>"
      ],
      "text/plain": [
       "        council_ref    permit_number     issue_date  \\\n",
       "14343  BP-2016-2421  2622020160057/0  1478131200000   \n",
       "62171  BP-2016-2421  2622020160057/0  1478131200000   \n",
       "\n",
       "                                                 address  \\\n",
       "14343         269-321 Lonsdale Street MELBOURNE VIC 3000   \n",
       "62171  Shop 26 LwrGround 287 Lonsdale Street MELBOURN...   \n",
       "\n",
       "                                           desc_of_works  \\\n",
       "14343  (LG-26) Tenancy fitout of Shop (6c) - Fleet St...   \n",
       "62171  (LG-26) Tenancy fitout of Shop (6c) - Fleet St...   \n",
       "\n",
       "       estimated_cost_of_works rbs_number commence_by_date completed_by_date  \\\n",
       "14343                    45000       None       2017-11-03        2019-11-03   \n",
       "62171                    45000       None       2017-11-03        2019-11-03   \n",
       "\n",
       "      permit_certificate_type  year  \n",
       "14343         Building Permit  2016  \n",
       "62171         Building Permit  2016  "
      ]
     },
     "execution_count": 88,
     "metadata": {},
     "output_type": "execute_result"
    }
   ],
   "source": [
    "predictor[predictor['council_ref'] == 'BP-2016-2421']"
   ]
  },
  {
   "cell_type": "code",
   "execution_count": 89,
   "metadata": {},
   "outputs": [
    {
     "data": {
      "text/plain": [
       "{'Building Permit',\n",
       " 'Certificate of Final Inspection',\n",
       " 'Certificate of Occupancy',\n",
       " 'Occupancy Permit'}"
      ]
     },
     "execution_count": 89,
     "metadata": {},
     "output_type": "execute_result"
    }
   ],
   "source": [
    "set(predictor['permit_certificate_type'])"
   ]
  },
  {
   "cell_type": "markdown",
   "metadata": {},
   "source": [
    "Appears that for a single building, a building permit has to be given out for each room that will be going under construction, given that the building is an apartment. Further, there seems to be overlapping records if the location has multiple options of displaying the address (lower ground, level, unit, etc.). Thus, to reduce a single apartment having too much leverage on the model, we should drop duplicates by permit_number. \n",
    "\n",
    "Only keeping 1 record per permit number will resolve the following:\n",
    "- Slightly differing addresses causing multiple records\n",
    "- Removal of same apartment having multiple records per building work due to it impacting multiple rooms/units\n",
    "- It will keep the difference between building permit, certificate of final inspection, and so on. This will give points for more active buildings which have their construction complete\n"
   ]
  },
  {
   "cell_type": "code",
   "execution_count": 90,
   "metadata": {},
   "outputs": [
    {
     "data": {
      "text/plain": [
       "30968"
      ]
     },
     "execution_count": 90,
     "metadata": {},
     "output_type": "execute_result"
    }
   ],
   "source": [
    "# Remove duplicate permit numbers\n",
    "\n",
    "predictor_clean = predictor.drop_duplicates(subset=['permit_number'])\n",
    "len(predictor_clean)"
   ]
  },
  {
   "cell_type": "markdown",
   "metadata": {},
   "source": [
    "It appears that we have have roughly removed half the records by doing so. Now, we group the dataset by year so that we can get a dataset we can use in our model"
   ]
  },
  {
   "cell_type": "code",
   "execution_count": 91,
   "metadata": {},
   "outputs": [],
   "source": [
    "predictor_clean = predictor_clean.groupby('year')['council_ref'].count().reset_index(name='count')"
   ]
  },
  {
   "cell_type": "markdown",
   "metadata": {},
   "source": [
    "Note that our response dataset only has data between 2001 ~ 2021. We remove the year 2000, but 2022 ~ 2024 can be used as the model's performance indicator :D"
   ]
  },
  {
   "cell_type": "code",
   "execution_count": 92,
   "metadata": {},
   "outputs": [],
   "source": [
    "predictor_clean = predictor_clean[predictor_clean['year'] > 2000]"
   ]
  },
  {
   "cell_type": "code",
   "execution_count": 93,
   "metadata": {},
   "outputs": [],
   "source": [
    "predictor_clean = predictor_clean.rename(columns={'count': 'building_permit_count'})"
   ]
  },
  {
   "cell_type": "markdown",
   "metadata": {},
   "source": [
    "Now that we've finalised processing both datasets, we join them"
   ]
  },
  {
   "cell_type": "code",
   "execution_count": 94,
   "metadata": {},
   "outputs": [],
   "source": [
    "analysis_df = pd.merge(predictor_clean, response_clean, on='year')\n",
    "analysis_df['year'] = pd.to_numeric(analysis_df['year'])\n",
    "analysis_df['building_permit_count'] = pd.to_numeric(analysis_df['building_permit_count'])\n",
    "analysis_df['population'] = pd.to_numeric(analysis_df['population'])\n"
   ]
  },
  {
   "cell_type": "code",
   "execution_count": 95,
   "metadata": {},
   "outputs": [
    {
     "name": "stdout",
     "output_type": "stream",
     "text": [
      "Correlation between building permit count and population: 0.87\n"
     ]
    }
   ],
   "source": [
    "# Calculate and display correlation\n",
    "correlation = analysis_df['building_permit_count'].corr(analysis_df['population'])\n",
    "print(f\"Correlation between building permit count and population: {correlation:.2f}\")\n",
    "\n"
   ]
  },
  {
   "cell_type": "markdown",
   "metadata": {},
   "source": [
    "This calculates the Pearson correlation coefficient between building_permit_count and population and prints it.The correlation coefficient of 0.87 indicates a strong positive correlation between building permit counts and population. This means that as the number of building permits increases, the population also tends to increase."
   ]
  },
  {
   "cell_type": "code",
   "execution_count": 96,
   "metadata": {},
   "outputs": [
    {
     "name": "stdout",
     "output_type": "stream",
     "text": [
      "                            OLS Regression Results                            \n",
      "==============================================================================\n",
      "Dep. Variable:             population   R-squared:                       0.763\n",
      "Model:                            OLS   Adj. R-squared:                  0.750\n",
      "Method:                 Least Squares   F-statistic:                     61.04\n",
      "Date:                Sat, 18 May 2024   Prob (F-statistic):           2.38e-07\n",
      "Time:                        20:18:59   Log-Likelihood:                -237.49\n",
      "No. Observations:                  21   AIC:                             479.0\n",
      "Df Residuals:                      19   BIC:                             481.1\n",
      "Df Model:                           1                                         \n",
      "Covariance Type:            nonrobust                                         \n",
      "=========================================================================================\n",
      "                            coef    std err          t      P>|t|      [0.025      0.975]\n",
      "-----------------------------------------------------------------------------------------\n",
      "Intercept              8.575e+04   5726.443     14.975      0.000    7.38e+04    9.77e+04\n",
      "building_permit_count    23.2244      2.973      7.813      0.000      17.002      29.446\n",
      "==============================================================================\n",
      "Omnibus:                        1.189   Durbin-Watson:                   0.507\n",
      "Prob(Omnibus):                  0.552   Jarque-Bera (JB):                1.043\n",
      "Skew:                           0.485   Prob(JB):                        0.594\n",
      "Kurtosis:                       2.497   Cond. No.                     2.44e+03\n",
      "==============================================================================\n",
      "\n",
      "Notes:\n",
      "[1] Standard Errors assume that the covariance matrix of the errors is correctly specified.\n",
      "[2] The condition number is large, 2.44e+03. This might indicate that there are\n",
      "strong multicollinearity or other numerical problems.\n"
     ]
    }
   ],
   "source": [
    "partial_model = ols(\n",
    "    formula='population ~ building_permit_count',\n",
    "    data=analysis_df\n",
    ").fit()\n",
    "\n",
    "print(partial_model.summary())"
   ]
  },
  {
   "cell_type": "code",
   "execution_count": 97,
   "metadata": {},
   "outputs": [
    {
     "name": "stdout",
     "output_type": "stream",
     "text": [
      "                            OLS Regression Results                            \n",
      "==============================================================================\n",
      "Dep. Variable:             population   R-squared:                       0.979\n",
      "Model:                            OLS   Adj. R-squared:                  0.977\n",
      "Method:                 Least Squares   F-statistic:                     429.4\n",
      "Date:                Sat, 18 May 2024   Prob (F-statistic):           6.47e-16\n",
      "Time:                        20:18:59   Log-Likelihood:                -211.79\n",
      "No. Observations:                  21   AIC:                             429.6\n",
      "Df Residuals:                      18   BIC:                             432.7\n",
      "Df Model:                           2                                         \n",
      "Covariance Type:            nonrobust                                         \n",
      "=========================================================================================\n",
      "                            coef    std err          t      P>|t|      [0.025      0.975]\n",
      "-----------------------------------------------------------------------------------------\n",
      "Intercept             -1.074e+07   7.85e+05    -13.680      0.000   -1.24e+07   -9.09e+06\n",
      "building_permit_count     5.7258      1.555      3.683      0.002       2.460       8.992\n",
      "year                   5392.5226    391.053     13.790      0.000    4570.951    6214.094\n",
      "==============================================================================\n",
      "Omnibus:                        4.523   Durbin-Watson:                   1.005\n",
      "Prob(Omnibus):                  0.104   Jarque-Bera (JB):                2.483\n",
      "Skew:                           0.742   Prob(JB):                        0.289\n",
      "Kurtosis:                       3.796   Cond. No.                     1.44e+06\n",
      "==============================================================================\n",
      "\n",
      "Notes:\n",
      "[1] Standard Errors assume that the covariance matrix of the errors is correctly specified.\n",
      "[2] The condition number is large, 1.44e+06. This might indicate that there are\n",
      "strong multicollinearity or other numerical problems.\n"
     ]
    }
   ],
   "source": [
    "full_model = ols(\n",
    "    formula='population ~ building_permit_count + year',\n",
    "    data=analysis_df\n",
    ").fit()\n",
    "\n",
    "print(full_model.summary())"
   ]
  },
  {
   "cell_type": "markdown",
   "metadata": {},
   "source": [
    "It appears that adding the year as a variable after having building permit counts is still statistically significant. We also test for interaction"
   ]
  },
  {
   "cell_type": "code",
   "execution_count": 98,
   "metadata": {},
   "outputs": [
    {
     "name": "stdout",
     "output_type": "stream",
     "text": [
      "                            OLS Regression Results                            \n",
      "==============================================================================\n",
      "Dep. Variable:             population   R-squared:                       0.989\n",
      "Model:                            OLS   Adj. R-squared:                  0.987\n",
      "Method:                 Least Squares   F-statistic:                     500.4\n",
      "Date:                Sat, 18 May 2024   Prob (F-statistic):           8.93e-17\n",
      "Time:                        20:19:00   Log-Likelihood:                -205.43\n",
      "No. Observations:                  21   AIC:                             418.9\n",
      "Df Residuals:                      17   BIC:                             423.0\n",
      "Df Model:                           3                                         \n",
      "Covariance Type:            nonrobust                                         \n",
      "==============================================================================================\n",
      "                                 coef    std err          t      P>|t|      [0.025      0.975]\n",
      "----------------------------------------------------------------------------------------------\n",
      "Intercept                  -9.679e+06    6.6e+05    -14.675      0.000   -1.11e+07   -8.29e+06\n",
      "building_permit_count      -2315.0333    616.603     -3.754      0.002   -3615.953   -1014.114\n",
      "year                        4864.8852    328.593     14.805      0.000    4171.616    5558.155\n",
      "building_permit_count:year     1.1512      0.306      3.764      0.002       0.506       1.797\n",
      "==============================================================================\n",
      "Omnibus:                        8.707   Durbin-Watson:                   2.012\n",
      "Prob(Omnibus):                  0.013   Jarque-Bera (JB):               12.948\n",
      "Skew:                          -0.146   Prob(JB):                      0.00154\n",
      "Kurtosis:                       6.836   Cond. No.                     2.47e+09\n",
      "==============================================================================\n",
      "\n",
      "Notes:\n",
      "[1] Standard Errors assume that the covariance matrix of the errors is correctly specified.\n",
      "[2] The condition number is large, 2.47e+09. This might indicate that there are\n",
      "strong multicollinearity or other numerical problems.\n"
     ]
    }
   ],
   "source": [
    "interaction_model = ols(\n",
    "    formula='population ~ building_permit_count + year + building_permit_count*year',\n",
    "    data=analysis_df\n",
    ").fit()\n",
    "\n",
    "print(interaction_model.summary())"
   ]
  },
  {
   "cell_type": "markdown",
   "metadata": {},
   "source": [
    "Interaction also seems to be significant, even with the other 2 features already being added to the model. Test for goodness of fit"
   ]
  },
  {
   "cell_type": "code",
   "execution_count": 99,
   "metadata": {},
   "outputs": [
    {
     "data": {
      "text/plain": [
       "True"
      ]
     },
     "execution_count": 99,
     "metadata": {},
     "output_type": "execute_result"
    }
   ],
   "source": [
    "interaction_model.aic < full_model.aic"
   ]
  },
  {
   "cell_type": "code",
   "execution_count": 100,
   "metadata": {},
   "outputs": [
    {
     "data": {
      "text/html": [
       "<div>\n",
       "<style scoped>\n",
       "    .dataframe tbody tr th:only-of-type {\n",
       "        vertical-align: middle;\n",
       "    }\n",
       "\n",
       "    .dataframe tbody tr th {\n",
       "        vertical-align: top;\n",
       "    }\n",
       "\n",
       "    .dataframe thead th {\n",
       "        text-align: right;\n",
       "    }\n",
       "</style>\n",
       "<table border=\"1\" class=\"dataframe\">\n",
       "  <thead>\n",
       "    <tr style=\"text-align: right;\">\n",
       "      <th></th>\n",
       "      <th>df</th>\n",
       "      <th>sum_sq</th>\n",
       "      <th>mean_sq</th>\n",
       "      <th>F</th>\n",
       "      <th>PR(&gt;F)</th>\n",
       "    </tr>\n",
       "  </thead>\n",
       "  <tbody>\n",
       "    <tr>\n",
       "      <th>building_permit_count</th>\n",
       "      <td>1.0</td>\n",
       "      <td>2.627851e+10</td>\n",
       "      <td>2.627851e+10</td>\n",
       "      <td>1157.817349</td>\n",
       "      <td>4.438442e-17</td>\n",
       "    </tr>\n",
       "    <tr>\n",
       "      <th>year</th>\n",
       "      <td>1.0</td>\n",
       "      <td>7.472806e+09</td>\n",
       "      <td>7.472806e+09</td>\n",
       "      <td>329.247827</td>\n",
       "      <td>1.459208e-12</td>\n",
       "    </tr>\n",
       "    <tr>\n",
       "      <th>building_permit_count:year</th>\n",
       "      <td>1.0</td>\n",
       "      <td>3.215219e+08</td>\n",
       "      <td>3.215219e+08</td>\n",
       "      <td>14.166084</td>\n",
       "      <td>1.547890e-03</td>\n",
       "    </tr>\n",
       "    <tr>\n",
       "      <th>Residual</th>\n",
       "      <td>17.0</td>\n",
       "      <td>3.858422e+08</td>\n",
       "      <td>2.269660e+07</td>\n",
       "      <td>NaN</td>\n",
       "      <td>NaN</td>\n",
       "    </tr>\n",
       "  </tbody>\n",
       "</table>\n",
       "</div>"
      ],
      "text/plain": [
       "                              df        sum_sq       mean_sq            F  \\\n",
       "building_permit_count        1.0  2.627851e+10  2.627851e+10  1157.817349   \n",
       "year                         1.0  7.472806e+09  7.472806e+09   329.247827   \n",
       "building_permit_count:year   1.0  3.215219e+08  3.215219e+08    14.166084   \n",
       "Residual                    17.0  3.858422e+08  2.269660e+07          NaN   \n",
       "\n",
       "                                  PR(>F)  \n",
       "building_permit_count       4.438442e-17  \n",
       "year                        1.459208e-12  \n",
       "building_permit_count:year  1.547890e-03  \n",
       "Residual                             NaN  "
      ]
     },
     "execution_count": 100,
     "metadata": {},
     "output_type": "execute_result"
    }
   ],
   "source": [
    "anova_lm(interaction_model)"
   ]
  },
  {
   "cell_type": "markdown",
   "metadata": {},
   "source": [
    "Attempt to predict 2022, 2023 and 2024 population"
   ]
  },
  {
   "cell_type": "code",
   "execution_count": 101,
   "metadata": {},
   "outputs": [],
   "source": [
    "predict_df = predictor_clean.iloc[21:]"
   ]
  },
  {
   "cell_type": "code",
   "execution_count": 102,
   "metadata": {},
   "outputs": [
    {
     "data": {
      "text/plain": [
       "22    194064.006210\n",
       "23    201738.853350\n",
       "24    175977.057089\n",
       "dtype: float64"
      ]
     },
     "execution_count": 102,
     "metadata": {},
     "output_type": "execute_result"
    }
   ],
   "source": [
    "interaction_model.predict(predict_df)"
   ]
  },
  {
   "cell_type": "markdown",
   "metadata": {},
   "source": [
    "Round the numbers to the nearest whole. Thus, our final conclusion can be:\n",
    "\n",
    "### 2022\n",
    "\n",
    "194064 people\n",
    "\n",
    "### 2023\n",
    "\n",
    "201739 people\n",
    "\n",
    "### 2024\n",
    "\n",
    "175977 people"
   ]
  },
  {
   "cell_type": "code",
   "execution_count": 60,
   "metadata": {},
   "outputs": [
    {
     "data": {
      "application/vnd.plotly.v1+json": {
       "config": {
        "plotlyServerURL": "https://plot.ly"
       },
       "data": [
        {
         "line": {
          "color": "rgba(31, 119, 180, 0.8)",
          "width": 3
         },
         "marker": {
          "color": "rgba(31, 119, 180, 0.8)",
          "line": {
           "color": "darkblue",
           "width": 2
          },
          "size": 10
         },
         "mode": "markers+lines",
         "name": "Actual Population",
         "type": "scatter",
         "visible": true,
         "x": [
          2001,
          2002,
          2003,
          2004,
          2005,
          2006,
          2007,
          2008,
          2009,
          2010,
          2011,
          2012,
          2013,
          2014,
          2015,
          2016,
          2017,
          2018,
          2019,
          2020,
          2021
         ],
         "y": [
          55398,
          60415,
          65954,
          71425,
          76034,
          80154,
          85366,
          89937,
          94247,
          97623,
          100240,
          107578,
          118711,
          127975,
          136872,
          146096,
          159141,
          170317,
          178994,
          183628,
          169860
         ]
        },
        {
         "line": {
          "color": "rgba(255, 127, 14, 0.8)",
          "dash": "dash",
          "width": 3
         },
         "mode": "lines",
         "name": "Predicted Population",
         "type": "scatter",
         "visible": true,
         "x": [
          2001,
          2002,
          2003,
          2004,
          2005,
          2006,
          2007,
          2008,
          2009,
          2010,
          2011,
          2012,
          2013,
          2014,
          2015,
          2016,
          2017,
          2018,
          2019,
          2020,
          2021
         ],
         "y": [
          55725.573813978335,
          60581.32423249815,
          65457.64668633996,
          70323.6831225217,
          75182.88720834203,
          80038.71261110701,
          84917.26252557375,
          89784.45018418776,
          94624.90831532679,
          99502.68192858528,
          104389.83735653748,
          109303.47529250065,
          114339.11195570015,
          127071.71683130786,
          138390.45238156058,
          149509.81017541327,
          158753.41624682397,
          169038.441998329,
          174956.70441673603,
          171525.5671240827,
          182547.33559859917
         ]
        },
        {
         "line": {
          "color": "rgba(44, 160, 44, 0.8)",
          "dash": "dash",
          "width": 3
         },
         "marker": {
          "color": "rgba(44, 160, 44, 0.8)",
          "line": {
           "color": "darkgreen",
           "width": 2
          },
          "size": 10
         },
         "mode": "markers+lines",
         "name": "Future Predictions",
         "type": "scatter",
         "x": [
          2022,
          2023,
          2024
         ],
         "y": [
          194064.0062100524,
          201738.85335027333,
          175977.05708852736
         ]
        },
        {
         "fill": "toself",
         "fillcolor": "rgba(44, 160, 44, 0.2)",
         "hoverinfo": "skip",
         "line": {
          "color": "rgba(44, 160, 44, 0.0)"
         },
         "showlegend": false,
         "type": "scatter",
         "x": [
          2022,
          2023,
          2024,
          2024,
          2023,
          2022
         ],
         "y": [
          174657.60558904716,
          181564.968015246,
          158379.35137967463,
          193574.76279738013,
          221912.7386853007,
          213470.40683105765
         ]
        }
       ],
       "layout": {
        "annotations": [
         {
          "arrowcolor": "black",
          "arrowhead": 2,
          "ax": 0,
          "ay": -40,
          "font": {
           "color": "black",
           "size": 12
          },
          "showarrow": true,
          "text": "194,064",
          "x": 2022,
          "xref": "x",
          "y": 194064.0062100524,
          "yref": "y"
         },
         {
          "arrowcolor": "black",
          "arrowhead": 2,
          "ax": 0,
          "ay": -40,
          "font": {
           "color": "black",
           "size": 12
          },
          "showarrow": true,
          "text": "201,738",
          "x": 2023,
          "xref": "x",
          "y": 201738.85335027333,
          "yref": "y"
         },
         {
          "arrowcolor": "black",
          "arrowhead": 2,
          "ax": 0,
          "ay": -40,
          "font": {
           "color": "black",
           "size": 12
          },
          "showarrow": true,
          "text": "175,977",
          "x": 2024,
          "xref": "x",
          "y": 175977.05708852736,
          "yref": "y"
         }
        ],
        "autosize": true,
        "font": {
         "family": "Arial, sans-serif",
         "size": 14
        },
        "hovermode": "x unified",
        "legend": {
         "bgcolor": "rgba(255,255,255,0.5)",
         "bordercolor": "grey",
         "borderwidth": 1,
         "traceorder": "normal",
         "x": 0.01,
         "y": 0.99
        },
        "margin": {
         "b": 40,
         "l": 40,
         "r": 40,
         "t": 60
        },
        "plot_bgcolor": "white",
        "template": {
         "data": {
          "bar": [
           {
            "error_x": {
             "color": "#2a3f5f"
            },
            "error_y": {
             "color": "#2a3f5f"
            },
            "marker": {
             "line": {
              "color": "white",
              "width": 0.5
             },
             "pattern": {
              "fillmode": "overlay",
              "size": 10,
              "solidity": 0.2
             }
            },
            "type": "bar"
           }
          ],
          "barpolar": [
           {
            "marker": {
             "line": {
              "color": "white",
              "width": 0.5
             },
             "pattern": {
              "fillmode": "overlay",
              "size": 10,
              "solidity": 0.2
             }
            },
            "type": "barpolar"
           }
          ],
          "carpet": [
           {
            "aaxis": {
             "endlinecolor": "#2a3f5f",
             "gridcolor": "#C8D4E3",
             "linecolor": "#C8D4E3",
             "minorgridcolor": "#C8D4E3",
             "startlinecolor": "#2a3f5f"
            },
            "baxis": {
             "endlinecolor": "#2a3f5f",
             "gridcolor": "#C8D4E3",
             "linecolor": "#C8D4E3",
             "minorgridcolor": "#C8D4E3",
             "startlinecolor": "#2a3f5f"
            },
            "type": "carpet"
           }
          ],
          "choropleth": [
           {
            "colorbar": {
             "outlinewidth": 0,
             "ticks": ""
            },
            "type": "choropleth"
           }
          ],
          "contour": [
           {
            "colorbar": {
             "outlinewidth": 0,
             "ticks": ""
            },
            "colorscale": [
             [
              0,
              "#0d0887"
             ],
             [
              0.1111111111111111,
              "#46039f"
             ],
             [
              0.2222222222222222,
              "#7201a8"
             ],
             [
              0.3333333333333333,
              "#9c179e"
             ],
             [
              0.4444444444444444,
              "#bd3786"
             ],
             [
              0.5555555555555556,
              "#d8576b"
             ],
             [
              0.6666666666666666,
              "#ed7953"
             ],
             [
              0.7777777777777778,
              "#fb9f3a"
             ],
             [
              0.8888888888888888,
              "#fdca26"
             ],
             [
              1,
              "#f0f921"
             ]
            ],
            "type": "contour"
           }
          ],
          "contourcarpet": [
           {
            "colorbar": {
             "outlinewidth": 0,
             "ticks": ""
            },
            "type": "contourcarpet"
           }
          ],
          "heatmap": [
           {
            "colorbar": {
             "outlinewidth": 0,
             "ticks": ""
            },
            "colorscale": [
             [
              0,
              "#0d0887"
             ],
             [
              0.1111111111111111,
              "#46039f"
             ],
             [
              0.2222222222222222,
              "#7201a8"
             ],
             [
              0.3333333333333333,
              "#9c179e"
             ],
             [
              0.4444444444444444,
              "#bd3786"
             ],
             [
              0.5555555555555556,
              "#d8576b"
             ],
             [
              0.6666666666666666,
              "#ed7953"
             ],
             [
              0.7777777777777778,
              "#fb9f3a"
             ],
             [
              0.8888888888888888,
              "#fdca26"
             ],
             [
              1,
              "#f0f921"
             ]
            ],
            "type": "heatmap"
           }
          ],
          "heatmapgl": [
           {
            "colorbar": {
             "outlinewidth": 0,
             "ticks": ""
            },
            "colorscale": [
             [
              0,
              "#0d0887"
             ],
             [
              0.1111111111111111,
              "#46039f"
             ],
             [
              0.2222222222222222,
              "#7201a8"
             ],
             [
              0.3333333333333333,
              "#9c179e"
             ],
             [
              0.4444444444444444,
              "#bd3786"
             ],
             [
              0.5555555555555556,
              "#d8576b"
             ],
             [
              0.6666666666666666,
              "#ed7953"
             ],
             [
              0.7777777777777778,
              "#fb9f3a"
             ],
             [
              0.8888888888888888,
              "#fdca26"
             ],
             [
              1,
              "#f0f921"
             ]
            ],
            "type": "heatmapgl"
           }
          ],
          "histogram": [
           {
            "marker": {
             "pattern": {
              "fillmode": "overlay",
              "size": 10,
              "solidity": 0.2
             }
            },
            "type": "histogram"
           }
          ],
          "histogram2d": [
           {
            "colorbar": {
             "outlinewidth": 0,
             "ticks": ""
            },
            "colorscale": [
             [
              0,
              "#0d0887"
             ],
             [
              0.1111111111111111,
              "#46039f"
             ],
             [
              0.2222222222222222,
              "#7201a8"
             ],
             [
              0.3333333333333333,
              "#9c179e"
             ],
             [
              0.4444444444444444,
              "#bd3786"
             ],
             [
              0.5555555555555556,
              "#d8576b"
             ],
             [
              0.6666666666666666,
              "#ed7953"
             ],
             [
              0.7777777777777778,
              "#fb9f3a"
             ],
             [
              0.8888888888888888,
              "#fdca26"
             ],
             [
              1,
              "#f0f921"
             ]
            ],
            "type": "histogram2d"
           }
          ],
          "histogram2dcontour": [
           {
            "colorbar": {
             "outlinewidth": 0,
             "ticks": ""
            },
            "colorscale": [
             [
              0,
              "#0d0887"
             ],
             [
              0.1111111111111111,
              "#46039f"
             ],
             [
              0.2222222222222222,
              "#7201a8"
             ],
             [
              0.3333333333333333,
              "#9c179e"
             ],
             [
              0.4444444444444444,
              "#bd3786"
             ],
             [
              0.5555555555555556,
              "#d8576b"
             ],
             [
              0.6666666666666666,
              "#ed7953"
             ],
             [
              0.7777777777777778,
              "#fb9f3a"
             ],
             [
              0.8888888888888888,
              "#fdca26"
             ],
             [
              1,
              "#f0f921"
             ]
            ],
            "type": "histogram2dcontour"
           }
          ],
          "mesh3d": [
           {
            "colorbar": {
             "outlinewidth": 0,
             "ticks": ""
            },
            "type": "mesh3d"
           }
          ],
          "parcoords": [
           {
            "line": {
             "colorbar": {
              "outlinewidth": 0,
              "ticks": ""
             }
            },
            "type": "parcoords"
           }
          ],
          "pie": [
           {
            "automargin": true,
            "type": "pie"
           }
          ],
          "scatter": [
           {
            "fillpattern": {
             "fillmode": "overlay",
             "size": 10,
             "solidity": 0.2
            },
            "type": "scatter"
           }
          ],
          "scatter3d": [
           {
            "line": {
             "colorbar": {
              "outlinewidth": 0,
              "ticks": ""
             }
            },
            "marker": {
             "colorbar": {
              "outlinewidth": 0,
              "ticks": ""
             }
            },
            "type": "scatter3d"
           }
          ],
          "scattercarpet": [
           {
            "marker": {
             "colorbar": {
              "outlinewidth": 0,
              "ticks": ""
             }
            },
            "type": "scattercarpet"
           }
          ],
          "scattergeo": [
           {
            "marker": {
             "colorbar": {
              "outlinewidth": 0,
              "ticks": ""
             }
            },
            "type": "scattergeo"
           }
          ],
          "scattergl": [
           {
            "marker": {
             "colorbar": {
              "outlinewidth": 0,
              "ticks": ""
             }
            },
            "type": "scattergl"
           }
          ],
          "scattermapbox": [
           {
            "marker": {
             "colorbar": {
              "outlinewidth": 0,
              "ticks": ""
             }
            },
            "type": "scattermapbox"
           }
          ],
          "scatterpolar": [
           {
            "marker": {
             "colorbar": {
              "outlinewidth": 0,
              "ticks": ""
             }
            },
            "type": "scatterpolar"
           }
          ],
          "scatterpolargl": [
           {
            "marker": {
             "colorbar": {
              "outlinewidth": 0,
              "ticks": ""
             }
            },
            "type": "scatterpolargl"
           }
          ],
          "scatterternary": [
           {
            "marker": {
             "colorbar": {
              "outlinewidth": 0,
              "ticks": ""
             }
            },
            "type": "scatterternary"
           }
          ],
          "surface": [
           {
            "colorbar": {
             "outlinewidth": 0,
             "ticks": ""
            },
            "colorscale": [
             [
              0,
              "#0d0887"
             ],
             [
              0.1111111111111111,
              "#46039f"
             ],
             [
              0.2222222222222222,
              "#7201a8"
             ],
             [
              0.3333333333333333,
              "#9c179e"
             ],
             [
              0.4444444444444444,
              "#bd3786"
             ],
             [
              0.5555555555555556,
              "#d8576b"
             ],
             [
              0.6666666666666666,
              "#ed7953"
             ],
             [
              0.7777777777777778,
              "#fb9f3a"
             ],
             [
              0.8888888888888888,
              "#fdca26"
             ],
             [
              1,
              "#f0f921"
             ]
            ],
            "type": "surface"
           }
          ],
          "table": [
           {
            "cells": {
             "fill": {
              "color": "#EBF0F8"
             },
             "line": {
              "color": "white"
             }
            },
            "header": {
             "fill": {
              "color": "#C8D4E3"
             },
             "line": {
              "color": "white"
             }
            },
            "type": "table"
           }
          ]
         },
         "layout": {
          "annotationdefaults": {
           "arrowcolor": "#2a3f5f",
           "arrowhead": 0,
           "arrowwidth": 1
          },
          "autotypenumbers": "strict",
          "coloraxis": {
           "colorbar": {
            "outlinewidth": 0,
            "ticks": ""
           }
          },
          "colorscale": {
           "diverging": [
            [
             0,
             "#8e0152"
            ],
            [
             0.1,
             "#c51b7d"
            ],
            [
             0.2,
             "#de77ae"
            ],
            [
             0.3,
             "#f1b6da"
            ],
            [
             0.4,
             "#fde0ef"
            ],
            [
             0.5,
             "#f7f7f7"
            ],
            [
             0.6,
             "#e6f5d0"
            ],
            [
             0.7,
             "#b8e186"
            ],
            [
             0.8,
             "#7fbc41"
            ],
            [
             0.9,
             "#4d9221"
            ],
            [
             1,
             "#276419"
            ]
           ],
           "sequential": [
            [
             0,
             "#0d0887"
            ],
            [
             0.1111111111111111,
             "#46039f"
            ],
            [
             0.2222222222222222,
             "#7201a8"
            ],
            [
             0.3333333333333333,
             "#9c179e"
            ],
            [
             0.4444444444444444,
             "#bd3786"
            ],
            [
             0.5555555555555556,
             "#d8576b"
            ],
            [
             0.6666666666666666,
             "#ed7953"
            ],
            [
             0.7777777777777778,
             "#fb9f3a"
            ],
            [
             0.8888888888888888,
             "#fdca26"
            ],
            [
             1,
             "#f0f921"
            ]
           ],
           "sequentialminus": [
            [
             0,
             "#0d0887"
            ],
            [
             0.1111111111111111,
             "#46039f"
            ],
            [
             0.2222222222222222,
             "#7201a8"
            ],
            [
             0.3333333333333333,
             "#9c179e"
            ],
            [
             0.4444444444444444,
             "#bd3786"
            ],
            [
             0.5555555555555556,
             "#d8576b"
            ],
            [
             0.6666666666666666,
             "#ed7953"
            ],
            [
             0.7777777777777778,
             "#fb9f3a"
            ],
            [
             0.8888888888888888,
             "#fdca26"
            ],
            [
             1,
             "#f0f921"
            ]
           ]
          },
          "colorway": [
           "#636efa",
           "#EF553B",
           "#00cc96",
           "#ab63fa",
           "#FFA15A",
           "#19d3f3",
           "#FF6692",
           "#B6E880",
           "#FF97FF",
           "#FECB52"
          ],
          "font": {
           "color": "#2a3f5f"
          },
          "geo": {
           "bgcolor": "white",
           "lakecolor": "white",
           "landcolor": "white",
           "showlakes": true,
           "showland": true,
           "subunitcolor": "#C8D4E3"
          },
          "hoverlabel": {
           "align": "left"
          },
          "hovermode": "closest",
          "mapbox": {
           "style": "light"
          },
          "paper_bgcolor": "white",
          "plot_bgcolor": "white",
          "polar": {
           "angularaxis": {
            "gridcolor": "#EBF0F8",
            "linecolor": "#EBF0F8",
            "ticks": ""
           },
           "bgcolor": "white",
           "radialaxis": {
            "gridcolor": "#EBF0F8",
            "linecolor": "#EBF0F8",
            "ticks": ""
           }
          },
          "scene": {
           "xaxis": {
            "backgroundcolor": "white",
            "gridcolor": "#DFE8F3",
            "gridwidth": 2,
            "linecolor": "#EBF0F8",
            "showbackground": true,
            "ticks": "",
            "zerolinecolor": "#EBF0F8"
           },
           "yaxis": {
            "backgroundcolor": "white",
            "gridcolor": "#DFE8F3",
            "gridwidth": 2,
            "linecolor": "#EBF0F8",
            "showbackground": true,
            "ticks": "",
            "zerolinecolor": "#EBF0F8"
           },
           "zaxis": {
            "backgroundcolor": "white",
            "gridcolor": "#DFE8F3",
            "gridwidth": 2,
            "linecolor": "#EBF0F8",
            "showbackground": true,
            "ticks": "",
            "zerolinecolor": "#EBF0F8"
           }
          },
          "shapedefaults": {
           "line": {
            "color": "#2a3f5f"
           }
          },
          "ternary": {
           "aaxis": {
            "gridcolor": "#DFE8F3",
            "linecolor": "#A2B1C6",
            "ticks": ""
           },
           "baxis": {
            "gridcolor": "#DFE8F3",
            "linecolor": "#A2B1C6",
            "ticks": ""
           },
           "bgcolor": "white",
           "caxis": {
            "gridcolor": "#DFE8F3",
            "linecolor": "#A2B1C6",
            "ticks": ""
           }
          },
          "title": {
           "x": 0.05
          },
          "xaxis": {
           "automargin": true,
           "gridcolor": "#EBF0F8",
           "linecolor": "#EBF0F8",
           "ticks": "",
           "title": {
            "standoff": 15
           },
           "zerolinecolor": "#EBF0F8",
           "zerolinewidth": 2
          },
          "yaxis": {
           "automargin": true,
           "gridcolor": "#EBF0F8",
           "linecolor": "#EBF0F8",
           "ticks": "",
           "title": {
            "standoff": 15
           },
           "zerolinecolor": "#EBF0F8",
           "zerolinewidth": 2
          }
         }
        },
        "title": {
         "font": {
          "size": 24
         },
         "text": "Population Predictions for 2022, 2023, 2024<br><sup>Actual vs Predicted Population</sup>",
         "x": 0.5,
         "xanchor": "center",
         "yanchor": "top"
        },
        "xaxis": {
         "anchor": "y",
         "autorange": true,
         "domain": [
          0,
          1
         ],
         "gridcolor": "lightgrey",
         "range": [
          1999.443231441048,
          2025.556768558952
         ],
         "showgrid": true,
         "tickangle": 45,
         "tickfont": {
          "size": 12
         },
         "title": {
          "text": "Year"
         },
         "type": "linear",
         "zerolinecolor": "grey"
        },
        "yaxis": {
         "anchor": "x",
         "autorange": true,
         "domain": [
          0,
          1
         ],
         "gridcolor": "lightgrey",
         "range": [
          39487.47724631549,
          245335.4834945501
         ],
         "showgrid": true,
         "tickfont": {
          "size": 12
         },
         "title": {
          "text": "Population"
         },
         "type": "linear",
         "zerolinecolor": "grey"
        }
       }
      },
      "image/png": "[encoded data removed]",
      "text/html": [
       "<div>                            <div id=\"a8e67da3-2f59-4053-8acb-8467613d0753\" class=\"plotly-graph-div\" style=\"height:525px; width:100%;\"></div>            <script type=\"text/javascript\">                require([\"plotly\"], function(Plotly) {                    window.PLOTLYENV=window.PLOTLYENV || {};                                    if (document.getElementById(\"a8e67da3-2f59-4053-8acb-8467613d0753\")) {                    Plotly.newPlot(                        \"a8e67da3-2f59-4053-8acb-8467613d0753\",                        [{\"line\":{\"color\":\"rgba(31, 119, 180, 0.8)\",\"width\":3},\"marker\":{\"color\":\"rgba(31, 119, 180, 0.8)\",\"line\":{\"color\":\"darkblue\",\"width\":2},\"size\":10},\"mode\":\"markers+lines\",\"name\":\"Actual Population\",\"x\":[2001,2002,2003,2004,2005,2006,2007,2008,2009,2010,2011,2012,2013,2014,2015,2016,2017,2018,2019,2020,2021],\"y\":[55398,60415,65954,71425,76034,80154,85366,89937,94247,97623,100240,107578,118711,127975,136872,146096,159141,170317,178994,183628,169860],\"type\":\"scatter\"},{\"line\":{\"color\":\"rgba(255, 127, 14, 0.8)\",\"dash\":\"dash\",\"width\":3},\"mode\":\"lines\",\"name\":\"Predicted Population\",\"x\":[2001,2002,2003,2004,2005,2006,2007,2008,2009,2010,2011,2012,2013,2014,2015,2016,2017,2018,2019,2020,2021],\"y\":[55725.573813978335,60581.32423249815,65457.64668633996,70323.6831225217,75182.88720834203,80038.71261110701,84917.26252557375,89784.45018418776,94624.90831532679,99502.68192858528,104389.83735653748,109303.47529250065,114339.11195570015,127071.71683130786,138390.45238156058,149509.81017541327,158753.41624682397,169038.441998329,174956.70441673603,171525.5671240827,182547.33559859917],\"type\":\"scatter\"},{\"line\":{\"color\":\"rgba(44, 160, 44, 0.8)\",\"dash\":\"dash\",\"width\":3},\"marker\":{\"color\":\"rgba(44, 160, 44, 0.8)\",\"line\":{\"color\":\"darkgreen\",\"width\":2},\"size\":10},\"mode\":\"markers+lines\",\"name\":\"Future Predictions\",\"x\":[2022,2023,2024],\"y\":[194064.0062100524,201738.85335027333,175977.05708852736],\"type\":\"scatter\"},{\"fill\":\"toself\",\"fillcolor\":\"rgba(44, 160, 44, 0.2)\",\"hoverinfo\":\"skip\",\"line\":{\"color\":\"rgba(44, 160, 44, 0.0)\"},\"showlegend\":false,\"x\":[2022,2023,2024,2024,2023,2022],\"y\":[174657.60558904716,181564.968015246,158379.35137967463,193574.76279738013,221912.7386853007,213470.40683105765],\"type\":\"scatter\"}],                        {\"template\":{\"data\":{\"barpolar\":[{\"marker\":{\"line\":{\"color\":\"white\",\"width\":0.5},\"pattern\":{\"fillmode\":\"overlay\",\"size\":10,\"solidity\":0.2}},\"type\":\"barpolar\"}],\"bar\":[{\"error_x\":{\"color\":\"#2a3f5f\"},\"error_y\":{\"color\":\"#2a3f5f\"},\"marker\":{\"line\":{\"color\":\"white\",\"width\":0.5},\"pattern\":{\"fillmode\":\"overlay\",\"size\":10,\"solidity\":0.2}},\"type\":\"bar\"}],\"carpet\":[{\"aaxis\":{\"endlinecolor\":\"#2a3f5f\",\"gridcolor\":\"#C8D4E3\",\"linecolor\":\"#C8D4E3\",\"minorgridcolor\":\"#C8D4E3\",\"startlinecolor\":\"#2a3f5f\"},\"baxis\":{\"endlinecolor\":\"#2a3f5f\",\"gridcolor\":\"#C8D4E3\",\"linecolor\":\"#C8D4E3\",\"minorgridcolor\":\"#C8D4E3\",\"startlinecolor\":\"#2a3f5f\"},\"type\":\"carpet\"}],\"choropleth\":[{\"colorbar\":{\"outlinewidth\":0,\"ticks\":\"\"},\"type\":\"choropleth\"}],\"contourcarpet\":[{\"colorbar\":{\"outlinewidth\":0,\"ticks\":\"\"},\"type\":\"contourcarpet\"}],\"contour\":[{\"colorbar\":{\"outlinewidth\":0,\"ticks\":\"\"},\"colorscale\":[[0.0,\"#0d0887\"],[0.1111111111111111,\"#46039f\"],[0.2222222222222222,\"#7201a8\"],[0.3333333333333333,\"#9c179e\"],[0.4444444444444444,\"#bd3786\"],[0.5555555555555556,\"#d8576b\"],[0.6666666666666666,\"#ed7953\"],[0.7777777777777778,\"#fb9f3a\"],[0.8888888888888888,\"#fdca26\"],[1.0,\"#f0f921\"]],\"type\":\"contour\"}],\"heatmapgl\":[{\"colorbar\":{\"outlinewidth\":0,\"ticks\":\"\"},\"colorscale\":[[0.0,\"#0d0887\"],[0.1111111111111111,\"#46039f\"],[0.2222222222222222,\"#7201a8\"],[0.3333333333333333,\"#9c179e\"],[0.4444444444444444,\"#bd3786\"],[0.5555555555555556,\"#d8576b\"],[0.6666666666666666,\"#ed7953\"],[0.7777777777777778,\"#fb9f3a\"],[0.8888888888888888,\"#fdca26\"],[1.0,\"#f0f921\"]],\"type\":\"heatmapgl\"}],\"heatmap\":[{\"colorbar\":{\"outlinewidth\":0,\"ticks\":\"\"},\"colorscale\":[[0.0,\"#0d0887\"],[0.1111111111111111,\"#46039f\"],[0.2222222222222222,\"#7201a8\"],[0.3333333333333333,\"#9c179e\"],[0.4444444444444444,\"#bd3786\"],[0.5555555555555556,\"#d8576b\"],[0.6666666666666666,\"#ed7953\"],[0.7777777777777778,\"#fb9f3a\"],[0.8888888888888888,\"#fdca26\"],[1.0,\"#f0f921\"]],\"type\":\"heatmap\"}],\"histogram2dcontour\":[{\"colorbar\":{\"outlinewidth\":0,\"ticks\":\"\"},\"colorscale\":[[0.0,\"#0d0887\"],[0.1111111111111111,\"#46039f\"],[0.2222222222222222,\"#7201a8\"],[0.3333333333333333,\"#9c179e\"],[0.4444444444444444,\"#bd3786\"],[0.5555555555555556,\"#d8576b\"],[0.6666666666666666,\"#ed7953\"],[0.7777777777777778,\"#fb9f3a\"],[0.8888888888888888,\"#fdca26\"],[1.0,\"#f0f921\"]],\"type\":\"histogram2dcontour\"}],\"histogram2d\":[{\"colorbar\":{\"outlinewidth\":0,\"ticks\":\"\"},\"colorscale\":[[0.0,\"#0d0887\"],[0.1111111111111111,\"#46039f\"],[0.2222222222222222,\"#7201a8\"],[0.3333333333333333,\"#9c179e\"],[0.4444444444444444,\"#bd3786\"],[0.5555555555555556,\"#d8576b\"],[0.6666666666666666,\"#ed7953\"],[0.7777777777777778,\"#fb9f3a\"],[0.8888888888888888,\"#fdca26\"],[1.0,\"#f0f921\"]],\"type\":\"histogram2d\"}],\"histogram\":[{\"marker\":{\"pattern\":{\"fillmode\":\"overlay\",\"size\":10,\"solidity\":0.2}},\"type\":\"histogram\"}],\"mesh3d\":[{\"colorbar\":{\"outlinewidth\":0,\"ticks\":\"\"},\"type\":\"mesh3d\"}],\"parcoords\":[{\"line\":{\"colorbar\":{\"outlinewidth\":0,\"ticks\":\"\"}},\"type\":\"parcoords\"}],\"pie\":[{\"automargin\":true,\"type\":\"pie\"}],\"scatter3d\":[{\"line\":{\"colorbar\":{\"outlinewidth\":0,\"ticks\":\"\"}},\"marker\":{\"colorbar\":{\"outlinewidth\":0,\"ticks\":\"\"}},\"type\":\"scatter3d\"}],\"scattercarpet\":[{\"marker\":{\"colorbar\":{\"outlinewidth\":0,\"ticks\":\"\"}},\"type\":\"scattercarpet\"}],\"scattergeo\":[{\"marker\":{\"colorbar\":{\"outlinewidth\":0,\"ticks\":\"\"}},\"type\":\"scattergeo\"}],\"scattergl\":[{\"marker\":{\"colorbar\":{\"outlinewidth\":0,\"ticks\":\"\"}},\"type\":\"scattergl\"}],\"scattermapbox\":[{\"marker\":{\"colorbar\":{\"outlinewidth\":0,\"ticks\":\"\"}},\"type\":\"scattermapbox\"}],\"scatterpolargl\":[{\"marker\":{\"colorbar\":{\"outlinewidth\":0,\"ticks\":\"\"}},\"type\":\"scatterpolargl\"}],\"scatterpolar\":[{\"marker\":{\"colorbar\":{\"outlinewidth\":0,\"ticks\":\"\"}},\"type\":\"scatterpolar\"}],\"scatter\":[{\"fillpattern\":{\"fillmode\":\"overlay\",\"size\":10,\"solidity\":0.2},\"type\":\"scatter\"}],\"scatterternary\":[{\"marker\":{\"colorbar\":{\"outlinewidth\":0,\"ticks\":\"\"}},\"type\":\"scatterternary\"}],\"surface\":[{\"colorbar\":{\"outlinewidth\":0,\"ticks\":\"\"},\"colorscale\":[[0.0,\"#0d0887\"],[0.1111111111111111,\"#46039f\"],[0.2222222222222222,\"#7201a8\"],[0.3333333333333333,\"#9c179e\"],[0.4444444444444444,\"#bd3786\"],[0.5555555555555556,\"#d8576b\"],[0.6666666666666666,\"#ed7953\"],[0.7777777777777778,\"#fb9f3a\"],[0.8888888888888888,\"#fdca26\"],[1.0,\"#f0f921\"]],\"type\":\"surface\"}],\"table\":[{\"cells\":{\"fill\":{\"color\":\"#EBF0F8\"},\"line\":{\"color\":\"white\"}},\"header\":{\"fill\":{\"color\":\"#C8D4E3\"},\"line\":{\"color\":\"white\"}},\"type\":\"table\"}]},\"layout\":{\"annotationdefaults\":{\"arrowcolor\":\"#2a3f5f\",\"arrowhead\":0,\"arrowwidth\":1},\"autotypenumbers\":\"strict\",\"coloraxis\":{\"colorbar\":{\"outlinewidth\":0,\"ticks\":\"\"}},\"colorscale\":{\"diverging\":[[0,\"#8e0152\"],[0.1,\"#c51b7d\"],[0.2,\"#de77ae\"],[0.3,\"#f1b6da\"],[0.4,\"#fde0ef\"],[0.5,\"#f7f7f7\"],[0.6,\"#e6f5d0\"],[0.7,\"#b8e186\"],[0.8,\"#7fbc41\"],[0.9,\"#4d9221\"],[1,\"#276419\"]],\"sequential\":[[0.0,\"#0d0887\"],[0.1111111111111111,\"#46039f\"],[0.2222222222222222,\"#7201a8\"],[0.3333333333333333,\"#9c179e\"],[0.4444444444444444,\"#bd3786\"],[0.5555555555555556,\"#d8576b\"],[0.6666666666666666,\"#ed7953\"],[0.7777777777777778,\"#fb9f3a\"],[0.8888888888888888,\"#fdca26\"],[1.0,\"#f0f921\"]],\"sequentialminus\":[[0.0,\"#0d0887\"],[0.1111111111111111,\"#46039f\"],[0.2222222222222222,\"#7201a8\"],[0.3333333333333333,\"#9c179e\"],[0.4444444444444444,\"#bd3786\"],[0.5555555555555556,\"#d8576b\"],[0.6666666666666666,\"#ed7953\"],[0.7777777777777778,\"#fb9f3a\"],[0.8888888888888888,\"#fdca26\"],[1.0,\"#f0f921\"]]},\"colorway\":[\"#636efa\",\"#EF553B\",\"#00cc96\",\"#ab63fa\",\"#FFA15A\",\"#19d3f3\",\"#FF6692\",\"#B6E880\",\"#FF97FF\",\"#FECB52\"],\"font\":{\"color\":\"#2a3f5f\"},\"geo\":{\"bgcolor\":\"white\",\"lakecolor\":\"white\",\"landcolor\":\"white\",\"showlakes\":true,\"showland\":true,\"subunitcolor\":\"#C8D4E3\"},\"hoverlabel\":{\"align\":\"left\"},\"hovermode\":\"closest\",\"mapbox\":{\"style\":\"light\"},\"paper_bgcolor\":\"white\",\"plot_bgcolor\":\"white\",\"polar\":{\"angularaxis\":{\"gridcolor\":\"#EBF0F8\",\"linecolor\":\"#EBF0F8\",\"ticks\":\"\"},\"bgcolor\":\"white\",\"radialaxis\":{\"gridcolor\":\"#EBF0F8\",\"linecolor\":\"#EBF0F8\",\"ticks\":\"\"}},\"scene\":{\"xaxis\":{\"backgroundcolor\":\"white\",\"gridcolor\":\"#DFE8F3\",\"gridwidth\":2,\"linecolor\":\"#EBF0F8\",\"showbackground\":true,\"ticks\":\"\",\"zerolinecolor\":\"#EBF0F8\"},\"yaxis\":{\"backgroundcolor\":\"white\",\"gridcolor\":\"#DFE8F3\",\"gridwidth\":2,\"linecolor\":\"#EBF0F8\",\"showbackground\":true,\"ticks\":\"\",\"zerolinecolor\":\"#EBF0F8\"},\"zaxis\":{\"backgroundcolor\":\"white\",\"gridcolor\":\"#DFE8F3\",\"gridwidth\":2,\"linecolor\":\"#EBF0F8\",\"showbackground\":true,\"ticks\":\"\",\"zerolinecolor\":\"#EBF0F8\"}},\"shapedefaults\":{\"line\":{\"color\":\"#2a3f5f\"}},\"ternary\":{\"aaxis\":{\"gridcolor\":\"#DFE8F3\",\"linecolor\":\"#A2B1C6\",\"ticks\":\"\"},\"baxis\":{\"gridcolor\":\"#DFE8F3\",\"linecolor\":\"#A2B1C6\",\"ticks\":\"\"},\"bgcolor\":\"white\",\"caxis\":{\"gridcolor\":\"#DFE8F3\",\"linecolor\":\"#A2B1C6\",\"ticks\":\"\"}},\"title\":{\"x\":0.05},\"xaxis\":{\"automargin\":true,\"gridcolor\":\"#EBF0F8\",\"linecolor\":\"#EBF0F8\",\"ticks\":\"\",\"title\":{\"standoff\":15},\"zerolinecolor\":\"#EBF0F8\",\"zerolinewidth\":2},\"yaxis\":{\"automargin\":true,\"gridcolor\":\"#EBF0F8\",\"linecolor\":\"#EBF0F8\",\"ticks\":\"\",\"title\":{\"standoff\":15},\"zerolinecolor\":\"#EBF0F8\",\"zerolinewidth\":2}}},\"xaxis\":{\"anchor\":\"y\",\"domain\":[0.0,1.0],\"tickfont\":{\"size\":12},\"title\":{\"text\":\"Year\"},\"showgrid\":true,\"gridcolor\":\"lightgrey\",\"zerolinecolor\":\"grey\",\"tickangle\":45},\"yaxis\":{\"anchor\":\"x\",\"domain\":[0.0,1.0],\"tickfont\":{\"size\":12},\"title\":{\"text\":\"Population\"},\"showgrid\":true,\"gridcolor\":\"lightgrey\",\"zerolinecolor\":\"grey\"},\"title\":{\"font\":{\"size\":24},\"text\":\"Population Predictions for 2022, 2023, 2024\\u003cbr\\u003e\\u003csup\\u003eActual vs Predicted Population\\u003c\\u002fsup\\u003e\",\"x\":0.5,\"xanchor\":\"center\",\"yanchor\":\"top\"},\"legend\":{\"x\":0.01,\"y\":0.99,\"traceorder\":\"normal\",\"bgcolor\":\"rgba(255,255,255,0.5)\",\"bordercolor\":\"grey\",\"borderwidth\":1},\"font\":{\"size\":14,\"family\":\"Arial, sans-serif\"},\"margin\":{\"l\":40,\"r\":40,\"t\":60,\"b\":40},\"plot_bgcolor\":\"white\",\"annotations\":[{\"arrowcolor\":\"black\",\"arrowhead\":2,\"ax\":0,\"ay\":-40,\"font\":{\"color\":\"black\",\"size\":12},\"showarrow\":true,\"text\":\"194,064\",\"x\":2022,\"xref\":\"x\",\"y\":194064.0062100524,\"yref\":\"y\"},{\"arrowcolor\":\"black\",\"arrowhead\":2,\"ax\":0,\"ay\":-40,\"font\":{\"color\":\"black\",\"size\":12},\"showarrow\":true,\"text\":\"201,738\",\"x\":2023,\"xref\":\"x\",\"y\":201738.85335027333,\"yref\":\"y\"},{\"arrowcolor\":\"black\",\"arrowhead\":2,\"ax\":0,\"ay\":-40,\"font\":{\"color\":\"black\",\"size\":12},\"showarrow\":true,\"text\":\"175,977\",\"x\":2024,\"xref\":\"x\",\"y\":175977.05708852736,\"yref\":\"y\"}],\"hovermode\":\"x unified\"},                        {\"responsive\": true}                    ).then(function(){\n",
       "                            \n",
       "var gd = document.getElementById('a8e67da3-2f59-4053-8acb-8467613d0753');\n",
       "var x = new MutationObserver(function (mutations, observer) {{\n",
       "        var display = window.getComputedStyle(gd).display;\n",
       "        if (!display || display === 'none') {{\n",
       "            console.log([gd, 'removed!']);\n",
       "            Plotly.purge(gd);\n",
       "            observer.disconnect();\n",
       "        }}\n",
       "}});\n",
       "\n",
       "// Listen for the removal of the full notebook cells\n",
       "var notebookContainer = gd.closest('#notebook-container');\n",
       "if (notebookContainer) {{\n",
       "    x.observe(notebookContainer, {childList: true});\n",
       "}}\n",
       "\n",
       "// Listen for the clearing of the current output cell\n",
       "var outputEl = gd.closest('.output');\n",
       "if (outputEl) {{\n",
       "    x.observe(outputEl, {childList: true});\n",
       "}}\n",
       "\n",
       "                        })                };                });            </script>        </div>"
      ]
     },
     "metadata": {},
     "output_type": "display_data"
    }
   ],
   "source": [
    "\n",
    "future_predictions = interaction_model.predict(predict_df)\n",
    "# Future Predictions\n",
    "years = [2022, 2023, 2024]\n",
    "future_populations = future_predictions.values\n",
    "\n",
    "\n",
    "# Create traces\n",
    "actual_trace = go.Scatter(\n",
    "    x=analysis_df['year'],\n",
    "    y=analysis_df['population'],\n",
    "    mode='markers+lines',\n",
    "    name='Actual Population',\n",
    "    marker=dict(color='rgba(31, 119, 180, 0.8)', size=10, line=dict(width=2, color='darkblue')),\n",
    "    line=dict(width=3, color='rgba(31, 119, 180, 0.8)')\n",
    ")\n",
    "predicted_trace = go.Scatter(\n",
    "    x=analysis_df['year'],\n",
    "    y=interaction_model.fittedvalues if interaction_model else analysis_df['population'],  # Simulated for demo\n",
    "    mode='lines',\n",
    "    name='Predicted Population',\n",
    "    line=dict(dash='dash', color='rgba(255, 127, 14, 0.8)', width=3)\n",
    ")\n",
    "future_trace = go.Scatter(\n",
    "    x=years,\n",
    "    y=future_populations,\n",
    "    mode='markers+lines',\n",
    "    name='Future Predictions',\n",
    "    line=dict(dash='dash', color='rgba(44, 160, 44, 0.8)', width=3),\n",
    "    marker=dict(color='rgba(44, 160, 44, 0.8)', size=10, line=dict(width=2, color='darkgreen'))\n",
    ")\n",
    "\n",
    "# Create figure\n",
    "fig = make_subplots()\n",
    "fig.add_trace(actual_trace)\n",
    "fig.add_trace(predicted_trace)\n",
    "fig.add_trace(future_trace)\n",
    "\n",
    "# Add shaded area for prediction range\n",
    "fig.add_trace(go.Scatter(\n",
    "    x=years + years[::-1],  # x, then x reversed\n",
    "    y=[p * 0.9 for p in future_populations] + [p * 1.1 for p in future_populations[::-1]],  # lower, then upper\n",
    "    fill='toself',\n",
    "    fillcolor='rgba(44, 160, 44, 0.2)',\n",
    "    line=dict(color='rgba(44, 160, 44, 0.0)'),\n",
    "    hoverinfo=\"skip\",\n",
    "    showlegend=False\n",
    "))\n",
    "\n",
    "# Add annotations for future predictions\n",
    "annotations = []\n",
    "for year, pop in zip(years, future_populations):\n",
    "    annotations.append(dict(\n",
    "        x=year,\n",
    "        y=pop,\n",
    "        xref='x',\n",
    "        yref='y',\n",
    "        text=f'{int(pop):,}',  # Format to show rounded integer with commas\n",
    "        showarrow=True,\n",
    "        arrowhead=2,\n",
    "        ax=0,\n",
    "        ay=-40,\n",
    "        font=dict(size=12, color='black'),\n",
    "        arrowcolor='black'\n",
    "    ))\n",
    "\n",
    "# Update layout\n",
    "fig.update_layout(\n",
    "    title=dict(\n",
    "        text='Population Predictions for 2022, 2023, 2024<br><sup>Actual vs Predicted Population</sup>',\n",
    "        x=0.5,\n",
    "        xanchor='center',\n",
    "        yanchor='top',\n",
    "        font=dict(size=24)\n",
    "    ),\n",
    "    xaxis_title='Year',\n",
    "    yaxis_title='Population',\n",
    "    legend=dict(x=0.01, y=0.99, traceorder='normal', bgcolor='rgba(255,255,255,0.5)', bordercolor='grey', borderwidth=1),\n",
    "    plot_bgcolor='white',\n",
    "    xaxis=dict(\n",
    "        showgrid=True,\n",
    "        gridcolor='lightgrey',\n",
    "        zerolinecolor='grey',\n",
    "        tickangle=45,\n",
    "        tickfont=dict(size=12)\n",
    "    ),\n",
    "    yaxis=dict(\n",
    "        showgrid=True,\n",
    "        gridcolor='lightgrey',\n",
    "        zerolinecolor='grey',\n",
    "        tickfont=dict(size=12)\n",
    "    ),\n",
    "    font=dict(size=14, family='Arial, sans-serif'),\n",
    "    annotations=annotations,\n",
    "    hovermode='x unified',\n",
    "    margin=dict(l=40, r=40, t=60, b=40),\n",
    "    template='plotly_white'\n",
    ")\n",
    "\n",
    "# Show plot\n",
    "fig.show()"
   ]
  },
  {
   "cell_type": "code",
   "execution_count": 74,
   "metadata": {},
   "outputs": [
    {
     "data": {
      "application/vnd.plotly.v1+json": {
       "config": {
        "plotlyServerURL": "https://plot.ly"
       },
       "data": [
        {
         "hovertemplate": "Metric=building_permit_count<br>Year=%{x}<br>Count=%{y}<extra></extra>",
         "legendgroup": "building_permit_count",
         "line": {
          "color": "#636EFA",
          "dash": "solid"
         },
         "marker": {
          "symbol": "circle"
         },
         "mode": "lines+markers",
         "name": "building_permit_count",
         "orientation": "v",
         "showlegend": true,
         "type": "scatter",
         "x": [
          2001,
          2002,
          2003,
          2004,
          2005,
          2006,
          2007,
          2008,
          2009,
          2010,
          2011,
          2012,
          2013,
          2014,
          2015,
          2016,
          2017,
          2018,
          2019,
          2020,
          2021
         ],
         "xaxis": "x",
         "y": [
          1,
          2,
          1,
          1,
          2,
          4,
          2,
          2,
          14,
          17,
          53,
          43,
          94,
          2293,
          3108,
          3567,
          3606,
          3762,
          3409,
          2238,
          2547
         ],
         "yaxis": "y"
        },
        {
         "hovertemplate": "Metric=population<br>Year=%{x}<br>Count=%{y}<extra></extra>",
         "legendgroup": "population",
         "line": {
          "color": "#EF553B",
          "dash": "solid"
         },
         "marker": {
          "symbol": "circle"
         },
         "mode": "lines+markers",
         "name": "population",
         "orientation": "v",
         "showlegend": true,
         "type": "scatter",
         "x": [
          2001,
          2002,
          2003,
          2004,
          2005,
          2006,
          2007,
          2008,
          2009,
          2010,
          2011,
          2012,
          2013,
          2014,
          2015,
          2016,
          2017,
          2018,
          2019,
          2020,
          2021
         ],
         "xaxis": "x",
         "y": [
          55398,
          60415,
          65954,
          71425,
          76034,
          80154,
          85366,
          89937,
          94247,
          97623,
          100240,
          107578,
          118711,
          127975,
          136872,
          146096,
          159141,
          170317,
          178994,
          183628,
          169860
         ],
         "yaxis": "y"
        }
       ],
       "layout": {
        "autosize": true,
        "legend": {
         "title": {
          "text": "Metric"
         },
         "tracegroupgap": 0
        },
        "plot_bgcolor": "white",
        "template": {
         "data": {
          "bar": [
           {
            "error_x": {
             "color": "#2a3f5f"
            },
            "error_y": {
             "color": "#2a3f5f"
            },
            "marker": {
             "line": {
              "color": "#E5ECF6",
              "width": 0.5
             },
             "pattern": {
              "fillmode": "overlay",
              "size": 10,
              "solidity": 0.2
             }
            },
            "type": "bar"
           }
          ],
          "barpolar": [
           {
            "marker": {
             "line": {
              "color": "#E5ECF6",
              "width": 0.5
             },
             "pattern": {
              "fillmode": "overlay",
              "size": 10,
              "solidity": 0.2
             }
            },
            "type": "barpolar"
           }
          ],
          "carpet": [
           {
            "aaxis": {
             "endlinecolor": "#2a3f5f",
             "gridcolor": "white",
             "linecolor": "white",
             "minorgridcolor": "white",
             "startlinecolor": "#2a3f5f"
            },
            "baxis": {
             "endlinecolor": "#2a3f5f",
             "gridcolor": "white",
             "linecolor": "white",
             "minorgridcolor": "white",
             "startlinecolor": "#2a3f5f"
            },
            "type": "carpet"
           }
          ],
          "choropleth": [
           {
            "colorbar": {
             "outlinewidth": 0,
             "ticks": ""
            },
            "type": "choropleth"
           }
          ],
          "contour": [
           {
            "colorbar": {
             "outlinewidth": 0,
             "ticks": ""
            },
            "colorscale": [
             [
              0,
              "#0d0887"
             ],
             [
              0.1111111111111111,
              "#46039f"
             ],
             [
              0.2222222222222222,
              "#7201a8"
             ],
             [
              0.3333333333333333,
              "#9c179e"
             ],
             [
              0.4444444444444444,
              "#bd3786"
             ],
             [
              0.5555555555555556,
              "#d8576b"
             ],
             [
              0.6666666666666666,
              "#ed7953"
             ],
             [
              0.7777777777777778,
              "#fb9f3a"
             ],
             [
              0.8888888888888888,
              "#fdca26"
             ],
             [
              1,
              "#f0f921"
             ]
            ],
            "type": "contour"
           }
          ],
          "contourcarpet": [
           {
            "colorbar": {
             "outlinewidth": 0,
             "ticks": ""
            },
            "type": "contourcarpet"
           }
          ],
          "heatmap": [
           {
            "colorbar": {
             "outlinewidth": 0,
             "ticks": ""
            },
            "colorscale": [
             [
              0,
              "#0d0887"
             ],
             [
              0.1111111111111111,
              "#46039f"
             ],
             [
              0.2222222222222222,
              "#7201a8"
             ],
             [
              0.3333333333333333,
              "#9c179e"
             ],
             [
              0.4444444444444444,
              "#bd3786"
             ],
             [
              0.5555555555555556,
              "#d8576b"
             ],
             [
              0.6666666666666666,
              "#ed7953"
             ],
             [
              0.7777777777777778,
              "#fb9f3a"
             ],
             [
              0.8888888888888888,
              "#fdca26"
             ],
             [
              1,
              "#f0f921"
             ]
            ],
            "type": "heatmap"
           }
          ],
          "heatmapgl": [
           {
            "colorbar": {
             "outlinewidth": 0,
             "ticks": ""
            },
            "colorscale": [
             [
              0,
              "#0d0887"
             ],
             [
              0.1111111111111111,
              "#46039f"
             ],
             [
              0.2222222222222222,
              "#7201a8"
             ],
             [
              0.3333333333333333,
              "#9c179e"
             ],
             [
              0.4444444444444444,
              "#bd3786"
             ],
             [
              0.5555555555555556,
              "#d8576b"
             ],
             [
              0.6666666666666666,
              "#ed7953"
             ],
             [
              0.7777777777777778,
              "#fb9f3a"
             ],
             [
              0.8888888888888888,
              "#fdca26"
             ],
             [
              1,
              "#f0f921"
             ]
            ],
            "type": "heatmapgl"
           }
          ],
          "histogram": [
           {
            "marker": {
             "pattern": {
              "fillmode": "overlay",
              "size": 10,
              "solidity": 0.2
             }
            },
            "type": "histogram"
           }
          ],
          "histogram2d": [
           {
            "colorbar": {
             "outlinewidth": 0,
             "ticks": ""
            },
            "colorscale": [
             [
              0,
              "#0d0887"
             ],
             [
              0.1111111111111111,
              "#46039f"
             ],
             [
              0.2222222222222222,
              "#7201a8"
             ],
             [
              0.3333333333333333,
              "#9c179e"
             ],
             [
              0.4444444444444444,
              "#bd3786"
             ],
             [
              0.5555555555555556,
              "#d8576b"
             ],
             [
              0.6666666666666666,
              "#ed7953"
             ],
             [
              0.7777777777777778,
              "#fb9f3a"
             ],
             [
              0.8888888888888888,
              "#fdca26"
             ],
             [
              1,
              "#f0f921"
             ]
            ],
            "type": "histogram2d"
           }
          ],
          "histogram2dcontour": [
           {
            "colorbar": {
             "outlinewidth": 0,
             "ticks": ""
            },
            "colorscale": [
             [
              0,
              "#0d0887"
             ],
             [
              0.1111111111111111,
              "#46039f"
             ],
             [
              0.2222222222222222,
              "#7201a8"
             ],
             [
              0.3333333333333333,
              "#9c179e"
             ],
             [
              0.4444444444444444,
              "#bd3786"
             ],
             [
              0.5555555555555556,
              "#d8576b"
             ],
             [
              0.6666666666666666,
              "#ed7953"
             ],
             [
              0.7777777777777778,
              "#fb9f3a"
             ],
             [
              0.8888888888888888,
              "#fdca26"
             ],
             [
              1,
              "#f0f921"
             ]
            ],
            "type": "histogram2dcontour"
           }
          ],
          "mesh3d": [
           {
            "colorbar": {
             "outlinewidth": 0,
             "ticks": ""
            },
            "type": "mesh3d"
           }
          ],
          "parcoords": [
           {
            "line": {
             "colorbar": {
              "outlinewidth": 0,
              "ticks": ""
             }
            },
            "type": "parcoords"
           }
          ],
          "pie": [
           {
            "automargin": true,
            "type": "pie"
           }
          ],
          "scatter": [
           {
            "fillpattern": {
             "fillmode": "overlay",
             "size": 10,
             "solidity": 0.2
            },
            "type": "scatter"
           }
          ],
          "scatter3d": [
           {
            "line": {
             "colorbar": {
              "outlinewidth": 0,
              "ticks": ""
             }
            },
            "marker": {
             "colorbar": {
              "outlinewidth": 0,
              "ticks": ""
             }
            },
            "type": "scatter3d"
           }
          ],
          "scattercarpet": [
           {
            "marker": {
             "colorbar": {
              "outlinewidth": 0,
              "ticks": ""
             }
            },
            "type": "scattercarpet"
           }
          ],
          "scattergeo": [
           {
            "marker": {
             "colorbar": {
              "outlinewidth": 0,
              "ticks": ""
             }
            },
            "type": "scattergeo"
           }
          ],
          "scattergl": [
           {
            "marker": {
             "colorbar": {
              "outlinewidth": 0,
              "ticks": ""
             }
            },
            "type": "scattergl"
           }
          ],
          "scattermapbox": [
           {
            "marker": {
             "colorbar": {
              "outlinewidth": 0,
              "ticks": ""
             }
            },
            "type": "scattermapbox"
           }
          ],
          "scatterpolar": [
           {
            "marker": {
             "colorbar": {
              "outlinewidth": 0,
              "ticks": ""
             }
            },
            "type": "scatterpolar"
           }
          ],
          "scatterpolargl": [
           {
            "marker": {
             "colorbar": {
              "outlinewidth": 0,
              "ticks": ""
             }
            },
            "type": "scatterpolargl"
           }
          ],
          "scatterternary": [
           {
            "marker": {
             "colorbar": {
              "outlinewidth": 0,
              "ticks": ""
             }
            },
            "type": "scatterternary"
           }
          ],
          "surface": [
           {
            "colorbar": {
             "outlinewidth": 0,
             "ticks": ""
            },
            "colorscale": [
             [
              0,
              "#0d0887"
             ],
             [
              0.1111111111111111,
              "#46039f"
             ],
             [
              0.2222222222222222,
              "#7201a8"
             ],
             [
              0.3333333333333333,
              "#9c179e"
             ],
             [
              0.4444444444444444,
              "#bd3786"
             ],
             [
              0.5555555555555556,
              "#d8576b"
             ],
             [
              0.6666666666666666,
              "#ed7953"
             ],
             [
              0.7777777777777778,
              "#fb9f3a"
             ],
             [
              0.8888888888888888,
              "#fdca26"
             ],
             [
              1,
              "#f0f921"
             ]
            ],
            "type": "surface"
           }
          ],
          "table": [
           {
            "cells": {
             "fill": {
              "color": "#EBF0F8"
             },
             "line": {
              "color": "white"
             }
            },
            "header": {
             "fill": {
              "color": "#C8D4E3"
             },
             "line": {
              "color": "white"
             }
            },
            "type": "table"
           }
          ]
         },
         "layout": {
          "annotationdefaults": {
           "arrowcolor": "#2a3f5f",
           "arrowhead": 0,
           "arrowwidth": 1
          },
          "autotypenumbers": "strict",
          "coloraxis": {
           "colorbar": {
            "outlinewidth": 0,
            "ticks": ""
           }
          },
          "colorscale": {
           "diverging": [
            [
             0,
             "#8e0152"
            ],
            [
             0.1,
             "#c51b7d"
            ],
            [
             0.2,
             "#de77ae"
            ],
            [
             0.3,
             "#f1b6da"
            ],
            [
             0.4,
             "#fde0ef"
            ],
            [
             0.5,
             "#f7f7f7"
            ],
            [
             0.6,
             "#e6f5d0"
            ],
            [
             0.7,
             "#b8e186"
            ],
            [
             0.8,
             "#7fbc41"
            ],
            [
             0.9,
             "#4d9221"
            ],
            [
             1,
             "#276419"
            ]
           ],
           "sequential": [
            [
             0,
             "#0d0887"
            ],
            [
             0.1111111111111111,
             "#46039f"
            ],
            [
             0.2222222222222222,
             "#7201a8"
            ],
            [
             0.3333333333333333,
             "#9c179e"
            ],
            [
             0.4444444444444444,
             "#bd3786"
            ],
            [
             0.5555555555555556,
             "#d8576b"
            ],
            [
             0.6666666666666666,
             "#ed7953"
            ],
            [
             0.7777777777777778,
             "#fb9f3a"
            ],
            [
             0.8888888888888888,
             "#fdca26"
            ],
            [
             1,
             "#f0f921"
            ]
           ],
           "sequentialminus": [
            [
             0,
             "#0d0887"
            ],
            [
             0.1111111111111111,
             "#46039f"
            ],
            [
             0.2222222222222222,
             "#7201a8"
            ],
            [
             0.3333333333333333,
             "#9c179e"
            ],
            [
             0.4444444444444444,
             "#bd3786"
            ],
            [
             0.5555555555555556,
             "#d8576b"
            ],
            [
             0.6666666666666666,
             "#ed7953"
            ],
            [
             0.7777777777777778,
             "#fb9f3a"
            ],
            [
             0.8888888888888888,
             "#fdca26"
            ],
            [
             1,
             "#f0f921"
            ]
           ]
          },
          "colorway": [
           "#636efa",
           "#EF553B",
           "#00cc96",
           "#ab63fa",
           "#FFA15A",
           "#19d3f3",
           "#FF6692",
           "#B6E880",
           "#FF97FF",
           "#FECB52"
          ],
          "font": {
           "color": "#2a3f5f"
          },
          "geo": {
           "bgcolor": "white",
           "lakecolor": "white",
           "landcolor": "#E5ECF6",
           "showlakes": true,
           "showland": true,
           "subunitcolor": "white"
          },
          "hoverlabel": {
           "align": "left"
          },
          "hovermode": "closest",
          "mapbox": {
           "style": "light"
          },
          "paper_bgcolor": "white",
          "plot_bgcolor": "#E5ECF6",
          "polar": {
           "angularaxis": {
            "gridcolor": "white",
            "linecolor": "white",
            "ticks": ""
           },
           "bgcolor": "#E5ECF6",
           "radialaxis": {
            "gridcolor": "white",
            "linecolor": "white",
            "ticks": ""
           }
          },
          "scene": {
           "xaxis": {
            "backgroundcolor": "#E5ECF6",
            "gridcolor": "white",
            "gridwidth": 2,
            "linecolor": "white",
            "showbackground": true,
            "ticks": "",
            "zerolinecolor": "white"
           },
           "yaxis": {
            "backgroundcolor": "#E5ECF6",
            "gridcolor": "white",
            "gridwidth": 2,
            "linecolor": "white",
            "showbackground": true,
            "ticks": "",
            "zerolinecolor": "white"
           },
           "zaxis": {
            "backgroundcolor": "#E5ECF6",
            "gridcolor": "white",
            "gridwidth": 2,
            "linecolor": "white",
            "showbackground": true,
            "ticks": "",
            "zerolinecolor": "white"
           }
          },
          "shapedefaults": {
           "line": {
            "color": "#2a3f5f"
           }
          },
          "ternary": {
           "aaxis": {
            "gridcolor": "white",
            "linecolor": "white",
            "ticks": ""
           },
           "baxis": {
            "gridcolor": "white",
            "linecolor": "white",
            "ticks": ""
           },
           "bgcolor": "#E5ECF6",
           "caxis": {
            "gridcolor": "white",
            "linecolor": "white",
            "ticks": ""
           }
          },
          "title": {
           "x": 0.05
          },
          "xaxis": {
           "automargin": true,
           "gridcolor": "white",
           "linecolor": "white",
           "ticks": "",
           "title": {
            "standoff": 15
           },
           "zerolinecolor": "white",
           "zerolinewidth": 2
          },
          "yaxis": {
           "automargin": true,
           "gridcolor": "white",
           "linecolor": "white",
           "ticks": "",
           "title": {
            "standoff": 15
           },
           "zerolinecolor": "white",
           "zerolinewidth": 2
          }
         }
        },
        "title": {
         "text": "Trend Analysis: Building Permits and Population Over the Years"
        },
        "xaxis": {
         "anchor": "y",
         "autorange": true,
         "domain": [
          0,
          1
         ],
         "gridcolor": "lightgrey",
         "range": [
          1999.690050107373,
          2022.309949892627
         ],
         "showgrid": true,
         "title": {
          "text": "Year"
         },
         "type": "linear"
        },
        "yaxis": {
         "anchor": "x",
         "autorange": true,
         "domain": [
          0,
          1
         ],
         "gridcolor": "lightgrey",
         "range": [
          -15152.684466019418,
          198781.68446601942
         ],
         "showgrid": true,
         "title": {
          "text": "Count"
         },
         "type": "linear"
        }
       }
      },
      "image/png": "[encoded data removed]",
      "text/html": [
       "<div>                            <div id=\"298de0fb-ef66-4aef-892e-33cfc5aada1f\" class=\"plotly-graph-div\" style=\"height:525px; width:100%;\"></div>            <script type=\"text/javascript\">                require([\"plotly\"], function(Plotly) {                    window.PLOTLYENV=window.PLOTLYENV || {};                                    if (document.getElementById(\"298de0fb-ef66-4aef-892e-33cfc5aada1f\")) {                    Plotly.newPlot(                        \"298de0fb-ef66-4aef-892e-33cfc5aada1f\",                        [{\"hovertemplate\":\"Metric=building_permit_count\\u003cbr\\u003eYear=%{x}\\u003cbr\\u003eCount=%{y}\\u003cextra\\u003e\\u003c\\u002fextra\\u003e\",\"legendgroup\":\"building_permit_count\",\"line\":{\"color\":\"#636EFA\",\"dash\":\"solid\"},\"marker\":{\"symbol\":\"circle\"},\"mode\":\"lines+markers\",\"name\":\"building_permit_count\",\"orientation\":\"v\",\"showlegend\":true,\"x\":[2001,2002,2003,2004,2005,2006,2007,2008,2009,2010,2011,2012,2013,2014,2015,2016,2017,2018,2019,2020,2021],\"xaxis\":\"x\",\"y\":[1,2,1,1,2,4,2,2,14,17,53,43,94,2293,3108,3567,3606,3762,3409,2238,2547],\"yaxis\":\"y\",\"type\":\"scatter\"},{\"hovertemplate\":\"Metric=population\\u003cbr\\u003eYear=%{x}\\u003cbr\\u003eCount=%{y}\\u003cextra\\u003e\\u003c\\u002fextra\\u003e\",\"legendgroup\":\"population\",\"line\":{\"color\":\"#EF553B\",\"dash\":\"solid\"},\"marker\":{\"symbol\":\"circle\"},\"mode\":\"lines+markers\",\"name\":\"population\",\"orientation\":\"v\",\"showlegend\":true,\"x\":[2001,2002,2003,2004,2005,2006,2007,2008,2009,2010,2011,2012,2013,2014,2015,2016,2017,2018,2019,2020,2021],\"xaxis\":\"x\",\"y\":[55398,60415,65954,71425,76034,80154,85366,89937,94247,97623,100240,107578,118711,127975,136872,146096,159141,170317,178994,183628,169860],\"yaxis\":\"y\",\"type\":\"scatter\"}],                        {\"template\":{\"data\":{\"histogram2dcontour\":[{\"type\":\"histogram2dcontour\",\"colorbar\":{\"outlinewidth\":0,\"ticks\":\"\"},\"colorscale\":[[0.0,\"#0d0887\"],[0.1111111111111111,\"#46039f\"],[0.2222222222222222,\"#7201a8\"],[0.3333333333333333,\"#9c179e\"],[0.4444444444444444,\"#bd3786\"],[0.5555555555555556,\"#d8576b\"],[0.6666666666666666,\"#ed7953\"],[0.7777777777777778,\"#fb9f3a\"],[0.8888888888888888,\"#fdca26\"],[1.0,\"#f0f921\"]]}],\"choropleth\":[{\"type\":\"choropleth\",\"colorbar\":{\"outlinewidth\":0,\"ticks\":\"\"}}],\"histogram2d\":[{\"type\":\"histogram2d\",\"colorbar\":{\"outlinewidth\":0,\"ticks\":\"\"},\"colorscale\":[[0.0,\"#0d0887\"],[0.1111111111111111,\"#46039f\"],[0.2222222222222222,\"#7201a8\"],[0.3333333333333333,\"#9c179e\"],[0.4444444444444444,\"#bd3786\"],[0.5555555555555556,\"#d8576b\"],[0.6666666666666666,\"#ed7953\"],[0.7777777777777778,\"#fb9f3a\"],[0.8888888888888888,\"#fdca26\"],[1.0,\"#f0f921\"]]}],\"heatmap\":[{\"type\":\"heatmap\",\"colorbar\":{\"outlinewidth\":0,\"ticks\":\"\"},\"colorscale\":[[0.0,\"#0d0887\"],[0.1111111111111111,\"#46039f\"],[0.2222222222222222,\"#7201a8\"],[0.3333333333333333,\"#9c179e\"],[0.4444444444444444,\"#bd3786\"],[0.5555555555555556,\"#d8576b\"],[0.6666666666666666,\"#ed7953\"],[0.7777777777777778,\"#fb9f3a\"],[0.8888888888888888,\"#fdca26\"],[1.0,\"#f0f921\"]]}],\"heatmapgl\":[{\"type\":\"heatmapgl\",\"colorbar\":{\"outlinewidth\":0,\"ticks\":\"\"},\"colorscale\":[[0.0,\"#0d0887\"],[0.1111111111111111,\"#46039f\"],[0.2222222222222222,\"#7201a8\"],[0.3333333333333333,\"#9c179e\"],[0.4444444444444444,\"#bd3786\"],[0.5555555555555556,\"#d8576b\"],[0.6666666666666666,\"#ed7953\"],[0.7777777777777778,\"#fb9f3a\"],[0.8888888888888888,\"#fdca26\"],[1.0,\"#f0f921\"]]}],\"contourcarpet\":[{\"type\":\"contourcarpet\",\"colorbar\":{\"outlinewidth\":0,\"ticks\":\"\"}}],\"contour\":[{\"type\":\"contour\",\"colorbar\":{\"outlinewidth\":0,\"ticks\":\"\"},\"colorscale\":[[0.0,\"#0d0887\"],[0.1111111111111111,\"#46039f\"],[0.2222222222222222,\"#7201a8\"],[0.3333333333333333,\"#9c179e\"],[0.4444444444444444,\"#bd3786\"],[0.5555555555555556,\"#d8576b\"],[0.6666666666666666,\"#ed7953\"],[0.7777777777777778,\"#fb9f3a\"],[0.8888888888888888,\"#fdca26\"],[1.0,\"#f0f921\"]]}],\"surface\":[{\"type\":\"surface\",\"colorbar\":{\"outlinewidth\":0,\"ticks\":\"\"},\"colorscale\":[[0.0,\"#0d0887\"],[0.1111111111111111,\"#46039f\"],[0.2222222222222222,\"#7201a8\"],[0.3333333333333333,\"#9c179e\"],[0.4444444444444444,\"#bd3786\"],[0.5555555555555556,\"#d8576b\"],[0.6666666666666666,\"#ed7953\"],[0.7777777777777778,\"#fb9f3a\"],[0.8888888888888888,\"#fdca26\"],[1.0,\"#f0f921\"]]}],\"mesh3d\":[{\"type\":\"mesh3d\",\"colorbar\":{\"outlinewidth\":0,\"ticks\":\"\"}}],\"scatter\":[{\"fillpattern\":{\"fillmode\":\"overlay\",\"size\":10,\"solidity\":0.2},\"type\":\"scatter\"}],\"parcoords\":[{\"type\":\"parcoords\",\"line\":{\"colorbar\":{\"outlinewidth\":0,\"ticks\":\"\"}}}],\"scatterpolargl\":[{\"type\":\"scatterpolargl\",\"marker\":{\"colorbar\":{\"outlinewidth\":0,\"ticks\":\"\"}}}],\"bar\":[{\"error_x\":{\"color\":\"#2a3f5f\"},\"error_y\":{\"color\":\"#2a3f5f\"},\"marker\":{\"line\":{\"color\":\"#E5ECF6\",\"width\":0.5},\"pattern\":{\"fillmode\":\"overlay\",\"size\":10,\"solidity\":0.2}},\"type\":\"bar\"}],\"scattergeo\":[{\"type\":\"scattergeo\",\"marker\":{\"colorbar\":{\"outlinewidth\":0,\"ticks\":\"\"}}}],\"scatterpolar\":[{\"type\":\"scatterpolar\",\"marker\":{\"colorbar\":{\"outlinewidth\":0,\"ticks\":\"\"}}}],\"histogram\":[{\"marker\":{\"pattern\":{\"fillmode\":\"overlay\",\"size\":10,\"solidity\":0.2}},\"type\":\"histogram\"}],\"scattergl\":[{\"type\":\"scattergl\",\"marker\":{\"colorbar\":{\"outlinewidth\":0,\"ticks\":\"\"}}}],\"scatter3d\":[{\"type\":\"scatter3d\",\"line\":{\"colorbar\":{\"outlinewidth\":0,\"ticks\":\"\"}},\"marker\":{\"colorbar\":{\"outlinewidth\":0,\"ticks\":\"\"}}}],\"scattermapbox\":[{\"type\":\"scattermapbox\",\"marker\":{\"colorbar\":{\"outlinewidth\":0,\"ticks\":\"\"}}}],\"scatterternary\":[{\"type\":\"scatterternary\",\"marker\":{\"colorbar\":{\"outlinewidth\":0,\"ticks\":\"\"}}}],\"scattercarpet\":[{\"type\":\"scattercarpet\",\"marker\":{\"colorbar\":{\"outlinewidth\":0,\"ticks\":\"\"}}}],\"carpet\":[{\"aaxis\":{\"endlinecolor\":\"#2a3f5f\",\"gridcolor\":\"white\",\"linecolor\":\"white\",\"minorgridcolor\":\"white\",\"startlinecolor\":\"#2a3f5f\"},\"baxis\":{\"endlinecolor\":\"#2a3f5f\",\"gridcolor\":\"white\",\"linecolor\":\"white\",\"minorgridcolor\":\"white\",\"startlinecolor\":\"#2a3f5f\"},\"type\":\"carpet\"}],\"table\":[{\"cells\":{\"fill\":{\"color\":\"#EBF0F8\"},\"line\":{\"color\":\"white\"}},\"header\":{\"fill\":{\"color\":\"#C8D4E3\"},\"line\":{\"color\":\"white\"}},\"type\":\"table\"}],\"barpolar\":[{\"marker\":{\"line\":{\"color\":\"#E5ECF6\",\"width\":0.5},\"pattern\":{\"fillmode\":\"overlay\",\"size\":10,\"solidity\":0.2}},\"type\":\"barpolar\"}],\"pie\":[{\"automargin\":true,\"type\":\"pie\"}]},\"layout\":{\"autotypenumbers\":\"strict\",\"colorway\":[\"#636efa\",\"#EF553B\",\"#00cc96\",\"#ab63fa\",\"#FFA15A\",\"#19d3f3\",\"#FF6692\",\"#B6E880\",\"#FF97FF\",\"#FECB52\"],\"font\":{\"color\":\"#2a3f5f\"},\"hovermode\":\"closest\",\"hoverlabel\":{\"align\":\"left\"},\"paper_bgcolor\":\"white\",\"plot_bgcolor\":\"#E5ECF6\",\"polar\":{\"bgcolor\":\"#E5ECF6\",\"angularaxis\":{\"gridcolor\":\"white\",\"linecolor\":\"white\",\"ticks\":\"\"},\"radialaxis\":{\"gridcolor\":\"white\",\"linecolor\":\"white\",\"ticks\":\"\"}},\"ternary\":{\"bgcolor\":\"#E5ECF6\",\"aaxis\":{\"gridcolor\":\"white\",\"linecolor\":\"white\",\"ticks\":\"\"},\"baxis\":{\"gridcolor\":\"white\",\"linecolor\":\"white\",\"ticks\":\"\"},\"caxis\":{\"gridcolor\":\"white\",\"linecolor\":\"white\",\"ticks\":\"\"}},\"coloraxis\":{\"colorbar\":{\"outlinewidth\":0,\"ticks\":\"\"}},\"colorscale\":{\"sequential\":[[0.0,\"#0d0887\"],[0.1111111111111111,\"#46039f\"],[0.2222222222222222,\"#7201a8\"],[0.3333333333333333,\"#9c179e\"],[0.4444444444444444,\"#bd3786\"],[0.5555555555555556,\"#d8576b\"],[0.6666666666666666,\"#ed7953\"],[0.7777777777777778,\"#fb9f3a\"],[0.8888888888888888,\"#fdca26\"],[1.0,\"#f0f921\"]],\"sequentialminus\":[[0.0,\"#0d0887\"],[0.1111111111111111,\"#46039f\"],[0.2222222222222222,\"#7201a8\"],[0.3333333333333333,\"#9c179e\"],[0.4444444444444444,\"#bd3786\"],[0.5555555555555556,\"#d8576b\"],[0.6666666666666666,\"#ed7953\"],[0.7777777777777778,\"#fb9f3a\"],[0.8888888888888888,\"#fdca26\"],[1.0,\"#f0f921\"]],\"diverging\":[[0,\"#8e0152\"],[0.1,\"#c51b7d\"],[0.2,\"#de77ae\"],[0.3,\"#f1b6da\"],[0.4,\"#fde0ef\"],[0.5,\"#f7f7f7\"],[0.6,\"#e6f5d0\"],[0.7,\"#b8e186\"],[0.8,\"#7fbc41\"],[0.9,\"#4d9221\"],[1,\"#276419\"]]},\"xaxis\":{\"gridcolor\":\"white\",\"linecolor\":\"white\",\"ticks\":\"\",\"title\":{\"standoff\":15},\"zerolinecolor\":\"white\",\"automargin\":true,\"zerolinewidth\":2},\"yaxis\":{\"gridcolor\":\"white\",\"linecolor\":\"white\",\"ticks\":\"\",\"title\":{\"standoff\":15},\"zerolinecolor\":\"white\",\"automargin\":true,\"zerolinewidth\":2},\"scene\":{\"xaxis\":{\"backgroundcolor\":\"#E5ECF6\",\"gridcolor\":\"white\",\"linecolor\":\"white\",\"showbackground\":true,\"ticks\":\"\",\"zerolinecolor\":\"white\",\"gridwidth\":2},\"yaxis\":{\"backgroundcolor\":\"#E5ECF6\",\"gridcolor\":\"white\",\"linecolor\":\"white\",\"showbackground\":true,\"ticks\":\"\",\"zerolinecolor\":\"white\",\"gridwidth\":2},\"zaxis\":{\"backgroundcolor\":\"#E5ECF6\",\"gridcolor\":\"white\",\"linecolor\":\"white\",\"showbackground\":true,\"ticks\":\"\",\"zerolinecolor\":\"white\",\"gridwidth\":2}},\"shapedefaults\":{\"line\":{\"color\":\"#2a3f5f\"}},\"annotationdefaults\":{\"arrowcolor\":\"#2a3f5f\",\"arrowhead\":0,\"arrowwidth\":1},\"geo\":{\"bgcolor\":\"white\",\"landcolor\":\"#E5ECF6\",\"subunitcolor\":\"white\",\"showland\":true,\"showlakes\":true,\"lakecolor\":\"white\"},\"title\":{\"x\":0.05},\"mapbox\":{\"style\":\"light\"}}},\"xaxis\":{\"anchor\":\"y\",\"domain\":[0.0,1.0],\"title\":{\"text\":\"Year\"},\"showgrid\":true,\"gridcolor\":\"lightgrey\"},\"yaxis\":{\"anchor\":\"x\",\"domain\":[0.0,1.0],\"title\":{\"text\":\"Count\"},\"showgrid\":true,\"gridcolor\":\"lightgrey\"},\"legend\":{\"title\":{\"text\":\"Metric\"},\"tracegroupgap\":0},\"title\":{\"text\":\"Trend Analysis: Building Permits and Population Over the Years\"},\"plot_bgcolor\":\"white\"},                        {\"responsive\": true}                    ).then(function(){\n",
       "                            \n",
       "var gd = document.getElementById('298de0fb-ef66-4aef-892e-33cfc5aada1f');\n",
       "var x = new MutationObserver(function (mutations, observer) {{\n",
       "        var display = window.getComputedStyle(gd).display;\n",
       "        if (!display || display === 'none') {{\n",
       "            console.log([gd, 'removed!']);\n",
       "            Plotly.purge(gd);\n",
       "            observer.disconnect();\n",
       "        }}\n",
       "}});\n",
       "\n",
       "// Listen for the removal of the full notebook cells\n",
       "var notebookContainer = gd.closest('#notebook-container');\n",
       "if (notebookContainer) {{\n",
       "    x.observe(notebookContainer, {childList: true});\n",
       "}}\n",
       "\n",
       "// Listen for the clearing of the current output cell\n",
       "var outputEl = gd.closest('.output');\n",
       "if (outputEl) {{\n",
       "    x.observe(outputEl, {childList: true});\n",
       "}}\n",
       "\n",
       "                        })                };                });            </script>        </div>"
      ]
     },
     "metadata": {},
     "output_type": "display_data"
    },
    {
     "data": {
      "application/vnd.plotly.v1+json": {
       "config": {
        "plotlyServerURL": "https://plot.ly"
       },
       "data": [
        {
         "customdata": [
          [
           2001
          ],
          [
           2002
          ],
          [
           2003
          ],
          [
           2004
          ],
          [
           2005
          ],
          [
           2006
          ],
          [
           2007
          ],
          [
           2008
          ],
          [
           2009
          ],
          [
           2010
          ],
          [
           2011
          ],
          [
           2012
          ],
          [
           2013
          ],
          [
           2014
          ],
          [
           2015
          ],
          [
           2016
          ],
          [
           2017
          ],
          [
           2018
          ],
          [
           2019
          ],
          [
           2020
          ],
          [
           2021
          ]
         ],
         "hovertemplate": "Building Permit Count=%{x}<br>Population=%{y}<br>year=%{marker.color}<extra></extra>",
         "legendgroup": "",
         "marker": {
          "color": [
           2001,
           2002,
           2003,
           2004,
           2005,
           2006,
           2007,
           2008,
           2009,
           2010,
           2011,
           2012,
           2013,
           2014,
           2015,
           2016,
           2017,
           2018,
           2019,
           2020,
           2021
          ],
          "coloraxis": "coloraxis",
          "symbol": "circle"
         },
         "mode": "markers",
         "name": "",
         "orientation": "v",
         "showlegend": false,
         "type": "scatter",
         "x": [
          1,
          2,
          1,
          1,
          2,
          4,
          2,
          2,
          14,
          17,
          53,
          43,
          94,
          2293,
          3108,
          3567,
          3606,
          3762,
          3409,
          2238,
          2547
         ],
         "xaxis": "x",
         "y": [
          55398,
          60415,
          65954,
          71425,
          76034,
          80154,
          85366,
          89937,
          94247,
          97623,
          100240,
          107578,
          118711,
          127975,
          136872,
          146096,
          159141,
          170317,
          178994,
          183628,
          169860
         ],
         "yaxis": "y"
        }
       ],
       "layout": {
        "annotations": [
         {
          "align": "center",
          "font": {
           "color": "black",
           "size": 14
          },
          "showarrow": false,
          "text": "Correlation: 0.87",
          "x": 0.5,
          "xref": "paper",
          "y": 1.15,
          "yref": "paper"
         }
        ],
        "autosize": true,
        "coloraxis": {
         "colorbar": {
          "title": {
           "text": "year"
          }
         },
         "colorscale": [
          [
           0,
           "#440154"
          ],
          [
           0.1111111111111111,
           "#482878"
          ],
          [
           0.2222222222222222,
           "#3e4989"
          ],
          [
           0.3333333333333333,
           "#31688e"
          ],
          [
           0.4444444444444444,
           "#26828e"
          ],
          [
           0.5555555555555556,
           "#1f9e89"
          ],
          [
           0.6666666666666666,
           "#35b779"
          ],
          [
           0.7777777777777778,
           "#6ece58"
          ],
          [
           0.8888888888888888,
           "#b5de2b"
          ],
          [
           1,
           "#fde725"
          ]
         ]
        },
        "legend": {
         "tracegroupgap": 0
        },
        "plot_bgcolor": "white",
        "template": {
         "data": {
          "bar": [
           {
            "error_x": {
             "color": "#2a3f5f"
            },
            "error_y": {
             "color": "#2a3f5f"
            },
            "marker": {
             "line": {
              "color": "#E5ECF6",
              "width": 0.5
             },
             "pattern": {
              "fillmode": "overlay",
              "size": 10,
              "solidity": 0.2
             }
            },
            "type": "bar"
           }
          ],
          "barpolar": [
           {
            "marker": {
             "line": {
              "color": "#E5ECF6",
              "width": 0.5
             },
             "pattern": {
              "fillmode": "overlay",
              "size": 10,
              "solidity": 0.2
             }
            },
            "type": "barpolar"
           }
          ],
          "carpet": [
           {
            "aaxis": {
             "endlinecolor": "#2a3f5f",
             "gridcolor": "white",
             "linecolor": "white",
             "minorgridcolor": "white",
             "startlinecolor": "#2a3f5f"
            },
            "baxis": {
             "endlinecolor": "#2a3f5f",
             "gridcolor": "white",
             "linecolor": "white",
             "minorgridcolor": "white",
             "startlinecolor": "#2a3f5f"
            },
            "type": "carpet"
           }
          ],
          "choropleth": [
           {
            "colorbar": {
             "outlinewidth": 0,
             "ticks": ""
            },
            "type": "choropleth"
           }
          ],
          "contour": [
           {
            "colorbar": {
             "outlinewidth": 0,
             "ticks": ""
            },
            "colorscale": [
             [
              0,
              "#0d0887"
             ],
             [
              0.1111111111111111,
              "#46039f"
             ],
             [
              0.2222222222222222,
              "#7201a8"
             ],
             [
              0.3333333333333333,
              "#9c179e"
             ],
             [
              0.4444444444444444,
              "#bd3786"
             ],
             [
              0.5555555555555556,
              "#d8576b"
             ],
             [
              0.6666666666666666,
              "#ed7953"
             ],
             [
              0.7777777777777778,
              "#fb9f3a"
             ],
             [
              0.8888888888888888,
              "#fdca26"
             ],
             [
              1,
              "#f0f921"
             ]
            ],
            "type": "contour"
           }
          ],
          "contourcarpet": [
           {
            "colorbar": {
             "outlinewidth": 0,
             "ticks": ""
            },
            "type": "contourcarpet"
           }
          ],
          "heatmap": [
           {
            "colorbar": {
             "outlinewidth": 0,
             "ticks": ""
            },
            "colorscale": [
             [
              0,
              "#0d0887"
             ],
             [
              0.1111111111111111,
              "#46039f"
             ],
             [
              0.2222222222222222,
              "#7201a8"
             ],
             [
              0.3333333333333333,
              "#9c179e"
             ],
             [
              0.4444444444444444,
              "#bd3786"
             ],
             [
              0.5555555555555556,
              "#d8576b"
             ],
             [
              0.6666666666666666,
              "#ed7953"
             ],
             [
              0.7777777777777778,
              "#fb9f3a"
             ],
             [
              0.8888888888888888,
              "#fdca26"
             ],
             [
              1,
              "#f0f921"
             ]
            ],
            "type": "heatmap"
           }
          ],
          "heatmapgl": [
           {
            "colorbar": {
             "outlinewidth": 0,
             "ticks": ""
            },
            "colorscale": [
             [
              0,
              "#0d0887"
             ],
             [
              0.1111111111111111,
              "#46039f"
             ],
             [
              0.2222222222222222,
              "#7201a8"
             ],
             [
              0.3333333333333333,
              "#9c179e"
             ],
             [
              0.4444444444444444,
              "#bd3786"
             ],
             [
              0.5555555555555556,
              "#d8576b"
             ],
             [
              0.6666666666666666,
              "#ed7953"
             ],
             [
              0.7777777777777778,
              "#fb9f3a"
             ],
             [
              0.8888888888888888,
              "#fdca26"
             ],
             [
              1,
              "#f0f921"
             ]
            ],
            "type": "heatmapgl"
           }
          ],
          "histogram": [
           {
            "marker": {
             "pattern": {
              "fillmode": "overlay",
              "size": 10,
              "solidity": 0.2
             }
            },
            "type": "histogram"
           }
          ],
          "histogram2d": [
           {
            "colorbar": {
             "outlinewidth": 0,
             "ticks": ""
            },
            "colorscale": [
             [
              0,
              "#0d0887"
             ],
             [
              0.1111111111111111,
              "#46039f"
             ],
             [
              0.2222222222222222,
              "#7201a8"
             ],
             [
              0.3333333333333333,
              "#9c179e"
             ],
             [
              0.4444444444444444,
              "#bd3786"
             ],
             [
              0.5555555555555556,
              "#d8576b"
             ],
             [
              0.6666666666666666,
              "#ed7953"
             ],
             [
              0.7777777777777778,
              "#fb9f3a"
             ],
             [
              0.8888888888888888,
              "#fdca26"
             ],
             [
              1,
              "#f0f921"
             ]
            ],
            "type": "histogram2d"
           }
          ],
          "histogram2dcontour": [
           {
            "colorbar": {
             "outlinewidth": 0,
             "ticks": ""
            },
            "colorscale": [
             [
              0,
              "#0d0887"
             ],
             [
              0.1111111111111111,
              "#46039f"
             ],
             [
              0.2222222222222222,
              "#7201a8"
             ],
             [
              0.3333333333333333,
              "#9c179e"
             ],
             [
              0.4444444444444444,
              "#bd3786"
             ],
             [
              0.5555555555555556,
              "#d8576b"
             ],
             [
              0.6666666666666666,
              "#ed7953"
             ],
             [
              0.7777777777777778,
              "#fb9f3a"
             ],
             [
              0.8888888888888888,
              "#fdca26"
             ],
             [
              1,
              "#f0f921"
             ]
            ],
            "type": "histogram2dcontour"
           }
          ],
          "mesh3d": [
           {
            "colorbar": {
             "outlinewidth": 0,
             "ticks": ""
            },
            "type": "mesh3d"
           }
          ],
          "parcoords": [
           {
            "line": {
             "colorbar": {
              "outlinewidth": 0,
              "ticks": ""
             }
            },
            "type": "parcoords"
           }
          ],
          "pie": [
           {
            "automargin": true,
            "type": "pie"
           }
          ],
          "scatter": [
           {
            "fillpattern": {
             "fillmode": "overlay",
             "size": 10,
             "solidity": 0.2
            },
            "type": "scatter"
           }
          ],
          "scatter3d": [
           {
            "line": {
             "colorbar": {
              "outlinewidth": 0,
              "ticks": ""
             }
            },
            "marker": {
             "colorbar": {
              "outlinewidth": 0,
              "ticks": ""
             }
            },
            "type": "scatter3d"
           }
          ],
          "scattercarpet": [
           {
            "marker": {
             "colorbar": {
              "outlinewidth": 0,
              "ticks": ""
             }
            },
            "type": "scattercarpet"
           }
          ],
          "scattergeo": [
           {
            "marker": {
             "colorbar": {
              "outlinewidth": 0,
              "ticks": ""
             }
            },
            "type": "scattergeo"
           }
          ],
          "scattergl": [
           {
            "marker": {
             "colorbar": {
              "outlinewidth": 0,
              "ticks": ""
             }
            },
            "type": "scattergl"
           }
          ],
          "scattermapbox": [
           {
            "marker": {
             "colorbar": {
              "outlinewidth": 0,
              "ticks": ""
             }
            },
            "type": "scattermapbox"
           }
          ],
          "scatterpolar": [
           {
            "marker": {
             "colorbar": {
              "outlinewidth": 0,
              "ticks": ""
             }
            },
            "type": "scatterpolar"
           }
          ],
          "scatterpolargl": [
           {
            "marker": {
             "colorbar": {
              "outlinewidth": 0,
              "ticks": ""
             }
            },
            "type": "scatterpolargl"
           }
          ],
          "scatterternary": [
           {
            "marker": {
             "colorbar": {
              "outlinewidth": 0,
              "ticks": ""
             }
            },
            "type": "scatterternary"
           }
          ],
          "surface": [
           {
            "colorbar": {
             "outlinewidth": 0,
             "ticks": ""
            },
            "colorscale": [
             [
              0,
              "#0d0887"
             ],
             [
              0.1111111111111111,
              "#46039f"
             ],
             [
              0.2222222222222222,
              "#7201a8"
             ],
             [
              0.3333333333333333,
              "#9c179e"
             ],
             [
              0.4444444444444444,
              "#bd3786"
             ],
             [
              0.5555555555555556,
              "#d8576b"
             ],
             [
              0.6666666666666666,
              "#ed7953"
             ],
             [
              0.7777777777777778,
              "#fb9f3a"
             ],
             [
              0.8888888888888888,
              "#fdca26"
             ],
             [
              1,
              "#f0f921"
             ]
            ],
            "type": "surface"
           }
          ],
          "table": [
           {
            "cells": {
             "fill": {
              "color": "#EBF0F8"
             },
             "line": {
              "color": "white"
             }
            },
            "header": {
             "fill": {
              "color": "#C8D4E3"
             },
             "line": {
              "color": "white"
             }
            },
            "type": "table"
           }
          ]
         },
         "layout": {
          "annotationdefaults": {
           "arrowcolor": "#2a3f5f",
           "arrowhead": 0,
           "arrowwidth": 1
          },
          "autotypenumbers": "strict",
          "coloraxis": {
           "colorbar": {
            "outlinewidth": 0,
            "ticks": ""
           }
          },
          "colorscale": {
           "diverging": [
            [
             0,
             "#8e0152"
            ],
            [
             0.1,
             "#c51b7d"
            ],
            [
             0.2,
             "#de77ae"
            ],
            [
             0.3,
             "#f1b6da"
            ],
            [
             0.4,
             "#fde0ef"
            ],
            [
             0.5,
             "#f7f7f7"
            ],
            [
             0.6,
             "#e6f5d0"
            ],
            [
             0.7,
             "#b8e186"
            ],
            [
             0.8,
             "#7fbc41"
            ],
            [
             0.9,
             "#4d9221"
            ],
            [
             1,
             "#276419"
            ]
           ],
           "sequential": [
            [
             0,
             "#0d0887"
            ],
            [
             0.1111111111111111,
             "#46039f"
            ],
            [
             0.2222222222222222,
             "#7201a8"
            ],
            [
             0.3333333333333333,
             "#9c179e"
            ],
            [
             0.4444444444444444,
             "#bd3786"
            ],
            [
             0.5555555555555556,
             "#d8576b"
            ],
            [
             0.6666666666666666,
             "#ed7953"
            ],
            [
             0.7777777777777778,
             "#fb9f3a"
            ],
            [
             0.8888888888888888,
             "#fdca26"
            ],
            [
             1,
             "#f0f921"
            ]
           ],
           "sequentialminus": [
            [
             0,
             "#0d0887"
            ],
            [
             0.1111111111111111,
             "#46039f"
            ],
            [
             0.2222222222222222,
             "#7201a8"
            ],
            [
             0.3333333333333333,
             "#9c179e"
            ],
            [
             0.4444444444444444,
             "#bd3786"
            ],
            [
             0.5555555555555556,
             "#d8576b"
            ],
            [
             0.6666666666666666,
             "#ed7953"
            ],
            [
             0.7777777777777778,
             "#fb9f3a"
            ],
            [
             0.8888888888888888,
             "#fdca26"
            ],
            [
             1,
             "#f0f921"
            ]
           ]
          },
          "colorway": [
           "#636efa",
           "#EF553B",
           "#00cc96",
           "#ab63fa",
           "#FFA15A",
           "#19d3f3",
           "#FF6692",
           "#B6E880",
           "#FF97FF",
           "#FECB52"
          ],
          "font": {
           "color": "#2a3f5f"
          },
          "geo": {
           "bgcolor": "white",
           "lakecolor": "white",
           "landcolor": "#E5ECF6",
           "showlakes": true,
           "showland": true,
           "subunitcolor": "white"
          },
          "hoverlabel": {
           "align": "left"
          },
          "hovermode": "closest",
          "mapbox": {
           "style": "light"
          },
          "paper_bgcolor": "white",
          "plot_bgcolor": "#E5ECF6",
          "polar": {
           "angularaxis": {
            "gridcolor": "white",
            "linecolor": "white",
            "ticks": ""
           },
           "bgcolor": "#E5ECF6",
           "radialaxis": {
            "gridcolor": "white",
            "linecolor": "white",
            "ticks": ""
           }
          },
          "scene": {
           "xaxis": {
            "backgroundcolor": "#E5ECF6",
            "gridcolor": "white",
            "gridwidth": 2,
            "linecolor": "white",
            "showbackground": true,
            "ticks": "",
            "zerolinecolor": "white"
           },
           "yaxis": {
            "backgroundcolor": "#E5ECF6",
            "gridcolor": "white",
            "gridwidth": 2,
            "linecolor": "white",
            "showbackground": true,
            "ticks": "",
            "zerolinecolor": "white"
           },
           "zaxis": {
            "backgroundcolor": "#E5ECF6",
            "gridcolor": "white",
            "gridwidth": 2,
            "linecolor": "white",
            "showbackground": true,
            "ticks": "",
            "zerolinecolor": "white"
           }
          },
          "shapedefaults": {
           "line": {
            "color": "#2a3f5f"
           }
          },
          "ternary": {
           "aaxis": {
            "gridcolor": "white",
            "linecolor": "white",
            "ticks": ""
           },
           "baxis": {
            "gridcolor": "white",
            "linecolor": "white",
            "ticks": ""
           },
           "bgcolor": "#E5ECF6",
           "caxis": {
            "gridcolor": "white",
            "linecolor": "white",
            "ticks": ""
           }
          },
          "title": {
           "x": 0.05
          },
          "xaxis": {
           "automargin": true,
           "gridcolor": "white",
           "linecolor": "white",
           "ticks": "",
           "title": {
            "standoff": 15
           },
           "zerolinecolor": "white",
           "zerolinewidth": 2
          },
          "yaxis": {
           "automargin": true,
           "gridcolor": "white",
           "linecolor": "white",
           "ticks": "",
           "title": {
            "standoff": 15
           },
           "zerolinecolor": "white",
           "zerolinewidth": 2
          }
         }
        },
        "title": {
         "text": "Correlation Analysis: Building Permits vs Population"
        },
        "xaxis": {
         "anchor": "y",
         "autorange": true,
         "domain": [
          0,
          1
         ],
         "gridcolor": "lightgrey",
         "range": [
          -238.83510743150015,
          4001.8351074315
         ],
         "showgrid": true,
         "title": {
          "text": "Building Permit Count"
         },
         "type": "linear"
        },
        "yaxis": {
         "anchor": "x",
         "autorange": true,
         "domain": [
          0,
          1
         ],
         "gridcolor": "lightgrey",
         "range": [
          44815.912621359224,
          194210.08737864078
         ],
         "showgrid": true,
         "title": {
          "text": "Population"
         },
         "type": "linear"
        }
       }
      },
      "image/png": "[encoded data removed]",
      "text/html": [
       "<div>                            <div id=\"f9cbd659-d0fa-4b6b-81c0-e0554fcde393\" class=\"plotly-graph-div\" style=\"height:525px; width:100%;\"></div>            <script type=\"text/javascript\">                require([\"plotly\"], function(Plotly) {                    window.PLOTLYENV=window.PLOTLYENV || {};                                    if (document.getElementById(\"f9cbd659-d0fa-4b6b-81c0-e0554fcde393\")) {                    Plotly.newPlot(                        \"f9cbd659-d0fa-4b6b-81c0-e0554fcde393\",                        [{\"customdata\":[[2001],[2002],[2003],[2004],[2005],[2006],[2007],[2008],[2009],[2010],[2011],[2012],[2013],[2014],[2015],[2016],[2017],[2018],[2019],[2020],[2021]],\"hovertemplate\":\"Building Permit Count=%{x}\\u003cbr\\u003ePopulation=%{y}\\u003cbr\\u003eyear=%{marker.color}\\u003cextra\\u003e\\u003c\\u002fextra\\u003e\",\"legendgroup\":\"\",\"marker\":{\"color\":[2001,2002,2003,2004,2005,2006,2007,2008,2009,2010,2011,2012,2013,2014,2015,2016,2017,2018,2019,2020,2021],\"coloraxis\":\"coloraxis\",\"symbol\":\"circle\"},\"mode\":\"markers\",\"name\":\"\",\"orientation\":\"v\",\"showlegend\":false,\"x\":[1,2,1,1,2,4,2,2,14,17,53,43,94,2293,3108,3567,3606,3762,3409,2238,2547],\"xaxis\":\"x\",\"y\":[55398,60415,65954,71425,76034,80154,85366,89937,94247,97623,100240,107578,118711,127975,136872,146096,159141,170317,178994,183628,169860],\"yaxis\":\"y\",\"type\":\"scatter\"}],                        {\"template\":{\"data\":{\"histogram2dcontour\":[{\"type\":\"histogram2dcontour\",\"colorbar\":{\"outlinewidth\":0,\"ticks\":\"\"},\"colorscale\":[[0.0,\"#0d0887\"],[0.1111111111111111,\"#46039f\"],[0.2222222222222222,\"#7201a8\"],[0.3333333333333333,\"#9c179e\"],[0.4444444444444444,\"#bd3786\"],[0.5555555555555556,\"#d8576b\"],[0.6666666666666666,\"#ed7953\"],[0.7777777777777778,\"#fb9f3a\"],[0.8888888888888888,\"#fdca26\"],[1.0,\"#f0f921\"]]}],\"choropleth\":[{\"type\":\"choropleth\",\"colorbar\":{\"outlinewidth\":0,\"ticks\":\"\"}}],\"histogram2d\":[{\"type\":\"histogram2d\",\"colorbar\":{\"outlinewidth\":0,\"ticks\":\"\"},\"colorscale\":[[0.0,\"#0d0887\"],[0.1111111111111111,\"#46039f\"],[0.2222222222222222,\"#7201a8\"],[0.3333333333333333,\"#9c179e\"],[0.4444444444444444,\"#bd3786\"],[0.5555555555555556,\"#d8576b\"],[0.6666666666666666,\"#ed7953\"],[0.7777777777777778,\"#fb9f3a\"],[0.8888888888888888,\"#fdca26\"],[1.0,\"#f0f921\"]]}],\"heatmap\":[{\"type\":\"heatmap\",\"colorbar\":{\"outlinewidth\":0,\"ticks\":\"\"},\"colorscale\":[[0.0,\"#0d0887\"],[0.1111111111111111,\"#46039f\"],[0.2222222222222222,\"#7201a8\"],[0.3333333333333333,\"#9c179e\"],[0.4444444444444444,\"#bd3786\"],[0.5555555555555556,\"#d8576b\"],[0.6666666666666666,\"#ed7953\"],[0.7777777777777778,\"#fb9f3a\"],[0.8888888888888888,\"#fdca26\"],[1.0,\"#f0f921\"]]}],\"heatmapgl\":[{\"type\":\"heatmapgl\",\"colorbar\":{\"outlinewidth\":0,\"ticks\":\"\"},\"colorscale\":[[0.0,\"#0d0887\"],[0.1111111111111111,\"#46039f\"],[0.2222222222222222,\"#7201a8\"],[0.3333333333333333,\"#9c179e\"],[0.4444444444444444,\"#bd3786\"],[0.5555555555555556,\"#d8576b\"],[0.6666666666666666,\"#ed7953\"],[0.7777777777777778,\"#fb9f3a\"],[0.8888888888888888,\"#fdca26\"],[1.0,\"#f0f921\"]]}],\"contourcarpet\":[{\"type\":\"contourcarpet\",\"colorbar\":{\"outlinewidth\":0,\"ticks\":\"\"}}],\"contour\":[{\"type\":\"contour\",\"colorbar\":{\"outlinewidth\":0,\"ticks\":\"\"},\"colorscale\":[[0.0,\"#0d0887\"],[0.1111111111111111,\"#46039f\"],[0.2222222222222222,\"#7201a8\"],[0.3333333333333333,\"#9c179e\"],[0.4444444444444444,\"#bd3786\"],[0.5555555555555556,\"#d8576b\"],[0.6666666666666666,\"#ed7953\"],[0.7777777777777778,\"#fb9f3a\"],[0.8888888888888888,\"#fdca26\"],[1.0,\"#f0f921\"]]}],\"surface\":[{\"type\":\"surface\",\"colorbar\":{\"outlinewidth\":0,\"ticks\":\"\"},\"colorscale\":[[0.0,\"#0d0887\"],[0.1111111111111111,\"#46039f\"],[0.2222222222222222,\"#7201a8\"],[0.3333333333333333,\"#9c179e\"],[0.4444444444444444,\"#bd3786\"],[0.5555555555555556,\"#d8576b\"],[0.6666666666666666,\"#ed7953\"],[0.7777777777777778,\"#fb9f3a\"],[0.8888888888888888,\"#fdca26\"],[1.0,\"#f0f921\"]]}],\"mesh3d\":[{\"type\":\"mesh3d\",\"colorbar\":{\"outlinewidth\":0,\"ticks\":\"\"}}],\"scatter\":[{\"fillpattern\":{\"fillmode\":\"overlay\",\"size\":10,\"solidity\":0.2},\"type\":\"scatter\"}],\"parcoords\":[{\"type\":\"parcoords\",\"line\":{\"colorbar\":{\"outlinewidth\":0,\"ticks\":\"\"}}}],\"scatterpolargl\":[{\"type\":\"scatterpolargl\",\"marker\":{\"colorbar\":{\"outlinewidth\":0,\"ticks\":\"\"}}}],\"bar\":[{\"error_x\":{\"color\":\"#2a3f5f\"},\"error_y\":{\"color\":\"#2a3f5f\"},\"marker\":{\"line\":{\"color\":\"#E5ECF6\",\"width\":0.5},\"pattern\":{\"fillmode\":\"overlay\",\"size\":10,\"solidity\":0.2}},\"type\":\"bar\"}],\"scattergeo\":[{\"type\":\"scattergeo\",\"marker\":{\"colorbar\":{\"outlinewidth\":0,\"ticks\":\"\"}}}],\"scatterpolar\":[{\"type\":\"scatterpolar\",\"marker\":{\"colorbar\":{\"outlinewidth\":0,\"ticks\":\"\"}}}],\"histogram\":[{\"marker\":{\"pattern\":{\"fillmode\":\"overlay\",\"size\":10,\"solidity\":0.2}},\"type\":\"histogram\"}],\"scattergl\":[{\"type\":\"scattergl\",\"marker\":{\"colorbar\":{\"outlinewidth\":0,\"ticks\":\"\"}}}],\"scatter3d\":[{\"type\":\"scatter3d\",\"line\":{\"colorbar\":{\"outlinewidth\":0,\"ticks\":\"\"}},\"marker\":{\"colorbar\":{\"outlinewidth\":0,\"ticks\":\"\"}}}],\"scattermapbox\":[{\"type\":\"scattermapbox\",\"marker\":{\"colorbar\":{\"outlinewidth\":0,\"ticks\":\"\"}}}],\"scatterternary\":[{\"type\":\"scatterternary\",\"marker\":{\"colorbar\":{\"outlinewidth\":0,\"ticks\":\"\"}}}],\"scattercarpet\":[{\"type\":\"scattercarpet\",\"marker\":{\"colorbar\":{\"outlinewidth\":0,\"ticks\":\"\"}}}],\"carpet\":[{\"aaxis\":{\"endlinecolor\":\"#2a3f5f\",\"gridcolor\":\"white\",\"linecolor\":\"white\",\"minorgridcolor\":\"white\",\"startlinecolor\":\"#2a3f5f\"},\"baxis\":{\"endlinecolor\":\"#2a3f5f\",\"gridcolor\":\"white\",\"linecolor\":\"white\",\"minorgridcolor\":\"white\",\"startlinecolor\":\"#2a3f5f\"},\"type\":\"carpet\"}],\"table\":[{\"cells\":{\"fill\":{\"color\":\"#EBF0F8\"},\"line\":{\"color\":\"white\"}},\"header\":{\"fill\":{\"color\":\"#C8D4E3\"},\"line\":{\"color\":\"white\"}},\"type\":\"table\"}],\"barpolar\":[{\"marker\":{\"line\":{\"color\":\"#E5ECF6\",\"width\":0.5},\"pattern\":{\"fillmode\":\"overlay\",\"size\":10,\"solidity\":0.2}},\"type\":\"barpolar\"}],\"pie\":[{\"automargin\":true,\"type\":\"pie\"}]},\"layout\":{\"autotypenumbers\":\"strict\",\"colorway\":[\"#636efa\",\"#EF553B\",\"#00cc96\",\"#ab63fa\",\"#FFA15A\",\"#19d3f3\",\"#FF6692\",\"#B6E880\",\"#FF97FF\",\"#FECB52\"],\"font\":{\"color\":\"#2a3f5f\"},\"hovermode\":\"closest\",\"hoverlabel\":{\"align\":\"left\"},\"paper_bgcolor\":\"white\",\"plot_bgcolor\":\"#E5ECF6\",\"polar\":{\"bgcolor\":\"#E5ECF6\",\"angularaxis\":{\"gridcolor\":\"white\",\"linecolor\":\"white\",\"ticks\":\"\"},\"radialaxis\":{\"gridcolor\":\"white\",\"linecolor\":\"white\",\"ticks\":\"\"}},\"ternary\":{\"bgcolor\":\"#E5ECF6\",\"aaxis\":{\"gridcolor\":\"white\",\"linecolor\":\"white\",\"ticks\":\"\"},\"baxis\":{\"gridcolor\":\"white\",\"linecolor\":\"white\",\"ticks\":\"\"},\"caxis\":{\"gridcolor\":\"white\",\"linecolor\":\"white\",\"ticks\":\"\"}},\"coloraxis\":{\"colorbar\":{\"outlinewidth\":0,\"ticks\":\"\"}},\"colorscale\":{\"sequential\":[[0.0,\"#0d0887\"],[0.1111111111111111,\"#46039f\"],[0.2222222222222222,\"#7201a8\"],[0.3333333333333333,\"#9c179e\"],[0.4444444444444444,\"#bd3786\"],[0.5555555555555556,\"#d8576b\"],[0.6666666666666666,\"#ed7953\"],[0.7777777777777778,\"#fb9f3a\"],[0.8888888888888888,\"#fdca26\"],[1.0,\"#f0f921\"]],\"sequentialminus\":[[0.0,\"#0d0887\"],[0.1111111111111111,\"#46039f\"],[0.2222222222222222,\"#7201a8\"],[0.3333333333333333,\"#9c179e\"],[0.4444444444444444,\"#bd3786\"],[0.5555555555555556,\"#d8576b\"],[0.6666666666666666,\"#ed7953\"],[0.7777777777777778,\"#fb9f3a\"],[0.8888888888888888,\"#fdca26\"],[1.0,\"#f0f921\"]],\"diverging\":[[0,\"#8e0152\"],[0.1,\"#c51b7d\"],[0.2,\"#de77ae\"],[0.3,\"#f1b6da\"],[0.4,\"#fde0ef\"],[0.5,\"#f7f7f7\"],[0.6,\"#e6f5d0\"],[0.7,\"#b8e186\"],[0.8,\"#7fbc41\"],[0.9,\"#4d9221\"],[1,\"#276419\"]]},\"xaxis\":{\"gridcolor\":\"white\",\"linecolor\":\"white\",\"ticks\":\"\",\"title\":{\"standoff\":15},\"zerolinecolor\":\"white\",\"automargin\":true,\"zerolinewidth\":2},\"yaxis\":{\"gridcolor\":\"white\",\"linecolor\":\"white\",\"ticks\":\"\",\"title\":{\"standoff\":15},\"zerolinecolor\":\"white\",\"automargin\":true,\"zerolinewidth\":2},\"scene\":{\"xaxis\":{\"backgroundcolor\":\"#E5ECF6\",\"gridcolor\":\"white\",\"linecolor\":\"white\",\"showbackground\":true,\"ticks\":\"\",\"zerolinecolor\":\"white\",\"gridwidth\":2},\"yaxis\":{\"backgroundcolor\":\"#E5ECF6\",\"gridcolor\":\"white\",\"linecolor\":\"white\",\"showbackground\":true,\"ticks\":\"\",\"zerolinecolor\":\"white\",\"gridwidth\":2},\"zaxis\":{\"backgroundcolor\":\"#E5ECF6\",\"gridcolor\":\"white\",\"linecolor\":\"white\",\"showbackground\":true,\"ticks\":\"\",\"zerolinecolor\":\"white\",\"gridwidth\":2}},\"shapedefaults\":{\"line\":{\"color\":\"#2a3f5f\"}},\"annotationdefaults\":{\"arrowcolor\":\"#2a3f5f\",\"arrowhead\":0,\"arrowwidth\":1},\"geo\":{\"bgcolor\":\"white\",\"landcolor\":\"#E5ECF6\",\"subunitcolor\":\"white\",\"showland\":true,\"showlakes\":true,\"lakecolor\":\"white\"},\"title\":{\"x\":0.05},\"mapbox\":{\"style\":\"light\"}}},\"xaxis\":{\"anchor\":\"y\",\"domain\":[0.0,1.0],\"title\":{\"text\":\"Building Permit Count\"},\"showgrid\":true,\"gridcolor\":\"lightgrey\"},\"yaxis\":{\"anchor\":\"x\",\"domain\":[0.0,1.0],\"title\":{\"text\":\"Population\"},\"showgrid\":true,\"gridcolor\":\"lightgrey\"},\"coloraxis\":{\"colorbar\":{\"title\":{\"text\":\"year\"}},\"colorscale\":[[0.0,\"#440154\"],[0.1111111111111111,\"#482878\"],[0.2222222222222222,\"#3e4989\"],[0.3333333333333333,\"#31688e\"],[0.4444444444444444,\"#26828e\"],[0.5555555555555556,\"#1f9e89\"],[0.6666666666666666,\"#35b779\"],[0.7777777777777778,\"#6ece58\"],[0.8888888888888888,\"#b5de2b\"],[1.0,\"#fde725\"]]},\"legend\":{\"tracegroupgap\":0},\"title\":{\"text\":\"Correlation Analysis: Building Permits vs Population\"},\"annotations\":[{\"align\":\"center\",\"font\":{\"color\":\"black\",\"size\":14},\"showarrow\":false,\"text\":\"Correlation: 0.87\",\"x\":0.5,\"xref\":\"paper\",\"y\":1.15,\"yref\":\"paper\"}],\"plot_bgcolor\":\"white\"},                        {\"responsive\": true}                    ).then(function(){\n",
       "                            \n",
       "var gd = document.getElementById('f9cbd659-d0fa-4b6b-81c0-e0554fcde393');\n",
       "var x = new MutationObserver(function (mutations, observer) {{\n",
       "        var display = window.getComputedStyle(gd).display;\n",
       "        if (!display || display === 'none') {{\n",
       "            console.log([gd, 'removed!']);\n",
       "            Plotly.purge(gd);\n",
       "            observer.disconnect();\n",
       "        }}\n",
       "}});\n",
       "\n",
       "// Listen for the removal of the full notebook cells\n",
       "var notebookContainer = gd.closest('#notebook-container');\n",
       "if (notebookContainer) {{\n",
       "    x.observe(notebookContainer, {childList: true});\n",
       "}}\n",
       "\n",
       "// Listen for the clearing of the current output cell\n",
       "var outputEl = gd.closest('.output');\n",
       "if (outputEl) {{\n",
       "    x.observe(outputEl, {childList: true});\n",
       "}}\n",
       "\n",
       "                        })                };                });            </script>        </div>"
      ]
     },
     "metadata": {},
     "output_type": "display_data"
    },
    {
     "data": {
      "application/vnd.plotly.v1+json": {
       "config": {
        "plotlyServerURL": "https://plot.ly"
       },
       "data": [
        {
         "hovertemplate": "Year: %{x}<br>Permit Growth: %{y:.2f}%<extra></extra>",
         "marker": {
          "color": "#636EFA"
         },
         "name": "Permit Growth",
         "type": "bar",
         "x": [
          2001,
          2002,
          2003,
          2004,
          2005,
          2006,
          2007,
          2008,
          2009,
          2010,
          2011,
          2012,
          2013,
          2014,
          2015,
          2016,
          2017,
          2018,
          2019,
          2020,
          2021
         ],
         "y": [
          null,
          100,
          -50,
          0,
          100,
          100,
          -50,
          0,
          600,
          21.42857142857142,
          211.76470588235296,
          -18.867924528301884,
          118.60465116279069,
          2339.3617021276596,
          35.54295682511992,
          14.768339768339779,
          1.0933557611438216,
          4.3261231281197965,
          -9.383306751727805,
          -34.3502493399824,
          13.806970509383376
         ]
        },
        {
         "hovertemplate": "Year: %{x}<br>Population Growth: %{y:.2f}%<extra></extra>",
         "marker": {
          "color": "#EF553B"
         },
         "name": "Population Growth",
         "type": "bar",
         "x": [
          2001,
          2002,
          2003,
          2004,
          2005,
          2006,
          2007,
          2008,
          2009,
          2010,
          2011,
          2012,
          2013,
          2014,
          2015,
          2016,
          2017,
          2018,
          2019,
          2020,
          2021
         ],
         "y": [
          null,
          9.056283620347294,
          9.168252917321862,
          8.295175425296408,
          6.452922646132309,
          5.418628508298928,
          6.502482720762526,
          5.354590820701444,
          4.792243459310397,
          3.582076883083807,
          2.6807207317947723,
          7.320430965682356,
          10.34877019464946,
          7.803826098676625,
          6.952139089665943,
          6.739143141036874,
          8.929060343883478,
          7.022703137469288,
          5.094617683496061,
          2.588913594869102,
          -7.49776722504193
         ]
        }
       ],
       "layout": {
        "autosize": true,
        "barmode": "group",
        "plot_bgcolor": "white",
        "template": {
         "data": {
          "bar": [
           {
            "error_x": {
             "color": "#2a3f5f"
            },
            "error_y": {
             "color": "#2a3f5f"
            },
            "marker": {
             "line": {
              "color": "#E5ECF6",
              "width": 0.5
             },
             "pattern": {
              "fillmode": "overlay",
              "size": 10,
              "solidity": 0.2
             }
            },
            "type": "bar"
           }
          ],
          "barpolar": [
           {
            "marker": {
             "line": {
              "color": "#E5ECF6",
              "width": 0.5
             },
             "pattern": {
              "fillmode": "overlay",
              "size": 10,
              "solidity": 0.2
             }
            },
            "type": "barpolar"
           }
          ],
          "carpet": [
           {
            "aaxis": {
             "endlinecolor": "#2a3f5f",
             "gridcolor": "white",
             "linecolor": "white",
             "minorgridcolor": "white",
             "startlinecolor": "#2a3f5f"
            },
            "baxis": {
             "endlinecolor": "#2a3f5f",
             "gridcolor": "white",
             "linecolor": "white",
             "minorgridcolor": "white",
             "startlinecolor": "#2a3f5f"
            },
            "type": "carpet"
           }
          ],
          "choropleth": [
           {
            "colorbar": {
             "outlinewidth": 0,
             "ticks": ""
            },
            "type": "choropleth"
           }
          ],
          "contour": [
           {
            "colorbar": {
             "outlinewidth": 0,
             "ticks": ""
            },
            "colorscale": [
             [
              0,
              "#0d0887"
             ],
             [
              0.1111111111111111,
              "#46039f"
             ],
             [
              0.2222222222222222,
              "#7201a8"
             ],
             [
              0.3333333333333333,
              "#9c179e"
             ],
             [
              0.4444444444444444,
              "#bd3786"
             ],
             [
              0.5555555555555556,
              "#d8576b"
             ],
             [
              0.6666666666666666,
              "#ed7953"
             ],
             [
              0.7777777777777778,
              "#fb9f3a"
             ],
             [
              0.8888888888888888,
              "#fdca26"
             ],
             [
              1,
              "#f0f921"
             ]
            ],
            "type": "contour"
           }
          ],
          "contourcarpet": [
           {
            "colorbar": {
             "outlinewidth": 0,
             "ticks": ""
            },
            "type": "contourcarpet"
           }
          ],
          "heatmap": [
           {
            "colorbar": {
             "outlinewidth": 0,
             "ticks": ""
            },
            "colorscale": [
             [
              0,
              "#0d0887"
             ],
             [
              0.1111111111111111,
              "#46039f"
             ],
             [
              0.2222222222222222,
              "#7201a8"
             ],
             [
              0.3333333333333333,
              "#9c179e"
             ],
             [
              0.4444444444444444,
              "#bd3786"
             ],
             [
              0.5555555555555556,
              "#d8576b"
             ],
             [
              0.6666666666666666,
              "#ed7953"
             ],
             [
              0.7777777777777778,
              "#fb9f3a"
             ],
             [
              0.8888888888888888,
              "#fdca26"
             ],
             [
              1,
              "#f0f921"
             ]
            ],
            "type": "heatmap"
           }
          ],
          "heatmapgl": [
           {
            "colorbar": {
             "outlinewidth": 0,
             "ticks": ""
            },
            "colorscale": [
             [
              0,
              "#0d0887"
             ],
             [
              0.1111111111111111,
              "#46039f"
             ],
             [
              0.2222222222222222,
              "#7201a8"
             ],
             [
              0.3333333333333333,
              "#9c179e"
             ],
             [
              0.4444444444444444,
              "#bd3786"
             ],
             [
              0.5555555555555556,
              "#d8576b"
             ],
             [
              0.6666666666666666,
              "#ed7953"
             ],
             [
              0.7777777777777778,
              "#fb9f3a"
             ],
             [
              0.8888888888888888,
              "#fdca26"
             ],
             [
              1,
              "#f0f921"
             ]
            ],
            "type": "heatmapgl"
           }
          ],
          "histogram": [
           {
            "marker": {
             "pattern": {
              "fillmode": "overlay",
              "size": 10,
              "solidity": 0.2
             }
            },
            "type": "histogram"
           }
          ],
          "histogram2d": [
           {
            "colorbar": {
             "outlinewidth": 0,
             "ticks": ""
            },
            "colorscale": [
             [
              0,
              "#0d0887"
             ],
             [
              0.1111111111111111,
              "#46039f"
             ],
             [
              0.2222222222222222,
              "#7201a8"
             ],
             [
              0.3333333333333333,
              "#9c179e"
             ],
             [
              0.4444444444444444,
              "#bd3786"
             ],
             [
              0.5555555555555556,
              "#d8576b"
             ],
             [
              0.6666666666666666,
              "#ed7953"
             ],
             [
              0.7777777777777778,
              "#fb9f3a"
             ],
             [
              0.8888888888888888,
              "#fdca26"
             ],
             [
              1,
              "#f0f921"
             ]
            ],
            "type": "histogram2d"
           }
          ],
          "histogram2dcontour": [
           {
            "colorbar": {
             "outlinewidth": 0,
             "ticks": ""
            },
            "colorscale": [
             [
              0,
              "#0d0887"
             ],
             [
              0.1111111111111111,
              "#46039f"
             ],
             [
              0.2222222222222222,
              "#7201a8"
             ],
             [
              0.3333333333333333,
              "#9c179e"
             ],
             [
              0.4444444444444444,
              "#bd3786"
             ],
             [
              0.5555555555555556,
              "#d8576b"
             ],
             [
              0.6666666666666666,
              "#ed7953"
             ],
             [
              0.7777777777777778,
              "#fb9f3a"
             ],
             [
              0.8888888888888888,
              "#fdca26"
             ],
             [
              1,
              "#f0f921"
             ]
            ],
            "type": "histogram2dcontour"
           }
          ],
          "mesh3d": [
           {
            "colorbar": {
             "outlinewidth": 0,
             "ticks": ""
            },
            "type": "mesh3d"
           }
          ],
          "parcoords": [
           {
            "line": {
             "colorbar": {
              "outlinewidth": 0,
              "ticks": ""
             }
            },
            "type": "parcoords"
           }
          ],
          "pie": [
           {
            "automargin": true,
            "type": "pie"
           }
          ],
          "scatter": [
           {
            "fillpattern": {
             "fillmode": "overlay",
             "size": 10,
             "solidity": 0.2
            },
            "type": "scatter"
           }
          ],
          "scatter3d": [
           {
            "line": {
             "colorbar": {
              "outlinewidth": 0,
              "ticks": ""
             }
            },
            "marker": {
             "colorbar": {
              "outlinewidth": 0,
              "ticks": ""
             }
            },
            "type": "scatter3d"
           }
          ],
          "scattercarpet": [
           {
            "marker": {
             "colorbar": {
              "outlinewidth": 0,
              "ticks": ""
             }
            },
            "type": "scattercarpet"
           }
          ],
          "scattergeo": [
           {
            "marker": {
             "colorbar": {
              "outlinewidth": 0,
              "ticks": ""
             }
            },
            "type": "scattergeo"
           }
          ],
          "scattergl": [
           {
            "marker": {
             "colorbar": {
              "outlinewidth": 0,
              "ticks": ""
             }
            },
            "type": "scattergl"
           }
          ],
          "scattermapbox": [
           {
            "marker": {
             "colorbar": {
              "outlinewidth": 0,
              "ticks": ""
             }
            },
            "type": "scattermapbox"
           }
          ],
          "scatterpolar": [
           {
            "marker": {
             "colorbar": {
              "outlinewidth": 0,
              "ticks": ""
             }
            },
            "type": "scatterpolar"
           }
          ],
          "scatterpolargl": [
           {
            "marker": {
             "colorbar": {
              "outlinewidth": 0,
              "ticks": ""
             }
            },
            "type": "scatterpolargl"
           }
          ],
          "scatterternary": [
           {
            "marker": {
             "colorbar": {
              "outlinewidth": 0,
              "ticks": ""
             }
            },
            "type": "scatterternary"
           }
          ],
          "surface": [
           {
            "colorbar": {
             "outlinewidth": 0,
             "ticks": ""
            },
            "colorscale": [
             [
              0,
              "#0d0887"
             ],
             [
              0.1111111111111111,
              "#46039f"
             ],
             [
              0.2222222222222222,
              "#7201a8"
             ],
             [
              0.3333333333333333,
              "#9c179e"
             ],
             [
              0.4444444444444444,
              "#bd3786"
             ],
             [
              0.5555555555555556,
              "#d8576b"
             ],
             [
              0.6666666666666666,
              "#ed7953"
             ],
             [
              0.7777777777777778,
              "#fb9f3a"
             ],
             [
              0.8888888888888888,
              "#fdca26"
             ],
             [
              1,
              "#f0f921"
             ]
            ],
            "type": "surface"
           }
          ],
          "table": [
           {
            "cells": {
             "fill": {
              "color": "#EBF0F8"
             },
             "line": {
              "color": "white"
             }
            },
            "header": {
             "fill": {
              "color": "#C8D4E3"
             },
             "line": {
              "color": "white"
             }
            },
            "type": "table"
           }
          ]
         },
         "layout": {
          "annotationdefaults": {
           "arrowcolor": "#2a3f5f",
           "arrowhead": 0,
           "arrowwidth": 1
          },
          "autotypenumbers": "strict",
          "coloraxis": {
           "colorbar": {
            "outlinewidth": 0,
            "ticks": ""
           }
          },
          "colorscale": {
           "diverging": [
            [
             0,
             "#8e0152"
            ],
            [
             0.1,
             "#c51b7d"
            ],
            [
             0.2,
             "#de77ae"
            ],
            [
             0.3,
             "#f1b6da"
            ],
            [
             0.4,
             "#fde0ef"
            ],
            [
             0.5,
             "#f7f7f7"
            ],
            [
             0.6,
             "#e6f5d0"
            ],
            [
             0.7,
             "#b8e186"
            ],
            [
             0.8,
             "#7fbc41"
            ],
            [
             0.9,
             "#4d9221"
            ],
            [
             1,
             "#276419"
            ]
           ],
           "sequential": [
            [
             0,
             "#0d0887"
            ],
            [
             0.1111111111111111,
             "#46039f"
            ],
            [
             0.2222222222222222,
             "#7201a8"
            ],
            [
             0.3333333333333333,
             "#9c179e"
            ],
            [
             0.4444444444444444,
             "#bd3786"
            ],
            [
             0.5555555555555556,
             "#d8576b"
            ],
            [
             0.6666666666666666,
             "#ed7953"
            ],
            [
             0.7777777777777778,
             "#fb9f3a"
            ],
            [
             0.8888888888888888,
             "#fdca26"
            ],
            [
             1,
             "#f0f921"
            ]
           ],
           "sequentialminus": [
            [
             0,
             "#0d0887"
            ],
            [
             0.1111111111111111,
             "#46039f"
            ],
            [
             0.2222222222222222,
             "#7201a8"
            ],
            [
             0.3333333333333333,
             "#9c179e"
            ],
            [
             0.4444444444444444,
             "#bd3786"
            ],
            [
             0.5555555555555556,
             "#d8576b"
            ],
            [
             0.6666666666666666,
             "#ed7953"
            ],
            [
             0.7777777777777778,
             "#fb9f3a"
            ],
            [
             0.8888888888888888,
             "#fdca26"
            ],
            [
             1,
             "#f0f921"
            ]
           ]
          },
          "colorway": [
           "#636efa",
           "#EF553B",
           "#00cc96",
           "#ab63fa",
           "#FFA15A",
           "#19d3f3",
           "#FF6692",
           "#B6E880",
           "#FF97FF",
           "#FECB52"
          ],
          "font": {
           "color": "#2a3f5f"
          },
          "geo": {
           "bgcolor": "white",
           "lakecolor": "white",
           "landcolor": "#E5ECF6",
           "showlakes": true,
           "showland": true,
           "subunitcolor": "white"
          },
          "hoverlabel": {
           "align": "left"
          },
          "hovermode": "closest",
          "mapbox": {
           "style": "light"
          },
          "paper_bgcolor": "white",
          "plot_bgcolor": "#E5ECF6",
          "polar": {
           "angularaxis": {
            "gridcolor": "white",
            "linecolor": "white",
            "ticks": ""
           },
           "bgcolor": "#E5ECF6",
           "radialaxis": {
            "gridcolor": "white",
            "linecolor": "white",
            "ticks": ""
           }
          },
          "scene": {
           "xaxis": {
            "backgroundcolor": "#E5ECF6",
            "gridcolor": "white",
            "gridwidth": 2,
            "linecolor": "white",
            "showbackground": true,
            "ticks": "",
            "zerolinecolor": "white"
           },
           "yaxis": {
            "backgroundcolor": "#E5ECF6",
            "gridcolor": "white",
            "gridwidth": 2,
            "linecolor": "white",
            "showbackground": true,
            "ticks": "",
            "zerolinecolor": "white"
           },
           "zaxis": {
            "backgroundcolor": "#E5ECF6",
            "gridcolor": "white",
            "gridwidth": 2,
            "linecolor": "white",
            "showbackground": true,
            "ticks": "",
            "zerolinecolor": "white"
           }
          },
          "shapedefaults": {
           "line": {
            "color": "#2a3f5f"
           }
          },
          "ternary": {
           "aaxis": {
            "gridcolor": "white",
            "linecolor": "white",
            "ticks": ""
           },
           "baxis": {
            "gridcolor": "white",
            "linecolor": "white",
            "ticks": ""
           },
           "bgcolor": "#E5ECF6",
           "caxis": {
            "gridcolor": "white",
            "linecolor": "white",
            "ticks": ""
           }
          },
          "title": {
           "x": 0.05
          },
          "xaxis": {
           "automargin": true,
           "gridcolor": "white",
           "linecolor": "white",
           "ticks": "",
           "title": {
            "standoff": 15
           },
           "zerolinecolor": "white",
           "zerolinewidth": 2
          },
          "yaxis": {
           "automargin": true,
           "gridcolor": "white",
           "linecolor": "white",
           "ticks": "",
           "title": {
            "standoff": 15
           },
           "zerolinecolor": "white",
           "zerolinewidth": 2
          }
         }
        },
        "title": {
         "text": "Year-over-Year Growth Rate"
        },
        "xaxis": {
         "autorange": true,
         "gridcolor": "lightgrey",
         "range": [
          2000.5,
          2021.5
         ],
         "showgrid": true,
         "title": {
          "text": "Year"
         },
         "type": "linear"
        },
        "yaxis": {
         "autorange": true,
         "gridcolor": "lightgrey",
         "range": [
          -182.74231678486998,
          2472.1040189125297
         ],
         "showgrid": true,
         "title": {
          "text": "Growth Rate (%)"
         },
         "type": "linear"
        }
       }
      },
      "image/png": "[encoded data removed]",
      "text/html": [
       "<div>                            <div id=\"15c8048e-3aaa-4dad-845c-9c8fef667da1\" class=\"plotly-graph-div\" style=\"height:525px; width:100%;\"></div>            <script type=\"text/javascript\">                require([\"plotly\"], function(Plotly) {                    window.PLOTLYENV=window.PLOTLYENV || {};                                    if (document.getElementById(\"15c8048e-3aaa-4dad-845c-9c8fef667da1\")) {                    Plotly.newPlot(                        \"15c8048e-3aaa-4dad-845c-9c8fef667da1\",                        [{\"hovertemplate\":\"Year: %{x}\\u003cbr\\u003ePermit Growth: %{y:.2f}%\\u003cextra\\u003e\\u003c\\u002fextra\\u003e\",\"marker\":{\"color\":\"#636EFA\"},\"name\":\"Permit Growth\",\"x\":[2001,2002,2003,2004,2005,2006,2007,2008,2009,2010,2011,2012,2013,2014,2015,2016,2017,2018,2019,2020,2021],\"y\":[null,100.0,-50.0,0.0,100.0,100.0,-50.0,0.0,600.0,21.42857142857142,211.76470588235296,-18.867924528301884,118.60465116279069,2339.3617021276596,35.54295682511992,14.768339768339779,1.0933557611438216,4.3261231281197965,-9.383306751727805,-34.3502493399824,13.806970509383376],\"type\":\"bar\"},{\"hovertemplate\":\"Year: %{x}\\u003cbr\\u003ePopulation Growth: %{y:.2f}%\\u003cextra\\u003e\\u003c\\u002fextra\\u003e\",\"marker\":{\"color\":\"#EF553B\"},\"name\":\"Population Growth\",\"x\":[2001,2002,2003,2004,2005,2006,2007,2008,2009,2010,2011,2012,2013,2014,2015,2016,2017,2018,2019,2020,2021],\"y\":[null,9.056283620347294,9.168252917321862,8.295175425296408,6.452922646132309,5.418628508298928,6.502482720762526,5.354590820701444,4.792243459310397,3.582076883083807,2.6807207317947723,7.320430965682356,10.34877019464946,7.803826098676625,6.952139089665943,6.739143141036874,8.929060343883478,7.022703137469288,5.094617683496061,2.588913594869102,-7.49776722504193],\"type\":\"bar\"}],                        {\"template\":{\"data\":{\"histogram2dcontour\":[{\"type\":\"histogram2dcontour\",\"colorbar\":{\"outlinewidth\":0,\"ticks\":\"\"},\"colorscale\":[[0.0,\"#0d0887\"],[0.1111111111111111,\"#46039f\"],[0.2222222222222222,\"#7201a8\"],[0.3333333333333333,\"#9c179e\"],[0.4444444444444444,\"#bd3786\"],[0.5555555555555556,\"#d8576b\"],[0.6666666666666666,\"#ed7953\"],[0.7777777777777778,\"#fb9f3a\"],[0.8888888888888888,\"#fdca26\"],[1.0,\"#f0f921\"]]}],\"choropleth\":[{\"type\":\"choropleth\",\"colorbar\":{\"outlinewidth\":0,\"ticks\":\"\"}}],\"histogram2d\":[{\"type\":\"histogram2d\",\"colorbar\":{\"outlinewidth\":0,\"ticks\":\"\"},\"colorscale\":[[0.0,\"#0d0887\"],[0.1111111111111111,\"#46039f\"],[0.2222222222222222,\"#7201a8\"],[0.3333333333333333,\"#9c179e\"],[0.4444444444444444,\"#bd3786\"],[0.5555555555555556,\"#d8576b\"],[0.6666666666666666,\"#ed7953\"],[0.7777777777777778,\"#fb9f3a\"],[0.8888888888888888,\"#fdca26\"],[1.0,\"#f0f921\"]]}],\"heatmap\":[{\"type\":\"heatmap\",\"colorbar\":{\"outlinewidth\":0,\"ticks\":\"\"},\"colorscale\":[[0.0,\"#0d0887\"],[0.1111111111111111,\"#46039f\"],[0.2222222222222222,\"#7201a8\"],[0.3333333333333333,\"#9c179e\"],[0.4444444444444444,\"#bd3786\"],[0.5555555555555556,\"#d8576b\"],[0.6666666666666666,\"#ed7953\"],[0.7777777777777778,\"#fb9f3a\"],[0.8888888888888888,\"#fdca26\"],[1.0,\"#f0f921\"]]}],\"heatmapgl\":[{\"type\":\"heatmapgl\",\"colorbar\":{\"outlinewidth\":0,\"ticks\":\"\"},\"colorscale\":[[0.0,\"#0d0887\"],[0.1111111111111111,\"#46039f\"],[0.2222222222222222,\"#7201a8\"],[0.3333333333333333,\"#9c179e\"],[0.4444444444444444,\"#bd3786\"],[0.5555555555555556,\"#d8576b\"],[0.6666666666666666,\"#ed7953\"],[0.7777777777777778,\"#fb9f3a\"],[0.8888888888888888,\"#fdca26\"],[1.0,\"#f0f921\"]]}],\"contourcarpet\":[{\"type\":\"contourcarpet\",\"colorbar\":{\"outlinewidth\":0,\"ticks\":\"\"}}],\"contour\":[{\"type\":\"contour\",\"colorbar\":{\"outlinewidth\":0,\"ticks\":\"\"},\"colorscale\":[[0.0,\"#0d0887\"],[0.1111111111111111,\"#46039f\"],[0.2222222222222222,\"#7201a8\"],[0.3333333333333333,\"#9c179e\"],[0.4444444444444444,\"#bd3786\"],[0.5555555555555556,\"#d8576b\"],[0.6666666666666666,\"#ed7953\"],[0.7777777777777778,\"#fb9f3a\"],[0.8888888888888888,\"#fdca26\"],[1.0,\"#f0f921\"]]}],\"surface\":[{\"type\":\"surface\",\"colorbar\":{\"outlinewidth\":0,\"ticks\":\"\"},\"colorscale\":[[0.0,\"#0d0887\"],[0.1111111111111111,\"#46039f\"],[0.2222222222222222,\"#7201a8\"],[0.3333333333333333,\"#9c179e\"],[0.4444444444444444,\"#bd3786\"],[0.5555555555555556,\"#d8576b\"],[0.6666666666666666,\"#ed7953\"],[0.7777777777777778,\"#fb9f3a\"],[0.8888888888888888,\"#fdca26\"],[1.0,\"#f0f921\"]]}],\"mesh3d\":[{\"type\":\"mesh3d\",\"colorbar\":{\"outlinewidth\":0,\"ticks\":\"\"}}],\"scatter\":[{\"fillpattern\":{\"fillmode\":\"overlay\",\"size\":10,\"solidity\":0.2},\"type\":\"scatter\"}],\"parcoords\":[{\"type\":\"parcoords\",\"line\":{\"colorbar\":{\"outlinewidth\":0,\"ticks\":\"\"}}}],\"scatterpolargl\":[{\"type\":\"scatterpolargl\",\"marker\":{\"colorbar\":{\"outlinewidth\":0,\"ticks\":\"\"}}}],\"bar\":[{\"error_x\":{\"color\":\"#2a3f5f\"},\"error_y\":{\"color\":\"#2a3f5f\"},\"marker\":{\"line\":{\"color\":\"#E5ECF6\",\"width\":0.5},\"pattern\":{\"fillmode\":\"overlay\",\"size\":10,\"solidity\":0.2}},\"type\":\"bar\"}],\"scattergeo\":[{\"type\":\"scattergeo\",\"marker\":{\"colorbar\":{\"outlinewidth\":0,\"ticks\":\"\"}}}],\"scatterpolar\":[{\"type\":\"scatterpolar\",\"marker\":{\"colorbar\":{\"outlinewidth\":0,\"ticks\":\"\"}}}],\"histogram\":[{\"marker\":{\"pattern\":{\"fillmode\":\"overlay\",\"size\":10,\"solidity\":0.2}},\"type\":\"histogram\"}],\"scattergl\":[{\"type\":\"scattergl\",\"marker\":{\"colorbar\":{\"outlinewidth\":0,\"ticks\":\"\"}}}],\"scatter3d\":[{\"type\":\"scatter3d\",\"line\":{\"colorbar\":{\"outlinewidth\":0,\"ticks\":\"\"}},\"marker\":{\"colorbar\":{\"outlinewidth\":0,\"ticks\":\"\"}}}],\"scattermapbox\":[{\"type\":\"scattermapbox\",\"marker\":{\"colorbar\":{\"outlinewidth\":0,\"ticks\":\"\"}}}],\"scatterternary\":[{\"type\":\"scatterternary\",\"marker\":{\"colorbar\":{\"outlinewidth\":0,\"ticks\":\"\"}}}],\"scattercarpet\":[{\"type\":\"scattercarpet\",\"marker\":{\"colorbar\":{\"outlinewidth\":0,\"ticks\":\"\"}}}],\"carpet\":[{\"aaxis\":{\"endlinecolor\":\"#2a3f5f\",\"gridcolor\":\"white\",\"linecolor\":\"white\",\"minorgridcolor\":\"white\",\"startlinecolor\":\"#2a3f5f\"},\"baxis\":{\"endlinecolor\":\"#2a3f5f\",\"gridcolor\":\"white\",\"linecolor\":\"white\",\"minorgridcolor\":\"white\",\"startlinecolor\":\"#2a3f5f\"},\"type\":\"carpet\"}],\"table\":[{\"cells\":{\"fill\":{\"color\":\"#EBF0F8\"},\"line\":{\"color\":\"white\"}},\"header\":{\"fill\":{\"color\":\"#C8D4E3\"},\"line\":{\"color\":\"white\"}},\"type\":\"table\"}],\"barpolar\":[{\"marker\":{\"line\":{\"color\":\"#E5ECF6\",\"width\":0.5},\"pattern\":{\"fillmode\":\"overlay\",\"size\":10,\"solidity\":0.2}},\"type\":\"barpolar\"}],\"pie\":[{\"automargin\":true,\"type\":\"pie\"}]},\"layout\":{\"autotypenumbers\":\"strict\",\"colorway\":[\"#636efa\",\"#EF553B\",\"#00cc96\",\"#ab63fa\",\"#FFA15A\",\"#19d3f3\",\"#FF6692\",\"#B6E880\",\"#FF97FF\",\"#FECB52\"],\"font\":{\"color\":\"#2a3f5f\"},\"hovermode\":\"closest\",\"hoverlabel\":{\"align\":\"left\"},\"paper_bgcolor\":\"white\",\"plot_bgcolor\":\"#E5ECF6\",\"polar\":{\"bgcolor\":\"#E5ECF6\",\"angularaxis\":{\"gridcolor\":\"white\",\"linecolor\":\"white\",\"ticks\":\"\"},\"radialaxis\":{\"gridcolor\":\"white\",\"linecolor\":\"white\",\"ticks\":\"\"}},\"ternary\":{\"bgcolor\":\"#E5ECF6\",\"aaxis\":{\"gridcolor\":\"white\",\"linecolor\":\"white\",\"ticks\":\"\"},\"baxis\":{\"gridcolor\":\"white\",\"linecolor\":\"white\",\"ticks\":\"\"},\"caxis\":{\"gridcolor\":\"white\",\"linecolor\":\"white\",\"ticks\":\"\"}},\"coloraxis\":{\"colorbar\":{\"outlinewidth\":0,\"ticks\":\"\"}},\"colorscale\":{\"sequential\":[[0.0,\"#0d0887\"],[0.1111111111111111,\"#46039f\"],[0.2222222222222222,\"#7201a8\"],[0.3333333333333333,\"#9c179e\"],[0.4444444444444444,\"#bd3786\"],[0.5555555555555556,\"#d8576b\"],[0.6666666666666666,\"#ed7953\"],[0.7777777777777778,\"#fb9f3a\"],[0.8888888888888888,\"#fdca26\"],[1.0,\"#f0f921\"]],\"sequentialminus\":[[0.0,\"#0d0887\"],[0.1111111111111111,\"#46039f\"],[0.2222222222222222,\"#7201a8\"],[0.3333333333333333,\"#9c179e\"],[0.4444444444444444,\"#bd3786\"],[0.5555555555555556,\"#d8576b\"],[0.6666666666666666,\"#ed7953\"],[0.7777777777777778,\"#fb9f3a\"],[0.8888888888888888,\"#fdca26\"],[1.0,\"#f0f921\"]],\"diverging\":[[0,\"#8e0152\"],[0.1,\"#c51b7d\"],[0.2,\"#de77ae\"],[0.3,\"#f1b6da\"],[0.4,\"#fde0ef\"],[0.5,\"#f7f7f7\"],[0.6,\"#e6f5d0\"],[0.7,\"#b8e186\"],[0.8,\"#7fbc41\"],[0.9,\"#4d9221\"],[1,\"#276419\"]]},\"xaxis\":{\"gridcolor\":\"white\",\"linecolor\":\"white\",\"ticks\":\"\",\"title\":{\"standoff\":15},\"zerolinecolor\":\"white\",\"automargin\":true,\"zerolinewidth\":2},\"yaxis\":{\"gridcolor\":\"white\",\"linecolor\":\"white\",\"ticks\":\"\",\"title\":{\"standoff\":15},\"zerolinecolor\":\"white\",\"automargin\":true,\"zerolinewidth\":2},\"scene\":{\"xaxis\":{\"backgroundcolor\":\"#E5ECF6\",\"gridcolor\":\"white\",\"linecolor\":\"white\",\"showbackground\":true,\"ticks\":\"\",\"zerolinecolor\":\"white\",\"gridwidth\":2},\"yaxis\":{\"backgroundcolor\":\"#E5ECF6\",\"gridcolor\":\"white\",\"linecolor\":\"white\",\"showbackground\":true,\"ticks\":\"\",\"zerolinecolor\":\"white\",\"gridwidth\":2},\"zaxis\":{\"backgroundcolor\":\"#E5ECF6\",\"gridcolor\":\"white\",\"linecolor\":\"white\",\"showbackground\":true,\"ticks\":\"\",\"zerolinecolor\":\"white\",\"gridwidth\":2}},\"shapedefaults\":{\"line\":{\"color\":\"#2a3f5f\"}},\"annotationdefaults\":{\"arrowcolor\":\"#2a3f5f\",\"arrowhead\":0,\"arrowwidth\":1},\"geo\":{\"bgcolor\":\"white\",\"landcolor\":\"#E5ECF6\",\"subunitcolor\":\"white\",\"showland\":true,\"showlakes\":true,\"lakecolor\":\"white\"},\"title\":{\"x\":0.05},\"mapbox\":{\"style\":\"light\"}}},\"xaxis\":{\"title\":{\"text\":\"Year\"},\"showgrid\":true,\"gridcolor\":\"lightgrey\"},\"yaxis\":{\"title\":{\"text\":\"Growth Rate (%)\"},\"showgrid\":true,\"gridcolor\":\"lightgrey\"},\"title\":{\"text\":\"Year-over-Year Growth Rate\"},\"barmode\":\"group\",\"plot_bgcolor\":\"white\"},                        {\"responsive\": true}                    ).then(function(){\n",
       "                            \n",
       "var gd = document.getElementById('15c8048e-3aaa-4dad-845c-9c8fef667da1');\n",
       "var x = new MutationObserver(function (mutations, observer) {{\n",
       "        var display = window.getComputedStyle(gd).display;\n",
       "        if (!display || display === 'none') {{\n",
       "            console.log([gd, 'removed!']);\n",
       "            Plotly.purge(gd);\n",
       "            observer.disconnect();\n",
       "        }}\n",
       "}});\n",
       "\n",
       "// Listen for the removal of the full notebook cells\n",
       "var notebookContainer = gd.closest('#notebook-container');\n",
       "if (notebookContainer) {{\n",
       "    x.observe(notebookContainer, {childList: true});\n",
       "}}\n",
       "\n",
       "// Listen for the clearing of the current output cell\n",
       "var outputEl = gd.closest('.output');\n",
       "if (outputEl) {{\n",
       "    x.observe(outputEl, {childList: true});\n",
       "}}\n",
       "\n",
       "                        })                };                });            </script>        </div>"
      ]
     },
     "metadata": {},
     "output_type": "display_data"
    },
    {
     "data": {
      "application/vnd.plotly.v1+json": {
       "config": {
        "plotlyServerURL": "https://plot.ly"
       },
       "data": [
        {
         "alignmentgroup": "True",
         "boxpoints": "all",
         "hovertemplate": "Metric=%{x}<br>Count=%{y}<extra></extra>",
         "legendgroup": "building_permit_count",
         "marker": {
          "color": "#636EFA"
         },
         "name": "building_permit_count",
         "notched": false,
         "offsetgroup": "building_permit_count",
         "orientation": "v",
         "showlegend": true,
         "type": "box",
         "x": [
          "building_permit_count",
          "building_permit_count",
          "building_permit_count",
          "building_permit_count",
          "building_permit_count",
          "building_permit_count",
          "building_permit_count",
          "building_permit_count",
          "building_permit_count",
          "building_permit_count",
          "building_permit_count",
          "building_permit_count",
          "building_permit_count",
          "building_permit_count",
          "building_permit_count",
          "building_permit_count",
          "building_permit_count",
          "building_permit_count",
          "building_permit_count",
          "building_permit_count",
          "building_permit_count"
         ],
         "x0": " ",
         "xaxis": "x",
         "y": [
          1,
          2,
          1,
          1,
          2,
          4,
          2,
          2,
          14,
          17,
          53,
          43,
          94,
          2293,
          3108,
          3567,
          3606,
          3762,
          3409,
          2238,
          2547
         ],
         "y0": " ",
         "yaxis": "y"
        },
        {
         "alignmentgroup": "True",
         "boxpoints": "all",
         "hovertemplate": "Metric=%{x}<br>Count=%{y}<extra></extra>",
         "legendgroup": "population",
         "marker": {
          "color": "#EF553B"
         },
         "name": "population",
         "notched": false,
         "offsetgroup": "population",
         "orientation": "v",
         "showlegend": true,
         "type": "box",
         "x": [
          "population",
          "population",
          "population",
          "population",
          "population",
          "population",
          "population",
          "population",
          "population",
          "population",
          "population",
          "population",
          "population",
          "population",
          "population",
          "population",
          "population",
          "population",
          "population",
          "population",
          "population"
         ],
         "x0": " ",
         "xaxis": "x",
         "y": [
          55398,
          60415,
          65954,
          71425,
          76034,
          80154,
          85366,
          89937,
          94247,
          97623,
          100240,
          107578,
          118711,
          127975,
          136872,
          146096,
          159141,
          170317,
          178994,
          183628,
          169860
         ],
         "y0": " ",
         "yaxis": "y"
        }
       ],
       "layout": {
        "autosize": true,
        "boxmode": "overlay",
        "legend": {
         "title": {
          "text": "Metric"
         },
         "tracegroupgap": 0
        },
        "plot_bgcolor": "white",
        "template": {
         "data": {
          "bar": [
           {
            "error_x": {
             "color": "#2a3f5f"
            },
            "error_y": {
             "color": "#2a3f5f"
            },
            "marker": {
             "line": {
              "color": "#E5ECF6",
              "width": 0.5
             },
             "pattern": {
              "fillmode": "overlay",
              "size": 10,
              "solidity": 0.2
             }
            },
            "type": "bar"
           }
          ],
          "barpolar": [
           {
            "marker": {
             "line": {
              "color": "#E5ECF6",
              "width": 0.5
             },
             "pattern": {
              "fillmode": "overlay",
              "size": 10,
              "solidity": 0.2
             }
            },
            "type": "barpolar"
           }
          ],
          "carpet": [
           {
            "aaxis": {
             "endlinecolor": "#2a3f5f",
             "gridcolor": "white",
             "linecolor": "white",
             "minorgridcolor": "white",
             "startlinecolor": "#2a3f5f"
            },
            "baxis": {
             "endlinecolor": "#2a3f5f",
             "gridcolor": "white",
             "linecolor": "white",
             "minorgridcolor": "white",
             "startlinecolor": "#2a3f5f"
            },
            "type": "carpet"
           }
          ],
          "choropleth": [
           {
            "colorbar": {
             "outlinewidth": 0,
             "ticks": ""
            },
            "type": "choropleth"
           }
          ],
          "contour": [
           {
            "colorbar": {
             "outlinewidth": 0,
             "ticks": ""
            },
            "colorscale": [
             [
              0,
              "#0d0887"
             ],
             [
              0.1111111111111111,
              "#46039f"
             ],
             [
              0.2222222222222222,
              "#7201a8"
             ],
             [
              0.3333333333333333,
              "#9c179e"
             ],
             [
              0.4444444444444444,
              "#bd3786"
             ],
             [
              0.5555555555555556,
              "#d8576b"
             ],
             [
              0.6666666666666666,
              "#ed7953"
             ],
             [
              0.7777777777777778,
              "#fb9f3a"
             ],
             [
              0.8888888888888888,
              "#fdca26"
             ],
             [
              1,
              "#f0f921"
             ]
            ],
            "type": "contour"
           }
          ],
          "contourcarpet": [
           {
            "colorbar": {
             "outlinewidth": 0,
             "ticks": ""
            },
            "type": "contourcarpet"
           }
          ],
          "heatmap": [
           {
            "colorbar": {
             "outlinewidth": 0,
             "ticks": ""
            },
            "colorscale": [
             [
              0,
              "#0d0887"
             ],
             [
              0.1111111111111111,
              "#46039f"
             ],
             [
              0.2222222222222222,
              "#7201a8"
             ],
             [
              0.3333333333333333,
              "#9c179e"
             ],
             [
              0.4444444444444444,
              "#bd3786"
             ],
             [
              0.5555555555555556,
              "#d8576b"
             ],
             [
              0.6666666666666666,
              "#ed7953"
             ],
             [
              0.7777777777777778,
              "#fb9f3a"
             ],
             [
              0.8888888888888888,
              "#fdca26"
             ],
             [
              1,
              "#f0f921"
             ]
            ],
            "type": "heatmap"
           }
          ],
          "heatmapgl": [
           {
            "colorbar": {
             "outlinewidth": 0,
             "ticks": ""
            },
            "colorscale": [
             [
              0,
              "#0d0887"
             ],
             [
              0.1111111111111111,
              "#46039f"
             ],
             [
              0.2222222222222222,
              "#7201a8"
             ],
             [
              0.3333333333333333,
              "#9c179e"
             ],
             [
              0.4444444444444444,
              "#bd3786"
             ],
             [
              0.5555555555555556,
              "#d8576b"
             ],
             [
              0.6666666666666666,
              "#ed7953"
             ],
             [
              0.7777777777777778,
              "#fb9f3a"
             ],
             [
              0.8888888888888888,
              "#fdca26"
             ],
             [
              1,
              "#f0f921"
             ]
            ],
            "type": "heatmapgl"
           }
          ],
          "histogram": [
           {
            "marker": {
             "pattern": {
              "fillmode": "overlay",
              "size": 10,
              "solidity": 0.2
             }
            },
            "type": "histogram"
           }
          ],
          "histogram2d": [
           {
            "colorbar": {
             "outlinewidth": 0,
             "ticks": ""
            },
            "colorscale": [
             [
              0,
              "#0d0887"
             ],
             [
              0.1111111111111111,
              "#46039f"
             ],
             [
              0.2222222222222222,
              "#7201a8"
             ],
             [
              0.3333333333333333,
              "#9c179e"
             ],
             [
              0.4444444444444444,
              "#bd3786"
             ],
             [
              0.5555555555555556,
              "#d8576b"
             ],
             [
              0.6666666666666666,
              "#ed7953"
             ],
             [
              0.7777777777777778,
              "#fb9f3a"
             ],
             [
              0.8888888888888888,
              "#fdca26"
             ],
             [
              1,
              "#f0f921"
             ]
            ],
            "type": "histogram2d"
           }
          ],
          "histogram2dcontour": [
           {
            "colorbar": {
             "outlinewidth": 0,
             "ticks": ""
            },
            "colorscale": [
             [
              0,
              "#0d0887"
             ],
             [
              0.1111111111111111,
              "#46039f"
             ],
             [
              0.2222222222222222,
              "#7201a8"
             ],
             [
              0.3333333333333333,
              "#9c179e"
             ],
             [
              0.4444444444444444,
              "#bd3786"
             ],
             [
              0.5555555555555556,
              "#d8576b"
             ],
             [
              0.6666666666666666,
              "#ed7953"
             ],
             [
              0.7777777777777778,
              "#fb9f3a"
             ],
             [
              0.8888888888888888,
              "#fdca26"
             ],
             [
              1,
              "#f0f921"
             ]
            ],
            "type": "histogram2dcontour"
           }
          ],
          "mesh3d": [
           {
            "colorbar": {
             "outlinewidth": 0,
             "ticks": ""
            },
            "type": "mesh3d"
           }
          ],
          "parcoords": [
           {
            "line": {
             "colorbar": {
              "outlinewidth": 0,
              "ticks": ""
             }
            },
            "type": "parcoords"
           }
          ],
          "pie": [
           {
            "automargin": true,
            "type": "pie"
           }
          ],
          "scatter": [
           {
            "fillpattern": {
             "fillmode": "overlay",
             "size": 10,
             "solidity": 0.2
            },
            "type": "scatter"
           }
          ],
          "scatter3d": [
           {
            "line": {
             "colorbar": {
              "outlinewidth": 0,
              "ticks": ""
             }
            },
            "marker": {
             "colorbar": {
              "outlinewidth": 0,
              "ticks": ""
             }
            },
            "type": "scatter3d"
           }
          ],
          "scattercarpet": [
           {
            "marker": {
             "colorbar": {
              "outlinewidth": 0,
              "ticks": ""
             }
            },
            "type": "scattercarpet"
           }
          ],
          "scattergeo": [
           {
            "marker": {
             "colorbar": {
              "outlinewidth": 0,
              "ticks": ""
             }
            },
            "type": "scattergeo"
           }
          ],
          "scattergl": [
           {
            "marker": {
             "colorbar": {
              "outlinewidth": 0,
              "ticks": ""
             }
            },
            "type": "scattergl"
           }
          ],
          "scattermapbox": [
           {
            "marker": {
             "colorbar": {
              "outlinewidth": 0,
              "ticks": ""
             }
            },
            "type": "scattermapbox"
           }
          ],
          "scatterpolar": [
           {
            "marker": {
             "colorbar": {
              "outlinewidth": 0,
              "ticks": ""
             }
            },
            "type": "scatterpolar"
           }
          ],
          "scatterpolargl": [
           {
            "marker": {
             "colorbar": {
              "outlinewidth": 0,
              "ticks": ""
             }
            },
            "type": "scatterpolargl"
           }
          ],
          "scatterternary": [
           {
            "marker": {
             "colorbar": {
              "outlinewidth": 0,
              "ticks": ""
             }
            },
            "type": "scatterternary"
           }
          ],
          "surface": [
           {
            "colorbar": {
             "outlinewidth": 0,
             "ticks": ""
            },
            "colorscale": [
             [
              0,
              "#0d0887"
             ],
             [
              0.1111111111111111,
              "#46039f"
             ],
             [
              0.2222222222222222,
              "#7201a8"
             ],
             [
              0.3333333333333333,
              "#9c179e"
             ],
             [
              0.4444444444444444,
              "#bd3786"
             ],
             [
              0.5555555555555556,
              "#d8576b"
             ],
             [
              0.6666666666666666,
              "#ed7953"
             ],
             [
              0.7777777777777778,
              "#fb9f3a"
             ],
             [
              0.8888888888888888,
              "#fdca26"
             ],
             [
              1,
              "#f0f921"
             ]
            ],
            "type": "surface"
           }
          ],
          "table": [
           {
            "cells": {
             "fill": {
              "color": "#EBF0F8"
             },
             "line": {
              "color": "white"
             }
            },
            "header": {
             "fill": {
              "color": "#C8D4E3"
             },
             "line": {
              "color": "white"
             }
            },
            "type": "table"
           }
          ]
         },
         "layout": {
          "annotationdefaults": {
           "arrowcolor": "#2a3f5f",
           "arrowhead": 0,
           "arrowwidth": 1
          },
          "autotypenumbers": "strict",
          "coloraxis": {
           "colorbar": {
            "outlinewidth": 0,
            "ticks": ""
           }
          },
          "colorscale": {
           "diverging": [
            [
             0,
             "#8e0152"
            ],
            [
             0.1,
             "#c51b7d"
            ],
            [
             0.2,
             "#de77ae"
            ],
            [
             0.3,
             "#f1b6da"
            ],
            [
             0.4,
             "#fde0ef"
            ],
            [
             0.5,
             "#f7f7f7"
            ],
            [
             0.6,
             "#e6f5d0"
            ],
            [
             0.7,
             "#b8e186"
            ],
            [
             0.8,
             "#7fbc41"
            ],
            [
             0.9,
             "#4d9221"
            ],
            [
             1,
             "#276419"
            ]
           ],
           "sequential": [
            [
             0,
             "#0d0887"
            ],
            [
             0.1111111111111111,
             "#46039f"
            ],
            [
             0.2222222222222222,
             "#7201a8"
            ],
            [
             0.3333333333333333,
             "#9c179e"
            ],
            [
             0.4444444444444444,
             "#bd3786"
            ],
            [
             0.5555555555555556,
             "#d8576b"
            ],
            [
             0.6666666666666666,
             "#ed7953"
            ],
            [
             0.7777777777777778,
             "#fb9f3a"
            ],
            [
             0.8888888888888888,
             "#fdca26"
            ],
            [
             1,
             "#f0f921"
            ]
           ],
           "sequentialminus": [
            [
             0,
             "#0d0887"
            ],
            [
             0.1111111111111111,
             "#46039f"
            ],
            [
             0.2222222222222222,
             "#7201a8"
            ],
            [
             0.3333333333333333,
             "#9c179e"
            ],
            [
             0.4444444444444444,
             "#bd3786"
            ],
            [
             0.5555555555555556,
             "#d8576b"
            ],
            [
             0.6666666666666666,
             "#ed7953"
            ],
            [
             0.7777777777777778,
             "#fb9f3a"
            ],
            [
             0.8888888888888888,
             "#fdca26"
            ],
            [
             1,
             "#f0f921"
            ]
           ]
          },
          "colorway": [
           "#636efa",
           "#EF553B",
           "#00cc96",
           "#ab63fa",
           "#FFA15A",
           "#19d3f3",
           "#FF6692",
           "#B6E880",
           "#FF97FF",
           "#FECB52"
          ],
          "font": {
           "color": "#2a3f5f"
          },
          "geo": {
           "bgcolor": "white",
           "lakecolor": "white",
           "landcolor": "#E5ECF6",
           "showlakes": true,
           "showland": true,
           "subunitcolor": "white"
          },
          "hoverlabel": {
           "align": "left"
          },
          "hovermode": "closest",
          "mapbox": {
           "style": "light"
          },
          "paper_bgcolor": "white",
          "plot_bgcolor": "#E5ECF6",
          "polar": {
           "angularaxis": {
            "gridcolor": "white",
            "linecolor": "white",
            "ticks": ""
           },
           "bgcolor": "#E5ECF6",
           "radialaxis": {
            "gridcolor": "white",
            "linecolor": "white",
            "ticks": ""
           }
          },
          "scene": {
           "xaxis": {
            "backgroundcolor": "#E5ECF6",
            "gridcolor": "white",
            "gridwidth": 2,
            "linecolor": "white",
            "showbackground": true,
            "ticks": "",
            "zerolinecolor": "white"
           },
           "yaxis": {
            "backgroundcolor": "#E5ECF6",
            "gridcolor": "white",
            "gridwidth": 2,
            "linecolor": "white",
            "showbackground": true,
            "ticks": "",
            "zerolinecolor": "white"
           },
           "zaxis": {
            "backgroundcolor": "#E5ECF6",
            "gridcolor": "white",
            "gridwidth": 2,
            "linecolor": "white",
            "showbackground": true,
            "ticks": "",
            "zerolinecolor": "white"
           }
          },
          "shapedefaults": {
           "line": {
            "color": "#2a3f5f"
           }
          },
          "ternary": {
           "aaxis": {
            "gridcolor": "white",
            "linecolor": "white",
            "ticks": ""
           },
           "baxis": {
            "gridcolor": "white",
            "linecolor": "white",
            "ticks": ""
           },
           "bgcolor": "#E5ECF6",
           "caxis": {
            "gridcolor": "white",
            "linecolor": "white",
            "ticks": ""
           }
          },
          "title": {
           "x": 0.05
          },
          "xaxis": {
           "automargin": true,
           "gridcolor": "white",
           "linecolor": "white",
           "ticks": "",
           "title": {
            "standoff": 15
           },
           "zerolinecolor": "white",
           "zerolinewidth": 2
          },
          "yaxis": {
           "automargin": true,
           "gridcolor": "white",
           "linecolor": "white",
           "ticks": "",
           "title": {
            "standoff": 15
           },
           "zerolinecolor": "white",
           "zerolinewidth": 2
          }
         }
        },
        "title": {
         "text": "Outlier Detection: Building Permits and Population"
        },
        "xaxis": {
         "anchor": "y",
         "autorange": true,
         "categoryarray": [
          "building_permit_count",
          "population"
         ],
         "categoryorder": "array",
         "domain": [
          0,
          1
         ],
         "gridcolor": "lightgrey",
         "range": [
          -0.5127388535031847,
          1.5
         ],
         "showgrid": true,
         "title": {
          "text": "Metric"
         },
         "type": "category"
        },
        "yaxis": {
         "anchor": "x",
         "autorange": true,
         "domain": [
          0,
          1
         ],
         "gridcolor": "lightgrey",
         "range": [
          -10200.5,
          193829.5
         ],
         "showgrid": true,
         "title": {
          "text": "Count"
         },
         "type": "linear"
        }
       }
      },
      "image/png": "[encoded data removed]",
      "text/html": [
       "<div>                            <div id=\"f1d4822c-e031-47c9-b0db-b5b7264da47f\" class=\"plotly-graph-div\" style=\"height:525px; width:100%;\"></div>            <script type=\"text/javascript\">                require([\"plotly\"], function(Plotly) {                    window.PLOTLYENV=window.PLOTLYENV || {};                                    if (document.getElementById(\"f1d4822c-e031-47c9-b0db-b5b7264da47f\")) {                    Plotly.newPlot(                        \"f1d4822c-e031-47c9-b0db-b5b7264da47f\",                        [{\"alignmentgroup\":\"True\",\"boxpoints\":\"all\",\"hovertemplate\":\"Metric=%{x}\\u003cbr\\u003eCount=%{y}\\u003cextra\\u003e\\u003c\\u002fextra\\u003e\",\"legendgroup\":\"building_permit_count\",\"marker\":{\"color\":\"#636EFA\"},\"name\":\"building_permit_count\",\"notched\":false,\"offsetgroup\":\"building_permit_count\",\"orientation\":\"v\",\"showlegend\":true,\"x\":[\"building_permit_count\",\"building_permit_count\",\"building_permit_count\",\"building_permit_count\",\"building_permit_count\",\"building_permit_count\",\"building_permit_count\",\"building_permit_count\",\"building_permit_count\",\"building_permit_count\",\"building_permit_count\",\"building_permit_count\",\"building_permit_count\",\"building_permit_count\",\"building_permit_count\",\"building_permit_count\",\"building_permit_count\",\"building_permit_count\",\"building_permit_count\",\"building_permit_count\",\"building_permit_count\"],\"x0\":\" \",\"xaxis\":\"x\",\"y\":[1,2,1,1,2,4,2,2,14,17,53,43,94,2293,3108,3567,3606,3762,3409,2238,2547],\"y0\":\" \",\"yaxis\":\"y\",\"type\":\"box\"},{\"alignmentgroup\":\"True\",\"boxpoints\":\"all\",\"hovertemplate\":\"Metric=%{x}\\u003cbr\\u003eCount=%{y}\\u003cextra\\u003e\\u003c\\u002fextra\\u003e\",\"legendgroup\":\"population\",\"marker\":{\"color\":\"#EF553B\"},\"name\":\"population\",\"notched\":false,\"offsetgroup\":\"population\",\"orientation\":\"v\",\"showlegend\":true,\"x\":[\"population\",\"population\",\"population\",\"population\",\"population\",\"population\",\"population\",\"population\",\"population\",\"population\",\"population\",\"population\",\"population\",\"population\",\"population\",\"population\",\"population\",\"population\",\"population\",\"population\",\"population\"],\"x0\":\" \",\"xaxis\":\"x\",\"y\":[55398,60415,65954,71425,76034,80154,85366,89937,94247,97623,100240,107578,118711,127975,136872,146096,159141,170317,178994,183628,169860],\"y0\":\" \",\"yaxis\":\"y\",\"type\":\"box\"}],                        {\"template\":{\"data\":{\"histogram2dcontour\":[{\"type\":\"histogram2dcontour\",\"colorbar\":{\"outlinewidth\":0,\"ticks\":\"\"},\"colorscale\":[[0.0,\"#0d0887\"],[0.1111111111111111,\"#46039f\"],[0.2222222222222222,\"#7201a8\"],[0.3333333333333333,\"#9c179e\"],[0.4444444444444444,\"#bd3786\"],[0.5555555555555556,\"#d8576b\"],[0.6666666666666666,\"#ed7953\"],[0.7777777777777778,\"#fb9f3a\"],[0.8888888888888888,\"#fdca26\"],[1.0,\"#f0f921\"]]}],\"choropleth\":[{\"type\":\"choropleth\",\"colorbar\":{\"outlinewidth\":0,\"ticks\":\"\"}}],\"histogram2d\":[{\"type\":\"histogram2d\",\"colorbar\":{\"outlinewidth\":0,\"ticks\":\"\"},\"colorscale\":[[0.0,\"#0d0887\"],[0.1111111111111111,\"#46039f\"],[0.2222222222222222,\"#7201a8\"],[0.3333333333333333,\"#9c179e\"],[0.4444444444444444,\"#bd3786\"],[0.5555555555555556,\"#d8576b\"],[0.6666666666666666,\"#ed7953\"],[0.7777777777777778,\"#fb9f3a\"],[0.8888888888888888,\"#fdca26\"],[1.0,\"#f0f921\"]]}],\"heatmap\":[{\"type\":\"heatmap\",\"colorbar\":{\"outlinewidth\":0,\"ticks\":\"\"},\"colorscale\":[[0.0,\"#0d0887\"],[0.1111111111111111,\"#46039f\"],[0.2222222222222222,\"#7201a8\"],[0.3333333333333333,\"#9c179e\"],[0.4444444444444444,\"#bd3786\"],[0.5555555555555556,\"#d8576b\"],[0.6666666666666666,\"#ed7953\"],[0.7777777777777778,\"#fb9f3a\"],[0.8888888888888888,\"#fdca26\"],[1.0,\"#f0f921\"]]}],\"heatmapgl\":[{\"type\":\"heatmapgl\",\"colorbar\":{\"outlinewidth\":0,\"ticks\":\"\"},\"colorscale\":[[0.0,\"#0d0887\"],[0.1111111111111111,\"#46039f\"],[0.2222222222222222,\"#7201a8\"],[0.3333333333333333,\"#9c179e\"],[0.4444444444444444,\"#bd3786\"],[0.5555555555555556,\"#d8576b\"],[0.6666666666666666,\"#ed7953\"],[0.7777777777777778,\"#fb9f3a\"],[0.8888888888888888,\"#fdca26\"],[1.0,\"#f0f921\"]]}],\"contourcarpet\":[{\"type\":\"contourcarpet\",\"colorbar\":{\"outlinewidth\":0,\"ticks\":\"\"}}],\"contour\":[{\"type\":\"contour\",\"colorbar\":{\"outlinewidth\":0,\"ticks\":\"\"},\"colorscale\":[[0.0,\"#0d0887\"],[0.1111111111111111,\"#46039f\"],[0.2222222222222222,\"#7201a8\"],[0.3333333333333333,\"#9c179e\"],[0.4444444444444444,\"#bd3786\"],[0.5555555555555556,\"#d8576b\"],[0.6666666666666666,\"#ed7953\"],[0.7777777777777778,\"#fb9f3a\"],[0.8888888888888888,\"#fdca26\"],[1.0,\"#f0f921\"]]}],\"surface\":[{\"type\":\"surface\",\"colorbar\":{\"outlinewidth\":0,\"ticks\":\"\"},\"colorscale\":[[0.0,\"#0d0887\"],[0.1111111111111111,\"#46039f\"],[0.2222222222222222,\"#7201a8\"],[0.3333333333333333,\"#9c179e\"],[0.4444444444444444,\"#bd3786\"],[0.5555555555555556,\"#d8576b\"],[0.6666666666666666,\"#ed7953\"],[0.7777777777777778,\"#fb9f3a\"],[0.8888888888888888,\"#fdca26\"],[1.0,\"#f0f921\"]]}],\"mesh3d\":[{\"type\":\"mesh3d\",\"colorbar\":{\"outlinewidth\":0,\"ticks\":\"\"}}],\"scatter\":[{\"fillpattern\":{\"fillmode\":\"overlay\",\"size\":10,\"solidity\":0.2},\"type\":\"scatter\"}],\"parcoords\":[{\"type\":\"parcoords\",\"line\":{\"colorbar\":{\"outlinewidth\":0,\"ticks\":\"\"}}}],\"scatterpolargl\":[{\"type\":\"scatterpolargl\",\"marker\":{\"colorbar\":{\"outlinewidth\":0,\"ticks\":\"\"}}}],\"bar\":[{\"error_x\":{\"color\":\"#2a3f5f\"},\"error_y\":{\"color\":\"#2a3f5f\"},\"marker\":{\"line\":{\"color\":\"#E5ECF6\",\"width\":0.5},\"pattern\":{\"fillmode\":\"overlay\",\"size\":10,\"solidity\":0.2}},\"type\":\"bar\"}],\"scattergeo\":[{\"type\":\"scattergeo\",\"marker\":{\"colorbar\":{\"outlinewidth\":0,\"ticks\":\"\"}}}],\"scatterpolar\":[{\"type\":\"scatterpolar\",\"marker\":{\"colorbar\":{\"outlinewidth\":0,\"ticks\":\"\"}}}],\"histogram\":[{\"marker\":{\"pattern\":{\"fillmode\":\"overlay\",\"size\":10,\"solidity\":0.2}},\"type\":\"histogram\"}],\"scattergl\":[{\"type\":\"scattergl\",\"marker\":{\"colorbar\":{\"outlinewidth\":0,\"ticks\":\"\"}}}],\"scatter3d\":[{\"type\":\"scatter3d\",\"line\":{\"colorbar\":{\"outlinewidth\":0,\"ticks\":\"\"}},\"marker\":{\"colorbar\":{\"outlinewidth\":0,\"ticks\":\"\"}}}],\"scattermapbox\":[{\"type\":\"scattermapbox\",\"marker\":{\"colorbar\":{\"outlinewidth\":0,\"ticks\":\"\"}}}],\"scatterternary\":[{\"type\":\"scatterternary\",\"marker\":{\"colorbar\":{\"outlinewidth\":0,\"ticks\":\"\"}}}],\"scattercarpet\":[{\"type\":\"scattercarpet\",\"marker\":{\"colorbar\":{\"outlinewidth\":0,\"ticks\":\"\"}}}],\"carpet\":[{\"aaxis\":{\"endlinecolor\":\"#2a3f5f\",\"gridcolor\":\"white\",\"linecolor\":\"white\",\"minorgridcolor\":\"white\",\"startlinecolor\":\"#2a3f5f\"},\"baxis\":{\"endlinecolor\":\"#2a3f5f\",\"gridcolor\":\"white\",\"linecolor\":\"white\",\"minorgridcolor\":\"white\",\"startlinecolor\":\"#2a3f5f\"},\"type\":\"carpet\"}],\"table\":[{\"cells\":{\"fill\":{\"color\":\"#EBF0F8\"},\"line\":{\"color\":\"white\"}},\"header\":{\"fill\":{\"color\":\"#C8D4E3\"},\"line\":{\"color\":\"white\"}},\"type\":\"table\"}],\"barpolar\":[{\"marker\":{\"line\":{\"color\":\"#E5ECF6\",\"width\":0.5},\"pattern\":{\"fillmode\":\"overlay\",\"size\":10,\"solidity\":0.2}},\"type\":\"barpolar\"}],\"pie\":[{\"automargin\":true,\"type\":\"pie\"}]},\"layout\":{\"autotypenumbers\":\"strict\",\"colorway\":[\"#636efa\",\"#EF553B\",\"#00cc96\",\"#ab63fa\",\"#FFA15A\",\"#19d3f3\",\"#FF6692\",\"#B6E880\",\"#FF97FF\",\"#FECB52\"],\"font\":{\"color\":\"#2a3f5f\"},\"hovermode\":\"closest\",\"hoverlabel\":{\"align\":\"left\"},\"paper_bgcolor\":\"white\",\"plot_bgcolor\":\"#E5ECF6\",\"polar\":{\"bgcolor\":\"#E5ECF6\",\"angularaxis\":{\"gridcolor\":\"white\",\"linecolor\":\"white\",\"ticks\":\"\"},\"radialaxis\":{\"gridcolor\":\"white\",\"linecolor\":\"white\",\"ticks\":\"\"}},\"ternary\":{\"bgcolor\":\"#E5ECF6\",\"aaxis\":{\"gridcolor\":\"white\",\"linecolor\":\"white\",\"ticks\":\"\"},\"baxis\":{\"gridcolor\":\"white\",\"linecolor\":\"white\",\"ticks\":\"\"},\"caxis\":{\"gridcolor\":\"white\",\"linecolor\":\"white\",\"ticks\":\"\"}},\"coloraxis\":{\"colorbar\":{\"outlinewidth\":0,\"ticks\":\"\"}},\"colorscale\":{\"sequential\":[[0.0,\"#0d0887\"],[0.1111111111111111,\"#46039f\"],[0.2222222222222222,\"#7201a8\"],[0.3333333333333333,\"#9c179e\"],[0.4444444444444444,\"#bd3786\"],[0.5555555555555556,\"#d8576b\"],[0.6666666666666666,\"#ed7953\"],[0.7777777777777778,\"#fb9f3a\"],[0.8888888888888888,\"#fdca26\"],[1.0,\"#f0f921\"]],\"sequentialminus\":[[0.0,\"#0d0887\"],[0.1111111111111111,\"#46039f\"],[0.2222222222222222,\"#7201a8\"],[0.3333333333333333,\"#9c179e\"],[0.4444444444444444,\"#bd3786\"],[0.5555555555555556,\"#d8576b\"],[0.6666666666666666,\"#ed7953\"],[0.7777777777777778,\"#fb9f3a\"],[0.8888888888888888,\"#fdca26\"],[1.0,\"#f0f921\"]],\"diverging\":[[0,\"#8e0152\"],[0.1,\"#c51b7d\"],[0.2,\"#de77ae\"],[0.3,\"#f1b6da\"],[0.4,\"#fde0ef\"],[0.5,\"#f7f7f7\"],[0.6,\"#e6f5d0\"],[0.7,\"#b8e186\"],[0.8,\"#7fbc41\"],[0.9,\"#4d9221\"],[1,\"#276419\"]]},\"xaxis\":{\"gridcolor\":\"white\",\"linecolor\":\"white\",\"ticks\":\"\",\"title\":{\"standoff\":15},\"zerolinecolor\":\"white\",\"automargin\":true,\"zerolinewidth\":2},\"yaxis\":{\"gridcolor\":\"white\",\"linecolor\":\"white\",\"ticks\":\"\",\"title\":{\"standoff\":15},\"zerolinecolor\":\"white\",\"automargin\":true,\"zerolinewidth\":2},\"scene\":{\"xaxis\":{\"backgroundcolor\":\"#E5ECF6\",\"gridcolor\":\"white\",\"linecolor\":\"white\",\"showbackground\":true,\"ticks\":\"\",\"zerolinecolor\":\"white\",\"gridwidth\":2},\"yaxis\":{\"backgroundcolor\":\"#E5ECF6\",\"gridcolor\":\"white\",\"linecolor\":\"white\",\"showbackground\":true,\"ticks\":\"\",\"zerolinecolor\":\"white\",\"gridwidth\":2},\"zaxis\":{\"backgroundcolor\":\"#E5ECF6\",\"gridcolor\":\"white\",\"linecolor\":\"white\",\"showbackground\":true,\"ticks\":\"\",\"zerolinecolor\":\"white\",\"gridwidth\":2}},\"shapedefaults\":{\"line\":{\"color\":\"#2a3f5f\"}},\"annotationdefaults\":{\"arrowcolor\":\"#2a3f5f\",\"arrowhead\":0,\"arrowwidth\":1},\"geo\":{\"bgcolor\":\"white\",\"landcolor\":\"#E5ECF6\",\"subunitcolor\":\"white\",\"showland\":true,\"showlakes\":true,\"lakecolor\":\"white\"},\"title\":{\"x\":0.05},\"mapbox\":{\"style\":\"light\"}}},\"xaxis\":{\"anchor\":\"y\",\"domain\":[0.0,1.0],\"title\":{\"text\":\"Metric\"},\"categoryorder\":\"array\",\"categoryarray\":[\"building_permit_count\",\"population\"],\"showgrid\":true,\"gridcolor\":\"lightgrey\"},\"yaxis\":{\"anchor\":\"x\",\"domain\":[0.0,1.0],\"title\":{\"text\":\"Count\"},\"showgrid\":true,\"gridcolor\":\"lightgrey\"},\"legend\":{\"title\":{\"text\":\"Metric\"},\"tracegroupgap\":0},\"title\":{\"text\":\"Outlier Detection: Building Permits and Population\"},\"boxmode\":\"overlay\",\"plot_bgcolor\":\"white\"},                        {\"responsive\": true}                    ).then(function(){\n",
       "                            \n",
       "var gd = document.getElementById('f1d4822c-e031-47c9-b0db-b5b7264da47f');\n",
       "var x = new MutationObserver(function (mutations, observer) {{\n",
       "        var display = window.getComputedStyle(gd).display;\n",
       "        if (!display || display === 'none') {{\n",
       "            console.log([gd, 'removed!']);\n",
       "            Plotly.purge(gd);\n",
       "            observer.disconnect();\n",
       "        }}\n",
       "}});\n",
       "\n",
       "// Listen for the removal of the full notebook cells\n",
       "var notebookContainer = gd.closest('#notebook-container');\n",
       "if (notebookContainer) {{\n",
       "    x.observe(notebookContainer, {childList: true});\n",
       "}}\n",
       "\n",
       "// Listen for the clearing of the current output cell\n",
       "var outputEl = gd.closest('.output');\n",
       "if (outputEl) {{\n",
       "    x.observe(outputEl, {childList: true});\n",
       "}}\n",
       "\n",
       "                        })                };                });            </script>        </div>"
      ]
     },
     "metadata": {},
     "output_type": "display_data"
    }
   ],
   "source": [
    "\n",
    "# Calculate year-over-year growth\n",
    "analysis_df['permit_growth'] = analysis_df['building_permit_count'].pct_change() * 100\n",
    "analysis_df['population_growth'] = analysis_df['population'].pct_change() * 100\n",
    "\n",
    "# Melt the DataFrame to long format for Plotly Express\n",
    "melted_df = pd.melt(analysis_df, id_vars=['year'], value_vars=['building_permit_count', 'population'],\n",
    "                    var_name='Metric', value_name='Count')\n",
    "\n",
    "# Custom colors\n",
    "colors = px.colors.qualitative.Plotly\n",
    "\n",
    "# Interactive line plot for trend analysis\n",
    "fig1 = px.line(melted_df, x='year', y='Count', color='Metric', \n",
    "               title='Trend Analysis: Building Permits and Population Over the Years',\n",
    "               labels={'Count': 'Count', 'year': 'Year'}, \n",
    "               markers=True,\n",
    "               color_discrete_sequence=colors)\n",
    "fig1.update_layout(legend_title_text='Metric', \n",
    "                   plot_bgcolor='white',\n",
    "                   xaxis=dict(showgrid=True, gridcolor='lightgrey'),\n",
    "                   yaxis=dict(showgrid=True, gridcolor='lightgrey'))\n",
    "\n",
    "# Interactive scatter plot for correlation analysis\n",
    "fig2 = px.scatter(analysis_df, x='building_permit_count', y='population', color='year',\n",
    "                  title='Correlation Analysis: Building Permits vs Population',\n",
    "                  labels={'building_permit_count': 'Building Permit Count', 'population': 'Population'},\n",
    "                  hover_data={'year': True},\n",
    "                  color_continuous_scale='Viridis')\n",
    "\n",
    "# Add annotation for correlation coefficient above the plot\n",
    "fig2.add_annotation(\n",
    "    x=0.5, y=1.15,\n",
    "    xref='paper', yref='paper',\n",
    "    text=f'Correlation: {correlation:.2f}',\n",
    "    showarrow=False,\n",
    "    font=dict(size=14, color=\"black\"),\n",
    "    align='center',\n",
    ")\n",
    "\n",
    "fig2.update_layout(plot_bgcolor='white',\n",
    "                   xaxis=dict(showgrid=True, gridcolor='lightgrey'),\n",
    "                   yaxis=dict(showgrid=True, gridcolor='lightgrey'))\n",
    "\n",
    "# Interactive bar plot for year-over-year growth\n",
    "fig3 = go.Figure()\n",
    "fig3.add_trace(go.Bar(x=analysis_df['year'], y=analysis_df['permit_growth'], name='Permit Growth',hovertemplate='Year: %{x}<br>Permit Growth: %{y:.2f}%<extra></extra>', marker_color=colors[0]))\n",
    "fig3.add_trace(go.Bar(x=analysis_df['year'], y=analysis_df['population_growth'], name='Population Growth',hovertemplate='Year: %{x}<br>Population Growth: %{y:.2f}%<extra></extra>', marker_color=colors[1]))\n",
    "fig3.update_layout(title='Year-over-Year Growth Rate',\n",
    "                   xaxis_title='Year',\n",
    "                   yaxis_title='Growth Rate (%)',\n",
    "                   barmode='group',\n",
    "                   plot_bgcolor='white',\n",
    "                   xaxis=dict(showgrid=True, gridcolor='lightgrey'),\n",
    "                   yaxis=dict(showgrid=True, gridcolor='lightgrey'))\n",
    "\n",
    "# Interactive box plot for outlier detection\n",
    "fig4 = px.box(melted_df, x='Metric', y='Count',\n",
    "              title='Outlier Detection: Building Permits and Population',\n",
    "              labels={'Count': 'Count'},\n",
    "              points='all',\n",
    "              color='Metric',\n",
    "              color_discrete_sequence=colors)\n",
    "fig4.update_layout(plot_bgcolor='white',\n",
    "                   xaxis=dict(showgrid=True, gridcolor='lightgrey'),\n",
    "                   yaxis=dict(showgrid=True, gridcolor='lightgrey'))\n",
    "\n",
    "# Show plots in Jupyter Notebook\n",
    "fig1.show()\n",
    "fig2.show()\n",
    "fig3.show()\n",
    "fig4.show()"
   ]
  },
  {
   "cell_type": "code",
   "execution_count": null,
   "metadata": {},
   "outputs": [],
   "source": []
  }
 ],
 "metadata": {
  "kernelspec": {
   "display_name": "Python 3 (ipykernel)",
   "language": "python",
   "name": "python3"
  },
  "language_info": {
   "codemirror_mode": {
    "name": "ipython",
    "version": 3
   },
   "file_extension": ".py",
   "mimetype": "text/x-python",
   "name": "python",
   "nbconvert_exporter": "python",
   "pygments_lexer": "ipython3",
   "version": "3.12.3"
  }
 },
 "nbformat": 4,
 "nbformat_minor": 4
}

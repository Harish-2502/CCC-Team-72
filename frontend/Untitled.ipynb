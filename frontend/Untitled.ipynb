{
 "cells": [
  {
   "cell_type": "code",
   "execution_count": null,
   "id": "3f08618d-565c-4c8f-9564-454832c761a5",
   "metadata": {},
   "outputs": [],
   "source": [
    "import matplotlib.pyplot as plt\n",
    "import seaborn as sns\n",
    "\n",
    "# Calculate year-over-year growth\n",
    "analysis_df['permit_growth'] = analysis_df['building_permit_count'].pct_change() * 100\n",
    "analysis_df['population_growth'] = analysis_df['population'].pct_change() * 100\n",
    "\n",
    "# Set up the plot area\n",
    "fig, axs = plt.subplots(4, 1, figsize=(12, 24))\n",
    "\n",
    "# Line plot for trend analysis\n",
    "sns.lineplot(data=analysis_df, x='year', y='building_permit_count', ax=axs[0], marker='o', label='Building Permits')\n",
    "sns.lineplot(data=analysis_df, x='year', y='population', ax=axs[0], marker='o', label='Population')\n",
    "axs[0].set_title('Trend Analysis: Building Permits and Population Over the Years')\n",
    "axs[0].set_xlabel('Year')\n",
    "axs[0].set_ylabel('Count')\n",
    "axs[0].legend()\n",
    "\n",
    "# Scatter plot for correlation analysis\n",
    "sns.scatterplot(data=analysis_df, x='building_permit_count', y='population', ax=axs[1], hue='year', palette='viridis', s=100)\n",
    "axs[1].set_title('Correlation Analysis: Building Permits vs Population')\n",
    "axs[1].set_xlabel('Building Permit Count')\n",
    "axs[1].set_ylabel('Population')\n",
    "\n",
    "# Bar plot for year-over-year growth\n",
    "width = 0.4\n",
    "x = analysis_df['year']\n",
    "axs[2].bar(x - width/2, analysis_df['permit_growth'], width, label='Permit Growth')\n",
    "axs[2].bar(x + width/2, analysis_df['population_growth'], width, label='Population Growth')\n",
    "axs[2].set_title('Year-over-Year Growth Rate')\n",
    "axs[2].set_xlabel('Year')\n",
    "axs[2].set_ylabel('Growth Rate (%)')\n",
    "axs[2].legend()\n",
    "\n",
    "# Box plot for outlier detection\n",
    "sns.boxplot(data=analysis_df[['building_permit_count', 'population']], ax=axs[3])\n",
    "axs[3].set_title('Outlier Detection: Building Permits and Population')\n",
    "axs[3].set_ylabel('Count')\n",
    "\n",
    "plt.tight_layout()\n",
    "plt.show()\n"
   ]
  }
 ],
 "metadata": {
  "kernelspec": {
   "display_name": "Python 3 (ipykernel)",
   "language": "python",
   "name": "python3"
  },
  "language_info": {
   "codemirror_mode": {
    "name": "ipython",
    "version": 3
   },
   "file_extension": ".py",
   "mimetype": "text/x-python",
   "name": "python",
   "nbconvert_exporter": "python",
   "pygments_lexer": "ipython3",
   "version": "3.12.3"
  }
 },
 "nbformat": 4,
 "nbformat_minor": 5
}

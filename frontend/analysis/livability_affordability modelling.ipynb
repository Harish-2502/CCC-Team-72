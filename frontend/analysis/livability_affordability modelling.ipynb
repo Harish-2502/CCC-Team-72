{
 "cells": [
  {
   "cell_type": "markdown",
   "metadata": {},
   "source": [
    "# This notebook is used for modelling between the livability of melbourne and rental affordability\n",
    "\n",
    "For the sake of simplicty, this notebook contains the following\n",
    "- Livability scores of melbourne\n",
    "- Rental affordability of greater Melbourne"
   ]
  },
  {
   "cell_type": "code",
   "execution_count": 45,
   "metadata": {},
   "outputs": [],
   "source": [
    "# Load libraries\n",
    "import pandas as pd\n",
    "import numpy as np\n",
    "import seaborn as sns\n",
    "import matplotlib.pyplot as plt\n",
    "import statsmodels.formula.api as smf\n",
    "from statsmodels.formula.api import ols\n",
    "from statsmodels.stats.api import anova_lm\n",
    "from scipy.stats import pearsonr\n",
    "import statsmodels.api as sm\n",
    "import plotly\n",
    "import plotly.express as px\n",
    "import plotly.graph_objs as go\n",
    "from elasticsearch import Elasticsearch"
   ]
  },
  {
   "cell_type": "markdown",
   "metadata": {},
   "source": [
    "## Data processing\n",
    "\n",
    "The below data will be used for this model:\n",
    "\n",
    "### Melbourne livability score\n",
    "\n",
    "- This dataset contains multiple liveability related scores for multiple regions\n",
    "\n",
    "### Predictor variable: Greater Melbourne rental affordability index\n",
    "\n",
    "- This dataset contains information about the rental affordability "
   ]
  },
  {
   "cell_type": "markdown",
   "metadata": {},
   "source": [
    "## Initial data analysis\n",
    "\n",
    "First, load the data from ESDB"
   ]
  },
  {
   "cell_type": "code",
   "execution_count": null,
   "metadata": {},
   "outputs": [],
   "source": [
    "INDEX_NAME = \"liveability-index\"\n",
    "\n",
    "es_client = Elasticsearch (\n",
    "        'https://localhost:9200',\n",
    "        verify_certs= False,\n",
    "        ssl_show_warn= False,\n",
    "        basic_auth=('elastic', 'elastic')\n",
    "    )\n",
    "es_client.indices.refresh(index=INDEX_NAME)\n",
    "result = es_client.search(index=INDEX_NAME, body = {\n",
    "'size' : 1000,\n",
    "'query': {\n",
    "    'match_all' : {}\n",
    "}\n",
    "})\n",
    "\n",
    "\n",
    "es_data = []\n",
    "for doc in result['hits']['hits']:\n",
    "    es_data.append(doc['_source'])\n",
    "liveability = pd.DataFrame(es_data)"
   ]
  },
  {
   "cell_type": "code",
   "execution_count": null,
   "metadata": {},
   "outputs": [],
   "source": [
    "INDEX_NAME = \"rental_affordability\"\n",
    "\n",
    "es_client = Elasticsearch (\n",
    "        'https://localhost:9200',\n",
    "        verify_certs= False,\n",
    "        ssl_show_warn= False,\n",
    "        basic_auth=('elastic', 'elastic')\n",
    "    )\n",
    "es_client.indices.refresh(index=INDEX_NAME)\n",
    "result = es_client.search(index=INDEX_NAME, body = {\n",
    "'size' : 1000,\n",
    "'query': {\n",
    "    'match_all' : {}\n",
    "}\n",
    "})\n",
    "\n",
    "\n",
    "es_data = []\n",
    "for doc in result['hits']['hits']:\n",
    "    es_data.append(doc['_source'])\n",
    "rental_affordability = pd.DataFrame(es_data)"
   ]
  },
  {
   "cell_type": "code",
   "execution_count": 46,
   "metadata": {},
   "outputs": [],
   "source": [
    "# Load data\n",
    "\n",
    "liveability = pd.read_csv(\"../../data/predictor/Melbourne Liveability Indicators.csv\")\n",
    "rental_affordability = pd.read_csv(\"../../data/response/rental_affordability.csv\")\n",
    "rental_affordability.columns = rental_affordability.columns.str.replace(' ', '')"
   ]
  },
  {
   "cell_type": "code",
   "execution_count": 47,
   "metadata": {},
   "outputs": [
    {
     "data": {
      "text/html": [
       "<div>\n",
       "<style scoped>\n",
       "    .dataframe tbody tr th:only-of-type {\n",
       "        vertical-align: middle;\n",
       "    }\n",
       "\n",
       "    .dataframe tbody tr th {\n",
       "        vertical-align: top;\n",
       "    }\n",
       "\n",
       "    .dataframe thead th {\n",
       "        text-align: right;\n",
       "    }\n",
       "</style>\n",
       "<table border=\"1\" class=\"dataframe\">\n",
       "  <thead>\n",
       "    <tr style=\"text-align: right;\">\n",
       "      <th></th>\n",
       "      <th>type</th>\n",
       "      <th>topic</th>\n",
       "      <th>id</th>\n",
       "      <th>indicator</th>\n",
       "      <th>period</th>\n",
       "      <th>numerator</th>\n",
       "      <th>denominator</th>\n",
       "      <th>value</th>\n",
       "      <th>value_type</th>\n",
       "      <th>sources</th>\n",
       "    </tr>\n",
       "  </thead>\n",
       "  <tbody>\n",
       "    <tr>\n",
       "      <th>0</th>\n",
       "      <td>Liveability</td>\n",
       "      <td>Economy</td>\n",
       "      <td>ECO_1</td>\n",
       "      <td>City's unemployment rate</td>\n",
       "      <td>2015 (June Qtr)</td>\n",
       "      <td>3,942</td>\n",
       "      <td>84,942</td>\n",
       "      <td>4.64</td>\n",
       "      <td>Percentage</td>\n",
       "      <td>Australian Government Department of Employment...</td>\n",
       "    </tr>\n",
       "    <tr>\n",
       "      <th>1</th>\n",
       "      <td>Liveability</td>\n",
       "      <td>Economy</td>\n",
       "      <td>ECO_2</td>\n",
       "      <td>Assessed value of commercial and industrial pr...</td>\n",
       "      <td>2015 (at 30 June)</td>\n",
       "      <td>48,331,069,777.00</td>\n",
       "      <td>101,671,404,180.00</td>\n",
       "      <td>47.54</td>\n",
       "      <td>Percentage</td>\n",
       "      <td>City of Melbourne, Property Services, 2015-2018</td>\n",
       "    </tr>\n",
       "    <tr>\n",
       "      <th>2</th>\n",
       "      <td>Liveability</td>\n",
       "      <td>Economy</td>\n",
       "      <td>ECO_3</td>\n",
       "      <td>Percentage of city population living in poverty</td>\n",
       "      <td>2015</td>\n",
       "      <td>13,177</td>\n",
       "      <td>136,872</td>\n",
       "      <td>9.63</td>\n",
       "      <td>Percentage</td>\n",
       "      <td>Geografia, Relative Poverty and Employment Mea...</td>\n",
       "    </tr>\n",
       "    <tr>\n",
       "      <th>3</th>\n",
       "      <td>Liveability</td>\n",
       "      <td>Economy</td>\n",
       "      <td>ECO_4</td>\n",
       "      <td>Percentage of persons (city population) in ful...</td>\n",
       "      <td>2017 (June Qtr)</td>\n",
       "      <td>68,722</td>\n",
       "      <td>159,141</td>\n",
       "      <td>43.18</td>\n",
       "      <td>Percentage</td>\n",
       "      <td>Geografia, Relative Poverty and Employment Mea...</td>\n",
       "    </tr>\n",
       "    <tr>\n",
       "      <th>4</th>\n",
       "      <td>Liveability</td>\n",
       "      <td>Economy</td>\n",
       "      <td>ECO_4</td>\n",
       "      <td>Percentage of persons (city population) in ful...</td>\n",
       "      <td>2014 (June Qtr)</td>\n",
       "      <td>55,359</td>\n",
       "      <td>127,975</td>\n",
       "      <td>43.26</td>\n",
       "      <td>Percentage</td>\n",
       "      <td>Geografia, Relative Poverty and Employment Mea...</td>\n",
       "    </tr>\n",
       "    <tr>\n",
       "      <th>...</th>\n",
       "      <td>...</td>\n",
       "      <td>...</td>\n",
       "      <td>...</td>\n",
       "      <td>...</td>\n",
       "      <td>...</td>\n",
       "      <td>...</td>\n",
       "      <td>...</td>\n",
       "      <td>...</td>\n",
       "      <td>...</td>\n",
       "      <td>...</td>\n",
       "    </tr>\n",
       "    <tr>\n",
       "      <th>314</th>\n",
       "      <td>Social</td>\n",
       "      <td>Participation in activities</td>\n",
       "      <td>ACT_7</td>\n",
       "      <td>Percentage of residents who have participated ...</td>\n",
       "      <td>2019</td>\n",
       "      <td>NaN</td>\n",
       "      <td>1,259</td>\n",
       "      <td>49.30</td>\n",
       "      <td>Percentage</td>\n",
       "      <td>City of Melbourne Social Indicators Survey 2019</td>\n",
       "    </tr>\n",
       "    <tr>\n",
       "      <th>315</th>\n",
       "      <td>Social</td>\n",
       "      <td>Culture, diversity and safety</td>\n",
       "      <td>CULT_4</td>\n",
       "      <td>Percentage of residents that reported feeling ...</td>\n",
       "      <td>2019</td>\n",
       "      <td>NaN</td>\n",
       "      <td>1,235</td>\n",
       "      <td>57.40</td>\n",
       "      <td>Percentage</td>\n",
       "      <td>City of Melbourne Social Indicators Survey 2019</td>\n",
       "    </tr>\n",
       "    <tr>\n",
       "      <th>316</th>\n",
       "      <td>Social</td>\n",
       "      <td>Culture, diversity and safety</td>\n",
       "      <td>CULT_5</td>\n",
       "      <td>Percentage of residents that reported feeling ...</td>\n",
       "      <td>2019</td>\n",
       "      <td>NaN</td>\n",
       "      <td>1,197</td>\n",
       "      <td>86.00</td>\n",
       "      <td>Percentage</td>\n",
       "      <td>City of Melbourne Social Indicators Survey 2019</td>\n",
       "    </tr>\n",
       "    <tr>\n",
       "      <th>317</th>\n",
       "      <td>Social</td>\n",
       "      <td>Culture, diversity and safety</td>\n",
       "      <td>CULT_5</td>\n",
       "      <td>Percentage of residents that reported feeling ...</td>\n",
       "      <td>2018</td>\n",
       "      <td>NaN</td>\n",
       "      <td>1,188</td>\n",
       "      <td>86.50</td>\n",
       "      <td>Percentage</td>\n",
       "      <td>City of Melbourne Social Indicators Survey 2018</td>\n",
       "    </tr>\n",
       "    <tr>\n",
       "      <th>318</th>\n",
       "      <td>Social</td>\n",
       "      <td>Culture, diversity and safety</td>\n",
       "      <td>CULT_6</td>\n",
       "      <td>Percentage of residents that reported feeling ...</td>\n",
       "      <td>2018</td>\n",
       "      <td>NaN</td>\n",
       "      <td>1,086</td>\n",
       "      <td>59.00</td>\n",
       "      <td>Percentage</td>\n",
       "      <td>City of Melbourne Social Indicators Survey 2018</td>\n",
       "    </tr>\n",
       "  </tbody>\n",
       "</table>\n",
       "<p>319 rows × 10 columns</p>\n",
       "</div>"
      ],
      "text/plain": [
       "            type                          topic      id  \\\n",
       "0    Liveability                        Economy   ECO_1   \n",
       "1    Liveability                        Economy   ECO_2   \n",
       "2    Liveability                        Economy   ECO_3   \n",
       "3    Liveability                        Economy   ECO_4   \n",
       "4    Liveability                        Economy   ECO_4   \n",
       "..           ...                            ...     ...   \n",
       "314       Social    Participation in activities   ACT_7   \n",
       "315       Social  Culture, diversity and safety  CULT_4   \n",
       "316       Social  Culture, diversity and safety  CULT_5   \n",
       "317       Social  Culture, diversity and safety  CULT_5   \n",
       "318       Social  Culture, diversity and safety  CULT_6   \n",
       "\n",
       "                                             indicator             period  \\\n",
       "0                             City's unemployment rate    2015 (June Qtr)   \n",
       "1    Assessed value of commercial and industrial pr...  2015 (at 30 June)   \n",
       "2      Percentage of city population living in poverty               2015   \n",
       "3    Percentage of persons (city population) in ful...    2017 (June Qtr)   \n",
       "4    Percentage of persons (city population) in ful...    2014 (June Qtr)   \n",
       "..                                                 ...                ...   \n",
       "314  Percentage of residents who have participated ...               2019   \n",
       "315  Percentage of residents that reported feeling ...               2019   \n",
       "316  Percentage of residents that reported feeling ...               2019   \n",
       "317  Percentage of residents that reported feeling ...               2018   \n",
       "318  Percentage of residents that reported feeling ...               2018   \n",
       "\n",
       "             numerator         denominator  value  value_type  \\\n",
       "0                3,942              84,942   4.64  Percentage   \n",
       "1    48,331,069,777.00  101,671,404,180.00  47.54  Percentage   \n",
       "2               13,177             136,872   9.63  Percentage   \n",
       "3               68,722             159,141  43.18  Percentage   \n",
       "4               55,359             127,975  43.26  Percentage   \n",
       "..                 ...                 ...    ...         ...   \n",
       "314                NaN               1,259  49.30  Percentage   \n",
       "315                NaN               1,235  57.40  Percentage   \n",
       "316                NaN               1,197  86.00  Percentage   \n",
       "317                NaN               1,188  86.50  Percentage   \n",
       "318                NaN               1,086  59.00  Percentage   \n",
       "\n",
       "                                               sources  \n",
       "0    Australian Government Department of Employment...  \n",
       "1      City of Melbourne, Property Services, 2015-2018  \n",
       "2    Geografia, Relative Poverty and Employment Mea...  \n",
       "3    Geografia, Relative Poverty and Employment Mea...  \n",
       "4    Geografia, Relative Poverty and Employment Mea...  \n",
       "..                                                 ...  \n",
       "314    City of Melbourne Social Indicators Survey 2019  \n",
       "315    City of Melbourne Social Indicators Survey 2019  \n",
       "316    City of Melbourne Social Indicators Survey 2019  \n",
       "317    City of Melbourne Social Indicators Survey 2018  \n",
       "318    City of Melbourne Social Indicators Survey 2018  \n",
       "\n",
       "[319 rows x 10 columns]"
      ]
     },
     "execution_count": 47,
     "metadata": {},
     "output_type": "execute_result"
    }
   ],
   "source": [
    "liveability"
   ]
  },
  {
   "cell_type": "code",
   "execution_count": 48,
   "metadata": {},
   "outputs": [
    {
     "data": {
      "text/plain": [
       "Index(['denominator', 'id', 'indicator', 'numerator', 'period', 'sources',\n",
       "       'topic', 'type', 'value', 'value_type'],\n",
       "      dtype='object')"
      ]
     },
     "execution_count": 48,
     "metadata": {},
     "output_type": "execute_result"
    }
   ],
   "source": [
    "rental_affordability.columns = rental_affordability.columns.str.replace(' ', '')\n",
    "liveability.columns.sort_values()"
   ]
  },
  {
   "cell_type": "code",
   "execution_count": 49,
   "metadata": {},
   "outputs": [
    {
     "data": {
      "text/plain": [
       "{'2006',\n",
       " '2011',\n",
       " '2012',\n",
       " '2013',\n",
       " '2013/14',\n",
       " '2014',\n",
       " '2014 (June Qtr)',\n",
       " '2014 (at 30 June)',\n",
       " '2014/15',\n",
       " '2015',\n",
       " '2015 (June Qtr)',\n",
       " '2015 (at 30 June)',\n",
       " '2015/16',\n",
       " '2016',\n",
       " '2016 (June Qtr)',\n",
       " '2016 (at 30 June)',\n",
       " '2016/17',\n",
       " '2017',\n",
       " '2017 (June Qtr)',\n",
       " '2017 (at 30 June)',\n",
       " '2018',\n",
       " '2018 (June Qtr)',\n",
       " '2018 (at 30 June)',\n",
       " '2019',\n",
       " 'FY 2013/14',\n",
       " 'FY 2014/15',\n",
       " 'FY 2015/16',\n",
       " 'FY 2016/17',\n",
       " 'FY 2017/18',\n",
       " 'FY 202013/14',\n",
       " 'FY 202014/15',\n",
       " 'FY 202015/16'}"
      ]
     },
     "execution_count": 49,
     "metadata": {},
     "output_type": "execute_result"
    }
   ],
   "source": [
    "set(liveability['period'])"
   ]
  },
  {
   "cell_type": "markdown",
   "metadata": {},
   "source": [
    "For the liveability dataset, we have information from 2006, 2011~2019. Now we proceed to look at rental_affordability"
   ]
  },
  {
   "cell_type": "code",
   "execution_count": 50,
   "metadata": {},
   "outputs": [
    {
     "data": {
      "text/html": [
       "<div>\n",
       "<style scoped>\n",
       "    .dataframe tbody tr th:only-of-type {\n",
       "        vertical-align: middle;\n",
       "    }\n",
       "\n",
       "    .dataframe tbody tr th {\n",
       "        vertical-align: top;\n",
       "    }\n",
       "\n",
       "    .dataframe thead th {\n",
       "        text-align: right;\n",
       "    }\n",
       "</style>\n",
       "<table border=\"1\" class=\"dataframe\">\n",
       "  <thead>\n",
       "    <tr style=\"text-align: right;\">\n",
       "      <th></th>\n",
       "      <th>geography_name</th>\n",
       "      <th>rai_cityadjusted_total_2011_q2</th>\n",
       "      <th>rai_cityadjusted_total_2011_q3</th>\n",
       "      <th>rai_cityadjusted_total_2020_q1</th>\n",
       "      <th>rai_cityadjusted_total_2011_q1</th>\n",
       "      <th>state</th>\n",
       "      <th>rai_cityadjusted_total_2020_q3</th>\n",
       "      <th>rai_cityadjusted_total_2019_q4</th>\n",
       "      <th>rai_cityadjusted_total_2020_q2</th>\n",
       "      <th>rai_cityadjusted_total_2011_q4</th>\n",
       "      <th>...</th>\n",
       "      <th>rai_cityadjusted_total_2012_q1</th>\n",
       "      <th>rai_cityadjusted_total_2015_q3</th>\n",
       "      <th>rai_cityadjusted_total_2012_q4</th>\n",
       "      <th>rai_cityadjusted_total_2014_q3</th>\n",
       "      <th>rai_cityadjusted_total_2012_q3</th>\n",
       "      <th>rai_cityadjusted_total_2014_q4</th>\n",
       "      <th>rai_cityadjusted_total_2015_q1</th>\n",
       "      <th>rai_cityadjusted_total_2014_q1</th>\n",
       "      <th>rai_cityadjusted_total_2014_q2</th>\n",
       "      <th>rai_cityadjusted_total_2015_q4</th>\n",
       "    </tr>\n",
       "  </thead>\n",
       "  <tbody>\n",
       "    <tr>\n",
       "      <th>0</th>\n",
       "      <td>3000</td>\n",
       "      <td>98.33916</td>\n",
       "      <td>98.33916</td>\n",
       "      <td>109.61540</td>\n",
       "      <td>93.91771</td>\n",
       "      <td>VIC</td>\n",
       "      <td>144.2308</td>\n",
       "      <td>109.61540</td>\n",
       "      <td>137.0192</td>\n",
       "      <td>100.62610</td>\n",
       "      <td>...</td>\n",
       "      <td>97.23423</td>\n",
       "      <td>102.56410</td>\n",
       "      <td>103.71650</td>\n",
       "      <td>107.33450</td>\n",
       "      <td>96.15385</td>\n",
       "      <td>107.33450</td>\n",
       "      <td>102.79250</td>\n",
       "      <td>102.56410</td>\n",
       "      <td>102.56410</td>\n",
       "      <td>114.04290</td>\n",
       "    </tr>\n",
       "    <tr>\n",
       "      <th>1</th>\n",
       "      <td>3003</td>\n",
       "      <td>97.23423</td>\n",
       "      <td>100.62610</td>\n",
       "      <td>107.46610</td>\n",
       "      <td>88.75740</td>\n",
       "      <td>VIC</td>\n",
       "      <td>144.2308</td>\n",
       "      <td>109.61540</td>\n",
       "      <td>121.7949</td>\n",
       "      <td>81.64006</td>\n",
       "      <td>...</td>\n",
       "      <td>94.06355</td>\n",
       "      <td>103.71650</td>\n",
       "      <td>100.33440</td>\n",
       "      <td>107.33450</td>\n",
       "      <td>90.14423</td>\n",
       "      <td>102.56410</td>\n",
       "      <td>102.56410</td>\n",
       "      <td>113.96010</td>\n",
       "      <td>99.25558</td>\n",
       "      <td>119.60600</td>\n",
       "    </tr>\n",
       "    <tr>\n",
       "      <th>2</th>\n",
       "      <td>3004</td>\n",
       "      <td>89.21491</td>\n",
       "      <td>88.30455</td>\n",
       "      <td>103.41070</td>\n",
       "      <td>84.13462</td>\n",
       "      <td>VIC</td>\n",
       "      <td>130.3781</td>\n",
       "      <td>105.39940</td>\n",
       "      <td>111.8524</td>\n",
       "      <td>99.46950</td>\n",
       "      <td>...</td>\n",
       "      <td>86.53846</td>\n",
       "      <td>96.15385</td>\n",
       "      <td>94.19152</td>\n",
       "      <td>98.19967</td>\n",
       "      <td>90.14423</td>\n",
       "      <td>97.16599</td>\n",
       "      <td>96.15385</td>\n",
       "      <td>102.56410</td>\n",
       "      <td>97.16599</td>\n",
       "      <td>102.16350</td>\n",
       "    </tr>\n",
       "    <tr>\n",
       "      <th>3</th>\n",
       "      <td>3005</td>\n",
       "      <td>NaN</td>\n",
       "      <td>NaN</td>\n",
       "      <td>NaN</td>\n",
       "      <td>NaN</td>\n",
       "      <td>VIC</td>\n",
       "      <td>NaN</td>\n",
       "      <td>NaN</td>\n",
       "      <td>NaN</td>\n",
       "      <td>NaN</td>\n",
       "      <td>...</td>\n",
       "      <td>NaN</td>\n",
       "      <td>NaN</td>\n",
       "      <td>NaN</td>\n",
       "      <td>NaN</td>\n",
       "      <td>NaN</td>\n",
       "      <td>NaN</td>\n",
       "      <td>NaN</td>\n",
       "      <td>NaN</td>\n",
       "      <td>NaN</td>\n",
       "      <td>NaN</td>\n",
       "    </tr>\n",
       "    <tr>\n",
       "      <th>4</th>\n",
       "      <td>3006</td>\n",
       "      <td>81.64006</td>\n",
       "      <td>78.67133</td>\n",
       "      <td>99.65035</td>\n",
       "      <td>77.66272</td>\n",
       "      <td>VIC</td>\n",
       "      <td>144.2308</td>\n",
       "      <td>99.65035</td>\n",
       "      <td>121.7949</td>\n",
       "      <td>83.21006</td>\n",
       "      <td>...</td>\n",
       "      <td>81.64006</td>\n",
       "      <td>87.91209</td>\n",
       "      <td>88.75740</td>\n",
       "      <td>88.75740</td>\n",
       "      <td>81.64006</td>\n",
       "      <td>90.49774</td>\n",
       "      <td>87.08273</td>\n",
       "      <td>90.49774</td>\n",
       "      <td>90.49774</td>\n",
       "      <td>98.07692</td>\n",
       "    </tr>\n",
       "    <tr>\n",
       "      <th>5</th>\n",
       "      <td>3008</td>\n",
       "      <td>77.26648</td>\n",
       "      <td>83.21006</td>\n",
       "      <td>95.31773</td>\n",
       "      <td>74.78632</td>\n",
       "      <td>VIC</td>\n",
       "      <td>135.7466</td>\n",
       "      <td>97.87088</td>\n",
       "      <td>105.3994</td>\n",
       "      <td>79.39308</td>\n",
       "      <td>...</td>\n",
       "      <td>82.41758</td>\n",
       "      <td>90.49774</td>\n",
       "      <td>92.30769</td>\n",
       "      <td>89.61912</td>\n",
       "      <td>88.30455</td>\n",
       "      <td>92.30769</td>\n",
       "      <td>90.49774</td>\n",
       "      <td>93.24009</td>\n",
       "      <td>94.19152</td>\n",
       "      <td>96.15385</td>\n",
       "    </tr>\n",
       "  </tbody>\n",
       "</table>\n",
       "<p>6 rows × 46 columns</p>\n",
       "</div>"
      ],
      "text/plain": [
       "   geography_name  rai_cityadjusted_total_2011_q2  \\\n",
       "0            3000                        98.33916   \n",
       "1            3003                        97.23423   \n",
       "2            3004                        89.21491   \n",
       "3            3005                             NaN   \n",
       "4            3006                        81.64006   \n",
       "5            3008                        77.26648   \n",
       "\n",
       "   rai_cityadjusted_total_2011_q3  rai_cityadjusted_total_2020_q1  \\\n",
       "0                        98.33916                       109.61540   \n",
       "1                       100.62610                       107.46610   \n",
       "2                        88.30455                       103.41070   \n",
       "3                             NaN                             NaN   \n",
       "4                        78.67133                        99.65035   \n",
       "5                        83.21006                        95.31773   \n",
       "\n",
       "   rai_cityadjusted_total_2011_q1 state  rai_cityadjusted_total_2020_q3  \\\n",
       "0                        93.91771   VIC                        144.2308   \n",
       "1                        88.75740   VIC                        144.2308   \n",
       "2                        84.13462   VIC                        130.3781   \n",
       "3                             NaN   VIC                             NaN   \n",
       "4                        77.66272   VIC                        144.2308   \n",
       "5                        74.78632   VIC                        135.7466   \n",
       "\n",
       "   rai_cityadjusted_total_2019_q4  rai_cityadjusted_total_2020_q2  \\\n",
       "0                       109.61540                        137.0192   \n",
       "1                       109.61540                        121.7949   \n",
       "2                       105.39940                        111.8524   \n",
       "3                             NaN                             NaN   \n",
       "4                        99.65035                        121.7949   \n",
       "5                        97.87088                        105.3994   \n",
       "\n",
       "   rai_cityadjusted_total_2011_q4  ...  rai_cityadjusted_total_2012_q1  \\\n",
       "0                       100.62610  ...                        97.23423   \n",
       "1                        81.64006  ...                        94.06355   \n",
       "2                        99.46950  ...                        86.53846   \n",
       "3                             NaN  ...                             NaN   \n",
       "4                        83.21006  ...                        81.64006   \n",
       "5                        79.39308  ...                        82.41758   \n",
       "\n",
       "  rai_cityadjusted_total_2015_q3  rai_cityadjusted_total_2012_q4  \\\n",
       "0                      102.56410                       103.71650   \n",
       "1                      103.71650                       100.33440   \n",
       "2                       96.15385                        94.19152   \n",
       "3                            NaN                             NaN   \n",
       "4                       87.91209                        88.75740   \n",
       "5                       90.49774                        92.30769   \n",
       "\n",
       "   rai_cityadjusted_total_2014_q3  rai_cityadjusted_total_2012_q3  \\\n",
       "0                       107.33450                        96.15385   \n",
       "1                       107.33450                        90.14423   \n",
       "2                        98.19967                        90.14423   \n",
       "3                             NaN                             NaN   \n",
       "4                        88.75740                        81.64006   \n",
       "5                        89.61912                        88.30455   \n",
       "\n",
       "   rai_cityadjusted_total_2014_q4  rai_cityadjusted_total_2015_q1  \\\n",
       "0                       107.33450                       102.79250   \n",
       "1                       102.56410                       102.56410   \n",
       "2                        97.16599                        96.15385   \n",
       "3                             NaN                             NaN   \n",
       "4                        90.49774                        87.08273   \n",
       "5                        92.30769                        90.49774   \n",
       "\n",
       "   rai_cityadjusted_total_2014_q1  rai_cityadjusted_total_2014_q2  \\\n",
       "0                       102.56410                       102.56410   \n",
       "1                       113.96010                        99.25558   \n",
       "2                       102.56410                        97.16599   \n",
       "3                             NaN                             NaN   \n",
       "4                        90.49774                        90.49774   \n",
       "5                        93.24009                        94.19152   \n",
       "\n",
       "   rai_cityadjusted_total_2015_q4  \n",
       "0                       114.04290  \n",
       "1                       119.60600  \n",
       "2                       102.16350  \n",
       "3                             NaN  \n",
       "4                        98.07692  \n",
       "5                        96.15385  \n",
       "\n",
       "[6 rows x 46 columns]"
      ]
     },
     "execution_count": 50,
     "metadata": {},
     "output_type": "execute_result"
    }
   ],
   "source": [
    "rental_affordability"
   ]
  },
  {
   "cell_type": "code",
   "execution_count": 51,
   "metadata": {},
   "outputs": [
    {
     "data": {
      "text/plain": [
       "Index(['city', 'geography_name', 'rai_cityadjusted_total_2011_q1',\n",
       "       'rai_cityadjusted_total_2011_q2', 'rai_cityadjusted_total_2011_q3',\n",
       "       'rai_cityadjusted_total_2011_q4', 'rai_cityadjusted_total_2012_q1',\n",
       "       'rai_cityadjusted_total_2012_q2', 'rai_cityadjusted_total_2012_q3',\n",
       "       'rai_cityadjusted_total_2012_q4', 'rai_cityadjusted_total_2013_q1',\n",
       "       'rai_cityadjusted_total_2013_q2', 'rai_cityadjusted_total_2013_q3',\n",
       "       'rai_cityadjusted_total_2013_q4', 'rai_cityadjusted_total_2014_q1',\n",
       "       'rai_cityadjusted_total_2014_q2', 'rai_cityadjusted_total_2014_q3',\n",
       "       'rai_cityadjusted_total_2014_q4', 'rai_cityadjusted_total_2015_q1',\n",
       "       'rai_cityadjusted_total_2015_q2', 'rai_cityadjusted_total_2015_q3',\n",
       "       'rai_cityadjusted_total_2015_q4', 'rai_cityadjusted_total_2016_q1',\n",
       "       'rai_cityadjusted_total_2016_q2', 'rai_cityadjusted_total_2016_q3',\n",
       "       'rai_cityadjusted_total_2016_q4', 'rai_cityadjusted_total_2017_q1',\n",
       "       'rai_cityadjusted_total_2017_q2', 'rai_cityadjusted_total_2017_q3',\n",
       "       'rai_cityadjusted_total_2017_q4', 'rai_cityadjusted_total_2018_q1',\n",
       "       'rai_cityadjusted_total_2018_q2', 'rai_cityadjusted_total_2018_q3',\n",
       "       'rai_cityadjusted_total_2018_q4', 'rai_cityadjusted_total_2019_q1',\n",
       "       'rai_cityadjusted_total_2019_q2', 'rai_cityadjusted_total_2019_q3',\n",
       "       'rai_cityadjusted_total_2019_q4', 'rai_cityadjusted_total_2020_q1',\n",
       "       'rai_cityadjusted_total_2020_q2', 'rai_cityadjusted_total_2020_q3',\n",
       "       'rai_cityadjusted_total_2020_q4', 'rai_cityadjusted_total_2021_q1',\n",
       "       'rai_cityadjusted_total_2021_q2', 'state', 'unique_id'],\n",
       "      dtype='object')"
      ]
     },
     "execution_count": 51,
     "metadata": {},
     "output_type": "execute_result"
    }
   ],
   "source": [
    "rental_affordability.columns.sort_values()"
   ]
  },
  {
   "cell_type": "markdown",
   "metadata": {},
   "source": [
    "From a quick look , it looks like geography_name=3005 seems to only hold NaN values, and thus can get rid of it"
   ]
  },
  {
   "cell_type": "code",
   "execution_count": 52,
   "metadata": {},
   "outputs": [
    {
     "data": {
      "text/html": [
       "<div>\n",
       "<style scoped>\n",
       "    .dataframe tbody tr th:only-of-type {\n",
       "        vertical-align: middle;\n",
       "    }\n",
       "\n",
       "    .dataframe tbody tr th {\n",
       "        vertical-align: top;\n",
       "    }\n",
       "\n",
       "    .dataframe thead th {\n",
       "        text-align: right;\n",
       "    }\n",
       "</style>\n",
       "<table border=\"1\" class=\"dataframe\">\n",
       "  <thead>\n",
       "    <tr style=\"text-align: right;\">\n",
       "      <th></th>\n",
       "      <th>geography_name</th>\n",
       "      <th>rai_cityadjusted_total_2011_q2</th>\n",
       "      <th>rai_cityadjusted_total_2011_q3</th>\n",
       "      <th>rai_cityadjusted_total_2020_q1</th>\n",
       "      <th>rai_cityadjusted_total_2011_q1</th>\n",
       "      <th>state</th>\n",
       "      <th>rai_cityadjusted_total_2020_q3</th>\n",
       "      <th>rai_cityadjusted_total_2019_q4</th>\n",
       "      <th>rai_cityadjusted_total_2020_q2</th>\n",
       "      <th>rai_cityadjusted_total_2011_q4</th>\n",
       "      <th>...</th>\n",
       "      <th>rai_cityadjusted_total_2012_q1</th>\n",
       "      <th>rai_cityadjusted_total_2015_q3</th>\n",
       "      <th>rai_cityadjusted_total_2012_q4</th>\n",
       "      <th>rai_cityadjusted_total_2014_q3</th>\n",
       "      <th>rai_cityadjusted_total_2012_q3</th>\n",
       "      <th>rai_cityadjusted_total_2014_q4</th>\n",
       "      <th>rai_cityadjusted_total_2015_q1</th>\n",
       "      <th>rai_cityadjusted_total_2014_q1</th>\n",
       "      <th>rai_cityadjusted_total_2014_q2</th>\n",
       "      <th>rai_cityadjusted_total_2015_q4</th>\n",
       "    </tr>\n",
       "  </thead>\n",
       "  <tbody>\n",
       "    <tr>\n",
       "      <th>3</th>\n",
       "      <td>3005</td>\n",
       "      <td>NaN</td>\n",
       "      <td>NaN</td>\n",
       "      <td>NaN</td>\n",
       "      <td>NaN</td>\n",
       "      <td>VIC</td>\n",
       "      <td>NaN</td>\n",
       "      <td>NaN</td>\n",
       "      <td>NaN</td>\n",
       "      <td>NaN</td>\n",
       "      <td>...</td>\n",
       "      <td>NaN</td>\n",
       "      <td>NaN</td>\n",
       "      <td>NaN</td>\n",
       "      <td>NaN</td>\n",
       "      <td>NaN</td>\n",
       "      <td>NaN</td>\n",
       "      <td>NaN</td>\n",
       "      <td>NaN</td>\n",
       "      <td>NaN</td>\n",
       "      <td>NaN</td>\n",
       "    </tr>\n",
       "  </tbody>\n",
       "</table>\n",
       "<p>1 rows × 46 columns</p>\n",
       "</div>"
      ],
      "text/plain": [
       "   geography_name  rai_cityadjusted_total_2011_q2  \\\n",
       "3            3005                             NaN   \n",
       "\n",
       "   rai_cityadjusted_total_2011_q3  rai_cityadjusted_total_2020_q1  \\\n",
       "3                             NaN                             NaN   \n",
       "\n",
       "   rai_cityadjusted_total_2011_q1 state  rai_cityadjusted_total_2020_q3  \\\n",
       "3                             NaN   VIC                             NaN   \n",
       "\n",
       "   rai_cityadjusted_total_2019_q4  rai_cityadjusted_total_2020_q2  \\\n",
       "3                             NaN                             NaN   \n",
       "\n",
       "   rai_cityadjusted_total_2011_q4  ...  rai_cityadjusted_total_2012_q1  \\\n",
       "3                             NaN  ...                             NaN   \n",
       "\n",
       "  rai_cityadjusted_total_2015_q3  rai_cityadjusted_total_2012_q4  \\\n",
       "3                            NaN                             NaN   \n",
       "\n",
       "   rai_cityadjusted_total_2014_q3  rai_cityadjusted_total_2012_q3  \\\n",
       "3                             NaN                             NaN   \n",
       "\n",
       "   rai_cityadjusted_total_2014_q4  rai_cityadjusted_total_2015_q1  \\\n",
       "3                             NaN                             NaN   \n",
       "\n",
       "   rai_cityadjusted_total_2014_q1  rai_cityadjusted_total_2014_q2  \\\n",
       "3                             NaN                             NaN   \n",
       "\n",
       "   rai_cityadjusted_total_2015_q4  \n",
       "3                             NaN  \n",
       "\n",
       "[1 rows x 46 columns]"
      ]
     },
     "execution_count": 52,
     "metadata": {},
     "output_type": "execute_result"
    }
   ],
   "source": [
    "rental_affordability[rental_affordability['geography_name']==3005]"
   ]
  },
  {
   "cell_type": "code",
   "execution_count": 53,
   "metadata": {},
   "outputs": [
    {
     "data": {
      "text/html": [
       "<div>\n",
       "<style scoped>\n",
       "    .dataframe tbody tr th:only-of-type {\n",
       "        vertical-align: middle;\n",
       "    }\n",
       "\n",
       "    .dataframe tbody tr th {\n",
       "        vertical-align: top;\n",
       "    }\n",
       "\n",
       "    .dataframe thead th {\n",
       "        text-align: right;\n",
       "    }\n",
       "</style>\n",
       "<table border=\"1\" class=\"dataframe\">\n",
       "  <thead>\n",
       "    <tr style=\"text-align: right;\">\n",
       "      <th></th>\n",
       "      <th>unique_id</th>\n",
       "      <th>city</th>\n",
       "      <th>geography_name</th>\n",
       "      <th>state</th>\n",
       "    </tr>\n",
       "  </thead>\n",
       "  <tbody>\n",
       "    <tr>\n",
       "      <th>0</th>\n",
       "      <td>1310</td>\n",
       "      <td>Greater Melbourne</td>\n",
       "      <td>3000</td>\n",
       "      <td>VIC</td>\n",
       "    </tr>\n",
       "    <tr>\n",
       "      <th>1</th>\n",
       "      <td>1312</td>\n",
       "      <td>Greater Melbourne</td>\n",
       "      <td>3003</td>\n",
       "      <td>VIC</td>\n",
       "    </tr>\n",
       "    <tr>\n",
       "      <th>2</th>\n",
       "      <td>1313</td>\n",
       "      <td>Greater Melbourne</td>\n",
       "      <td>3004</td>\n",
       "      <td>VIC</td>\n",
       "    </tr>\n",
       "    <tr>\n",
       "      <th>3</th>\n",
       "      <td>1314</td>\n",
       "      <td>Greater Melbourne</td>\n",
       "      <td>3005</td>\n",
       "      <td>VIC</td>\n",
       "    </tr>\n",
       "    <tr>\n",
       "      <th>4</th>\n",
       "      <td>1315</td>\n",
       "      <td>Greater Melbourne</td>\n",
       "      <td>3006</td>\n",
       "      <td>VIC</td>\n",
       "    </tr>\n",
       "    <tr>\n",
       "      <th>5</th>\n",
       "      <td>1316</td>\n",
       "      <td>Greater Melbourne</td>\n",
       "      <td>3008</td>\n",
       "      <td>VIC</td>\n",
       "    </tr>\n",
       "  </tbody>\n",
       "</table>\n",
       "</div>"
      ],
      "text/plain": [
       "   unique_id               city  geography_name state\n",
       "0       1310  Greater Melbourne            3000   VIC\n",
       "1       1312  Greater Melbourne            3003   VIC\n",
       "2       1313  Greater Melbourne            3004   VIC\n",
       "3       1314  Greater Melbourne            3005   VIC\n",
       "4       1315  Greater Melbourne            3006   VIC\n",
       "5       1316  Greater Melbourne            3008   VIC"
      ]
     },
     "execution_count": 53,
     "metadata": {},
     "output_type": "execute_result"
    }
   ],
   "source": [
    "rental_affordability[['unique_id', 'city', 'geography_name', 'state']]"
   ]
  },
  {
   "cell_type": "markdown",
   "metadata": {},
   "source": [
    "From the above information, we can remove all columns but geography_name (which seems to be postcode), and also remove where geography_name=3005"
   ]
  },
  {
   "cell_type": "code",
   "execution_count": 54,
   "metadata": {},
   "outputs": [],
   "source": [
    "rental_affordability = rental_affordability.drop(3)\n",
    "rental_affordability = rental_affordability.reset_index()\n",
    "rental_affordability.drop(columns=rental_affordability.columns[0], axis=1, inplace=True)"
   ]
  },
  {
   "cell_type": "markdown",
   "metadata": {},
   "source": [
    "## Dataset cleanup\n",
    "Now that we have the appropriate information, we finalise the dataset so that we can use for modelliing"
   ]
  },
  {
   "cell_type": "code",
   "execution_count": 55,
   "metadata": {},
   "outputs": [
    {
     "data": {
      "text/html": [
       "<div>\n",
       "<style scoped>\n",
       "    .dataframe tbody tr th:only-of-type {\n",
       "        vertical-align: middle;\n",
       "    }\n",
       "\n",
       "    .dataframe tbody tr th {\n",
       "        vertical-align: top;\n",
       "    }\n",
       "\n",
       "    .dataframe thead th {\n",
       "        text-align: right;\n",
       "    }\n",
       "</style>\n",
       "<table border=\"1\" class=\"dataframe\">\n",
       "  <thead>\n",
       "    <tr style=\"text-align: right;\">\n",
       "      <th></th>\n",
       "      <th>type</th>\n",
       "      <th>topic</th>\n",
       "      <th>id</th>\n",
       "      <th>indicator</th>\n",
       "      <th>period</th>\n",
       "      <th>numerator</th>\n",
       "      <th>denominator</th>\n",
       "      <th>value</th>\n",
       "      <th>value_type</th>\n",
       "      <th>sources</th>\n",
       "    </tr>\n",
       "  </thead>\n",
       "  <tbody>\n",
       "    <tr>\n",
       "      <th>0</th>\n",
       "      <td>Liveability</td>\n",
       "      <td>Economy</td>\n",
       "      <td>ECO_1</td>\n",
       "      <td>City's unemployment rate</td>\n",
       "      <td>2015 (June Qtr)</td>\n",
       "      <td>3,942</td>\n",
       "      <td>84,942</td>\n",
       "      <td>4.64</td>\n",
       "      <td>Percentage</td>\n",
       "      <td>Australian Government Department of Employment...</td>\n",
       "    </tr>\n",
       "    <tr>\n",
       "      <th>1</th>\n",
       "      <td>Liveability</td>\n",
       "      <td>Economy</td>\n",
       "      <td>ECO_2</td>\n",
       "      <td>Assessed value of commercial and industrial pr...</td>\n",
       "      <td>2015 (at 30 June)</td>\n",
       "      <td>48,331,069,777.00</td>\n",
       "      <td>101,671,404,180.00</td>\n",
       "      <td>47.54</td>\n",
       "      <td>Percentage</td>\n",
       "      <td>City of Melbourne, Property Services, 2015-2018</td>\n",
       "    </tr>\n",
       "    <tr>\n",
       "      <th>2</th>\n",
       "      <td>Liveability</td>\n",
       "      <td>Economy</td>\n",
       "      <td>ECO_3</td>\n",
       "      <td>Percentage of city population living in poverty</td>\n",
       "      <td>2015</td>\n",
       "      <td>13,177</td>\n",
       "      <td>136,872</td>\n",
       "      <td>9.63</td>\n",
       "      <td>Percentage</td>\n",
       "      <td>Geografia, Relative Poverty and Employment Mea...</td>\n",
       "    </tr>\n",
       "    <tr>\n",
       "      <th>3</th>\n",
       "      <td>Liveability</td>\n",
       "      <td>Economy</td>\n",
       "      <td>ECO_4</td>\n",
       "      <td>Percentage of persons (city population) in ful...</td>\n",
       "      <td>2017 (June Qtr)</td>\n",
       "      <td>68,722</td>\n",
       "      <td>159,141</td>\n",
       "      <td>43.18</td>\n",
       "      <td>Percentage</td>\n",
       "      <td>Geografia, Relative Poverty and Employment Mea...</td>\n",
       "    </tr>\n",
       "    <tr>\n",
       "      <th>4</th>\n",
       "      <td>Liveability</td>\n",
       "      <td>Economy</td>\n",
       "      <td>ECO_4</td>\n",
       "      <td>Percentage of persons (city population) in ful...</td>\n",
       "      <td>2014 (June Qtr)</td>\n",
       "      <td>55,359</td>\n",
       "      <td>127,975</td>\n",
       "      <td>43.26</td>\n",
       "      <td>Percentage</td>\n",
       "      <td>Geografia, Relative Poverty and Employment Mea...</td>\n",
       "    </tr>\n",
       "    <tr>\n",
       "      <th>...</th>\n",
       "      <td>...</td>\n",
       "      <td>...</td>\n",
       "      <td>...</td>\n",
       "      <td>...</td>\n",
       "      <td>...</td>\n",
       "      <td>...</td>\n",
       "      <td>...</td>\n",
       "      <td>...</td>\n",
       "      <td>...</td>\n",
       "      <td>...</td>\n",
       "    </tr>\n",
       "    <tr>\n",
       "      <th>314</th>\n",
       "      <td>Social</td>\n",
       "      <td>Participation in activities</td>\n",
       "      <td>ACT_7</td>\n",
       "      <td>Percentage of residents who have participated ...</td>\n",
       "      <td>2019</td>\n",
       "      <td>NaN</td>\n",
       "      <td>1,259</td>\n",
       "      <td>49.30</td>\n",
       "      <td>Percentage</td>\n",
       "      <td>City of Melbourne Social Indicators Survey 2019</td>\n",
       "    </tr>\n",
       "    <tr>\n",
       "      <th>315</th>\n",
       "      <td>Social</td>\n",
       "      <td>Culture, diversity and safety</td>\n",
       "      <td>CULT_4</td>\n",
       "      <td>Percentage of residents that reported feeling ...</td>\n",
       "      <td>2019</td>\n",
       "      <td>NaN</td>\n",
       "      <td>1,235</td>\n",
       "      <td>57.40</td>\n",
       "      <td>Percentage</td>\n",
       "      <td>City of Melbourne Social Indicators Survey 2019</td>\n",
       "    </tr>\n",
       "    <tr>\n",
       "      <th>316</th>\n",
       "      <td>Social</td>\n",
       "      <td>Culture, diversity and safety</td>\n",
       "      <td>CULT_5</td>\n",
       "      <td>Percentage of residents that reported feeling ...</td>\n",
       "      <td>2019</td>\n",
       "      <td>NaN</td>\n",
       "      <td>1,197</td>\n",
       "      <td>86.00</td>\n",
       "      <td>Percentage</td>\n",
       "      <td>City of Melbourne Social Indicators Survey 2019</td>\n",
       "    </tr>\n",
       "    <tr>\n",
       "      <th>317</th>\n",
       "      <td>Social</td>\n",
       "      <td>Culture, diversity and safety</td>\n",
       "      <td>CULT_5</td>\n",
       "      <td>Percentage of residents that reported feeling ...</td>\n",
       "      <td>2018</td>\n",
       "      <td>NaN</td>\n",
       "      <td>1,188</td>\n",
       "      <td>86.50</td>\n",
       "      <td>Percentage</td>\n",
       "      <td>City of Melbourne Social Indicators Survey 2018</td>\n",
       "    </tr>\n",
       "    <tr>\n",
       "      <th>318</th>\n",
       "      <td>Social</td>\n",
       "      <td>Culture, diversity and safety</td>\n",
       "      <td>CULT_6</td>\n",
       "      <td>Percentage of residents that reported feeling ...</td>\n",
       "      <td>2018</td>\n",
       "      <td>NaN</td>\n",
       "      <td>1,086</td>\n",
       "      <td>59.00</td>\n",
       "      <td>Percentage</td>\n",
       "      <td>City of Melbourne Social Indicators Survey 2018</td>\n",
       "    </tr>\n",
       "  </tbody>\n",
       "</table>\n",
       "<p>319 rows × 10 columns</p>\n",
       "</div>"
      ],
      "text/plain": [
       "            type                          topic      id  \\\n",
       "0    Liveability                        Economy   ECO_1   \n",
       "1    Liveability                        Economy   ECO_2   \n",
       "2    Liveability                        Economy   ECO_3   \n",
       "3    Liveability                        Economy   ECO_4   \n",
       "4    Liveability                        Economy   ECO_4   \n",
       "..           ...                            ...     ...   \n",
       "314       Social    Participation in activities   ACT_7   \n",
       "315       Social  Culture, diversity and safety  CULT_4   \n",
       "316       Social  Culture, diversity and safety  CULT_5   \n",
       "317       Social  Culture, diversity and safety  CULT_5   \n",
       "318       Social  Culture, diversity and safety  CULT_6   \n",
       "\n",
       "                                             indicator             period  \\\n",
       "0                             City's unemployment rate    2015 (June Qtr)   \n",
       "1    Assessed value of commercial and industrial pr...  2015 (at 30 June)   \n",
       "2      Percentage of city population living in poverty               2015   \n",
       "3    Percentage of persons (city population) in ful...    2017 (June Qtr)   \n",
       "4    Percentage of persons (city population) in ful...    2014 (June Qtr)   \n",
       "..                                                 ...                ...   \n",
       "314  Percentage of residents who have participated ...               2019   \n",
       "315  Percentage of residents that reported feeling ...               2019   \n",
       "316  Percentage of residents that reported feeling ...               2019   \n",
       "317  Percentage of residents that reported feeling ...               2018   \n",
       "318  Percentage of residents that reported feeling ...               2018   \n",
       "\n",
       "             numerator         denominator  value  value_type  \\\n",
       "0                3,942              84,942   4.64  Percentage   \n",
       "1    48,331,069,777.00  101,671,404,180.00  47.54  Percentage   \n",
       "2               13,177             136,872   9.63  Percentage   \n",
       "3               68,722             159,141  43.18  Percentage   \n",
       "4               55,359             127,975  43.26  Percentage   \n",
       "..                 ...                 ...    ...         ...   \n",
       "314                NaN               1,259  49.30  Percentage   \n",
       "315                NaN               1,235  57.40  Percentage   \n",
       "316                NaN               1,197  86.00  Percentage   \n",
       "317                NaN               1,188  86.50  Percentage   \n",
       "318                NaN               1,086  59.00  Percentage   \n",
       "\n",
       "                                               sources  \n",
       "0    Australian Government Department of Employment...  \n",
       "1      City of Melbourne, Property Services, 2015-2018  \n",
       "2    Geografia, Relative Poverty and Employment Mea...  \n",
       "3    Geografia, Relative Poverty and Employment Mea...  \n",
       "4    Geografia, Relative Poverty and Employment Mea...  \n",
       "..                                                 ...  \n",
       "314    City of Melbourne Social Indicators Survey 2019  \n",
       "315    City of Melbourne Social Indicators Survey 2019  \n",
       "316    City of Melbourne Social Indicators Survey 2019  \n",
       "317    City of Melbourne Social Indicators Survey 2018  \n",
       "318    City of Melbourne Social Indicators Survey 2018  \n",
       "\n",
       "[319 rows x 10 columns]"
      ]
     },
     "execution_count": 55,
     "metadata": {},
     "output_type": "execute_result"
    }
   ],
   "source": [
    "liveability"
   ]
  },
  {
   "cell_type": "code",
   "execution_count": 56,
   "metadata": {},
   "outputs": [
    {
     "data": {
      "text/html": [
       "<div>\n",
       "<style scoped>\n",
       "    .dataframe tbody tr th:only-of-type {\n",
       "        vertical-align: middle;\n",
       "    }\n",
       "\n",
       "    .dataframe tbody tr th {\n",
       "        vertical-align: top;\n",
       "    }\n",
       "\n",
       "    .dataframe thead th {\n",
       "        text-align: right;\n",
       "    }\n",
       "</style>\n",
       "<table border=\"1\" class=\"dataframe\">\n",
       "  <thead>\n",
       "    <tr style=\"text-align: right;\">\n",
       "      <th></th>\n",
       "      <th>geography_name</th>\n",
       "      <th>rai_cityadjusted_total_2011_q2</th>\n",
       "      <th>rai_cityadjusted_total_2011_q3</th>\n",
       "      <th>rai_cityadjusted_total_2020_q1</th>\n",
       "      <th>rai_cityadjusted_total_2011_q1</th>\n",
       "      <th>state</th>\n",
       "      <th>rai_cityadjusted_total_2020_q3</th>\n",
       "      <th>rai_cityadjusted_total_2019_q4</th>\n",
       "      <th>rai_cityadjusted_total_2020_q2</th>\n",
       "      <th>rai_cityadjusted_total_2011_q4</th>\n",
       "      <th>...</th>\n",
       "      <th>rai_cityadjusted_total_2012_q1</th>\n",
       "      <th>rai_cityadjusted_total_2015_q3</th>\n",
       "      <th>rai_cityadjusted_total_2012_q4</th>\n",
       "      <th>rai_cityadjusted_total_2014_q3</th>\n",
       "      <th>rai_cityadjusted_total_2012_q3</th>\n",
       "      <th>rai_cityadjusted_total_2014_q4</th>\n",
       "      <th>rai_cityadjusted_total_2015_q1</th>\n",
       "      <th>rai_cityadjusted_total_2014_q1</th>\n",
       "      <th>rai_cityadjusted_total_2014_q2</th>\n",
       "      <th>rai_cityadjusted_total_2015_q4</th>\n",
       "    </tr>\n",
       "  </thead>\n",
       "  <tbody>\n",
       "    <tr>\n",
       "      <th>0</th>\n",
       "      <td>3000</td>\n",
       "      <td>98.33916</td>\n",
       "      <td>98.33916</td>\n",
       "      <td>109.61540</td>\n",
       "      <td>93.91771</td>\n",
       "      <td>VIC</td>\n",
       "      <td>144.2308</td>\n",
       "      <td>109.61540</td>\n",
       "      <td>137.0192</td>\n",
       "      <td>100.62610</td>\n",
       "      <td>...</td>\n",
       "      <td>97.23423</td>\n",
       "      <td>102.56410</td>\n",
       "      <td>103.71650</td>\n",
       "      <td>107.33450</td>\n",
       "      <td>96.15385</td>\n",
       "      <td>107.33450</td>\n",
       "      <td>102.79250</td>\n",
       "      <td>102.56410</td>\n",
       "      <td>102.56410</td>\n",
       "      <td>114.04290</td>\n",
       "    </tr>\n",
       "    <tr>\n",
       "      <th>1</th>\n",
       "      <td>3003</td>\n",
       "      <td>97.23423</td>\n",
       "      <td>100.62610</td>\n",
       "      <td>107.46610</td>\n",
       "      <td>88.75740</td>\n",
       "      <td>VIC</td>\n",
       "      <td>144.2308</td>\n",
       "      <td>109.61540</td>\n",
       "      <td>121.7949</td>\n",
       "      <td>81.64006</td>\n",
       "      <td>...</td>\n",
       "      <td>94.06355</td>\n",
       "      <td>103.71650</td>\n",
       "      <td>100.33440</td>\n",
       "      <td>107.33450</td>\n",
       "      <td>90.14423</td>\n",
       "      <td>102.56410</td>\n",
       "      <td>102.56410</td>\n",
       "      <td>113.96010</td>\n",
       "      <td>99.25558</td>\n",
       "      <td>119.60600</td>\n",
       "    </tr>\n",
       "    <tr>\n",
       "      <th>2</th>\n",
       "      <td>3004</td>\n",
       "      <td>89.21491</td>\n",
       "      <td>88.30455</td>\n",
       "      <td>103.41070</td>\n",
       "      <td>84.13462</td>\n",
       "      <td>VIC</td>\n",
       "      <td>130.3781</td>\n",
       "      <td>105.39940</td>\n",
       "      <td>111.8524</td>\n",
       "      <td>99.46950</td>\n",
       "      <td>...</td>\n",
       "      <td>86.53846</td>\n",
       "      <td>96.15385</td>\n",
       "      <td>94.19152</td>\n",
       "      <td>98.19967</td>\n",
       "      <td>90.14423</td>\n",
       "      <td>97.16599</td>\n",
       "      <td>96.15385</td>\n",
       "      <td>102.56410</td>\n",
       "      <td>97.16599</td>\n",
       "      <td>102.16350</td>\n",
       "    </tr>\n",
       "    <tr>\n",
       "      <th>3</th>\n",
       "      <td>3006</td>\n",
       "      <td>81.64006</td>\n",
       "      <td>78.67133</td>\n",
       "      <td>99.65035</td>\n",
       "      <td>77.66272</td>\n",
       "      <td>VIC</td>\n",
       "      <td>144.2308</td>\n",
       "      <td>99.65035</td>\n",
       "      <td>121.7949</td>\n",
       "      <td>83.21006</td>\n",
       "      <td>...</td>\n",
       "      <td>81.64006</td>\n",
       "      <td>87.91209</td>\n",
       "      <td>88.75740</td>\n",
       "      <td>88.75740</td>\n",
       "      <td>81.64006</td>\n",
       "      <td>90.49774</td>\n",
       "      <td>87.08273</td>\n",
       "      <td>90.49774</td>\n",
       "      <td>90.49774</td>\n",
       "      <td>98.07692</td>\n",
       "    </tr>\n",
       "    <tr>\n",
       "      <th>4</th>\n",
       "      <td>3008</td>\n",
       "      <td>77.26648</td>\n",
       "      <td>83.21006</td>\n",
       "      <td>95.31773</td>\n",
       "      <td>74.78632</td>\n",
       "      <td>VIC</td>\n",
       "      <td>135.7466</td>\n",
       "      <td>97.87088</td>\n",
       "      <td>105.3994</td>\n",
       "      <td>79.39308</td>\n",
       "      <td>...</td>\n",
       "      <td>82.41758</td>\n",
       "      <td>90.49774</td>\n",
       "      <td>92.30769</td>\n",
       "      <td>89.61912</td>\n",
       "      <td>88.30455</td>\n",
       "      <td>92.30769</td>\n",
       "      <td>90.49774</td>\n",
       "      <td>93.24009</td>\n",
       "      <td>94.19152</td>\n",
       "      <td>96.15385</td>\n",
       "    </tr>\n",
       "  </tbody>\n",
       "</table>\n",
       "<p>5 rows × 46 columns</p>\n",
       "</div>"
      ],
      "text/plain": [
       "   geography_name  rai_cityadjusted_total_2011_q2  \\\n",
       "0            3000                        98.33916   \n",
       "1            3003                        97.23423   \n",
       "2            3004                        89.21491   \n",
       "3            3006                        81.64006   \n",
       "4            3008                        77.26648   \n",
       "\n",
       "   rai_cityadjusted_total_2011_q3  rai_cityadjusted_total_2020_q1  \\\n",
       "0                        98.33916                       109.61540   \n",
       "1                       100.62610                       107.46610   \n",
       "2                        88.30455                       103.41070   \n",
       "3                        78.67133                        99.65035   \n",
       "4                        83.21006                        95.31773   \n",
       "\n",
       "   rai_cityadjusted_total_2011_q1 state  rai_cityadjusted_total_2020_q3  \\\n",
       "0                        93.91771   VIC                        144.2308   \n",
       "1                        88.75740   VIC                        144.2308   \n",
       "2                        84.13462   VIC                        130.3781   \n",
       "3                        77.66272   VIC                        144.2308   \n",
       "4                        74.78632   VIC                        135.7466   \n",
       "\n",
       "   rai_cityadjusted_total_2019_q4  rai_cityadjusted_total_2020_q2  \\\n",
       "0                       109.61540                        137.0192   \n",
       "1                       109.61540                        121.7949   \n",
       "2                       105.39940                        111.8524   \n",
       "3                        99.65035                        121.7949   \n",
       "4                        97.87088                        105.3994   \n",
       "\n",
       "   rai_cityadjusted_total_2011_q4  ...  rai_cityadjusted_total_2012_q1  \\\n",
       "0                       100.62610  ...                        97.23423   \n",
       "1                        81.64006  ...                        94.06355   \n",
       "2                        99.46950  ...                        86.53846   \n",
       "3                        83.21006  ...                        81.64006   \n",
       "4                        79.39308  ...                        82.41758   \n",
       "\n",
       "  rai_cityadjusted_total_2015_q3  rai_cityadjusted_total_2012_q4  \\\n",
       "0                      102.56410                       103.71650   \n",
       "1                      103.71650                       100.33440   \n",
       "2                       96.15385                        94.19152   \n",
       "3                       87.91209                        88.75740   \n",
       "4                       90.49774                        92.30769   \n",
       "\n",
       "   rai_cityadjusted_total_2014_q3  rai_cityadjusted_total_2012_q3  \\\n",
       "0                       107.33450                        96.15385   \n",
       "1                       107.33450                        90.14423   \n",
       "2                        98.19967                        90.14423   \n",
       "3                        88.75740                        81.64006   \n",
       "4                        89.61912                        88.30455   \n",
       "\n",
       "   rai_cityadjusted_total_2014_q4  rai_cityadjusted_total_2015_q1  \\\n",
       "0                       107.33450                       102.79250   \n",
       "1                       102.56410                       102.56410   \n",
       "2                        97.16599                        96.15385   \n",
       "3                        90.49774                        87.08273   \n",
       "4                        92.30769                        90.49774   \n",
       "\n",
       "   rai_cityadjusted_total_2014_q1  rai_cityadjusted_total_2014_q2  \\\n",
       "0                       102.56410                       102.56410   \n",
       "1                       113.96010                        99.25558   \n",
       "2                       102.56410                        97.16599   \n",
       "3                        90.49774                        90.49774   \n",
       "4                        93.24009                        94.19152   \n",
       "\n",
       "   rai_cityadjusted_total_2015_q4  \n",
       "0                       114.04290  \n",
       "1                       119.60600  \n",
       "2                       102.16350  \n",
       "3                        98.07692  \n",
       "4                        96.15385  \n",
       "\n",
       "[5 rows x 46 columns]"
      ]
     },
     "execution_count": 56,
     "metadata": {},
     "output_type": "execute_result"
    }
   ],
   "source": [
    "rental_affordability"
   ]
  },
  {
   "cell_type": "markdown",
   "metadata": {},
   "source": [
    "Firstly, we need to be able to condense both of the datasets into year so that we can model easier. For the liveability score, we'll combine numerator + denominator for a whole year, then calculate a new percentage for said year. Further, we only want percentages for our dataset since counts will not give us any relevant predictions, as we do not need to create a model but rather see some correlation between the 2 datasets"
   ]
  },
  {
   "cell_type": "code",
   "execution_count": 57,
   "metadata": {},
   "outputs": [
    {
     "data": {
      "text/plain": [
       "{'Economy',\n",
       " 'Finance',\n",
       " 'Governance',\n",
       " 'Profile - housing, government and economy',\n",
       " 'Profile - people',\n",
       " 'Transportation'}"
      ]
     },
     "execution_count": 57,
     "metadata": {},
     "output_type": "execute_result"
    }
   ],
   "source": [
    "# Get the subset of the dataframe with the data we want\n",
    "\n",
    "liveability = liveability[liveability['type'] == 'Liveability']\n",
    "liveability = liveability[liveability['value_type'] == 'Percentage']\n",
    "liveability['period'] = liveability['period'].str.extract(r'(\\d{4})')\n",
    "set(liveability['topic'])"
   ]
  },
  {
   "cell_type": "code",
   "execution_count": 58,
   "metadata": {},
   "outputs": [],
   "source": [
    "# Then remove all NaN values\n",
    "\n",
    "liveability = liveability.dropna(subset=['numerator', 'denominator'])"
   ]
  },
  {
   "cell_type": "code",
   "execution_count": 59,
   "metadata": {},
   "outputs": [],
   "source": [
    "# Turn all numerical columns into int for calculation\n",
    "\n",
    "liveability['numerator'] = liveability['numerator'].astype(str).str.replace(',', '').astype(float).astype(int)\n",
    "liveability['denominator'] = liveability['denominator'].astype(str).str.replace(',', '').astype(float).astype(int)"
   ]
  },
  {
   "cell_type": "code",
   "execution_count": 60,
   "metadata": {},
   "outputs": [
    {
     "data": {
      "text/html": [
       "<div>\n",
       "<style scoped>\n",
       "    .dataframe tbody tr th:only-of-type {\n",
       "        vertical-align: middle;\n",
       "    }\n",
       "\n",
       "    .dataframe tbody tr th {\n",
       "        vertical-align: top;\n",
       "    }\n",
       "\n",
       "    .dataframe thead th {\n",
       "        text-align: right;\n",
       "    }\n",
       "</style>\n",
       "<table border=\"1\" class=\"dataframe\">\n",
       "  <thead>\n",
       "    <tr style=\"text-align: right;\">\n",
       "      <th></th>\n",
       "      <th>type</th>\n",
       "      <th>topic</th>\n",
       "      <th>id</th>\n",
       "      <th>indicator</th>\n",
       "      <th>period</th>\n",
       "      <th>numerator</th>\n",
       "      <th>denominator</th>\n",
       "      <th>value</th>\n",
       "      <th>value_type</th>\n",
       "      <th>sources</th>\n",
       "    </tr>\n",
       "  </thead>\n",
       "  <tbody>\n",
       "    <tr>\n",
       "      <th>46</th>\n",
       "      <td>Liveability</td>\n",
       "      <td>Profile - housing, government and economy</td>\n",
       "      <td>PROH_8</td>\n",
       "      <td>Percentage of country GDP</td>\n",
       "      <td>2016</td>\n",
       "      <td>1323421072479</td>\n",
       "      <td>73043232000</td>\n",
       "      <td>5.52</td>\n",
       "      <td>Percentage</td>\n",
       "      <td>1. The World Bank data, GDP (current US$) for ...</td>\n",
       "    </tr>\n",
       "    <tr>\n",
       "      <th>47</th>\n",
       "      <td>Liveability</td>\n",
       "      <td>Profile - housing, government and economy</td>\n",
       "      <td>PROH_8</td>\n",
       "      <td>Percentage of country GDP</td>\n",
       "      <td>2015</td>\n",
       "      <td>1208039015868</td>\n",
       "      <td>68408312000</td>\n",
       "      <td>5.66</td>\n",
       "      <td>Percentage</td>\n",
       "      <td>1. The World Bank data, GDP (current US$) for ...</td>\n",
       "    </tr>\n",
       "    <tr>\n",
       "      <th>48</th>\n",
       "      <td>Liveability</td>\n",
       "      <td>Profile - housing, government and economy</td>\n",
       "      <td>PROH_8</td>\n",
       "      <td>Percentage of country GDP</td>\n",
       "      <td>2013</td>\n",
       "      <td>1464955475993</td>\n",
       "      <td>83367000000</td>\n",
       "      <td>5.69</td>\n",
       "      <td>Percentage</td>\n",
       "      <td>1. The World Bank data, GDP (current US$) for ...</td>\n",
       "    </tr>\n",
       "    <tr>\n",
       "      <th>247</th>\n",
       "      <td>Liveability</td>\n",
       "      <td>Profile - housing, government and economy</td>\n",
       "      <td>PROH_8</td>\n",
       "      <td>Percentage of country GDP</td>\n",
       "      <td>2014</td>\n",
       "      <td>1349034029453</td>\n",
       "      <td>69580800000</td>\n",
       "      <td>5.16</td>\n",
       "      <td>Percentage</td>\n",
       "      <td>1. The World Bank data, GDP (current US$) for ...</td>\n",
       "    </tr>\n",
       "  </tbody>\n",
       "</table>\n",
       "</div>"
      ],
      "text/plain": [
       "            type                                      topic      id  \\\n",
       "46   Liveability  Profile - housing, government and economy  PROH_8   \n",
       "47   Liveability  Profile - housing, government and economy  PROH_8   \n",
       "48   Liveability  Profile - housing, government and economy  PROH_8   \n",
       "247  Liveability  Profile - housing, government and economy  PROH_8   \n",
       "\n",
       "                     indicator period      numerator  denominator  value  \\\n",
       "46   Percentage of country GDP   2016  1323421072479  73043232000   5.52   \n",
       "47   Percentage of country GDP   2015  1208039015868  68408312000   5.66   \n",
       "48   Percentage of country GDP   2013  1464955475993  83367000000   5.69   \n",
       "247  Percentage of country GDP   2014  1349034029453  69580800000   5.16   \n",
       "\n",
       "     value_type                                            sources  \n",
       "46   Percentage  1. The World Bank data, GDP (current US$) for ...  \n",
       "47   Percentage  1. The World Bank data, GDP (current US$) for ...  \n",
       "48   Percentage  1. The World Bank data, GDP (current US$) for ...  \n",
       "247  Percentage  1. The World Bank data, GDP (current US$) for ...  "
      ]
     },
     "execution_count": 60,
     "metadata": {},
     "output_type": "execute_result"
    }
   ],
   "source": [
    "liveability[liveability['indicator'] == 'Percentage of country GDP']"
   ]
  },
  {
   "cell_type": "markdown",
   "metadata": {},
   "source": [
    "After a qucik look, for some reason the numerator & denominator for all GDP related rows are swapped. Further, even if we did swap the columns around for appropriate values, the numbers are much greater than the other values used for calculation, thus adding these values in will skew our data so that the majority of the percentage calculation would come from these 2 rows. Thus, opt to remove these rows"
   ]
  },
  {
   "cell_type": "code",
   "execution_count": 61,
   "metadata": {},
   "outputs": [],
   "source": [
    "liveability = liveability[liveability['indicator'] != 'Percentage of country GDP']"
   ]
  },
  {
   "cell_type": "code",
   "execution_count": 62,
   "metadata": {},
   "outputs": [
    {
     "data": {
      "text/html": [
       "<div>\n",
       "<style scoped>\n",
       "    .dataframe tbody tr th:only-of-type {\n",
       "        vertical-align: middle;\n",
       "    }\n",
       "\n",
       "    .dataframe tbody tr th {\n",
       "        vertical-align: top;\n",
       "    }\n",
       "\n",
       "    .dataframe thead th {\n",
       "        text-align: right;\n",
       "    }\n",
       "</style>\n",
       "<table border=\"1\" class=\"dataframe\">\n",
       "  <thead>\n",
       "    <tr style=\"text-align: right;\">\n",
       "      <th></th>\n",
       "      <th>type</th>\n",
       "      <th>topic</th>\n",
       "      <th>id</th>\n",
       "      <th>indicator</th>\n",
       "      <th>period</th>\n",
       "      <th>numerator</th>\n",
       "      <th>denominator</th>\n",
       "      <th>value</th>\n",
       "      <th>value_type</th>\n",
       "      <th>sources</th>\n",
       "    </tr>\n",
       "  </thead>\n",
       "  <tbody>\n",
       "    <tr>\n",
       "      <th>4</th>\n",
       "      <td>Liveability</td>\n",
       "      <td>Economy</td>\n",
       "      <td>ECO_4</td>\n",
       "      <td>Percentage of persons (city population) in ful...</td>\n",
       "      <td>2014</td>\n",
       "      <td>55359</td>\n",
       "      <td>127975</td>\n",
       "      <td>43.26</td>\n",
       "      <td>Percentage</td>\n",
       "      <td>Geografia, Relative Poverty and Employment Mea...</td>\n",
       "    </tr>\n",
       "    <tr>\n",
       "      <th>5</th>\n",
       "      <td>Liveability</td>\n",
       "      <td>Economy</td>\n",
       "      <td>ECO_5</td>\n",
       "      <td>Youth unemployment rate</td>\n",
       "      <td>2014</td>\n",
       "      <td>1367</td>\n",
       "      <td>13048</td>\n",
       "      <td>10.48</td>\n",
       "      <td>Percentage</td>\n",
       "      <td>Geografia, Relative Poverty and Employment Mea...</td>\n",
       "    </tr>\n",
       "    <tr>\n",
       "      <th>12</th>\n",
       "      <td>Liveability</td>\n",
       "      <td>Finance</td>\n",
       "      <td>FIN_1</td>\n",
       "      <td>Debt service ratio (debt service expenditure a...</td>\n",
       "      <td>2014</td>\n",
       "      <td>0</td>\n",
       "      <td>378466000</td>\n",
       "      <td>0.00</td>\n",
       "      <td>Percentage</td>\n",
       "      <td>1-3. City of Melbourne Annual Report 2017-18; ...</td>\n",
       "    </tr>\n",
       "    <tr>\n",
       "      <th>15</th>\n",
       "      <td>Liveability</td>\n",
       "      <td>Finance</td>\n",
       "      <td>FIN_2</td>\n",
       "      <td>Capital spending as a percentage of total expe...</td>\n",
       "      <td>2014</td>\n",
       "      <td>82078000</td>\n",
       "      <td>457698000</td>\n",
       "      <td>17.93</td>\n",
       "      <td>Percentage</td>\n",
       "      <td>1-3. City of Melbourne Annual Report 2017-18; ...</td>\n",
       "    </tr>\n",
       "    <tr>\n",
       "      <th>18</th>\n",
       "      <td>Liveability</td>\n",
       "      <td>Finance</td>\n",
       "      <td>FIN_4</td>\n",
       "      <td>Tax collected as a percentage of tax billed</td>\n",
       "      <td>2014</td>\n",
       "      <td>228981000</td>\n",
       "      <td>226920000</td>\n",
       "      <td>100.91</td>\n",
       "      <td>Percentage</td>\n",
       "      <td>1-3. City of Melbourne Annual Report 2017-18; ...</td>\n",
       "    </tr>\n",
       "    <tr>\n",
       "      <th>30</th>\n",
       "      <td>Liveability</td>\n",
       "      <td>Governance</td>\n",
       "      <td>GOV_3</td>\n",
       "      <td>Percentage of women employed in the city gover...</td>\n",
       "      <td>2014</td>\n",
       "      <td>1019</td>\n",
       "      <td>2631</td>\n",
       "      <td>38.73</td>\n",
       "      <td>Percentage</td>\n",
       "      <td>1-3. City of Melbourne Annual Report 2017-18; ...</td>\n",
       "    </tr>\n",
       "    <tr>\n",
       "      <th>51</th>\n",
       "      <td>Liveability</td>\n",
       "      <td>Profile - people</td>\n",
       "      <td>PROP_10</td>\n",
       "      <td>Percentage of population that are adults (25-6...</td>\n",
       "      <td>2014</td>\n",
       "      <td>74084</td>\n",
       "      <td>127975</td>\n",
       "      <td>57.89</td>\n",
       "      <td>Percentage</td>\n",
       "      <td>1. Australian Bureau of Statistics, 3235.0 Reg...</td>\n",
       "    </tr>\n",
       "    <tr>\n",
       "      <th>143</th>\n",
       "      <td>Liveability</td>\n",
       "      <td>Profile - people</td>\n",
       "      <td>PROP_12</td>\n",
       "      <td>Population dependency ratio (people aged under...</td>\n",
       "      <td>2014</td>\n",
       "      <td>13</td>\n",
       "      <td>86</td>\n",
       "      <td>15.52</td>\n",
       "      <td>Percentage</td>\n",
       "      <td>1. Australian Bureau of Statistics, 3235.0 Reg...</td>\n",
       "    </tr>\n",
       "    <tr>\n",
       "      <th>146</th>\n",
       "      <td>Liveability</td>\n",
       "      <td>Profile - people</td>\n",
       "      <td>PROP_5</td>\n",
       "      <td>Percentage of population that are seniors (65+)</td>\n",
       "      <td>2014</td>\n",
       "      <td>8413</td>\n",
       "      <td>127975</td>\n",
       "      <td>6.57</td>\n",
       "      <td>Percentage</td>\n",
       "      <td>Australian Bureau of Statistics, Census of Pop...</td>\n",
       "    </tr>\n",
       "    <tr>\n",
       "      <th>202</th>\n",
       "      <td>Liveability</td>\n",
       "      <td>Economy</td>\n",
       "      <td>ECO_3</td>\n",
       "      <td>Percentage of city population living in poverty</td>\n",
       "      <td>2014</td>\n",
       "      <td>11556</td>\n",
       "      <td>127975</td>\n",
       "      <td>9.03</td>\n",
       "      <td>Percentage</td>\n",
       "      <td>Geografia, Relative Poverty and Employment Mea...</td>\n",
       "    </tr>\n",
       "    <tr>\n",
       "      <th>209</th>\n",
       "      <td>Liveability</td>\n",
       "      <td>Finance</td>\n",
       "      <td>FIN_3</td>\n",
       "      <td>Own-source revenue as a percentage of total re...</td>\n",
       "      <td>2014</td>\n",
       "      <td>378466000</td>\n",
       "      <td>435777000</td>\n",
       "      <td>86.85</td>\n",
       "      <td>Percentage</td>\n",
       "      <td>1-3. City of Melbourne Annual Report 2017-18; ...</td>\n",
       "    </tr>\n",
       "    <tr>\n",
       "      <th>261</th>\n",
       "      <td>Liveability</td>\n",
       "      <td>Profile - people</td>\n",
       "      <td>PROP_4</td>\n",
       "      <td>Percentage of population that are youth (15-24...</td>\n",
       "      <td>2014</td>\n",
       "      <td>36701</td>\n",
       "      <td>127975</td>\n",
       "      <td>28.68</td>\n",
       "      <td>Percentage</td>\n",
       "      <td>Australian Bureau of Statistics, Census of Pop...</td>\n",
       "    </tr>\n",
       "    <tr>\n",
       "      <th>271</th>\n",
       "      <td>Liveability</td>\n",
       "      <td>Profile - people</td>\n",
       "      <td>PROP_9</td>\n",
       "      <td>Percentage of population that are children (0-...</td>\n",
       "      <td>2014</td>\n",
       "      <td>8777</td>\n",
       "      <td>127975</td>\n",
       "      <td>6.86</td>\n",
       "      <td>Percentage</td>\n",
       "      <td>Australian Bureau of Statistics, Census of Pop...</td>\n",
       "    </tr>\n",
       "  </tbody>\n",
       "</table>\n",
       "</div>"
      ],
      "text/plain": [
       "            type             topic       id  \\\n",
       "4    Liveability           Economy    ECO_4   \n",
       "5    Liveability           Economy    ECO_5   \n",
       "12   Liveability           Finance    FIN_1   \n",
       "15   Liveability           Finance    FIN_2   \n",
       "18   Liveability           Finance    FIN_4   \n",
       "30   Liveability        Governance    GOV_3   \n",
       "51   Liveability  Profile - people  PROP_10   \n",
       "143  Liveability  Profile - people  PROP_12   \n",
       "146  Liveability  Profile - people   PROP_5   \n",
       "202  Liveability           Economy    ECO_3   \n",
       "209  Liveability           Finance    FIN_3   \n",
       "261  Liveability  Profile - people   PROP_4   \n",
       "271  Liveability  Profile - people   PROP_9   \n",
       "\n",
       "                                             indicator period  numerator  \\\n",
       "4    Percentage of persons (city population) in ful...   2014      55359   \n",
       "5                              Youth unemployment rate   2014       1367   \n",
       "12   Debt service ratio (debt service expenditure a...   2014          0   \n",
       "15   Capital spending as a percentage of total expe...   2014   82078000   \n",
       "18         Tax collected as a percentage of tax billed   2014  228981000   \n",
       "30   Percentage of women employed in the city gover...   2014       1019   \n",
       "51   Percentage of population that are adults (25-6...   2014      74084   \n",
       "143  Population dependency ratio (people aged under...   2014         13   \n",
       "146    Percentage of population that are seniors (65+)   2014       8413   \n",
       "202    Percentage of city population living in poverty   2014      11556   \n",
       "209  Own-source revenue as a percentage of total re...   2014  378466000   \n",
       "261  Percentage of population that are youth (15-24...   2014      36701   \n",
       "271  Percentage of population that are children (0-...   2014       8777   \n",
       "\n",
       "     denominator   value  value_type  \\\n",
       "4         127975   43.26  Percentage   \n",
       "5          13048   10.48  Percentage   \n",
       "12     378466000    0.00  Percentage   \n",
       "15     457698000   17.93  Percentage   \n",
       "18     226920000  100.91  Percentage   \n",
       "30          2631   38.73  Percentage   \n",
       "51        127975   57.89  Percentage   \n",
       "143           86   15.52  Percentage   \n",
       "146       127975    6.57  Percentage   \n",
       "202       127975    9.03  Percentage   \n",
       "209    435777000   86.85  Percentage   \n",
       "261       127975   28.68  Percentage   \n",
       "271       127975    6.86  Percentage   \n",
       "\n",
       "                                               sources  \n",
       "4    Geografia, Relative Poverty and Employment Mea...  \n",
       "5    Geografia, Relative Poverty and Employment Mea...  \n",
       "12   1-3. City of Melbourne Annual Report 2017-18; ...  \n",
       "15   1-3. City of Melbourne Annual Report 2017-18; ...  \n",
       "18   1-3. City of Melbourne Annual Report 2017-18; ...  \n",
       "30   1-3. City of Melbourne Annual Report 2017-18; ...  \n",
       "51   1. Australian Bureau of Statistics, 3235.0 Reg...  \n",
       "143  1. Australian Bureau of Statistics, 3235.0 Reg...  \n",
       "146  Australian Bureau of Statistics, Census of Pop...  \n",
       "202  Geografia, Relative Poverty and Employment Mea...  \n",
       "209  1-3. City of Melbourne Annual Report 2017-18; ...  \n",
       "261  Australian Bureau of Statistics, Census of Pop...  \n",
       "271  Australian Bureau of Statistics, Census of Pop...  "
      ]
     },
     "execution_count": 62,
     "metadata": {},
     "output_type": "execute_result"
    }
   ],
   "source": [
    "liveability[liveability['period'] == '2014']"
   ]
  },
  {
   "cell_type": "code",
   "execution_count": 63,
   "metadata": {},
   "outputs": [],
   "source": [
    "liveability_clean = liveability[['period', 'numerator', 'denominator']].groupby('period').sum().reset_index()\n",
    "liveability_clean['percentage'] = ((liveability_clean['numerator'] * 100)/liveability_clean['denominator']).round(2)\n",
    "liveability_clean.rename(columns={'period': 'year'}, inplace=True)"
   ]
  },
  {
   "cell_type": "code",
   "execution_count": 64,
   "metadata": {},
   "outputs": [],
   "source": [
    "liveability_final = liveability_clean[['year', 'percentage']]"
   ]
  },
  {
   "cell_type": "markdown",
   "metadata": {},
   "source": [
    "Note that for this liveability scoring dataset, it doesn't make much sense to add the differing factors to simply calculate a new 'percentage' per year. However, since the goal of this analysis is to see if there a correlation between the 2 datasets, so we ignore this for the sake of simplicity and understanding :)\n",
    "\n",
    "Now we clean up the dataset for rental affordability"
   ]
  },
  {
   "cell_type": "code",
   "execution_count": 65,
   "metadata": {},
   "outputs": [
    {
     "data": {
      "text/html": [
       "<div>\n",
       "<style scoped>\n",
       "    .dataframe tbody tr th:only-of-type {\n",
       "        vertical-align: middle;\n",
       "    }\n",
       "\n",
       "    .dataframe tbody tr th {\n",
       "        vertical-align: top;\n",
       "    }\n",
       "\n",
       "    .dataframe thead th {\n",
       "        text-align: right;\n",
       "    }\n",
       "</style>\n",
       "<table border=\"1\" class=\"dataframe\">\n",
       "  <thead>\n",
       "    <tr style=\"text-align: right;\">\n",
       "      <th></th>\n",
       "      <th>geography_name</th>\n",
       "      <th>rai_cityadjusted_total_2011_q2</th>\n",
       "      <th>rai_cityadjusted_total_2011_q3</th>\n",
       "      <th>rai_cityadjusted_total_2020_q1</th>\n",
       "      <th>rai_cityadjusted_total_2011_q1</th>\n",
       "      <th>state</th>\n",
       "      <th>rai_cityadjusted_total_2020_q3</th>\n",
       "      <th>rai_cityadjusted_total_2019_q4</th>\n",
       "      <th>rai_cityadjusted_total_2020_q2</th>\n",
       "      <th>rai_cityadjusted_total_2011_q4</th>\n",
       "      <th>...</th>\n",
       "      <th>rai_cityadjusted_total_2012_q1</th>\n",
       "      <th>rai_cityadjusted_total_2015_q3</th>\n",
       "      <th>rai_cityadjusted_total_2012_q4</th>\n",
       "      <th>rai_cityadjusted_total_2014_q3</th>\n",
       "      <th>rai_cityadjusted_total_2012_q3</th>\n",
       "      <th>rai_cityadjusted_total_2014_q4</th>\n",
       "      <th>rai_cityadjusted_total_2015_q1</th>\n",
       "      <th>rai_cityadjusted_total_2014_q1</th>\n",
       "      <th>rai_cityadjusted_total_2014_q2</th>\n",
       "      <th>rai_cityadjusted_total_2015_q4</th>\n",
       "    </tr>\n",
       "  </thead>\n",
       "  <tbody>\n",
       "    <tr>\n",
       "      <th>0</th>\n",
       "      <td>3000</td>\n",
       "      <td>98.33916</td>\n",
       "      <td>98.33916</td>\n",
       "      <td>109.61540</td>\n",
       "      <td>93.91771</td>\n",
       "      <td>VIC</td>\n",
       "      <td>144.2308</td>\n",
       "      <td>109.61540</td>\n",
       "      <td>137.0192</td>\n",
       "      <td>100.62610</td>\n",
       "      <td>...</td>\n",
       "      <td>97.23423</td>\n",
       "      <td>102.56410</td>\n",
       "      <td>103.71650</td>\n",
       "      <td>107.33450</td>\n",
       "      <td>96.15385</td>\n",
       "      <td>107.33450</td>\n",
       "      <td>102.79250</td>\n",
       "      <td>102.56410</td>\n",
       "      <td>102.56410</td>\n",
       "      <td>114.04290</td>\n",
       "    </tr>\n",
       "    <tr>\n",
       "      <th>1</th>\n",
       "      <td>3003</td>\n",
       "      <td>97.23423</td>\n",
       "      <td>100.62610</td>\n",
       "      <td>107.46610</td>\n",
       "      <td>88.75740</td>\n",
       "      <td>VIC</td>\n",
       "      <td>144.2308</td>\n",
       "      <td>109.61540</td>\n",
       "      <td>121.7949</td>\n",
       "      <td>81.64006</td>\n",
       "      <td>...</td>\n",
       "      <td>94.06355</td>\n",
       "      <td>103.71650</td>\n",
       "      <td>100.33440</td>\n",
       "      <td>107.33450</td>\n",
       "      <td>90.14423</td>\n",
       "      <td>102.56410</td>\n",
       "      <td>102.56410</td>\n",
       "      <td>113.96010</td>\n",
       "      <td>99.25558</td>\n",
       "      <td>119.60600</td>\n",
       "    </tr>\n",
       "    <tr>\n",
       "      <th>2</th>\n",
       "      <td>3004</td>\n",
       "      <td>89.21491</td>\n",
       "      <td>88.30455</td>\n",
       "      <td>103.41070</td>\n",
       "      <td>84.13462</td>\n",
       "      <td>VIC</td>\n",
       "      <td>130.3781</td>\n",
       "      <td>105.39940</td>\n",
       "      <td>111.8524</td>\n",
       "      <td>99.46950</td>\n",
       "      <td>...</td>\n",
       "      <td>86.53846</td>\n",
       "      <td>96.15385</td>\n",
       "      <td>94.19152</td>\n",
       "      <td>98.19967</td>\n",
       "      <td>90.14423</td>\n",
       "      <td>97.16599</td>\n",
       "      <td>96.15385</td>\n",
       "      <td>102.56410</td>\n",
       "      <td>97.16599</td>\n",
       "      <td>102.16350</td>\n",
       "    </tr>\n",
       "    <tr>\n",
       "      <th>3</th>\n",
       "      <td>3006</td>\n",
       "      <td>81.64006</td>\n",
       "      <td>78.67133</td>\n",
       "      <td>99.65035</td>\n",
       "      <td>77.66272</td>\n",
       "      <td>VIC</td>\n",
       "      <td>144.2308</td>\n",
       "      <td>99.65035</td>\n",
       "      <td>121.7949</td>\n",
       "      <td>83.21006</td>\n",
       "      <td>...</td>\n",
       "      <td>81.64006</td>\n",
       "      <td>87.91209</td>\n",
       "      <td>88.75740</td>\n",
       "      <td>88.75740</td>\n",
       "      <td>81.64006</td>\n",
       "      <td>90.49774</td>\n",
       "      <td>87.08273</td>\n",
       "      <td>90.49774</td>\n",
       "      <td>90.49774</td>\n",
       "      <td>98.07692</td>\n",
       "    </tr>\n",
       "    <tr>\n",
       "      <th>4</th>\n",
       "      <td>3008</td>\n",
       "      <td>77.26648</td>\n",
       "      <td>83.21006</td>\n",
       "      <td>95.31773</td>\n",
       "      <td>74.78632</td>\n",
       "      <td>VIC</td>\n",
       "      <td>135.7466</td>\n",
       "      <td>97.87088</td>\n",
       "      <td>105.3994</td>\n",
       "      <td>79.39308</td>\n",
       "      <td>...</td>\n",
       "      <td>82.41758</td>\n",
       "      <td>90.49774</td>\n",
       "      <td>92.30769</td>\n",
       "      <td>89.61912</td>\n",
       "      <td>88.30455</td>\n",
       "      <td>92.30769</td>\n",
       "      <td>90.49774</td>\n",
       "      <td>93.24009</td>\n",
       "      <td>94.19152</td>\n",
       "      <td>96.15385</td>\n",
       "    </tr>\n",
       "  </tbody>\n",
       "</table>\n",
       "<p>5 rows × 46 columns</p>\n",
       "</div>"
      ],
      "text/plain": [
       "   geography_name  rai_cityadjusted_total_2011_q2  \\\n",
       "0            3000                        98.33916   \n",
       "1            3003                        97.23423   \n",
       "2            3004                        89.21491   \n",
       "3            3006                        81.64006   \n",
       "4            3008                        77.26648   \n",
       "\n",
       "   rai_cityadjusted_total_2011_q3  rai_cityadjusted_total_2020_q1  \\\n",
       "0                        98.33916                       109.61540   \n",
       "1                       100.62610                       107.46610   \n",
       "2                        88.30455                       103.41070   \n",
       "3                        78.67133                        99.65035   \n",
       "4                        83.21006                        95.31773   \n",
       "\n",
       "   rai_cityadjusted_total_2011_q1 state  rai_cityadjusted_total_2020_q3  \\\n",
       "0                        93.91771   VIC                        144.2308   \n",
       "1                        88.75740   VIC                        144.2308   \n",
       "2                        84.13462   VIC                        130.3781   \n",
       "3                        77.66272   VIC                        144.2308   \n",
       "4                        74.78632   VIC                        135.7466   \n",
       "\n",
       "   rai_cityadjusted_total_2019_q4  rai_cityadjusted_total_2020_q2  \\\n",
       "0                       109.61540                        137.0192   \n",
       "1                       109.61540                        121.7949   \n",
       "2                       105.39940                        111.8524   \n",
       "3                        99.65035                        121.7949   \n",
       "4                        97.87088                        105.3994   \n",
       "\n",
       "   rai_cityadjusted_total_2011_q4  ...  rai_cityadjusted_total_2012_q1  \\\n",
       "0                       100.62610  ...                        97.23423   \n",
       "1                        81.64006  ...                        94.06355   \n",
       "2                        99.46950  ...                        86.53846   \n",
       "3                        83.21006  ...                        81.64006   \n",
       "4                        79.39308  ...                        82.41758   \n",
       "\n",
       "  rai_cityadjusted_total_2015_q3  rai_cityadjusted_total_2012_q4  \\\n",
       "0                      102.56410                       103.71650   \n",
       "1                      103.71650                       100.33440   \n",
       "2                       96.15385                        94.19152   \n",
       "3                       87.91209                        88.75740   \n",
       "4                       90.49774                        92.30769   \n",
       "\n",
       "   rai_cityadjusted_total_2014_q3  rai_cityadjusted_total_2012_q3  \\\n",
       "0                       107.33450                        96.15385   \n",
       "1                       107.33450                        90.14423   \n",
       "2                        98.19967                        90.14423   \n",
       "3                        88.75740                        81.64006   \n",
       "4                        89.61912                        88.30455   \n",
       "\n",
       "   rai_cityadjusted_total_2014_q4  rai_cityadjusted_total_2015_q1  \\\n",
       "0                       107.33450                       102.79250   \n",
       "1                       102.56410                       102.56410   \n",
       "2                        97.16599                        96.15385   \n",
       "3                        90.49774                        87.08273   \n",
       "4                        92.30769                        90.49774   \n",
       "\n",
       "   rai_cityadjusted_total_2014_q1  rai_cityadjusted_total_2014_q2  \\\n",
       "0                       102.56410                       102.56410   \n",
       "1                       113.96010                        99.25558   \n",
       "2                       102.56410                        97.16599   \n",
       "3                        90.49774                        90.49774   \n",
       "4                        93.24009                        94.19152   \n",
       "\n",
       "   rai_cityadjusted_total_2015_q4  \n",
       "0                       114.04290  \n",
       "1                       119.60600  \n",
       "2                       102.16350  \n",
       "3                        98.07692  \n",
       "4                        96.15385  \n",
       "\n",
       "[5 rows x 46 columns]"
      ]
     },
     "execution_count": 65,
     "metadata": {},
     "output_type": "execute_result"
    }
   ],
   "source": [
    "rental_affordability"
   ]
  },
  {
   "cell_type": "code",
   "execution_count": 66,
   "metadata": {},
   "outputs": [],
   "source": [
    "# Extract year from column names with year, and extract metadata information \n",
    "year_columns = rental_affordability.columns.str.extract(r'(\\d{4})')[0]\n",
    "\n",
    "# If the above pattern was matched, then it will be the year (e.g. 2012), but if it wasn't matched, then it returns NaN\n",
    "pattern_columns = rental_affordability.columns[year_columns.notna()]\n",
    "metadata_columns = rental_affordability.columns[year_columns.isna()]"
   ]
  },
  {
   "cell_type": "code",
   "execution_count": 67,
   "metadata": {},
   "outputs": [],
   "source": [
    "rental_affordability_clean = pd.DataFrame()\n",
    "unique_years = sorted(year_columns.dropna().unique())\n",
    "\n",
    "for year in unique_years:\n",
    "    # Select columns for the current year\n",
    "    year_cols = rental_affordability.columns[year_columns == year]\n",
    "    # Sum values across these columns\n",
    "    rental_affordability_clean[year] = rental_affordability[year_cols].median(axis=1)"
   ]
  },
  {
   "cell_type": "code",
   "execution_count": 68,
   "metadata": {},
   "outputs": [],
   "source": [
    "rental_years = []\n",
    "\n",
    "for i in range(2011, 2022):\n",
    "    rental_years.append(str(i))"
   ]
  },
  {
   "cell_type": "code",
   "execution_count": 69,
   "metadata": {},
   "outputs": [],
   "source": [
    "rental_affordability_staging = pd.concat([rental_affordability[metadata_columns], rental_affordability_clean], axis=1)\n",
    "rental_affordability_staging = rental_affordability_staging[rental_years]"
   ]
  },
  {
   "cell_type": "code",
   "execution_count": 70,
   "metadata": {},
   "outputs": [],
   "source": [
    "# Since we want to look at all of greater Melbourne, we collapse the dataset and add all the scorings by year\n",
    "year_sums = []\n",
    "\n",
    "for year in rental_years:\n",
    "    year_sums.append(rental_affordability_staging[year].median().round(2))"
   ]
  },
  {
   "cell_type": "code",
   "execution_count": 71,
   "metadata": {},
   "outputs": [],
   "source": [
    "rental_affordability_final = pd.DataFrame()\n",
    "rental_affordability_final['year'] = rental_years\n",
    "rental_affordability_final['rai'] = year_sums"
   ]
  },
  {
   "cell_type": "markdown",
   "metadata": {},
   "source": [
    "Thus, here are the 2 final datasets we will use for our analysis:"
   ]
  },
  {
   "cell_type": "code",
   "execution_count": 72,
   "metadata": {},
   "outputs": [
    {
     "data": {
      "text/html": [
       "<div>\n",
       "<style scoped>\n",
       "    .dataframe tbody tr th:only-of-type {\n",
       "        vertical-align: middle;\n",
       "    }\n",
       "\n",
       "    .dataframe tbody tr th {\n",
       "        vertical-align: top;\n",
       "    }\n",
       "\n",
       "    .dataframe thead th {\n",
       "        text-align: right;\n",
       "    }\n",
       "</style>\n",
       "<table border=\"1\" class=\"dataframe\">\n",
       "  <thead>\n",
       "    <tr style=\"text-align: right;\">\n",
       "      <th></th>\n",
       "      <th>year</th>\n",
       "      <th>percentage</th>\n",
       "    </tr>\n",
       "  </thead>\n",
       "  <tbody>\n",
       "    <tr>\n",
       "      <th>0</th>\n",
       "      <td>2006</td>\n",
       "      <td>51.20</td>\n",
       "    </tr>\n",
       "    <tr>\n",
       "      <th>1</th>\n",
       "      <td>2011</td>\n",
       "      <td>52.91</td>\n",
       "    </tr>\n",
       "    <tr>\n",
       "      <th>2</th>\n",
       "      <td>2012</td>\n",
       "      <td>89.50</td>\n",
       "    </tr>\n",
       "    <tr>\n",
       "      <th>3</th>\n",
       "      <td>2013</td>\n",
       "      <td>9.49</td>\n",
       "    </tr>\n",
       "    <tr>\n",
       "      <th>4</th>\n",
       "      <td>2014</td>\n",
       "      <td>45.99</td>\n",
       "    </tr>\n",
       "    <tr>\n",
       "      <th>5</th>\n",
       "      <td>2015</td>\n",
       "      <td>47.51</td>\n",
       "    </tr>\n",
       "    <tr>\n",
       "      <th>6</th>\n",
       "      <td>2016</td>\n",
       "      <td>48.43</td>\n",
       "    </tr>\n",
       "    <tr>\n",
       "      <th>7</th>\n",
       "      <td>2017</td>\n",
       "      <td>47.85</td>\n",
       "    </tr>\n",
       "    <tr>\n",
       "      <th>8</th>\n",
       "      <td>2018</td>\n",
       "      <td>45.37</td>\n",
       "    </tr>\n",
       "  </tbody>\n",
       "</table>\n",
       "</div>"
      ],
      "text/plain": [
       "   year  percentage\n",
       "0  2006       51.20\n",
       "1  2011       52.91\n",
       "2  2012       89.50\n",
       "3  2013        9.49\n",
       "4  2014       45.99\n",
       "5  2015       47.51\n",
       "6  2016       48.43\n",
       "7  2017       47.85\n",
       "8  2018       45.37"
      ]
     },
     "execution_count": 72,
     "metadata": {},
     "output_type": "execute_result"
    }
   ],
   "source": [
    "liveability_final"
   ]
  },
  {
   "cell_type": "code",
   "execution_count": 73,
   "metadata": {},
   "outputs": [
    {
     "data": {
      "text/html": [
       "<div>\n",
       "<style scoped>\n",
       "    .dataframe tbody tr th:only-of-type {\n",
       "        vertical-align: middle;\n",
       "    }\n",
       "\n",
       "    .dataframe tbody tr th {\n",
       "        vertical-align: top;\n",
       "    }\n",
       "\n",
       "    .dataframe thead th {\n",
       "        text-align: right;\n",
       "    }\n",
       "</style>\n",
       "<table border=\"1\" class=\"dataframe\">\n",
       "  <thead>\n",
       "    <tr style=\"text-align: right;\">\n",
       "      <th></th>\n",
       "      <th>year</th>\n",
       "      <th>rai</th>\n",
       "    </tr>\n",
       "  </thead>\n",
       "  <tbody>\n",
       "    <tr>\n",
       "      <th>0</th>\n",
       "      <td>2011</td>\n",
       "      <td>88.76</td>\n",
       "    </tr>\n",
       "    <tr>\n",
       "      <th>1</th>\n",
       "      <td>2012</td>\n",
       "      <td>89.91</td>\n",
       "    </tr>\n",
       "    <tr>\n",
       "      <th>2</th>\n",
       "      <td>2013</td>\n",
       "      <td>97.18</td>\n",
       "    </tr>\n",
       "    <tr>\n",
       "      <th>3</th>\n",
       "      <td>2014</td>\n",
       "      <td>97.68</td>\n",
       "    </tr>\n",
       "    <tr>\n",
       "      <th>4</th>\n",
       "      <td>2015</td>\n",
       "      <td>96.15</td>\n",
       "    </tr>\n",
       "    <tr>\n",
       "      <th>5</th>\n",
       "      <td>2016</td>\n",
       "      <td>100.59</td>\n",
       "    </tr>\n",
       "    <tr>\n",
       "      <th>6</th>\n",
       "      <td>2017</td>\n",
       "      <td>101.34</td>\n",
       "    </tr>\n",
       "    <tr>\n",
       "      <th>7</th>\n",
       "      <td>2018</td>\n",
       "      <td>100.83</td>\n",
       "    </tr>\n",
       "    <tr>\n",
       "      <th>8</th>\n",
       "      <td>2019</td>\n",
       "      <td>104.62</td>\n",
       "    </tr>\n",
       "    <tr>\n",
       "      <th>9</th>\n",
       "      <td>2020</td>\n",
       "      <td>133.01</td>\n",
       "    </tr>\n",
       "    <tr>\n",
       "      <th>10</th>\n",
       "      <td>2021</td>\n",
       "      <td>144.23</td>\n",
       "    </tr>\n",
       "  </tbody>\n",
       "</table>\n",
       "</div>"
      ],
      "text/plain": [
       "    year     rai\n",
       "0   2011   88.76\n",
       "1   2012   89.91\n",
       "2   2013   97.18\n",
       "3   2014   97.68\n",
       "4   2015   96.15\n",
       "5   2016  100.59\n",
       "6   2017  101.34\n",
       "7   2018  100.83\n",
       "8   2019  104.62\n",
       "9   2020  133.01\n",
       "10  2021  144.23"
      ]
     },
     "execution_count": 73,
     "metadata": {},
     "output_type": "execute_result"
    }
   ],
   "source": [
    "rental_affordability_final"
   ]
  },
  {
   "cell_type": "markdown",
   "metadata": {},
   "source": [
    "## Data modelling\n",
    "\n",
    "For these models, we also take the same approach as the other dataset analysis between building permits and population. \n",
    "\n",
    "Note that the overlap of years will be between 2011 ~ 2018 (inclusive of both ends), and the 2019~2021 data from the rental affordability index can be used to predict what the liveability percentage would've been if we had the data for those years. "
   ]
  },
  {
   "cell_type": "code",
   "execution_count": 74,
   "metadata": {},
   "outputs": [
    {
     "data": {
      "text/html": [
       "<div>\n",
       "<style scoped>\n",
       "    .dataframe tbody tr th:only-of-type {\n",
       "        vertical-align: middle;\n",
       "    }\n",
       "\n",
       "    .dataframe tbody tr th {\n",
       "        vertical-align: top;\n",
       "    }\n",
       "\n",
       "    .dataframe thead th {\n",
       "        text-align: right;\n",
       "    }\n",
       "</style>\n",
       "<table border=\"1\" class=\"dataframe\">\n",
       "  <thead>\n",
       "    <tr style=\"text-align: right;\">\n",
       "      <th></th>\n",
       "      <th>year</th>\n",
       "      <th>percentage</th>\n",
       "      <th>rai</th>\n",
       "    </tr>\n",
       "  </thead>\n",
       "  <tbody>\n",
       "    <tr>\n",
       "      <th>0</th>\n",
       "      <td>2011</td>\n",
       "      <td>52.91</td>\n",
       "      <td>88.76</td>\n",
       "    </tr>\n",
       "    <tr>\n",
       "      <th>1</th>\n",
       "      <td>2012</td>\n",
       "      <td>89.50</td>\n",
       "      <td>89.91</td>\n",
       "    </tr>\n",
       "    <tr>\n",
       "      <th>2</th>\n",
       "      <td>2013</td>\n",
       "      <td>9.49</td>\n",
       "      <td>97.18</td>\n",
       "    </tr>\n",
       "    <tr>\n",
       "      <th>3</th>\n",
       "      <td>2014</td>\n",
       "      <td>45.99</td>\n",
       "      <td>97.68</td>\n",
       "    </tr>\n",
       "    <tr>\n",
       "      <th>4</th>\n",
       "      <td>2015</td>\n",
       "      <td>47.51</td>\n",
       "      <td>96.15</td>\n",
       "    </tr>\n",
       "    <tr>\n",
       "      <th>5</th>\n",
       "      <td>2016</td>\n",
       "      <td>48.43</td>\n",
       "      <td>100.59</td>\n",
       "    </tr>\n",
       "    <tr>\n",
       "      <th>6</th>\n",
       "      <td>2017</td>\n",
       "      <td>47.85</td>\n",
       "      <td>101.34</td>\n",
       "    </tr>\n",
       "    <tr>\n",
       "      <th>7</th>\n",
       "      <td>2018</td>\n",
       "      <td>45.37</td>\n",
       "      <td>100.83</td>\n",
       "    </tr>\n",
       "  </tbody>\n",
       "</table>\n",
       "</div>"
      ],
      "text/plain": [
       "   year  percentage     rai\n",
       "0  2011       52.91   88.76\n",
       "1  2012       89.50   89.91\n",
       "2  2013        9.49   97.18\n",
       "3  2014       45.99   97.68\n",
       "4  2015       47.51   96.15\n",
       "5  2016       48.43  100.59\n",
       "6  2017       47.85  101.34\n",
       "7  2018       45.37  100.83"
      ]
     },
     "execution_count": 74,
     "metadata": {},
     "output_type": "execute_result"
    }
   ],
   "source": [
    "analysis_df = pd.merge(liveability_final, rental_affordability_final, how='inner')\n",
    "analysis_df['year'] = analysis_df['year'].astype(int)\n",
    "analysis_df"
   ]
  },
  {
   "cell_type": "code",
   "execution_count": 75,
   "metadata": {},
   "outputs": [
    {
     "name": "stdout",
     "output_type": "stream",
     "text": [
      "                            OLS Regression Results                            \n",
      "==============================================================================\n",
      "Dep. Variable:             percentage   R-squared:                       0.555\n",
      "Model:                            OLS   Adj. R-squared:                  0.220\n",
      "Method:                 Least Squares   F-statistic:                     1.660\n",
      "Date:                Tue, 21 May 2024   Prob (F-statistic):              0.311\n",
      "Time:                        16:30:43   Log-Likelihood:                -32.132\n",
      "No. Observations:                   8   AIC:                             72.26\n",
      "Df Residuals:                       4   BIC:                             72.58\n",
      "Df Model:                           3                                         \n",
      "Covariance Type:            nonrobust                                         \n",
      "==============================================================================\n",
      "                 coef    std err          t      P>|t|      [0.025      0.975]\n",
      "------------------------------------------------------------------------------\n",
      "Intercept  -4.098e+04   2.12e+05     -0.194      0.856   -6.28e+05    5.46e+05\n",
      "rai          170.7480   2079.251      0.082      0.938   -5602.180    5943.676\n",
      "year          20.7407    105.186      0.197      0.853    -271.301     312.783\n",
      "rai:year      -0.0886      1.034     -0.086      0.936      -2.959       2.782\n",
      "==============================================================================\n",
      "Omnibus:                        3.335   Durbin-Watson:                   3.243\n",
      "Prob(Omnibus):                  0.189   Jarque-Bera (JB):                0.942\n",
      "Skew:                           0.159   Prob(JB):                        0.625\n",
      "Kurtosis:                       1.350   Cond. No.                     6.13e+09\n",
      "==============================================================================\n",
      "\n",
      "Notes:\n",
      "[1] Standard Errors assume that the covariance matrix of the errors is correctly specified.\n",
      "[2] The condition number is large, 6.13e+09. This might indicate that there are\n",
      "strong multicollinearity or other numerical problems.\n"
     ]
    },
    {
     "name": "stderr",
     "output_type": "stream",
     "text": [
      "/opt/homebrew/lib/python3.12/site-packages/scipy/stats/_axis_nan_policy.py:531: UserWarning:\n",
      "\n",
      "kurtosistest only valid for n>=20 ... continuing anyway, n=8\n",
      "\n"
     ]
    }
   ],
   "source": [
    "full_model = ols(\n",
    "    formula='percentage ~ rai + year + rai*year',\n",
    "    data=analysis_df\n",
    ").fit()\n",
    "\n",
    "print(full_model.summary())"
   ]
  },
  {
   "cell_type": "markdown",
   "metadata": {},
   "source": [
    "Appears that all coefficients are not significant? Remove interaction and see which variable between year and rai has more impact on the liveability percentage"
   ]
  },
  {
   "cell_type": "code",
   "execution_count": 79,
   "metadata": {},
   "outputs": [
    {
     "name": "stdout",
     "output_type": "stream",
     "text": [
      "                            OLS Regression Results                            \n",
      "==============================================================================\n",
      "Dep. Variable:             percentage   R-squared:                       0.554\n",
      "Model:                            OLS   Adj. R-squared:                  0.375\n",
      "Method:                 Least Squares   F-statistic:                     3.101\n",
      "Date:                Tue, 21 May 2024   Prob (F-statistic):              0.133\n",
      "Time:                        16:51:13   Log-Likelihood:                -32.140\n",
      "No. Observations:                   8   AIC:                             70.28\n",
      "Df Residuals:                       5   BIC:                             70.52\n",
      "Df Model:                           2                                         \n",
      "Covariance Type:            nonrobust                                         \n",
      "==============================================================================\n",
      "                 coef    std err          t      P>|t|      [0.025      0.975]\n",
      "------------------------------------------------------------------------------\n",
      "Intercept  -2.288e+04   1.22e+04     -1.881      0.119   -5.42e+04    8391.750\n",
      "rai           -7.5100      3.123     -2.405      0.061     -15.537       0.517\n",
      "year          11.7424      6.174      1.902      0.116      -4.129      27.614\n",
      "==============================================================================\n",
      "Omnibus:                        3.064   Durbin-Watson:                   3.226\n",
      "Prob(Omnibus):                  0.216   Jarque-Bera (JB):                0.915\n",
      "Skew:                           0.170   Prob(JB):                        0.633\n",
      "Kurtosis:                       1.379   Cond. No.                     4.08e+06\n",
      "==============================================================================\n",
      "\n",
      "Notes:\n",
      "[1] Standard Errors assume that the covariance matrix of the errors is correctly specified.\n",
      "[2] The condition number is large, 4.08e+06. This might indicate that there are\n",
      "strong multicollinearity or other numerical problems.\n"
     ]
    },
    {
     "name": "stderr",
     "output_type": "stream",
     "text": [
      "/opt/homebrew/lib/python3.12/site-packages/scipy/stats/_axis_nan_policy.py:531: UserWarning:\n",
      "\n",
      "kurtosistest only valid for n>=20 ... continuing anyway, n=8\n",
      "\n"
     ]
    }
   ],
   "source": [
    "nested_model_1 = ols(\n",
    "    formula='percentage ~ rai + year',\n",
    "    data=analysis_df\n",
    ").fit()\n",
    "\n",
    "print(nested_model_1.summary())"
   ]
  },
  {
   "cell_type": "code",
   "execution_count": 77,
   "metadata": {},
   "outputs": [
    {
     "name": "stdout",
     "output_type": "stream",
     "text": [
      "                            OLS Regression Results                            \n",
      "==============================================================================\n",
      "Dep. Variable:             percentage   R-squared:                       0.554\n",
      "Model:                            OLS   Adj. R-squared:                  0.375\n",
      "Method:                 Least Squares   F-statistic:                     3.101\n",
      "Date:                Tue, 21 May 2024   Prob (F-statistic):              0.133\n",
      "Time:                        16:30:43   Log-Likelihood:                -32.140\n",
      "No. Observations:                   8   AIC:                             70.28\n",
      "Df Residuals:                       5   BIC:                             70.52\n",
      "Df Model:                           2                                         \n",
      "Covariance Type:            nonrobust                                         \n",
      "==============================================================================\n",
      "                 coef    std err          t      P>|t|      [0.025      0.975]\n",
      "------------------------------------------------------------------------------\n",
      "Intercept  -2.288e+04   1.22e+04     -1.881      0.119   -5.42e+04    8391.750\n",
      "year          11.7424      6.174      1.902      0.116      -4.129      27.614\n",
      "rai           -7.5100      3.123     -2.405      0.061     -15.537       0.517\n",
      "==============================================================================\n",
      "Omnibus:                        3.064   Durbin-Watson:                   3.226\n",
      "Prob(Omnibus):                  0.216   Jarque-Bera (JB):                0.915\n",
      "Skew:                           0.170   Prob(JB):                        0.633\n",
      "Kurtosis:                       1.379   Cond. No.                     4.08e+06\n",
      "==============================================================================\n",
      "\n",
      "Notes:\n",
      "[1] Standard Errors assume that the covariance matrix of the errors is correctly specified.\n",
      "[2] The condition number is large, 4.08e+06. This might indicate that there are\n",
      "strong multicollinearity or other numerical problems.\n"
     ]
    },
    {
     "name": "stderr",
     "output_type": "stream",
     "text": [
      "/opt/homebrew/lib/python3.12/site-packages/scipy/stats/_axis_nan_policy.py:531: UserWarning:\n",
      "\n",
      "kurtosistest only valid for n>=20 ... continuing anyway, n=8\n",
      "\n"
     ]
    }
   ],
   "source": [
    "nested_model_2 = ols(\n",
    "    formula='percentage ~ year + rai',\n",
    "    data=analysis_df\n",
    ").fit()\n",
    "\n",
    "print(nested_model_2.summary())"
   ]
  },
  {
   "cell_type": "code",
   "execution_count": 80,
   "metadata": {},
   "outputs": [
    {
     "name": "stdout",
     "output_type": "stream",
     "text": [
      "                            OLS Regression Results                            \n",
      "==============================================================================\n",
      "Dep. Variable:             percentage   R-squared:                       0.231\n",
      "Model:                            OLS   Adj. R-squared:                  0.103\n",
      "Method:                 Least Squares   F-statistic:                     1.801\n",
      "Date:                Tue, 21 May 2024   Prob (F-statistic):              0.228\n",
      "Time:                        16:51:32   Log-Likelihood:                -34.317\n",
      "No. Observations:                   8   AIC:                             72.63\n",
      "Df Residuals:                       6   BIC:                             72.79\n",
      "Df Model:                           1                                         \n",
      "Covariance Type:            nonrobust                                         \n",
      "==============================================================================\n",
      "                 coef    std err          t      P>|t|      [0.025      0.975]\n",
      "------------------------------------------------------------------------------\n",
      "Intercept    254.4379    153.731      1.655      0.149    -121.728     630.604\n",
      "rai           -2.1341      1.590     -1.342      0.228      -6.026       1.758\n",
      "==============================================================================\n",
      "Omnibus:                        3.363   Durbin-Watson:                   2.898\n",
      "Prob(Omnibus):                  0.186   Jarque-Bera (JB):                0.798\n",
      "Skew:                          -0.760   Prob(JB):                        0.671\n",
      "Kurtosis:                       3.290   Cond. No.                     2.06e+03\n",
      "==============================================================================\n",
      "\n",
      "Notes:\n",
      "[1] Standard Errors assume that the covariance matrix of the errors is correctly specified.\n",
      "[2] The condition number is large, 2.06e+03. This might indicate that there are\n",
      "strong multicollinearity or other numerical problems.\n"
     ]
    },
    {
     "name": "stderr",
     "output_type": "stream",
     "text": [
      "/opt/homebrew/lib/python3.12/site-packages/scipy/stats/_axis_nan_policy.py:531: UserWarning:\n",
      "\n",
      "kurtosistest only valid for n>=20 ... continuing anyway, n=8\n",
      "\n"
     ]
    }
   ],
   "source": [
    "nested_model_3 = ols(\n",
    "    formula='percentage ~ rai',\n",
    "    data=analysis_df\n",
    ").fit()\n",
    "\n",
    "print(nested_model_3.summary())"
   ]
  },
  {
   "cell_type": "code",
   "execution_count": 78,
   "metadata": {},
   "outputs": [
    {
     "data": {
      "text/plain": [
       "False"
      ]
     },
     "execution_count": 78,
     "metadata": {},
     "output_type": "execute_result"
    }
   ],
   "source": [
    "nested_model_1.aic < nested_model_2.aic"
   ]
  },
  {
   "cell_type": "code",
   "execution_count": 81,
   "metadata": {},
   "outputs": [
    {
     "data": {
      "text/plain": [
       "True"
      ]
     },
     "execution_count": 81,
     "metadata": {},
     "output_type": "execute_result"
    }
   ],
   "source": [
    "nested_model_2.aic < nested_model_3.aic"
   ]
  },
  {
   "cell_type": "markdown",
   "metadata": {},
   "source": [
    "From the above results, we can see that our final simple model should be nested_model_2. "
   ]
  },
  {
   "cell_type": "code",
   "execution_count": 85,
   "metadata": {},
   "outputs": [],
   "source": [
    "predict_df = rental_affordability_final.iloc[8:].astype(int)"
   ]
  },
  {
   "cell_type": "code",
   "execution_count": 87,
   "metadata": {},
   "outputs": [
    {
     "data": {
      "text/html": [
       "<div>\n",
       "<style scoped>\n",
       "    .dataframe tbody tr th:only-of-type {\n",
       "        vertical-align: middle;\n",
       "    }\n",
       "\n",
       "    .dataframe tbody tr th {\n",
       "        vertical-align: top;\n",
       "    }\n",
       "\n",
       "    .dataframe thead th {\n",
       "        text-align: right;\n",
       "    }\n",
       "</style>\n",
       "<table border=\"1\" class=\"dataframe\">\n",
       "  <thead>\n",
       "    <tr style=\"text-align: right;\">\n",
       "      <th></th>\n",
       "      <th>year</th>\n",
       "      <th>rai</th>\n",
       "    </tr>\n",
       "  </thead>\n",
       "  <tbody>\n",
       "    <tr>\n",
       "      <th>8</th>\n",
       "      <td>2019</td>\n",
       "      <td>104</td>\n",
       "    </tr>\n",
       "    <tr>\n",
       "      <th>9</th>\n",
       "      <td>2020</td>\n",
       "      <td>133</td>\n",
       "    </tr>\n",
       "    <tr>\n",
       "      <th>10</th>\n",
       "      <td>2021</td>\n",
       "      <td>144</td>\n",
       "    </tr>\n",
       "  </tbody>\n",
       "</table>\n",
       "</div>"
      ],
      "text/plain": [
       "    year  rai\n",
       "8   2019  104\n",
       "9   2020  133\n",
       "10  2021  144"
      ]
     },
     "execution_count": 87,
     "metadata": {},
     "output_type": "execute_result"
    }
   ],
   "source": [
    "predict_df"
   ]
  },
  {
   "cell_type": "code",
   "execution_count": 92,
   "metadata": {},
   "outputs": [
    {
     "data": {
      "text/plain": [
       "8      45.310173\n",
       "9    -160.736355\n",
       "10   -231.603578\n",
       "dtype: float64"
      ]
     },
     "execution_count": 92,
     "metadata": {},
     "output_type": "execute_result"
    }
   ],
   "source": [
    "nested_model_2.predict(predict_df)"
   ]
  },
  {
   "cell_type": "markdown",
   "metadata": {},
   "source": [
    "## Data visualisation\n",
    "\n",
    "The following section contains code to visualise the data used in this scenario"
   ]
  },
  {
   "cell_type": "code",
   "execution_count": 35,
   "metadata": {},
   "outputs": [],
   "source": [
    "analysis_df['Liveability Percentage'] = analysis_df['percentage']"
   ]
  },
  {
   "cell_type": "code",
   "execution_count": 36,
   "metadata": {},
   "outputs": [
    {
     "data": {
      "application/vnd.plotly.v1+json": {
       "config": {
        "plotlyServerURL": "https://plot.ly"
       },
       "data": [
        {
         "coloraxis": "coloraxis",
         "hovertemplate": "x: %{x}<br>y: %{y}<br>Correlation Coefficient: %{z}<extra></extra>",
         "name": "0",
         "texttemplate": "%{z}",
         "type": "heatmap",
         "x": [
          "Liveability",
          "Rental Affordability Index"
         ],
         "xaxis": "x",
         "y": [
          "Liveability",
          "Rental Affordability Index"
         ],
         "yaxis": "y",
         "z": [
          [
           1,
           -0.4804408705434224
          ],
          [
           -0.4804408705434224,
           1
          ]
         ]
        }
       ],
       "layout": {
        "coloraxis": {
         "colorbar": {
          "title": {
           "text": "Correlation Coefficient"
          }
         },
         "colorscale": [
          [
           0,
           "#0d0887"
          ],
          [
           0.1111111111111111,
           "#46039f"
          ],
          [
           0.2222222222222222,
           "#7201a8"
          ],
          [
           0.3333333333333333,
           "#9c179e"
          ],
          [
           0.4444444444444444,
           "#bd3786"
          ],
          [
           0.5555555555555556,
           "#d8576b"
          ],
          [
           0.6666666666666666,
           "#ed7953"
          ],
          [
           0.7777777777777778,
           "#fb9f3a"
          ],
          [
           0.8888888888888888,
           "#fdca26"
          ],
          [
           1,
           "#f0f921"
          ]
         ]
        },
        "template": {
         "data": {
          "bar": [
           {
            "error_x": {
             "color": "#2a3f5f"
            },
            "error_y": {
             "color": "#2a3f5f"
            },
            "marker": {
             "line": {
              "color": "#E5ECF6",
              "width": 0.5
             },
             "pattern": {
              "fillmode": "overlay",
              "size": 10,
              "solidity": 0.2
             }
            },
            "type": "bar"
           }
          ],
          "barpolar": [
           {
            "marker": {
             "line": {
              "color": "#E5ECF6",
              "width": 0.5
             },
             "pattern": {
              "fillmode": "overlay",
              "size": 10,
              "solidity": 0.2
             }
            },
            "type": "barpolar"
           }
          ],
          "carpet": [
           {
            "aaxis": {
             "endlinecolor": "#2a3f5f",
             "gridcolor": "white",
             "linecolor": "white",
             "minorgridcolor": "white",
             "startlinecolor": "#2a3f5f"
            },
            "baxis": {
             "endlinecolor": "#2a3f5f",
             "gridcolor": "white",
             "linecolor": "white",
             "minorgridcolor": "white",
             "startlinecolor": "#2a3f5f"
            },
            "type": "carpet"
           }
          ],
          "choropleth": [
           {
            "colorbar": {
             "outlinewidth": 0,
             "ticks": ""
            },
            "type": "choropleth"
           }
          ],
          "contour": [
           {
            "colorbar": {
             "outlinewidth": 0,
             "ticks": ""
            },
            "colorscale": [
             [
              0,
              "#0d0887"
             ],
             [
              0.1111111111111111,
              "#46039f"
             ],
             [
              0.2222222222222222,
              "#7201a8"
             ],
             [
              0.3333333333333333,
              "#9c179e"
             ],
             [
              0.4444444444444444,
              "#bd3786"
             ],
             [
              0.5555555555555556,
              "#d8576b"
             ],
             [
              0.6666666666666666,
              "#ed7953"
             ],
             [
              0.7777777777777778,
              "#fb9f3a"
             ],
             [
              0.8888888888888888,
              "#fdca26"
             ],
             [
              1,
              "#f0f921"
             ]
            ],
            "type": "contour"
           }
          ],
          "contourcarpet": [
           {
            "colorbar": {
             "outlinewidth": 0,
             "ticks": ""
            },
            "type": "contourcarpet"
           }
          ],
          "heatmap": [
           {
            "colorbar": {
             "outlinewidth": 0,
             "ticks": ""
            },
            "colorscale": [
             [
              0,
              "#0d0887"
             ],
             [
              0.1111111111111111,
              "#46039f"
             ],
             [
              0.2222222222222222,
              "#7201a8"
             ],
             [
              0.3333333333333333,
              "#9c179e"
             ],
             [
              0.4444444444444444,
              "#bd3786"
             ],
             [
              0.5555555555555556,
              "#d8576b"
             ],
             [
              0.6666666666666666,
              "#ed7953"
             ],
             [
              0.7777777777777778,
              "#fb9f3a"
             ],
             [
              0.8888888888888888,
              "#fdca26"
             ],
             [
              1,
              "#f0f921"
             ]
            ],
            "type": "heatmap"
           }
          ],
          "heatmapgl": [
           {
            "colorbar": {
             "outlinewidth": 0,
             "ticks": ""
            },
            "colorscale": [
             [
              0,
              "#0d0887"
             ],
             [
              0.1111111111111111,
              "#46039f"
             ],
             [
              0.2222222222222222,
              "#7201a8"
             ],
             [
              0.3333333333333333,
              "#9c179e"
             ],
             [
              0.4444444444444444,
              "#bd3786"
             ],
             [
              0.5555555555555556,
              "#d8576b"
             ],
             [
              0.6666666666666666,
              "#ed7953"
             ],
             [
              0.7777777777777778,
              "#fb9f3a"
             ],
             [
              0.8888888888888888,
              "#fdca26"
             ],
             [
              1,
              "#f0f921"
             ]
            ],
            "type": "heatmapgl"
           }
          ],
          "histogram": [
           {
            "marker": {
             "pattern": {
              "fillmode": "overlay",
              "size": 10,
              "solidity": 0.2
             }
            },
            "type": "histogram"
           }
          ],
          "histogram2d": [
           {
            "colorbar": {
             "outlinewidth": 0,
             "ticks": ""
            },
            "colorscale": [
             [
              0,
              "#0d0887"
             ],
             [
              0.1111111111111111,
              "#46039f"
             ],
             [
              0.2222222222222222,
              "#7201a8"
             ],
             [
              0.3333333333333333,
              "#9c179e"
             ],
             [
              0.4444444444444444,
              "#bd3786"
             ],
             [
              0.5555555555555556,
              "#d8576b"
             ],
             [
              0.6666666666666666,
              "#ed7953"
             ],
             [
              0.7777777777777778,
              "#fb9f3a"
             ],
             [
              0.8888888888888888,
              "#fdca26"
             ],
             [
              1,
              "#f0f921"
             ]
            ],
            "type": "histogram2d"
           }
          ],
          "histogram2dcontour": [
           {
            "colorbar": {
             "outlinewidth": 0,
             "ticks": ""
            },
            "colorscale": [
             [
              0,
              "#0d0887"
             ],
             [
              0.1111111111111111,
              "#46039f"
             ],
             [
              0.2222222222222222,
              "#7201a8"
             ],
             [
              0.3333333333333333,
              "#9c179e"
             ],
             [
              0.4444444444444444,
              "#bd3786"
             ],
             [
              0.5555555555555556,
              "#d8576b"
             ],
             [
              0.6666666666666666,
              "#ed7953"
             ],
             [
              0.7777777777777778,
              "#fb9f3a"
             ],
             [
              0.8888888888888888,
              "#fdca26"
             ],
             [
              1,
              "#f0f921"
             ]
            ],
            "type": "histogram2dcontour"
           }
          ],
          "mesh3d": [
           {
            "colorbar": {
             "outlinewidth": 0,
             "ticks": ""
            },
            "type": "mesh3d"
           }
          ],
          "parcoords": [
           {
            "line": {
             "colorbar": {
              "outlinewidth": 0,
              "ticks": ""
             }
            },
            "type": "parcoords"
           }
          ],
          "pie": [
           {
            "automargin": true,
            "type": "pie"
           }
          ],
          "scatter": [
           {
            "fillpattern": {
             "fillmode": "overlay",
             "size": 10,
             "solidity": 0.2
            },
            "type": "scatter"
           }
          ],
          "scatter3d": [
           {
            "line": {
             "colorbar": {
              "outlinewidth": 0,
              "ticks": ""
             }
            },
            "marker": {
             "colorbar": {
              "outlinewidth": 0,
              "ticks": ""
             }
            },
            "type": "scatter3d"
           }
          ],
          "scattercarpet": [
           {
            "marker": {
             "colorbar": {
              "outlinewidth": 0,
              "ticks": ""
             }
            },
            "type": "scattercarpet"
           }
          ],
          "scattergeo": [
           {
            "marker": {
             "colorbar": {
              "outlinewidth": 0,
              "ticks": ""
             }
            },
            "type": "scattergeo"
           }
          ],
          "scattergl": [
           {
            "marker": {
             "colorbar": {
              "outlinewidth": 0,
              "ticks": ""
             }
            },
            "type": "scattergl"
           }
          ],
          "scattermapbox": [
           {
            "marker": {
             "colorbar": {
              "outlinewidth": 0,
              "ticks": ""
             }
            },
            "type": "scattermapbox"
           }
          ],
          "scatterpolar": [
           {
            "marker": {
             "colorbar": {
              "outlinewidth": 0,
              "ticks": ""
             }
            },
            "type": "scatterpolar"
           }
          ],
          "scatterpolargl": [
           {
            "marker": {
             "colorbar": {
              "outlinewidth": 0,
              "ticks": ""
             }
            },
            "type": "scatterpolargl"
           }
          ],
          "scatterternary": [
           {
            "marker": {
             "colorbar": {
              "outlinewidth": 0,
              "ticks": ""
             }
            },
            "type": "scatterternary"
           }
          ],
          "surface": [
           {
            "colorbar": {
             "outlinewidth": 0,
             "ticks": ""
            },
            "colorscale": [
             [
              0,
              "#0d0887"
             ],
             [
              0.1111111111111111,
              "#46039f"
             ],
             [
              0.2222222222222222,
              "#7201a8"
             ],
             [
              0.3333333333333333,
              "#9c179e"
             ],
             [
              0.4444444444444444,
              "#bd3786"
             ],
             [
              0.5555555555555556,
              "#d8576b"
             ],
             [
              0.6666666666666666,
              "#ed7953"
             ],
             [
              0.7777777777777778,
              "#fb9f3a"
             ],
             [
              0.8888888888888888,
              "#fdca26"
             ],
             [
              1,
              "#f0f921"
             ]
            ],
            "type": "surface"
           }
          ],
          "table": [
           {
            "cells": {
             "fill": {
              "color": "#EBF0F8"
             },
             "line": {
              "color": "white"
             }
            },
            "header": {
             "fill": {
              "color": "#C8D4E3"
             },
             "line": {
              "color": "white"
             }
            },
            "type": "table"
           }
          ]
         },
         "layout": {
          "annotationdefaults": {
           "arrowcolor": "#2a3f5f",
           "arrowhead": 0,
           "arrowwidth": 1
          },
          "autotypenumbers": "strict",
          "coloraxis": {
           "colorbar": {
            "outlinewidth": 0,
            "ticks": ""
           }
          },
          "colorscale": {
           "diverging": [
            [
             0,
             "#8e0152"
            ],
            [
             0.1,
             "#c51b7d"
            ],
            [
             0.2,
             "#de77ae"
            ],
            [
             0.3,
             "#f1b6da"
            ],
            [
             0.4,
             "#fde0ef"
            ],
            [
             0.5,
             "#f7f7f7"
            ],
            [
             0.6,
             "#e6f5d0"
            ],
            [
             0.7,
             "#b8e186"
            ],
            [
             0.8,
             "#7fbc41"
            ],
            [
             0.9,
             "#4d9221"
            ],
            [
             1,
             "#276419"
            ]
           ],
           "sequential": [
            [
             0,
             "#0d0887"
            ],
            [
             0.1111111111111111,
             "#46039f"
            ],
            [
             0.2222222222222222,
             "#7201a8"
            ],
            [
             0.3333333333333333,
             "#9c179e"
            ],
            [
             0.4444444444444444,
             "#bd3786"
            ],
            [
             0.5555555555555556,
             "#d8576b"
            ],
            [
             0.6666666666666666,
             "#ed7953"
            ],
            [
             0.7777777777777778,
             "#fb9f3a"
            ],
            [
             0.8888888888888888,
             "#fdca26"
            ],
            [
             1,
             "#f0f921"
            ]
           ],
           "sequentialminus": [
            [
             0,
             "#0d0887"
            ],
            [
             0.1111111111111111,
             "#46039f"
            ],
            [
             0.2222222222222222,
             "#7201a8"
            ],
            [
             0.3333333333333333,
             "#9c179e"
            ],
            [
             0.4444444444444444,
             "#bd3786"
            ],
            [
             0.5555555555555556,
             "#d8576b"
            ],
            [
             0.6666666666666666,
             "#ed7953"
            ],
            [
             0.7777777777777778,
             "#fb9f3a"
            ],
            [
             0.8888888888888888,
             "#fdca26"
            ],
            [
             1,
             "#f0f921"
            ]
           ]
          },
          "colorway": [
           "#636efa",
           "#EF553B",
           "#00cc96",
           "#ab63fa",
           "#FFA15A",
           "#19d3f3",
           "#FF6692",
           "#B6E880",
           "#FF97FF",
           "#FECB52"
          ],
          "font": {
           "color": "#2a3f5f"
          },
          "geo": {
           "bgcolor": "white",
           "lakecolor": "white",
           "landcolor": "#E5ECF6",
           "showlakes": true,
           "showland": true,
           "subunitcolor": "white"
          },
          "hoverlabel": {
           "align": "left"
          },
          "hovermode": "closest",
          "mapbox": {
           "style": "light"
          },
          "paper_bgcolor": "white",
          "plot_bgcolor": "#E5ECF6",
          "polar": {
           "angularaxis": {
            "gridcolor": "white",
            "linecolor": "white",
            "ticks": ""
           },
           "bgcolor": "#E5ECF6",
           "radialaxis": {
            "gridcolor": "white",
            "linecolor": "white",
            "ticks": ""
           }
          },
          "scene": {
           "xaxis": {
            "backgroundcolor": "#E5ECF6",
            "gridcolor": "white",
            "gridwidth": 2,
            "linecolor": "white",
            "showbackground": true,
            "ticks": "",
            "zerolinecolor": "white"
           },
           "yaxis": {
            "backgroundcolor": "#E5ECF6",
            "gridcolor": "white",
            "gridwidth": 2,
            "linecolor": "white",
            "showbackground": true,
            "ticks": "",
            "zerolinecolor": "white"
           },
           "zaxis": {
            "backgroundcolor": "#E5ECF6",
            "gridcolor": "white",
            "gridwidth": 2,
            "linecolor": "white",
            "showbackground": true,
            "ticks": "",
            "zerolinecolor": "white"
           }
          },
          "shapedefaults": {
           "line": {
            "color": "#2a3f5f"
           }
          },
          "ternary": {
           "aaxis": {
            "gridcolor": "white",
            "linecolor": "white",
            "ticks": ""
           },
           "baxis": {
            "gridcolor": "white",
            "linecolor": "white",
            "ticks": ""
           },
           "bgcolor": "#E5ECF6",
           "caxis": {
            "gridcolor": "white",
            "linecolor": "white",
            "ticks": ""
           }
          },
          "title": {
           "x": 0.05
          },
          "xaxis": {
           "automargin": true,
           "gridcolor": "white",
           "linecolor": "white",
           "ticks": "",
           "title": {
            "standoff": 15
           },
           "zerolinecolor": "white",
           "zerolinewidth": 2
          },
          "yaxis": {
           "automargin": true,
           "gridcolor": "white",
           "linecolor": "white",
           "ticks": "",
           "title": {
            "standoff": 15
           },
           "zerolinecolor": "white",
           "zerolinewidth": 2
          }
         }
        },
        "title": {
         "text": "Heatmap of Correlation Between Liveability and Rental Affordability"
        },
        "xaxis": {
         "anchor": "y",
         "domain": [
          0,
          1
         ],
         "side": "top"
        },
        "yaxis": {
         "anchor": "x",
         "autorange": "reversed",
         "domain": [
          0,
          1
         ]
        }
       }
      }
     },
     "metadata": {},
     "output_type": "display_data"
    }
   ],
   "source": [
    "# Calculate Correlation Matrix\n",
    "corr_matrix = analysis_df[['percentage', 'rai']].corr()\n",
    "\n",
    "# Heatmap Visualization of Correlation\n",
    "fig1 = px.imshow(corr_matrix, text_auto=True, aspect=\"auto\", labels=dict(color=\"Correlation Coefficient\"),\n",
    "                 x=['Liveability', 'Rental Affordability Index'],\n",
    "                 y=['Liveability', 'Rental Affordability Index'],\n",
    "                 title='Heatmap of Correlation Between Liveability and Rental Affordability')\n",
    "fig1.update_xaxes(side=\"top\")"
   ]
  },
  {
   "cell_type": "code",
   "execution_count": 37,
   "metadata": {},
   "outputs": [
    {
     "data": {
      "application/vnd.plotly.v1+json": {
       "config": {
        "plotlyServerURL": "https://plot.ly"
       },
       "data": [
        {
         "hovertemplate": "Year=%{x}<br>Liveability Percentage=%{y}<extra></extra>",
         "legendgroup": "",
         "line": {
          "color": "#636efa",
          "dash": "solid"
         },
         "marker": {
          "symbol": "circle"
         },
         "mode": "lines+markers",
         "name": "",
         "orientation": "v",
         "showlegend": false,
         "type": "scatter",
         "x": [
          2011,
          2012,
          2013,
          2014,
          2015,
          2016,
          2017,
          2018
         ],
         "xaxis": "x",
         "y": [
          52.91,
          89.5,
          9.49,
          45.99,
          47.51,
          48.43,
          47.85,
          45.37
         ],
         "yaxis": "y"
        }
       ],
       "layout": {
        "legend": {
         "tracegroupgap": 0
        },
        "plot_bgcolor": "white",
        "template": {
         "data": {
          "bar": [
           {
            "error_x": {
             "color": "#2a3f5f"
            },
            "error_y": {
             "color": "#2a3f5f"
            },
            "marker": {
             "line": {
              "color": "#E5ECF6",
              "width": 0.5
             },
             "pattern": {
              "fillmode": "overlay",
              "size": 10,
              "solidity": 0.2
             }
            },
            "type": "bar"
           }
          ],
          "barpolar": [
           {
            "marker": {
             "line": {
              "color": "#E5ECF6",
              "width": 0.5
             },
             "pattern": {
              "fillmode": "overlay",
              "size": 10,
              "solidity": 0.2
             }
            },
            "type": "barpolar"
           }
          ],
          "carpet": [
           {
            "aaxis": {
             "endlinecolor": "#2a3f5f",
             "gridcolor": "white",
             "linecolor": "white",
             "minorgridcolor": "white",
             "startlinecolor": "#2a3f5f"
            },
            "baxis": {
             "endlinecolor": "#2a3f5f",
             "gridcolor": "white",
             "linecolor": "white",
             "minorgridcolor": "white",
             "startlinecolor": "#2a3f5f"
            },
            "type": "carpet"
           }
          ],
          "choropleth": [
           {
            "colorbar": {
             "outlinewidth": 0,
             "ticks": ""
            },
            "type": "choropleth"
           }
          ],
          "contour": [
           {
            "colorbar": {
             "outlinewidth": 0,
             "ticks": ""
            },
            "colorscale": [
             [
              0,
              "#0d0887"
             ],
             [
              0.1111111111111111,
              "#46039f"
             ],
             [
              0.2222222222222222,
              "#7201a8"
             ],
             [
              0.3333333333333333,
              "#9c179e"
             ],
             [
              0.4444444444444444,
              "#bd3786"
             ],
             [
              0.5555555555555556,
              "#d8576b"
             ],
             [
              0.6666666666666666,
              "#ed7953"
             ],
             [
              0.7777777777777778,
              "#fb9f3a"
             ],
             [
              0.8888888888888888,
              "#fdca26"
             ],
             [
              1,
              "#f0f921"
             ]
            ],
            "type": "contour"
           }
          ],
          "contourcarpet": [
           {
            "colorbar": {
             "outlinewidth": 0,
             "ticks": ""
            },
            "type": "contourcarpet"
           }
          ],
          "heatmap": [
           {
            "colorbar": {
             "outlinewidth": 0,
             "ticks": ""
            },
            "colorscale": [
             [
              0,
              "#0d0887"
             ],
             [
              0.1111111111111111,
              "#46039f"
             ],
             [
              0.2222222222222222,
              "#7201a8"
             ],
             [
              0.3333333333333333,
              "#9c179e"
             ],
             [
              0.4444444444444444,
              "#bd3786"
             ],
             [
              0.5555555555555556,
              "#d8576b"
             ],
             [
              0.6666666666666666,
              "#ed7953"
             ],
             [
              0.7777777777777778,
              "#fb9f3a"
             ],
             [
              0.8888888888888888,
              "#fdca26"
             ],
             [
              1,
              "#f0f921"
             ]
            ],
            "type": "heatmap"
           }
          ],
          "heatmapgl": [
           {
            "colorbar": {
             "outlinewidth": 0,
             "ticks": ""
            },
            "colorscale": [
             [
              0,
              "#0d0887"
             ],
             [
              0.1111111111111111,
              "#46039f"
             ],
             [
              0.2222222222222222,
              "#7201a8"
             ],
             [
              0.3333333333333333,
              "#9c179e"
             ],
             [
              0.4444444444444444,
              "#bd3786"
             ],
             [
              0.5555555555555556,
              "#d8576b"
             ],
             [
              0.6666666666666666,
              "#ed7953"
             ],
             [
              0.7777777777777778,
              "#fb9f3a"
             ],
             [
              0.8888888888888888,
              "#fdca26"
             ],
             [
              1,
              "#f0f921"
             ]
            ],
            "type": "heatmapgl"
           }
          ],
          "histogram": [
           {
            "marker": {
             "pattern": {
              "fillmode": "overlay",
              "size": 10,
              "solidity": 0.2
             }
            },
            "type": "histogram"
           }
          ],
          "histogram2d": [
           {
            "colorbar": {
             "outlinewidth": 0,
             "ticks": ""
            },
            "colorscale": [
             [
              0,
              "#0d0887"
             ],
             [
              0.1111111111111111,
              "#46039f"
             ],
             [
              0.2222222222222222,
              "#7201a8"
             ],
             [
              0.3333333333333333,
              "#9c179e"
             ],
             [
              0.4444444444444444,
              "#bd3786"
             ],
             [
              0.5555555555555556,
              "#d8576b"
             ],
             [
              0.6666666666666666,
              "#ed7953"
             ],
             [
              0.7777777777777778,
              "#fb9f3a"
             ],
             [
              0.8888888888888888,
              "#fdca26"
             ],
             [
              1,
              "#f0f921"
             ]
            ],
            "type": "histogram2d"
           }
          ],
          "histogram2dcontour": [
           {
            "colorbar": {
             "outlinewidth": 0,
             "ticks": ""
            },
            "colorscale": [
             [
              0,
              "#0d0887"
             ],
             [
              0.1111111111111111,
              "#46039f"
             ],
             [
              0.2222222222222222,
              "#7201a8"
             ],
             [
              0.3333333333333333,
              "#9c179e"
             ],
             [
              0.4444444444444444,
              "#bd3786"
             ],
             [
              0.5555555555555556,
              "#d8576b"
             ],
             [
              0.6666666666666666,
              "#ed7953"
             ],
             [
              0.7777777777777778,
              "#fb9f3a"
             ],
             [
              0.8888888888888888,
              "#fdca26"
             ],
             [
              1,
              "#f0f921"
             ]
            ],
            "type": "histogram2dcontour"
           }
          ],
          "mesh3d": [
           {
            "colorbar": {
             "outlinewidth": 0,
             "ticks": ""
            },
            "type": "mesh3d"
           }
          ],
          "parcoords": [
           {
            "line": {
             "colorbar": {
              "outlinewidth": 0,
              "ticks": ""
             }
            },
            "type": "parcoords"
           }
          ],
          "pie": [
           {
            "automargin": true,
            "type": "pie"
           }
          ],
          "scatter": [
           {
            "fillpattern": {
             "fillmode": "overlay",
             "size": 10,
             "solidity": 0.2
            },
            "type": "scatter"
           }
          ],
          "scatter3d": [
           {
            "line": {
             "colorbar": {
              "outlinewidth": 0,
              "ticks": ""
             }
            },
            "marker": {
             "colorbar": {
              "outlinewidth": 0,
              "ticks": ""
             }
            },
            "type": "scatter3d"
           }
          ],
          "scattercarpet": [
           {
            "marker": {
             "colorbar": {
              "outlinewidth": 0,
              "ticks": ""
             }
            },
            "type": "scattercarpet"
           }
          ],
          "scattergeo": [
           {
            "marker": {
             "colorbar": {
              "outlinewidth": 0,
              "ticks": ""
             }
            },
            "type": "scattergeo"
           }
          ],
          "scattergl": [
           {
            "marker": {
             "colorbar": {
              "outlinewidth": 0,
              "ticks": ""
             }
            },
            "type": "scattergl"
           }
          ],
          "scattermapbox": [
           {
            "marker": {
             "colorbar": {
              "outlinewidth": 0,
              "ticks": ""
             }
            },
            "type": "scattermapbox"
           }
          ],
          "scatterpolar": [
           {
            "marker": {
             "colorbar": {
              "outlinewidth": 0,
              "ticks": ""
             }
            },
            "type": "scatterpolar"
           }
          ],
          "scatterpolargl": [
           {
            "marker": {
             "colorbar": {
              "outlinewidth": 0,
              "ticks": ""
             }
            },
            "type": "scatterpolargl"
           }
          ],
          "scatterternary": [
           {
            "marker": {
             "colorbar": {
              "outlinewidth": 0,
              "ticks": ""
             }
            },
            "type": "scatterternary"
           }
          ],
          "surface": [
           {
            "colorbar": {
             "outlinewidth": 0,
             "ticks": ""
            },
            "colorscale": [
             [
              0,
              "#0d0887"
             ],
             [
              0.1111111111111111,
              "#46039f"
             ],
             [
              0.2222222222222222,
              "#7201a8"
             ],
             [
              0.3333333333333333,
              "#9c179e"
             ],
             [
              0.4444444444444444,
              "#bd3786"
             ],
             [
              0.5555555555555556,
              "#d8576b"
             ],
             [
              0.6666666666666666,
              "#ed7953"
             ],
             [
              0.7777777777777778,
              "#fb9f3a"
             ],
             [
              0.8888888888888888,
              "#fdca26"
             ],
             [
              1,
              "#f0f921"
             ]
            ],
            "type": "surface"
           }
          ],
          "table": [
           {
            "cells": {
             "fill": {
              "color": "#EBF0F8"
             },
             "line": {
              "color": "white"
             }
            },
            "header": {
             "fill": {
              "color": "#C8D4E3"
             },
             "line": {
              "color": "white"
             }
            },
            "type": "table"
           }
          ]
         },
         "layout": {
          "annotationdefaults": {
           "arrowcolor": "#2a3f5f",
           "arrowhead": 0,
           "arrowwidth": 1
          },
          "autotypenumbers": "strict",
          "coloraxis": {
           "colorbar": {
            "outlinewidth": 0,
            "ticks": ""
           }
          },
          "colorscale": {
           "diverging": [
            [
             0,
             "#8e0152"
            ],
            [
             0.1,
             "#c51b7d"
            ],
            [
             0.2,
             "#de77ae"
            ],
            [
             0.3,
             "#f1b6da"
            ],
            [
             0.4,
             "#fde0ef"
            ],
            [
             0.5,
             "#f7f7f7"
            ],
            [
             0.6,
             "#e6f5d0"
            ],
            [
             0.7,
             "#b8e186"
            ],
            [
             0.8,
             "#7fbc41"
            ],
            [
             0.9,
             "#4d9221"
            ],
            [
             1,
             "#276419"
            ]
           ],
           "sequential": [
            [
             0,
             "#0d0887"
            ],
            [
             0.1111111111111111,
             "#46039f"
            ],
            [
             0.2222222222222222,
             "#7201a8"
            ],
            [
             0.3333333333333333,
             "#9c179e"
            ],
            [
             0.4444444444444444,
             "#bd3786"
            ],
            [
             0.5555555555555556,
             "#d8576b"
            ],
            [
             0.6666666666666666,
             "#ed7953"
            ],
            [
             0.7777777777777778,
             "#fb9f3a"
            ],
            [
             0.8888888888888888,
             "#fdca26"
            ],
            [
             1,
             "#f0f921"
            ]
           ],
           "sequentialminus": [
            [
             0,
             "#0d0887"
            ],
            [
             0.1111111111111111,
             "#46039f"
            ],
            [
             0.2222222222222222,
             "#7201a8"
            ],
            [
             0.3333333333333333,
             "#9c179e"
            ],
            [
             0.4444444444444444,
             "#bd3786"
            ],
            [
             0.5555555555555556,
             "#d8576b"
            ],
            [
             0.6666666666666666,
             "#ed7953"
            ],
            [
             0.7777777777777778,
             "#fb9f3a"
            ],
            [
             0.8888888888888888,
             "#fdca26"
            ],
            [
             1,
             "#f0f921"
            ]
           ]
          },
          "colorway": [
           "#636efa",
           "#EF553B",
           "#00cc96",
           "#ab63fa",
           "#FFA15A",
           "#19d3f3",
           "#FF6692",
           "#B6E880",
           "#FF97FF",
           "#FECB52"
          ],
          "font": {
           "color": "#2a3f5f"
          },
          "geo": {
           "bgcolor": "white",
           "lakecolor": "white",
           "landcolor": "#E5ECF6",
           "showlakes": true,
           "showland": true,
           "subunitcolor": "white"
          },
          "hoverlabel": {
           "align": "left"
          },
          "hovermode": "closest",
          "mapbox": {
           "style": "light"
          },
          "paper_bgcolor": "white",
          "plot_bgcolor": "#E5ECF6",
          "polar": {
           "angularaxis": {
            "gridcolor": "white",
            "linecolor": "white",
            "ticks": ""
           },
           "bgcolor": "#E5ECF6",
           "radialaxis": {
            "gridcolor": "white",
            "linecolor": "white",
            "ticks": ""
           }
          },
          "scene": {
           "xaxis": {
            "backgroundcolor": "#E5ECF6",
            "gridcolor": "white",
            "gridwidth": 2,
            "linecolor": "white",
            "showbackground": true,
            "ticks": "",
            "zerolinecolor": "white"
           },
           "yaxis": {
            "backgroundcolor": "#E5ECF6",
            "gridcolor": "white",
            "gridwidth": 2,
            "linecolor": "white",
            "showbackground": true,
            "ticks": "",
            "zerolinecolor": "white"
           },
           "zaxis": {
            "backgroundcolor": "#E5ECF6",
            "gridcolor": "white",
            "gridwidth": 2,
            "linecolor": "white",
            "showbackground": true,
            "ticks": "",
            "zerolinecolor": "white"
           }
          },
          "shapedefaults": {
           "line": {
            "color": "#2a3f5f"
           }
          },
          "ternary": {
           "aaxis": {
            "gridcolor": "white",
            "linecolor": "white",
            "ticks": ""
           },
           "baxis": {
            "gridcolor": "white",
            "linecolor": "white",
            "ticks": ""
           },
           "bgcolor": "#E5ECF6",
           "caxis": {
            "gridcolor": "white",
            "linecolor": "white",
            "ticks": ""
           }
          },
          "title": {
           "x": 0.05
          },
          "xaxis": {
           "automargin": true,
           "gridcolor": "white",
           "linecolor": "white",
           "ticks": "",
           "title": {
            "standoff": 15
           },
           "zerolinecolor": "white",
           "zerolinewidth": 2
          },
          "yaxis": {
           "automargin": true,
           "gridcolor": "white",
           "linecolor": "white",
           "ticks": "",
           "title": {
            "standoff": 15
           },
           "zerolinecolor": "white",
           "zerolinewidth": 2
          }
         }
        },
        "title": {
         "text": "Liveability Score Over the Years"
        },
        "xaxis": {
         "anchor": "y",
         "domain": [
          0,
          1
         ],
         "linecolor": "black",
         "showgrid": false,
         "showline": true,
         "title": {
          "text": "Year"
         }
        },
        "yaxis": {
         "anchor": "x",
         "domain": [
          0,
          1
         ],
         "gridcolor": "grey",
         "showgrid": true,
         "title": {
          "text": "Liveability Percentage"
         }
        }
       }
      }
     },
     "metadata": {},
     "output_type": "display_data"
    }
   ],
   "source": [
    "# Trend Visualization of Rental Affordability Index Over the Years\n",
    "fig2 = px.line(analysis_df, x='year', y='Liveability Percentage', markers=True, title='Liveability Score Over the Years', labels={'precentage': 'Liveability Percentage', 'year': 'Year'})\n",
    "fig2.update_layout(plot_bgcolor='white', xaxis=dict(showline=True, showgrid=False, linecolor='black'), yaxis=dict(showgrid=True, gridcolor='grey'))"
   ]
  }
 ],
 "metadata": {
  "kernelspec": {
   "display_name": "Python 3",
   "language": "python",
   "name": "python3"
  },
  "language_info": {
   "codemirror_mode": {
    "name": "ipython",
    "version": 3
   },
   "file_extension": ".py",
   "mimetype": "text/x-python",
   "name": "python",
   "nbconvert_exporter": "python",
   "pygments_lexer": "ipython3",
   "version": "3.12.3"
  }
 },
 "nbformat": 4,
 "nbformat_minor": 2
}

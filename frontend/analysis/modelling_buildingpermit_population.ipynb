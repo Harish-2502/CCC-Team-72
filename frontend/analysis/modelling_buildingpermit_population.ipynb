{
 "cells": [
  {
   "cell_type": "markdown",
   "metadata": {},
   "source": [
    "# This notebook is simply used for modelling data\n",
    "\n",
    "For the sake of simplicty, this notebook contains the following\n",
    "- Processing of necessary data\n",
    "- Using the given data to create a simple linear regression model for prediction"
   ]
  },
  {
   "cell_type": "code",
   "execution_count": 49,
   "metadata": {},
   "outputs": [],
   "source": [
    "# Load libraries\n",
    "import pandas as pd\n",
    "import numpy as np\n",
    "import seaborn as sns\n",
    "import matplotlib.pyplot as plt\n",
    "from statsmodels.formula.api import ols\n",
    "from statsmodels.stats.api import anova_lm\n",
    "import plotly.graph_objs as go\n",
    "from plotly.subplots import make_subplots\n",
    "import matplotlib.pyplot as plt\n",
    "import seaborn as sns\n",
    "from elasticsearch import Elasticsearch\n",
    "import plotly.express as px\n"
   ]
  },
  {
   "cell_type": "markdown",
   "metadata": {},
   "source": [
    "## Data processing\n",
    "\n",
    "The below data will be used for this model:\n",
    "\n",
    "### Response variable: Regional population dataset\n",
    "\n",
    "- This dataset contains the population related information in Victoria, ranging from births, deaths to migration.\n",
    "- The key feature that we're interested in is the erp_YYYY column, which holds the estimated regional population for Melbourne\n",
    "\n"
   ]
  },
  {
   "cell_type": "code",
   "execution_count": null,
   "metadata": {},
   "outputs": [],
   "source": [
    "\n",
    "INDEX_NAME = \"abs-regional_population_lga_2001-2021\"\n",
    "\n",
    "es_client = Elasticsearch (\n",
    "        'https://localhost:9200',\n",
    "        verify_certs= False,\n",
    "        ssl_show_warn= False,\n",
    "        basic_auth=('elastic', 'elastic')\n",
    "    )\n",
    "es_client.indices.refresh(index=INDEX_NAME)\n",
    "result = es_client.search(index=INDEX_NAME, body = {\n",
    "'size' : 1000,\n",
    "'query': {\n",
    "    'match_all' : {}\n",
    "}\n",
    "})\n",
    "\n",
    "\n",
    "es_data = []\n",
    "for doc in result['hits']['hits']:\n",
    "    es_data.append(doc['_source'])\n",
    "response = pd.DataFrame(es_data)\n",
    "\n",
    "\n"
   ]
  },
  {
   "cell_type": "code",
   "execution_count": 4,
   "metadata": {},
   "outputs": [
    {
     "data": {
      "text/html": [
       "<div>\n",
       "<style scoped>\n",
       "    .dataframe tbody tr th:only-of-type {\n",
       "        vertical-align: middle;\n",
       "    }\n",
       "\n",
       "    .dataframe tbody tr th {\n",
       "        vertical-align: top;\n",
       "    }\n",
       "\n",
       "    .dataframe thead th {\n",
       "        text-align: right;\n",
       "    }\n",
       "</style>\n",
       "<table border=\"1\" class=\"dataframe\">\n",
       "  <thead>\n",
       "    <tr style=\"text-align: right;\">\n",
       "      <th></th>\n",
       "      <th>births_2017_18</th>\n",
       "      <th>natural_increase_2020_21</th>\n",
       "      <th>births_2020_21</th>\n",
       "      <th>births_2016_17</th>\n",
       "      <th>state_name_2021</th>\n",
       "      <th>net_internal_migration_2019_20</th>\n",
       "      <th>deaths_2018_19</th>\n",
       "      <th>internal_departures_2018_19</th>\n",
       "      <th>natural_increase_2018_19</th>\n",
       "      <th>overseas_departures_2018_19</th>\n",
       "      <th>...</th>\n",
       "      <th>erp_2001</th>\n",
       "      <th>erp_2003</th>\n",
       "      <th>erp_2002</th>\n",
       "      <th>erp_2005</th>\n",
       "      <th>erp_2004</th>\n",
       "      <th>internal_arrivals_2020_21</th>\n",
       "      <th>internal_arrivals_2018_19</th>\n",
       "      <th>net_overseas_migration_2017_18</th>\n",
       "      <th>natural_increase_2019_20</th>\n",
       "      <th>births_2018_19</th>\n",
       "    </tr>\n",
       "  </thead>\n",
       "  <tbody>\n",
       "    <tr>\n",
       "      <th>0</th>\n",
       "      <td>1414</td>\n",
       "      <td>210</td>\n",
       "      <td>1200</td>\n",
       "      <td>1529</td>\n",
       "      <td>Victoria</td>\n",
       "      <td>-2134</td>\n",
       "      <td>1050</td>\n",
       "      <td>13913</td>\n",
       "      <td>351</td>\n",
       "      <td>4399</td>\n",
       "      <td>...</td>\n",
       "      <td>156246</td>\n",
       "      <td>157298</td>\n",
       "      <td>156886</td>\n",
       "      <td>158727</td>\n",
       "      <td>157885</td>\n",
       "      <td>12782</td>\n",
       "      <td>12966</td>\n",
       "      <td>2471</td>\n",
       "      <td>229</td>\n",
       "      <td>1401</td>\n",
       "    </tr>\n",
       "    <tr>\n",
       "      <th>1</th>\n",
       "      <td>1673</td>\n",
       "      <td>642</td>\n",
       "      <td>1568</td>\n",
       "      <td>1852</td>\n",
       "      <td>Victoria</td>\n",
       "      <td>-977</td>\n",
       "      <td>935</td>\n",
       "      <td>12156</td>\n",
       "      <td>723</td>\n",
       "      <td>3133</td>\n",
       "      <td>...</td>\n",
       "      <td>122346</td>\n",
       "      <td>123816</td>\n",
       "      <td>123197</td>\n",
       "      <td>126485</td>\n",
       "      <td>125037</td>\n",
       "      <td>11915</td>\n",
       "      <td>11285</td>\n",
       "      <td>2849</td>\n",
       "      <td>671</td>\n",
       "      <td>1658</td>\n",
       "    </tr>\n",
       "    <tr>\n",
       "      <th>2</th>\n",
       "      <td>1421</td>\n",
       "      <td>381</td>\n",
       "      <td>1196</td>\n",
       "      <td>1479</td>\n",
       "      <td>Victoria</td>\n",
       "      <td>-427</td>\n",
       "      <td>761</td>\n",
       "      <td>9636</td>\n",
       "      <td>614</td>\n",
       "      <td>1360</td>\n",
       "      <td>...</td>\n",
       "      <td>104793</td>\n",
       "      <td>104629</td>\n",
       "      <td>104856</td>\n",
       "      <td>105059</td>\n",
       "      <td>104632</td>\n",
       "      <td>9278</td>\n",
       "      <td>9667</td>\n",
       "      <td>1782</td>\n",
       "      <td>561</td>\n",
       "      <td>1375</td>\n",
       "    </tr>\n",
       "    <tr>\n",
       "      <th>3</th>\n",
       "      <td>2562</td>\n",
       "      <td>1016</td>\n",
       "      <td>2184</td>\n",
       "      <td>2505</td>\n",
       "      <td>Victoria</td>\n",
       "      <td>-1009</td>\n",
       "      <td>1132</td>\n",
       "      <td>15747</td>\n",
       "      <td>1363</td>\n",
       "      <td>3129</td>\n",
       "      <td>...</td>\n",
       "      <td>135540</td>\n",
       "      <td>136630</td>\n",
       "      <td>136156</td>\n",
       "      <td>138963</td>\n",
       "      <td>137642</td>\n",
       "      <td>15245</td>\n",
       "      <td>14822</td>\n",
       "      <td>3616</td>\n",
       "      <td>1309</td>\n",
       "      <td>2495</td>\n",
       "    </tr>\n",
       "    <tr>\n",
       "      <th>4</th>\n",
       "      <td>1313</td>\n",
       "      <td>594</td>\n",
       "      <td>1069</td>\n",
       "      <td>1330</td>\n",
       "      <td>Victoria</td>\n",
       "      <td>-1439</td>\n",
       "      <td>479</td>\n",
       "      <td>12095</td>\n",
       "      <td>757</td>\n",
       "      <td>3358</td>\n",
       "      <td>...</td>\n",
       "      <td>80054</td>\n",
       "      <td>84170</td>\n",
       "      <td>82220</td>\n",
       "      <td>87831</td>\n",
       "      <td>86017</td>\n",
       "      <td>11523</td>\n",
       "      <td>11491</td>\n",
       "      <td>2253</td>\n",
       "      <td>697</td>\n",
       "      <td>1236</td>\n",
       "    </tr>\n",
       "  </tbody>\n",
       "</table>\n",
       "<p>5 rows × 75 columns</p>\n",
       "</div>"
      ],
      "text/plain": [
       "   births_2017_18   natural_increase_2020_21   births_2020_21  \\\n",
       "0            1414                        210             1200   \n",
       "1            1673                        642             1568   \n",
       "2            1421                        381             1196   \n",
       "3            2562                       1016             2184   \n",
       "4            1313                        594             1069   \n",
       "\n",
       "    births_2016_17  state_name_2021   net_internal_migration_2019_20  \\\n",
       "0             1529         Victoria                            -2134   \n",
       "1             1852         Victoria                             -977   \n",
       "2             1479         Victoria                             -427   \n",
       "3             2505         Victoria                            -1009   \n",
       "4             1330         Victoria                            -1439   \n",
       "\n",
       "    deaths_2018_19   internal_departures_2018_19   natural_increase_2018_19  \\\n",
       "0             1050                         13913                        351   \n",
       "1              935                         12156                        723   \n",
       "2              761                          9636                        614   \n",
       "3             1132                         15747                       1363   \n",
       "4              479                         12095                        757   \n",
       "\n",
       "    overseas_departures_2018_19  ...   erp_2001   erp_2003  erp_2002  \\\n",
       "0                          4399  ...     156246     157298    156886   \n",
       "1                          3133  ...     122346     123816    123197   \n",
       "2                          1360  ...     104793     104629    104856   \n",
       "3                          3129  ...     135540     136630    136156   \n",
       "4                          3358  ...      80054      84170     82220   \n",
       "\n",
       "    erp_2005   erp_2004   internal_arrivals_2020_21  \\\n",
       "0     158727     157885                       12782   \n",
       "1     126485     125037                       11915   \n",
       "2     105059     104632                        9278   \n",
       "3     138963     137642                       15245   \n",
       "4      87831      86017                       11523   \n",
       "\n",
       "    internal_arrivals_2018_19   net_overseas_migration_2017_18  \\\n",
       "0                       12966                             2471   \n",
       "1                       11285                             2849   \n",
       "2                        9667                             1782   \n",
       "3                       14822                             3616   \n",
       "4                       11491                             2253   \n",
       "\n",
       "    natural_increase_2019_20   births_2018_19  \n",
       "0                        229             1401  \n",
       "1                        671             1658  \n",
       "2                        561             1375  \n",
       "3                       1309             2495  \n",
       "4                        697             1236  \n",
       "\n",
       "[5 rows x 75 columns]"
      ]
     },
     "execution_count": 4,
     "metadata": {},
     "output_type": "execute_result"
    }
   ],
   "source": [
    "response.head()"
   ]
  },
  {
   "cell_type": "markdown",
   "metadata": {},
   "source": [
    "### Predictor variable: Buildling permits dataset\n",
    "\n",
    "- This dataset contains information about building permits in Melbourne"
   ]
  },
  {
   "cell_type": "code",
   "execution_count": null,
   "metadata": {},
   "outputs": [],
   "source": [
    "INDEX_NAME = \"building-permits\"\n",
    "\n",
    "es_client = Elasticsearch (\n",
    "        'https://localhost:9200',\n",
    "        verify_certs= False,\n",
    "        ssl_show_warn= False,\n",
    "        basic_auth=('elastic', 'elastic')\n",
    "    )\n",
    "es_client.indices.refresh(index=INDEX_NAME)\n",
    "\n",
    "count = 0\n",
    "es_data = []\n",
    "try:\n",
    "    while True:\n",
    "        result = es_client.search(index=INDEX_NAME, body = {\"from\": count\n",
    "                                                            ,'size' : 100,\n",
    "        'query': {\n",
    "            'match_all' : {}\n",
    "        }\n",
    "        }\n",
    "        )\n",
    "        for doc in result['hits']['hits']:\n",
    "            es_data.append(doc['_source'])\n",
    "        count += 100\n",
    "except:\n",
    "    print(\"Got all the Documents\")\n",
    "\n",
    "predictor = pd.DataFrame(es_data)"
   ]
  },
  {
   "cell_type": "code",
   "execution_count": 6,
   "metadata": {},
   "outputs": [
    {
     "data": {
      "text/html": [
       "<div>\n",
       "<style scoped>\n",
       "    .dataframe tbody tr th:only-of-type {\n",
       "        vertical-align: middle;\n",
       "    }\n",
       "\n",
       "    .dataframe tbody tr th {\n",
       "        vertical-align: top;\n",
       "    }\n",
       "\n",
       "    .dataframe thead th {\n",
       "        text-align: right;\n",
       "    }\n",
       "</style>\n",
       "<table border=\"1\" class=\"dataframe\">\n",
       "  <thead>\n",
       "    <tr style=\"text-align: right;\">\n",
       "      <th></th>\n",
       "      <th>council_ref</th>\n",
       "      <th>permit_number</th>\n",
       "      <th>issue_date</th>\n",
       "      <th>address</th>\n",
       "      <th>desc_of_works</th>\n",
       "      <th>estimated_cost_of_works</th>\n",
       "      <th>rbs_number</th>\n",
       "      <th>commence_by_date</th>\n",
       "      <th>completed_by_date</th>\n",
       "      <th>permit_certificate_type</th>\n",
       "    </tr>\n",
       "  </thead>\n",
       "  <tbody>\n",
       "    <tr>\n",
       "      <th>0</th>\n",
       "      <td>BP-2022-1259</td>\n",
       "      <td>9042530389216</td>\n",
       "      <td>2022-08-22</td>\n",
       "      <td>299-307 Bourke Street MELBOURNE VIC 3000</td>\n",
       "      <td>Alteration and extension</td>\n",
       "      <td>5280000</td>\n",
       "      <td>None</td>\n",
       "      <td>2023-08-22</td>\n",
       "      <td>2025-08-22</td>\n",
       "      <td>Building Permit</td>\n",
       "    </tr>\n",
       "    <tr>\n",
       "      <th>1</th>\n",
       "      <td>BP-2022-1253</td>\n",
       "      <td>54182/4621763091106/1</td>\n",
       "      <td>2022-12-19</td>\n",
       "      <td>633-669 Flinders Street DOCKLANDS VIC 3008</td>\n",
       "      <td>Level 4 - Internal Office Fitout for Artifex P...</td>\n",
       "      <td>4937932</td>\n",
       "      <td>BS-U 42327</td>\n",
       "      <td>2023-08-12</td>\n",
       "      <td>2025-08-12</td>\n",
       "      <td>Certificate of Final Inspection</td>\n",
       "    </tr>\n",
       "    <tr>\n",
       "      <th>2</th>\n",
       "      <td>BP-2022-1253</td>\n",
       "      <td>54182/4621763091106/1</td>\n",
       "      <td>2022-08-12</td>\n",
       "      <td>18-38 Siddeley Street DOCKLANDS VIC 3008</td>\n",
       "      <td>Level 4 - Internal Office Fitout for Artifex P...</td>\n",
       "      <td>4937932</td>\n",
       "      <td>BS-U 42327</td>\n",
       "      <td>2023-08-12</td>\n",
       "      <td>2025-08-12</td>\n",
       "      <td>Building Permit</td>\n",
       "    </tr>\n",
       "    <tr>\n",
       "      <th>3</th>\n",
       "      <td>BP-2022-1251</td>\n",
       "      <td>54182/2724469366956/0A</td>\n",
       "      <td>2022-08-12</td>\n",
       "      <td>Rialto 505-535 Collins Street MELBOURNE VIC 3000</td>\n",
       "      <td>Level 30 - Internal Tenancy Split and Internal...</td>\n",
       "      <td>610967</td>\n",
       "      <td>None</td>\n",
       "      <td>2023-08-12</td>\n",
       "      <td>2025-08-12</td>\n",
       "      <td>Building Permit</td>\n",
       "    </tr>\n",
       "    <tr>\n",
       "      <th>4</th>\n",
       "      <td>BP-2022-1249</td>\n",
       "      <td>54182/1861978441258/0</td>\n",
       "      <td>2022-08-05</td>\n",
       "      <td>816-828 Bourke Street DOCKLANDS VIC 3008</td>\n",
       "      <td>Level 6 - Internal Office Fitout for AFG</td>\n",
       "      <td>847172</td>\n",
       "      <td>BS-U 42327</td>\n",
       "      <td>2023-08-05</td>\n",
       "      <td>2025-08-05</td>\n",
       "      <td>Building Permit</td>\n",
       "    </tr>\n",
       "  </tbody>\n",
       "</table>\n",
       "</div>"
      ],
      "text/plain": [
       "    council_ref           permit_number  issue_date  \\\n",
       "0  BP-2022-1259           9042530389216  2022-08-22   \n",
       "1  BP-2022-1253   54182/4621763091106/1  2022-12-19   \n",
       "2  BP-2022-1253   54182/4621763091106/1  2022-08-12   \n",
       "3  BP-2022-1251  54182/2724469366956/0A  2022-08-12   \n",
       "4  BP-2022-1249   54182/1861978441258/0  2022-08-05   \n",
       "\n",
       "                                            address  \\\n",
       "0          299-307 Bourke Street MELBOURNE VIC 3000   \n",
       "1        633-669 Flinders Street DOCKLANDS VIC 3008   \n",
       "2          18-38 Siddeley Street DOCKLANDS VIC 3008   \n",
       "3  Rialto 505-535 Collins Street MELBOURNE VIC 3000   \n",
       "4          816-828 Bourke Street DOCKLANDS VIC 3008   \n",
       "\n",
       "                                       desc_of_works  estimated_cost_of_works  \\\n",
       "0                           Alteration and extension                  5280000   \n",
       "1  Level 4 - Internal Office Fitout for Artifex P...                  4937932   \n",
       "2  Level 4 - Internal Office Fitout for Artifex P...                  4937932   \n",
       "3  Level 30 - Internal Tenancy Split and Internal...                   610967   \n",
       "4           Level 6 - Internal Office Fitout for AFG                   847172   \n",
       "\n",
       "   rbs_number commence_by_date completed_by_date  \\\n",
       "0        None       2023-08-22        2025-08-22   \n",
       "1  BS-U 42327       2023-08-12        2025-08-12   \n",
       "2  BS-U 42327       2023-08-12        2025-08-12   \n",
       "3        None       2023-08-12        2025-08-12   \n",
       "4  BS-U 42327       2023-08-05        2025-08-05   \n",
       "\n",
       "           permit_certificate_type  \n",
       "0                  Building Permit  \n",
       "1  Certificate of Final Inspection  \n",
       "2                  Building Permit  \n",
       "3                  Building Permit  \n",
       "4                  Building Permit  "
      ]
     },
     "execution_count": 6,
     "metadata": {},
     "output_type": "execute_result"
    }
   ],
   "source": [
    "predictor.head()"
   ]
  },
  {
   "cell_type": "code",
   "execution_count": null,
   "metadata": {},
   "outputs": [],
   "source": []
  },
  {
   "cell_type": "markdown",
   "metadata": {},
   "source": [
    "First, we have a quick look at the response dataset we've loaded"
   ]
  },
  {
   "cell_type": "code",
   "execution_count": 7,
   "metadata": {},
   "outputs": [
    {
     "data": {
      "text/plain": [
       "Index(['births_2017_18', ' natural_increase_2020_21', ' births_2020_21',\n",
       "       ' births_2016_17', ' state_name_2021',\n",
       "       ' net_internal_migration_2019_20', ' deaths_2018_19',\n",
       "       ' internal_departures_2018_19', ' natural_increase_2018_19',\n",
       "       ' overseas_departures_2018_19', ' natural_increase_2017_18',\n",
       "       ' overseas_departures_2017_18', ' lga_name_2021',\n",
       "       ' internal_arrivals_2017_18', ' overseas_departures_2020_21',\n",
       "       ' deaths_2017_18', ' internal_arrivals_2016_17', ' lga_code_2021',\n",
       "       ' net_overseas_migration_2019_20', ' internal_departures_2016_17',\n",
       "       ' deaths_2016_17', ' erp_2017', ' erp_2018', ' erp_2019',\n",
       "       ' net_internal_migration_2017_18', ' erp_2021', ' erp_2020',\n",
       "       ' erp_change_per_cent_2020_21', ' net_overseas_migration_2016_17',\n",
       "       ' overseas_arrivals_2020_21', ' net_internal_migration_2018_19',\n",
       "       ' overseas_arrivals_2016_17', ' net_overseas_migration_2018_19',\n",
       "       ' overseas_arrivals_2017_18', ' area_km2',\n",
       "       ' net_internal_migration_2020_21', ' overseas_arrivals_2019_20',\n",
       "       ' erp_2008', ' erp_2009', ' erp_2006', ' erp_2007',\n",
       "       ' net_internal_migration_2016_17', ' births_2019_20', ' erp_2012',\n",
       "       ' erp_2011', ' erp_2010', ' internal_departures_2019_20', ' erp_2016',\n",
       "       ' deaths_2020_21', ' erp_2015', ' erp_2014', ' erp_2013',\n",
       "       ' internal_departures_2020_21', ' erp_change_number_2020_21',\n",
       "       ' internal_arrivals_2019_20', ' overseas_arrivals_2018_19',\n",
       "       ' overseas_departures_2019_20', ' internal_departures_2017_18',\n",
       "       ' deaths_2019_20', ' state_code_2021', ' natural_increase_2016_17',\n",
       "       ' pop_density_2021_people_per_km2', ' net_overseas_migration_2020_21',\n",
       "       ' overseas_departures_2016_17', ' primaryindex', ' erp_2001',\n",
       "       ' erp_2003', ' erp_2002', ' erp_2005', ' erp_2004',\n",
       "       ' internal_arrivals_2020_21', ' internal_arrivals_2018_19',\n",
       "       ' net_overseas_migration_2017_18', ' natural_increase_2019_20',\n",
       "       ' births_2018_19'],\n",
       "      dtype='object')"
      ]
     },
     "execution_count": 7,
     "metadata": {},
     "output_type": "execute_result"
    }
   ],
   "source": [
    "response.columns"
   ]
  },
  {
   "cell_type": "markdown",
   "metadata": {},
   "source": [
    "Here, despite the wide range of information, we only need the estimated population data (erp_YYYY) for our model. Further, notice the random spacing before each column name, asides from the first."
   ]
  },
  {
   "cell_type": "code",
   "execution_count": 8,
   "metadata": {},
   "outputs": [],
   "source": [
    "# Remove spacing from column names\n",
    "\n",
    "response.columns = response.columns.str.replace(' ', '')"
   ]
  },
  {
   "cell_type": "code",
   "execution_count": 9,
   "metadata": {},
   "outputs": [],
   "source": [
    "# Get all key columns for our response dataset. The years range from 2001 to 2021, inclusive of start & end. \n",
    "\n",
    "KEY_RESPONSE_COLUMNS = ['lga_name_2021']\n",
    "\n",
    "for i in range(2001, 2022):\n",
    "    key_column = f\"erp_{i}\"\n",
    "    KEY_RESPONSE_COLUMNS.append(key_column)"
   ]
  },
  {
   "cell_type": "code",
   "execution_count": 10,
   "metadata": {},
   "outputs": [
    {
     "data": {
      "text/html": [
       "<div>\n",
       "<style scoped>\n",
       "    .dataframe tbody tr th:only-of-type {\n",
       "        vertical-align: middle;\n",
       "    }\n",
       "\n",
       "    .dataframe tbody tr th {\n",
       "        vertical-align: top;\n",
       "    }\n",
       "\n",
       "    .dataframe thead th {\n",
       "        text-align: right;\n",
       "    }\n",
       "</style>\n",
       "<table border=\"1\" class=\"dataframe\">\n",
       "  <thead>\n",
       "    <tr style=\"text-align: right;\">\n",
       "      <th></th>\n",
       "      <th>lga_name_2021</th>\n",
       "      <th>erp_2001</th>\n",
       "      <th>erp_2002</th>\n",
       "      <th>erp_2003</th>\n",
       "      <th>erp_2004</th>\n",
       "      <th>erp_2005</th>\n",
       "      <th>erp_2006</th>\n",
       "      <th>erp_2007</th>\n",
       "      <th>erp_2008</th>\n",
       "      <th>erp_2009</th>\n",
       "      <th>...</th>\n",
       "      <th>erp_2012</th>\n",
       "      <th>erp_2013</th>\n",
       "      <th>erp_2014</th>\n",
       "      <th>erp_2015</th>\n",
       "      <th>erp_2016</th>\n",
       "      <th>erp_2017</th>\n",
       "      <th>erp_2018</th>\n",
       "      <th>erp_2019</th>\n",
       "      <th>erp_2020</th>\n",
       "      <th>erp_2021</th>\n",
       "    </tr>\n",
       "  </thead>\n",
       "  <tbody>\n",
       "    <tr>\n",
       "      <th>0</th>\n",
       "      <td>Boroondara</td>\n",
       "      <td>156246</td>\n",
       "      <td>156886</td>\n",
       "      <td>157298</td>\n",
       "      <td>157885</td>\n",
       "      <td>158727</td>\n",
       "      <td>159605</td>\n",
       "      <td>161308</td>\n",
       "      <td>163408</td>\n",
       "      <td>165284</td>\n",
       "      <td>...</td>\n",
       "      <td>168483</td>\n",
       "      <td>170485</td>\n",
       "      <td>172660</td>\n",
       "      <td>174753</td>\n",
       "      <td>177276</td>\n",
       "      <td>179677</td>\n",
       "      <td>181376</td>\n",
       "      <td>183197</td>\n",
       "      <td>182974</td>\n",
       "      <td>176632</td>\n",
       "    </tr>\n",
       "    <tr>\n",
       "      <th>1</th>\n",
       "      <td>Glen Eira</td>\n",
       "      <td>122346</td>\n",
       "      <td>123197</td>\n",
       "      <td>123816</td>\n",
       "      <td>125037</td>\n",
       "      <td>126485</td>\n",
       "      <td>128474</td>\n",
       "      <td>130524</td>\n",
       "      <td>132900</td>\n",
       "      <td>135414</td>\n",
       "      <td>...</td>\n",
       "      <td>139116</td>\n",
       "      <td>141260</td>\n",
       "      <td>143694</td>\n",
       "      <td>145924</td>\n",
       "      <td>148583</td>\n",
       "      <td>151457</td>\n",
       "      <td>153920</td>\n",
       "      <td>156535</td>\n",
       "      <td>158149</td>\n",
       "      <td>155123</td>\n",
       "    </tr>\n",
       "    <tr>\n",
       "      <th>2</th>\n",
       "      <td>Moonee Valley</td>\n",
       "      <td>104793</td>\n",
       "      <td>104856</td>\n",
       "      <td>104629</td>\n",
       "      <td>104632</td>\n",
       "      <td>105059</td>\n",
       "      <td>105717</td>\n",
       "      <td>106716</td>\n",
       "      <td>108417</td>\n",
       "      <td>110367</td>\n",
       "      <td>...</td>\n",
       "      <td>113673</td>\n",
       "      <td>115464</td>\n",
       "      <td>117763</td>\n",
       "      <td>120231</td>\n",
       "      <td>122871</td>\n",
       "      <td>125411</td>\n",
       "      <td>127906</td>\n",
       "      <td>130313</td>\n",
       "      <td>131702</td>\n",
       "      <td>129379</td>\n",
       "    </tr>\n",
       "    <tr>\n",
       "      <th>3</th>\n",
       "      <td>Moreland</td>\n",
       "      <td>135540</td>\n",
       "      <td>136156</td>\n",
       "      <td>136630</td>\n",
       "      <td>137642</td>\n",
       "      <td>138963</td>\n",
       "      <td>140872</td>\n",
       "      <td>143694</td>\n",
       "      <td>146450</td>\n",
       "      <td>150114</td>\n",
       "      <td>...</td>\n",
       "      <td>156967</td>\n",
       "      <td>160282</td>\n",
       "      <td>164099</td>\n",
       "      <td>167870</td>\n",
       "      <td>172294</td>\n",
       "      <td>176974</td>\n",
       "      <td>181780</td>\n",
       "      <td>185811</td>\n",
       "      <td>188660</td>\n",
       "      <td>184707</td>\n",
       "    </tr>\n",
       "    <tr>\n",
       "      <th>4</th>\n",
       "      <td>Port Phillip</td>\n",
       "      <td>80054</td>\n",
       "      <td>82220</td>\n",
       "      <td>84170</td>\n",
       "      <td>86017</td>\n",
       "      <td>87831</td>\n",
       "      <td>89641</td>\n",
       "      <td>91490</td>\n",
       "      <td>93174</td>\n",
       "      <td>95272</td>\n",
       "      <td>...</td>\n",
       "      <td>99893</td>\n",
       "      <td>102156</td>\n",
       "      <td>104451</td>\n",
       "      <td>106381</td>\n",
       "      <td>108627</td>\n",
       "      <td>110656</td>\n",
       "      <td>113265</td>\n",
       "      <td>115620</td>\n",
       "      <td>116417</td>\n",
       "      <td>112092</td>\n",
       "    </tr>\n",
       "    <tr>\n",
       "      <th>5</th>\n",
       "      <td>Yarra</td>\n",
       "      <td>68522</td>\n",
       "      <td>69415</td>\n",
       "      <td>70115</td>\n",
       "      <td>70811</td>\n",
       "      <td>71719</td>\n",
       "      <td>72808</td>\n",
       "      <td>74289</td>\n",
       "      <td>75868</td>\n",
       "      <td>77311</td>\n",
       "      <td>...</td>\n",
       "      <td>81268</td>\n",
       "      <td>83962</td>\n",
       "      <td>87228</td>\n",
       "      <td>89923</td>\n",
       "      <td>92894</td>\n",
       "      <td>95994</td>\n",
       "      <td>98567</td>\n",
       "      <td>101516</td>\n",
       "      <td>103076</td>\n",
       "      <td>99622</td>\n",
       "    </tr>\n",
       "    <tr>\n",
       "      <th>6</th>\n",
       "      <td>Bayside (Vic.)</td>\n",
       "      <td>88262</td>\n",
       "      <td>88717</td>\n",
       "      <td>89088</td>\n",
       "      <td>89394</td>\n",
       "      <td>89873</td>\n",
       "      <td>90807</td>\n",
       "      <td>92041</td>\n",
       "      <td>93535</td>\n",
       "      <td>94850</td>\n",
       "      <td>...</td>\n",
       "      <td>96971</td>\n",
       "      <td>98252</td>\n",
       "      <td>99797</td>\n",
       "      <td>101268</td>\n",
       "      <td>102912</td>\n",
       "      <td>104282</td>\n",
       "      <td>105745</td>\n",
       "      <td>106856</td>\n",
       "      <td>107516</td>\n",
       "      <td>105580</td>\n",
       "    </tr>\n",
       "    <tr>\n",
       "      <th>7</th>\n",
       "      <td>Hobsons Bay</td>\n",
       "      <td>82854</td>\n",
       "      <td>83124</td>\n",
       "      <td>83107</td>\n",
       "      <td>82668</td>\n",
       "      <td>82990</td>\n",
       "      <td>83906</td>\n",
       "      <td>84819</td>\n",
       "      <td>85513</td>\n",
       "      <td>86767</td>\n",
       "      <td>...</td>\n",
       "      <td>88339</td>\n",
       "      <td>89188</td>\n",
       "      <td>90417</td>\n",
       "      <td>91674</td>\n",
       "      <td>93445</td>\n",
       "      <td>95071</td>\n",
       "      <td>96481</td>\n",
       "      <td>97765</td>\n",
       "      <td>98146</td>\n",
       "      <td>96317</td>\n",
       "    </tr>\n",
       "    <tr>\n",
       "      <th>8</th>\n",
       "      <td>Stonnington</td>\n",
       "      <td>89424</td>\n",
       "      <td>90370</td>\n",
       "      <td>91034</td>\n",
       "      <td>92061</td>\n",
       "      <td>92893</td>\n",
       "      <td>94056</td>\n",
       "      <td>95228</td>\n",
       "      <td>96841</td>\n",
       "      <td>98186</td>\n",
       "      <td>...</td>\n",
       "      <td>101410</td>\n",
       "      <td>103487</td>\n",
       "      <td>105894</td>\n",
       "      <td>108028</td>\n",
       "      <td>111003</td>\n",
       "      <td>113772</td>\n",
       "      <td>116281</td>\n",
       "      <td>117776</td>\n",
       "      <td>118567</td>\n",
       "      <td>114340</td>\n",
       "    </tr>\n",
       "    <tr>\n",
       "      <th>9</th>\n",
       "      <td>Unincorporated Vic</td>\n",
       "      <td>451</td>\n",
       "      <td>516</td>\n",
       "      <td>578</td>\n",
       "      <td>638</td>\n",
       "      <td>697</td>\n",
       "      <td>757</td>\n",
       "      <td>741</td>\n",
       "      <td>745</td>\n",
       "      <td>749</td>\n",
       "      <td>...</td>\n",
       "      <td>797</td>\n",
       "      <td>808</td>\n",
       "      <td>835</td>\n",
       "      <td>862</td>\n",
       "      <td>892</td>\n",
       "      <td>899</td>\n",
       "      <td>889</td>\n",
       "      <td>881</td>\n",
       "      <td>894</td>\n",
       "      <td>910</td>\n",
       "    </tr>\n",
       "    <tr>\n",
       "      <th>10</th>\n",
       "      <td>Banyule</td>\n",
       "      <td>117967</td>\n",
       "      <td>117559</td>\n",
       "      <td>117313</td>\n",
       "      <td>116661</td>\n",
       "      <td>117149</td>\n",
       "      <td>117963</td>\n",
       "      <td>119362</td>\n",
       "      <td>120580</td>\n",
       "      <td>122248</td>\n",
       "      <td>...</td>\n",
       "      <td>123584</td>\n",
       "      <td>124314</td>\n",
       "      <td>125107</td>\n",
       "      <td>126088</td>\n",
       "      <td>127447</td>\n",
       "      <td>129115</td>\n",
       "      <td>130250</td>\n",
       "      <td>131640</td>\n",
       "      <td>131895</td>\n",
       "      <td>129387</td>\n",
       "    </tr>\n",
       "    <tr>\n",
       "      <th>11</th>\n",
       "      <td>Darebin</td>\n",
       "      <td>127067</td>\n",
       "      <td>127359</td>\n",
       "      <td>127711</td>\n",
       "      <td>128735</td>\n",
       "      <td>130298</td>\n",
       "      <td>132299</td>\n",
       "      <td>134748</td>\n",
       "      <td>137525</td>\n",
       "      <td>140289</td>\n",
       "      <td>...</td>\n",
       "      <td>144986</td>\n",
       "      <td>147272</td>\n",
       "      <td>149511</td>\n",
       "      <td>151974</td>\n",
       "      <td>155126</td>\n",
       "      <td>158751</td>\n",
       "      <td>161653</td>\n",
       "      <td>164224</td>\n",
       "      <td>166356</td>\n",
       "      <td>162501</td>\n",
       "    </tr>\n",
       "    <tr>\n",
       "      <th>12</th>\n",
       "      <td>Maribyrnong</td>\n",
       "      <td>60848</td>\n",
       "      <td>61557</td>\n",
       "      <td>62516</td>\n",
       "      <td>63168</td>\n",
       "      <td>64137</td>\n",
       "      <td>65518</td>\n",
       "      <td>67666</td>\n",
       "      <td>69902</td>\n",
       "      <td>71872</td>\n",
       "      <td>...</td>\n",
       "      <td>77179</td>\n",
       "      <td>79782</td>\n",
       "      <td>82463</td>\n",
       "      <td>84783</td>\n",
       "      <td>86942</td>\n",
       "      <td>89362</td>\n",
       "      <td>91413</td>\n",
       "      <td>93482</td>\n",
       "      <td>94928</td>\n",
       "      <td>93467</td>\n",
       "    </tr>\n",
       "    <tr>\n",
       "      <th>13</th>\n",
       "      <td>Melbourne</td>\n",
       "      <td>55398</td>\n",
       "      <td>60415</td>\n",
       "      <td>65954</td>\n",
       "      <td>71425</td>\n",
       "      <td>76034</td>\n",
       "      <td>80154</td>\n",
       "      <td>85366</td>\n",
       "      <td>89937</td>\n",
       "      <td>94247</td>\n",
       "      <td>...</td>\n",
       "      <td>107578</td>\n",
       "      <td>118711</td>\n",
       "      <td>127975</td>\n",
       "      <td>136872</td>\n",
       "      <td>146096</td>\n",
       "      <td>159141</td>\n",
       "      <td>170317</td>\n",
       "      <td>178994</td>\n",
       "      <td>183628</td>\n",
       "      <td>169860</td>\n",
       "    </tr>\n",
       "  </tbody>\n",
       "</table>\n",
       "<p>14 rows × 22 columns</p>\n",
       "</div>"
      ],
      "text/plain": [
       "         lga_name_2021  erp_2001  erp_2002  erp_2003  erp_2004  erp_2005  \\\n",
       "0           Boroondara    156246    156886    157298    157885    158727   \n",
       "1            Glen Eira    122346    123197    123816    125037    126485   \n",
       "2        Moonee Valley    104793    104856    104629    104632    105059   \n",
       "3             Moreland    135540    136156    136630    137642    138963   \n",
       "4         Port Phillip     80054     82220     84170     86017     87831   \n",
       "5                Yarra     68522     69415     70115     70811     71719   \n",
       "6       Bayside (Vic.)     88262     88717     89088     89394     89873   \n",
       "7          Hobsons Bay     82854     83124     83107     82668     82990   \n",
       "8          Stonnington     89424     90370     91034     92061     92893   \n",
       "9   Unincorporated Vic       451       516       578       638       697   \n",
       "10             Banyule    117967    117559    117313    116661    117149   \n",
       "11             Darebin    127067    127359    127711    128735    130298   \n",
       "12         Maribyrnong     60848     61557     62516     63168     64137   \n",
       "13           Melbourne     55398     60415     65954     71425     76034   \n",
       "\n",
       "    erp_2006  erp_2007  erp_2008  erp_2009  ...  erp_2012  erp_2013  erp_2014  \\\n",
       "0     159605    161308    163408    165284  ...    168483    170485    172660   \n",
       "1     128474    130524    132900    135414  ...    139116    141260    143694   \n",
       "2     105717    106716    108417    110367  ...    113673    115464    117763   \n",
       "3     140872    143694    146450    150114  ...    156967    160282    164099   \n",
       "4      89641     91490     93174     95272  ...     99893    102156    104451   \n",
       "5      72808     74289     75868     77311  ...     81268     83962     87228   \n",
       "6      90807     92041     93535     94850  ...     96971     98252     99797   \n",
       "7      83906     84819     85513     86767  ...     88339     89188     90417   \n",
       "8      94056     95228     96841     98186  ...    101410    103487    105894   \n",
       "9        757       741       745       749  ...       797       808       835   \n",
       "10    117963    119362    120580    122248  ...    123584    124314    125107   \n",
       "11    132299    134748    137525    140289  ...    144986    147272    149511   \n",
       "12     65518     67666     69902     71872  ...     77179     79782     82463   \n",
       "13     80154     85366     89937     94247  ...    107578    118711    127975   \n",
       "\n",
       "    erp_2015  erp_2016  erp_2017  erp_2018  erp_2019  erp_2020  erp_2021  \n",
       "0     174753    177276    179677    181376    183197    182974    176632  \n",
       "1     145924    148583    151457    153920    156535    158149    155123  \n",
       "2     120231    122871    125411    127906    130313    131702    129379  \n",
       "3     167870    172294    176974    181780    185811    188660    184707  \n",
       "4     106381    108627    110656    113265    115620    116417    112092  \n",
       "5      89923     92894     95994     98567    101516    103076     99622  \n",
       "6     101268    102912    104282    105745    106856    107516    105580  \n",
       "7      91674     93445     95071     96481     97765     98146     96317  \n",
       "8     108028    111003    113772    116281    117776    118567    114340  \n",
       "9        862       892       899       889       881       894       910  \n",
       "10    126088    127447    129115    130250    131640    131895    129387  \n",
       "11    151974    155126    158751    161653    164224    166356    162501  \n",
       "12     84783     86942     89362     91413     93482     94928     93467  \n",
       "13    136872    146096    159141    170317    178994    183628    169860  \n",
       "\n",
       "[14 rows x 22 columns]"
      ]
     },
     "execution_count": 10,
     "metadata": {},
     "output_type": "execute_result"
    }
   ],
   "source": [
    "response[KEY_RESPONSE_COLUMNS]"
   ]
  },
  {
   "cell_type": "markdown",
   "metadata": {},
   "source": [
    "Now, we separate this dataframe into a format we're able to use"
   ]
  },
  {
   "cell_type": "code",
   "execution_count": 11,
   "metadata": {},
   "outputs": [],
   "source": [
    "# Pick out row 7 to turn into dataframe\n",
    "\n",
    "response_clean = pd.DataFrame(response[KEY_RESPONSE_COLUMNS].iloc[7]).reset_index()"
   ]
  },
  {
   "cell_type": "code",
   "execution_count": 12,
   "metadata": {},
   "outputs": [],
   "source": [
    "# Rename and clean columns\n",
    "\n",
    "response_clean = response_clean.rename(columns={'index': 'year', 7: 'population'})\n",
    "response_clean = response_clean.iloc[1:] # Remove unnceessary row\n",
    "response_clean['year'] = response_clean['year'].str.removeprefix('erp_')\n",
    "response_clean['year'] = response_clean['year'].astype(int)"
   ]
  },
  {
   "cell_type": "markdown",
   "metadata": {},
   "source": [
    "Now we move onto our predictor dataset to have a quick look"
   ]
  },
  {
   "cell_type": "code",
   "execution_count": 13,
   "metadata": {},
   "outputs": [
    {
     "data": {
      "text/plain": [
       "63638"
      ]
     },
     "execution_count": 13,
     "metadata": {},
     "output_type": "execute_result"
    }
   ],
   "source": [
    "len(predictor)"
   ]
  },
  {
   "cell_type": "markdown",
   "metadata": {},
   "source": [
    "adding a new column called year based on issue date for better analysis "
   ]
  },
  {
   "cell_type": "code",
   "execution_count": 26,
   "metadata": {},
   "outputs": [],
   "source": [
    "predictor['issue_date'] = pd.to_datetime(predictor['issue_date'])\n",
    "predictor['year'] = predictor['issue_date'].dt.year"
   ]
  },
  {
   "cell_type": "code",
   "execution_count": 27,
   "metadata": {},
   "outputs": [
    {
     "data": {
      "text/plain": [
       "Index(['council_ref', 'permit_number', 'issue_date', 'address',\n",
       "       'desc_of_works', 'estimated_cost_of_works', 'rbs_number',\n",
       "       'commence_by_date', 'completed_by_date', 'permit_certificate_type',\n",
       "       'year'],\n",
       "      dtype='object')"
      ]
     },
     "execution_count": 27,
     "metadata": {},
     "output_type": "execute_result"
    }
   ],
   "source": [
    "predictor.columns"
   ]
  },
  {
   "cell_type": "markdown",
   "metadata": {},
   "source": [
    "Note that this dataset has gotten an initial clean, removing records where:\n",
    "- issue_date > completed_by_date\n",
    "- Year is in the future\n",
    "\n",
    "However, there seems to be records of duplicate permits (same coucil_ref). We observe more closely"
   ]
  },
  {
   "cell_type": "code",
   "execution_count": 28,
   "metadata": {},
   "outputs": [
    {
     "data": {
      "text/html": [
       "<div>\n",
       "<style scoped>\n",
       "    .dataframe tbody tr th:only-of-type {\n",
       "        vertical-align: middle;\n",
       "    }\n",
       "\n",
       "    .dataframe tbody tr th {\n",
       "        vertical-align: top;\n",
       "    }\n",
       "\n",
       "    .dataframe thead th {\n",
       "        text-align: right;\n",
       "    }\n",
       "</style>\n",
       "<table border=\"1\" class=\"dataframe\">\n",
       "  <thead>\n",
       "    <tr style=\"text-align: right;\">\n",
       "      <th></th>\n",
       "      <th>council_ref</th>\n",
       "      <th>count</th>\n",
       "    </tr>\n",
       "  </thead>\n",
       "  <tbody>\n",
       "    <tr>\n",
       "      <th>0</th>\n",
       "      <td>BP-2019-1273</td>\n",
       "      <td>66</td>\n",
       "    </tr>\n",
       "    <tr>\n",
       "      <th>1</th>\n",
       "      <td>BP-2020-1544</td>\n",
       "      <td>56</td>\n",
       "    </tr>\n",
       "    <tr>\n",
       "      <th>2</th>\n",
       "      <td>BP-2020-460/4</td>\n",
       "      <td>42</td>\n",
       "    </tr>\n",
       "    <tr>\n",
       "      <th>3</th>\n",
       "      <td>BP-2018-2091</td>\n",
       "      <td>36</td>\n",
       "    </tr>\n",
       "    <tr>\n",
       "      <th>4</th>\n",
       "      <td>BP-2019-1273/1</td>\n",
       "      <td>33</td>\n",
       "    </tr>\n",
       "    <tr>\n",
       "      <th>...</th>\n",
       "      <td>...</td>\n",
       "      <td>...</td>\n",
       "    </tr>\n",
       "    <tr>\n",
       "      <th>19332</th>\n",
       "      <td>BP-2017-149</td>\n",
       "      <td>2</td>\n",
       "    </tr>\n",
       "    <tr>\n",
       "      <th>19333</th>\n",
       "      <td>BP-2017-1429</td>\n",
       "      <td>2</td>\n",
       "    </tr>\n",
       "    <tr>\n",
       "      <th>19334</th>\n",
       "      <td>BP-2016-969</td>\n",
       "      <td>2</td>\n",
       "    </tr>\n",
       "    <tr>\n",
       "      <th>19335</th>\n",
       "      <td>BP-2017-1213</td>\n",
       "      <td>2</td>\n",
       "    </tr>\n",
       "    <tr>\n",
       "      <th>19336</th>\n",
       "      <td>BP-2014-1894</td>\n",
       "      <td>2</td>\n",
       "    </tr>\n",
       "  </tbody>\n",
       "</table>\n",
       "<p>19337 rows × 2 columns</p>\n",
       "</div>"
      ],
      "text/plain": [
       "          council_ref  count\n",
       "0        BP-2019-1273     66\n",
       "1        BP-2020-1544     56\n",
       "2       BP-2020-460/4     42\n",
       "3        BP-2018-2091     36\n",
       "4      BP-2019-1273/1     33\n",
       "...               ...    ...\n",
       "19332     BP-2017-149      2\n",
       "19333    BP-2017-1429      2\n",
       "19334     BP-2016-969      2\n",
       "19335    BP-2017-1213      2\n",
       "19336    BP-2014-1894      2\n",
       "\n",
       "[19337 rows x 2 columns]"
      ]
     },
     "execution_count": 28,
     "metadata": {},
     "output_type": "execute_result"
    }
   ],
   "source": [
    "predictor_count = predictor.groupby(['council_ref'])['permit_number'].count().sort_values(ascending=False).reset_index(name='count')\n",
    "predictor_count[predictor_count['count'] > 1]"
   ]
  },
  {
   "cell_type": "markdown",
   "metadata": {},
   "source": [
    "Here, observe a few highest values and see why it's been duplicated"
   ]
  },
  {
   "cell_type": "code",
   "execution_count": 29,
   "metadata": {},
   "outputs": [
    {
     "data": {
      "text/html": [
       "<div>\n",
       "<style scoped>\n",
       "    .dataframe tbody tr th:only-of-type {\n",
       "        vertical-align: middle;\n",
       "    }\n",
       "\n",
       "    .dataframe tbody tr th {\n",
       "        vertical-align: top;\n",
       "    }\n",
       "\n",
       "    .dataframe thead th {\n",
       "        text-align: right;\n",
       "    }\n",
       "</style>\n",
       "<table border=\"1\" class=\"dataframe\">\n",
       "  <thead>\n",
       "    <tr style=\"text-align: right;\">\n",
       "      <th></th>\n",
       "      <th>council_ref</th>\n",
       "      <th>permit_number</th>\n",
       "      <th>issue_date</th>\n",
       "      <th>address</th>\n",
       "      <th>desc_of_works</th>\n",
       "      <th>estimated_cost_of_works</th>\n",
       "      <th>rbs_number</th>\n",
       "      <th>commence_by_date</th>\n",
       "      <th>completed_by_date</th>\n",
       "      <th>permit_certificate_type</th>\n",
       "      <th>year</th>\n",
       "    </tr>\n",
       "  </thead>\n",
       "  <tbody>\n",
       "    <tr>\n",
       "      <th>5218</th>\n",
       "      <td>BP-2019-1273</td>\n",
       "      <td>1585/20190205/1A</td>\n",
       "      <td>2019-05-28</td>\n",
       "      <td>Part Level 5 276 Flinders Street MELBOURNE VIC...</td>\n",
       "      <td>Proposed Fitout of Levels 5-9 for the Purpose ...</td>\n",
       "      <td>2922588</td>\n",
       "      <td>None</td>\n",
       "      <td>2020-05-28</td>\n",
       "      <td>2022-05-28</td>\n",
       "      <td>Building Permit</td>\n",
       "      <td>2019</td>\n",
       "    </tr>\n",
       "    <tr>\n",
       "      <th>6723</th>\n",
       "      <td>BP-2019-1273</td>\n",
       "      <td>1585/20190205/0</td>\n",
       "      <td>2019-10-01</td>\n",
       "      <td>Level 7 276 Flinders Street MELBOURNE VIC 3000</td>\n",
       "      <td>Proposed Fitout of Levels 5-9 for the Purpose ...</td>\n",
       "      <td>2922588</td>\n",
       "      <td>None</td>\n",
       "      <td>2020-05-28</td>\n",
       "      <td>2022-05-28</td>\n",
       "      <td>Certificate of Final Inspection</td>\n",
       "      <td>2019</td>\n",
       "    </tr>\n",
       "    <tr>\n",
       "      <th>6724</th>\n",
       "      <td>BP-2019-1273</td>\n",
       "      <td>1585/20190205/0</td>\n",
       "      <td>2019-07-15</td>\n",
       "      <td>Part Level 6 276 Flinders Street MELBOURNE VIC...</td>\n",
       "      <td>Proposed Fitout of Levels 5-9 for the Purpose ...</td>\n",
       "      <td>2922588</td>\n",
       "      <td>None</td>\n",
       "      <td>2020-05-28</td>\n",
       "      <td>2022-05-28</td>\n",
       "      <td>Certificate of Final Inspection</td>\n",
       "      <td>2019</td>\n",
       "    </tr>\n",
       "    <tr>\n",
       "      <th>6725</th>\n",
       "      <td>BP-2019-1273</td>\n",
       "      <td>1585/20190205/0</td>\n",
       "      <td>2019-07-15</td>\n",
       "      <td>Level 5 276 Flinders Street MELBOURNE VIC 3000</td>\n",
       "      <td>Proposed Fitout of Levels 5-9 for the Purpose ...</td>\n",
       "      <td>2922588</td>\n",
       "      <td>None</td>\n",
       "      <td>2020-05-28</td>\n",
       "      <td>2022-05-28</td>\n",
       "      <td>Certificate of Final Inspection</td>\n",
       "      <td>2019</td>\n",
       "    </tr>\n",
       "    <tr>\n",
       "      <th>6726</th>\n",
       "      <td>BP-2019-1273</td>\n",
       "      <td>1585/20190205/1A</td>\n",
       "      <td>2019-10-01</td>\n",
       "      <td>Part Level 8 276 Flinders Street MELBOURNE VIC...</td>\n",
       "      <td>Proposed Fitout of Levels 5-9 for the Purpose ...</td>\n",
       "      <td>2922588</td>\n",
       "      <td>None</td>\n",
       "      <td>2020-05-28</td>\n",
       "      <td>2022-05-28</td>\n",
       "      <td>Certificate of Final Inspection</td>\n",
       "      <td>2019</td>\n",
       "    </tr>\n",
       "    <tr>\n",
       "      <th>...</th>\n",
       "      <td>...</td>\n",
       "      <td>...</td>\n",
       "      <td>...</td>\n",
       "      <td>...</td>\n",
       "      <td>...</td>\n",
       "      <td>...</td>\n",
       "      <td>...</td>\n",
       "      <td>...</td>\n",
       "      <td>...</td>\n",
       "      <td>...</td>\n",
       "      <td>...</td>\n",
       "    </tr>\n",
       "    <tr>\n",
       "      <th>58419</th>\n",
       "      <td>BP-2019-1273</td>\n",
       "      <td>1585/20190205/0</td>\n",
       "      <td>2019-05-28</td>\n",
       "      <td>Part Level 6 276 Flinders Street MELBOURNE VIC...</td>\n",
       "      <td>Proposed Fitout of Levels 5-9 for the Purpose ...</td>\n",
       "      <td>2922588</td>\n",
       "      <td>None</td>\n",
       "      <td>2020-05-28</td>\n",
       "      <td>2022-05-28</td>\n",
       "      <td>Building Permit</td>\n",
       "      <td>2019</td>\n",
       "    </tr>\n",
       "    <tr>\n",
       "      <th>58420</th>\n",
       "      <td>BP-2019-1273</td>\n",
       "      <td>1585/20190205/0</td>\n",
       "      <td>2019-05-28</td>\n",
       "      <td>Level 7 276 Flinders Street MELBOURNE VIC 3000</td>\n",
       "      <td>Proposed Fitout of Levels 5-9 for the Purpose ...</td>\n",
       "      <td>2922588</td>\n",
       "      <td>None</td>\n",
       "      <td>2020-05-28</td>\n",
       "      <td>2022-05-28</td>\n",
       "      <td>Building Permit</td>\n",
       "      <td>2019</td>\n",
       "    </tr>\n",
       "    <tr>\n",
       "      <th>58421</th>\n",
       "      <td>BP-2019-1273</td>\n",
       "      <td>1585/20190205/1A</td>\n",
       "      <td>2019-10-01</td>\n",
       "      <td>Part Level 7 276 Flinders Street MELBOURNE VIC...</td>\n",
       "      <td>Proposed Fitout of Levels 5-9 for the Purpose ...</td>\n",
       "      <td>2922588</td>\n",
       "      <td>None</td>\n",
       "      <td>2020-05-28</td>\n",
       "      <td>2022-05-28</td>\n",
       "      <td>Certificate of Final Inspection</td>\n",
       "      <td>2019</td>\n",
       "    </tr>\n",
       "    <tr>\n",
       "      <th>58422</th>\n",
       "      <td>BP-2019-1273</td>\n",
       "      <td>1585/20190205/1A</td>\n",
       "      <td>2019-10-01</td>\n",
       "      <td>Part Level 6 276 Flinders Street MELBOURNE VIC...</td>\n",
       "      <td>Proposed Fitout of Levels 5-9 for the Purpose ...</td>\n",
       "      <td>2922588</td>\n",
       "      <td>None</td>\n",
       "      <td>2020-05-28</td>\n",
       "      <td>2022-05-28</td>\n",
       "      <td>Certificate of Final Inspection</td>\n",
       "      <td>2019</td>\n",
       "    </tr>\n",
       "    <tr>\n",
       "      <th>58423</th>\n",
       "      <td>BP-2019-1273</td>\n",
       "      <td>1585/20190205/1A</td>\n",
       "      <td>2019-10-01</td>\n",
       "      <td>Part Level 5 276 Flinders Street MELBOURNE VIC...</td>\n",
       "      <td>Proposed Fitout of Levels 5-9 for the Purpose ...</td>\n",
       "      <td>2922588</td>\n",
       "      <td>None</td>\n",
       "      <td>2020-05-28</td>\n",
       "      <td>2022-05-28</td>\n",
       "      <td>Certificate of Final Inspection</td>\n",
       "      <td>2019</td>\n",
       "    </tr>\n",
       "  </tbody>\n",
       "</table>\n",
       "<p>66 rows × 11 columns</p>\n",
       "</div>"
      ],
      "text/plain": [
       "        council_ref     permit_number issue_date  \\\n",
       "5218   BP-2019-1273  1585/20190205/1A 2019-05-28   \n",
       "6723   BP-2019-1273   1585/20190205/0 2019-10-01   \n",
       "6724   BP-2019-1273   1585/20190205/0 2019-07-15   \n",
       "6725   BP-2019-1273   1585/20190205/0 2019-07-15   \n",
       "6726   BP-2019-1273  1585/20190205/1A 2019-10-01   \n",
       "...             ...               ...        ...   \n",
       "58419  BP-2019-1273   1585/20190205/0 2019-05-28   \n",
       "58420  BP-2019-1273   1585/20190205/0 2019-05-28   \n",
       "58421  BP-2019-1273  1585/20190205/1A 2019-10-01   \n",
       "58422  BP-2019-1273  1585/20190205/1A 2019-10-01   \n",
       "58423  BP-2019-1273  1585/20190205/1A 2019-10-01   \n",
       "\n",
       "                                                 address  \\\n",
       "5218   Part Level 5 276 Flinders Street MELBOURNE VIC...   \n",
       "6723      Level 7 276 Flinders Street MELBOURNE VIC 3000   \n",
       "6724   Part Level 6 276 Flinders Street MELBOURNE VIC...   \n",
       "6725      Level 5 276 Flinders Street MELBOURNE VIC 3000   \n",
       "6726   Part Level 8 276 Flinders Street MELBOURNE VIC...   \n",
       "...                                                  ...   \n",
       "58419  Part Level 6 276 Flinders Street MELBOURNE VIC...   \n",
       "58420     Level 7 276 Flinders Street MELBOURNE VIC 3000   \n",
       "58421  Part Level 7 276 Flinders Street MELBOURNE VIC...   \n",
       "58422  Part Level 6 276 Flinders Street MELBOURNE VIC...   \n",
       "58423  Part Level 5 276 Flinders Street MELBOURNE VIC...   \n",
       "\n",
       "                                           desc_of_works  \\\n",
       "5218   Proposed Fitout of Levels 5-9 for the Purpose ...   \n",
       "6723   Proposed Fitout of Levels 5-9 for the Purpose ...   \n",
       "6724   Proposed Fitout of Levels 5-9 for the Purpose ...   \n",
       "6725   Proposed Fitout of Levels 5-9 for the Purpose ...   \n",
       "6726   Proposed Fitout of Levels 5-9 for the Purpose ...   \n",
       "...                                                  ...   \n",
       "58419  Proposed Fitout of Levels 5-9 for the Purpose ...   \n",
       "58420  Proposed Fitout of Levels 5-9 for the Purpose ...   \n",
       "58421  Proposed Fitout of Levels 5-9 for the Purpose ...   \n",
       "58422  Proposed Fitout of Levels 5-9 for the Purpose ...   \n",
       "58423  Proposed Fitout of Levels 5-9 for the Purpose ...   \n",
       "\n",
       "       estimated_cost_of_works rbs_number commence_by_date completed_by_date  \\\n",
       "5218                   2922588       None       2020-05-28        2022-05-28   \n",
       "6723                   2922588       None       2020-05-28        2022-05-28   \n",
       "6724                   2922588       None       2020-05-28        2022-05-28   \n",
       "6725                   2922588       None       2020-05-28        2022-05-28   \n",
       "6726                   2922588       None       2020-05-28        2022-05-28   \n",
       "...                        ...        ...              ...               ...   \n",
       "58419                  2922588       None       2020-05-28        2022-05-28   \n",
       "58420                  2922588       None       2020-05-28        2022-05-28   \n",
       "58421                  2922588       None       2020-05-28        2022-05-28   \n",
       "58422                  2922588       None       2020-05-28        2022-05-28   \n",
       "58423                  2922588       None       2020-05-28        2022-05-28   \n",
       "\n",
       "               permit_certificate_type  year  \n",
       "5218                   Building Permit  2019  \n",
       "6723   Certificate of Final Inspection  2019  \n",
       "6724   Certificate of Final Inspection  2019  \n",
       "6725   Certificate of Final Inspection  2019  \n",
       "6726   Certificate of Final Inspection  2019  \n",
       "...                                ...   ...  \n",
       "58419                  Building Permit  2019  \n",
       "58420                  Building Permit  2019  \n",
       "58421  Certificate of Final Inspection  2019  \n",
       "58422  Certificate of Final Inspection  2019  \n",
       "58423  Certificate of Final Inspection  2019  \n",
       "\n",
       "[66 rows x 11 columns]"
      ]
     },
     "execution_count": 29,
     "metadata": {},
     "output_type": "execute_result"
    }
   ],
   "source": [
    "predictor[predictor['council_ref'] == 'BP-2019-1273']"
   ]
  },
  {
   "cell_type": "code",
   "execution_count": 30,
   "metadata": {},
   "outputs": [
    {
     "data": {
      "text/html": [
       "<div>\n",
       "<style scoped>\n",
       "    .dataframe tbody tr th:only-of-type {\n",
       "        vertical-align: middle;\n",
       "    }\n",
       "\n",
       "    .dataframe tbody tr th {\n",
       "        vertical-align: top;\n",
       "    }\n",
       "\n",
       "    .dataframe thead th {\n",
       "        text-align: right;\n",
       "    }\n",
       "</style>\n",
       "<table border=\"1\" class=\"dataframe\">\n",
       "  <thead>\n",
       "    <tr style=\"text-align: right;\">\n",
       "      <th></th>\n",
       "      <th>council_ref</th>\n",
       "      <th>permit_number</th>\n",
       "      <th>issue_date</th>\n",
       "      <th>address</th>\n",
       "      <th>desc_of_works</th>\n",
       "      <th>estimated_cost_of_works</th>\n",
       "      <th>rbs_number</th>\n",
       "      <th>commence_by_date</th>\n",
       "      <th>completed_by_date</th>\n",
       "      <th>permit_certificate_type</th>\n",
       "      <th>year</th>\n",
       "    </tr>\n",
       "  </thead>\n",
       "  <tbody>\n",
       "    <tr>\n",
       "      <th>1802</th>\n",
       "      <td>BP-2020-1544</td>\n",
       "      <td>58176/7362369321433/0</td>\n",
       "      <td>2020-08-04</td>\n",
       "      <td>Unit 2202 Level 22 38 Rose Lane MELBOURNE VIC ...</td>\n",
       "      <td>Lots 1909, 2002, 2009, 2102, 2104 2109, 2110, ...</td>\n",
       "      <td>487857</td>\n",
       "      <td>BS-15013</td>\n",
       "      <td>2021-08-04</td>\n",
       "      <td>2022-08-04</td>\n",
       "      <td>Building Permit</td>\n",
       "      <td>2020</td>\n",
       "    </tr>\n",
       "    <tr>\n",
       "      <th>1803</th>\n",
       "      <td>BP-2020-1544</td>\n",
       "      <td>7362369321433/A</td>\n",
       "      <td>2020-08-04</td>\n",
       "      <td>Unit 2409 Level 24 38 Rose Lane MELBOURNE VIC ...</td>\n",
       "      <td>Lots 1909, 2002, 2009, 2102, 2104 2109, 2110, ...</td>\n",
       "      <td>487857</td>\n",
       "      <td>BS-15013</td>\n",
       "      <td>2021-08-04</td>\n",
       "      <td>2022-08-04</td>\n",
       "      <td>Building Permit</td>\n",
       "      <td>2020</td>\n",
       "    </tr>\n",
       "    <tr>\n",
       "      <th>1804</th>\n",
       "      <td>BP-2020-1544</td>\n",
       "      <td>7362369321433/A</td>\n",
       "      <td>2021-02-16</td>\n",
       "      <td>Unit 1909 Level 19 38 Rose Lane MELBOURNE VIC ...</td>\n",
       "      <td>Lots 1909, 2002, 2009, 2102, 2104 2109, 2110, ...</td>\n",
       "      <td>487857</td>\n",
       "      <td>BS-15013</td>\n",
       "      <td>2021-08-04</td>\n",
       "      <td>2022-08-04</td>\n",
       "      <td>Certificate of Final Inspection</td>\n",
       "      <td>2021</td>\n",
       "    </tr>\n",
       "    <tr>\n",
       "      <th>1805</th>\n",
       "      <td>BP-2020-1544</td>\n",
       "      <td>7362369321433/A</td>\n",
       "      <td>2021-02-16</td>\n",
       "      <td>Unit 2002 Level 20 38 Rose Lane MELBOURNE VIC ...</td>\n",
       "      <td>Lots 1909, 2002, 2009, 2102, 2104 2109, 2110, ...</td>\n",
       "      <td>487857</td>\n",
       "      <td>BS-15013</td>\n",
       "      <td>2021-08-04</td>\n",
       "      <td>2022-08-04</td>\n",
       "      <td>Certificate of Final Inspection</td>\n",
       "      <td>2021</td>\n",
       "    </tr>\n",
       "    <tr>\n",
       "      <th>1806</th>\n",
       "      <td>BP-2020-1544</td>\n",
       "      <td>7362369321433/A</td>\n",
       "      <td>2021-02-16</td>\n",
       "      <td>Unit 2102 Level 21 38 Rose Lane MELBOURNE VIC ...</td>\n",
       "      <td>Lots 1909, 2002, 2009, 2102, 2104 2109, 2110, ...</td>\n",
       "      <td>487857</td>\n",
       "      <td>BS-15013</td>\n",
       "      <td>2021-08-04</td>\n",
       "      <td>2022-08-04</td>\n",
       "      <td>Certificate of Final Inspection</td>\n",
       "      <td>2021</td>\n",
       "    </tr>\n",
       "    <tr>\n",
       "      <th>1807</th>\n",
       "      <td>BP-2020-1544</td>\n",
       "      <td>58176/7362369321433/0</td>\n",
       "      <td>2021-02-16</td>\n",
       "      <td>Unit 1909 Level 19 38 Rose Lane MELBOURNE VIC ...</td>\n",
       "      <td>Lots 1909, 2002, 2009, 2102, 2104 2109, 2110, ...</td>\n",
       "      <td>487857</td>\n",
       "      <td>BS-15013</td>\n",
       "      <td>2021-08-04</td>\n",
       "      <td>2022-08-04</td>\n",
       "      <td>Certificate of Final Inspection</td>\n",
       "      <td>2021</td>\n",
       "    </tr>\n",
       "    <tr>\n",
       "      <th>7221</th>\n",
       "      <td>BP-2020-1544</td>\n",
       "      <td>58176/7362369321433/0</td>\n",
       "      <td>2020-08-04</td>\n",
       "      <td>Unit 2209 Level 22 38 Rose Lane MELBOURNE VIC ...</td>\n",
       "      <td>Lots 1909, 2002, 2009, 2102, 2104 2109, 2110, ...</td>\n",
       "      <td>487857</td>\n",
       "      <td>BS-15013</td>\n",
       "      <td>2021-08-04</td>\n",
       "      <td>2022-08-04</td>\n",
       "      <td>Building Permit</td>\n",
       "      <td>2020</td>\n",
       "    </tr>\n",
       "    <tr>\n",
       "      <th>7222</th>\n",
       "      <td>BP-2020-1544</td>\n",
       "      <td>7362369321433/A</td>\n",
       "      <td>2020-08-04</td>\n",
       "      <td>Unit 2104 Level 21 38 Rose Lane MELBOURNE VIC ...</td>\n",
       "      <td>Lots 1909, 2002, 2009, 2102, 2104 2109, 2110, ...</td>\n",
       "      <td>487857</td>\n",
       "      <td>BS-15013</td>\n",
       "      <td>2021-08-04</td>\n",
       "      <td>2022-08-04</td>\n",
       "      <td>Building Permit</td>\n",
       "      <td>2020</td>\n",
       "    </tr>\n",
       "    <tr>\n",
       "      <th>16788</th>\n",
       "      <td>BP-2020-1544</td>\n",
       "      <td>58176/7362369321433/0</td>\n",
       "      <td>2020-08-04</td>\n",
       "      <td>Unit 2509 Level 25 38 Rose Lane MELBOURNE VIC ...</td>\n",
       "      <td>Lots 1909, 2002, 2009, 2102, 2104 2109, 2110, ...</td>\n",
       "      <td>487857</td>\n",
       "      <td>BS-15013</td>\n",
       "      <td>2021-08-04</td>\n",
       "      <td>2022-08-04</td>\n",
       "      <td>Building Permit</td>\n",
       "      <td>2020</td>\n",
       "    </tr>\n",
       "    <tr>\n",
       "      <th>16789</th>\n",
       "      <td>BP-2020-1544</td>\n",
       "      <td>7362369321433/A</td>\n",
       "      <td>2021-02-16</td>\n",
       "      <td>Unit 2509 Level 25 38 Rose Lane MELBOURNE VIC ...</td>\n",
       "      <td>Lots 1909, 2002, 2009, 2102, 2104 2109, 2110, ...</td>\n",
       "      <td>487857</td>\n",
       "      <td>BS-15013</td>\n",
       "      <td>2021-08-04</td>\n",
       "      <td>2022-08-04</td>\n",
       "      <td>Certificate of Final Inspection</td>\n",
       "      <td>2021</td>\n",
       "    </tr>\n",
       "    <tr>\n",
       "      <th>16790</th>\n",
       "      <td>BP-2020-1544</td>\n",
       "      <td>58176/7362369321433/0</td>\n",
       "      <td>2021-02-16</td>\n",
       "      <td>20-40 Rose Lane MELBOURNE VIC 3000</td>\n",
       "      <td>Lots 1909, 2002, 2009, 2102, 2104 2109, 2110, ...</td>\n",
       "      <td>487857</td>\n",
       "      <td>BS-15013</td>\n",
       "      <td>2021-08-04</td>\n",
       "      <td>2022-08-04</td>\n",
       "      <td>Certificate of Final Inspection</td>\n",
       "      <td>2021</td>\n",
       "    </tr>\n",
       "    <tr>\n",
       "      <th>16791</th>\n",
       "      <td>BP-2020-1544</td>\n",
       "      <td>58176/7362369321433/0</td>\n",
       "      <td>2021-02-16</td>\n",
       "      <td>Unit 2102 Level 21 38 Rose Lane MELBOURNE VIC ...</td>\n",
       "      <td>Lots 1909, 2002, 2009, 2102, 2104 2109, 2110, ...</td>\n",
       "      <td>487857</td>\n",
       "      <td>BS-15013</td>\n",
       "      <td>2021-08-04</td>\n",
       "      <td>2022-08-04</td>\n",
       "      <td>Certificate of Final Inspection</td>\n",
       "      <td>2021</td>\n",
       "    </tr>\n",
       "    <tr>\n",
       "      <th>16792</th>\n",
       "      <td>BP-2020-1544</td>\n",
       "      <td>58176/7362369321433/0</td>\n",
       "      <td>2021-02-16</td>\n",
       "      <td>Unit 2509 Level 25 38 Rose Lane MELBOURNE VIC ...</td>\n",
       "      <td>Lots 1909, 2002, 2009, 2102, 2104 2109, 2110, ...</td>\n",
       "      <td>487857</td>\n",
       "      <td>BS-15013</td>\n",
       "      <td>2021-08-04</td>\n",
       "      <td>2022-08-04</td>\n",
       "      <td>Certificate of Final Inspection</td>\n",
       "      <td>2021</td>\n",
       "    </tr>\n",
       "    <tr>\n",
       "      <th>22755</th>\n",
       "      <td>BP-2020-1544</td>\n",
       "      <td>58176/7362369321433/0</td>\n",
       "      <td>2020-08-04</td>\n",
       "      <td>Unit 2109 Level 21 38 Rose Lane MELBOURNE VIC ...</td>\n",
       "      <td>Lots 1909, 2002, 2009, 2102, 2104 2109, 2110, ...</td>\n",
       "      <td>487857</td>\n",
       "      <td>BS-15013</td>\n",
       "      <td>2021-08-04</td>\n",
       "      <td>2022-08-04</td>\n",
       "      <td>Building Permit</td>\n",
       "      <td>2020</td>\n",
       "    </tr>\n",
       "    <tr>\n",
       "      <th>22756</th>\n",
       "      <td>BP-2020-1544</td>\n",
       "      <td>58176/7362369321433/0</td>\n",
       "      <td>2020-08-04</td>\n",
       "      <td>Unit 2502 Level 25 38 Rose Lane MELBOURNE VIC ...</td>\n",
       "      <td>Lots 1909, 2002, 2009, 2102, 2104 2109, 2110, ...</td>\n",
       "      <td>487857</td>\n",
       "      <td>BS-15013</td>\n",
       "      <td>2021-08-04</td>\n",
       "      <td>2022-08-04</td>\n",
       "      <td>Building Permit</td>\n",
       "      <td>2020</td>\n",
       "    </tr>\n",
       "    <tr>\n",
       "      <th>22757</th>\n",
       "      <td>BP-2020-1544</td>\n",
       "      <td>7362369321433/A</td>\n",
       "      <td>2020-08-04</td>\n",
       "      <td>Unit 1909 Level 19 38 Rose Lane MELBOURNE VIC ...</td>\n",
       "      <td>Lots 1909, 2002, 2009, 2102, 2104 2109, 2110, ...</td>\n",
       "      <td>487857</td>\n",
       "      <td>BS-15013</td>\n",
       "      <td>2021-08-04</td>\n",
       "      <td>2022-08-04</td>\n",
       "      <td>Building Permit</td>\n",
       "      <td>2020</td>\n",
       "    </tr>\n",
       "    <tr>\n",
       "      <th>22758</th>\n",
       "      <td>BP-2020-1544</td>\n",
       "      <td>7362369321433/A</td>\n",
       "      <td>2020-08-04</td>\n",
       "      <td>Unit 2002 Level 20 38 Rose Lane MELBOURNE VIC ...</td>\n",
       "      <td>Lots 1909, 2002, 2009, 2102, 2104 2109, 2110, ...</td>\n",
       "      <td>487857</td>\n",
       "      <td>BS-15013</td>\n",
       "      <td>2021-08-04</td>\n",
       "      <td>2022-08-04</td>\n",
       "      <td>Building Permit</td>\n",
       "      <td>2020</td>\n",
       "    </tr>\n",
       "    <tr>\n",
       "      <th>22759</th>\n",
       "      <td>BP-2020-1544</td>\n",
       "      <td>7362369321433/A</td>\n",
       "      <td>2021-02-16</td>\n",
       "      <td>Unit 2104 Level 21 38 Rose Lane MELBOURNE VIC ...</td>\n",
       "      <td>Lots 1909, 2002, 2009, 2102, 2104 2109, 2110, ...</td>\n",
       "      <td>487857</td>\n",
       "      <td>BS-15013</td>\n",
       "      <td>2021-08-04</td>\n",
       "      <td>2022-08-04</td>\n",
       "      <td>Certificate of Final Inspection</td>\n",
       "      <td>2021</td>\n",
       "    </tr>\n",
       "    <tr>\n",
       "      <th>22760</th>\n",
       "      <td>BP-2020-1544</td>\n",
       "      <td>7362369321433/A</td>\n",
       "      <td>2021-02-16</td>\n",
       "      <td>Unit 2409 Level 24 38 Rose Lane MELBOURNE VIC ...</td>\n",
       "      <td>Lots 1909, 2002, 2009, 2102, 2104 2109, 2110, ...</td>\n",
       "      <td>487857</td>\n",
       "      <td>BS-15013</td>\n",
       "      <td>2021-08-04</td>\n",
       "      <td>2022-08-04</td>\n",
       "      <td>Certificate of Final Inspection</td>\n",
       "      <td>2021</td>\n",
       "    </tr>\n",
       "    <tr>\n",
       "      <th>22761</th>\n",
       "      <td>BP-2020-1544</td>\n",
       "      <td>7362369321433/A</td>\n",
       "      <td>2021-02-16</td>\n",
       "      <td>Unit 2609 Level 26 38 Rose Lane MELBOURNE VIC ...</td>\n",
       "      <td>Lots 1909, 2002, 2009, 2102, 2104 2109, 2110, ...</td>\n",
       "      <td>487857</td>\n",
       "      <td>BS-15013</td>\n",
       "      <td>2021-08-04</td>\n",
       "      <td>2022-08-04</td>\n",
       "      <td>Certificate of Final Inspection</td>\n",
       "      <td>2021</td>\n",
       "    </tr>\n",
       "    <tr>\n",
       "      <th>22762</th>\n",
       "      <td>BP-2020-1544</td>\n",
       "      <td>58176/7362369321433/0</td>\n",
       "      <td>2020-08-04</td>\n",
       "      <td>20-40 Rose Lane MELBOURNE VIC 3000</td>\n",
       "      <td>Lots 1909, 2002, 2009, 2102, 2104 2109, 2110, ...</td>\n",
       "      <td>487857</td>\n",
       "      <td>BS-15013</td>\n",
       "      <td>2021-08-04</td>\n",
       "      <td>2022-08-04</td>\n",
       "      <td>Building Permit</td>\n",
       "      <td>2020</td>\n",
       "    </tr>\n",
       "    <tr>\n",
       "      <th>28284</th>\n",
       "      <td>BP-2020-1544</td>\n",
       "      <td>58176/7362369321433/0</td>\n",
       "      <td>2020-08-04</td>\n",
       "      <td>Unit 2002 Level 20 38 Rose Lane MELBOURNE VIC ...</td>\n",
       "      <td>Lots 1909, 2002, 2009, 2102, 2104 2109, 2110, ...</td>\n",
       "      <td>487857</td>\n",
       "      <td>BS-15013</td>\n",
       "      <td>2021-08-04</td>\n",
       "      <td>2022-08-04</td>\n",
       "      <td>Building Permit</td>\n",
       "      <td>2020</td>\n",
       "    </tr>\n",
       "    <tr>\n",
       "      <th>28285</th>\n",
       "      <td>BP-2020-1544</td>\n",
       "      <td>7362369321433/A</td>\n",
       "      <td>2020-08-04</td>\n",
       "      <td>Unit 2102 Level 21 38 Rose Lane MELBOURNE VIC ...</td>\n",
       "      <td>Lots 1909, 2002, 2009, 2102, 2104 2109, 2110, ...</td>\n",
       "      <td>487857</td>\n",
       "      <td>BS-15013</td>\n",
       "      <td>2021-08-04</td>\n",
       "      <td>2022-08-04</td>\n",
       "      <td>Building Permit</td>\n",
       "      <td>2020</td>\n",
       "    </tr>\n",
       "    <tr>\n",
       "      <th>28286</th>\n",
       "      <td>BP-2020-1544</td>\n",
       "      <td>7362369321433/A</td>\n",
       "      <td>2020-08-04</td>\n",
       "      <td>Unit 2502 Level 25 38 Rose Lane MELBOURNE VIC ...</td>\n",
       "      <td>Lots 1909, 2002, 2009, 2102, 2104 2109, 2110, ...</td>\n",
       "      <td>487857</td>\n",
       "      <td>BS-15013</td>\n",
       "      <td>2021-08-04</td>\n",
       "      <td>2022-08-04</td>\n",
       "      <td>Building Permit</td>\n",
       "      <td>2020</td>\n",
       "    </tr>\n",
       "    <tr>\n",
       "      <th>28287</th>\n",
       "      <td>BP-2020-1544</td>\n",
       "      <td>7362369321433/A</td>\n",
       "      <td>2020-08-04</td>\n",
       "      <td>Unit 2509 Level 25 38 Rose Lane MELBOURNE VIC ...</td>\n",
       "      <td>Lots 1909, 2002, 2009, 2102, 2104 2109, 2110, ...</td>\n",
       "      <td>487857</td>\n",
       "      <td>BS-15013</td>\n",
       "      <td>2021-08-04</td>\n",
       "      <td>2022-08-04</td>\n",
       "      <td>Building Permit</td>\n",
       "      <td>2020</td>\n",
       "    </tr>\n",
       "    <tr>\n",
       "      <th>28288</th>\n",
       "      <td>BP-2020-1544</td>\n",
       "      <td>7362369321433/A</td>\n",
       "      <td>2021-02-16</td>\n",
       "      <td>20-40 Rose Lane MELBOURNE VIC 3000</td>\n",
       "      <td>Lots 1909, 2002, 2009, 2102, 2104 2109, 2110, ...</td>\n",
       "      <td>487857</td>\n",
       "      <td>BS-15013</td>\n",
       "      <td>2021-08-04</td>\n",
       "      <td>2022-08-04</td>\n",
       "      <td>Certificate of Final Inspection</td>\n",
       "      <td>2021</td>\n",
       "    </tr>\n",
       "    <tr>\n",
       "      <th>28289</th>\n",
       "      <td>BP-2020-1544</td>\n",
       "      <td>7362369321433/A</td>\n",
       "      <td>2021-02-16</td>\n",
       "      <td>Unit 2309 Level 23 38 Rose Lane MELBOURNE VIC ...</td>\n",
       "      <td>Lots 1909, 2002, 2009, 2102, 2104 2109, 2110, ...</td>\n",
       "      <td>487857</td>\n",
       "      <td>BS-15013</td>\n",
       "      <td>2021-08-04</td>\n",
       "      <td>2022-08-04</td>\n",
       "      <td>Certificate of Final Inspection</td>\n",
       "      <td>2021</td>\n",
       "    </tr>\n",
       "    <tr>\n",
       "      <th>28290</th>\n",
       "      <td>BP-2020-1544</td>\n",
       "      <td>58176/7362369321433/0</td>\n",
       "      <td>2020-08-04</td>\n",
       "      <td>Unit 2609 Level 26 38 Rose Lane MELBOURNE VIC ...</td>\n",
       "      <td>Lots 1909, 2002, 2009, 2102, 2104 2109, 2110, ...</td>\n",
       "      <td>487857</td>\n",
       "      <td>BS-15013</td>\n",
       "      <td>2021-08-04</td>\n",
       "      <td>2022-08-04</td>\n",
       "      <td>Building Permit</td>\n",
       "      <td>2020</td>\n",
       "    </tr>\n",
       "    <tr>\n",
       "      <th>38054</th>\n",
       "      <td>BP-2020-1544</td>\n",
       "      <td>58176/7362369321433/0</td>\n",
       "      <td>2020-08-04</td>\n",
       "      <td>Unit 1909 Level 19 38 Rose Lane MELBOURNE VIC ...</td>\n",
       "      <td>Lots 1909, 2002, 2009, 2102, 2104 2109, 2110, ...</td>\n",
       "      <td>487857</td>\n",
       "      <td>BS-15013</td>\n",
       "      <td>2021-08-04</td>\n",
       "      <td>2022-08-04</td>\n",
       "      <td>Building Permit</td>\n",
       "      <td>2020</td>\n",
       "    </tr>\n",
       "    <tr>\n",
       "      <th>38055</th>\n",
       "      <td>BP-2020-1544</td>\n",
       "      <td>58176/7362369321433/0</td>\n",
       "      <td>2020-08-04</td>\n",
       "      <td>Unit 2104 Level 21 38 Rose Lane MELBOURNE VIC ...</td>\n",
       "      <td>Lots 1909, 2002, 2009, 2102, 2104 2109, 2110, ...</td>\n",
       "      <td>487857</td>\n",
       "      <td>BS-15013</td>\n",
       "      <td>2021-08-04</td>\n",
       "      <td>2022-08-04</td>\n",
       "      <td>Building Permit</td>\n",
       "      <td>2020</td>\n",
       "    </tr>\n",
       "    <tr>\n",
       "      <th>38056</th>\n",
       "      <td>BP-2020-1544</td>\n",
       "      <td>7362369321433/A</td>\n",
       "      <td>2020-08-04</td>\n",
       "      <td>20-40 Rose Lane MELBOURNE VIC 3000</td>\n",
       "      <td>Lots 1909, 2002, 2009, 2102, 2104 2109, 2110, ...</td>\n",
       "      <td>487857</td>\n",
       "      <td>BS-15013</td>\n",
       "      <td>2021-08-04</td>\n",
       "      <td>2022-08-04</td>\n",
       "      <td>Building Permit</td>\n",
       "      <td>2020</td>\n",
       "    </tr>\n",
       "    <tr>\n",
       "      <th>38057</th>\n",
       "      <td>BP-2020-1544</td>\n",
       "      <td>7362369321433/A</td>\n",
       "      <td>2020-08-04</td>\n",
       "      <td>Unit 2009 Level 20 38 Rose Lane MELBOURNE VIC ...</td>\n",
       "      <td>Lots 1909, 2002, 2009, 2102, 2104 2109, 2110, ...</td>\n",
       "      <td>487857</td>\n",
       "      <td>BS-15013</td>\n",
       "      <td>2021-08-04</td>\n",
       "      <td>2022-08-04</td>\n",
       "      <td>Building Permit</td>\n",
       "      <td>2020</td>\n",
       "    </tr>\n",
       "    <tr>\n",
       "      <th>38058</th>\n",
       "      <td>BP-2020-1544</td>\n",
       "      <td>7362369321433/A</td>\n",
       "      <td>2020-08-04</td>\n",
       "      <td>Unit 2109 Level 21 38 Rose Lane MELBOURNE VIC ...</td>\n",
       "      <td>Lots 1909, 2002, 2009, 2102, 2104 2109, 2110, ...</td>\n",
       "      <td>487857</td>\n",
       "      <td>BS-15013</td>\n",
       "      <td>2021-08-04</td>\n",
       "      <td>2022-08-04</td>\n",
       "      <td>Building Permit</td>\n",
       "      <td>2020</td>\n",
       "    </tr>\n",
       "    <tr>\n",
       "      <th>38059</th>\n",
       "      <td>BP-2020-1544</td>\n",
       "      <td>7362369321433/A</td>\n",
       "      <td>2020-08-04</td>\n",
       "      <td>Unit 2209 Level 22 38 Rose Lane MELBOURNE VIC ...</td>\n",
       "      <td>Lots 1909, 2002, 2009, 2102, 2104 2109, 2110, ...</td>\n",
       "      <td>487857</td>\n",
       "      <td>BS-15013</td>\n",
       "      <td>2021-08-04</td>\n",
       "      <td>2022-08-04</td>\n",
       "      <td>Building Permit</td>\n",
       "      <td>2020</td>\n",
       "    </tr>\n",
       "    <tr>\n",
       "      <th>38060</th>\n",
       "      <td>BP-2020-1544</td>\n",
       "      <td>7362369321433/A</td>\n",
       "      <td>2021-02-16</td>\n",
       "      <td>Unit 2109 Level 21 38 Rose Lane MELBOURNE VIC ...</td>\n",
       "      <td>Lots 1909, 2002, 2009, 2102, 2104 2109, 2110, ...</td>\n",
       "      <td>487857</td>\n",
       "      <td>BS-15013</td>\n",
       "      <td>2021-08-04</td>\n",
       "      <td>2022-08-04</td>\n",
       "      <td>Certificate of Final Inspection</td>\n",
       "      <td>2021</td>\n",
       "    </tr>\n",
       "    <tr>\n",
       "      <th>38061</th>\n",
       "      <td>BP-2020-1544</td>\n",
       "      <td>7362369321433/A</td>\n",
       "      <td>2021-02-16</td>\n",
       "      <td>Unit 2209 Level 22 38 Rose Lane MELBOURNE VIC ...</td>\n",
       "      <td>Lots 1909, 2002, 2009, 2102, 2104 2109, 2110, ...</td>\n",
       "      <td>487857</td>\n",
       "      <td>BS-15013</td>\n",
       "      <td>2021-08-04</td>\n",
       "      <td>2022-08-04</td>\n",
       "      <td>Certificate of Final Inspection</td>\n",
       "      <td>2021</td>\n",
       "    </tr>\n",
       "    <tr>\n",
       "      <th>38062</th>\n",
       "      <td>BP-2020-1544</td>\n",
       "      <td>58176/7362369321433/0</td>\n",
       "      <td>2021-02-16</td>\n",
       "      <td>Unit 2502 Level 25 38 Rose Lane MELBOURNE VIC ...</td>\n",
       "      <td>Lots 1909, 2002, 2009, 2102, 2104 2109, 2110, ...</td>\n",
       "      <td>487857</td>\n",
       "      <td>BS-15013</td>\n",
       "      <td>2021-08-04</td>\n",
       "      <td>2022-08-04</td>\n",
       "      <td>Certificate of Final Inspection</td>\n",
       "      <td>2021</td>\n",
       "    </tr>\n",
       "    <tr>\n",
       "      <th>44295</th>\n",
       "      <td>BP-2020-1544</td>\n",
       "      <td>58176/7362369321433/0</td>\n",
       "      <td>2020-08-04</td>\n",
       "      <td>Unit 2102 Level 21 38 Rose Lane MELBOURNE VIC ...</td>\n",
       "      <td>Lots 1909, 2002, 2009, 2102, 2104 2109, 2110, ...</td>\n",
       "      <td>487857</td>\n",
       "      <td>BS-15013</td>\n",
       "      <td>2021-08-04</td>\n",
       "      <td>2022-08-04</td>\n",
       "      <td>Building Permit</td>\n",
       "      <td>2020</td>\n",
       "    </tr>\n",
       "    <tr>\n",
       "      <th>44296</th>\n",
       "      <td>BP-2020-1544</td>\n",
       "      <td>7362369321433/A</td>\n",
       "      <td>2020-08-04</td>\n",
       "      <td>Unit 2202 Level 22 38 Rose Lane MELBOURNE VIC ...</td>\n",
       "      <td>Lots 1909, 2002, 2009, 2102, 2104 2109, 2110, ...</td>\n",
       "      <td>487857</td>\n",
       "      <td>BS-15013</td>\n",
       "      <td>2021-08-04</td>\n",
       "      <td>2022-08-04</td>\n",
       "      <td>Building Permit</td>\n",
       "      <td>2020</td>\n",
       "    </tr>\n",
       "    <tr>\n",
       "      <th>44297</th>\n",
       "      <td>BP-2020-1544</td>\n",
       "      <td>7362369321433/A</td>\n",
       "      <td>2021-02-16</td>\n",
       "      <td>Unit 2202 Level 22 38 Rose Lane MELBOURNE VIC ...</td>\n",
       "      <td>Lots 1909, 2002, 2009, 2102, 2104 2109, 2110, ...</td>\n",
       "      <td>487857</td>\n",
       "      <td>BS-15013</td>\n",
       "      <td>2021-08-04</td>\n",
       "      <td>2022-08-04</td>\n",
       "      <td>Certificate of Final Inspection</td>\n",
       "      <td>2021</td>\n",
       "    </tr>\n",
       "    <tr>\n",
       "      <th>44298</th>\n",
       "      <td>BP-2020-1544</td>\n",
       "      <td>58176/7362369321433/0</td>\n",
       "      <td>2021-02-16</td>\n",
       "      <td>Unit 2104 Level 21 38 Rose Lane MELBOURNE VIC ...</td>\n",
       "      <td>Lots 1909, 2002, 2009, 2102, 2104 2109, 2110, ...</td>\n",
       "      <td>487857</td>\n",
       "      <td>BS-15013</td>\n",
       "      <td>2021-08-04</td>\n",
       "      <td>2022-08-04</td>\n",
       "      <td>Certificate of Final Inspection</td>\n",
       "      <td>2021</td>\n",
       "    </tr>\n",
       "    <tr>\n",
       "      <th>44299</th>\n",
       "      <td>BP-2020-1544</td>\n",
       "      <td>58176/7362369321433/0</td>\n",
       "      <td>2021-02-16</td>\n",
       "      <td>Unit 2109 Level 21 38 Rose Lane MELBOURNE VIC ...</td>\n",
       "      <td>Lots 1909, 2002, 2009, 2102, 2104 2109, 2110, ...</td>\n",
       "      <td>487857</td>\n",
       "      <td>BS-15013</td>\n",
       "      <td>2021-08-04</td>\n",
       "      <td>2022-08-04</td>\n",
       "      <td>Certificate of Final Inspection</td>\n",
       "      <td>2021</td>\n",
       "    </tr>\n",
       "    <tr>\n",
       "      <th>44300</th>\n",
       "      <td>BP-2020-1544</td>\n",
       "      <td>58176/7362369321433/0</td>\n",
       "      <td>2021-02-16</td>\n",
       "      <td>Unit 2609 Level 26 38 Rose Lane MELBOURNE VIC ...</td>\n",
       "      <td>Lots 1909, 2002, 2009, 2102, 2104 2109, 2110, ...</td>\n",
       "      <td>487857</td>\n",
       "      <td>BS-15013</td>\n",
       "      <td>2021-08-04</td>\n",
       "      <td>2022-08-04</td>\n",
       "      <td>Certificate of Final Inspection</td>\n",
       "      <td>2021</td>\n",
       "    </tr>\n",
       "    <tr>\n",
       "      <th>49621</th>\n",
       "      <td>BP-2020-1544</td>\n",
       "      <td>58176/7362369321433/0</td>\n",
       "      <td>2020-08-04</td>\n",
       "      <td>Unit 2009 Level 20 38 Rose Lane MELBOURNE VIC ...</td>\n",
       "      <td>Lots 1909, 2002, 2009, 2102, 2104 2109, 2110, ...</td>\n",
       "      <td>487857</td>\n",
       "      <td>BS-15013</td>\n",
       "      <td>2021-08-04</td>\n",
       "      <td>2022-08-04</td>\n",
       "      <td>Building Permit</td>\n",
       "      <td>2020</td>\n",
       "    </tr>\n",
       "    <tr>\n",
       "      <th>49622</th>\n",
       "      <td>BP-2020-1544</td>\n",
       "      <td>58176/7362369321433/0</td>\n",
       "      <td>2020-08-04</td>\n",
       "      <td>Unit 2409 Level 24 38 Rose Lane MELBOURNE VIC ...</td>\n",
       "      <td>Lots 1909, 2002, 2009, 2102, 2104 2109, 2110, ...</td>\n",
       "      <td>487857</td>\n",
       "      <td>BS-15013</td>\n",
       "      <td>2021-08-04</td>\n",
       "      <td>2022-08-04</td>\n",
       "      <td>Building Permit</td>\n",
       "      <td>2020</td>\n",
       "    </tr>\n",
       "    <tr>\n",
       "      <th>49623</th>\n",
       "      <td>BP-2020-1544</td>\n",
       "      <td>7362369321433/A</td>\n",
       "      <td>2021-02-16</td>\n",
       "      <td>Unit 2502 Level 25 38 Rose Lane MELBOURNE VIC ...</td>\n",
       "      <td>Lots 1909, 2002, 2009, 2102, 2104 2109, 2110, ...</td>\n",
       "      <td>487857</td>\n",
       "      <td>BS-15013</td>\n",
       "      <td>2021-08-04</td>\n",
       "      <td>2022-08-04</td>\n",
       "      <td>Certificate of Final Inspection</td>\n",
       "      <td>2021</td>\n",
       "    </tr>\n",
       "    <tr>\n",
       "      <th>49624</th>\n",
       "      <td>BP-2020-1544</td>\n",
       "      <td>58176/7362369321433/0</td>\n",
       "      <td>2021-02-16</td>\n",
       "      <td>Unit 2009 Level 20 38 Rose Lane MELBOURNE VIC ...</td>\n",
       "      <td>Lots 1909, 2002, 2009, 2102, 2104 2109, 2110, ...</td>\n",
       "      <td>487857</td>\n",
       "      <td>BS-15013</td>\n",
       "      <td>2021-08-04</td>\n",
       "      <td>2022-08-04</td>\n",
       "      <td>Certificate of Final Inspection</td>\n",
       "      <td>2021</td>\n",
       "    </tr>\n",
       "    <tr>\n",
       "      <th>49625</th>\n",
       "      <td>BP-2020-1544</td>\n",
       "      <td>58176/7362369321433/0</td>\n",
       "      <td>2021-02-16</td>\n",
       "      <td>Unit 2209 Level 22 38 Rose Lane MELBOURNE VIC ...</td>\n",
       "      <td>Lots 1909, 2002, 2009, 2102, 2104 2109, 2110, ...</td>\n",
       "      <td>487857</td>\n",
       "      <td>BS-15013</td>\n",
       "      <td>2021-08-04</td>\n",
       "      <td>2022-08-04</td>\n",
       "      <td>Certificate of Final Inspection</td>\n",
       "      <td>2021</td>\n",
       "    </tr>\n",
       "    <tr>\n",
       "      <th>49626</th>\n",
       "      <td>BP-2020-1544</td>\n",
       "      <td>58176/7362369321433/0</td>\n",
       "      <td>2021-02-16</td>\n",
       "      <td>Unit 2309 Level 23 38 Rose Lane MELBOURNE VIC ...</td>\n",
       "      <td>Lots 1909, 2002, 2009, 2102, 2104 2109, 2110, ...</td>\n",
       "      <td>487857</td>\n",
       "      <td>BS-15013</td>\n",
       "      <td>2021-08-04</td>\n",
       "      <td>2022-08-04</td>\n",
       "      <td>Certificate of Final Inspection</td>\n",
       "      <td>2021</td>\n",
       "    </tr>\n",
       "    <tr>\n",
       "      <th>49627</th>\n",
       "      <td>BP-2020-1544</td>\n",
       "      <td>58176/7362369321433/0</td>\n",
       "      <td>2021-02-16</td>\n",
       "      <td>Unit 2409 Level 24 38 Rose Lane MELBOURNE VIC ...</td>\n",
       "      <td>Lots 1909, 2002, 2009, 2102, 2104 2109, 2110, ...</td>\n",
       "      <td>487857</td>\n",
       "      <td>BS-15013</td>\n",
       "      <td>2021-08-04</td>\n",
       "      <td>2022-08-04</td>\n",
       "      <td>Certificate of Final Inspection</td>\n",
       "      <td>2021</td>\n",
       "    </tr>\n",
       "    <tr>\n",
       "      <th>59136</th>\n",
       "      <td>BP-2020-1544</td>\n",
       "      <td>58176/7362369321433/0</td>\n",
       "      <td>2020-08-04</td>\n",
       "      <td>Unit 2309 Level 23 38 Rose Lane MELBOURNE VIC ...</td>\n",
       "      <td>Lots 1909, 2002, 2009, 2102, 2104 2109, 2110, ...</td>\n",
       "      <td>487857</td>\n",
       "      <td>BS-15013</td>\n",
       "      <td>2021-08-04</td>\n",
       "      <td>2022-08-04</td>\n",
       "      <td>Building Permit</td>\n",
       "      <td>2020</td>\n",
       "    </tr>\n",
       "    <tr>\n",
       "      <th>59137</th>\n",
       "      <td>BP-2020-1544</td>\n",
       "      <td>7362369321433/A</td>\n",
       "      <td>2020-08-04</td>\n",
       "      <td>Unit 2309 Level 23 38 Rose Lane MELBOURNE VIC ...</td>\n",
       "      <td>Lots 1909, 2002, 2009, 2102, 2104 2109, 2110, ...</td>\n",
       "      <td>487857</td>\n",
       "      <td>BS-15013</td>\n",
       "      <td>2021-08-04</td>\n",
       "      <td>2022-08-04</td>\n",
       "      <td>Building Permit</td>\n",
       "      <td>2020</td>\n",
       "    </tr>\n",
       "    <tr>\n",
       "      <th>59138</th>\n",
       "      <td>BP-2020-1544</td>\n",
       "      <td>7362369321433/A</td>\n",
       "      <td>2020-08-04</td>\n",
       "      <td>Unit 2609 Level 26 38 Rose Lane MELBOURNE VIC ...</td>\n",
       "      <td>Lots 1909, 2002, 2009, 2102, 2104 2109, 2110, ...</td>\n",
       "      <td>487857</td>\n",
       "      <td>BS-15013</td>\n",
       "      <td>2021-08-04</td>\n",
       "      <td>2022-08-04</td>\n",
       "      <td>Building Permit</td>\n",
       "      <td>2020</td>\n",
       "    </tr>\n",
       "    <tr>\n",
       "      <th>59139</th>\n",
       "      <td>BP-2020-1544</td>\n",
       "      <td>7362369321433/A</td>\n",
       "      <td>2021-02-16</td>\n",
       "      <td>Unit 2009 Level 20 38 Rose Lane MELBOURNE VIC ...</td>\n",
       "      <td>Lots 1909, 2002, 2009, 2102, 2104 2109, 2110, ...</td>\n",
       "      <td>487857</td>\n",
       "      <td>BS-15013</td>\n",
       "      <td>2021-08-04</td>\n",
       "      <td>2022-08-04</td>\n",
       "      <td>Certificate of Final Inspection</td>\n",
       "      <td>2021</td>\n",
       "    </tr>\n",
       "    <tr>\n",
       "      <th>59140</th>\n",
       "      <td>BP-2020-1544</td>\n",
       "      <td>58176/7362369321433/0</td>\n",
       "      <td>2021-02-16</td>\n",
       "      <td>Unit 2002 Level 20 38 Rose Lane MELBOURNE VIC ...</td>\n",
       "      <td>Lots 1909, 2002, 2009, 2102, 2104 2109, 2110, ...</td>\n",
       "      <td>487857</td>\n",
       "      <td>BS-15013</td>\n",
       "      <td>2021-08-04</td>\n",
       "      <td>2022-08-04</td>\n",
       "      <td>Certificate of Final Inspection</td>\n",
       "      <td>2021</td>\n",
       "    </tr>\n",
       "    <tr>\n",
       "      <th>59141</th>\n",
       "      <td>BP-2020-1544</td>\n",
       "      <td>58176/7362369321433/0</td>\n",
       "      <td>2021-02-16</td>\n",
       "      <td>Unit 2202 Level 22 38 Rose Lane MELBOURNE VIC ...</td>\n",
       "      <td>Lots 1909, 2002, 2009, 2102, 2104 2109, 2110, ...</td>\n",
       "      <td>487857</td>\n",
       "      <td>BS-15013</td>\n",
       "      <td>2021-08-04</td>\n",
       "      <td>2022-08-04</td>\n",
       "      <td>Certificate of Final Inspection</td>\n",
       "      <td>2021</td>\n",
       "    </tr>\n",
       "  </tbody>\n",
       "</table>\n",
       "</div>"
      ],
      "text/plain": [
       "        council_ref          permit_number issue_date  \\\n",
       "1802   BP-2020-1544  58176/7362369321433/0 2020-08-04   \n",
       "1803   BP-2020-1544        7362369321433/A 2020-08-04   \n",
       "1804   BP-2020-1544        7362369321433/A 2021-02-16   \n",
       "1805   BP-2020-1544        7362369321433/A 2021-02-16   \n",
       "1806   BP-2020-1544        7362369321433/A 2021-02-16   \n",
       "1807   BP-2020-1544  58176/7362369321433/0 2021-02-16   \n",
       "7221   BP-2020-1544  58176/7362369321433/0 2020-08-04   \n",
       "7222   BP-2020-1544        7362369321433/A 2020-08-04   \n",
       "16788  BP-2020-1544  58176/7362369321433/0 2020-08-04   \n",
       "16789  BP-2020-1544        7362369321433/A 2021-02-16   \n",
       "16790  BP-2020-1544  58176/7362369321433/0 2021-02-16   \n",
       "16791  BP-2020-1544  58176/7362369321433/0 2021-02-16   \n",
       "16792  BP-2020-1544  58176/7362369321433/0 2021-02-16   \n",
       "22755  BP-2020-1544  58176/7362369321433/0 2020-08-04   \n",
       "22756  BP-2020-1544  58176/7362369321433/0 2020-08-04   \n",
       "22757  BP-2020-1544        7362369321433/A 2020-08-04   \n",
       "22758  BP-2020-1544        7362369321433/A 2020-08-04   \n",
       "22759  BP-2020-1544        7362369321433/A 2021-02-16   \n",
       "22760  BP-2020-1544        7362369321433/A 2021-02-16   \n",
       "22761  BP-2020-1544        7362369321433/A 2021-02-16   \n",
       "22762  BP-2020-1544  58176/7362369321433/0 2020-08-04   \n",
       "28284  BP-2020-1544  58176/7362369321433/0 2020-08-04   \n",
       "28285  BP-2020-1544        7362369321433/A 2020-08-04   \n",
       "28286  BP-2020-1544        7362369321433/A 2020-08-04   \n",
       "28287  BP-2020-1544        7362369321433/A 2020-08-04   \n",
       "28288  BP-2020-1544        7362369321433/A 2021-02-16   \n",
       "28289  BP-2020-1544        7362369321433/A 2021-02-16   \n",
       "28290  BP-2020-1544  58176/7362369321433/0 2020-08-04   \n",
       "38054  BP-2020-1544  58176/7362369321433/0 2020-08-04   \n",
       "38055  BP-2020-1544  58176/7362369321433/0 2020-08-04   \n",
       "38056  BP-2020-1544        7362369321433/A 2020-08-04   \n",
       "38057  BP-2020-1544        7362369321433/A 2020-08-04   \n",
       "38058  BP-2020-1544        7362369321433/A 2020-08-04   \n",
       "38059  BP-2020-1544        7362369321433/A 2020-08-04   \n",
       "38060  BP-2020-1544        7362369321433/A 2021-02-16   \n",
       "38061  BP-2020-1544        7362369321433/A 2021-02-16   \n",
       "38062  BP-2020-1544  58176/7362369321433/0 2021-02-16   \n",
       "44295  BP-2020-1544  58176/7362369321433/0 2020-08-04   \n",
       "44296  BP-2020-1544        7362369321433/A 2020-08-04   \n",
       "44297  BP-2020-1544        7362369321433/A 2021-02-16   \n",
       "44298  BP-2020-1544  58176/7362369321433/0 2021-02-16   \n",
       "44299  BP-2020-1544  58176/7362369321433/0 2021-02-16   \n",
       "44300  BP-2020-1544  58176/7362369321433/0 2021-02-16   \n",
       "49621  BP-2020-1544  58176/7362369321433/0 2020-08-04   \n",
       "49622  BP-2020-1544  58176/7362369321433/0 2020-08-04   \n",
       "49623  BP-2020-1544        7362369321433/A 2021-02-16   \n",
       "49624  BP-2020-1544  58176/7362369321433/0 2021-02-16   \n",
       "49625  BP-2020-1544  58176/7362369321433/0 2021-02-16   \n",
       "49626  BP-2020-1544  58176/7362369321433/0 2021-02-16   \n",
       "49627  BP-2020-1544  58176/7362369321433/0 2021-02-16   \n",
       "59136  BP-2020-1544  58176/7362369321433/0 2020-08-04   \n",
       "59137  BP-2020-1544        7362369321433/A 2020-08-04   \n",
       "59138  BP-2020-1544        7362369321433/A 2020-08-04   \n",
       "59139  BP-2020-1544        7362369321433/A 2021-02-16   \n",
       "59140  BP-2020-1544  58176/7362369321433/0 2021-02-16   \n",
       "59141  BP-2020-1544  58176/7362369321433/0 2021-02-16   \n",
       "\n",
       "                                                 address  \\\n",
       "1802   Unit 2202 Level 22 38 Rose Lane MELBOURNE VIC ...   \n",
       "1803   Unit 2409 Level 24 38 Rose Lane MELBOURNE VIC ...   \n",
       "1804   Unit 1909 Level 19 38 Rose Lane MELBOURNE VIC ...   \n",
       "1805   Unit 2002 Level 20 38 Rose Lane MELBOURNE VIC ...   \n",
       "1806   Unit 2102 Level 21 38 Rose Lane MELBOURNE VIC ...   \n",
       "1807   Unit 1909 Level 19 38 Rose Lane MELBOURNE VIC ...   \n",
       "7221   Unit 2209 Level 22 38 Rose Lane MELBOURNE VIC ...   \n",
       "7222   Unit 2104 Level 21 38 Rose Lane MELBOURNE VIC ...   \n",
       "16788  Unit 2509 Level 25 38 Rose Lane MELBOURNE VIC ...   \n",
       "16789  Unit 2509 Level 25 38 Rose Lane MELBOURNE VIC ...   \n",
       "16790                 20-40 Rose Lane MELBOURNE VIC 3000   \n",
       "16791  Unit 2102 Level 21 38 Rose Lane MELBOURNE VIC ...   \n",
       "16792  Unit 2509 Level 25 38 Rose Lane MELBOURNE VIC ...   \n",
       "22755  Unit 2109 Level 21 38 Rose Lane MELBOURNE VIC ...   \n",
       "22756  Unit 2502 Level 25 38 Rose Lane MELBOURNE VIC ...   \n",
       "22757  Unit 1909 Level 19 38 Rose Lane MELBOURNE VIC ...   \n",
       "22758  Unit 2002 Level 20 38 Rose Lane MELBOURNE VIC ...   \n",
       "22759  Unit 2104 Level 21 38 Rose Lane MELBOURNE VIC ...   \n",
       "22760  Unit 2409 Level 24 38 Rose Lane MELBOURNE VIC ...   \n",
       "22761  Unit 2609 Level 26 38 Rose Lane MELBOURNE VIC ...   \n",
       "22762                 20-40 Rose Lane MELBOURNE VIC 3000   \n",
       "28284  Unit 2002 Level 20 38 Rose Lane MELBOURNE VIC ...   \n",
       "28285  Unit 2102 Level 21 38 Rose Lane MELBOURNE VIC ...   \n",
       "28286  Unit 2502 Level 25 38 Rose Lane MELBOURNE VIC ...   \n",
       "28287  Unit 2509 Level 25 38 Rose Lane MELBOURNE VIC ...   \n",
       "28288                 20-40 Rose Lane MELBOURNE VIC 3000   \n",
       "28289  Unit 2309 Level 23 38 Rose Lane MELBOURNE VIC ...   \n",
       "28290  Unit 2609 Level 26 38 Rose Lane MELBOURNE VIC ...   \n",
       "38054  Unit 1909 Level 19 38 Rose Lane MELBOURNE VIC ...   \n",
       "38055  Unit 2104 Level 21 38 Rose Lane MELBOURNE VIC ...   \n",
       "38056                 20-40 Rose Lane MELBOURNE VIC 3000   \n",
       "38057  Unit 2009 Level 20 38 Rose Lane MELBOURNE VIC ...   \n",
       "38058  Unit 2109 Level 21 38 Rose Lane MELBOURNE VIC ...   \n",
       "38059  Unit 2209 Level 22 38 Rose Lane MELBOURNE VIC ...   \n",
       "38060  Unit 2109 Level 21 38 Rose Lane MELBOURNE VIC ...   \n",
       "38061  Unit 2209 Level 22 38 Rose Lane MELBOURNE VIC ...   \n",
       "38062  Unit 2502 Level 25 38 Rose Lane MELBOURNE VIC ...   \n",
       "44295  Unit 2102 Level 21 38 Rose Lane MELBOURNE VIC ...   \n",
       "44296  Unit 2202 Level 22 38 Rose Lane MELBOURNE VIC ...   \n",
       "44297  Unit 2202 Level 22 38 Rose Lane MELBOURNE VIC ...   \n",
       "44298  Unit 2104 Level 21 38 Rose Lane MELBOURNE VIC ...   \n",
       "44299  Unit 2109 Level 21 38 Rose Lane MELBOURNE VIC ...   \n",
       "44300  Unit 2609 Level 26 38 Rose Lane MELBOURNE VIC ...   \n",
       "49621  Unit 2009 Level 20 38 Rose Lane MELBOURNE VIC ...   \n",
       "49622  Unit 2409 Level 24 38 Rose Lane MELBOURNE VIC ...   \n",
       "49623  Unit 2502 Level 25 38 Rose Lane MELBOURNE VIC ...   \n",
       "49624  Unit 2009 Level 20 38 Rose Lane MELBOURNE VIC ...   \n",
       "49625  Unit 2209 Level 22 38 Rose Lane MELBOURNE VIC ...   \n",
       "49626  Unit 2309 Level 23 38 Rose Lane MELBOURNE VIC ...   \n",
       "49627  Unit 2409 Level 24 38 Rose Lane MELBOURNE VIC ...   \n",
       "59136  Unit 2309 Level 23 38 Rose Lane MELBOURNE VIC ...   \n",
       "59137  Unit 2309 Level 23 38 Rose Lane MELBOURNE VIC ...   \n",
       "59138  Unit 2609 Level 26 38 Rose Lane MELBOURNE VIC ...   \n",
       "59139  Unit 2009 Level 20 38 Rose Lane MELBOURNE VIC ...   \n",
       "59140  Unit 2002 Level 20 38 Rose Lane MELBOURNE VIC ...   \n",
       "59141  Unit 2202 Level 22 38 Rose Lane MELBOURNE VIC ...   \n",
       "\n",
       "                                           desc_of_works  \\\n",
       "1802   Lots 1909, 2002, 2009, 2102, 2104 2109, 2110, ...   \n",
       "1803   Lots 1909, 2002, 2009, 2102, 2104 2109, 2110, ...   \n",
       "1804   Lots 1909, 2002, 2009, 2102, 2104 2109, 2110, ...   \n",
       "1805   Lots 1909, 2002, 2009, 2102, 2104 2109, 2110, ...   \n",
       "1806   Lots 1909, 2002, 2009, 2102, 2104 2109, 2110, ...   \n",
       "1807   Lots 1909, 2002, 2009, 2102, 2104 2109, 2110, ...   \n",
       "7221   Lots 1909, 2002, 2009, 2102, 2104 2109, 2110, ...   \n",
       "7222   Lots 1909, 2002, 2009, 2102, 2104 2109, 2110, ...   \n",
       "16788  Lots 1909, 2002, 2009, 2102, 2104 2109, 2110, ...   \n",
       "16789  Lots 1909, 2002, 2009, 2102, 2104 2109, 2110, ...   \n",
       "16790  Lots 1909, 2002, 2009, 2102, 2104 2109, 2110, ...   \n",
       "16791  Lots 1909, 2002, 2009, 2102, 2104 2109, 2110, ...   \n",
       "16792  Lots 1909, 2002, 2009, 2102, 2104 2109, 2110, ...   \n",
       "22755  Lots 1909, 2002, 2009, 2102, 2104 2109, 2110, ...   \n",
       "22756  Lots 1909, 2002, 2009, 2102, 2104 2109, 2110, ...   \n",
       "22757  Lots 1909, 2002, 2009, 2102, 2104 2109, 2110, ...   \n",
       "22758  Lots 1909, 2002, 2009, 2102, 2104 2109, 2110, ...   \n",
       "22759  Lots 1909, 2002, 2009, 2102, 2104 2109, 2110, ...   \n",
       "22760  Lots 1909, 2002, 2009, 2102, 2104 2109, 2110, ...   \n",
       "22761  Lots 1909, 2002, 2009, 2102, 2104 2109, 2110, ...   \n",
       "22762  Lots 1909, 2002, 2009, 2102, 2104 2109, 2110, ...   \n",
       "28284  Lots 1909, 2002, 2009, 2102, 2104 2109, 2110, ...   \n",
       "28285  Lots 1909, 2002, 2009, 2102, 2104 2109, 2110, ...   \n",
       "28286  Lots 1909, 2002, 2009, 2102, 2104 2109, 2110, ...   \n",
       "28287  Lots 1909, 2002, 2009, 2102, 2104 2109, 2110, ...   \n",
       "28288  Lots 1909, 2002, 2009, 2102, 2104 2109, 2110, ...   \n",
       "28289  Lots 1909, 2002, 2009, 2102, 2104 2109, 2110, ...   \n",
       "28290  Lots 1909, 2002, 2009, 2102, 2104 2109, 2110, ...   \n",
       "38054  Lots 1909, 2002, 2009, 2102, 2104 2109, 2110, ...   \n",
       "38055  Lots 1909, 2002, 2009, 2102, 2104 2109, 2110, ...   \n",
       "38056  Lots 1909, 2002, 2009, 2102, 2104 2109, 2110, ...   \n",
       "38057  Lots 1909, 2002, 2009, 2102, 2104 2109, 2110, ...   \n",
       "38058  Lots 1909, 2002, 2009, 2102, 2104 2109, 2110, ...   \n",
       "38059  Lots 1909, 2002, 2009, 2102, 2104 2109, 2110, ...   \n",
       "38060  Lots 1909, 2002, 2009, 2102, 2104 2109, 2110, ...   \n",
       "38061  Lots 1909, 2002, 2009, 2102, 2104 2109, 2110, ...   \n",
       "38062  Lots 1909, 2002, 2009, 2102, 2104 2109, 2110, ...   \n",
       "44295  Lots 1909, 2002, 2009, 2102, 2104 2109, 2110, ...   \n",
       "44296  Lots 1909, 2002, 2009, 2102, 2104 2109, 2110, ...   \n",
       "44297  Lots 1909, 2002, 2009, 2102, 2104 2109, 2110, ...   \n",
       "44298  Lots 1909, 2002, 2009, 2102, 2104 2109, 2110, ...   \n",
       "44299  Lots 1909, 2002, 2009, 2102, 2104 2109, 2110, ...   \n",
       "44300  Lots 1909, 2002, 2009, 2102, 2104 2109, 2110, ...   \n",
       "49621  Lots 1909, 2002, 2009, 2102, 2104 2109, 2110, ...   \n",
       "49622  Lots 1909, 2002, 2009, 2102, 2104 2109, 2110, ...   \n",
       "49623  Lots 1909, 2002, 2009, 2102, 2104 2109, 2110, ...   \n",
       "49624  Lots 1909, 2002, 2009, 2102, 2104 2109, 2110, ...   \n",
       "49625  Lots 1909, 2002, 2009, 2102, 2104 2109, 2110, ...   \n",
       "49626  Lots 1909, 2002, 2009, 2102, 2104 2109, 2110, ...   \n",
       "49627  Lots 1909, 2002, 2009, 2102, 2104 2109, 2110, ...   \n",
       "59136  Lots 1909, 2002, 2009, 2102, 2104 2109, 2110, ...   \n",
       "59137  Lots 1909, 2002, 2009, 2102, 2104 2109, 2110, ...   \n",
       "59138  Lots 1909, 2002, 2009, 2102, 2104 2109, 2110, ...   \n",
       "59139  Lots 1909, 2002, 2009, 2102, 2104 2109, 2110, ...   \n",
       "59140  Lots 1909, 2002, 2009, 2102, 2104 2109, 2110, ...   \n",
       "59141  Lots 1909, 2002, 2009, 2102, 2104 2109, 2110, ...   \n",
       "\n",
       "       estimated_cost_of_works rbs_number commence_by_date completed_by_date  \\\n",
       "1802                    487857   BS-15013       2021-08-04        2022-08-04   \n",
       "1803                    487857   BS-15013       2021-08-04        2022-08-04   \n",
       "1804                    487857   BS-15013       2021-08-04        2022-08-04   \n",
       "1805                    487857   BS-15013       2021-08-04        2022-08-04   \n",
       "1806                    487857   BS-15013       2021-08-04        2022-08-04   \n",
       "1807                    487857   BS-15013       2021-08-04        2022-08-04   \n",
       "7221                    487857   BS-15013       2021-08-04        2022-08-04   \n",
       "7222                    487857   BS-15013       2021-08-04        2022-08-04   \n",
       "16788                   487857   BS-15013       2021-08-04        2022-08-04   \n",
       "16789                   487857   BS-15013       2021-08-04        2022-08-04   \n",
       "16790                   487857   BS-15013       2021-08-04        2022-08-04   \n",
       "16791                   487857   BS-15013       2021-08-04        2022-08-04   \n",
       "16792                   487857   BS-15013       2021-08-04        2022-08-04   \n",
       "22755                   487857   BS-15013       2021-08-04        2022-08-04   \n",
       "22756                   487857   BS-15013       2021-08-04        2022-08-04   \n",
       "22757                   487857   BS-15013       2021-08-04        2022-08-04   \n",
       "22758                   487857   BS-15013       2021-08-04        2022-08-04   \n",
       "22759                   487857   BS-15013       2021-08-04        2022-08-04   \n",
       "22760                   487857   BS-15013       2021-08-04        2022-08-04   \n",
       "22761                   487857   BS-15013       2021-08-04        2022-08-04   \n",
       "22762                   487857   BS-15013       2021-08-04        2022-08-04   \n",
       "28284                   487857   BS-15013       2021-08-04        2022-08-04   \n",
       "28285                   487857   BS-15013       2021-08-04        2022-08-04   \n",
       "28286                   487857   BS-15013       2021-08-04        2022-08-04   \n",
       "28287                   487857   BS-15013       2021-08-04        2022-08-04   \n",
       "28288                   487857   BS-15013       2021-08-04        2022-08-04   \n",
       "28289                   487857   BS-15013       2021-08-04        2022-08-04   \n",
       "28290                   487857   BS-15013       2021-08-04        2022-08-04   \n",
       "38054                   487857   BS-15013       2021-08-04        2022-08-04   \n",
       "38055                   487857   BS-15013       2021-08-04        2022-08-04   \n",
       "38056                   487857   BS-15013       2021-08-04        2022-08-04   \n",
       "38057                   487857   BS-15013       2021-08-04        2022-08-04   \n",
       "38058                   487857   BS-15013       2021-08-04        2022-08-04   \n",
       "38059                   487857   BS-15013       2021-08-04        2022-08-04   \n",
       "38060                   487857   BS-15013       2021-08-04        2022-08-04   \n",
       "38061                   487857   BS-15013       2021-08-04        2022-08-04   \n",
       "38062                   487857   BS-15013       2021-08-04        2022-08-04   \n",
       "44295                   487857   BS-15013       2021-08-04        2022-08-04   \n",
       "44296                   487857   BS-15013       2021-08-04        2022-08-04   \n",
       "44297                   487857   BS-15013       2021-08-04        2022-08-04   \n",
       "44298                   487857   BS-15013       2021-08-04        2022-08-04   \n",
       "44299                   487857   BS-15013       2021-08-04        2022-08-04   \n",
       "44300                   487857   BS-15013       2021-08-04        2022-08-04   \n",
       "49621                   487857   BS-15013       2021-08-04        2022-08-04   \n",
       "49622                   487857   BS-15013       2021-08-04        2022-08-04   \n",
       "49623                   487857   BS-15013       2021-08-04        2022-08-04   \n",
       "49624                   487857   BS-15013       2021-08-04        2022-08-04   \n",
       "49625                   487857   BS-15013       2021-08-04        2022-08-04   \n",
       "49626                   487857   BS-15013       2021-08-04        2022-08-04   \n",
       "49627                   487857   BS-15013       2021-08-04        2022-08-04   \n",
       "59136                   487857   BS-15013       2021-08-04        2022-08-04   \n",
       "59137                   487857   BS-15013       2021-08-04        2022-08-04   \n",
       "59138                   487857   BS-15013       2021-08-04        2022-08-04   \n",
       "59139                   487857   BS-15013       2021-08-04        2022-08-04   \n",
       "59140                   487857   BS-15013       2021-08-04        2022-08-04   \n",
       "59141                   487857   BS-15013       2021-08-04        2022-08-04   \n",
       "\n",
       "               permit_certificate_type  year  \n",
       "1802                   Building Permit  2020  \n",
       "1803                   Building Permit  2020  \n",
       "1804   Certificate of Final Inspection  2021  \n",
       "1805   Certificate of Final Inspection  2021  \n",
       "1806   Certificate of Final Inspection  2021  \n",
       "1807   Certificate of Final Inspection  2021  \n",
       "7221                   Building Permit  2020  \n",
       "7222                   Building Permit  2020  \n",
       "16788                  Building Permit  2020  \n",
       "16789  Certificate of Final Inspection  2021  \n",
       "16790  Certificate of Final Inspection  2021  \n",
       "16791  Certificate of Final Inspection  2021  \n",
       "16792  Certificate of Final Inspection  2021  \n",
       "22755                  Building Permit  2020  \n",
       "22756                  Building Permit  2020  \n",
       "22757                  Building Permit  2020  \n",
       "22758                  Building Permit  2020  \n",
       "22759  Certificate of Final Inspection  2021  \n",
       "22760  Certificate of Final Inspection  2021  \n",
       "22761  Certificate of Final Inspection  2021  \n",
       "22762                  Building Permit  2020  \n",
       "28284                  Building Permit  2020  \n",
       "28285                  Building Permit  2020  \n",
       "28286                  Building Permit  2020  \n",
       "28287                  Building Permit  2020  \n",
       "28288  Certificate of Final Inspection  2021  \n",
       "28289  Certificate of Final Inspection  2021  \n",
       "28290                  Building Permit  2020  \n",
       "38054                  Building Permit  2020  \n",
       "38055                  Building Permit  2020  \n",
       "38056                  Building Permit  2020  \n",
       "38057                  Building Permit  2020  \n",
       "38058                  Building Permit  2020  \n",
       "38059                  Building Permit  2020  \n",
       "38060  Certificate of Final Inspection  2021  \n",
       "38061  Certificate of Final Inspection  2021  \n",
       "38062  Certificate of Final Inspection  2021  \n",
       "44295                  Building Permit  2020  \n",
       "44296                  Building Permit  2020  \n",
       "44297  Certificate of Final Inspection  2021  \n",
       "44298  Certificate of Final Inspection  2021  \n",
       "44299  Certificate of Final Inspection  2021  \n",
       "44300  Certificate of Final Inspection  2021  \n",
       "49621                  Building Permit  2020  \n",
       "49622                  Building Permit  2020  \n",
       "49623  Certificate of Final Inspection  2021  \n",
       "49624  Certificate of Final Inspection  2021  \n",
       "49625  Certificate of Final Inspection  2021  \n",
       "49626  Certificate of Final Inspection  2021  \n",
       "49627  Certificate of Final Inspection  2021  \n",
       "59136                  Building Permit  2020  \n",
       "59137                  Building Permit  2020  \n",
       "59138                  Building Permit  2020  \n",
       "59139  Certificate of Final Inspection  2021  \n",
       "59140  Certificate of Final Inspection  2021  \n",
       "59141  Certificate of Final Inspection  2021  "
      ]
     },
     "execution_count": 30,
     "metadata": {},
     "output_type": "execute_result"
    }
   ],
   "source": [
    "predictor[predictor['council_ref'] == 'BP-2020-1544']"
   ]
  },
  {
   "cell_type": "code",
   "execution_count": 31,
   "metadata": {},
   "outputs": [
    {
     "data": {
      "text/html": [
       "<div>\n",
       "<style scoped>\n",
       "    .dataframe tbody tr th:only-of-type {\n",
       "        vertical-align: middle;\n",
       "    }\n",
       "\n",
       "    .dataframe tbody tr th {\n",
       "        vertical-align: top;\n",
       "    }\n",
       "\n",
       "    .dataframe thead th {\n",
       "        text-align: right;\n",
       "    }\n",
       "</style>\n",
       "<table border=\"1\" class=\"dataframe\">\n",
       "  <thead>\n",
       "    <tr style=\"text-align: right;\">\n",
       "      <th></th>\n",
       "      <th>council_ref</th>\n",
       "      <th>permit_number</th>\n",
       "      <th>issue_date</th>\n",
       "      <th>address</th>\n",
       "      <th>desc_of_works</th>\n",
       "      <th>estimated_cost_of_works</th>\n",
       "      <th>rbs_number</th>\n",
       "      <th>commence_by_date</th>\n",
       "      <th>completed_by_date</th>\n",
       "      <th>permit_certificate_type</th>\n",
       "      <th>year</th>\n",
       "    </tr>\n",
       "  </thead>\n",
       "  <tbody>\n",
       "    <tr>\n",
       "      <th>3133</th>\n",
       "      <td>BP-2016-2421</td>\n",
       "      <td>2622020160057/0</td>\n",
       "      <td>2016-11-03</td>\n",
       "      <td>269-321 Lonsdale Street MELBOURNE VIC 3000</td>\n",
       "      <td>(LG-26) Tenancy fitout of Shop (6c) - Fleet St...</td>\n",
       "      <td>45000</td>\n",
       "      <td>None</td>\n",
       "      <td>2017-11-03</td>\n",
       "      <td>2019-11-03</td>\n",
       "      <td>Building Permit</td>\n",
       "      <td>2016</td>\n",
       "    </tr>\n",
       "    <tr>\n",
       "      <th>32422</th>\n",
       "      <td>BP-2016-2421</td>\n",
       "      <td>2622020160057/0</td>\n",
       "      <td>2016-11-03</td>\n",
       "      <td>Shop 26 LwrGround 287 Lonsdale Street MELBOURN...</td>\n",
       "      <td>(LG-26) Tenancy fitout of Shop (6c) - Fleet St...</td>\n",
       "      <td>45000</td>\n",
       "      <td>None</td>\n",
       "      <td>2017-11-03</td>\n",
       "      <td>2019-11-03</td>\n",
       "      <td>Building Permit</td>\n",
       "      <td>2016</td>\n",
       "    </tr>\n",
       "  </tbody>\n",
       "</table>\n",
       "</div>"
      ],
      "text/plain": [
       "        council_ref    permit_number issue_date  \\\n",
       "3133   BP-2016-2421  2622020160057/0 2016-11-03   \n",
       "32422  BP-2016-2421  2622020160057/0 2016-11-03   \n",
       "\n",
       "                                                 address  \\\n",
       "3133          269-321 Lonsdale Street MELBOURNE VIC 3000   \n",
       "32422  Shop 26 LwrGround 287 Lonsdale Street MELBOURN...   \n",
       "\n",
       "                                           desc_of_works  \\\n",
       "3133   (LG-26) Tenancy fitout of Shop (6c) - Fleet St...   \n",
       "32422  (LG-26) Tenancy fitout of Shop (6c) - Fleet St...   \n",
       "\n",
       "       estimated_cost_of_works rbs_number commence_by_date completed_by_date  \\\n",
       "3133                     45000       None       2017-11-03        2019-11-03   \n",
       "32422                    45000       None       2017-11-03        2019-11-03   \n",
       "\n",
       "      permit_certificate_type  year  \n",
       "3133          Building Permit  2016  \n",
       "32422         Building Permit  2016  "
      ]
     },
     "execution_count": 31,
     "metadata": {},
     "output_type": "execute_result"
    }
   ],
   "source": [
    "predictor[predictor['council_ref'] == 'BP-2016-2421']"
   ]
  },
  {
   "cell_type": "code",
   "execution_count": 32,
   "metadata": {},
   "outputs": [
    {
     "data": {
      "text/plain": [
       "{'Building Permit',\n",
       " 'Certificate of Final Inspection',\n",
       " 'Certificate of Occupancy',\n",
       " 'Occupancy Permit'}"
      ]
     },
     "execution_count": 32,
     "metadata": {},
     "output_type": "execute_result"
    }
   ],
   "source": [
    "set(predictor['permit_certificate_type'])"
   ]
  },
  {
   "cell_type": "markdown",
   "metadata": {},
   "source": [
    "Appears that for a single building, a building permit has to be given out for each room that will be going under construction, given that the building is an apartment. Further, there seems to be overlapping records if the location has multiple options of displaying the address (lower ground, level, unit, etc.). Thus, to reduce a single apartment having too much leverage on the model, we should drop duplicates by permit_number. \n",
    "\n",
    "Only keeping 1 record per permit number will resolve the following:\n",
    "- Slightly differing addresses causing multiple records\n",
    "- Removal of same apartment having multiple records per building work due to it impacting multiple rooms/units\n",
    "- It will keep the difference between building permit, certificate of final inspection, and so on. This will give points for more active buildings which have their construction complete\n"
   ]
  },
  {
   "cell_type": "code",
   "execution_count": 33,
   "metadata": {},
   "outputs": [
    {
     "data": {
      "text/plain": [
       "31004"
      ]
     },
     "execution_count": 33,
     "metadata": {},
     "output_type": "execute_result"
    }
   ],
   "source": [
    "# Remove duplicate permit numbers\n",
    "\n",
    "predictor_clean = predictor.drop_duplicates(subset=['permit_number'])\n",
    "len(predictor_clean)"
   ]
  },
  {
   "cell_type": "code",
   "execution_count": 34,
   "metadata": {},
   "outputs": [
    {
     "data": {
      "text/html": [
       "<div>\n",
       "<style scoped>\n",
       "    .dataframe tbody tr th:only-of-type {\n",
       "        vertical-align: middle;\n",
       "    }\n",
       "\n",
       "    .dataframe tbody tr th {\n",
       "        vertical-align: top;\n",
       "    }\n",
       "\n",
       "    .dataframe thead th {\n",
       "        text-align: right;\n",
       "    }\n",
       "</style>\n",
       "<table border=\"1\" class=\"dataframe\">\n",
       "  <thead>\n",
       "    <tr style=\"text-align: right;\">\n",
       "      <th></th>\n",
       "      <th>council_ref</th>\n",
       "      <th>permit_number</th>\n",
       "      <th>issue_date</th>\n",
       "      <th>address</th>\n",
       "      <th>desc_of_works</th>\n",
       "      <th>estimated_cost_of_works</th>\n",
       "      <th>rbs_number</th>\n",
       "      <th>commence_by_date</th>\n",
       "      <th>completed_by_date</th>\n",
       "      <th>permit_certificate_type</th>\n",
       "      <th>year</th>\n",
       "    </tr>\n",
       "  </thead>\n",
       "  <tbody>\n",
       "    <tr>\n",
       "      <th>0</th>\n",
       "      <td>BP-2022-1259</td>\n",
       "      <td>9042530389216</td>\n",
       "      <td>2022-08-22</td>\n",
       "      <td>299-307 Bourke Street MELBOURNE VIC 3000</td>\n",
       "      <td>Alteration and extension</td>\n",
       "      <td>5280000</td>\n",
       "      <td>None</td>\n",
       "      <td>2023-08-22</td>\n",
       "      <td>2025-08-22</td>\n",
       "      <td>Building Permit</td>\n",
       "      <td>2022</td>\n",
       "    </tr>\n",
       "    <tr>\n",
       "      <th>1</th>\n",
       "      <td>BP-2022-1253</td>\n",
       "      <td>54182/4621763091106/1</td>\n",
       "      <td>2022-12-19</td>\n",
       "      <td>633-669 Flinders Street DOCKLANDS VIC 3008</td>\n",
       "      <td>Level 4 - Internal Office Fitout for Artifex P...</td>\n",
       "      <td>4937932</td>\n",
       "      <td>BS-U 42327</td>\n",
       "      <td>2023-08-12</td>\n",
       "      <td>2025-08-12</td>\n",
       "      <td>Certificate of Final Inspection</td>\n",
       "      <td>2022</td>\n",
       "    </tr>\n",
       "    <tr>\n",
       "      <th>3</th>\n",
       "      <td>BP-2022-1251</td>\n",
       "      <td>54182/2724469366956/0A</td>\n",
       "      <td>2022-08-12</td>\n",
       "      <td>Rialto 505-535 Collins Street MELBOURNE VIC 3000</td>\n",
       "      <td>Level 30 - Internal Tenancy Split and Internal...</td>\n",
       "      <td>610967</td>\n",
       "      <td>None</td>\n",
       "      <td>2023-08-12</td>\n",
       "      <td>2025-08-12</td>\n",
       "      <td>Building Permit</td>\n",
       "      <td>2022</td>\n",
       "    </tr>\n",
       "    <tr>\n",
       "      <th>4</th>\n",
       "      <td>BP-2022-1249</td>\n",
       "      <td>54182/1861978441258/0</td>\n",
       "      <td>2022-08-05</td>\n",
       "      <td>816-828 Bourke Street DOCKLANDS VIC 3008</td>\n",
       "      <td>Level 6 - Internal Office Fitout for AFG</td>\n",
       "      <td>847172</td>\n",
       "      <td>BS-U 42327</td>\n",
       "      <td>2023-08-05</td>\n",
       "      <td>2025-08-05</td>\n",
       "      <td>Building Permit</td>\n",
       "      <td>2022</td>\n",
       "    </tr>\n",
       "    <tr>\n",
       "      <th>5</th>\n",
       "      <td>BP-2022-1247</td>\n",
       "      <td>3542543973820/1</td>\n",
       "      <td>2022-09-07</td>\n",
       "      <td>195 Swanston Street MELBOURNE VIC 3000</td>\n",
       "      <td>Internal Tenancy Fitout for Soul Café\\r(Stage ...</td>\n",
       "      <td>187832</td>\n",
       "      <td>None</td>\n",
       "      <td>2023-09-07</td>\n",
       "      <td>2025-09-07</td>\n",
       "      <td>Building Permit</td>\n",
       "      <td>2022</td>\n",
       "    </tr>\n",
       "  </tbody>\n",
       "</table>\n",
       "</div>"
      ],
      "text/plain": [
       "    council_ref           permit_number issue_date  \\\n",
       "0  BP-2022-1259           9042530389216 2022-08-22   \n",
       "1  BP-2022-1253   54182/4621763091106/1 2022-12-19   \n",
       "3  BP-2022-1251  54182/2724469366956/0A 2022-08-12   \n",
       "4  BP-2022-1249   54182/1861978441258/0 2022-08-05   \n",
       "5  BP-2022-1247         3542543973820/1 2022-09-07   \n",
       "\n",
       "                                            address  \\\n",
       "0          299-307 Bourke Street MELBOURNE VIC 3000   \n",
       "1        633-669 Flinders Street DOCKLANDS VIC 3008   \n",
       "3  Rialto 505-535 Collins Street MELBOURNE VIC 3000   \n",
       "4          816-828 Bourke Street DOCKLANDS VIC 3008   \n",
       "5            195 Swanston Street MELBOURNE VIC 3000   \n",
       "\n",
       "                                       desc_of_works  estimated_cost_of_works  \\\n",
       "0                           Alteration and extension                  5280000   \n",
       "1  Level 4 - Internal Office Fitout for Artifex P...                  4937932   \n",
       "3  Level 30 - Internal Tenancy Split and Internal...                   610967   \n",
       "4           Level 6 - Internal Office Fitout for AFG                   847172   \n",
       "5  Internal Tenancy Fitout for Soul Café\\r(Stage ...                   187832   \n",
       "\n",
       "   rbs_number commence_by_date completed_by_date  \\\n",
       "0        None       2023-08-22        2025-08-22   \n",
       "1  BS-U 42327       2023-08-12        2025-08-12   \n",
       "3        None       2023-08-12        2025-08-12   \n",
       "4  BS-U 42327       2023-08-05        2025-08-05   \n",
       "5        None       2023-09-07        2025-09-07   \n",
       "\n",
       "           permit_certificate_type  year  \n",
       "0                  Building Permit  2022  \n",
       "1  Certificate of Final Inspection  2022  \n",
       "3                  Building Permit  2022  \n",
       "4                  Building Permit  2022  \n",
       "5                  Building Permit  2022  "
      ]
     },
     "execution_count": 34,
     "metadata": {},
     "output_type": "execute_result"
    }
   ],
   "source": [
    "predictor_clean.head()"
   ]
  },
  {
   "cell_type": "markdown",
   "metadata": {},
   "source": [
    "It appears that we have have roughly removed half the records by doing so. Now, we group the dataset by year so that we can get a dataset we can use in our model"
   ]
  },
  {
   "cell_type": "code",
   "execution_count": 35,
   "metadata": {},
   "outputs": [],
   "source": [
    "predictor_clean = predictor_clean.groupby('year')['council_ref'].count().reset_index(name='count')"
   ]
  },
  {
   "cell_type": "markdown",
   "metadata": {},
   "source": [
    "Note that our response dataset only has data between 2001 ~ 2021. We remove the year 2000, but 2022 ~ 2024 can be used as the model's performance indicator :D"
   ]
  },
  {
   "cell_type": "code",
   "execution_count": 36,
   "metadata": {},
   "outputs": [],
   "source": [
    "predictor_clean = predictor_clean[predictor_clean['year'] > 2000]"
   ]
  },
  {
   "cell_type": "code",
   "execution_count": 37,
   "metadata": {},
   "outputs": [],
   "source": [
    "predictor_clean = predictor_clean.rename(columns={'count': 'building_permit_count'})"
   ]
  },
  {
   "cell_type": "markdown",
   "metadata": {},
   "source": [
    "Now that we've finalised processing both datasets, we join them"
   ]
  },
  {
   "cell_type": "code",
   "execution_count": 38,
   "metadata": {},
   "outputs": [],
   "source": [
    "analysis_df = pd.merge(predictor_clean, response_clean, on='year')\n",
    "analysis_df['year'] = pd.to_numeric(analysis_df['year'])\n",
    "analysis_df['building_permit_count'] = pd.to_numeric(analysis_df['building_permit_count'])\n",
    "analysis_df['population'] = pd.to_numeric(analysis_df['population'])\n"
   ]
  },
  {
   "cell_type": "code",
   "execution_count": 39,
   "metadata": {},
   "outputs": [
    {
     "name": "stdout",
     "output_type": "stream",
     "text": [
      "Correlation between building permit count and population: 0.88\n"
     ]
    }
   ],
   "source": [
    "# Calculate and display correlation\n",
    "correlation = analysis_df['building_permit_count'].corr(analysis_df['population'])\n",
    "print(f\"Correlation between building permit count and population: {correlation:.2f}\")\n",
    "\n"
   ]
  },
  {
   "cell_type": "markdown",
   "metadata": {},
   "source": [
    "This calculates the Pearson correlation coefficient between building_permit_count and population and prints it.The correlation coefficient of 0.87 indicates a strong positive correlation between building permit counts and population. This means that as the number of building permits increases, the population also tends to increase."
   ]
  },
  {
   "cell_type": "code",
   "execution_count": 40,
   "metadata": {},
   "outputs": [
    {
     "name": "stdout",
     "output_type": "stream",
     "text": [
      "                            OLS Regression Results                            \n",
      "==============================================================================\n",
      "Dep. Variable:             population   R-squared:                       0.771\n",
      "Model:                            OLS   Adj. R-squared:                  0.759\n",
      "Method:                 Least Squares   F-statistic:                     64.00\n",
      "Date:                Mon, 20 May 2024   Prob (F-statistic):           1.68e-07\n",
      "Time:                        01:19:22   Log-Likelihood:                -194.33\n",
      "No. Observations:                  21   AIC:                             392.7\n",
      "Df Residuals:                      19   BIC:                             394.7\n",
      "Df Model:                           1                                         \n",
      "Covariance Type:            nonrobust                                         \n",
      "=========================================================================================\n",
      "                            coef    std err          t      P>|t|      [0.025      0.975]\n",
      "-----------------------------------------------------------------------------------------\n",
      "Intercept              8.532e+04    733.055    116.395      0.000    8.38e+04    8.69e+04\n",
      "building_permit_count     3.0435      0.380      8.000      0.000       2.247       3.840\n",
      "==============================================================================\n",
      "Omnibus:                        2.035   Durbin-Watson:                   0.508\n",
      "Prob(Omnibus):                  0.362   Jarque-Bera (JB):                1.726\n",
      "Skew:                           0.621   Prob(JB):                        0.422\n",
      "Kurtosis:                       2.345   Cond. No.                     2.44e+03\n",
      "==============================================================================\n",
      "\n",
      "Notes:\n",
      "[1] Standard Errors assume that the covariance matrix of the errors is correctly specified.\n",
      "[2] The condition number is large, 2.44e+03. This might indicate that there are\n",
      "strong multicollinearity or other numerical problems.\n"
     ]
    }
   ],
   "source": [
    "partial_model = ols(\n",
    "    formula='population ~ building_permit_count',\n",
    "    data=analysis_df\n",
    ").fit()\n",
    "\n",
    "print(partial_model.summary())"
   ]
  },
  {
   "cell_type": "code",
   "execution_count": 41,
   "metadata": {},
   "outputs": [
    {
     "name": "stdout",
     "output_type": "stream",
     "text": [
      "                            OLS Regression Results                            \n",
      "==============================================================================\n",
      "Dep. Variable:             population   R-squared:                       0.965\n",
      "Model:                            OLS   Adj. R-squared:                  0.961\n",
      "Method:                 Least Squares   F-statistic:                     246.9\n",
      "Date:                Mon, 20 May 2024   Prob (F-statistic):           8.24e-14\n",
      "Time:                        01:19:24   Log-Likelihood:                -174.66\n",
      "No. Observations:                  21   AIC:                             355.3\n",
      "Df Residuals:                      18   BIC:                             358.5\n",
      "Df Model:                           2                                         \n",
      "Covariance Type:            nonrobust                                         \n",
      "=========================================================================================\n",
      "                            coef    std err          t      P>|t|      [0.025      0.975]\n",
      "-----------------------------------------------------------------------------------------\n",
      "Intercept             -1.248e+06   1.34e+05     -9.320      0.000   -1.53e+06   -9.66e+05\n",
      "building_permit_count     0.8898      0.265      3.357      0.004       0.333       1.447\n",
      "year                    664.1538     66.700      9.957      0.000     524.023     804.285\n",
      "==============================================================================\n",
      "Omnibus:                        2.059   Durbin-Watson:                   0.749\n",
      "Prob(Omnibus):                  0.357   Jarque-Bera (JB):                1.423\n",
      "Skew:                           0.631   Prob(JB):                        0.491\n",
      "Kurtosis:                       2.816   Cond. No.                     1.44e+06\n",
      "==============================================================================\n",
      "\n",
      "Notes:\n",
      "[1] Standard Errors assume that the covariance matrix of the errors is correctly specified.\n",
      "[2] The condition number is large, 1.44e+06. This might indicate that there are\n",
      "strong multicollinearity or other numerical problems.\n"
     ]
    }
   ],
   "source": [
    "full_model = ols(\n",
    "    formula='population ~ building_permit_count + year',\n",
    "    data=analysis_df\n",
    ").fit()\n",
    "\n",
    "print(full_model.summary())"
   ]
  },
  {
   "cell_type": "markdown",
   "metadata": {},
   "source": [
    "It appears that adding the year as a variable after having building permit counts is still statistically significant. We also test for interaction"
   ]
  },
  {
   "cell_type": "code",
   "execution_count": 42,
   "metadata": {},
   "outputs": [
    {
     "name": "stdout",
     "output_type": "stream",
     "text": [
      "                            OLS Regression Results                            \n",
      "==============================================================================\n",
      "Dep. Variable:             population   R-squared:                       0.981\n",
      "Model:                            OLS   Adj. R-squared:                  0.978\n",
      "Method:                 Least Squares   F-statistic:                     291.3\n",
      "Date:                Mon, 20 May 2024   Prob (F-statistic):           8.26e-15\n",
      "Time:                        01:19:32   Log-Likelihood:                -168.24\n",
      "No. Observations:                  21   AIC:                             344.5\n",
      "Df Residuals:                      17   BIC:                             348.7\n",
      "Df Model:                           3                                         \n",
      "Covariance Type:            nonrobust                                         \n",
      "==============================================================================================\n",
      "                                 coef    std err          t      P>|t|      [0.025      0.975]\n",
      "----------------------------------------------------------------------------------------------\n",
      "Intercept                  -1.066e+06   1.12e+05     -9.493      0.000    -1.3e+06   -8.29e+05\n",
      "building_permit_count       -397.1321    105.112     -3.778      0.002    -618.900    -175.364\n",
      "year                         573.4903     55.934     10.253      0.000     455.481     691.500\n",
      "building_permit_count:year     0.1974      0.052      3.787      0.001       0.087       0.307\n",
      "==============================================================================\n",
      "Omnibus:                        1.275   Durbin-Watson:                   1.431\n",
      "Prob(Omnibus):                  0.529   Jarque-Bera (JB):                0.251\n",
      "Skew:                          -0.147   Prob(JB):                        0.882\n",
      "Kurtosis:                       3.448   Cond. No.                     2.47e+09\n",
      "==============================================================================\n",
      "\n",
      "Notes:\n",
      "[1] Standard Errors assume that the covariance matrix of the errors is correctly specified.\n",
      "[2] The condition number is large, 2.47e+09. This might indicate that there are\n",
      "strong multicollinearity or other numerical problems.\n"
     ]
    }
   ],
   "source": [
    "interaction_model = ols(\n",
    "    formula='population ~ building_permit_count + year + building_permit_count*year',\n",
    "    data=analysis_df\n",
    ").fit()\n",
    "\n",
    "print(interaction_model.summary())"
   ]
  },
  {
   "cell_type": "markdown",
   "metadata": {},
   "source": [
    "Interaction also seems to be significant, even with the other 2 features already being added to the model. Test for goodness of fit"
   ]
  },
  {
   "cell_type": "code",
   "execution_count": 43,
   "metadata": {},
   "outputs": [
    {
     "data": {
      "text/plain": [
       "True"
      ]
     },
     "execution_count": 43,
     "metadata": {},
     "output_type": "execute_result"
    }
   ],
   "source": [
    "interaction_model.aic < full_model.aic"
   ]
  },
  {
   "cell_type": "code",
   "execution_count": 44,
   "metadata": {},
   "outputs": [
    {
     "data": {
      "text/html": [
       "<div>\n",
       "<style scoped>\n",
       "    .dataframe tbody tr th:only-of-type {\n",
       "        vertical-align: middle;\n",
       "    }\n",
       "\n",
       "    .dataframe tbody tr th {\n",
       "        vertical-align: top;\n",
       "    }\n",
       "\n",
       "    .dataframe thead th {\n",
       "        text-align: right;\n",
       "    }\n",
       "</style>\n",
       "<table border=\"1\" class=\"dataframe\">\n",
       "  <thead>\n",
       "    <tr style=\"text-align: right;\">\n",
       "      <th></th>\n",
       "      <th>df</th>\n",
       "      <th>sum_sq</th>\n",
       "      <th>mean_sq</th>\n",
       "      <th>F</th>\n",
       "      <th>PR(&gt;F)</th>\n",
       "    </tr>\n",
       "  </thead>\n",
       "  <tbody>\n",
       "    <tr>\n",
       "      <th>building_permit_count</th>\n",
       "      <td>1.0</td>\n",
       "      <td>4.516401e+08</td>\n",
       "      <td>4.516401e+08</td>\n",
       "      <td>686.984806</td>\n",
       "      <td>3.464213e-15</td>\n",
       "    </tr>\n",
       "    <tr>\n",
       "      <th>year</th>\n",
       "      <td>1.0</td>\n",
       "      <td>1.134854e+08</td>\n",
       "      <td>1.134854e+08</td>\n",
       "      <td>172.621367</td>\n",
       "      <td>2.484719e-10</td>\n",
       "    </tr>\n",
       "    <tr>\n",
       "      <th>building_permit_count:year</th>\n",
       "      <td>1.0</td>\n",
       "      <td>9.426549e+06</td>\n",
       "      <td>9.426549e+06</td>\n",
       "      <td>14.338621</td>\n",
       "      <td>1.472965e-03</td>\n",
       "    </tr>\n",
       "    <tr>\n",
       "      <th>Residual</th>\n",
       "      <td>17.0</td>\n",
       "      <td>1.117620e+07</td>\n",
       "      <td>6.574237e+05</td>\n",
       "      <td>NaN</td>\n",
       "      <td>NaN</td>\n",
       "    </tr>\n",
       "  </tbody>\n",
       "</table>\n",
       "</div>"
      ],
      "text/plain": [
       "                              df        sum_sq       mean_sq           F  \\\n",
       "building_permit_count        1.0  4.516401e+08  4.516401e+08  686.984806   \n",
       "year                         1.0  1.134854e+08  1.134854e+08  172.621367   \n",
       "building_permit_count:year   1.0  9.426549e+06  9.426549e+06   14.338621   \n",
       "Residual                    17.0  1.117620e+07  6.574237e+05         NaN   \n",
       "\n",
       "                                  PR(>F)  \n",
       "building_permit_count       3.464213e-15  \n",
       "year                        2.484719e-10  \n",
       "building_permit_count:year  1.472965e-03  \n",
       "Residual                             NaN  "
      ]
     },
     "execution_count": 44,
     "metadata": {},
     "output_type": "execute_result"
    }
   ],
   "source": [
    "anova_lm(interaction_model)"
   ]
  },
  {
   "cell_type": "markdown",
   "metadata": {},
   "source": [
    "Attempt to predict 2022, 2023 and 2024 population"
   ]
  },
  {
   "cell_type": "code",
   "execution_count": 45,
   "metadata": {},
   "outputs": [],
   "source": [
    "predict_df = predictor_clean.iloc[21:]"
   ]
  },
  {
   "cell_type": "code",
   "execution_count": 46,
   "metadata": {},
   "outputs": [
    {
     "data": {
      "text/plain": [
       "22     99794.642330\n",
       "23    100857.516540\n",
       "24     96387.600771\n",
       "dtype: float64"
      ]
     },
     "execution_count": 46,
     "metadata": {},
     "output_type": "execute_result"
    }
   ],
   "source": [
    "interaction_model.predict(predict_df)"
   ]
  },
  {
   "cell_type": "markdown",
   "metadata": {},
   "source": [
    "Round the numbers to the nearest whole. Thus, our final conclusion can be:\n",
    "\n",
    "### 2022\n",
    "\n",
    "194064 people\n",
    "\n",
    "### 2023\n",
    "\n",
    "201739 people\n",
    "\n",
    "### 2024\n",
    "\n",
    "175977 people"
   ]
  },
  {
   "cell_type": "code",
   "execution_count": 50,
   "metadata": {},
   "outputs": [
    {
     "data": {
      "application/vnd.plotly.v1+json": {
       "config": {
        "plotlyServerURL": "https://plot.ly"
       },
       "data": [
        {
         "line": {
          "color": "rgba(31, 119, 180, 0.8)",
          "width": 3
         },
         "marker": {
          "color": "rgba(31, 119, 180, 0.8)",
          "line": {
           "color": "darkblue",
           "width": 2
          },
          "size": 10
         },
         "mode": "markers+lines",
         "name": "Actual Population",
         "type": "scatter",
         "x": [
          2001,
          2002,
          2003,
          2004,
          2005,
          2006,
          2007,
          2008,
          2009,
          2010,
          2011,
          2012,
          2013,
          2014,
          2015,
          2016,
          2017,
          2018,
          2019,
          2020,
          2021
         ],
         "y": [
          82854,
          83124,
          83107,
          82668,
          82990,
          83906,
          84819,
          85513,
          86767,
          87192,
          87395,
          88339,
          89188,
          90417,
          91674,
          93445,
          95071,
          96481,
          97765,
          98146,
          96317
         ]
        },
        {
         "line": {
          "color": "rgba(255, 127, 14, 0.8)",
          "dash": "dash",
          "width": 3
         },
         "mode": "lines",
         "name": "Predicted Population",
         "type": "scatter",
         "x": [
          2001,
          2002,
          2003,
          2004,
          2005,
          2006,
          2007,
          2008,
          2009,
          2010,
          2011,
          2012,
          2013,
          2014,
          2015,
          2016,
          2017,
          2018,
          2019,
          2020,
          2021
         ],
         "y": [
          81781.63364275484,
          82355.32141310947,
          82929.00918346386,
          83502.69695381848,
          84076.38472417311,
          84645.81192284446,
          85223.76026488213,
          85796.77777462933,
          86365.46197218624,
          86940.14214495392,
          87514.53655232134,
          88097.09878147252,
          88695.36278844501,
          90411.86111144198,
          92035.58785243006,
          93638.49488004204,
          94951.43352117413,
          96424.89184122765,
          97229.94422171335,
          96504.52614648896,
          98057.26230915252
         ]
        },
        {
         "line": {
          "color": "rgba(44, 160, 44, 0.8)",
          "dash": "dash",
          "width": 3
         },
         "marker": {
          "color": "rgba(44, 160, 44, 0.8)",
          "line": {
           "color": "darkgreen",
           "width": 2
          },
          "size": 10
         },
         "mode": "markers+lines",
         "name": "Future Predictions",
         "type": "scatter",
         "x": [
          2022,
          2023,
          2024
         ],
         "y": [
          99794.64232981531,
          100857.51654002257,
          96387.60077097986
         ]
        },
        {
         "fill": "toself",
         "fillcolor": "rgba(44, 160, 44, 0.2)",
         "hoverinfo": "skip",
         "line": {
          "color": "rgba(44, 160, 44, 0.0)"
         },
         "showlegend": false,
         "type": "scatter",
         "x": [
          2022,
          2023,
          2024,
          2024,
          2023,
          2022
         ],
         "y": [
          89815.17809683378,
          90771.76488602032,
          86748.84069388188,
          106026.36084807785,
          110943.26819402483,
          109774.10656279685
         ]
        }
       ],
       "layout": {
        "annotations": [
         {
          "arrowcolor": "black",
          "arrowhead": 2,
          "ax": 0,
          "ay": -40,
          "font": {
           "color": "black",
           "size": 12
          },
          "showarrow": true,
          "text": "99,794",
          "x": 2022,
          "xref": "x",
          "y": 99794.64232981531,
          "yref": "y"
         },
         {
          "arrowcolor": "black",
          "arrowhead": 2,
          "ax": 0,
          "ay": -40,
          "font": {
           "color": "black",
           "size": 12
          },
          "showarrow": true,
          "text": "100,857",
          "x": 2023,
          "xref": "x",
          "y": 100857.51654002257,
          "yref": "y"
         },
         {
          "arrowcolor": "black",
          "arrowhead": 2,
          "ax": 0,
          "ay": -40,
          "font": {
           "color": "black",
           "size": 12
          },
          "showarrow": true,
          "text": "96,387",
          "x": 2024,
          "xref": "x",
          "y": 96387.60077097986,
          "yref": "y"
         }
        ],
        "autosize": true,
        "font": {
         "family": "Arial, sans-serif",
         "size": 14
        },
        "hovermode": "x unified",
        "legend": {
         "bgcolor": "rgba(255,255,255,0.5)",
         "bordercolor": "grey",
         "borderwidth": 1,
         "traceorder": "normal",
         "x": 0.01,
         "y": 0.99
        },
        "margin": {
         "b": 40,
         "l": 40,
         "r": 40,
         "t": 60
        },
        "plot_bgcolor": "white",
        "template": {
         "data": {
          "bar": [
           {
            "error_x": {
             "color": "#2a3f5f"
            },
            "error_y": {
             "color": "#2a3f5f"
            },
            "marker": {
             "line": {
              "color": "white",
              "width": 0.5
             },
             "pattern": {
              "fillmode": "overlay",
              "size": 10,
              "solidity": 0.2
             }
            },
            "type": "bar"
           }
          ],
          "barpolar": [
           {
            "marker": {
             "line": {
              "color": "white",
              "width": 0.5
             },
             "pattern": {
              "fillmode": "overlay",
              "size": 10,
              "solidity": 0.2
             }
            },
            "type": "barpolar"
           }
          ],
          "carpet": [
           {
            "aaxis": {
             "endlinecolor": "#2a3f5f",
             "gridcolor": "#C8D4E3",
             "linecolor": "#C8D4E3",
             "minorgridcolor": "#C8D4E3",
             "startlinecolor": "#2a3f5f"
            },
            "baxis": {
             "endlinecolor": "#2a3f5f",
             "gridcolor": "#C8D4E3",
             "linecolor": "#C8D4E3",
             "minorgridcolor": "#C8D4E3",
             "startlinecolor": "#2a3f5f"
            },
            "type": "carpet"
           }
          ],
          "choropleth": [
           {
            "colorbar": {
             "outlinewidth": 0,
             "ticks": ""
            },
            "type": "choropleth"
           }
          ],
          "contour": [
           {
            "colorbar": {
             "outlinewidth": 0,
             "ticks": ""
            },
            "colorscale": [
             [
              0,
              "#0d0887"
             ],
             [
              0.1111111111111111,
              "#46039f"
             ],
             [
              0.2222222222222222,
              "#7201a8"
             ],
             [
              0.3333333333333333,
              "#9c179e"
             ],
             [
              0.4444444444444444,
              "#bd3786"
             ],
             [
              0.5555555555555556,
              "#d8576b"
             ],
             [
              0.6666666666666666,
              "#ed7953"
             ],
             [
              0.7777777777777778,
              "#fb9f3a"
             ],
             [
              0.8888888888888888,
              "#fdca26"
             ],
             [
              1,
              "#f0f921"
             ]
            ],
            "type": "contour"
           }
          ],
          "contourcarpet": [
           {
            "colorbar": {
             "outlinewidth": 0,
             "ticks": ""
            },
            "type": "contourcarpet"
           }
          ],
          "heatmap": [
           {
            "colorbar": {
             "outlinewidth": 0,
             "ticks": ""
            },
            "colorscale": [
             [
              0,
              "#0d0887"
             ],
             [
              0.1111111111111111,
              "#46039f"
             ],
             [
              0.2222222222222222,
              "#7201a8"
             ],
             [
              0.3333333333333333,
              "#9c179e"
             ],
             [
              0.4444444444444444,
              "#bd3786"
             ],
             [
              0.5555555555555556,
              "#d8576b"
             ],
             [
              0.6666666666666666,
              "#ed7953"
             ],
             [
              0.7777777777777778,
              "#fb9f3a"
             ],
             [
              0.8888888888888888,
              "#fdca26"
             ],
             [
              1,
              "#f0f921"
             ]
            ],
            "type": "heatmap"
           }
          ],
          "heatmapgl": [
           {
            "colorbar": {
             "outlinewidth": 0,
             "ticks": ""
            },
            "colorscale": [
             [
              0,
              "#0d0887"
             ],
             [
              0.1111111111111111,
              "#46039f"
             ],
             [
              0.2222222222222222,
              "#7201a8"
             ],
             [
              0.3333333333333333,
              "#9c179e"
             ],
             [
              0.4444444444444444,
              "#bd3786"
             ],
             [
              0.5555555555555556,
              "#d8576b"
             ],
             [
              0.6666666666666666,
              "#ed7953"
             ],
             [
              0.7777777777777778,
              "#fb9f3a"
             ],
             [
              0.8888888888888888,
              "#fdca26"
             ],
             [
              1,
              "#f0f921"
             ]
            ],
            "type": "heatmapgl"
           }
          ],
          "histogram": [
           {
            "marker": {
             "pattern": {
              "fillmode": "overlay",
              "size": 10,
              "solidity": 0.2
             }
            },
            "type": "histogram"
           }
          ],
          "histogram2d": [
           {
            "colorbar": {
             "outlinewidth": 0,
             "ticks": ""
            },
            "colorscale": [
             [
              0,
              "#0d0887"
             ],
             [
              0.1111111111111111,
              "#46039f"
             ],
             [
              0.2222222222222222,
              "#7201a8"
             ],
             [
              0.3333333333333333,
              "#9c179e"
             ],
             [
              0.4444444444444444,
              "#bd3786"
             ],
             [
              0.5555555555555556,
              "#d8576b"
             ],
             [
              0.6666666666666666,
              "#ed7953"
             ],
             [
              0.7777777777777778,
              "#fb9f3a"
             ],
             [
              0.8888888888888888,
              "#fdca26"
             ],
             [
              1,
              "#f0f921"
             ]
            ],
            "type": "histogram2d"
           }
          ],
          "histogram2dcontour": [
           {
            "colorbar": {
             "outlinewidth": 0,
             "ticks": ""
            },
            "colorscale": [
             [
              0,
              "#0d0887"
             ],
             [
              0.1111111111111111,
              "#46039f"
             ],
             [
              0.2222222222222222,
              "#7201a8"
             ],
             [
              0.3333333333333333,
              "#9c179e"
             ],
             [
              0.4444444444444444,
              "#bd3786"
             ],
             [
              0.5555555555555556,
              "#d8576b"
             ],
             [
              0.6666666666666666,
              "#ed7953"
             ],
             [
              0.7777777777777778,
              "#fb9f3a"
             ],
             [
              0.8888888888888888,
              "#fdca26"
             ],
             [
              1,
              "#f0f921"
             ]
            ],
            "type": "histogram2dcontour"
           }
          ],
          "mesh3d": [
           {
            "colorbar": {
             "outlinewidth": 0,
             "ticks": ""
            },
            "type": "mesh3d"
           }
          ],
          "parcoords": [
           {
            "line": {
             "colorbar": {
              "outlinewidth": 0,
              "ticks": ""
             }
            },
            "type": "parcoords"
           }
          ],
          "pie": [
           {
            "automargin": true,
            "type": "pie"
           }
          ],
          "scatter": [
           {
            "fillpattern": {
             "fillmode": "overlay",
             "size": 10,
             "solidity": 0.2
            },
            "type": "scatter"
           }
          ],
          "scatter3d": [
           {
            "line": {
             "colorbar": {
              "outlinewidth": 0,
              "ticks": ""
             }
            },
            "marker": {
             "colorbar": {
              "outlinewidth": 0,
              "ticks": ""
             }
            },
            "type": "scatter3d"
           }
          ],
          "scattercarpet": [
           {
            "marker": {
             "colorbar": {
              "outlinewidth": 0,
              "ticks": ""
             }
            },
            "type": "scattercarpet"
           }
          ],
          "scattergeo": [
           {
            "marker": {
             "colorbar": {
              "outlinewidth": 0,
              "ticks": ""
             }
            },
            "type": "scattergeo"
           }
          ],
          "scattergl": [
           {
            "marker": {
             "colorbar": {
              "outlinewidth": 0,
              "ticks": ""
             }
            },
            "type": "scattergl"
           }
          ],
          "scattermapbox": [
           {
            "marker": {
             "colorbar": {
              "outlinewidth": 0,
              "ticks": ""
             }
            },
            "type": "scattermapbox"
           }
          ],
          "scatterpolar": [
           {
            "marker": {
             "colorbar": {
              "outlinewidth": 0,
              "ticks": ""
             }
            },
            "type": "scatterpolar"
           }
          ],
          "scatterpolargl": [
           {
            "marker": {
             "colorbar": {
              "outlinewidth": 0,
              "ticks": ""
             }
            },
            "type": "scatterpolargl"
           }
          ],
          "scatterternary": [
           {
            "marker": {
             "colorbar": {
              "outlinewidth": 0,
              "ticks": ""
             }
            },
            "type": "scatterternary"
           }
          ],
          "surface": [
           {
            "colorbar": {
             "outlinewidth": 0,
             "ticks": ""
            },
            "colorscale": [
             [
              0,
              "#0d0887"
             ],
             [
              0.1111111111111111,
              "#46039f"
             ],
             [
              0.2222222222222222,
              "#7201a8"
             ],
             [
              0.3333333333333333,
              "#9c179e"
             ],
             [
              0.4444444444444444,
              "#bd3786"
             ],
             [
              0.5555555555555556,
              "#d8576b"
             ],
             [
              0.6666666666666666,
              "#ed7953"
             ],
             [
              0.7777777777777778,
              "#fb9f3a"
             ],
             [
              0.8888888888888888,
              "#fdca26"
             ],
             [
              1,
              "#f0f921"
             ]
            ],
            "type": "surface"
           }
          ],
          "table": [
           {
            "cells": {
             "fill": {
              "color": "#EBF0F8"
             },
             "line": {
              "color": "white"
             }
            },
            "header": {
             "fill": {
              "color": "#C8D4E3"
             },
             "line": {
              "color": "white"
             }
            },
            "type": "table"
           }
          ]
         },
         "layout": {
          "annotationdefaults": {
           "arrowcolor": "#2a3f5f",
           "arrowhead": 0,
           "arrowwidth": 1
          },
          "autotypenumbers": "strict",
          "coloraxis": {
           "colorbar": {
            "outlinewidth": 0,
            "ticks": ""
           }
          },
          "colorscale": {
           "diverging": [
            [
             0,
             "#8e0152"
            ],
            [
             0.1,
             "#c51b7d"
            ],
            [
             0.2,
             "#de77ae"
            ],
            [
             0.3,
             "#f1b6da"
            ],
            [
             0.4,
             "#fde0ef"
            ],
            [
             0.5,
             "#f7f7f7"
            ],
            [
             0.6,
             "#e6f5d0"
            ],
            [
             0.7,
             "#b8e186"
            ],
            [
             0.8,
             "#7fbc41"
            ],
            [
             0.9,
             "#4d9221"
            ],
            [
             1,
             "#276419"
            ]
           ],
           "sequential": [
            [
             0,
             "#0d0887"
            ],
            [
             0.1111111111111111,
             "#46039f"
            ],
            [
             0.2222222222222222,
             "#7201a8"
            ],
            [
             0.3333333333333333,
             "#9c179e"
            ],
            [
             0.4444444444444444,
             "#bd3786"
            ],
            [
             0.5555555555555556,
             "#d8576b"
            ],
            [
             0.6666666666666666,
             "#ed7953"
            ],
            [
             0.7777777777777778,
             "#fb9f3a"
            ],
            [
             0.8888888888888888,
             "#fdca26"
            ],
            [
             1,
             "#f0f921"
            ]
           ],
           "sequentialminus": [
            [
             0,
             "#0d0887"
            ],
            [
             0.1111111111111111,
             "#46039f"
            ],
            [
             0.2222222222222222,
             "#7201a8"
            ],
            [
             0.3333333333333333,
             "#9c179e"
            ],
            [
             0.4444444444444444,
             "#bd3786"
            ],
            [
             0.5555555555555556,
             "#d8576b"
            ],
            [
             0.6666666666666666,
             "#ed7953"
            ],
            [
             0.7777777777777778,
             "#fb9f3a"
            ],
            [
             0.8888888888888888,
             "#fdca26"
            ],
            [
             1,
             "#f0f921"
            ]
           ]
          },
          "colorway": [
           "#636efa",
           "#EF553B",
           "#00cc96",
           "#ab63fa",
           "#FFA15A",
           "#19d3f3",
           "#FF6692",
           "#B6E880",
           "#FF97FF",
           "#FECB52"
          ],
          "font": {
           "color": "#2a3f5f"
          },
          "geo": {
           "bgcolor": "white",
           "lakecolor": "white",
           "landcolor": "white",
           "showlakes": true,
           "showland": true,
           "subunitcolor": "#C8D4E3"
          },
          "hoverlabel": {
           "align": "left"
          },
          "hovermode": "closest",
          "mapbox": {
           "style": "light"
          },
          "paper_bgcolor": "white",
          "plot_bgcolor": "white",
          "polar": {
           "angularaxis": {
            "gridcolor": "#EBF0F8",
            "linecolor": "#EBF0F8",
            "ticks": ""
           },
           "bgcolor": "white",
           "radialaxis": {
            "gridcolor": "#EBF0F8",
            "linecolor": "#EBF0F8",
            "ticks": ""
           }
          },
          "scene": {
           "xaxis": {
            "backgroundcolor": "white",
            "gridcolor": "#DFE8F3",
            "gridwidth": 2,
            "linecolor": "#EBF0F8",
            "showbackground": true,
            "ticks": "",
            "zerolinecolor": "#EBF0F8"
           },
           "yaxis": {
            "backgroundcolor": "white",
            "gridcolor": "#DFE8F3",
            "gridwidth": 2,
            "linecolor": "#EBF0F8",
            "showbackground": true,
            "ticks": "",
            "zerolinecolor": "#EBF0F8"
           },
           "zaxis": {
            "backgroundcolor": "white",
            "gridcolor": "#DFE8F3",
            "gridwidth": 2,
            "linecolor": "#EBF0F8",
            "showbackground": true,
            "ticks": "",
            "zerolinecolor": "#EBF0F8"
           }
          },
          "shapedefaults": {
           "line": {
            "color": "#2a3f5f"
           }
          },
          "ternary": {
           "aaxis": {
            "gridcolor": "#DFE8F3",
            "linecolor": "#A2B1C6",
            "ticks": ""
           },
           "baxis": {
            "gridcolor": "#DFE8F3",
            "linecolor": "#A2B1C6",
            "ticks": ""
           },
           "bgcolor": "white",
           "caxis": {
            "gridcolor": "#DFE8F3",
            "linecolor": "#A2B1C6",
            "ticks": ""
           }
          },
          "title": {
           "x": 0.05
          },
          "xaxis": {
           "automargin": true,
           "gridcolor": "#EBF0F8",
           "linecolor": "#EBF0F8",
           "ticks": "",
           "title": {
            "standoff": 15
           },
           "zerolinecolor": "#EBF0F8",
           "zerolinewidth": 2
          },
          "yaxis": {
           "automargin": true,
           "gridcolor": "#EBF0F8",
           "linecolor": "#EBF0F8",
           "ticks": "",
           "title": {
            "standoff": 15
           },
           "zerolinecolor": "#EBF0F8",
           "zerolinewidth": 2
          }
         }
        },
        "title": {
         "font": {
          "size": 24
         },
         "text": "Population Predictions for 2022, 2023, 2024<br><sup>Actual vs Predicted Population</sup>",
         "x": 0.5,
         "xanchor": "center",
         "yanchor": "top"
        },
        "xaxis": {
         "anchor": "y",
         "autorange": true,
         "domain": [
          0,
          1
         ],
         "gridcolor": "lightgrey",
         "range": [
          1999.443231441048,
          2025.556768558952
         ],
         "showgrid": true,
         "tickangle": 45,
         "tickfont": {
          "size": 12
         },
         "title": {
          "text": "Year"
         },
         "type": "linear",
         "zerolinecolor": "grey"
        },
        "yaxis": {
         "anchor": "x",
         "autorange": true,
         "domain": [
          0,
          1
         ],
         "gridcolor": "lightgrey",
         "range": [
          80115.87227417521,
          113134.92590207775
         ],
         "showgrid": true,
         "tickfont": {
          "size": 12
         },
         "title": {
          "text": "Population"
         },
         "type": "linear",
         "zerolinecolor": "grey"
        }
       }
      },
      "image/png": "[encoded data removed]",
      "text/html": [
       "<div>                            <div id=\"aca8b5aa-bcab-4060-8e63-d4cd4478c0fa\" class=\"plotly-graph-div\" style=\"height:525px; width:100%;\"></div>            <script type=\"text/javascript\">                require([\"plotly\"], function(Plotly) {                    window.PLOTLYENV=window.PLOTLYENV || {};                                    if (document.getElementById(\"aca8b5aa-bcab-4060-8e63-d4cd4478c0fa\")) {                    Plotly.newPlot(                        \"aca8b5aa-bcab-4060-8e63-d4cd4478c0fa\",                        [{\"line\":{\"color\":\"rgba(31, 119, 180, 0.8)\",\"width\":3},\"marker\":{\"color\":\"rgba(31, 119, 180, 0.8)\",\"line\":{\"color\":\"darkblue\",\"width\":2},\"size\":10},\"mode\":\"markers+lines\",\"name\":\"Actual Population\",\"x\":[2001,2002,2003,2004,2005,2006,2007,2008,2009,2010,2011,2012,2013,2014,2015,2016,2017,2018,2019,2020,2021],\"y\":[82854,83124,83107,82668,82990,83906,84819,85513,86767,87192,87395,88339,89188,90417,91674,93445,95071,96481,97765,98146,96317],\"type\":\"scatter\"},{\"line\":{\"color\":\"rgba(255, 127, 14, 0.8)\",\"dash\":\"dash\",\"width\":3},\"mode\":\"lines\",\"name\":\"Predicted Population\",\"x\":[2001,2002,2003,2004,2005,2006,2007,2008,2009,2010,2011,2012,2013,2014,2015,2016,2017,2018,2019,2020,2021],\"y\":[81781.63364275484,82355.32141310947,82929.00918346386,83502.69695381848,84076.38472417311,84645.81192284446,85223.76026488213,85796.77777462933,86365.46197218624,86940.14214495392,87514.53655232134,88097.09878147252,88695.36278844501,90411.86111144198,92035.58785243006,93638.49488004204,94951.43352117413,96424.89184122765,97229.94422171335,96504.52614648896,98057.26230915252],\"type\":\"scatter\"},{\"line\":{\"color\":\"rgba(44, 160, 44, 0.8)\",\"dash\":\"dash\",\"width\":3},\"marker\":{\"color\":\"rgba(44, 160, 44, 0.8)\",\"line\":{\"color\":\"darkgreen\",\"width\":2},\"size\":10},\"mode\":\"markers+lines\",\"name\":\"Future Predictions\",\"x\":[2022,2023,2024],\"y\":[99794.64232981531,100857.51654002257,96387.60077097986],\"type\":\"scatter\"},{\"fill\":\"toself\",\"fillcolor\":\"rgba(44, 160, 44, 0.2)\",\"hoverinfo\":\"skip\",\"line\":{\"color\":\"rgba(44, 160, 44, 0.0)\"},\"showlegend\":false,\"x\":[2022,2023,2024,2024,2023,2022],\"y\":[89815.17809683378,90771.76488602032,86748.84069388188,106026.36084807785,110943.26819402483,109774.10656279685],\"type\":\"scatter\"}],                        {\"template\":{\"data\":{\"barpolar\":[{\"marker\":{\"line\":{\"color\":\"white\",\"width\":0.5},\"pattern\":{\"fillmode\":\"overlay\",\"size\":10,\"solidity\":0.2}},\"type\":\"barpolar\"}],\"bar\":[{\"error_x\":{\"color\":\"#2a3f5f\"},\"error_y\":{\"color\":\"#2a3f5f\"},\"marker\":{\"line\":{\"color\":\"white\",\"width\":0.5},\"pattern\":{\"fillmode\":\"overlay\",\"size\":10,\"solidity\":0.2}},\"type\":\"bar\"}],\"carpet\":[{\"aaxis\":{\"endlinecolor\":\"#2a3f5f\",\"gridcolor\":\"#C8D4E3\",\"linecolor\":\"#C8D4E3\",\"minorgridcolor\":\"#C8D4E3\",\"startlinecolor\":\"#2a3f5f\"},\"baxis\":{\"endlinecolor\":\"#2a3f5f\",\"gridcolor\":\"#C8D4E3\",\"linecolor\":\"#C8D4E3\",\"minorgridcolor\":\"#C8D4E3\",\"startlinecolor\":\"#2a3f5f\"},\"type\":\"carpet\"}],\"choropleth\":[{\"colorbar\":{\"outlinewidth\":0,\"ticks\":\"\"},\"type\":\"choropleth\"}],\"contourcarpet\":[{\"colorbar\":{\"outlinewidth\":0,\"ticks\":\"\"},\"type\":\"contourcarpet\"}],\"contour\":[{\"colorbar\":{\"outlinewidth\":0,\"ticks\":\"\"},\"colorscale\":[[0.0,\"#0d0887\"],[0.1111111111111111,\"#46039f\"],[0.2222222222222222,\"#7201a8\"],[0.3333333333333333,\"#9c179e\"],[0.4444444444444444,\"#bd3786\"],[0.5555555555555556,\"#d8576b\"],[0.6666666666666666,\"#ed7953\"],[0.7777777777777778,\"#fb9f3a\"],[0.8888888888888888,\"#fdca26\"],[1.0,\"#f0f921\"]],\"type\":\"contour\"}],\"heatmapgl\":[{\"colorbar\":{\"outlinewidth\":0,\"ticks\":\"\"},\"colorscale\":[[0.0,\"#0d0887\"],[0.1111111111111111,\"#46039f\"],[0.2222222222222222,\"#7201a8\"],[0.3333333333333333,\"#9c179e\"],[0.4444444444444444,\"#bd3786\"],[0.5555555555555556,\"#d8576b\"],[0.6666666666666666,\"#ed7953\"],[0.7777777777777778,\"#fb9f3a\"],[0.8888888888888888,\"#fdca26\"],[1.0,\"#f0f921\"]],\"type\":\"heatmapgl\"}],\"heatmap\":[{\"colorbar\":{\"outlinewidth\":0,\"ticks\":\"\"},\"colorscale\":[[0.0,\"#0d0887\"],[0.1111111111111111,\"#46039f\"],[0.2222222222222222,\"#7201a8\"],[0.3333333333333333,\"#9c179e\"],[0.4444444444444444,\"#bd3786\"],[0.5555555555555556,\"#d8576b\"],[0.6666666666666666,\"#ed7953\"],[0.7777777777777778,\"#fb9f3a\"],[0.8888888888888888,\"#fdca26\"],[1.0,\"#f0f921\"]],\"type\":\"heatmap\"}],\"histogram2dcontour\":[{\"colorbar\":{\"outlinewidth\":0,\"ticks\":\"\"},\"colorscale\":[[0.0,\"#0d0887\"],[0.1111111111111111,\"#46039f\"],[0.2222222222222222,\"#7201a8\"],[0.3333333333333333,\"#9c179e\"],[0.4444444444444444,\"#bd3786\"],[0.5555555555555556,\"#d8576b\"],[0.6666666666666666,\"#ed7953\"],[0.7777777777777778,\"#fb9f3a\"],[0.8888888888888888,\"#fdca26\"],[1.0,\"#f0f921\"]],\"type\":\"histogram2dcontour\"}],\"histogram2d\":[{\"colorbar\":{\"outlinewidth\":0,\"ticks\":\"\"},\"colorscale\":[[0.0,\"#0d0887\"],[0.1111111111111111,\"#46039f\"],[0.2222222222222222,\"#7201a8\"],[0.3333333333333333,\"#9c179e\"],[0.4444444444444444,\"#bd3786\"],[0.5555555555555556,\"#d8576b\"],[0.6666666666666666,\"#ed7953\"],[0.7777777777777778,\"#fb9f3a\"],[0.8888888888888888,\"#fdca26\"],[1.0,\"#f0f921\"]],\"type\":\"histogram2d\"}],\"histogram\":[{\"marker\":{\"pattern\":{\"fillmode\":\"overlay\",\"size\":10,\"solidity\":0.2}},\"type\":\"histogram\"}],\"mesh3d\":[{\"colorbar\":{\"outlinewidth\":0,\"ticks\":\"\"},\"type\":\"mesh3d\"}],\"parcoords\":[{\"line\":{\"colorbar\":{\"outlinewidth\":0,\"ticks\":\"\"}},\"type\":\"parcoords\"}],\"pie\":[{\"automargin\":true,\"type\":\"pie\"}],\"scatter3d\":[{\"line\":{\"colorbar\":{\"outlinewidth\":0,\"ticks\":\"\"}},\"marker\":{\"colorbar\":{\"outlinewidth\":0,\"ticks\":\"\"}},\"type\":\"scatter3d\"}],\"scattercarpet\":[{\"marker\":{\"colorbar\":{\"outlinewidth\":0,\"ticks\":\"\"}},\"type\":\"scattercarpet\"}],\"scattergeo\":[{\"marker\":{\"colorbar\":{\"outlinewidth\":0,\"ticks\":\"\"}},\"type\":\"scattergeo\"}],\"scattergl\":[{\"marker\":{\"colorbar\":{\"outlinewidth\":0,\"ticks\":\"\"}},\"type\":\"scattergl\"}],\"scattermapbox\":[{\"marker\":{\"colorbar\":{\"outlinewidth\":0,\"ticks\":\"\"}},\"type\":\"scattermapbox\"}],\"scatterpolargl\":[{\"marker\":{\"colorbar\":{\"outlinewidth\":0,\"ticks\":\"\"}},\"type\":\"scatterpolargl\"}],\"scatterpolar\":[{\"marker\":{\"colorbar\":{\"outlinewidth\":0,\"ticks\":\"\"}},\"type\":\"scatterpolar\"}],\"scatter\":[{\"fillpattern\":{\"fillmode\":\"overlay\",\"size\":10,\"solidity\":0.2},\"type\":\"scatter\"}],\"scatterternary\":[{\"marker\":{\"colorbar\":{\"outlinewidth\":0,\"ticks\":\"\"}},\"type\":\"scatterternary\"}],\"surface\":[{\"colorbar\":{\"outlinewidth\":0,\"ticks\":\"\"},\"colorscale\":[[0.0,\"#0d0887\"],[0.1111111111111111,\"#46039f\"],[0.2222222222222222,\"#7201a8\"],[0.3333333333333333,\"#9c179e\"],[0.4444444444444444,\"#bd3786\"],[0.5555555555555556,\"#d8576b\"],[0.6666666666666666,\"#ed7953\"],[0.7777777777777778,\"#fb9f3a\"],[0.8888888888888888,\"#fdca26\"],[1.0,\"#f0f921\"]],\"type\":\"surface\"}],\"table\":[{\"cells\":{\"fill\":{\"color\":\"#EBF0F8\"},\"line\":{\"color\":\"white\"}},\"header\":{\"fill\":{\"color\":\"#C8D4E3\"},\"line\":{\"color\":\"white\"}},\"type\":\"table\"}]},\"layout\":{\"annotationdefaults\":{\"arrowcolor\":\"#2a3f5f\",\"arrowhead\":0,\"arrowwidth\":1},\"autotypenumbers\":\"strict\",\"coloraxis\":{\"colorbar\":{\"outlinewidth\":0,\"ticks\":\"\"}},\"colorscale\":{\"diverging\":[[0,\"#8e0152\"],[0.1,\"#c51b7d\"],[0.2,\"#de77ae\"],[0.3,\"#f1b6da\"],[0.4,\"#fde0ef\"],[0.5,\"#f7f7f7\"],[0.6,\"#e6f5d0\"],[0.7,\"#b8e186\"],[0.8,\"#7fbc41\"],[0.9,\"#4d9221\"],[1,\"#276419\"]],\"sequential\":[[0.0,\"#0d0887\"],[0.1111111111111111,\"#46039f\"],[0.2222222222222222,\"#7201a8\"],[0.3333333333333333,\"#9c179e\"],[0.4444444444444444,\"#bd3786\"],[0.5555555555555556,\"#d8576b\"],[0.6666666666666666,\"#ed7953\"],[0.7777777777777778,\"#fb9f3a\"],[0.8888888888888888,\"#fdca26\"],[1.0,\"#f0f921\"]],\"sequentialminus\":[[0.0,\"#0d0887\"],[0.1111111111111111,\"#46039f\"],[0.2222222222222222,\"#7201a8\"],[0.3333333333333333,\"#9c179e\"],[0.4444444444444444,\"#bd3786\"],[0.5555555555555556,\"#d8576b\"],[0.6666666666666666,\"#ed7953\"],[0.7777777777777778,\"#fb9f3a\"],[0.8888888888888888,\"#fdca26\"],[1.0,\"#f0f921\"]]},\"colorway\":[\"#636efa\",\"#EF553B\",\"#00cc96\",\"#ab63fa\",\"#FFA15A\",\"#19d3f3\",\"#FF6692\",\"#B6E880\",\"#FF97FF\",\"#FECB52\"],\"font\":{\"color\":\"#2a3f5f\"},\"geo\":{\"bgcolor\":\"white\",\"lakecolor\":\"white\",\"landcolor\":\"white\",\"showlakes\":true,\"showland\":true,\"subunitcolor\":\"#C8D4E3\"},\"hoverlabel\":{\"align\":\"left\"},\"hovermode\":\"closest\",\"mapbox\":{\"style\":\"light\"},\"paper_bgcolor\":\"white\",\"plot_bgcolor\":\"white\",\"polar\":{\"angularaxis\":{\"gridcolor\":\"#EBF0F8\",\"linecolor\":\"#EBF0F8\",\"ticks\":\"\"},\"bgcolor\":\"white\",\"radialaxis\":{\"gridcolor\":\"#EBF0F8\",\"linecolor\":\"#EBF0F8\",\"ticks\":\"\"}},\"scene\":{\"xaxis\":{\"backgroundcolor\":\"white\",\"gridcolor\":\"#DFE8F3\",\"gridwidth\":2,\"linecolor\":\"#EBF0F8\",\"showbackground\":true,\"ticks\":\"\",\"zerolinecolor\":\"#EBF0F8\"},\"yaxis\":{\"backgroundcolor\":\"white\",\"gridcolor\":\"#DFE8F3\",\"gridwidth\":2,\"linecolor\":\"#EBF0F8\",\"showbackground\":true,\"ticks\":\"\",\"zerolinecolor\":\"#EBF0F8\"},\"zaxis\":{\"backgroundcolor\":\"white\",\"gridcolor\":\"#DFE8F3\",\"gridwidth\":2,\"linecolor\":\"#EBF0F8\",\"showbackground\":true,\"ticks\":\"\",\"zerolinecolor\":\"#EBF0F8\"}},\"shapedefaults\":{\"line\":{\"color\":\"#2a3f5f\"}},\"ternary\":{\"aaxis\":{\"gridcolor\":\"#DFE8F3\",\"linecolor\":\"#A2B1C6\",\"ticks\":\"\"},\"baxis\":{\"gridcolor\":\"#DFE8F3\",\"linecolor\":\"#A2B1C6\",\"ticks\":\"\"},\"bgcolor\":\"white\",\"caxis\":{\"gridcolor\":\"#DFE8F3\",\"linecolor\":\"#A2B1C6\",\"ticks\":\"\"}},\"title\":{\"x\":0.05},\"xaxis\":{\"automargin\":true,\"gridcolor\":\"#EBF0F8\",\"linecolor\":\"#EBF0F8\",\"ticks\":\"\",\"title\":{\"standoff\":15},\"zerolinecolor\":\"#EBF0F8\",\"zerolinewidth\":2},\"yaxis\":{\"automargin\":true,\"gridcolor\":\"#EBF0F8\",\"linecolor\":\"#EBF0F8\",\"ticks\":\"\",\"title\":{\"standoff\":15},\"zerolinecolor\":\"#EBF0F8\",\"zerolinewidth\":2}}},\"xaxis\":{\"anchor\":\"y\",\"domain\":[0.0,1.0],\"tickfont\":{\"size\":12},\"title\":{\"text\":\"Year\"},\"showgrid\":true,\"gridcolor\":\"lightgrey\",\"zerolinecolor\":\"grey\",\"tickangle\":45},\"yaxis\":{\"anchor\":\"x\",\"domain\":[0.0,1.0],\"tickfont\":{\"size\":12},\"title\":{\"text\":\"Population\"},\"showgrid\":true,\"gridcolor\":\"lightgrey\",\"zerolinecolor\":\"grey\"},\"title\":{\"font\":{\"size\":24},\"text\":\"Population Predictions for 2022, 2023, 2024\\u003cbr\\u003e\\u003csup\\u003eActual vs Predicted Population\\u003c\\u002fsup\\u003e\",\"x\":0.5,\"xanchor\":\"center\",\"yanchor\":\"top\"},\"legend\":{\"x\":0.01,\"y\":0.99,\"traceorder\":\"normal\",\"bgcolor\":\"rgba(255,255,255,0.5)\",\"bordercolor\":\"grey\",\"borderwidth\":1},\"font\":{\"size\":14,\"family\":\"Arial, sans-serif\"},\"margin\":{\"l\":40,\"r\":40,\"t\":60,\"b\":40},\"plot_bgcolor\":\"white\",\"annotations\":[{\"arrowcolor\":\"black\",\"arrowhead\":2,\"ax\":0,\"ay\":-40,\"font\":{\"color\":\"black\",\"size\":12},\"showarrow\":true,\"text\":\"99,794\",\"x\":2022,\"xref\":\"x\",\"y\":99794.64232981531,\"yref\":\"y\"},{\"arrowcolor\":\"black\",\"arrowhead\":2,\"ax\":0,\"ay\":-40,\"font\":{\"color\":\"black\",\"size\":12},\"showarrow\":true,\"text\":\"100,857\",\"x\":2023,\"xref\":\"x\",\"y\":100857.51654002257,\"yref\":\"y\"},{\"arrowcolor\":\"black\",\"arrowhead\":2,\"ax\":0,\"ay\":-40,\"font\":{\"color\":\"black\",\"size\":12},\"showarrow\":true,\"text\":\"96,387\",\"x\":2024,\"xref\":\"x\",\"y\":96387.60077097986,\"yref\":\"y\"}],\"hovermode\":\"x unified\"},                        {\"responsive\": true}                    ).then(function(){\n",
       "                            \n",
       "var gd = document.getElementById('aca8b5aa-bcab-4060-8e63-d4cd4478c0fa');\n",
       "var x = new MutationObserver(function (mutations, observer) {{\n",
       "        var display = window.getComputedStyle(gd).display;\n",
       "        if (!display || display === 'none') {{\n",
       "            console.log([gd, 'removed!']);\n",
       "            Plotly.purge(gd);\n",
       "            observer.disconnect();\n",
       "        }}\n",
       "}});\n",
       "\n",
       "// Listen for the removal of the full notebook cells\n",
       "var notebookContainer = gd.closest('#notebook-container');\n",
       "if (notebookContainer) {{\n",
       "    x.observe(notebookContainer, {childList: true});\n",
       "}}\n",
       "\n",
       "// Listen for the clearing of the current output cell\n",
       "var outputEl = gd.closest('.output');\n",
       "if (outputEl) {{\n",
       "    x.observe(outputEl, {childList: true});\n",
       "}}\n",
       "\n",
       "                        })                };                });            </script>        </div>"
      ]
     },
     "metadata": {},
     "output_type": "display_data"
    }
   ],
   "source": [
    "\n",
    "future_predictions = interaction_model.predict(predict_df)\n",
    "# Future Predictions\n",
    "years = [2022, 2023, 2024]\n",
    "future_populations = future_predictions.values\n",
    "\n",
    "\n",
    "# Create traces\n",
    "actual_trace = go.Scatter(\n",
    "    x=analysis_df['year'],\n",
    "    y=analysis_df['population'],\n",
    "    mode='markers+lines',\n",
    "    name='Actual Population',\n",
    "    marker=dict(color='rgba(31, 119, 180, 0.8)', size=10, line=dict(width=2, color='darkblue')),\n",
    "    line=dict(width=3, color='rgba(31, 119, 180, 0.8)')\n",
    ")\n",
    "predicted_trace = go.Scatter(\n",
    "    x=analysis_df['year'],\n",
    "    y=interaction_model.fittedvalues if interaction_model else analysis_df['population'],  # Simulated for demo\n",
    "    mode='lines',\n",
    "    name='Predicted Population',\n",
    "    line=dict(dash='dash', color='rgba(255, 127, 14, 0.8)', width=3)\n",
    ")\n",
    "future_trace = go.Scatter(\n",
    "    x=years,\n",
    "    y=future_populations,\n",
    "    mode='markers+lines',\n",
    "    name='Future Predictions',\n",
    "    line=dict(dash='dash', color='rgba(44, 160, 44, 0.8)', width=3),\n",
    "    marker=dict(color='rgba(44, 160, 44, 0.8)', size=10, line=dict(width=2, color='darkgreen'))\n",
    ")\n",
    "\n",
    "# Create figure\n",
    "fig = make_subplots()\n",
    "fig.add_trace(actual_trace)\n",
    "fig.add_trace(predicted_trace)\n",
    "fig.add_trace(future_trace)\n",
    "\n",
    "# Add shaded area for prediction range\n",
    "fig.add_trace(go.Scatter(\n",
    "    x=years + years[::-1],  # x, then x reversed\n",
    "    y=[p * 0.9 for p in future_populations] + [p * 1.1 for p in future_populations[::-1]],  # lower, then upper\n",
    "    fill='toself',\n",
    "    fillcolor='rgba(44, 160, 44, 0.2)',\n",
    "    line=dict(color='rgba(44, 160, 44, 0.0)'),\n",
    "    hoverinfo=\"skip\",\n",
    "    showlegend=False\n",
    "))\n",
    "\n",
    "# Add annotations for future predictions\n",
    "annotations = []\n",
    "for year, pop in zip(years, future_populations):\n",
    "    annotations.append(dict(\n",
    "        x=year,\n",
    "        y=pop,\n",
    "        xref='x',\n",
    "        yref='y',\n",
    "        text=f'{int(pop):,}',  # Format to show rounded integer with commas\n",
    "        showarrow=True,\n",
    "        arrowhead=2,\n",
    "        ax=0,\n",
    "        ay=-40,\n",
    "        font=dict(size=12, color='black'),\n",
    "        arrowcolor='black'\n",
    "    ))\n",
    "\n",
    "# Update layout\n",
    "fig.update_layout(\n",
    "    title=dict(\n",
    "        text='Population Predictions for 2022, 2023, 2024<br><sup>Actual vs Predicted Population</sup>',\n",
    "        x=0.5,\n",
    "        xanchor='center',\n",
    "        yanchor='top',\n",
    "        font=dict(size=24)\n",
    "    ),\n",
    "    xaxis_title='Year',\n",
    "    yaxis_title='Population',\n",
    "    legend=dict(x=0.01, y=0.99, traceorder='normal', bgcolor='rgba(255,255,255,0.5)', bordercolor='grey', borderwidth=1),\n",
    "    plot_bgcolor='white',\n",
    "    xaxis=dict(\n",
    "        showgrid=True,\n",
    "        gridcolor='lightgrey',\n",
    "        zerolinecolor='grey',\n",
    "        tickangle=45,\n",
    "        tickfont=dict(size=12)\n",
    "    ),\n",
    "    yaxis=dict(\n",
    "        showgrid=True,\n",
    "        gridcolor='lightgrey',\n",
    "        zerolinecolor='grey',\n",
    "        tickfont=dict(size=12)\n",
    "    ),\n",
    "    font=dict(size=14, family='Arial, sans-serif'),\n",
    "    annotations=annotations,\n",
    "    hovermode='x unified',\n",
    "    margin=dict(l=40, r=40, t=60, b=40),\n",
    "    template='plotly_white'\n",
    ")\n",
    "\n",
    "# Show plot\n",
    "fig.show()"
   ]
  },
  {
   "cell_type": "code",
   "execution_count": 51,
   "metadata": {},
   "outputs": [
    {
     "data": {
      "application/vnd.plotly.v1+json": {
       "config": {
        "plotlyServerURL": "https://plot.ly"
       },
       "data": [
        {
         "hovertemplate": "Metric=building_permit_count<br>Year=%{x}<br>Count=%{y}<extra></extra>",
         "legendgroup": "building_permit_count",
         "line": {
          "color": "#636EFA",
          "dash": "solid"
         },
         "marker": {
          "symbol": "circle"
         },
         "mode": "lines+markers",
         "name": "building_permit_count",
         "orientation": "v",
         "showlegend": true,
         "type": "scatter",
         "x": [
          2001,
          2002,
          2003,
          2004,
          2005,
          2006,
          2007,
          2008,
          2009,
          2010,
          2011,
          2012,
          2013,
          2014,
          2015,
          2016,
          2017,
          2018,
          2019,
          2020,
          2021
         ],
         "xaxis": "x",
         "y": [
          1,
          1,
          1,
          1,
          1,
          5,
          1,
          2,
          13,
          18,
          52,
          42,
          94,
          2280,
          3123,
          3577,
          3607,
          3751,
          3412,
          2251,
          2533
         ],
         "yaxis": "y"
        },
        {
         "hovertemplate": "Metric=population<br>Year=%{x}<br>Count=%{y}<extra></extra>",
         "legendgroup": "population",
         "line": {
          "color": "#EF553B",
          "dash": "solid"
         },
         "marker": {
          "symbol": "circle"
         },
         "mode": "lines+markers",
         "name": "population",
         "orientation": "v",
         "showlegend": true,
         "type": "scatter",
         "x": [
          2001,
          2002,
          2003,
          2004,
          2005,
          2006,
          2007,
          2008,
          2009,
          2010,
          2011,
          2012,
          2013,
          2014,
          2015,
          2016,
          2017,
          2018,
          2019,
          2020,
          2021
         ],
         "xaxis": "x",
         "y": [
          82854,
          83124,
          83107,
          82668,
          82990,
          83906,
          84819,
          85513,
          86767,
          87192,
          87395,
          88339,
          89188,
          90417,
          91674,
          93445,
          95071,
          96481,
          97765,
          98146,
          96317
         ],
         "yaxis": "y"
        }
       ],
       "layout": {
        "autosize": true,
        "legend": {
         "title": {
          "text": "Metric"
         },
         "tracegroupgap": 0
        },
        "plot_bgcolor": "white",
        "template": {
         "data": {
          "bar": [
           {
            "error_x": {
             "color": "#2a3f5f"
            },
            "error_y": {
             "color": "#2a3f5f"
            },
            "marker": {
             "line": {
              "color": "#E5ECF6",
              "width": 0.5
             },
             "pattern": {
              "fillmode": "overlay",
              "size": 10,
              "solidity": 0.2
             }
            },
            "type": "bar"
           }
          ],
          "barpolar": [
           {
            "marker": {
             "line": {
              "color": "#E5ECF6",
              "width": 0.5
             },
             "pattern": {
              "fillmode": "overlay",
              "size": 10,
              "solidity": 0.2
             }
            },
            "type": "barpolar"
           }
          ],
          "carpet": [
           {
            "aaxis": {
             "endlinecolor": "#2a3f5f",
             "gridcolor": "white",
             "linecolor": "white",
             "minorgridcolor": "white",
             "startlinecolor": "#2a3f5f"
            },
            "baxis": {
             "endlinecolor": "#2a3f5f",
             "gridcolor": "white",
             "linecolor": "white",
             "minorgridcolor": "white",
             "startlinecolor": "#2a3f5f"
            },
            "type": "carpet"
           }
          ],
          "choropleth": [
           {
            "colorbar": {
             "outlinewidth": 0,
             "ticks": ""
            },
            "type": "choropleth"
           }
          ],
          "contour": [
           {
            "colorbar": {
             "outlinewidth": 0,
             "ticks": ""
            },
            "colorscale": [
             [
              0,
              "#0d0887"
             ],
             [
              0.1111111111111111,
              "#46039f"
             ],
             [
              0.2222222222222222,
              "#7201a8"
             ],
             [
              0.3333333333333333,
              "#9c179e"
             ],
             [
              0.4444444444444444,
              "#bd3786"
             ],
             [
              0.5555555555555556,
              "#d8576b"
             ],
             [
              0.6666666666666666,
              "#ed7953"
             ],
             [
              0.7777777777777778,
              "#fb9f3a"
             ],
             [
              0.8888888888888888,
              "#fdca26"
             ],
             [
              1,
              "#f0f921"
             ]
            ],
            "type": "contour"
           }
          ],
          "contourcarpet": [
           {
            "colorbar": {
             "outlinewidth": 0,
             "ticks": ""
            },
            "type": "contourcarpet"
           }
          ],
          "heatmap": [
           {
            "colorbar": {
             "outlinewidth": 0,
             "ticks": ""
            },
            "colorscale": [
             [
              0,
              "#0d0887"
             ],
             [
              0.1111111111111111,
              "#46039f"
             ],
             [
              0.2222222222222222,
              "#7201a8"
             ],
             [
              0.3333333333333333,
              "#9c179e"
             ],
             [
              0.4444444444444444,
              "#bd3786"
             ],
             [
              0.5555555555555556,
              "#d8576b"
             ],
             [
              0.6666666666666666,
              "#ed7953"
             ],
             [
              0.7777777777777778,
              "#fb9f3a"
             ],
             [
              0.8888888888888888,
              "#fdca26"
             ],
             [
              1,
              "#f0f921"
             ]
            ],
            "type": "heatmap"
           }
          ],
          "heatmapgl": [
           {
            "colorbar": {
             "outlinewidth": 0,
             "ticks": ""
            },
            "colorscale": [
             [
              0,
              "#0d0887"
             ],
             [
              0.1111111111111111,
              "#46039f"
             ],
             [
              0.2222222222222222,
              "#7201a8"
             ],
             [
              0.3333333333333333,
              "#9c179e"
             ],
             [
              0.4444444444444444,
              "#bd3786"
             ],
             [
              0.5555555555555556,
              "#d8576b"
             ],
             [
              0.6666666666666666,
              "#ed7953"
             ],
             [
              0.7777777777777778,
              "#fb9f3a"
             ],
             [
              0.8888888888888888,
              "#fdca26"
             ],
             [
              1,
              "#f0f921"
             ]
            ],
            "type": "heatmapgl"
           }
          ],
          "histogram": [
           {
            "marker": {
             "pattern": {
              "fillmode": "overlay",
              "size": 10,
              "solidity": 0.2
             }
            },
            "type": "histogram"
           }
          ],
          "histogram2d": [
           {
            "colorbar": {
             "outlinewidth": 0,
             "ticks": ""
            },
            "colorscale": [
             [
              0,
              "#0d0887"
             ],
             [
              0.1111111111111111,
              "#46039f"
             ],
             [
              0.2222222222222222,
              "#7201a8"
             ],
             [
              0.3333333333333333,
              "#9c179e"
             ],
             [
              0.4444444444444444,
              "#bd3786"
             ],
             [
              0.5555555555555556,
              "#d8576b"
             ],
             [
              0.6666666666666666,
              "#ed7953"
             ],
             [
              0.7777777777777778,
              "#fb9f3a"
             ],
             [
              0.8888888888888888,
              "#fdca26"
             ],
             [
              1,
              "#f0f921"
             ]
            ],
            "type": "histogram2d"
           }
          ],
          "histogram2dcontour": [
           {
            "colorbar": {
             "outlinewidth": 0,
             "ticks": ""
            },
            "colorscale": [
             [
              0,
              "#0d0887"
             ],
             [
              0.1111111111111111,
              "#46039f"
             ],
             [
              0.2222222222222222,
              "#7201a8"
             ],
             [
              0.3333333333333333,
              "#9c179e"
             ],
             [
              0.4444444444444444,
              "#bd3786"
             ],
             [
              0.5555555555555556,
              "#d8576b"
             ],
             [
              0.6666666666666666,
              "#ed7953"
             ],
             [
              0.7777777777777778,
              "#fb9f3a"
             ],
             [
              0.8888888888888888,
              "#fdca26"
             ],
             [
              1,
              "#f0f921"
             ]
            ],
            "type": "histogram2dcontour"
           }
          ],
          "mesh3d": [
           {
            "colorbar": {
             "outlinewidth": 0,
             "ticks": ""
            },
            "type": "mesh3d"
           }
          ],
          "parcoords": [
           {
            "line": {
             "colorbar": {
              "outlinewidth": 0,
              "ticks": ""
             }
            },
            "type": "parcoords"
           }
          ],
          "pie": [
           {
            "automargin": true,
            "type": "pie"
           }
          ],
          "scatter": [
           {
            "fillpattern": {
             "fillmode": "overlay",
             "size": 10,
             "solidity": 0.2
            },
            "type": "scatter"
           }
          ],
          "scatter3d": [
           {
            "line": {
             "colorbar": {
              "outlinewidth": 0,
              "ticks": ""
             }
            },
            "marker": {
             "colorbar": {
              "outlinewidth": 0,
              "ticks": ""
             }
            },
            "type": "scatter3d"
           }
          ],
          "scattercarpet": [
           {
            "marker": {
             "colorbar": {
              "outlinewidth": 0,
              "ticks": ""
             }
            },
            "type": "scattercarpet"
           }
          ],
          "scattergeo": [
           {
            "marker": {
             "colorbar": {
              "outlinewidth": 0,
              "ticks": ""
             }
            },
            "type": "scattergeo"
           }
          ],
          "scattergl": [
           {
            "marker": {
             "colorbar": {
              "outlinewidth": 0,
              "ticks": ""
             }
            },
            "type": "scattergl"
           }
          ],
          "scattermapbox": [
           {
            "marker": {
             "colorbar": {
              "outlinewidth": 0,
              "ticks": ""
             }
            },
            "type": "scattermapbox"
           }
          ],
          "scatterpolar": [
           {
            "marker": {
             "colorbar": {
              "outlinewidth": 0,
              "ticks": ""
             }
            },
            "type": "scatterpolar"
           }
          ],
          "scatterpolargl": [
           {
            "marker": {
             "colorbar": {
              "outlinewidth": 0,
              "ticks": ""
             }
            },
            "type": "scatterpolargl"
           }
          ],
          "scatterternary": [
           {
            "marker": {
             "colorbar": {
              "outlinewidth": 0,
              "ticks": ""
             }
            },
            "type": "scatterternary"
           }
          ],
          "surface": [
           {
            "colorbar": {
             "outlinewidth": 0,
             "ticks": ""
            },
            "colorscale": [
             [
              0,
              "#0d0887"
             ],
             [
              0.1111111111111111,
              "#46039f"
             ],
             [
              0.2222222222222222,
              "#7201a8"
             ],
             [
              0.3333333333333333,
              "#9c179e"
             ],
             [
              0.4444444444444444,
              "#bd3786"
             ],
             [
              0.5555555555555556,
              "#d8576b"
             ],
             [
              0.6666666666666666,
              "#ed7953"
             ],
             [
              0.7777777777777778,
              "#fb9f3a"
             ],
             [
              0.8888888888888888,
              "#fdca26"
             ],
             [
              1,
              "#f0f921"
             ]
            ],
            "type": "surface"
           }
          ],
          "table": [
           {
            "cells": {
             "fill": {
              "color": "#EBF0F8"
             },
             "line": {
              "color": "white"
             }
            },
            "header": {
             "fill": {
              "color": "#C8D4E3"
             },
             "line": {
              "color": "white"
             }
            },
            "type": "table"
           }
          ]
         },
         "layout": {
          "annotationdefaults": {
           "arrowcolor": "#2a3f5f",
           "arrowhead": 0,
           "arrowwidth": 1
          },
          "autotypenumbers": "strict",
          "coloraxis": {
           "colorbar": {
            "outlinewidth": 0,
            "ticks": ""
           }
          },
          "colorscale": {
           "diverging": [
            [
             0,
             "#8e0152"
            ],
            [
             0.1,
             "#c51b7d"
            ],
            [
             0.2,
             "#de77ae"
            ],
            [
             0.3,
             "#f1b6da"
            ],
            [
             0.4,
             "#fde0ef"
            ],
            [
             0.5,
             "#f7f7f7"
            ],
            [
             0.6,
             "#e6f5d0"
            ],
            [
             0.7,
             "#b8e186"
            ],
            [
             0.8,
             "#7fbc41"
            ],
            [
             0.9,
             "#4d9221"
            ],
            [
             1,
             "#276419"
            ]
           ],
           "sequential": [
            [
             0,
             "#0d0887"
            ],
            [
             0.1111111111111111,
             "#46039f"
            ],
            [
             0.2222222222222222,
             "#7201a8"
            ],
            [
             0.3333333333333333,
             "#9c179e"
            ],
            [
             0.4444444444444444,
             "#bd3786"
            ],
            [
             0.5555555555555556,
             "#d8576b"
            ],
            [
             0.6666666666666666,
             "#ed7953"
            ],
            [
             0.7777777777777778,
             "#fb9f3a"
            ],
            [
             0.8888888888888888,
             "#fdca26"
            ],
            [
             1,
             "#f0f921"
            ]
           ],
           "sequentialminus": [
            [
             0,
             "#0d0887"
            ],
            [
             0.1111111111111111,
             "#46039f"
            ],
            [
             0.2222222222222222,
             "#7201a8"
            ],
            [
             0.3333333333333333,
             "#9c179e"
            ],
            [
             0.4444444444444444,
             "#bd3786"
            ],
            [
             0.5555555555555556,
             "#d8576b"
            ],
            [
             0.6666666666666666,
             "#ed7953"
            ],
            [
             0.7777777777777778,
             "#fb9f3a"
            ],
            [
             0.8888888888888888,
             "#fdca26"
            ],
            [
             1,
             "#f0f921"
            ]
           ]
          },
          "colorway": [
           "#636efa",
           "#EF553B",
           "#00cc96",
           "#ab63fa",
           "#FFA15A",
           "#19d3f3",
           "#FF6692",
           "#B6E880",
           "#FF97FF",
           "#FECB52"
          ],
          "font": {
           "color": "#2a3f5f"
          },
          "geo": {
           "bgcolor": "white",
           "lakecolor": "white",
           "landcolor": "#E5ECF6",
           "showlakes": true,
           "showland": true,
           "subunitcolor": "white"
          },
          "hoverlabel": {
           "align": "left"
          },
          "hovermode": "closest",
          "mapbox": {
           "style": "light"
          },
          "paper_bgcolor": "white",
          "plot_bgcolor": "#E5ECF6",
          "polar": {
           "angularaxis": {
            "gridcolor": "white",
            "linecolor": "white",
            "ticks": ""
           },
           "bgcolor": "#E5ECF6",
           "radialaxis": {
            "gridcolor": "white",
            "linecolor": "white",
            "ticks": ""
           }
          },
          "scene": {
           "xaxis": {
            "backgroundcolor": "#E5ECF6",
            "gridcolor": "white",
            "gridwidth": 2,
            "linecolor": "white",
            "showbackground": true,
            "ticks": "",
            "zerolinecolor": "white"
           },
           "yaxis": {
            "backgroundcolor": "#E5ECF6",
            "gridcolor": "white",
            "gridwidth": 2,
            "linecolor": "white",
            "showbackground": true,
            "ticks": "",
            "zerolinecolor": "white"
           },
           "zaxis": {
            "backgroundcolor": "#E5ECF6",
            "gridcolor": "white",
            "gridwidth": 2,
            "linecolor": "white",
            "showbackground": true,
            "ticks": "",
            "zerolinecolor": "white"
           }
          },
          "shapedefaults": {
           "line": {
            "color": "#2a3f5f"
           }
          },
          "ternary": {
           "aaxis": {
            "gridcolor": "white",
            "linecolor": "white",
            "ticks": ""
           },
           "baxis": {
            "gridcolor": "white",
            "linecolor": "white",
            "ticks": ""
           },
           "bgcolor": "#E5ECF6",
           "caxis": {
            "gridcolor": "white",
            "linecolor": "white",
            "ticks": ""
           }
          },
          "title": {
           "x": 0.05
          },
          "xaxis": {
           "automargin": true,
           "gridcolor": "white",
           "linecolor": "white",
           "ticks": "",
           "title": {
            "standoff": 15
           },
           "zerolinecolor": "white",
           "zerolinewidth": 2
          },
          "yaxis": {
           "automargin": true,
           "gridcolor": "white",
           "linecolor": "white",
           "ticks": "",
           "title": {
            "standoff": 15
           },
           "zerolinecolor": "white",
           "zerolinewidth": 2
          }
         }
        },
        "title": {
         "text": "Trend Analysis: Building Permits and Population Over the Years"
        },
        "xaxis": {
         "anchor": "y",
         "autorange": true,
         "domain": [
          0,
          1
         ],
         "gridcolor": "lightgrey",
         "range": [
          1999.690050107373,
          2022.309949892627
         ],
         "showgrid": true,
         "title": {
          "text": "Year"
         },
         "type": "linear"
        },
        "yaxis": {
         "anchor": "x",
         "autorange": true,
         "domain": [
          0,
          1
         ],
         "gridcolor": "lightgrey",
         "range": [
          -8098.344660194175,
          106245.34466019417
         ],
         "showgrid": true,
         "title": {
          "text": "Count"
         },
         "type": "linear"
        }
       }
      },
      "image/png": "[encoded data removed]",
      "text/html": [
       "<div>                            <div id=\"03db4c80-537a-46f2-939b-4918798dd556\" class=\"plotly-graph-div\" style=\"height:525px; width:100%;\"></div>            <script type=\"text/javascript\">                require([\"plotly\"], function(Plotly) {                    window.PLOTLYENV=window.PLOTLYENV || {};                                    if (document.getElementById(\"03db4c80-537a-46f2-939b-4918798dd556\")) {                    Plotly.newPlot(                        \"03db4c80-537a-46f2-939b-4918798dd556\",                        [{\"hovertemplate\":\"Metric=building_permit_count\\u003cbr\\u003eYear=%{x}\\u003cbr\\u003eCount=%{y}\\u003cextra\\u003e\\u003c\\u002fextra\\u003e\",\"legendgroup\":\"building_permit_count\",\"line\":{\"color\":\"#636EFA\",\"dash\":\"solid\"},\"marker\":{\"symbol\":\"circle\"},\"mode\":\"lines+markers\",\"name\":\"building_permit_count\",\"orientation\":\"v\",\"showlegend\":true,\"x\":[2001,2002,2003,2004,2005,2006,2007,2008,2009,2010,2011,2012,2013,2014,2015,2016,2017,2018,2019,2020,2021],\"xaxis\":\"x\",\"y\":[1,1,1,1,1,5,1,2,13,18,52,42,94,2280,3123,3577,3607,3751,3412,2251,2533],\"yaxis\":\"y\",\"type\":\"scatter\"},{\"hovertemplate\":\"Metric=population\\u003cbr\\u003eYear=%{x}\\u003cbr\\u003eCount=%{y}\\u003cextra\\u003e\\u003c\\u002fextra\\u003e\",\"legendgroup\":\"population\",\"line\":{\"color\":\"#EF553B\",\"dash\":\"solid\"},\"marker\":{\"symbol\":\"circle\"},\"mode\":\"lines+markers\",\"name\":\"population\",\"orientation\":\"v\",\"showlegend\":true,\"x\":[2001,2002,2003,2004,2005,2006,2007,2008,2009,2010,2011,2012,2013,2014,2015,2016,2017,2018,2019,2020,2021],\"xaxis\":\"x\",\"y\":[82854,83124,83107,82668,82990,83906,84819,85513,86767,87192,87395,88339,89188,90417,91674,93445,95071,96481,97765,98146,96317],\"yaxis\":\"y\",\"type\":\"scatter\"}],                        {\"template\":{\"data\":{\"histogram2dcontour\":[{\"type\":\"histogram2dcontour\",\"colorbar\":{\"outlinewidth\":0,\"ticks\":\"\"},\"colorscale\":[[0.0,\"#0d0887\"],[0.1111111111111111,\"#46039f\"],[0.2222222222222222,\"#7201a8\"],[0.3333333333333333,\"#9c179e\"],[0.4444444444444444,\"#bd3786\"],[0.5555555555555556,\"#d8576b\"],[0.6666666666666666,\"#ed7953\"],[0.7777777777777778,\"#fb9f3a\"],[0.8888888888888888,\"#fdca26\"],[1.0,\"#f0f921\"]]}],\"choropleth\":[{\"type\":\"choropleth\",\"colorbar\":{\"outlinewidth\":0,\"ticks\":\"\"}}],\"histogram2d\":[{\"type\":\"histogram2d\",\"colorbar\":{\"outlinewidth\":0,\"ticks\":\"\"},\"colorscale\":[[0.0,\"#0d0887\"],[0.1111111111111111,\"#46039f\"],[0.2222222222222222,\"#7201a8\"],[0.3333333333333333,\"#9c179e\"],[0.4444444444444444,\"#bd3786\"],[0.5555555555555556,\"#d8576b\"],[0.6666666666666666,\"#ed7953\"],[0.7777777777777778,\"#fb9f3a\"],[0.8888888888888888,\"#fdca26\"],[1.0,\"#f0f921\"]]}],\"heatmap\":[{\"type\":\"heatmap\",\"colorbar\":{\"outlinewidth\":0,\"ticks\":\"\"},\"colorscale\":[[0.0,\"#0d0887\"],[0.1111111111111111,\"#46039f\"],[0.2222222222222222,\"#7201a8\"],[0.3333333333333333,\"#9c179e\"],[0.4444444444444444,\"#bd3786\"],[0.5555555555555556,\"#d8576b\"],[0.6666666666666666,\"#ed7953\"],[0.7777777777777778,\"#fb9f3a\"],[0.8888888888888888,\"#fdca26\"],[1.0,\"#f0f921\"]]}],\"heatmapgl\":[{\"type\":\"heatmapgl\",\"colorbar\":{\"outlinewidth\":0,\"ticks\":\"\"},\"colorscale\":[[0.0,\"#0d0887\"],[0.1111111111111111,\"#46039f\"],[0.2222222222222222,\"#7201a8\"],[0.3333333333333333,\"#9c179e\"],[0.4444444444444444,\"#bd3786\"],[0.5555555555555556,\"#d8576b\"],[0.6666666666666666,\"#ed7953\"],[0.7777777777777778,\"#fb9f3a\"],[0.8888888888888888,\"#fdca26\"],[1.0,\"#f0f921\"]]}],\"contourcarpet\":[{\"type\":\"contourcarpet\",\"colorbar\":{\"outlinewidth\":0,\"ticks\":\"\"}}],\"contour\":[{\"type\":\"contour\",\"colorbar\":{\"outlinewidth\":0,\"ticks\":\"\"},\"colorscale\":[[0.0,\"#0d0887\"],[0.1111111111111111,\"#46039f\"],[0.2222222222222222,\"#7201a8\"],[0.3333333333333333,\"#9c179e\"],[0.4444444444444444,\"#bd3786\"],[0.5555555555555556,\"#d8576b\"],[0.6666666666666666,\"#ed7953\"],[0.7777777777777778,\"#fb9f3a\"],[0.8888888888888888,\"#fdca26\"],[1.0,\"#f0f921\"]]}],\"surface\":[{\"type\":\"surface\",\"colorbar\":{\"outlinewidth\":0,\"ticks\":\"\"},\"colorscale\":[[0.0,\"#0d0887\"],[0.1111111111111111,\"#46039f\"],[0.2222222222222222,\"#7201a8\"],[0.3333333333333333,\"#9c179e\"],[0.4444444444444444,\"#bd3786\"],[0.5555555555555556,\"#d8576b\"],[0.6666666666666666,\"#ed7953\"],[0.7777777777777778,\"#fb9f3a\"],[0.8888888888888888,\"#fdca26\"],[1.0,\"#f0f921\"]]}],\"mesh3d\":[{\"type\":\"mesh3d\",\"colorbar\":{\"outlinewidth\":0,\"ticks\":\"\"}}],\"scatter\":[{\"fillpattern\":{\"fillmode\":\"overlay\",\"size\":10,\"solidity\":0.2},\"type\":\"scatter\"}],\"parcoords\":[{\"type\":\"parcoords\",\"line\":{\"colorbar\":{\"outlinewidth\":0,\"ticks\":\"\"}}}],\"scatterpolargl\":[{\"type\":\"scatterpolargl\",\"marker\":{\"colorbar\":{\"outlinewidth\":0,\"ticks\":\"\"}}}],\"bar\":[{\"error_x\":{\"color\":\"#2a3f5f\"},\"error_y\":{\"color\":\"#2a3f5f\"},\"marker\":{\"line\":{\"color\":\"#E5ECF6\",\"width\":0.5},\"pattern\":{\"fillmode\":\"overlay\",\"size\":10,\"solidity\":0.2}},\"type\":\"bar\"}],\"scattergeo\":[{\"type\":\"scattergeo\",\"marker\":{\"colorbar\":{\"outlinewidth\":0,\"ticks\":\"\"}}}],\"scatterpolar\":[{\"type\":\"scatterpolar\",\"marker\":{\"colorbar\":{\"outlinewidth\":0,\"ticks\":\"\"}}}],\"histogram\":[{\"marker\":{\"pattern\":{\"fillmode\":\"overlay\",\"size\":10,\"solidity\":0.2}},\"type\":\"histogram\"}],\"scattergl\":[{\"type\":\"scattergl\",\"marker\":{\"colorbar\":{\"outlinewidth\":0,\"ticks\":\"\"}}}],\"scatter3d\":[{\"type\":\"scatter3d\",\"line\":{\"colorbar\":{\"outlinewidth\":0,\"ticks\":\"\"}},\"marker\":{\"colorbar\":{\"outlinewidth\":0,\"ticks\":\"\"}}}],\"scattermapbox\":[{\"type\":\"scattermapbox\",\"marker\":{\"colorbar\":{\"outlinewidth\":0,\"ticks\":\"\"}}}],\"scatterternary\":[{\"type\":\"scatterternary\",\"marker\":{\"colorbar\":{\"outlinewidth\":0,\"ticks\":\"\"}}}],\"scattercarpet\":[{\"type\":\"scattercarpet\",\"marker\":{\"colorbar\":{\"outlinewidth\":0,\"ticks\":\"\"}}}],\"carpet\":[{\"aaxis\":{\"endlinecolor\":\"#2a3f5f\",\"gridcolor\":\"white\",\"linecolor\":\"white\",\"minorgridcolor\":\"white\",\"startlinecolor\":\"#2a3f5f\"},\"baxis\":{\"endlinecolor\":\"#2a3f5f\",\"gridcolor\":\"white\",\"linecolor\":\"white\",\"minorgridcolor\":\"white\",\"startlinecolor\":\"#2a3f5f\"},\"type\":\"carpet\"}],\"table\":[{\"cells\":{\"fill\":{\"color\":\"#EBF0F8\"},\"line\":{\"color\":\"white\"}},\"header\":{\"fill\":{\"color\":\"#C8D4E3\"},\"line\":{\"color\":\"white\"}},\"type\":\"table\"}],\"barpolar\":[{\"marker\":{\"line\":{\"color\":\"#E5ECF6\",\"width\":0.5},\"pattern\":{\"fillmode\":\"overlay\",\"size\":10,\"solidity\":0.2}},\"type\":\"barpolar\"}],\"pie\":[{\"automargin\":true,\"type\":\"pie\"}]},\"layout\":{\"autotypenumbers\":\"strict\",\"colorway\":[\"#636efa\",\"#EF553B\",\"#00cc96\",\"#ab63fa\",\"#FFA15A\",\"#19d3f3\",\"#FF6692\",\"#B6E880\",\"#FF97FF\",\"#FECB52\"],\"font\":{\"color\":\"#2a3f5f\"},\"hovermode\":\"closest\",\"hoverlabel\":{\"align\":\"left\"},\"paper_bgcolor\":\"white\",\"plot_bgcolor\":\"#E5ECF6\",\"polar\":{\"bgcolor\":\"#E5ECF6\",\"angularaxis\":{\"gridcolor\":\"white\",\"linecolor\":\"white\",\"ticks\":\"\"},\"radialaxis\":{\"gridcolor\":\"white\",\"linecolor\":\"white\",\"ticks\":\"\"}},\"ternary\":{\"bgcolor\":\"#E5ECF6\",\"aaxis\":{\"gridcolor\":\"white\",\"linecolor\":\"white\",\"ticks\":\"\"},\"baxis\":{\"gridcolor\":\"white\",\"linecolor\":\"white\",\"ticks\":\"\"},\"caxis\":{\"gridcolor\":\"white\",\"linecolor\":\"white\",\"ticks\":\"\"}},\"coloraxis\":{\"colorbar\":{\"outlinewidth\":0,\"ticks\":\"\"}},\"colorscale\":{\"sequential\":[[0.0,\"#0d0887\"],[0.1111111111111111,\"#46039f\"],[0.2222222222222222,\"#7201a8\"],[0.3333333333333333,\"#9c179e\"],[0.4444444444444444,\"#bd3786\"],[0.5555555555555556,\"#d8576b\"],[0.6666666666666666,\"#ed7953\"],[0.7777777777777778,\"#fb9f3a\"],[0.8888888888888888,\"#fdca26\"],[1.0,\"#f0f921\"]],\"sequentialminus\":[[0.0,\"#0d0887\"],[0.1111111111111111,\"#46039f\"],[0.2222222222222222,\"#7201a8\"],[0.3333333333333333,\"#9c179e\"],[0.4444444444444444,\"#bd3786\"],[0.5555555555555556,\"#d8576b\"],[0.6666666666666666,\"#ed7953\"],[0.7777777777777778,\"#fb9f3a\"],[0.8888888888888888,\"#fdca26\"],[1.0,\"#f0f921\"]],\"diverging\":[[0,\"#8e0152\"],[0.1,\"#c51b7d\"],[0.2,\"#de77ae\"],[0.3,\"#f1b6da\"],[0.4,\"#fde0ef\"],[0.5,\"#f7f7f7\"],[0.6,\"#e6f5d0\"],[0.7,\"#b8e186\"],[0.8,\"#7fbc41\"],[0.9,\"#4d9221\"],[1,\"#276419\"]]},\"xaxis\":{\"gridcolor\":\"white\",\"linecolor\":\"white\",\"ticks\":\"\",\"title\":{\"standoff\":15},\"zerolinecolor\":\"white\",\"automargin\":true,\"zerolinewidth\":2},\"yaxis\":{\"gridcolor\":\"white\",\"linecolor\":\"white\",\"ticks\":\"\",\"title\":{\"standoff\":15},\"zerolinecolor\":\"white\",\"automargin\":true,\"zerolinewidth\":2},\"scene\":{\"xaxis\":{\"backgroundcolor\":\"#E5ECF6\",\"gridcolor\":\"white\",\"linecolor\":\"white\",\"showbackground\":true,\"ticks\":\"\",\"zerolinecolor\":\"white\",\"gridwidth\":2},\"yaxis\":{\"backgroundcolor\":\"#E5ECF6\",\"gridcolor\":\"white\",\"linecolor\":\"white\",\"showbackground\":true,\"ticks\":\"\",\"zerolinecolor\":\"white\",\"gridwidth\":2},\"zaxis\":{\"backgroundcolor\":\"#E5ECF6\",\"gridcolor\":\"white\",\"linecolor\":\"white\",\"showbackground\":true,\"ticks\":\"\",\"zerolinecolor\":\"white\",\"gridwidth\":2}},\"shapedefaults\":{\"line\":{\"color\":\"#2a3f5f\"}},\"annotationdefaults\":{\"arrowcolor\":\"#2a3f5f\",\"arrowhead\":0,\"arrowwidth\":1},\"geo\":{\"bgcolor\":\"white\",\"landcolor\":\"#E5ECF6\",\"subunitcolor\":\"white\",\"showland\":true,\"showlakes\":true,\"lakecolor\":\"white\"},\"title\":{\"x\":0.05},\"mapbox\":{\"style\":\"light\"}}},\"xaxis\":{\"anchor\":\"y\",\"domain\":[0.0,1.0],\"title\":{\"text\":\"Year\"},\"showgrid\":true,\"gridcolor\":\"lightgrey\"},\"yaxis\":{\"anchor\":\"x\",\"domain\":[0.0,1.0],\"title\":{\"text\":\"Count\"},\"showgrid\":true,\"gridcolor\":\"lightgrey\"},\"legend\":{\"title\":{\"text\":\"Metric\"},\"tracegroupgap\":0},\"title\":{\"text\":\"Trend Analysis: Building Permits and Population Over the Years\"},\"plot_bgcolor\":\"white\"},                        {\"responsive\": true}                    ).then(function(){\n",
       "                            \n",
       "var gd = document.getElementById('03db4c80-537a-46f2-939b-4918798dd556');\n",
       "var x = new MutationObserver(function (mutations, observer) {{\n",
       "        var display = window.getComputedStyle(gd).display;\n",
       "        if (!display || display === 'none') {{\n",
       "            console.log([gd, 'removed!']);\n",
       "            Plotly.purge(gd);\n",
       "            observer.disconnect();\n",
       "        }}\n",
       "}});\n",
       "\n",
       "// Listen for the removal of the full notebook cells\n",
       "var notebookContainer = gd.closest('#notebook-container');\n",
       "if (notebookContainer) {{\n",
       "    x.observe(notebookContainer, {childList: true});\n",
       "}}\n",
       "\n",
       "// Listen for the clearing of the current output cell\n",
       "var outputEl = gd.closest('.output');\n",
       "if (outputEl) {{\n",
       "    x.observe(outputEl, {childList: true});\n",
       "}}\n",
       "\n",
       "                        })                };                });            </script>        </div>"
      ]
     },
     "metadata": {},
     "output_type": "display_data"
    },
    {
     "data": {
      "application/vnd.plotly.v1+json": {
       "config": {
        "plotlyServerURL": "https://plot.ly"
       },
       "data": [
        {
         "customdata": [
          [
           2001
          ],
          [
           2002
          ],
          [
           2003
          ],
          [
           2004
          ],
          [
           2005
          ],
          [
           2006
          ],
          [
           2007
          ],
          [
           2008
          ],
          [
           2009
          ],
          [
           2010
          ],
          [
           2011
          ],
          [
           2012
          ],
          [
           2013
          ],
          [
           2014
          ],
          [
           2015
          ],
          [
           2016
          ],
          [
           2017
          ],
          [
           2018
          ],
          [
           2019
          ],
          [
           2020
          ],
          [
           2021
          ]
         ],
         "hovertemplate": "Building Permit Count=%{x}<br>Population=%{y}<br>year=%{marker.color}<extra></extra>",
         "legendgroup": "",
         "marker": {
          "color": [
           2001,
           2002,
           2003,
           2004,
           2005,
           2006,
           2007,
           2008,
           2009,
           2010,
           2011,
           2012,
           2013,
           2014,
           2015,
           2016,
           2017,
           2018,
           2019,
           2020,
           2021
          ],
          "coloraxis": "coloraxis",
          "symbol": "circle"
         },
         "mode": "markers",
         "name": "",
         "orientation": "v",
         "showlegend": false,
         "type": "scatter",
         "x": [
          1,
          1,
          1,
          1,
          1,
          5,
          1,
          2,
          13,
          18,
          52,
          42,
          94,
          2280,
          3123,
          3577,
          3607,
          3751,
          3412,
          2251,
          2533
         ],
         "xaxis": "x",
         "y": [
          82854,
          83124,
          83107,
          82668,
          82990,
          83906,
          84819,
          85513,
          86767,
          87192,
          87395,
          88339,
          89188,
          90417,
          91674,
          93445,
          95071,
          96481,
          97765,
          98146,
          96317
         ],
         "yaxis": "y"
        }
       ],
       "layout": {
        "annotations": [
         {
          "align": "center",
          "font": {
           "color": "black",
           "size": 14
          },
          "showarrow": false,
          "text": "Correlation: 0.88",
          "x": 0.5,
          "xref": "paper",
          "y": 1.15,
          "yref": "paper"
         }
        ],
        "autosize": true,
        "coloraxis": {
         "colorbar": {
          "title": {
           "text": "year"
          }
         },
         "colorscale": [
          [
           0,
           "#440154"
          ],
          [
           0.1111111111111111,
           "#482878"
          ],
          [
           0.2222222222222222,
           "#3e4989"
          ],
          [
           0.3333333333333333,
           "#31688e"
          ],
          [
           0.4444444444444444,
           "#26828e"
          ],
          [
           0.5555555555555556,
           "#1f9e89"
          ],
          [
           0.6666666666666666,
           "#35b779"
          ],
          [
           0.7777777777777778,
           "#6ece58"
          ],
          [
           0.8888888888888888,
           "#b5de2b"
          ],
          [
           1,
           "#fde725"
          ]
         ]
        },
        "legend": {
         "tracegroupgap": 0
        },
        "plot_bgcolor": "white",
        "template": {
         "data": {
          "bar": [
           {
            "error_x": {
             "color": "#2a3f5f"
            },
            "error_y": {
             "color": "#2a3f5f"
            },
            "marker": {
             "line": {
              "color": "#E5ECF6",
              "width": 0.5
             },
             "pattern": {
              "fillmode": "overlay",
              "size": 10,
              "solidity": 0.2
             }
            },
            "type": "bar"
           }
          ],
          "barpolar": [
           {
            "marker": {
             "line": {
              "color": "#E5ECF6",
              "width": 0.5
             },
             "pattern": {
              "fillmode": "overlay",
              "size": 10,
              "solidity": 0.2
             }
            },
            "type": "barpolar"
           }
          ],
          "carpet": [
           {
            "aaxis": {
             "endlinecolor": "#2a3f5f",
             "gridcolor": "white",
             "linecolor": "white",
             "minorgridcolor": "white",
             "startlinecolor": "#2a3f5f"
            },
            "baxis": {
             "endlinecolor": "#2a3f5f",
             "gridcolor": "white",
             "linecolor": "white",
             "minorgridcolor": "white",
             "startlinecolor": "#2a3f5f"
            },
            "type": "carpet"
           }
          ],
          "choropleth": [
           {
            "colorbar": {
             "outlinewidth": 0,
             "ticks": ""
            },
            "type": "choropleth"
           }
          ],
          "contour": [
           {
            "colorbar": {
             "outlinewidth": 0,
             "ticks": ""
            },
            "colorscale": [
             [
              0,
              "#0d0887"
             ],
             [
              0.1111111111111111,
              "#46039f"
             ],
             [
              0.2222222222222222,
              "#7201a8"
             ],
             [
              0.3333333333333333,
              "#9c179e"
             ],
             [
              0.4444444444444444,
              "#bd3786"
             ],
             [
              0.5555555555555556,
              "#d8576b"
             ],
             [
              0.6666666666666666,
              "#ed7953"
             ],
             [
              0.7777777777777778,
              "#fb9f3a"
             ],
             [
              0.8888888888888888,
              "#fdca26"
             ],
             [
              1,
              "#f0f921"
             ]
            ],
            "type": "contour"
           }
          ],
          "contourcarpet": [
           {
            "colorbar": {
             "outlinewidth": 0,
             "ticks": ""
            },
            "type": "contourcarpet"
           }
          ],
          "heatmap": [
           {
            "colorbar": {
             "outlinewidth": 0,
             "ticks": ""
            },
            "colorscale": [
             [
              0,
              "#0d0887"
             ],
             [
              0.1111111111111111,
              "#46039f"
             ],
             [
              0.2222222222222222,
              "#7201a8"
             ],
             [
              0.3333333333333333,
              "#9c179e"
             ],
             [
              0.4444444444444444,
              "#bd3786"
             ],
             [
              0.5555555555555556,
              "#d8576b"
             ],
             [
              0.6666666666666666,
              "#ed7953"
             ],
             [
              0.7777777777777778,
              "#fb9f3a"
             ],
             [
              0.8888888888888888,
              "#fdca26"
             ],
             [
              1,
              "#f0f921"
             ]
            ],
            "type": "heatmap"
           }
          ],
          "heatmapgl": [
           {
            "colorbar": {
             "outlinewidth": 0,
             "ticks": ""
            },
            "colorscale": [
             [
              0,
              "#0d0887"
             ],
             [
              0.1111111111111111,
              "#46039f"
             ],
             [
              0.2222222222222222,
              "#7201a8"
             ],
             [
              0.3333333333333333,
              "#9c179e"
             ],
             [
              0.4444444444444444,
              "#bd3786"
             ],
             [
              0.5555555555555556,
              "#d8576b"
             ],
             [
              0.6666666666666666,
              "#ed7953"
             ],
             [
              0.7777777777777778,
              "#fb9f3a"
             ],
             [
              0.8888888888888888,
              "#fdca26"
             ],
             [
              1,
              "#f0f921"
             ]
            ],
            "type": "heatmapgl"
           }
          ],
          "histogram": [
           {
            "marker": {
             "pattern": {
              "fillmode": "overlay",
              "size": 10,
              "solidity": 0.2
             }
            },
            "type": "histogram"
           }
          ],
          "histogram2d": [
           {
            "colorbar": {
             "outlinewidth": 0,
             "ticks": ""
            },
            "colorscale": [
             [
              0,
              "#0d0887"
             ],
             [
              0.1111111111111111,
              "#46039f"
             ],
             [
              0.2222222222222222,
              "#7201a8"
             ],
             [
              0.3333333333333333,
              "#9c179e"
             ],
             [
              0.4444444444444444,
              "#bd3786"
             ],
             [
              0.5555555555555556,
              "#d8576b"
             ],
             [
              0.6666666666666666,
              "#ed7953"
             ],
             [
              0.7777777777777778,
              "#fb9f3a"
             ],
             [
              0.8888888888888888,
              "#fdca26"
             ],
             [
              1,
              "#f0f921"
             ]
            ],
            "type": "histogram2d"
           }
          ],
          "histogram2dcontour": [
           {
            "colorbar": {
             "outlinewidth": 0,
             "ticks": ""
            },
            "colorscale": [
             [
              0,
              "#0d0887"
             ],
             [
              0.1111111111111111,
              "#46039f"
             ],
             [
              0.2222222222222222,
              "#7201a8"
             ],
             [
              0.3333333333333333,
              "#9c179e"
             ],
             [
              0.4444444444444444,
              "#bd3786"
             ],
             [
              0.5555555555555556,
              "#d8576b"
             ],
             [
              0.6666666666666666,
              "#ed7953"
             ],
             [
              0.7777777777777778,
              "#fb9f3a"
             ],
             [
              0.8888888888888888,
              "#fdca26"
             ],
             [
              1,
              "#f0f921"
             ]
            ],
            "type": "histogram2dcontour"
           }
          ],
          "mesh3d": [
           {
            "colorbar": {
             "outlinewidth": 0,
             "ticks": ""
            },
            "type": "mesh3d"
           }
          ],
          "parcoords": [
           {
            "line": {
             "colorbar": {
              "outlinewidth": 0,
              "ticks": ""
             }
            },
            "type": "parcoords"
           }
          ],
          "pie": [
           {
            "automargin": true,
            "type": "pie"
           }
          ],
          "scatter": [
           {
            "fillpattern": {
             "fillmode": "overlay",
             "size": 10,
             "solidity": 0.2
            },
            "type": "scatter"
           }
          ],
          "scatter3d": [
           {
            "line": {
             "colorbar": {
              "outlinewidth": 0,
              "ticks": ""
             }
            },
            "marker": {
             "colorbar": {
              "outlinewidth": 0,
              "ticks": ""
             }
            },
            "type": "scatter3d"
           }
          ],
          "scattercarpet": [
           {
            "marker": {
             "colorbar": {
              "outlinewidth": 0,
              "ticks": ""
             }
            },
            "type": "scattercarpet"
           }
          ],
          "scattergeo": [
           {
            "marker": {
             "colorbar": {
              "outlinewidth": 0,
              "ticks": ""
             }
            },
            "type": "scattergeo"
           }
          ],
          "scattergl": [
           {
            "marker": {
             "colorbar": {
              "outlinewidth": 0,
              "ticks": ""
             }
            },
            "type": "scattergl"
           }
          ],
          "scattermapbox": [
           {
            "marker": {
             "colorbar": {
              "outlinewidth": 0,
              "ticks": ""
             }
            },
            "type": "scattermapbox"
           }
          ],
          "scatterpolar": [
           {
            "marker": {
             "colorbar": {
              "outlinewidth": 0,
              "ticks": ""
             }
            },
            "type": "scatterpolar"
           }
          ],
          "scatterpolargl": [
           {
            "marker": {
             "colorbar": {
              "outlinewidth": 0,
              "ticks": ""
             }
            },
            "type": "scatterpolargl"
           }
          ],
          "scatterternary": [
           {
            "marker": {
             "colorbar": {
              "outlinewidth": 0,
              "ticks": ""
             }
            },
            "type": "scatterternary"
           }
          ],
          "surface": [
           {
            "colorbar": {
             "outlinewidth": 0,
             "ticks": ""
            },
            "colorscale": [
             [
              0,
              "#0d0887"
             ],
             [
              0.1111111111111111,
              "#46039f"
             ],
             [
              0.2222222222222222,
              "#7201a8"
             ],
             [
              0.3333333333333333,
              "#9c179e"
             ],
             [
              0.4444444444444444,
              "#bd3786"
             ],
             [
              0.5555555555555556,
              "#d8576b"
             ],
             [
              0.6666666666666666,
              "#ed7953"
             ],
             [
              0.7777777777777778,
              "#fb9f3a"
             ],
             [
              0.8888888888888888,
              "#fdca26"
             ],
             [
              1,
              "#f0f921"
             ]
            ],
            "type": "surface"
           }
          ],
          "table": [
           {
            "cells": {
             "fill": {
              "color": "#EBF0F8"
             },
             "line": {
              "color": "white"
             }
            },
            "header": {
             "fill": {
              "color": "#C8D4E3"
             },
             "line": {
              "color": "white"
             }
            },
            "type": "table"
           }
          ]
         },
         "layout": {
          "annotationdefaults": {
           "arrowcolor": "#2a3f5f",
           "arrowhead": 0,
           "arrowwidth": 1
          },
          "autotypenumbers": "strict",
          "coloraxis": {
           "colorbar": {
            "outlinewidth": 0,
            "ticks": ""
           }
          },
          "colorscale": {
           "diverging": [
            [
             0,
             "#8e0152"
            ],
            [
             0.1,
             "#c51b7d"
            ],
            [
             0.2,
             "#de77ae"
            ],
            [
             0.3,
             "#f1b6da"
            ],
            [
             0.4,
             "#fde0ef"
            ],
            [
             0.5,
             "#f7f7f7"
            ],
            [
             0.6,
             "#e6f5d0"
            ],
            [
             0.7,
             "#b8e186"
            ],
            [
             0.8,
             "#7fbc41"
            ],
            [
             0.9,
             "#4d9221"
            ],
            [
             1,
             "#276419"
            ]
           ],
           "sequential": [
            [
             0,
             "#0d0887"
            ],
            [
             0.1111111111111111,
             "#46039f"
            ],
            [
             0.2222222222222222,
             "#7201a8"
            ],
            [
             0.3333333333333333,
             "#9c179e"
            ],
            [
             0.4444444444444444,
             "#bd3786"
            ],
            [
             0.5555555555555556,
             "#d8576b"
            ],
            [
             0.6666666666666666,
             "#ed7953"
            ],
            [
             0.7777777777777778,
             "#fb9f3a"
            ],
            [
             0.8888888888888888,
             "#fdca26"
            ],
            [
             1,
             "#f0f921"
            ]
           ],
           "sequentialminus": [
            [
             0,
             "#0d0887"
            ],
            [
             0.1111111111111111,
             "#46039f"
            ],
            [
             0.2222222222222222,
             "#7201a8"
            ],
            [
             0.3333333333333333,
             "#9c179e"
            ],
            [
             0.4444444444444444,
             "#bd3786"
            ],
            [
             0.5555555555555556,
             "#d8576b"
            ],
            [
             0.6666666666666666,
             "#ed7953"
            ],
            [
             0.7777777777777778,
             "#fb9f3a"
            ],
            [
             0.8888888888888888,
             "#fdca26"
            ],
            [
             1,
             "#f0f921"
            ]
           ]
          },
          "colorway": [
           "#636efa",
           "#EF553B",
           "#00cc96",
           "#ab63fa",
           "#FFA15A",
           "#19d3f3",
           "#FF6692",
           "#B6E880",
           "#FF97FF",
           "#FECB52"
          ],
          "font": {
           "color": "#2a3f5f"
          },
          "geo": {
           "bgcolor": "white",
           "lakecolor": "white",
           "landcolor": "#E5ECF6",
           "showlakes": true,
           "showland": true,
           "subunitcolor": "white"
          },
          "hoverlabel": {
           "align": "left"
          },
          "hovermode": "closest",
          "mapbox": {
           "style": "light"
          },
          "paper_bgcolor": "white",
          "plot_bgcolor": "#E5ECF6",
          "polar": {
           "angularaxis": {
            "gridcolor": "white",
            "linecolor": "white",
            "ticks": ""
           },
           "bgcolor": "#E5ECF6",
           "radialaxis": {
            "gridcolor": "white",
            "linecolor": "white",
            "ticks": ""
           }
          },
          "scene": {
           "xaxis": {
            "backgroundcolor": "#E5ECF6",
            "gridcolor": "white",
            "gridwidth": 2,
            "linecolor": "white",
            "showbackground": true,
            "ticks": "",
            "zerolinecolor": "white"
           },
           "yaxis": {
            "backgroundcolor": "#E5ECF6",
            "gridcolor": "white",
            "gridwidth": 2,
            "linecolor": "white",
            "showbackground": true,
            "ticks": "",
            "zerolinecolor": "white"
           },
           "zaxis": {
            "backgroundcolor": "#E5ECF6",
            "gridcolor": "white",
            "gridwidth": 2,
            "linecolor": "white",
            "showbackground": true,
            "ticks": "",
            "zerolinecolor": "white"
           }
          },
          "shapedefaults": {
           "line": {
            "color": "#2a3f5f"
           }
          },
          "ternary": {
           "aaxis": {
            "gridcolor": "white",
            "linecolor": "white",
            "ticks": ""
           },
           "baxis": {
            "gridcolor": "white",
            "linecolor": "white",
            "ticks": ""
           },
           "bgcolor": "#E5ECF6",
           "caxis": {
            "gridcolor": "white",
            "linecolor": "white",
            "ticks": ""
           }
          },
          "title": {
           "x": 0.05
          },
          "xaxis": {
           "automargin": true,
           "gridcolor": "white",
           "linecolor": "white",
           "ticks": "",
           "title": {
            "standoff": 15
           },
           "zerolinecolor": "white",
           "zerolinewidth": 2
          },
          "yaxis": {
           "automargin": true,
           "gridcolor": "white",
           "linecolor": "white",
           "ticks": "",
           "title": {
            "standoff": 15
           },
           "zerolinecolor": "white",
           "zerolinewidth": 2
          }
         }
        },
        "title": {
         "text": "Correlation Analysis: Building Permits vs Population"
        },
        "xaxis": {
         "anchor": "y",
         "autorange": true,
         "domain": [
          0,
          1
         ],
         "gridcolor": "lightgrey",
         "range": [
          -238.133648728563,
          3990.133648728563
         ],
         "showgrid": true,
         "title": {
          "text": "Building Permit Count"
         },
         "type": "linear"
        },
        "yaxis": {
         "anchor": "x",
         "autorange": true,
         "domain": [
          0,
          1
         ],
         "gridcolor": "lightgrey",
         "range": [
          81390.68932038835,
          99423.31067961165
         ],
         "showgrid": true,
         "title": {
          "text": "Population"
         },
         "type": "linear"
        }
       }
      },
      "image/png": "[encoded data removed]",
      "text/html": [
       "<div>                            <div id=\"fa2b7329-a4dc-461c-83a7-780cc130f5c0\" class=\"plotly-graph-div\" style=\"height:525px; width:100%;\"></div>            <script type=\"text/javascript\">                require([\"plotly\"], function(Plotly) {                    window.PLOTLYENV=window.PLOTLYENV || {};                                    if (document.getElementById(\"fa2b7329-a4dc-461c-83a7-780cc130f5c0\")) {                    Plotly.newPlot(                        \"fa2b7329-a4dc-461c-83a7-780cc130f5c0\",                        [{\"customdata\":[[2001],[2002],[2003],[2004],[2005],[2006],[2007],[2008],[2009],[2010],[2011],[2012],[2013],[2014],[2015],[2016],[2017],[2018],[2019],[2020],[2021]],\"hovertemplate\":\"Building Permit Count=%{x}\\u003cbr\\u003ePopulation=%{y}\\u003cbr\\u003eyear=%{marker.color}\\u003cextra\\u003e\\u003c\\u002fextra\\u003e\",\"legendgroup\":\"\",\"marker\":{\"color\":[2001,2002,2003,2004,2005,2006,2007,2008,2009,2010,2011,2012,2013,2014,2015,2016,2017,2018,2019,2020,2021],\"coloraxis\":\"coloraxis\",\"symbol\":\"circle\"},\"mode\":\"markers\",\"name\":\"\",\"orientation\":\"v\",\"showlegend\":false,\"x\":[1,1,1,1,1,5,1,2,13,18,52,42,94,2280,3123,3577,3607,3751,3412,2251,2533],\"xaxis\":\"x\",\"y\":[82854,83124,83107,82668,82990,83906,84819,85513,86767,87192,87395,88339,89188,90417,91674,93445,95071,96481,97765,98146,96317],\"yaxis\":\"y\",\"type\":\"scatter\"}],                        {\"template\":{\"data\":{\"histogram2dcontour\":[{\"type\":\"histogram2dcontour\",\"colorbar\":{\"outlinewidth\":0,\"ticks\":\"\"},\"colorscale\":[[0.0,\"#0d0887\"],[0.1111111111111111,\"#46039f\"],[0.2222222222222222,\"#7201a8\"],[0.3333333333333333,\"#9c179e\"],[0.4444444444444444,\"#bd3786\"],[0.5555555555555556,\"#d8576b\"],[0.6666666666666666,\"#ed7953\"],[0.7777777777777778,\"#fb9f3a\"],[0.8888888888888888,\"#fdca26\"],[1.0,\"#f0f921\"]]}],\"choropleth\":[{\"type\":\"choropleth\",\"colorbar\":{\"outlinewidth\":0,\"ticks\":\"\"}}],\"histogram2d\":[{\"type\":\"histogram2d\",\"colorbar\":{\"outlinewidth\":0,\"ticks\":\"\"},\"colorscale\":[[0.0,\"#0d0887\"],[0.1111111111111111,\"#46039f\"],[0.2222222222222222,\"#7201a8\"],[0.3333333333333333,\"#9c179e\"],[0.4444444444444444,\"#bd3786\"],[0.5555555555555556,\"#d8576b\"],[0.6666666666666666,\"#ed7953\"],[0.7777777777777778,\"#fb9f3a\"],[0.8888888888888888,\"#fdca26\"],[1.0,\"#f0f921\"]]}],\"heatmap\":[{\"type\":\"heatmap\",\"colorbar\":{\"outlinewidth\":0,\"ticks\":\"\"},\"colorscale\":[[0.0,\"#0d0887\"],[0.1111111111111111,\"#46039f\"],[0.2222222222222222,\"#7201a8\"],[0.3333333333333333,\"#9c179e\"],[0.4444444444444444,\"#bd3786\"],[0.5555555555555556,\"#d8576b\"],[0.6666666666666666,\"#ed7953\"],[0.7777777777777778,\"#fb9f3a\"],[0.8888888888888888,\"#fdca26\"],[1.0,\"#f0f921\"]]}],\"heatmapgl\":[{\"type\":\"heatmapgl\",\"colorbar\":{\"outlinewidth\":0,\"ticks\":\"\"},\"colorscale\":[[0.0,\"#0d0887\"],[0.1111111111111111,\"#46039f\"],[0.2222222222222222,\"#7201a8\"],[0.3333333333333333,\"#9c179e\"],[0.4444444444444444,\"#bd3786\"],[0.5555555555555556,\"#d8576b\"],[0.6666666666666666,\"#ed7953\"],[0.7777777777777778,\"#fb9f3a\"],[0.8888888888888888,\"#fdca26\"],[1.0,\"#f0f921\"]]}],\"contourcarpet\":[{\"type\":\"contourcarpet\",\"colorbar\":{\"outlinewidth\":0,\"ticks\":\"\"}}],\"contour\":[{\"type\":\"contour\",\"colorbar\":{\"outlinewidth\":0,\"ticks\":\"\"},\"colorscale\":[[0.0,\"#0d0887\"],[0.1111111111111111,\"#46039f\"],[0.2222222222222222,\"#7201a8\"],[0.3333333333333333,\"#9c179e\"],[0.4444444444444444,\"#bd3786\"],[0.5555555555555556,\"#d8576b\"],[0.6666666666666666,\"#ed7953\"],[0.7777777777777778,\"#fb9f3a\"],[0.8888888888888888,\"#fdca26\"],[1.0,\"#f0f921\"]]}],\"surface\":[{\"type\":\"surface\",\"colorbar\":{\"outlinewidth\":0,\"ticks\":\"\"},\"colorscale\":[[0.0,\"#0d0887\"],[0.1111111111111111,\"#46039f\"],[0.2222222222222222,\"#7201a8\"],[0.3333333333333333,\"#9c179e\"],[0.4444444444444444,\"#bd3786\"],[0.5555555555555556,\"#d8576b\"],[0.6666666666666666,\"#ed7953\"],[0.7777777777777778,\"#fb9f3a\"],[0.8888888888888888,\"#fdca26\"],[1.0,\"#f0f921\"]]}],\"mesh3d\":[{\"type\":\"mesh3d\",\"colorbar\":{\"outlinewidth\":0,\"ticks\":\"\"}}],\"scatter\":[{\"fillpattern\":{\"fillmode\":\"overlay\",\"size\":10,\"solidity\":0.2},\"type\":\"scatter\"}],\"parcoords\":[{\"type\":\"parcoords\",\"line\":{\"colorbar\":{\"outlinewidth\":0,\"ticks\":\"\"}}}],\"scatterpolargl\":[{\"type\":\"scatterpolargl\",\"marker\":{\"colorbar\":{\"outlinewidth\":0,\"ticks\":\"\"}}}],\"bar\":[{\"error_x\":{\"color\":\"#2a3f5f\"},\"error_y\":{\"color\":\"#2a3f5f\"},\"marker\":{\"line\":{\"color\":\"#E5ECF6\",\"width\":0.5},\"pattern\":{\"fillmode\":\"overlay\",\"size\":10,\"solidity\":0.2}},\"type\":\"bar\"}],\"scattergeo\":[{\"type\":\"scattergeo\",\"marker\":{\"colorbar\":{\"outlinewidth\":0,\"ticks\":\"\"}}}],\"scatterpolar\":[{\"type\":\"scatterpolar\",\"marker\":{\"colorbar\":{\"outlinewidth\":0,\"ticks\":\"\"}}}],\"histogram\":[{\"marker\":{\"pattern\":{\"fillmode\":\"overlay\",\"size\":10,\"solidity\":0.2}},\"type\":\"histogram\"}],\"scattergl\":[{\"type\":\"scattergl\",\"marker\":{\"colorbar\":{\"outlinewidth\":0,\"ticks\":\"\"}}}],\"scatter3d\":[{\"type\":\"scatter3d\",\"line\":{\"colorbar\":{\"outlinewidth\":0,\"ticks\":\"\"}},\"marker\":{\"colorbar\":{\"outlinewidth\":0,\"ticks\":\"\"}}}],\"scattermapbox\":[{\"type\":\"scattermapbox\",\"marker\":{\"colorbar\":{\"outlinewidth\":0,\"ticks\":\"\"}}}],\"scatterternary\":[{\"type\":\"scatterternary\",\"marker\":{\"colorbar\":{\"outlinewidth\":0,\"ticks\":\"\"}}}],\"scattercarpet\":[{\"type\":\"scattercarpet\",\"marker\":{\"colorbar\":{\"outlinewidth\":0,\"ticks\":\"\"}}}],\"carpet\":[{\"aaxis\":{\"endlinecolor\":\"#2a3f5f\",\"gridcolor\":\"white\",\"linecolor\":\"white\",\"minorgridcolor\":\"white\",\"startlinecolor\":\"#2a3f5f\"},\"baxis\":{\"endlinecolor\":\"#2a3f5f\",\"gridcolor\":\"white\",\"linecolor\":\"white\",\"minorgridcolor\":\"white\",\"startlinecolor\":\"#2a3f5f\"},\"type\":\"carpet\"}],\"table\":[{\"cells\":{\"fill\":{\"color\":\"#EBF0F8\"},\"line\":{\"color\":\"white\"}},\"header\":{\"fill\":{\"color\":\"#C8D4E3\"},\"line\":{\"color\":\"white\"}},\"type\":\"table\"}],\"barpolar\":[{\"marker\":{\"line\":{\"color\":\"#E5ECF6\",\"width\":0.5},\"pattern\":{\"fillmode\":\"overlay\",\"size\":10,\"solidity\":0.2}},\"type\":\"barpolar\"}],\"pie\":[{\"automargin\":true,\"type\":\"pie\"}]},\"layout\":{\"autotypenumbers\":\"strict\",\"colorway\":[\"#636efa\",\"#EF553B\",\"#00cc96\",\"#ab63fa\",\"#FFA15A\",\"#19d3f3\",\"#FF6692\",\"#B6E880\",\"#FF97FF\",\"#FECB52\"],\"font\":{\"color\":\"#2a3f5f\"},\"hovermode\":\"closest\",\"hoverlabel\":{\"align\":\"left\"},\"paper_bgcolor\":\"white\",\"plot_bgcolor\":\"#E5ECF6\",\"polar\":{\"bgcolor\":\"#E5ECF6\",\"angularaxis\":{\"gridcolor\":\"white\",\"linecolor\":\"white\",\"ticks\":\"\"},\"radialaxis\":{\"gridcolor\":\"white\",\"linecolor\":\"white\",\"ticks\":\"\"}},\"ternary\":{\"bgcolor\":\"#E5ECF6\",\"aaxis\":{\"gridcolor\":\"white\",\"linecolor\":\"white\",\"ticks\":\"\"},\"baxis\":{\"gridcolor\":\"white\",\"linecolor\":\"white\",\"ticks\":\"\"},\"caxis\":{\"gridcolor\":\"white\",\"linecolor\":\"white\",\"ticks\":\"\"}},\"coloraxis\":{\"colorbar\":{\"outlinewidth\":0,\"ticks\":\"\"}},\"colorscale\":{\"sequential\":[[0.0,\"#0d0887\"],[0.1111111111111111,\"#46039f\"],[0.2222222222222222,\"#7201a8\"],[0.3333333333333333,\"#9c179e\"],[0.4444444444444444,\"#bd3786\"],[0.5555555555555556,\"#d8576b\"],[0.6666666666666666,\"#ed7953\"],[0.7777777777777778,\"#fb9f3a\"],[0.8888888888888888,\"#fdca26\"],[1.0,\"#f0f921\"]],\"sequentialminus\":[[0.0,\"#0d0887\"],[0.1111111111111111,\"#46039f\"],[0.2222222222222222,\"#7201a8\"],[0.3333333333333333,\"#9c179e\"],[0.4444444444444444,\"#bd3786\"],[0.5555555555555556,\"#d8576b\"],[0.6666666666666666,\"#ed7953\"],[0.7777777777777778,\"#fb9f3a\"],[0.8888888888888888,\"#fdca26\"],[1.0,\"#f0f921\"]],\"diverging\":[[0,\"#8e0152\"],[0.1,\"#c51b7d\"],[0.2,\"#de77ae\"],[0.3,\"#f1b6da\"],[0.4,\"#fde0ef\"],[0.5,\"#f7f7f7\"],[0.6,\"#e6f5d0\"],[0.7,\"#b8e186\"],[0.8,\"#7fbc41\"],[0.9,\"#4d9221\"],[1,\"#276419\"]]},\"xaxis\":{\"gridcolor\":\"white\",\"linecolor\":\"white\",\"ticks\":\"\",\"title\":{\"standoff\":15},\"zerolinecolor\":\"white\",\"automargin\":true,\"zerolinewidth\":2},\"yaxis\":{\"gridcolor\":\"white\",\"linecolor\":\"white\",\"ticks\":\"\",\"title\":{\"standoff\":15},\"zerolinecolor\":\"white\",\"automargin\":true,\"zerolinewidth\":2},\"scene\":{\"xaxis\":{\"backgroundcolor\":\"#E5ECF6\",\"gridcolor\":\"white\",\"linecolor\":\"white\",\"showbackground\":true,\"ticks\":\"\",\"zerolinecolor\":\"white\",\"gridwidth\":2},\"yaxis\":{\"backgroundcolor\":\"#E5ECF6\",\"gridcolor\":\"white\",\"linecolor\":\"white\",\"showbackground\":true,\"ticks\":\"\",\"zerolinecolor\":\"white\",\"gridwidth\":2},\"zaxis\":{\"backgroundcolor\":\"#E5ECF6\",\"gridcolor\":\"white\",\"linecolor\":\"white\",\"showbackground\":true,\"ticks\":\"\",\"zerolinecolor\":\"white\",\"gridwidth\":2}},\"shapedefaults\":{\"line\":{\"color\":\"#2a3f5f\"}},\"annotationdefaults\":{\"arrowcolor\":\"#2a3f5f\",\"arrowhead\":0,\"arrowwidth\":1},\"geo\":{\"bgcolor\":\"white\",\"landcolor\":\"#E5ECF6\",\"subunitcolor\":\"white\",\"showland\":true,\"showlakes\":true,\"lakecolor\":\"white\"},\"title\":{\"x\":0.05},\"mapbox\":{\"style\":\"light\"}}},\"xaxis\":{\"anchor\":\"y\",\"domain\":[0.0,1.0],\"title\":{\"text\":\"Building Permit Count\"},\"showgrid\":true,\"gridcolor\":\"lightgrey\"},\"yaxis\":{\"anchor\":\"x\",\"domain\":[0.0,1.0],\"title\":{\"text\":\"Population\"},\"showgrid\":true,\"gridcolor\":\"lightgrey\"},\"coloraxis\":{\"colorbar\":{\"title\":{\"text\":\"year\"}},\"colorscale\":[[0.0,\"#440154\"],[0.1111111111111111,\"#482878\"],[0.2222222222222222,\"#3e4989\"],[0.3333333333333333,\"#31688e\"],[0.4444444444444444,\"#26828e\"],[0.5555555555555556,\"#1f9e89\"],[0.6666666666666666,\"#35b779\"],[0.7777777777777778,\"#6ece58\"],[0.8888888888888888,\"#b5de2b\"],[1.0,\"#fde725\"]]},\"legend\":{\"tracegroupgap\":0},\"title\":{\"text\":\"Correlation Analysis: Building Permits vs Population\"},\"annotations\":[{\"align\":\"center\",\"font\":{\"color\":\"black\",\"size\":14},\"showarrow\":false,\"text\":\"Correlation: 0.88\",\"x\":0.5,\"xref\":\"paper\",\"y\":1.15,\"yref\":\"paper\"}],\"plot_bgcolor\":\"white\"},                        {\"responsive\": true}                    ).then(function(){\n",
       "                            \n",
       "var gd = document.getElementById('fa2b7329-a4dc-461c-83a7-780cc130f5c0');\n",
       "var x = new MutationObserver(function (mutations, observer) {{\n",
       "        var display = window.getComputedStyle(gd).display;\n",
       "        if (!display || display === 'none') {{\n",
       "            console.log([gd, 'removed!']);\n",
       "            Plotly.purge(gd);\n",
       "            observer.disconnect();\n",
       "        }}\n",
       "}});\n",
       "\n",
       "// Listen for the removal of the full notebook cells\n",
       "var notebookContainer = gd.closest('#notebook-container');\n",
       "if (notebookContainer) {{\n",
       "    x.observe(notebookContainer, {childList: true});\n",
       "}}\n",
       "\n",
       "// Listen for the clearing of the current output cell\n",
       "var outputEl = gd.closest('.output');\n",
       "if (outputEl) {{\n",
       "    x.observe(outputEl, {childList: true});\n",
       "}}\n",
       "\n",
       "                        })                };                });            </script>        </div>"
      ]
     },
     "metadata": {},
     "output_type": "display_data"
    },
    {
     "data": {
      "application/vnd.plotly.v1+json": {
       "config": {
        "plotlyServerURL": "https://plot.ly"
       },
       "data": [
        {
         "hovertemplate": "Year: %{x}<br>Permit Growth: %{y:.2f}%<extra></extra>",
         "marker": {
          "color": "#636EFA"
         },
         "name": "Permit Growth",
         "type": "bar",
         "x": [
          2001,
          2002,
          2003,
          2004,
          2005,
          2006,
          2007,
          2008,
          2009,
          2010,
          2011,
          2012,
          2013,
          2014,
          2015,
          2016,
          2017,
          2018,
          2019,
          2020,
          2021
         ],
         "y": [
          null,
          0,
          0,
          0,
          0,
          400,
          -80,
          100,
          550,
          38.46153846153846,
          188.88888888888889,
          -19.23076923076923,
          123.80952380952381,
          2325.531914893617,
          36.973684210526315,
          14.537303874479669,
          0.8386916410399792,
          3.992237316329361,
          -9.0375899760064,
          -34.02696365767878,
          12.527765437583295
         ]
        },
        {
         "hovertemplate": "Year: %{x}<br>Population Growth: %{y:.2f}%<extra></extra>",
         "marker": {
          "color": "#EF553B"
         },
         "name": "Population Growth",
         "type": "bar",
         "x": [
          2001,
          2002,
          2003,
          2004,
          2005,
          2006,
          2007,
          2008,
          2009,
          2010,
          2011,
          2012,
          2013,
          2014,
          2015,
          2016,
          2017,
          2018,
          2019,
          2020,
          2021
         ],
         "y": [
          null,
          0.32587442971974134,
          -0.02045137385111584,
          -0.5282346854055597,
          0.3895098466153879,
          1.103747439450542,
          1.0881224227111241,
          0.8182129004114636,
          1.4664436986189244,
          0.48981755736627886,
          0.23281952472704592,
          1.0801533268493646,
          0.9610704218974586,
          1.3779880701439762,
          1.3902252894920197,
          1.9318454523638007,
          1.7400609984482784,
          1.483102102639089,
          1.3308319772805,
          0.38971001892291746,
          -1.863550221099175
         ]
        }
       ],
       "layout": {
        "autosize": true,
        "barmode": "group",
        "plot_bgcolor": "white",
        "template": {
         "data": {
          "bar": [
           {
            "error_x": {
             "color": "#2a3f5f"
            },
            "error_y": {
             "color": "#2a3f5f"
            },
            "marker": {
             "line": {
              "color": "#E5ECF6",
              "width": 0.5
             },
             "pattern": {
              "fillmode": "overlay",
              "size": 10,
              "solidity": 0.2
             }
            },
            "type": "bar"
           }
          ],
          "barpolar": [
           {
            "marker": {
             "line": {
              "color": "#E5ECF6",
              "width": 0.5
             },
             "pattern": {
              "fillmode": "overlay",
              "size": 10,
              "solidity": 0.2
             }
            },
            "type": "barpolar"
           }
          ],
          "carpet": [
           {
            "aaxis": {
             "endlinecolor": "#2a3f5f",
             "gridcolor": "white",
             "linecolor": "white",
             "minorgridcolor": "white",
             "startlinecolor": "#2a3f5f"
            },
            "baxis": {
             "endlinecolor": "#2a3f5f",
             "gridcolor": "white",
             "linecolor": "white",
             "minorgridcolor": "white",
             "startlinecolor": "#2a3f5f"
            },
            "type": "carpet"
           }
          ],
          "choropleth": [
           {
            "colorbar": {
             "outlinewidth": 0,
             "ticks": ""
            },
            "type": "choropleth"
           }
          ],
          "contour": [
           {
            "colorbar": {
             "outlinewidth": 0,
             "ticks": ""
            },
            "colorscale": [
             [
              0,
              "#0d0887"
             ],
             [
              0.1111111111111111,
              "#46039f"
             ],
             [
              0.2222222222222222,
              "#7201a8"
             ],
             [
              0.3333333333333333,
              "#9c179e"
             ],
             [
              0.4444444444444444,
              "#bd3786"
             ],
             [
              0.5555555555555556,
              "#d8576b"
             ],
             [
              0.6666666666666666,
              "#ed7953"
             ],
             [
              0.7777777777777778,
              "#fb9f3a"
             ],
             [
              0.8888888888888888,
              "#fdca26"
             ],
             [
              1,
              "#f0f921"
             ]
            ],
            "type": "contour"
           }
          ],
          "contourcarpet": [
           {
            "colorbar": {
             "outlinewidth": 0,
             "ticks": ""
            },
            "type": "contourcarpet"
           }
          ],
          "heatmap": [
           {
            "colorbar": {
             "outlinewidth": 0,
             "ticks": ""
            },
            "colorscale": [
             [
              0,
              "#0d0887"
             ],
             [
              0.1111111111111111,
              "#46039f"
             ],
             [
              0.2222222222222222,
              "#7201a8"
             ],
             [
              0.3333333333333333,
              "#9c179e"
             ],
             [
              0.4444444444444444,
              "#bd3786"
             ],
             [
              0.5555555555555556,
              "#d8576b"
             ],
             [
              0.6666666666666666,
              "#ed7953"
             ],
             [
              0.7777777777777778,
              "#fb9f3a"
             ],
             [
              0.8888888888888888,
              "#fdca26"
             ],
             [
              1,
              "#f0f921"
             ]
            ],
            "type": "heatmap"
           }
          ],
          "heatmapgl": [
           {
            "colorbar": {
             "outlinewidth": 0,
             "ticks": ""
            },
            "colorscale": [
             [
              0,
              "#0d0887"
             ],
             [
              0.1111111111111111,
              "#46039f"
             ],
             [
              0.2222222222222222,
              "#7201a8"
             ],
             [
              0.3333333333333333,
              "#9c179e"
             ],
             [
              0.4444444444444444,
              "#bd3786"
             ],
             [
              0.5555555555555556,
              "#d8576b"
             ],
             [
              0.6666666666666666,
              "#ed7953"
             ],
             [
              0.7777777777777778,
              "#fb9f3a"
             ],
             [
              0.8888888888888888,
              "#fdca26"
             ],
             [
              1,
              "#f0f921"
             ]
            ],
            "type": "heatmapgl"
           }
          ],
          "histogram": [
           {
            "marker": {
             "pattern": {
              "fillmode": "overlay",
              "size": 10,
              "solidity": 0.2
             }
            },
            "type": "histogram"
           }
          ],
          "histogram2d": [
           {
            "colorbar": {
             "outlinewidth": 0,
             "ticks": ""
            },
            "colorscale": [
             [
              0,
              "#0d0887"
             ],
             [
              0.1111111111111111,
              "#46039f"
             ],
             [
              0.2222222222222222,
              "#7201a8"
             ],
             [
              0.3333333333333333,
              "#9c179e"
             ],
             [
              0.4444444444444444,
              "#bd3786"
             ],
             [
              0.5555555555555556,
              "#d8576b"
             ],
             [
              0.6666666666666666,
              "#ed7953"
             ],
             [
              0.7777777777777778,
              "#fb9f3a"
             ],
             [
              0.8888888888888888,
              "#fdca26"
             ],
             [
              1,
              "#f0f921"
             ]
            ],
            "type": "histogram2d"
           }
          ],
          "histogram2dcontour": [
           {
            "colorbar": {
             "outlinewidth": 0,
             "ticks": ""
            },
            "colorscale": [
             [
              0,
              "#0d0887"
             ],
             [
              0.1111111111111111,
              "#46039f"
             ],
             [
              0.2222222222222222,
              "#7201a8"
             ],
             [
              0.3333333333333333,
              "#9c179e"
             ],
             [
              0.4444444444444444,
              "#bd3786"
             ],
             [
              0.5555555555555556,
              "#d8576b"
             ],
             [
              0.6666666666666666,
              "#ed7953"
             ],
             [
              0.7777777777777778,
              "#fb9f3a"
             ],
             [
              0.8888888888888888,
              "#fdca26"
             ],
             [
              1,
              "#f0f921"
             ]
            ],
            "type": "histogram2dcontour"
           }
          ],
          "mesh3d": [
           {
            "colorbar": {
             "outlinewidth": 0,
             "ticks": ""
            },
            "type": "mesh3d"
           }
          ],
          "parcoords": [
           {
            "line": {
             "colorbar": {
              "outlinewidth": 0,
              "ticks": ""
             }
            },
            "type": "parcoords"
           }
          ],
          "pie": [
           {
            "automargin": true,
            "type": "pie"
           }
          ],
          "scatter": [
           {
            "fillpattern": {
             "fillmode": "overlay",
             "size": 10,
             "solidity": 0.2
            },
            "type": "scatter"
           }
          ],
          "scatter3d": [
           {
            "line": {
             "colorbar": {
              "outlinewidth": 0,
              "ticks": ""
             }
            },
            "marker": {
             "colorbar": {
              "outlinewidth": 0,
              "ticks": ""
             }
            },
            "type": "scatter3d"
           }
          ],
          "scattercarpet": [
           {
            "marker": {
             "colorbar": {
              "outlinewidth": 0,
              "ticks": ""
             }
            },
            "type": "scattercarpet"
           }
          ],
          "scattergeo": [
           {
            "marker": {
             "colorbar": {
              "outlinewidth": 0,
              "ticks": ""
             }
            },
            "type": "scattergeo"
           }
          ],
          "scattergl": [
           {
            "marker": {
             "colorbar": {
              "outlinewidth": 0,
              "ticks": ""
             }
            },
            "type": "scattergl"
           }
          ],
          "scattermapbox": [
           {
            "marker": {
             "colorbar": {
              "outlinewidth": 0,
              "ticks": ""
             }
            },
            "type": "scattermapbox"
           }
          ],
          "scatterpolar": [
           {
            "marker": {
             "colorbar": {
              "outlinewidth": 0,
              "ticks": ""
             }
            },
            "type": "scatterpolar"
           }
          ],
          "scatterpolargl": [
           {
            "marker": {
             "colorbar": {
              "outlinewidth": 0,
              "ticks": ""
             }
            },
            "type": "scatterpolargl"
           }
          ],
          "scatterternary": [
           {
            "marker": {
             "colorbar": {
              "outlinewidth": 0,
              "ticks": ""
             }
            },
            "type": "scatterternary"
           }
          ],
          "surface": [
           {
            "colorbar": {
             "outlinewidth": 0,
             "ticks": ""
            },
            "colorscale": [
             [
              0,
              "#0d0887"
             ],
             [
              0.1111111111111111,
              "#46039f"
             ],
             [
              0.2222222222222222,
              "#7201a8"
             ],
             [
              0.3333333333333333,
              "#9c179e"
             ],
             [
              0.4444444444444444,
              "#bd3786"
             ],
             [
              0.5555555555555556,
              "#d8576b"
             ],
             [
              0.6666666666666666,
              "#ed7953"
             ],
             [
              0.7777777777777778,
              "#fb9f3a"
             ],
             [
              0.8888888888888888,
              "#fdca26"
             ],
             [
              1,
              "#f0f921"
             ]
            ],
            "type": "surface"
           }
          ],
          "table": [
           {
            "cells": {
             "fill": {
              "color": "#EBF0F8"
             },
             "line": {
              "color": "white"
             }
            },
            "header": {
             "fill": {
              "color": "#C8D4E3"
             },
             "line": {
              "color": "white"
             }
            },
            "type": "table"
           }
          ]
         },
         "layout": {
          "annotationdefaults": {
           "arrowcolor": "#2a3f5f",
           "arrowhead": 0,
           "arrowwidth": 1
          },
          "autotypenumbers": "strict",
          "coloraxis": {
           "colorbar": {
            "outlinewidth": 0,
            "ticks": ""
           }
          },
          "colorscale": {
           "diverging": [
            [
             0,
             "#8e0152"
            ],
            [
             0.1,
             "#c51b7d"
            ],
            [
             0.2,
             "#de77ae"
            ],
            [
             0.3,
             "#f1b6da"
            ],
            [
             0.4,
             "#fde0ef"
            ],
            [
             0.5,
             "#f7f7f7"
            ],
            [
             0.6,
             "#e6f5d0"
            ],
            [
             0.7,
             "#b8e186"
            ],
            [
             0.8,
             "#7fbc41"
            ],
            [
             0.9,
             "#4d9221"
            ],
            [
             1,
             "#276419"
            ]
           ],
           "sequential": [
            [
             0,
             "#0d0887"
            ],
            [
             0.1111111111111111,
             "#46039f"
            ],
            [
             0.2222222222222222,
             "#7201a8"
            ],
            [
             0.3333333333333333,
             "#9c179e"
            ],
            [
             0.4444444444444444,
             "#bd3786"
            ],
            [
             0.5555555555555556,
             "#d8576b"
            ],
            [
             0.6666666666666666,
             "#ed7953"
            ],
            [
             0.7777777777777778,
             "#fb9f3a"
            ],
            [
             0.8888888888888888,
             "#fdca26"
            ],
            [
             1,
             "#f0f921"
            ]
           ],
           "sequentialminus": [
            [
             0,
             "#0d0887"
            ],
            [
             0.1111111111111111,
             "#46039f"
            ],
            [
             0.2222222222222222,
             "#7201a8"
            ],
            [
             0.3333333333333333,
             "#9c179e"
            ],
            [
             0.4444444444444444,
             "#bd3786"
            ],
            [
             0.5555555555555556,
             "#d8576b"
            ],
            [
             0.6666666666666666,
             "#ed7953"
            ],
            [
             0.7777777777777778,
             "#fb9f3a"
            ],
            [
             0.8888888888888888,
             "#fdca26"
            ],
            [
             1,
             "#f0f921"
            ]
           ]
          },
          "colorway": [
           "#636efa",
           "#EF553B",
           "#00cc96",
           "#ab63fa",
           "#FFA15A",
           "#19d3f3",
           "#FF6692",
           "#B6E880",
           "#FF97FF",
           "#FECB52"
          ],
          "font": {
           "color": "#2a3f5f"
          },
          "geo": {
           "bgcolor": "white",
           "lakecolor": "white",
           "landcolor": "#E5ECF6",
           "showlakes": true,
           "showland": true,
           "subunitcolor": "white"
          },
          "hoverlabel": {
           "align": "left"
          },
          "hovermode": "closest",
          "mapbox": {
           "style": "light"
          },
          "paper_bgcolor": "white",
          "plot_bgcolor": "#E5ECF6",
          "polar": {
           "angularaxis": {
            "gridcolor": "white",
            "linecolor": "white",
            "ticks": ""
           },
           "bgcolor": "#E5ECF6",
           "radialaxis": {
            "gridcolor": "white",
            "linecolor": "white",
            "ticks": ""
           }
          },
          "scene": {
           "xaxis": {
            "backgroundcolor": "#E5ECF6",
            "gridcolor": "white",
            "gridwidth": 2,
            "linecolor": "white",
            "showbackground": true,
            "ticks": "",
            "zerolinecolor": "white"
           },
           "yaxis": {
            "backgroundcolor": "#E5ECF6",
            "gridcolor": "white",
            "gridwidth": 2,
            "linecolor": "white",
            "showbackground": true,
            "ticks": "",
            "zerolinecolor": "white"
           },
           "zaxis": {
            "backgroundcolor": "#E5ECF6",
            "gridcolor": "white",
            "gridwidth": 2,
            "linecolor": "white",
            "showbackground": true,
            "ticks": "",
            "zerolinecolor": "white"
           }
          },
          "shapedefaults": {
           "line": {
            "color": "#2a3f5f"
           }
          },
          "ternary": {
           "aaxis": {
            "gridcolor": "white",
            "linecolor": "white",
            "ticks": ""
           },
           "baxis": {
            "gridcolor": "white",
            "linecolor": "white",
            "ticks": ""
           },
           "bgcolor": "#E5ECF6",
           "caxis": {
            "gridcolor": "white",
            "linecolor": "white",
            "ticks": ""
           }
          },
          "title": {
           "x": 0.05
          },
          "xaxis": {
           "automargin": true,
           "gridcolor": "white",
           "linecolor": "white",
           "ticks": "",
           "title": {
            "standoff": 15
           },
           "zerolinecolor": "white",
           "zerolinewidth": 2
          },
          "yaxis": {
           "automargin": true,
           "gridcolor": "white",
           "linecolor": "white",
           "ticks": "",
           "title": {
            "standoff": 15
           },
           "zerolinecolor": "white",
           "zerolinewidth": 2
          }
         }
        },
        "title": {
         "text": "Year-over-Year Growth Rate"
        },
        "xaxis": {
         "autorange": true,
         "gridcolor": "lightgrey",
         "range": [
          2000.5,
          2021.5
         ],
         "showgrid": true,
         "title": {
          "text": "Year"
         },
         "type": "linear"
        },
        "yaxis": {
         "autorange": true,
         "gridcolor": "lightgrey",
         "range": [
          -213.64066193853427,
          2459.172576832151
         ],
         "showgrid": true,
         "title": {
          "text": "Growth Rate (%)"
         },
         "type": "linear"
        }
       }
      },
      "image/png": "[encoded data removed]",
      "text/html": [
       "<div>                            <div id=\"95d637ee-61be-4a6b-b8c7-f746ee97bdc9\" class=\"plotly-graph-div\" style=\"height:525px; width:100%;\"></div>            <script type=\"text/javascript\">                require([\"plotly\"], function(Plotly) {                    window.PLOTLYENV=window.PLOTLYENV || {};                                    if (document.getElementById(\"95d637ee-61be-4a6b-b8c7-f746ee97bdc9\")) {                    Plotly.newPlot(                        \"95d637ee-61be-4a6b-b8c7-f746ee97bdc9\",                        [{\"hovertemplate\":\"Year: %{x}\\u003cbr\\u003ePermit Growth: %{y:.2f}%\\u003cextra\\u003e\\u003c\\u002fextra\\u003e\",\"marker\":{\"color\":\"#636EFA\"},\"name\":\"Permit Growth\",\"x\":[2001,2002,2003,2004,2005,2006,2007,2008,2009,2010,2011,2012,2013,2014,2015,2016,2017,2018,2019,2020,2021],\"y\":[null,0.0,0.0,0.0,0.0,400.0,-80.0,100.0,550.0,38.46153846153846,188.88888888888889,-19.23076923076923,123.80952380952381,2325.531914893617,36.973684210526315,14.537303874479669,0.8386916410399792,3.992237316329361,-9.0375899760064,-34.02696365767878,12.527765437583295],\"type\":\"bar\"},{\"hovertemplate\":\"Year: %{x}\\u003cbr\\u003ePopulation Growth: %{y:.2f}%\\u003cextra\\u003e\\u003c\\u002fextra\\u003e\",\"marker\":{\"color\":\"#EF553B\"},\"name\":\"Population Growth\",\"x\":[2001,2002,2003,2004,2005,2006,2007,2008,2009,2010,2011,2012,2013,2014,2015,2016,2017,2018,2019,2020,2021],\"y\":[null,0.32587442971974134,-0.02045137385111584,-0.5282346854055597,0.3895098466153879,1.103747439450542,1.0881224227111241,0.8182129004114636,1.4664436986189244,0.48981755736627886,0.23281952472704592,1.0801533268493646,0.9610704218974586,1.3779880701439762,1.3902252894920197,1.9318454523638007,1.7400609984482784,1.483102102639089,1.3308319772805,0.38971001892291746,-1.863550221099175],\"type\":\"bar\"}],                        {\"template\":{\"data\":{\"histogram2dcontour\":[{\"type\":\"histogram2dcontour\",\"colorbar\":{\"outlinewidth\":0,\"ticks\":\"\"},\"colorscale\":[[0.0,\"#0d0887\"],[0.1111111111111111,\"#46039f\"],[0.2222222222222222,\"#7201a8\"],[0.3333333333333333,\"#9c179e\"],[0.4444444444444444,\"#bd3786\"],[0.5555555555555556,\"#d8576b\"],[0.6666666666666666,\"#ed7953\"],[0.7777777777777778,\"#fb9f3a\"],[0.8888888888888888,\"#fdca26\"],[1.0,\"#f0f921\"]]}],\"choropleth\":[{\"type\":\"choropleth\",\"colorbar\":{\"outlinewidth\":0,\"ticks\":\"\"}}],\"histogram2d\":[{\"type\":\"histogram2d\",\"colorbar\":{\"outlinewidth\":0,\"ticks\":\"\"},\"colorscale\":[[0.0,\"#0d0887\"],[0.1111111111111111,\"#46039f\"],[0.2222222222222222,\"#7201a8\"],[0.3333333333333333,\"#9c179e\"],[0.4444444444444444,\"#bd3786\"],[0.5555555555555556,\"#d8576b\"],[0.6666666666666666,\"#ed7953\"],[0.7777777777777778,\"#fb9f3a\"],[0.8888888888888888,\"#fdca26\"],[1.0,\"#f0f921\"]]}],\"heatmap\":[{\"type\":\"heatmap\",\"colorbar\":{\"outlinewidth\":0,\"ticks\":\"\"},\"colorscale\":[[0.0,\"#0d0887\"],[0.1111111111111111,\"#46039f\"],[0.2222222222222222,\"#7201a8\"],[0.3333333333333333,\"#9c179e\"],[0.4444444444444444,\"#bd3786\"],[0.5555555555555556,\"#d8576b\"],[0.6666666666666666,\"#ed7953\"],[0.7777777777777778,\"#fb9f3a\"],[0.8888888888888888,\"#fdca26\"],[1.0,\"#f0f921\"]]}],\"heatmapgl\":[{\"type\":\"heatmapgl\",\"colorbar\":{\"outlinewidth\":0,\"ticks\":\"\"},\"colorscale\":[[0.0,\"#0d0887\"],[0.1111111111111111,\"#46039f\"],[0.2222222222222222,\"#7201a8\"],[0.3333333333333333,\"#9c179e\"],[0.4444444444444444,\"#bd3786\"],[0.5555555555555556,\"#d8576b\"],[0.6666666666666666,\"#ed7953\"],[0.7777777777777778,\"#fb9f3a\"],[0.8888888888888888,\"#fdca26\"],[1.0,\"#f0f921\"]]}],\"contourcarpet\":[{\"type\":\"contourcarpet\",\"colorbar\":{\"outlinewidth\":0,\"ticks\":\"\"}}],\"contour\":[{\"type\":\"contour\",\"colorbar\":{\"outlinewidth\":0,\"ticks\":\"\"},\"colorscale\":[[0.0,\"#0d0887\"],[0.1111111111111111,\"#46039f\"],[0.2222222222222222,\"#7201a8\"],[0.3333333333333333,\"#9c179e\"],[0.4444444444444444,\"#bd3786\"],[0.5555555555555556,\"#d8576b\"],[0.6666666666666666,\"#ed7953\"],[0.7777777777777778,\"#fb9f3a\"],[0.8888888888888888,\"#fdca26\"],[1.0,\"#f0f921\"]]}],\"surface\":[{\"type\":\"surface\",\"colorbar\":{\"outlinewidth\":0,\"ticks\":\"\"},\"colorscale\":[[0.0,\"#0d0887\"],[0.1111111111111111,\"#46039f\"],[0.2222222222222222,\"#7201a8\"],[0.3333333333333333,\"#9c179e\"],[0.4444444444444444,\"#bd3786\"],[0.5555555555555556,\"#d8576b\"],[0.6666666666666666,\"#ed7953\"],[0.7777777777777778,\"#fb9f3a\"],[0.8888888888888888,\"#fdca26\"],[1.0,\"#f0f921\"]]}],\"mesh3d\":[{\"type\":\"mesh3d\",\"colorbar\":{\"outlinewidth\":0,\"ticks\":\"\"}}],\"scatter\":[{\"fillpattern\":{\"fillmode\":\"overlay\",\"size\":10,\"solidity\":0.2},\"type\":\"scatter\"}],\"parcoords\":[{\"type\":\"parcoords\",\"line\":{\"colorbar\":{\"outlinewidth\":0,\"ticks\":\"\"}}}],\"scatterpolargl\":[{\"type\":\"scatterpolargl\",\"marker\":{\"colorbar\":{\"outlinewidth\":0,\"ticks\":\"\"}}}],\"bar\":[{\"error_x\":{\"color\":\"#2a3f5f\"},\"error_y\":{\"color\":\"#2a3f5f\"},\"marker\":{\"line\":{\"color\":\"#E5ECF6\",\"width\":0.5},\"pattern\":{\"fillmode\":\"overlay\",\"size\":10,\"solidity\":0.2}},\"type\":\"bar\"}],\"scattergeo\":[{\"type\":\"scattergeo\",\"marker\":{\"colorbar\":{\"outlinewidth\":0,\"ticks\":\"\"}}}],\"scatterpolar\":[{\"type\":\"scatterpolar\",\"marker\":{\"colorbar\":{\"outlinewidth\":0,\"ticks\":\"\"}}}],\"histogram\":[{\"marker\":{\"pattern\":{\"fillmode\":\"overlay\",\"size\":10,\"solidity\":0.2}},\"type\":\"histogram\"}],\"scattergl\":[{\"type\":\"scattergl\",\"marker\":{\"colorbar\":{\"outlinewidth\":0,\"ticks\":\"\"}}}],\"scatter3d\":[{\"type\":\"scatter3d\",\"line\":{\"colorbar\":{\"outlinewidth\":0,\"ticks\":\"\"}},\"marker\":{\"colorbar\":{\"outlinewidth\":0,\"ticks\":\"\"}}}],\"scattermapbox\":[{\"type\":\"scattermapbox\",\"marker\":{\"colorbar\":{\"outlinewidth\":0,\"ticks\":\"\"}}}],\"scatterternary\":[{\"type\":\"scatterternary\",\"marker\":{\"colorbar\":{\"outlinewidth\":0,\"ticks\":\"\"}}}],\"scattercarpet\":[{\"type\":\"scattercarpet\",\"marker\":{\"colorbar\":{\"outlinewidth\":0,\"ticks\":\"\"}}}],\"carpet\":[{\"aaxis\":{\"endlinecolor\":\"#2a3f5f\",\"gridcolor\":\"white\",\"linecolor\":\"white\",\"minorgridcolor\":\"white\",\"startlinecolor\":\"#2a3f5f\"},\"baxis\":{\"endlinecolor\":\"#2a3f5f\",\"gridcolor\":\"white\",\"linecolor\":\"white\",\"minorgridcolor\":\"white\",\"startlinecolor\":\"#2a3f5f\"},\"type\":\"carpet\"}],\"table\":[{\"cells\":{\"fill\":{\"color\":\"#EBF0F8\"},\"line\":{\"color\":\"white\"}},\"header\":{\"fill\":{\"color\":\"#C8D4E3\"},\"line\":{\"color\":\"white\"}},\"type\":\"table\"}],\"barpolar\":[{\"marker\":{\"line\":{\"color\":\"#E5ECF6\",\"width\":0.5},\"pattern\":{\"fillmode\":\"overlay\",\"size\":10,\"solidity\":0.2}},\"type\":\"barpolar\"}],\"pie\":[{\"automargin\":true,\"type\":\"pie\"}]},\"layout\":{\"autotypenumbers\":\"strict\",\"colorway\":[\"#636efa\",\"#EF553B\",\"#00cc96\",\"#ab63fa\",\"#FFA15A\",\"#19d3f3\",\"#FF6692\",\"#B6E880\",\"#FF97FF\",\"#FECB52\"],\"font\":{\"color\":\"#2a3f5f\"},\"hovermode\":\"closest\",\"hoverlabel\":{\"align\":\"left\"},\"paper_bgcolor\":\"white\",\"plot_bgcolor\":\"#E5ECF6\",\"polar\":{\"bgcolor\":\"#E5ECF6\",\"angularaxis\":{\"gridcolor\":\"white\",\"linecolor\":\"white\",\"ticks\":\"\"},\"radialaxis\":{\"gridcolor\":\"white\",\"linecolor\":\"white\",\"ticks\":\"\"}},\"ternary\":{\"bgcolor\":\"#E5ECF6\",\"aaxis\":{\"gridcolor\":\"white\",\"linecolor\":\"white\",\"ticks\":\"\"},\"baxis\":{\"gridcolor\":\"white\",\"linecolor\":\"white\",\"ticks\":\"\"},\"caxis\":{\"gridcolor\":\"white\",\"linecolor\":\"white\",\"ticks\":\"\"}},\"coloraxis\":{\"colorbar\":{\"outlinewidth\":0,\"ticks\":\"\"}},\"colorscale\":{\"sequential\":[[0.0,\"#0d0887\"],[0.1111111111111111,\"#46039f\"],[0.2222222222222222,\"#7201a8\"],[0.3333333333333333,\"#9c179e\"],[0.4444444444444444,\"#bd3786\"],[0.5555555555555556,\"#d8576b\"],[0.6666666666666666,\"#ed7953\"],[0.7777777777777778,\"#fb9f3a\"],[0.8888888888888888,\"#fdca26\"],[1.0,\"#f0f921\"]],\"sequentialminus\":[[0.0,\"#0d0887\"],[0.1111111111111111,\"#46039f\"],[0.2222222222222222,\"#7201a8\"],[0.3333333333333333,\"#9c179e\"],[0.4444444444444444,\"#bd3786\"],[0.5555555555555556,\"#d8576b\"],[0.6666666666666666,\"#ed7953\"],[0.7777777777777778,\"#fb9f3a\"],[0.8888888888888888,\"#fdca26\"],[1.0,\"#f0f921\"]],\"diverging\":[[0,\"#8e0152\"],[0.1,\"#c51b7d\"],[0.2,\"#de77ae\"],[0.3,\"#f1b6da\"],[0.4,\"#fde0ef\"],[0.5,\"#f7f7f7\"],[0.6,\"#e6f5d0\"],[0.7,\"#b8e186\"],[0.8,\"#7fbc41\"],[0.9,\"#4d9221\"],[1,\"#276419\"]]},\"xaxis\":{\"gridcolor\":\"white\",\"linecolor\":\"white\",\"ticks\":\"\",\"title\":{\"standoff\":15},\"zerolinecolor\":\"white\",\"automargin\":true,\"zerolinewidth\":2},\"yaxis\":{\"gridcolor\":\"white\",\"linecolor\":\"white\",\"ticks\":\"\",\"title\":{\"standoff\":15},\"zerolinecolor\":\"white\",\"automargin\":true,\"zerolinewidth\":2},\"scene\":{\"xaxis\":{\"backgroundcolor\":\"#E5ECF6\",\"gridcolor\":\"white\",\"linecolor\":\"white\",\"showbackground\":true,\"ticks\":\"\",\"zerolinecolor\":\"white\",\"gridwidth\":2},\"yaxis\":{\"backgroundcolor\":\"#E5ECF6\",\"gridcolor\":\"white\",\"linecolor\":\"white\",\"showbackground\":true,\"ticks\":\"\",\"zerolinecolor\":\"white\",\"gridwidth\":2},\"zaxis\":{\"backgroundcolor\":\"#E5ECF6\",\"gridcolor\":\"white\",\"linecolor\":\"white\",\"showbackground\":true,\"ticks\":\"\",\"zerolinecolor\":\"white\",\"gridwidth\":2}},\"shapedefaults\":{\"line\":{\"color\":\"#2a3f5f\"}},\"annotationdefaults\":{\"arrowcolor\":\"#2a3f5f\",\"arrowhead\":0,\"arrowwidth\":1},\"geo\":{\"bgcolor\":\"white\",\"landcolor\":\"#E5ECF6\",\"subunitcolor\":\"white\",\"showland\":true,\"showlakes\":true,\"lakecolor\":\"white\"},\"title\":{\"x\":0.05},\"mapbox\":{\"style\":\"light\"}}},\"xaxis\":{\"title\":{\"text\":\"Year\"},\"showgrid\":true,\"gridcolor\":\"lightgrey\"},\"yaxis\":{\"title\":{\"text\":\"Growth Rate (%)\"},\"showgrid\":true,\"gridcolor\":\"lightgrey\"},\"title\":{\"text\":\"Year-over-Year Growth Rate\"},\"barmode\":\"group\",\"plot_bgcolor\":\"white\"},                        {\"responsive\": true}                    ).then(function(){\n",
       "                            \n",
       "var gd = document.getElementById('95d637ee-61be-4a6b-b8c7-f746ee97bdc9');\n",
       "var x = new MutationObserver(function (mutations, observer) {{\n",
       "        var display = window.getComputedStyle(gd).display;\n",
       "        if (!display || display === 'none') {{\n",
       "            console.log([gd, 'removed!']);\n",
       "            Plotly.purge(gd);\n",
       "            observer.disconnect();\n",
       "        }}\n",
       "}});\n",
       "\n",
       "// Listen for the removal of the full notebook cells\n",
       "var notebookContainer = gd.closest('#notebook-container');\n",
       "if (notebookContainer) {{\n",
       "    x.observe(notebookContainer, {childList: true});\n",
       "}}\n",
       "\n",
       "// Listen for the clearing of the current output cell\n",
       "var outputEl = gd.closest('.output');\n",
       "if (outputEl) {{\n",
       "    x.observe(outputEl, {childList: true});\n",
       "}}\n",
       "\n",
       "                        })                };                });            </script>        </div>"
      ]
     },
     "metadata": {},
     "output_type": "display_data"
    },
    {
     "data": {
      "application/vnd.plotly.v1+json": {
       "config": {
        "plotlyServerURL": "https://plot.ly"
       },
       "data": [
        {
         "alignmentgroup": "True",
         "boxpoints": "all",
         "hovertemplate": "Metric=%{x}<br>Count=%{y}<extra></extra>",
         "legendgroup": "building_permit_count",
         "marker": {
          "color": "#636EFA"
         },
         "name": "building_permit_count",
         "notched": false,
         "offsetgroup": "building_permit_count",
         "orientation": "v",
         "showlegend": true,
         "type": "box",
         "x": [
          "building_permit_count",
          "building_permit_count",
          "building_permit_count",
          "building_permit_count",
          "building_permit_count",
          "building_permit_count",
          "building_permit_count",
          "building_permit_count",
          "building_permit_count",
          "building_permit_count",
          "building_permit_count",
          "building_permit_count",
          "building_permit_count",
          "building_permit_count",
          "building_permit_count",
          "building_permit_count",
          "building_permit_count",
          "building_permit_count",
          "building_permit_count",
          "building_permit_count",
          "building_permit_count"
         ],
         "x0": " ",
         "xaxis": "x",
         "y": [
          1,
          1,
          1,
          1,
          1,
          5,
          1,
          2,
          13,
          18,
          52,
          42,
          94,
          2280,
          3123,
          3577,
          3607,
          3751,
          3412,
          2251,
          2533
         ],
         "y0": " ",
         "yaxis": "y"
        },
        {
         "alignmentgroup": "True",
         "boxpoints": "all",
         "hovertemplate": "Metric=%{x}<br>Count=%{y}<extra></extra>",
         "legendgroup": "population",
         "marker": {
          "color": "#EF553B"
         },
         "name": "population",
         "notched": false,
         "offsetgroup": "population",
         "orientation": "v",
         "showlegend": true,
         "type": "box",
         "x": [
          "population",
          "population",
          "population",
          "population",
          "population",
          "population",
          "population",
          "population",
          "population",
          "population",
          "population",
          "population",
          "population",
          "population",
          "population",
          "population",
          "population",
          "population",
          "population",
          "population",
          "population"
         ],
         "x0": " ",
         "xaxis": "x",
         "y": [
          82854,
          83124,
          83107,
          82668,
          82990,
          83906,
          84819,
          85513,
          86767,
          87192,
          87395,
          88339,
          89188,
          90417,
          91674,
          93445,
          95071,
          96481,
          97765,
          98146,
          96317
         ],
         "y0": " ",
         "yaxis": "y"
        }
       ],
       "layout": {
        "autosize": true,
        "boxmode": "overlay",
        "legend": {
         "title": {
          "text": "Metric"
         },
         "tracegroupgap": 0
        },
        "plot_bgcolor": "white",
        "template": {
         "data": {
          "bar": [
           {
            "error_x": {
             "color": "#2a3f5f"
            },
            "error_y": {
             "color": "#2a3f5f"
            },
            "marker": {
             "line": {
              "color": "#E5ECF6",
              "width": 0.5
             },
             "pattern": {
              "fillmode": "overlay",
              "size": 10,
              "solidity": 0.2
             }
            },
            "type": "bar"
           }
          ],
          "barpolar": [
           {
            "marker": {
             "line": {
              "color": "#E5ECF6",
              "width": 0.5
             },
             "pattern": {
              "fillmode": "overlay",
              "size": 10,
              "solidity": 0.2
             }
            },
            "type": "barpolar"
           }
          ],
          "carpet": [
           {
            "aaxis": {
             "endlinecolor": "#2a3f5f",
             "gridcolor": "white",
             "linecolor": "white",
             "minorgridcolor": "white",
             "startlinecolor": "#2a3f5f"
            },
            "baxis": {
             "endlinecolor": "#2a3f5f",
             "gridcolor": "white",
             "linecolor": "white",
             "minorgridcolor": "white",
             "startlinecolor": "#2a3f5f"
            },
            "type": "carpet"
           }
          ],
          "choropleth": [
           {
            "colorbar": {
             "outlinewidth": 0,
             "ticks": ""
            },
            "type": "choropleth"
           }
          ],
          "contour": [
           {
            "colorbar": {
             "outlinewidth": 0,
             "ticks": ""
            },
            "colorscale": [
             [
              0,
              "#0d0887"
             ],
             [
              0.1111111111111111,
              "#46039f"
             ],
             [
              0.2222222222222222,
              "#7201a8"
             ],
             [
              0.3333333333333333,
              "#9c179e"
             ],
             [
              0.4444444444444444,
              "#bd3786"
             ],
             [
              0.5555555555555556,
              "#d8576b"
             ],
             [
              0.6666666666666666,
              "#ed7953"
             ],
             [
              0.7777777777777778,
              "#fb9f3a"
             ],
             [
              0.8888888888888888,
              "#fdca26"
             ],
             [
              1,
              "#f0f921"
             ]
            ],
            "type": "contour"
           }
          ],
          "contourcarpet": [
           {
            "colorbar": {
             "outlinewidth": 0,
             "ticks": ""
            },
            "type": "contourcarpet"
           }
          ],
          "heatmap": [
           {
            "colorbar": {
             "outlinewidth": 0,
             "ticks": ""
            },
            "colorscale": [
             [
              0,
              "#0d0887"
             ],
             [
              0.1111111111111111,
              "#46039f"
             ],
             [
              0.2222222222222222,
              "#7201a8"
             ],
             [
              0.3333333333333333,
              "#9c179e"
             ],
             [
              0.4444444444444444,
              "#bd3786"
             ],
             [
              0.5555555555555556,
              "#d8576b"
             ],
             [
              0.6666666666666666,
              "#ed7953"
             ],
             [
              0.7777777777777778,
              "#fb9f3a"
             ],
             [
              0.8888888888888888,
              "#fdca26"
             ],
             [
              1,
              "#f0f921"
             ]
            ],
            "type": "heatmap"
           }
          ],
          "heatmapgl": [
           {
            "colorbar": {
             "outlinewidth": 0,
             "ticks": ""
            },
            "colorscale": [
             [
              0,
              "#0d0887"
             ],
             [
              0.1111111111111111,
              "#46039f"
             ],
             [
              0.2222222222222222,
              "#7201a8"
             ],
             [
              0.3333333333333333,
              "#9c179e"
             ],
             [
              0.4444444444444444,
              "#bd3786"
             ],
             [
              0.5555555555555556,
              "#d8576b"
             ],
             [
              0.6666666666666666,
              "#ed7953"
             ],
             [
              0.7777777777777778,
              "#fb9f3a"
             ],
             [
              0.8888888888888888,
              "#fdca26"
             ],
             [
              1,
              "#f0f921"
             ]
            ],
            "type": "heatmapgl"
           }
          ],
          "histogram": [
           {
            "marker": {
             "pattern": {
              "fillmode": "overlay",
              "size": 10,
              "solidity": 0.2
             }
            },
            "type": "histogram"
           }
          ],
          "histogram2d": [
           {
            "colorbar": {
             "outlinewidth": 0,
             "ticks": ""
            },
            "colorscale": [
             [
              0,
              "#0d0887"
             ],
             [
              0.1111111111111111,
              "#46039f"
             ],
             [
              0.2222222222222222,
              "#7201a8"
             ],
             [
              0.3333333333333333,
              "#9c179e"
             ],
             [
              0.4444444444444444,
              "#bd3786"
             ],
             [
              0.5555555555555556,
              "#d8576b"
             ],
             [
              0.6666666666666666,
              "#ed7953"
             ],
             [
              0.7777777777777778,
              "#fb9f3a"
             ],
             [
              0.8888888888888888,
              "#fdca26"
             ],
             [
              1,
              "#f0f921"
             ]
            ],
            "type": "histogram2d"
           }
          ],
          "histogram2dcontour": [
           {
            "colorbar": {
             "outlinewidth": 0,
             "ticks": ""
            },
            "colorscale": [
             [
              0,
              "#0d0887"
             ],
             [
              0.1111111111111111,
              "#46039f"
             ],
             [
              0.2222222222222222,
              "#7201a8"
             ],
             [
              0.3333333333333333,
              "#9c179e"
             ],
             [
              0.4444444444444444,
              "#bd3786"
             ],
             [
              0.5555555555555556,
              "#d8576b"
             ],
             [
              0.6666666666666666,
              "#ed7953"
             ],
             [
              0.7777777777777778,
              "#fb9f3a"
             ],
             [
              0.8888888888888888,
              "#fdca26"
             ],
             [
              1,
              "#f0f921"
             ]
            ],
            "type": "histogram2dcontour"
           }
          ],
          "mesh3d": [
           {
            "colorbar": {
             "outlinewidth": 0,
             "ticks": ""
            },
            "type": "mesh3d"
           }
          ],
          "parcoords": [
           {
            "line": {
             "colorbar": {
              "outlinewidth": 0,
              "ticks": ""
             }
            },
            "type": "parcoords"
           }
          ],
          "pie": [
           {
            "automargin": true,
            "type": "pie"
           }
          ],
          "scatter": [
           {
            "fillpattern": {
             "fillmode": "overlay",
             "size": 10,
             "solidity": 0.2
            },
            "type": "scatter"
           }
          ],
          "scatter3d": [
           {
            "line": {
             "colorbar": {
              "outlinewidth": 0,
              "ticks": ""
             }
            },
            "marker": {
             "colorbar": {
              "outlinewidth": 0,
              "ticks": ""
             }
            },
            "type": "scatter3d"
           }
          ],
          "scattercarpet": [
           {
            "marker": {
             "colorbar": {
              "outlinewidth": 0,
              "ticks": ""
             }
            },
            "type": "scattercarpet"
           }
          ],
          "scattergeo": [
           {
            "marker": {
             "colorbar": {
              "outlinewidth": 0,
              "ticks": ""
             }
            },
            "type": "scattergeo"
           }
          ],
          "scattergl": [
           {
            "marker": {
             "colorbar": {
              "outlinewidth": 0,
              "ticks": ""
             }
            },
            "type": "scattergl"
           }
          ],
          "scattermapbox": [
           {
            "marker": {
             "colorbar": {
              "outlinewidth": 0,
              "ticks": ""
             }
            },
            "type": "scattermapbox"
           }
          ],
          "scatterpolar": [
           {
            "marker": {
             "colorbar": {
              "outlinewidth": 0,
              "ticks": ""
             }
            },
            "type": "scatterpolar"
           }
          ],
          "scatterpolargl": [
           {
            "marker": {
             "colorbar": {
              "outlinewidth": 0,
              "ticks": ""
             }
            },
            "type": "scatterpolargl"
           }
          ],
          "scatterternary": [
           {
            "marker": {
             "colorbar": {
              "outlinewidth": 0,
              "ticks": ""
             }
            },
            "type": "scatterternary"
           }
          ],
          "surface": [
           {
            "colorbar": {
             "outlinewidth": 0,
             "ticks": ""
            },
            "colorscale": [
             [
              0,
              "#0d0887"
             ],
             [
              0.1111111111111111,
              "#46039f"
             ],
             [
              0.2222222222222222,
              "#7201a8"
             ],
             [
              0.3333333333333333,
              "#9c179e"
             ],
             [
              0.4444444444444444,
              "#bd3786"
             ],
             [
              0.5555555555555556,
              "#d8576b"
             ],
             [
              0.6666666666666666,
              "#ed7953"
             ],
             [
              0.7777777777777778,
              "#fb9f3a"
             ],
             [
              0.8888888888888888,
              "#fdca26"
             ],
             [
              1,
              "#f0f921"
             ]
            ],
            "type": "surface"
           }
          ],
          "table": [
           {
            "cells": {
             "fill": {
              "color": "#EBF0F8"
             },
             "line": {
              "color": "white"
             }
            },
            "header": {
             "fill": {
              "color": "#C8D4E3"
             },
             "line": {
              "color": "white"
             }
            },
            "type": "table"
           }
          ]
         },
         "layout": {
          "annotationdefaults": {
           "arrowcolor": "#2a3f5f",
           "arrowhead": 0,
           "arrowwidth": 1
          },
          "autotypenumbers": "strict",
          "coloraxis": {
           "colorbar": {
            "outlinewidth": 0,
            "ticks": ""
           }
          },
          "colorscale": {
           "diverging": [
            [
             0,
             "#8e0152"
            ],
            [
             0.1,
             "#c51b7d"
            ],
            [
             0.2,
             "#de77ae"
            ],
            [
             0.3,
             "#f1b6da"
            ],
            [
             0.4,
             "#fde0ef"
            ],
            [
             0.5,
             "#f7f7f7"
            ],
            [
             0.6,
             "#e6f5d0"
            ],
            [
             0.7,
             "#b8e186"
            ],
            [
             0.8,
             "#7fbc41"
            ],
            [
             0.9,
             "#4d9221"
            ],
            [
             1,
             "#276419"
            ]
           ],
           "sequential": [
            [
             0,
             "#0d0887"
            ],
            [
             0.1111111111111111,
             "#46039f"
            ],
            [
             0.2222222222222222,
             "#7201a8"
            ],
            [
             0.3333333333333333,
             "#9c179e"
            ],
            [
             0.4444444444444444,
             "#bd3786"
            ],
            [
             0.5555555555555556,
             "#d8576b"
            ],
            [
             0.6666666666666666,
             "#ed7953"
            ],
            [
             0.7777777777777778,
             "#fb9f3a"
            ],
            [
             0.8888888888888888,
             "#fdca26"
            ],
            [
             1,
             "#f0f921"
            ]
           ],
           "sequentialminus": [
            [
             0,
             "#0d0887"
            ],
            [
             0.1111111111111111,
             "#46039f"
            ],
            [
             0.2222222222222222,
             "#7201a8"
            ],
            [
             0.3333333333333333,
             "#9c179e"
            ],
            [
             0.4444444444444444,
             "#bd3786"
            ],
            [
             0.5555555555555556,
             "#d8576b"
            ],
            [
             0.6666666666666666,
             "#ed7953"
            ],
            [
             0.7777777777777778,
             "#fb9f3a"
            ],
            [
             0.8888888888888888,
             "#fdca26"
            ],
            [
             1,
             "#f0f921"
            ]
           ]
          },
          "colorway": [
           "#636efa",
           "#EF553B",
           "#00cc96",
           "#ab63fa",
           "#FFA15A",
           "#19d3f3",
           "#FF6692",
           "#B6E880",
           "#FF97FF",
           "#FECB52"
          ],
          "font": {
           "color": "#2a3f5f"
          },
          "geo": {
           "bgcolor": "white",
           "lakecolor": "white",
           "landcolor": "#E5ECF6",
           "showlakes": true,
           "showland": true,
           "subunitcolor": "white"
          },
          "hoverlabel": {
           "align": "left"
          },
          "hovermode": "closest",
          "mapbox": {
           "style": "light"
          },
          "paper_bgcolor": "white",
          "plot_bgcolor": "#E5ECF6",
          "polar": {
           "angularaxis": {
            "gridcolor": "white",
            "linecolor": "white",
            "ticks": ""
           },
           "bgcolor": "#E5ECF6",
           "radialaxis": {
            "gridcolor": "white",
            "linecolor": "white",
            "ticks": ""
           }
          },
          "scene": {
           "xaxis": {
            "backgroundcolor": "#E5ECF6",
            "gridcolor": "white",
            "gridwidth": 2,
            "linecolor": "white",
            "showbackground": true,
            "ticks": "",
            "zerolinecolor": "white"
           },
           "yaxis": {
            "backgroundcolor": "#E5ECF6",
            "gridcolor": "white",
            "gridwidth": 2,
            "linecolor": "white",
            "showbackground": true,
            "ticks": "",
            "zerolinecolor": "white"
           },
           "zaxis": {
            "backgroundcolor": "#E5ECF6",
            "gridcolor": "white",
            "gridwidth": 2,
            "linecolor": "white",
            "showbackground": true,
            "ticks": "",
            "zerolinecolor": "white"
           }
          },
          "shapedefaults": {
           "line": {
            "color": "#2a3f5f"
           }
          },
          "ternary": {
           "aaxis": {
            "gridcolor": "white",
            "linecolor": "white",
            "ticks": ""
           },
           "baxis": {
            "gridcolor": "white",
            "linecolor": "white",
            "ticks": ""
           },
           "bgcolor": "#E5ECF6",
           "caxis": {
            "gridcolor": "white",
            "linecolor": "white",
            "ticks": ""
           }
          },
          "title": {
           "x": 0.05
          },
          "xaxis": {
           "automargin": true,
           "gridcolor": "white",
           "linecolor": "white",
           "ticks": "",
           "title": {
            "standoff": 15
           },
           "zerolinecolor": "white",
           "zerolinewidth": 2
          },
          "yaxis": {
           "automargin": true,
           "gridcolor": "white",
           "linecolor": "white",
           "ticks": "",
           "title": {
            "standoff": 15
           },
           "zerolinecolor": "white",
           "zerolinewidth": 2
          }
         }
        },
        "title": {
         "text": "Outlier Detection: Building Permits and Population"
        },
        "xaxis": {
         "anchor": "y",
         "autorange": true,
         "categoryarray": [
          "building_permit_count",
          "population"
         ],
         "categoryorder": "array",
         "domain": [
          0,
          1
         ],
         "gridcolor": "lightgrey",
         "range": [
          -0.5127388535031847,
          1.5
         ],
         "showgrid": true,
         "title": {
          "text": "Metric"
         },
         "type": "category"
        },
        "yaxis": {
         "anchor": "x",
         "autorange": true,
         "domain": [
          0,
          1
         ],
         "gridcolor": "lightgrey",
         "range": [
          -5451.5,
          103598.5
         ],
         "showgrid": true,
         "title": {
          "text": "Count"
         },
         "type": "linear"
        }
       }
      },
      "image/png": "[encoded data removed]",
      "text/html": [
       "<div>                            <div id=\"85689f03-26f7-412f-ab7c-6fc6ca7a056d\" class=\"plotly-graph-div\" style=\"height:525px; width:100%;\"></div>            <script type=\"text/javascript\">                require([\"plotly\"], function(Plotly) {                    window.PLOTLYENV=window.PLOTLYENV || {};                                    if (document.getElementById(\"85689f03-26f7-412f-ab7c-6fc6ca7a056d\")) {                    Plotly.newPlot(                        \"85689f03-26f7-412f-ab7c-6fc6ca7a056d\",                        [{\"alignmentgroup\":\"True\",\"boxpoints\":\"all\",\"hovertemplate\":\"Metric=%{x}\\u003cbr\\u003eCount=%{y}\\u003cextra\\u003e\\u003c\\u002fextra\\u003e\",\"legendgroup\":\"building_permit_count\",\"marker\":{\"color\":\"#636EFA\"},\"name\":\"building_permit_count\",\"notched\":false,\"offsetgroup\":\"building_permit_count\",\"orientation\":\"v\",\"showlegend\":true,\"x\":[\"building_permit_count\",\"building_permit_count\",\"building_permit_count\",\"building_permit_count\",\"building_permit_count\",\"building_permit_count\",\"building_permit_count\",\"building_permit_count\",\"building_permit_count\",\"building_permit_count\",\"building_permit_count\",\"building_permit_count\",\"building_permit_count\",\"building_permit_count\",\"building_permit_count\",\"building_permit_count\",\"building_permit_count\",\"building_permit_count\",\"building_permit_count\",\"building_permit_count\",\"building_permit_count\"],\"x0\":\" \",\"xaxis\":\"x\",\"y\":[1,1,1,1,1,5,1,2,13,18,52,42,94,2280,3123,3577,3607,3751,3412,2251,2533],\"y0\":\" \",\"yaxis\":\"y\",\"type\":\"box\"},{\"alignmentgroup\":\"True\",\"boxpoints\":\"all\",\"hovertemplate\":\"Metric=%{x}\\u003cbr\\u003eCount=%{y}\\u003cextra\\u003e\\u003c\\u002fextra\\u003e\",\"legendgroup\":\"population\",\"marker\":{\"color\":\"#EF553B\"},\"name\":\"population\",\"notched\":false,\"offsetgroup\":\"population\",\"orientation\":\"v\",\"showlegend\":true,\"x\":[\"population\",\"population\",\"population\",\"population\",\"population\",\"population\",\"population\",\"population\",\"population\",\"population\",\"population\",\"population\",\"population\",\"population\",\"population\",\"population\",\"population\",\"population\",\"population\",\"population\",\"population\"],\"x0\":\" \",\"xaxis\":\"x\",\"y\":[82854,83124,83107,82668,82990,83906,84819,85513,86767,87192,87395,88339,89188,90417,91674,93445,95071,96481,97765,98146,96317],\"y0\":\" \",\"yaxis\":\"y\",\"type\":\"box\"}],                        {\"template\":{\"data\":{\"histogram2dcontour\":[{\"type\":\"histogram2dcontour\",\"colorbar\":{\"outlinewidth\":0,\"ticks\":\"\"},\"colorscale\":[[0.0,\"#0d0887\"],[0.1111111111111111,\"#46039f\"],[0.2222222222222222,\"#7201a8\"],[0.3333333333333333,\"#9c179e\"],[0.4444444444444444,\"#bd3786\"],[0.5555555555555556,\"#d8576b\"],[0.6666666666666666,\"#ed7953\"],[0.7777777777777778,\"#fb9f3a\"],[0.8888888888888888,\"#fdca26\"],[1.0,\"#f0f921\"]]}],\"choropleth\":[{\"type\":\"choropleth\",\"colorbar\":{\"outlinewidth\":0,\"ticks\":\"\"}}],\"histogram2d\":[{\"type\":\"histogram2d\",\"colorbar\":{\"outlinewidth\":0,\"ticks\":\"\"},\"colorscale\":[[0.0,\"#0d0887\"],[0.1111111111111111,\"#46039f\"],[0.2222222222222222,\"#7201a8\"],[0.3333333333333333,\"#9c179e\"],[0.4444444444444444,\"#bd3786\"],[0.5555555555555556,\"#d8576b\"],[0.6666666666666666,\"#ed7953\"],[0.7777777777777778,\"#fb9f3a\"],[0.8888888888888888,\"#fdca26\"],[1.0,\"#f0f921\"]]}],\"heatmap\":[{\"type\":\"heatmap\",\"colorbar\":{\"outlinewidth\":0,\"ticks\":\"\"},\"colorscale\":[[0.0,\"#0d0887\"],[0.1111111111111111,\"#46039f\"],[0.2222222222222222,\"#7201a8\"],[0.3333333333333333,\"#9c179e\"],[0.4444444444444444,\"#bd3786\"],[0.5555555555555556,\"#d8576b\"],[0.6666666666666666,\"#ed7953\"],[0.7777777777777778,\"#fb9f3a\"],[0.8888888888888888,\"#fdca26\"],[1.0,\"#f0f921\"]]}],\"heatmapgl\":[{\"type\":\"heatmapgl\",\"colorbar\":{\"outlinewidth\":0,\"ticks\":\"\"},\"colorscale\":[[0.0,\"#0d0887\"],[0.1111111111111111,\"#46039f\"],[0.2222222222222222,\"#7201a8\"],[0.3333333333333333,\"#9c179e\"],[0.4444444444444444,\"#bd3786\"],[0.5555555555555556,\"#d8576b\"],[0.6666666666666666,\"#ed7953\"],[0.7777777777777778,\"#fb9f3a\"],[0.8888888888888888,\"#fdca26\"],[1.0,\"#f0f921\"]]}],\"contourcarpet\":[{\"type\":\"contourcarpet\",\"colorbar\":{\"outlinewidth\":0,\"ticks\":\"\"}}],\"contour\":[{\"type\":\"contour\",\"colorbar\":{\"outlinewidth\":0,\"ticks\":\"\"},\"colorscale\":[[0.0,\"#0d0887\"],[0.1111111111111111,\"#46039f\"],[0.2222222222222222,\"#7201a8\"],[0.3333333333333333,\"#9c179e\"],[0.4444444444444444,\"#bd3786\"],[0.5555555555555556,\"#d8576b\"],[0.6666666666666666,\"#ed7953\"],[0.7777777777777778,\"#fb9f3a\"],[0.8888888888888888,\"#fdca26\"],[1.0,\"#f0f921\"]]}],\"surface\":[{\"type\":\"surface\",\"colorbar\":{\"outlinewidth\":0,\"ticks\":\"\"},\"colorscale\":[[0.0,\"#0d0887\"],[0.1111111111111111,\"#46039f\"],[0.2222222222222222,\"#7201a8\"],[0.3333333333333333,\"#9c179e\"],[0.4444444444444444,\"#bd3786\"],[0.5555555555555556,\"#d8576b\"],[0.6666666666666666,\"#ed7953\"],[0.7777777777777778,\"#fb9f3a\"],[0.8888888888888888,\"#fdca26\"],[1.0,\"#f0f921\"]]}],\"mesh3d\":[{\"type\":\"mesh3d\",\"colorbar\":{\"outlinewidth\":0,\"ticks\":\"\"}}],\"scatter\":[{\"fillpattern\":{\"fillmode\":\"overlay\",\"size\":10,\"solidity\":0.2},\"type\":\"scatter\"}],\"parcoords\":[{\"type\":\"parcoords\",\"line\":{\"colorbar\":{\"outlinewidth\":0,\"ticks\":\"\"}}}],\"scatterpolargl\":[{\"type\":\"scatterpolargl\",\"marker\":{\"colorbar\":{\"outlinewidth\":0,\"ticks\":\"\"}}}],\"bar\":[{\"error_x\":{\"color\":\"#2a3f5f\"},\"error_y\":{\"color\":\"#2a3f5f\"},\"marker\":{\"line\":{\"color\":\"#E5ECF6\",\"width\":0.5},\"pattern\":{\"fillmode\":\"overlay\",\"size\":10,\"solidity\":0.2}},\"type\":\"bar\"}],\"scattergeo\":[{\"type\":\"scattergeo\",\"marker\":{\"colorbar\":{\"outlinewidth\":0,\"ticks\":\"\"}}}],\"scatterpolar\":[{\"type\":\"scatterpolar\",\"marker\":{\"colorbar\":{\"outlinewidth\":0,\"ticks\":\"\"}}}],\"histogram\":[{\"marker\":{\"pattern\":{\"fillmode\":\"overlay\",\"size\":10,\"solidity\":0.2}},\"type\":\"histogram\"}],\"scattergl\":[{\"type\":\"scattergl\",\"marker\":{\"colorbar\":{\"outlinewidth\":0,\"ticks\":\"\"}}}],\"scatter3d\":[{\"type\":\"scatter3d\",\"line\":{\"colorbar\":{\"outlinewidth\":0,\"ticks\":\"\"}},\"marker\":{\"colorbar\":{\"outlinewidth\":0,\"ticks\":\"\"}}}],\"scattermapbox\":[{\"type\":\"scattermapbox\",\"marker\":{\"colorbar\":{\"outlinewidth\":0,\"ticks\":\"\"}}}],\"scatterternary\":[{\"type\":\"scatterternary\",\"marker\":{\"colorbar\":{\"outlinewidth\":0,\"ticks\":\"\"}}}],\"scattercarpet\":[{\"type\":\"scattercarpet\",\"marker\":{\"colorbar\":{\"outlinewidth\":0,\"ticks\":\"\"}}}],\"carpet\":[{\"aaxis\":{\"endlinecolor\":\"#2a3f5f\",\"gridcolor\":\"white\",\"linecolor\":\"white\",\"minorgridcolor\":\"white\",\"startlinecolor\":\"#2a3f5f\"},\"baxis\":{\"endlinecolor\":\"#2a3f5f\",\"gridcolor\":\"white\",\"linecolor\":\"white\",\"minorgridcolor\":\"white\",\"startlinecolor\":\"#2a3f5f\"},\"type\":\"carpet\"}],\"table\":[{\"cells\":{\"fill\":{\"color\":\"#EBF0F8\"},\"line\":{\"color\":\"white\"}},\"header\":{\"fill\":{\"color\":\"#C8D4E3\"},\"line\":{\"color\":\"white\"}},\"type\":\"table\"}],\"barpolar\":[{\"marker\":{\"line\":{\"color\":\"#E5ECF6\",\"width\":0.5},\"pattern\":{\"fillmode\":\"overlay\",\"size\":10,\"solidity\":0.2}},\"type\":\"barpolar\"}],\"pie\":[{\"automargin\":true,\"type\":\"pie\"}]},\"layout\":{\"autotypenumbers\":\"strict\",\"colorway\":[\"#636efa\",\"#EF553B\",\"#00cc96\",\"#ab63fa\",\"#FFA15A\",\"#19d3f3\",\"#FF6692\",\"#B6E880\",\"#FF97FF\",\"#FECB52\"],\"font\":{\"color\":\"#2a3f5f\"},\"hovermode\":\"closest\",\"hoverlabel\":{\"align\":\"left\"},\"paper_bgcolor\":\"white\",\"plot_bgcolor\":\"#E5ECF6\",\"polar\":{\"bgcolor\":\"#E5ECF6\",\"angularaxis\":{\"gridcolor\":\"white\",\"linecolor\":\"white\",\"ticks\":\"\"},\"radialaxis\":{\"gridcolor\":\"white\",\"linecolor\":\"white\",\"ticks\":\"\"}},\"ternary\":{\"bgcolor\":\"#E5ECF6\",\"aaxis\":{\"gridcolor\":\"white\",\"linecolor\":\"white\",\"ticks\":\"\"},\"baxis\":{\"gridcolor\":\"white\",\"linecolor\":\"white\",\"ticks\":\"\"},\"caxis\":{\"gridcolor\":\"white\",\"linecolor\":\"white\",\"ticks\":\"\"}},\"coloraxis\":{\"colorbar\":{\"outlinewidth\":0,\"ticks\":\"\"}},\"colorscale\":{\"sequential\":[[0.0,\"#0d0887\"],[0.1111111111111111,\"#46039f\"],[0.2222222222222222,\"#7201a8\"],[0.3333333333333333,\"#9c179e\"],[0.4444444444444444,\"#bd3786\"],[0.5555555555555556,\"#d8576b\"],[0.6666666666666666,\"#ed7953\"],[0.7777777777777778,\"#fb9f3a\"],[0.8888888888888888,\"#fdca26\"],[1.0,\"#f0f921\"]],\"sequentialminus\":[[0.0,\"#0d0887\"],[0.1111111111111111,\"#46039f\"],[0.2222222222222222,\"#7201a8\"],[0.3333333333333333,\"#9c179e\"],[0.4444444444444444,\"#bd3786\"],[0.5555555555555556,\"#d8576b\"],[0.6666666666666666,\"#ed7953\"],[0.7777777777777778,\"#fb9f3a\"],[0.8888888888888888,\"#fdca26\"],[1.0,\"#f0f921\"]],\"diverging\":[[0,\"#8e0152\"],[0.1,\"#c51b7d\"],[0.2,\"#de77ae\"],[0.3,\"#f1b6da\"],[0.4,\"#fde0ef\"],[0.5,\"#f7f7f7\"],[0.6,\"#e6f5d0\"],[0.7,\"#b8e186\"],[0.8,\"#7fbc41\"],[0.9,\"#4d9221\"],[1,\"#276419\"]]},\"xaxis\":{\"gridcolor\":\"white\",\"linecolor\":\"white\",\"ticks\":\"\",\"title\":{\"standoff\":15},\"zerolinecolor\":\"white\",\"automargin\":true,\"zerolinewidth\":2},\"yaxis\":{\"gridcolor\":\"white\",\"linecolor\":\"white\",\"ticks\":\"\",\"title\":{\"standoff\":15},\"zerolinecolor\":\"white\",\"automargin\":true,\"zerolinewidth\":2},\"scene\":{\"xaxis\":{\"backgroundcolor\":\"#E5ECF6\",\"gridcolor\":\"white\",\"linecolor\":\"white\",\"showbackground\":true,\"ticks\":\"\",\"zerolinecolor\":\"white\",\"gridwidth\":2},\"yaxis\":{\"backgroundcolor\":\"#E5ECF6\",\"gridcolor\":\"white\",\"linecolor\":\"white\",\"showbackground\":true,\"ticks\":\"\",\"zerolinecolor\":\"white\",\"gridwidth\":2},\"zaxis\":{\"backgroundcolor\":\"#E5ECF6\",\"gridcolor\":\"white\",\"linecolor\":\"white\",\"showbackground\":true,\"ticks\":\"\",\"zerolinecolor\":\"white\",\"gridwidth\":2}},\"shapedefaults\":{\"line\":{\"color\":\"#2a3f5f\"}},\"annotationdefaults\":{\"arrowcolor\":\"#2a3f5f\",\"arrowhead\":0,\"arrowwidth\":1},\"geo\":{\"bgcolor\":\"white\",\"landcolor\":\"#E5ECF6\",\"subunitcolor\":\"white\",\"showland\":true,\"showlakes\":true,\"lakecolor\":\"white\"},\"title\":{\"x\":0.05},\"mapbox\":{\"style\":\"light\"}}},\"xaxis\":{\"anchor\":\"y\",\"domain\":[0.0,1.0],\"title\":{\"text\":\"Metric\"},\"categoryorder\":\"array\",\"categoryarray\":[\"building_permit_count\",\"population\"],\"showgrid\":true,\"gridcolor\":\"lightgrey\"},\"yaxis\":{\"anchor\":\"x\",\"domain\":[0.0,1.0],\"title\":{\"text\":\"Count\"},\"showgrid\":true,\"gridcolor\":\"lightgrey\"},\"legend\":{\"title\":{\"text\":\"Metric\"},\"tracegroupgap\":0},\"title\":{\"text\":\"Outlier Detection: Building Permits and Population\"},\"boxmode\":\"overlay\",\"plot_bgcolor\":\"white\"},                        {\"responsive\": true}                    ).then(function(){\n",
       "                            \n",
       "var gd = document.getElementById('85689f03-26f7-412f-ab7c-6fc6ca7a056d');\n",
       "var x = new MutationObserver(function (mutations, observer) {{\n",
       "        var display = window.getComputedStyle(gd).display;\n",
       "        if (!display || display === 'none') {{\n",
       "            console.log([gd, 'removed!']);\n",
       "            Plotly.purge(gd);\n",
       "            observer.disconnect();\n",
       "        }}\n",
       "}});\n",
       "\n",
       "// Listen for the removal of the full notebook cells\n",
       "var notebookContainer = gd.closest('#notebook-container');\n",
       "if (notebookContainer) {{\n",
       "    x.observe(notebookContainer, {childList: true});\n",
       "}}\n",
       "\n",
       "// Listen for the clearing of the current output cell\n",
       "var outputEl = gd.closest('.output');\n",
       "if (outputEl) {{\n",
       "    x.observe(outputEl, {childList: true});\n",
       "}}\n",
       "\n",
       "                        })                };                });            </script>        </div>"
      ]
     },
     "metadata": {},
     "output_type": "display_data"
    }
   ],
   "source": [
    "\n",
    "# Calculate year-over-year growth\n",
    "analysis_df['permit_growth'] = analysis_df['building_permit_count'].pct_change() * 100\n",
    "analysis_df['population_growth'] = analysis_df['population'].pct_change() * 100\n",
    "\n",
    "# Melt the DataFrame to long format for Plotly Express\n",
    "melted_df = pd.melt(analysis_df, id_vars=['year'], value_vars=['building_permit_count', 'population'],\n",
    "                    var_name='Metric', value_name='Count')\n",
    "\n",
    "# Custom colors\n",
    "colors = px.colors.qualitative.Plotly\n",
    "\n",
    "# Interactive line plot for trend analysis\n",
    "fig1 = px.line(melted_df, x='year', y='Count', color='Metric', \n",
    "               title='Trend Analysis: Building Permits and Population Over the Years',\n",
    "               labels={'Count': 'Count', 'year': 'Year'}, \n",
    "               markers=True,\n",
    "               color_discrete_sequence=colors)\n",
    "fig1.update_layout(legend_title_text='Metric', \n",
    "                   plot_bgcolor='white',\n",
    "                   xaxis=dict(showgrid=True, gridcolor='lightgrey'),\n",
    "                   yaxis=dict(showgrid=True, gridcolor='lightgrey'))\n",
    "\n",
    "# Interactive scatter plot for correlation analysis\n",
    "fig2 = px.scatter(analysis_df, x='building_permit_count', y='population', color='year',\n",
    "                  title='Correlation Analysis: Building Permits vs Population',\n",
    "                  labels={'building_permit_count': 'Building Permit Count', 'population': 'Population'},\n",
    "                  hover_data={'year': True},\n",
    "                  color_continuous_scale='Viridis')\n",
    "\n",
    "# Add annotation for correlation coefficient above the plot\n",
    "fig2.add_annotation(\n",
    "    x=0.5, y=1.15,\n",
    "    xref='paper', yref='paper',\n",
    "    text=f'Correlation: {correlation:.2f}',\n",
    "    showarrow=False,\n",
    "    font=dict(size=14, color=\"black\"),\n",
    "    align='center',\n",
    ")\n",
    "\n",
    "fig2.update_layout(plot_bgcolor='white',\n",
    "                   xaxis=dict(showgrid=True, gridcolor='lightgrey'),\n",
    "                   yaxis=dict(showgrid=True, gridcolor='lightgrey'))\n",
    "\n",
    "# Interactive bar plot for year-over-year growth\n",
    "fig3 = go.Figure()\n",
    "fig3.add_trace(go.Bar(x=analysis_df['year'], y=analysis_df['permit_growth'], name='Permit Growth',hovertemplate='Year: %{x}<br>Permit Growth: %{y:.2f}%<extra></extra>', marker_color=colors[0]))\n",
    "fig3.add_trace(go.Bar(x=analysis_df['year'], y=analysis_df['population_growth'], name='Population Growth',hovertemplate='Year: %{x}<br>Population Growth: %{y:.2f}%<extra></extra>', marker_color=colors[1]))\n",
    "fig3.update_layout(title='Year-over-Year Growth Rate',\n",
    "                   xaxis_title='Year',\n",
    "                   yaxis_title='Growth Rate (%)',\n",
    "                   barmode='group',\n",
    "                   plot_bgcolor='white',\n",
    "                   xaxis=dict(showgrid=True, gridcolor='lightgrey'),\n",
    "                   yaxis=dict(showgrid=True, gridcolor='lightgrey'))\n",
    "\n",
    "# Interactive box plot for outlier detection\n",
    "fig4 = px.box(melted_df, x='Metric', y='Count',\n",
    "              title='Outlier Detection: Building Permits and Population',\n",
    "              labels={'Count': 'Count'},\n",
    "              points='all',\n",
    "              color='Metric',\n",
    "              color_discrete_sequence=colors)\n",
    "fig4.update_layout(plot_bgcolor='white',\n",
    "                   xaxis=dict(showgrid=True, gridcolor='lightgrey'),\n",
    "                   yaxis=dict(showgrid=True, gridcolor='lightgrey'))\n",
    "\n",
    "# Show plots in Jupyter Notebook\n",
    "fig1.show()\n",
    "fig2.show()\n",
    "fig3.show()\n",
    "fig4.show()"
   ]
  },
  {
   "cell_type": "code",
   "execution_count": null,
   "metadata": {},
   "outputs": [],
   "source": []
  },
  {
   "cell_type": "code",
   "execution_count": null,
   "metadata": {},
   "outputs": [],
   "source": []
  },
  {
   "cell_type": "code",
   "execution_count": null,
   "metadata": {},
   "outputs": [],
   "source": []
  },
  {
   "cell_type": "code",
   "execution_count": null,
   "metadata": {},
   "outputs": [],
   "source": []
  }
 ],
 "metadata": {
  "kernelspec": {
   "display_name": "Python 3 (ipykernel)",
   "language": "python",
   "name": "python3"
  },
  "language_info": {
   "codemirror_mode": {
    "name": "ipython",
    "version": 3
   },
   "file_extension": ".py",
   "mimetype": "text/x-python",
   "name": "python",
   "nbconvert_exporter": "python",
   "pygments_lexer": "ipython3",
   "version": "3.12.3"
  }
 },
 "nbformat": 4,
 "nbformat_minor": 4
}

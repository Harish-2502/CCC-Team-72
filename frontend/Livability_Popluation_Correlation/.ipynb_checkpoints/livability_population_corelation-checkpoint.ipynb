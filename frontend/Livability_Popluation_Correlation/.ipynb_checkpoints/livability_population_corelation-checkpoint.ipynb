{
 "cells": [
  {
   "cell_type": "markdown",
   "id": "2352e8d1-ef61-4131-920a-cfd6fda50e58",
   "metadata": {},
   "source": [
    "### This notebook understands  and visualise the correlation of  livability percentage of melbourne with the population of melbourne ."
   ]
  },
  {
   "cell_type": "code",
   "execution_count": 22,
   "id": "6f54a9bf-64c2-458d-82e1-23827917c803",
   "metadata": {},
   "outputs": [],
   "source": [
    "# Load libraries\n",
    "import pandas as pd\n",
    "import numpy as np\n",
    "import seaborn as sns\n",
    "import matplotlib.pyplot as plt\n",
    "import statsmodels.formula.api as smf\n",
    "from statsmodels.formula.api import ols\n",
    "from statsmodels.stats.api import anova_lm\n",
    "from scipy.stats import pearsonr\n",
    "import statsmodels.api as sm\n",
    "import plotly.express as px\n",
    "import plotly.graph_objs as go\n",
    "from elasticsearch import Elasticsearch"
   ]
  },
  {
   "cell_type": "markdown",
   "id": "2859f9e7-b292-4c24-82ef-77840b515625",
   "metadata": {},
   "source": [
    "## Data processing\n",
    "\n",
    "\n",
    "\n",
    "### Response variable: Regional population dataset\n",
    "\n",
    "This dataset contains the population related information in Victoria, ranging from births, deaths to migration.\n",
    "The key feature that we're interested in is the erp_YYYY column, which holds the estimated regional population for Melbourne\n"
   ]
  },
  {
   "cell_type": "code",
   "execution_count": 23,
   "id": "c92343f7-8f93-4c24-b5d9-7e5c15ee6a6e",
   "metadata": {},
   "outputs": [],
   "source": [
    "\n",
    "INDEX_NAME = \"abs-regional_population_lga_2001-2021\"\n",
    "\n",
    "es_client = Elasticsearch (\n",
    "        'https://localhost:9200',\n",
    "        verify_certs= False,\n",
    "        ssl_show_warn= False,\n",
    "        basic_auth=('elastic', 'elastic')\n",
    "    )\n",
    "es_client.indices.refresh(index=INDEX_NAME)\n",
    "result = es_client.search(index=INDEX_NAME, body = {\n",
    "'size' : 1000,\n",
    "'query': {\n",
    "    'match_all' : {}\n",
    "}\n",
    "})\n",
    "\n",
    "\n",
    "es_data = []\n",
    "for doc in result['hits']['hits']:\n",
    "    es_data.append(doc['_source'])\n",
    "response = pd.DataFrame(es_data)\n",
    "\n",
    "\n"
   ]
  },
  {
   "cell_type": "markdown",
   "id": "1c01a8b2-0db2-4b88-a5ec-c82aa6d743c6",
   "metadata": {},
   "source": [
    "\n",
    "### Cleaning up of response dataset\n",
    "For retriving data of region = melbourne"
   ]
  },
  {
   "cell_type": "code",
   "execution_count": 24,
   "id": "ec2fa445-fec7-4bad-b582-e2bbd7e2fc50",
   "metadata": {},
   "outputs": [],
   "source": [
    "# Remove spacing from column names\n",
    "\n",
    "response.columns = response.columns.str.replace(' ', '')"
   ]
  },
  {
   "cell_type": "code",
   "execution_count": 25,
   "id": "de6c08ad-76a7-404a-8d69-1cd3c0a6e7bb",
   "metadata": {},
   "outputs": [],
   "source": [
    "# Get all key columns for our response dataset. The years range from 2011 to 2021, inclusive of start & end. \n",
    "\n",
    "KEY_RESPONSE_COLUMNS = ['lga_name_2021']\n",
    "\n",
    "for i in range(2011, 2022):\n",
    "    key_column = f\"erp_{i}\"\n",
    "    KEY_RESPONSE_COLUMNS.append(key_column)\n",
    "    "
   ]
  },
  {
   "cell_type": "code",
   "execution_count": 26,
   "id": "8ddc0e91-ff87-4421-bfc4-7e0dfb9401e5",
   "metadata": {},
   "outputs": [],
   "source": [
    "# Pick out row 7 to turn into dataframe ( melbourne)\n",
    "\n",
    "response_clean = pd.DataFrame(response[KEY_RESPONSE_COLUMNS].iloc[7]).reset_index()"
   ]
  },
  {
   "cell_type": "code",
   "execution_count": 27,
   "id": "f9bf2b26-12b0-4d33-9100-7380368b87fe",
   "metadata": {},
   "outputs": [],
   "source": [
    "# Rename and clean columns\n",
    "\n",
    "response_clean = response_clean.rename(columns={'index': 'year', 7: 'population'})\n",
    "response_clean = response_clean.iloc[1:] # Remove unnceessary row\n",
    "response_clean['year'] = response_clean['year'].str.removeprefix('erp_')\n",
    "response_clean['year'] = response_clean['year'].astype(int)"
   ]
  },
  {
   "cell_type": "code",
   "execution_count": 28,
   "id": "a9f2cf6e-d0eb-4285-93d9-01b49463a15b",
   "metadata": {},
   "outputs": [
    {
     "data": {
      "text/html": [
       "<div>\n",
       "<style scoped>\n",
       "    .dataframe tbody tr th:only-of-type {\n",
       "        vertical-align: middle;\n",
       "    }\n",
       "\n",
       "    .dataframe tbody tr th {\n",
       "        vertical-align: top;\n",
       "    }\n",
       "\n",
       "    .dataframe thead th {\n",
       "        text-align: right;\n",
       "    }\n",
       "</style>\n",
       "<table border=\"1\" class=\"dataframe\">\n",
       "  <thead>\n",
       "    <tr style=\"text-align: right;\">\n",
       "      <th></th>\n",
       "      <th>year</th>\n",
       "      <th>population</th>\n",
       "    </tr>\n",
       "  </thead>\n",
       "  <tbody>\n",
       "    <tr>\n",
       "      <th>1</th>\n",
       "      <td>2011</td>\n",
       "      <td>87395</td>\n",
       "    </tr>\n",
       "    <tr>\n",
       "      <th>2</th>\n",
       "      <td>2012</td>\n",
       "      <td>88339</td>\n",
       "    </tr>\n",
       "    <tr>\n",
       "      <th>3</th>\n",
       "      <td>2013</td>\n",
       "      <td>89188</td>\n",
       "    </tr>\n",
       "    <tr>\n",
       "      <th>4</th>\n",
       "      <td>2014</td>\n",
       "      <td>90417</td>\n",
       "    </tr>\n",
       "    <tr>\n",
       "      <th>5</th>\n",
       "      <td>2015</td>\n",
       "      <td>91674</td>\n",
       "    </tr>\n",
       "    <tr>\n",
       "      <th>6</th>\n",
       "      <td>2016</td>\n",
       "      <td>93445</td>\n",
       "    </tr>\n",
       "    <tr>\n",
       "      <th>7</th>\n",
       "      <td>2017</td>\n",
       "      <td>95071</td>\n",
       "    </tr>\n",
       "    <tr>\n",
       "      <th>8</th>\n",
       "      <td>2018</td>\n",
       "      <td>96481</td>\n",
       "    </tr>\n",
       "    <tr>\n",
       "      <th>9</th>\n",
       "      <td>2019</td>\n",
       "      <td>97765</td>\n",
       "    </tr>\n",
       "    <tr>\n",
       "      <th>10</th>\n",
       "      <td>2020</td>\n",
       "      <td>98146</td>\n",
       "    </tr>\n",
       "    <tr>\n",
       "      <th>11</th>\n",
       "      <td>2021</td>\n",
       "      <td>96317</td>\n",
       "    </tr>\n",
       "  </tbody>\n",
       "</table>\n",
       "</div>"
      ],
      "text/plain": [
       "    year population\n",
       "1   2011      87395\n",
       "2   2012      88339\n",
       "3   2013      89188\n",
       "4   2014      90417\n",
       "5   2015      91674\n",
       "6   2016      93445\n",
       "7   2017      95071\n",
       "8   2018      96481\n",
       "9   2019      97765\n",
       "10  2020      98146\n",
       "11  2021      96317"
      ]
     },
     "execution_count": 28,
     "metadata": {},
     "output_type": "execute_result"
    }
   ],
   "source": [
    "response_clean"
   ]
  },
  {
   "cell_type": "markdown",
   "id": "1f4734e3-b401-4fd2-aaba-43f2d3f59cb1",
   "metadata": {},
   "source": [
    "## liviablility dataset"
   ]
  },
  {
   "cell_type": "code",
   "execution_count": 29,
   "id": "d2e12668-e250-4599-a01f-41d894dafafe",
   "metadata": {},
   "outputs": [],
   "source": [
    "\n",
    "INDEX_NAME = \"liveability-index\"\n",
    "\n",
    "es_client = Elasticsearch (\n",
    "        'https://localhost:9200',\n",
    "        verify_certs= False,\n",
    "        ssl_show_warn= False,\n",
    "        basic_auth=('elastic', 'elastic')\n",
    "    )\n",
    "es_client.indices.refresh(index=INDEX_NAME)\n",
    "result = es_client.search(index=INDEX_NAME, body = {\n",
    "'size' : 1000,\n",
    "'query': {\n",
    "    'match_all' : {}\n",
    "}\n",
    "})\n",
    "\n",
    "\n",
    "es_data = []\n",
    "for doc in result['hits']['hits']:\n",
    "    es_data.append(doc['_source'])\n",
    "liveability = pd.DataFrame(es_data)\n",
    "\n",
    "\n"
   ]
  },
  {
   "cell_type": "markdown",
   "id": "ad319ed4-4a50-4ab6-907d-0471151b9bbc",
   "metadata": {},
   "source": [
    "# cleaning liveablity dataset\n",
    "Firstly, we need to be able to condense both of the datasets into year so that we can model easier. For the liveability score, we'll combine numerator + denominator for a whole year, then calculate a new percentage for said year. Further, we only want percentages for our dataset since counts will not give us any relevant predictions, as we do not need to create a model but rather see some correlation between the 2 datasets"
   ]
  },
  {
   "cell_type": "code",
   "execution_count": 30,
   "id": "2249d4f1-a8fb-4dc1-8602-11bbc00381a9",
   "metadata": {},
   "outputs": [
    {
     "data": {
      "text/plain": [
       "{'Economy',\n",
       " 'Finance',\n",
       " 'Governance',\n",
       " 'Profile - housing, government and economy',\n",
       " 'Profile - people',\n",
       " 'Transportation'}"
      ]
     },
     "execution_count": 30,
     "metadata": {},
     "output_type": "execute_result"
    }
   ],
   "source": [
    "# Get the subset of the dataframe with the data we want\n",
    "\n",
    "liveability = liveability[liveability['type'] == 'Liveability']\n",
    "liveability = liveability[liveability['value_type'] == 'Percentage']\n",
    "liveability['period'] = liveability['period'].str.extract(r'(\\d{4})')\n",
    "set(liveability['topic']) "
   ]
  },
  {
   "cell_type": "code",
   "execution_count": 31,
   "id": "1ececba1-57f0-414f-89a4-f6123199ae63",
   "metadata": {},
   "outputs": [],
   "source": [
    "# Then remove all NaN values\n",
    "\n",
    "# Replace 'N/A' and other similar variations with NaN\n",
    "\n",
    "liveability.replace(['N/A', 'n/a', 'NA'], pd.NA, inplace=True)\n",
    "\n",
    "\n",
    "liveability = liveability.dropna(subset=['numerator', 'denominator'])\n",
    "\n"
   ]
  },
  {
   "cell_type": "code",
   "execution_count": 32,
   "id": "c41b99cd-65b0-40c5-989d-ffbcfbdf4776",
   "metadata": {},
   "outputs": [
    {
     "data": {
      "text/html": [
       "<div>\n",
       "<style scoped>\n",
       "    .dataframe tbody tr th:only-of-type {\n",
       "        vertical-align: middle;\n",
       "    }\n",
       "\n",
       "    .dataframe tbody tr th {\n",
       "        vertical-align: top;\n",
       "    }\n",
       "\n",
       "    .dataframe thead th {\n",
       "        text-align: right;\n",
       "    }\n",
       "</style>\n",
       "<table border=\"1\" class=\"dataframe\">\n",
       "  <thead>\n",
       "    <tr style=\"text-align: right;\">\n",
       "      <th></th>\n",
       "      <th>type</th>\n",
       "      <th>topic</th>\n",
       "      <th>id</th>\n",
       "      <th>indicator</th>\n",
       "      <th>period</th>\n",
       "      <th>numerator</th>\n",
       "      <th>denominator</th>\n",
       "      <th>value</th>\n",
       "      <th>value_type</th>\n",
       "      <th>sources</th>\n",
       "    </tr>\n",
       "  </thead>\n",
       "  <tbody>\n",
       "    <tr>\n",
       "      <th>0</th>\n",
       "      <td>Liveability</td>\n",
       "      <td>Economy</td>\n",
       "      <td>ECO_2</td>\n",
       "      <td>Assessed value of commercial and industrial pr...</td>\n",
       "      <td>2015</td>\n",
       "      <td>48,331,069,777.00</td>\n",
       "      <td>101,671,404,180.00</td>\n",
       "      <td>47.540</td>\n",
       "      <td>Percentage</td>\n",
       "      <td>City of Melbourne, Property Services, 2015-2018</td>\n",
       "    </tr>\n",
       "    <tr>\n",
       "      <th>1</th>\n",
       "      <td>Liveability</td>\n",
       "      <td>Economy</td>\n",
       "      <td>ECO_4</td>\n",
       "      <td>Percentage of persons (city population) in ful...</td>\n",
       "      <td>2017</td>\n",
       "      <td>68,722</td>\n",
       "      <td>159,141</td>\n",
       "      <td>43.180</td>\n",
       "      <td>Percentage</td>\n",
       "      <td>Geografia, Relative Poverty and Employment Mea...</td>\n",
       "    </tr>\n",
       "    <tr>\n",
       "      <th>2</th>\n",
       "      <td>Liveability</td>\n",
       "      <td>Finance</td>\n",
       "      <td>FIN_1</td>\n",
       "      <td>Debt service ratio (debt service expenditure a...</td>\n",
       "      <td>2017</td>\n",
       "      <td>995,000.00</td>\n",
       "      <td>420,287,000.00</td>\n",
       "      <td>0.237</td>\n",
       "      <td>Percentage</td>\n",
       "      <td>1-3. City of Melbourne Annual Report 2017-18; ...</td>\n",
       "    </tr>\n",
       "    <tr>\n",
       "      <th>3</th>\n",
       "      <td>Liveability</td>\n",
       "      <td>Finance</td>\n",
       "      <td>FIN_2</td>\n",
       "      <td>Capital spending as a percentage of total expe...</td>\n",
       "      <td>2016</td>\n",
       "      <td>78,325,000.00</td>\n",
       "      <td>492,430,000.00</td>\n",
       "      <td>15.910</td>\n",
       "      <td>Percentage</td>\n",
       "      <td>1-3. City of Melbourne Annual Report 2017-18; ...</td>\n",
       "    </tr>\n",
       "    <tr>\n",
       "      <th>4</th>\n",
       "      <td>Liveability</td>\n",
       "      <td>Finance</td>\n",
       "      <td>FIN_4</td>\n",
       "      <td>Tax collected as a percentage of tax billed</td>\n",
       "      <td>2014</td>\n",
       "      <td>228,981,000.00</td>\n",
       "      <td>226,920,000.00</td>\n",
       "      <td>100.910</td>\n",
       "      <td>Percentage</td>\n",
       "      <td>1-3. City of Melbourne Annual Report 2017-18; ...</td>\n",
       "    </tr>\n",
       "    <tr>\n",
       "      <th>...</th>\n",
       "      <td>...</td>\n",
       "      <td>...</td>\n",
       "      <td>...</td>\n",
       "      <td>...</td>\n",
       "      <td>...</td>\n",
       "      <td>...</td>\n",
       "      <td>...</td>\n",
       "      <td>...</td>\n",
       "      <td>...</td>\n",
       "      <td>...</td>\n",
       "    </tr>\n",
       "    <tr>\n",
       "      <th>292</th>\n",
       "      <td>Liveability</td>\n",
       "      <td>Governance</td>\n",
       "      <td>GOV_5</td>\n",
       "      <td>Number of registered voters as a percentage of...</td>\n",
       "      <td>2012</td>\n",
       "      <td>108,434</td>\n",
       "      <td>85,413</td>\n",
       "      <td>126.950</td>\n",
       "      <td>Percentage</td>\n",
       "      <td>1. Victorian Electoral Commission, 2017 (obtai...</td>\n",
       "    </tr>\n",
       "    <tr>\n",
       "      <th>302</th>\n",
       "      <td>Liveability</td>\n",
       "      <td>Profile - people</td>\n",
       "      <td>PROP_10</td>\n",
       "      <td>Percentage of population that are adults (25-6...</td>\n",
       "      <td>2015</td>\n",
       "      <td>78,797</td>\n",
       "      <td>136,872</td>\n",
       "      <td>57.570</td>\n",
       "      <td>Percentage</td>\n",
       "      <td>1. Australian Bureau of Statistics, 3235.0 Reg...</td>\n",
       "    </tr>\n",
       "    <tr>\n",
       "      <th>304</th>\n",
       "      <td>Liveability</td>\n",
       "      <td>Profile - people</td>\n",
       "      <td>PROP_5</td>\n",
       "      <td>Percentage of population that are seniors (65+)</td>\n",
       "      <td>2016</td>\n",
       "      <td>9,709</td>\n",
       "      <td>146,096</td>\n",
       "      <td>6.650</td>\n",
       "      <td>Percentage</td>\n",
       "      <td>Australian Bureau of Statistics, Census of Pop...</td>\n",
       "    </tr>\n",
       "    <tr>\n",
       "      <th>305</th>\n",
       "      <td>Liveability</td>\n",
       "      <td>Profile - people</td>\n",
       "      <td>PROP_8</td>\n",
       "      <td>Percentage of population that are new immigrants</td>\n",
       "      <td>2016</td>\n",
       "      <td>40,433</td>\n",
       "      <td>135,959</td>\n",
       "      <td>29.740</td>\n",
       "      <td>Percentage</td>\n",
       "      <td>Australian Bureau of Statistics, Census of Pop...</td>\n",
       "    </tr>\n",
       "    <tr>\n",
       "      <th>306</th>\n",
       "      <td>Liveability</td>\n",
       "      <td>Profile - people</td>\n",
       "      <td>PROP_8</td>\n",
       "      <td>Percentage of population that are new immigrants</td>\n",
       "      <td>2006</td>\n",
       "      <td>14,394</td>\n",
       "      <td>71,379</td>\n",
       "      <td>20.170</td>\n",
       "      <td>Percentage</td>\n",
       "      <td>Australian Bureau of Statistics, Census of Pop...</td>\n",
       "    </tr>\n",
       "  </tbody>\n",
       "</table>\n",
       "<p>91 rows × 10 columns</p>\n",
       "</div>"
      ],
      "text/plain": [
       "            type             topic       id  \\\n",
       "0    Liveability           Economy    ECO_2   \n",
       "1    Liveability           Economy    ECO_4   \n",
       "2    Liveability           Finance    FIN_1   \n",
       "3    Liveability           Finance    FIN_2   \n",
       "4    Liveability           Finance    FIN_4   \n",
       "..           ...               ...      ...   \n",
       "292  Liveability        Governance    GOV_5   \n",
       "302  Liveability  Profile - people  PROP_10   \n",
       "304  Liveability  Profile - people   PROP_5   \n",
       "305  Liveability  Profile - people   PROP_8   \n",
       "306  Liveability  Profile - people   PROP_8   \n",
       "\n",
       "                                             indicator period  \\\n",
       "0    Assessed value of commercial and industrial pr...   2015   \n",
       "1    Percentage of persons (city population) in ful...   2017   \n",
       "2    Debt service ratio (debt service expenditure a...   2017   \n",
       "3    Capital spending as a percentage of total expe...   2016   \n",
       "4          Tax collected as a percentage of tax billed   2014   \n",
       "..                                                 ...    ...   \n",
       "292  Number of registered voters as a percentage of...   2012   \n",
       "302  Percentage of population that are adults (25-6...   2015   \n",
       "304    Percentage of population that are seniors (65+)   2016   \n",
       "305   Percentage of population that are new immigrants   2016   \n",
       "306   Percentage of population that are new immigrants   2006   \n",
       "\n",
       "             numerator         denominator    value  value_type  \\\n",
       "0    48,331,069,777.00  101,671,404,180.00   47.540  Percentage   \n",
       "1               68,722             159,141   43.180  Percentage   \n",
       "2           995,000.00      420,287,000.00    0.237  Percentage   \n",
       "3        78,325,000.00      492,430,000.00   15.910  Percentage   \n",
       "4       228,981,000.00      226,920,000.00  100.910  Percentage   \n",
       "..                 ...                 ...      ...         ...   \n",
       "292            108,434              85,413  126.950  Percentage   \n",
       "302             78,797             136,872   57.570  Percentage   \n",
       "304              9,709             146,096    6.650  Percentage   \n",
       "305             40,433             135,959   29.740  Percentage   \n",
       "306             14,394              71,379   20.170  Percentage   \n",
       "\n",
       "                                               sources  \n",
       "0      City of Melbourne, Property Services, 2015-2018  \n",
       "1    Geografia, Relative Poverty and Employment Mea...  \n",
       "2    1-3. City of Melbourne Annual Report 2017-18; ...  \n",
       "3    1-3. City of Melbourne Annual Report 2017-18; ...  \n",
       "4    1-3. City of Melbourne Annual Report 2017-18; ...  \n",
       "..                                                 ...  \n",
       "292  1. Victorian Electoral Commission, 2017 (obtai...  \n",
       "302  1. Australian Bureau of Statistics, 3235.0 Reg...  \n",
       "304  Australian Bureau of Statistics, Census of Pop...  \n",
       "305  Australian Bureau of Statistics, Census of Pop...  \n",
       "306  Australian Bureau of Statistics, Census of Pop...  \n",
       "\n",
       "[91 rows x 10 columns]"
      ]
     },
     "execution_count": 32,
     "metadata": {},
     "output_type": "execute_result"
    }
   ],
   "source": [
    "liveability"
   ]
  },
  {
   "cell_type": "code",
   "execution_count": 33,
   "id": "e3b04a51-484c-46d6-8b78-c7900215038b",
   "metadata": {},
   "outputs": [],
   "source": [
    "# Turn all numerical columns into int for calculation\n",
    "\n",
    "liveability['numerator'] = liveability['numerator'].astype(str).str.replace(',', '').astype(float).astype(int)\n",
    "liveability['denominator'] = liveability['denominator'].astype(str).str.replace(',', '').astype(float).astype(int)"
   ]
  },
  {
   "cell_type": "code",
   "execution_count": 34,
   "id": "e0e3c4f1-1764-4281-bc48-ea1e696ffb2c",
   "metadata": {},
   "outputs": [
    {
     "data": {
      "text/html": [
       "<div>\n",
       "<style scoped>\n",
       "    .dataframe tbody tr th:only-of-type {\n",
       "        vertical-align: middle;\n",
       "    }\n",
       "\n",
       "    .dataframe tbody tr th {\n",
       "        vertical-align: top;\n",
       "    }\n",
       "\n",
       "    .dataframe thead th {\n",
       "        text-align: right;\n",
       "    }\n",
       "</style>\n",
       "<table border=\"1\" class=\"dataframe\">\n",
       "  <thead>\n",
       "    <tr style=\"text-align: right;\">\n",
       "      <th></th>\n",
       "      <th>type</th>\n",
       "      <th>topic</th>\n",
       "      <th>id</th>\n",
       "      <th>indicator</th>\n",
       "      <th>period</th>\n",
       "      <th>numerator</th>\n",
       "      <th>denominator</th>\n",
       "      <th>value</th>\n",
       "      <th>value_type</th>\n",
       "      <th>sources</th>\n",
       "    </tr>\n",
       "  </thead>\n",
       "  <tbody>\n",
       "    <tr>\n",
       "      <th>13</th>\n",
       "      <td>Liveability</td>\n",
       "      <td>Profile - housing, government and economy</td>\n",
       "      <td>PROH_8</td>\n",
       "      <td>Percentage of country GDP</td>\n",
       "      <td>2013</td>\n",
       "      <td>1464955475993</td>\n",
       "      <td>83367000000</td>\n",
       "      <td>5.69</td>\n",
       "      <td>Percentage</td>\n",
       "      <td>1. The World Bank data, GDP (current US$) for ...</td>\n",
       "    </tr>\n",
       "    <tr>\n",
       "      <th>132</th>\n",
       "      <td>Liveability</td>\n",
       "      <td>Profile - housing, government and economy</td>\n",
       "      <td>PROH_8</td>\n",
       "      <td>Percentage of country GDP</td>\n",
       "      <td>2016</td>\n",
       "      <td>1323421072479</td>\n",
       "      <td>73043232000</td>\n",
       "      <td>5.52</td>\n",
       "      <td>Percentage</td>\n",
       "      <td>1. The World Bank data, GDP (current US$) for ...</td>\n",
       "    </tr>\n",
       "    <tr>\n",
       "      <th>133</th>\n",
       "      <td>Liveability</td>\n",
       "      <td>Profile - housing, government and economy</td>\n",
       "      <td>PROH_8</td>\n",
       "      <td>Percentage of country GDP</td>\n",
       "      <td>2015</td>\n",
       "      <td>1208039015868</td>\n",
       "      <td>68408312000</td>\n",
       "      <td>5.66</td>\n",
       "      <td>Percentage</td>\n",
       "      <td>1. The World Bank data, GDP (current US$) for ...</td>\n",
       "    </tr>\n",
       "    <tr>\n",
       "      <th>193</th>\n",
       "      <td>Liveability</td>\n",
       "      <td>Profile - housing, government and economy</td>\n",
       "      <td>PROH_8</td>\n",
       "      <td>Percentage of country GDP</td>\n",
       "      <td>2014</td>\n",
       "      <td>1349034029453</td>\n",
       "      <td>69580800000</td>\n",
       "      <td>5.16</td>\n",
       "      <td>Percentage</td>\n",
       "      <td>1. The World Bank data, GDP (current US$) for ...</td>\n",
       "    </tr>\n",
       "  </tbody>\n",
       "</table>\n",
       "</div>"
      ],
      "text/plain": [
       "            type                                      topic      id  \\\n",
       "13   Liveability  Profile - housing, government and economy  PROH_8   \n",
       "132  Liveability  Profile - housing, government and economy  PROH_8   \n",
       "133  Liveability  Profile - housing, government and economy  PROH_8   \n",
       "193  Liveability  Profile - housing, government and economy  PROH_8   \n",
       "\n",
       "                     indicator period      numerator  denominator  value  \\\n",
       "13   Percentage of country GDP   2013  1464955475993  83367000000   5.69   \n",
       "132  Percentage of country GDP   2016  1323421072479  73043232000   5.52   \n",
       "133  Percentage of country GDP   2015  1208039015868  68408312000   5.66   \n",
       "193  Percentage of country GDP   2014  1349034029453  69580800000   5.16   \n",
       "\n",
       "     value_type                                            sources  \n",
       "13   Percentage  1. The World Bank data, GDP (current US$) for ...  \n",
       "132  Percentage  1. The World Bank data, GDP (current US$) for ...  \n",
       "133  Percentage  1. The World Bank data, GDP (current US$) for ...  \n",
       "193  Percentage  1. The World Bank data, GDP (current US$) for ...  "
      ]
     },
     "execution_count": 34,
     "metadata": {},
     "output_type": "execute_result"
    }
   ],
   "source": [
    "liveability[liveability['indicator'] == 'Percentage of country GDP']"
   ]
  },
  {
   "cell_type": "markdown",
   "id": "3f1004ff-5daf-497c-87ab-154aad551671",
   "metadata": {},
   "source": [
    "After a qucik look, for some reason the numerator & denominator for all GDP related rows are swapped. Further, even if we did swap the columns around for appropriate values, the numbers are much greater than the other values used for calculation, thus adding these values in will skew our data so that the majority of the percentage calculation would come from these 2 rows. Thus, opt to remove these rows"
   ]
  },
  {
   "cell_type": "code",
   "execution_count": 35,
   "id": "cfa690aa-4cff-410f-96da-c9a385742ed2",
   "metadata": {},
   "outputs": [],
   "source": [
    "liveability = liveability[liveability['indicator'] != 'Percentage of country GDP']"
   ]
  },
  {
   "cell_type": "code",
   "execution_count": 36,
   "id": "6759cd15-40ba-4dfb-a562-4c0efddc17e4",
   "metadata": {},
   "outputs": [
    {
     "data": {
      "text/html": [
       "<div>\n",
       "<style scoped>\n",
       "    .dataframe tbody tr th:only-of-type {\n",
       "        vertical-align: middle;\n",
       "    }\n",
       "\n",
       "    .dataframe tbody tr th {\n",
       "        vertical-align: top;\n",
       "    }\n",
       "\n",
       "    .dataframe thead th {\n",
       "        text-align: right;\n",
       "    }\n",
       "</style>\n",
       "<table border=\"1\" class=\"dataframe\">\n",
       "  <thead>\n",
       "    <tr style=\"text-align: right;\">\n",
       "      <th></th>\n",
       "      <th>type</th>\n",
       "      <th>topic</th>\n",
       "      <th>id</th>\n",
       "      <th>indicator</th>\n",
       "      <th>period</th>\n",
       "      <th>numerator</th>\n",
       "      <th>denominator</th>\n",
       "      <th>value</th>\n",
       "      <th>value_type</th>\n",
       "      <th>sources</th>\n",
       "    </tr>\n",
       "  </thead>\n",
       "  <tbody>\n",
       "    <tr>\n",
       "      <th>4</th>\n",
       "      <td>Liveability</td>\n",
       "      <td>Finance</td>\n",
       "      <td>FIN_4</td>\n",
       "      <td>Tax collected as a percentage of tax billed</td>\n",
       "      <td>2014</td>\n",
       "      <td>228981000</td>\n",
       "      <td>226920000</td>\n",
       "      <td>100.91</td>\n",
       "      <td>Percentage</td>\n",
       "      <td>1-3. City of Melbourne Annual Report 2017-18; ...</td>\n",
       "    </tr>\n",
       "    <tr>\n",
       "      <th>73</th>\n",
       "      <td>Liveability</td>\n",
       "      <td>Finance</td>\n",
       "      <td>FIN_3</td>\n",
       "      <td>Own-source revenue as a percentage of total re...</td>\n",
       "      <td>2014</td>\n",
       "      <td>378466000</td>\n",
       "      <td>435777000</td>\n",
       "      <td>86.85</td>\n",
       "      <td>Percentage</td>\n",
       "      <td>1-3. City of Melbourne Annual Report 2017-18; ...</td>\n",
       "    </tr>\n",
       "    <tr>\n",
       "      <th>89</th>\n",
       "      <td>Liveability</td>\n",
       "      <td>Profile - people</td>\n",
       "      <td>PROP_4</td>\n",
       "      <td>Percentage of population that are youth (15-24...</td>\n",
       "      <td>2014</td>\n",
       "      <td>36701</td>\n",
       "      <td>127975</td>\n",
       "      <td>28.68</td>\n",
       "      <td>Percentage</td>\n",
       "      <td>Australian Bureau of Statistics, Census of Pop...</td>\n",
       "    </tr>\n",
       "    <tr>\n",
       "      <th>92</th>\n",
       "      <td>Liveability</td>\n",
       "      <td>Profile - people</td>\n",
       "      <td>PROP_9</td>\n",
       "      <td>Percentage of population that are children (0-...</td>\n",
       "      <td>2014</td>\n",
       "      <td>8777</td>\n",
       "      <td>127975</td>\n",
       "      <td>6.86</td>\n",
       "      <td>Percentage</td>\n",
       "      <td>Australian Bureau of Statistics, Census of Pop...</td>\n",
       "    </tr>\n",
       "    <tr>\n",
       "      <th>114</th>\n",
       "      <td>Liveability</td>\n",
       "      <td>Economy</td>\n",
       "      <td>ECO_4</td>\n",
       "      <td>Percentage of persons (city population) in ful...</td>\n",
       "      <td>2014</td>\n",
       "      <td>55359</td>\n",
       "      <td>127975</td>\n",
       "      <td>43.26</td>\n",
       "      <td>Percentage</td>\n",
       "      <td>Geografia, Relative Poverty and Employment Mea...</td>\n",
       "    </tr>\n",
       "    <tr>\n",
       "      <th>115</th>\n",
       "      <td>Liveability</td>\n",
       "      <td>Economy</td>\n",
       "      <td>ECO_5</td>\n",
       "      <td>Youth unemployment rate</td>\n",
       "      <td>2014</td>\n",
       "      <td>1367</td>\n",
       "      <td>13048</td>\n",
       "      <td>10.48</td>\n",
       "      <td>Percentage</td>\n",
       "      <td>Geografia, Relative Poverty and Employment Mea...</td>\n",
       "    </tr>\n",
       "    <tr>\n",
       "      <th>117</th>\n",
       "      <td>Liveability</td>\n",
       "      <td>Finance</td>\n",
       "      <td>FIN_2</td>\n",
       "      <td>Capital spending as a percentage of total expe...</td>\n",
       "      <td>2014</td>\n",
       "      <td>82078000</td>\n",
       "      <td>457698000</td>\n",
       "      <td>17.93</td>\n",
       "      <td>Percentage</td>\n",
       "      <td>1-3. City of Melbourne Annual Report 2017-18; ...</td>\n",
       "    </tr>\n",
       "    <tr>\n",
       "      <th>125</th>\n",
       "      <td>Liveability</td>\n",
       "      <td>Governance</td>\n",
       "      <td>GOV_3</td>\n",
       "      <td>Percentage of women employed in the city gover...</td>\n",
       "      <td>2014</td>\n",
       "      <td>1019</td>\n",
       "      <td>2631</td>\n",
       "      <td>38.73</td>\n",
       "      <td>Percentage</td>\n",
       "      <td>1-3. City of Melbourne Annual Report 2017-18; ...</td>\n",
       "    </tr>\n",
       "    <tr>\n",
       "      <th>160</th>\n",
       "      <td>Liveability</td>\n",
       "      <td>Profile - people</td>\n",
       "      <td>PROP_12</td>\n",
       "      <td>Population dependency ratio (people aged under...</td>\n",
       "      <td>2014</td>\n",
       "      <td>13</td>\n",
       "      <td>86</td>\n",
       "      <td>15.52</td>\n",
       "      <td>Percentage</td>\n",
       "      <td>1. Australian Bureau of Statistics, 3235.0 Reg...</td>\n",
       "    </tr>\n",
       "    <tr>\n",
       "      <th>161</th>\n",
       "      <td>Liveability</td>\n",
       "      <td>Profile - people</td>\n",
       "      <td>PROP_5</td>\n",
       "      <td>Percentage of population that are seniors (65+)</td>\n",
       "      <td>2014</td>\n",
       "      <td>8413</td>\n",
       "      <td>127975</td>\n",
       "      <td>6.57</td>\n",
       "      <td>Percentage</td>\n",
       "      <td>Australian Bureau of Statistics, Census of Pop...</td>\n",
       "    </tr>\n",
       "    <tr>\n",
       "      <th>182</th>\n",
       "      <td>Liveability</td>\n",
       "      <td>Economy</td>\n",
       "      <td>ECO_3</td>\n",
       "      <td>Percentage of city population living in poverty</td>\n",
       "      <td>2014</td>\n",
       "      <td>11556</td>\n",
       "      <td>127975</td>\n",
       "      <td>9.03</td>\n",
       "      <td>Percentage</td>\n",
       "      <td>Geografia, Relative Poverty and Employment Mea...</td>\n",
       "    </tr>\n",
       "    <tr>\n",
       "      <th>225</th>\n",
       "      <td>Liveability</td>\n",
       "      <td>Finance</td>\n",
       "      <td>FIN_1</td>\n",
       "      <td>Debt service ratio (debt service expenditure a...</td>\n",
       "      <td>2014</td>\n",
       "      <td>0</td>\n",
       "      <td>378466000</td>\n",
       "      <td>0.00</td>\n",
       "      <td>Percentage</td>\n",
       "      <td>1-3. City of Melbourne Annual Report 2017-18; ...</td>\n",
       "    </tr>\n",
       "    <tr>\n",
       "      <th>234</th>\n",
       "      <td>Liveability</td>\n",
       "      <td>Profile - people</td>\n",
       "      <td>PROP_10</td>\n",
       "      <td>Percentage of population that are adults (25-6...</td>\n",
       "      <td>2014</td>\n",
       "      <td>74084</td>\n",
       "      <td>127975</td>\n",
       "      <td>57.89</td>\n",
       "      <td>Percentage</td>\n",
       "      <td>1. Australian Bureau of Statistics, 3235.0 Reg...</td>\n",
       "    </tr>\n",
       "  </tbody>\n",
       "</table>\n",
       "</div>"
      ],
      "text/plain": [
       "            type             topic       id  \\\n",
       "4    Liveability           Finance    FIN_4   \n",
       "73   Liveability           Finance    FIN_3   \n",
       "89   Liveability  Profile - people   PROP_4   \n",
       "92   Liveability  Profile - people   PROP_9   \n",
       "114  Liveability           Economy    ECO_4   \n",
       "115  Liveability           Economy    ECO_5   \n",
       "117  Liveability           Finance    FIN_2   \n",
       "125  Liveability        Governance    GOV_3   \n",
       "160  Liveability  Profile - people  PROP_12   \n",
       "161  Liveability  Profile - people   PROP_5   \n",
       "182  Liveability           Economy    ECO_3   \n",
       "225  Liveability           Finance    FIN_1   \n",
       "234  Liveability  Profile - people  PROP_10   \n",
       "\n",
       "                                             indicator period  numerator  \\\n",
       "4          Tax collected as a percentage of tax billed   2014  228981000   \n",
       "73   Own-source revenue as a percentage of total re...   2014  378466000   \n",
       "89   Percentage of population that are youth (15-24...   2014      36701   \n",
       "92   Percentage of population that are children (0-...   2014       8777   \n",
       "114  Percentage of persons (city population) in ful...   2014      55359   \n",
       "115                            Youth unemployment rate   2014       1367   \n",
       "117  Capital spending as a percentage of total expe...   2014   82078000   \n",
       "125  Percentage of women employed in the city gover...   2014       1019   \n",
       "160  Population dependency ratio (people aged under...   2014         13   \n",
       "161    Percentage of population that are seniors (65+)   2014       8413   \n",
       "182    Percentage of city population living in poverty   2014      11556   \n",
       "225  Debt service ratio (debt service expenditure a...   2014          0   \n",
       "234  Percentage of population that are adults (25-6...   2014      74084   \n",
       "\n",
       "     denominator   value  value_type  \\\n",
       "4      226920000  100.91  Percentage   \n",
       "73     435777000   86.85  Percentage   \n",
       "89        127975   28.68  Percentage   \n",
       "92        127975    6.86  Percentage   \n",
       "114       127975   43.26  Percentage   \n",
       "115        13048   10.48  Percentage   \n",
       "117    457698000   17.93  Percentage   \n",
       "125         2631   38.73  Percentage   \n",
       "160           86   15.52  Percentage   \n",
       "161       127975    6.57  Percentage   \n",
       "182       127975    9.03  Percentage   \n",
       "225    378466000    0.00  Percentage   \n",
       "234       127975   57.89  Percentage   \n",
       "\n",
       "                                               sources  \n",
       "4    1-3. City of Melbourne Annual Report 2017-18; ...  \n",
       "73   1-3. City of Melbourne Annual Report 2017-18; ...  \n",
       "89   Australian Bureau of Statistics, Census of Pop...  \n",
       "92   Australian Bureau of Statistics, Census of Pop...  \n",
       "114  Geografia, Relative Poverty and Employment Mea...  \n",
       "115  Geografia, Relative Poverty and Employment Mea...  \n",
       "117  1-3. City of Melbourne Annual Report 2017-18; ...  \n",
       "125  1-3. City of Melbourne Annual Report 2017-18; ...  \n",
       "160  1. Australian Bureau of Statistics, 3235.0 Reg...  \n",
       "161  Australian Bureau of Statistics, Census of Pop...  \n",
       "182  Geografia, Relative Poverty and Employment Mea...  \n",
       "225  1-3. City of Melbourne Annual Report 2017-18; ...  \n",
       "234  1. Australian Bureau of Statistics, 3235.0 Reg...  "
      ]
     },
     "execution_count": 36,
     "metadata": {},
     "output_type": "execute_result"
    }
   ],
   "source": [
    "liveability[liveability['period'] == '2014']"
   ]
  },
  {
   "cell_type": "code",
   "execution_count": 37,
   "id": "bbcb7b5d-f929-4ccc-96f8-298e5b0848d1",
   "metadata": {},
   "outputs": [],
   "source": [
    "liveability_clean = liveability[['period', 'numerator', 'denominator']].groupby('period').sum().reset_index()\n",
    "liveability_clean['percentage'] = ((liveability_clean['numerator'] * 100)/liveability_clean['denominator']).round(2)\n",
    "liveability_clean.rename(columns={'period': 'year'}, inplace=True)\n",
    "liveability_clean.rename(columns={'percentage': 'livability percentage'}, inplace=True)\n",
    "\n",
    "\n",
    "liveability_clean['year'] = response_clean['year'].astype(int)"
   ]
  },
  {
   "cell_type": "code",
   "execution_count": 38,
   "id": "3dd721d3-cca3-422d-8bcc-3cfefd41b713",
   "metadata": {},
   "outputs": [],
   "source": [
    "liveability_final = liveability_clean[['year', 'livability percentage']]"
   ]
  },
  {
   "cell_type": "code",
   "execution_count": 39,
   "id": "a29a4394-1055-4b7e-87b0-22031ce5b965",
   "metadata": {},
   "outputs": [
    {
     "data": {
      "text/html": [
       "<div>\n",
       "<style scoped>\n",
       "    .dataframe tbody tr th:only-of-type {\n",
       "        vertical-align: middle;\n",
       "    }\n",
       "\n",
       "    .dataframe tbody tr th {\n",
       "        vertical-align: top;\n",
       "    }\n",
       "\n",
       "    .dataframe thead th {\n",
       "        text-align: right;\n",
       "    }\n",
       "</style>\n",
       "<table border=\"1\" class=\"dataframe\">\n",
       "  <thead>\n",
       "    <tr style=\"text-align: right;\">\n",
       "      <th></th>\n",
       "      <th>year</th>\n",
       "      <th>livability percentage</th>\n",
       "    </tr>\n",
       "  </thead>\n",
       "  <tbody>\n",
       "    <tr>\n",
       "      <th>0</th>\n",
       "      <td>NaN</td>\n",
       "      <td>51.20</td>\n",
       "    </tr>\n",
       "    <tr>\n",
       "      <th>1</th>\n",
       "      <td>2011.0</td>\n",
       "      <td>52.91</td>\n",
       "    </tr>\n",
       "    <tr>\n",
       "      <th>2</th>\n",
       "      <td>2012.0</td>\n",
       "      <td>89.50</td>\n",
       "    </tr>\n",
       "    <tr>\n",
       "      <th>3</th>\n",
       "      <td>2013.0</td>\n",
       "      <td>9.49</td>\n",
       "    </tr>\n",
       "    <tr>\n",
       "      <th>4</th>\n",
       "      <td>2014.0</td>\n",
       "      <td>45.99</td>\n",
       "    </tr>\n",
       "    <tr>\n",
       "      <th>5</th>\n",
       "      <td>2015.0</td>\n",
       "      <td>47.51</td>\n",
       "    </tr>\n",
       "    <tr>\n",
       "      <th>6</th>\n",
       "      <td>2016.0</td>\n",
       "      <td>48.43</td>\n",
       "    </tr>\n",
       "    <tr>\n",
       "      <th>7</th>\n",
       "      <td>2017.0</td>\n",
       "      <td>47.85</td>\n",
       "    </tr>\n",
       "    <tr>\n",
       "      <th>8</th>\n",
       "      <td>2018.0</td>\n",
       "      <td>45.37</td>\n",
       "    </tr>\n",
       "  </tbody>\n",
       "</table>\n",
       "</div>"
      ],
      "text/plain": [
       "     year  livability percentage\n",
       "0     NaN                  51.20\n",
       "1  2011.0                  52.91\n",
       "2  2012.0                  89.50\n",
       "3  2013.0                   9.49\n",
       "4  2014.0                  45.99\n",
       "5  2015.0                  47.51\n",
       "6  2016.0                  48.43\n",
       "7  2017.0                  47.85\n",
       "8  2018.0                  45.37"
      ]
     },
     "execution_count": 39,
     "metadata": {},
     "output_type": "execute_result"
    }
   ],
   "source": [
    "liveability_final"
   ]
  },
  {
   "cell_type": "code",
   "execution_count": 40,
   "id": "c421ec22-94a4-42dc-93e4-788ba2bece16",
   "metadata": {},
   "outputs": [],
   "source": [
    "analysis_df = pd.merge(liveability_final, response_clean, on='year')\n",
    "analysis_df['year'] = pd.to_numeric(analysis_df['year'])\n",
    "analysis_df['livability percentage'] = pd.to_numeric(analysis_df['livability percentage'])\n",
    "analysis_df['population'] = pd.to_numeric(analysis_df['population'])"
   ]
  },
  {
   "cell_type": "code",
   "execution_count": 41,
   "id": "04fe991d-d08b-42b1-87ea-9de33c619982",
   "metadata": {},
   "outputs": [
    {
     "data": {
      "text/html": [
       "<div>\n",
       "<style scoped>\n",
       "    .dataframe tbody tr th:only-of-type {\n",
       "        vertical-align: middle;\n",
       "    }\n",
       "\n",
       "    .dataframe tbody tr th {\n",
       "        vertical-align: top;\n",
       "    }\n",
       "\n",
       "    .dataframe thead th {\n",
       "        text-align: right;\n",
       "    }\n",
       "</style>\n",
       "<table border=\"1\" class=\"dataframe\">\n",
       "  <thead>\n",
       "    <tr style=\"text-align: right;\">\n",
       "      <th></th>\n",
       "      <th>year</th>\n",
       "      <th>livability percentage</th>\n",
       "      <th>population</th>\n",
       "    </tr>\n",
       "  </thead>\n",
       "  <tbody>\n",
       "    <tr>\n",
       "      <th>0</th>\n",
       "      <td>2011.0</td>\n",
       "      <td>52.91</td>\n",
       "      <td>87395</td>\n",
       "    </tr>\n",
       "    <tr>\n",
       "      <th>1</th>\n",
       "      <td>2012.0</td>\n",
       "      <td>89.50</td>\n",
       "      <td>88339</td>\n",
       "    </tr>\n",
       "    <tr>\n",
       "      <th>2</th>\n",
       "      <td>2013.0</td>\n",
       "      <td>9.49</td>\n",
       "      <td>89188</td>\n",
       "    </tr>\n",
       "    <tr>\n",
       "      <th>3</th>\n",
       "      <td>2014.0</td>\n",
       "      <td>45.99</td>\n",
       "      <td>90417</td>\n",
       "    </tr>\n",
       "    <tr>\n",
       "      <th>4</th>\n",
       "      <td>2015.0</td>\n",
       "      <td>47.51</td>\n",
       "      <td>91674</td>\n",
       "    </tr>\n",
       "    <tr>\n",
       "      <th>5</th>\n",
       "      <td>2016.0</td>\n",
       "      <td>48.43</td>\n",
       "      <td>93445</td>\n",
       "    </tr>\n",
       "    <tr>\n",
       "      <th>6</th>\n",
       "      <td>2017.0</td>\n",
       "      <td>47.85</td>\n",
       "      <td>95071</td>\n",
       "    </tr>\n",
       "    <tr>\n",
       "      <th>7</th>\n",
       "      <td>2018.0</td>\n",
       "      <td>45.37</td>\n",
       "      <td>96481</td>\n",
       "    </tr>\n",
       "  </tbody>\n",
       "</table>\n",
       "</div>"
      ],
      "text/plain": [
       "     year  livability percentage  population\n",
       "0  2011.0                  52.91       87395\n",
       "1  2012.0                  89.50       88339\n",
       "2  2013.0                   9.49       89188\n",
       "3  2014.0                  45.99       90417\n",
       "4  2015.0                  47.51       91674\n",
       "5  2016.0                  48.43       93445\n",
       "6  2017.0                  47.85       95071\n",
       "7  2018.0                  45.37       96481"
      ]
     },
     "execution_count": 41,
     "metadata": {},
     "output_type": "execute_result"
    }
   ],
   "source": [
    "analysis_df"
   ]
  },
  {
   "cell_type": "markdown",
   "id": "1912daf9-a7cc-4be0-8e67-84f7a677c059",
   "metadata": {},
   "source": [
    "Visualisation and corelation calculation"
   ]
  },
  {
   "cell_type": "code",
   "execution_count": 42,
   "id": "51168dc5-9dda-4fc6-9491-f68a15667744",
   "metadata": {},
   "outputs": [
    {
     "data": {
      "application/vnd.plotly.v1+json": {
       "config": {
        "plotlyServerURL": "https://plot.ly"
       },
       "data": [
        {
         "colorbar": {
          "title": {
           "text": "Correlation coefficient"
          }
         },
         "colorscale": [
          [
           0,
           "#440154"
          ],
          [
           0.1111111111111111,
           "#482878"
          ],
          [
           0.2222222222222222,
           "#3e4989"
          ],
          [
           0.3333333333333333,
           "#31688e"
          ],
          [
           0.4444444444444444,
           "#26828e"
          ],
          [
           0.5555555555555556,
           "#1f9e89"
          ],
          [
           0.6666666666666666,
           "#35b779"
          ],
          [
           0.7777777777777778,
           "#6ece58"
          ],
          [
           0.8888888888888888,
           "#b5de2b"
          ],
          [
           1,
           "#fde725"
          ]
         ],
         "text": [
          [
           1,
           -0.14838455643603132
          ],
          [
           -0.14838455643603132,
           1
          ]
         ],
         "textfont": {
          "size": 14
         },
         "texttemplate": "%{text:.2f}",
         "type": "heatmap",
         "x": [
          "livability percentage",
          "population"
         ],
         "xgap": 1,
         "y": [
          "livability percentage",
          "population"
         ],
         "ygap": 1,
         "z": [
          [
           1,
           -0.14838455643603132
          ],
          [
           -0.14838455643603132,
           1
          ]
         ]
        }
       ],
       "layout": {
        "autosize": true,
        "template": {
         "data": {
          "bar": [
           {
            "error_x": {
             "color": "#2a3f5f"
            },
            "error_y": {
             "color": "#2a3f5f"
            },
            "marker": {
             "line": {
              "color": "#E5ECF6",
              "width": 0.5
             },
             "pattern": {
              "fillmode": "overlay",
              "size": 10,
              "solidity": 0.2
             }
            },
            "type": "bar"
           }
          ],
          "barpolar": [
           {
            "marker": {
             "line": {
              "color": "#E5ECF6",
              "width": 0.5
             },
             "pattern": {
              "fillmode": "overlay",
              "size": 10,
              "solidity": 0.2
             }
            },
            "type": "barpolar"
           }
          ],
          "carpet": [
           {
            "aaxis": {
             "endlinecolor": "#2a3f5f",
             "gridcolor": "white",
             "linecolor": "white",
             "minorgridcolor": "white",
             "startlinecolor": "#2a3f5f"
            },
            "baxis": {
             "endlinecolor": "#2a3f5f",
             "gridcolor": "white",
             "linecolor": "white",
             "minorgridcolor": "white",
             "startlinecolor": "#2a3f5f"
            },
            "type": "carpet"
           }
          ],
          "choropleth": [
           {
            "colorbar": {
             "outlinewidth": 0,
             "ticks": ""
            },
            "type": "choropleth"
           }
          ],
          "contour": [
           {
            "colorbar": {
             "outlinewidth": 0,
             "ticks": ""
            },
            "colorscale": [
             [
              0,
              "#0d0887"
             ],
             [
              0.1111111111111111,
              "#46039f"
             ],
             [
              0.2222222222222222,
              "#7201a8"
             ],
             [
              0.3333333333333333,
              "#9c179e"
             ],
             [
              0.4444444444444444,
              "#bd3786"
             ],
             [
              0.5555555555555556,
              "#d8576b"
             ],
             [
              0.6666666666666666,
              "#ed7953"
             ],
             [
              0.7777777777777778,
              "#fb9f3a"
             ],
             [
              0.8888888888888888,
              "#fdca26"
             ],
             [
              1,
              "#f0f921"
             ]
            ],
            "type": "contour"
           }
          ],
          "contourcarpet": [
           {
            "colorbar": {
             "outlinewidth": 0,
             "ticks": ""
            },
            "type": "contourcarpet"
           }
          ],
          "heatmap": [
           {
            "colorbar": {
             "outlinewidth": 0,
             "ticks": ""
            },
            "colorscale": [
             [
              0,
              "#0d0887"
             ],
             [
              0.1111111111111111,
              "#46039f"
             ],
             [
              0.2222222222222222,
              "#7201a8"
             ],
             [
              0.3333333333333333,
              "#9c179e"
             ],
             [
              0.4444444444444444,
              "#bd3786"
             ],
             [
              0.5555555555555556,
              "#d8576b"
             ],
             [
              0.6666666666666666,
              "#ed7953"
             ],
             [
              0.7777777777777778,
              "#fb9f3a"
             ],
             [
              0.8888888888888888,
              "#fdca26"
             ],
             [
              1,
              "#f0f921"
             ]
            ],
            "type": "heatmap"
           }
          ],
          "heatmapgl": [
           {
            "colorbar": {
             "outlinewidth": 0,
             "ticks": ""
            },
            "colorscale": [
             [
              0,
              "#0d0887"
             ],
             [
              0.1111111111111111,
              "#46039f"
             ],
             [
              0.2222222222222222,
              "#7201a8"
             ],
             [
              0.3333333333333333,
              "#9c179e"
             ],
             [
              0.4444444444444444,
              "#bd3786"
             ],
             [
              0.5555555555555556,
              "#d8576b"
             ],
             [
              0.6666666666666666,
              "#ed7953"
             ],
             [
              0.7777777777777778,
              "#fb9f3a"
             ],
             [
              0.8888888888888888,
              "#fdca26"
             ],
             [
              1,
              "#f0f921"
             ]
            ],
            "type": "heatmapgl"
           }
          ],
          "histogram": [
           {
            "marker": {
             "pattern": {
              "fillmode": "overlay",
              "size": 10,
              "solidity": 0.2
             }
            },
            "type": "histogram"
           }
          ],
          "histogram2d": [
           {
            "colorbar": {
             "outlinewidth": 0,
             "ticks": ""
            },
            "colorscale": [
             [
              0,
              "#0d0887"
             ],
             [
              0.1111111111111111,
              "#46039f"
             ],
             [
              0.2222222222222222,
              "#7201a8"
             ],
             [
              0.3333333333333333,
              "#9c179e"
             ],
             [
              0.4444444444444444,
              "#bd3786"
             ],
             [
              0.5555555555555556,
              "#d8576b"
             ],
             [
              0.6666666666666666,
              "#ed7953"
             ],
             [
              0.7777777777777778,
              "#fb9f3a"
             ],
             [
              0.8888888888888888,
              "#fdca26"
             ],
             [
              1,
              "#f0f921"
             ]
            ],
            "type": "histogram2d"
           }
          ],
          "histogram2dcontour": [
           {
            "colorbar": {
             "outlinewidth": 0,
             "ticks": ""
            },
            "colorscale": [
             [
              0,
              "#0d0887"
             ],
             [
              0.1111111111111111,
              "#46039f"
             ],
             [
              0.2222222222222222,
              "#7201a8"
             ],
             [
              0.3333333333333333,
              "#9c179e"
             ],
             [
              0.4444444444444444,
              "#bd3786"
             ],
             [
              0.5555555555555556,
              "#d8576b"
             ],
             [
              0.6666666666666666,
              "#ed7953"
             ],
             [
              0.7777777777777778,
              "#fb9f3a"
             ],
             [
              0.8888888888888888,
              "#fdca26"
             ],
             [
              1,
              "#f0f921"
             ]
            ],
            "type": "histogram2dcontour"
           }
          ],
          "mesh3d": [
           {
            "colorbar": {
             "outlinewidth": 0,
             "ticks": ""
            },
            "type": "mesh3d"
           }
          ],
          "parcoords": [
           {
            "line": {
             "colorbar": {
              "outlinewidth": 0,
              "ticks": ""
             }
            },
            "type": "parcoords"
           }
          ],
          "pie": [
           {
            "automargin": true,
            "type": "pie"
           }
          ],
          "scatter": [
           {
            "fillpattern": {
             "fillmode": "overlay",
             "size": 10,
             "solidity": 0.2
            },
            "type": "scatter"
           }
          ],
          "scatter3d": [
           {
            "line": {
             "colorbar": {
              "outlinewidth": 0,
              "ticks": ""
             }
            },
            "marker": {
             "colorbar": {
              "outlinewidth": 0,
              "ticks": ""
             }
            },
            "type": "scatter3d"
           }
          ],
          "scattercarpet": [
           {
            "marker": {
             "colorbar": {
              "outlinewidth": 0,
              "ticks": ""
             }
            },
            "type": "scattercarpet"
           }
          ],
          "scattergeo": [
           {
            "marker": {
             "colorbar": {
              "outlinewidth": 0,
              "ticks": ""
             }
            },
            "type": "scattergeo"
           }
          ],
          "scattergl": [
           {
            "marker": {
             "colorbar": {
              "outlinewidth": 0,
              "ticks": ""
             }
            },
            "type": "scattergl"
           }
          ],
          "scattermapbox": [
           {
            "marker": {
             "colorbar": {
              "outlinewidth": 0,
              "ticks": ""
             }
            },
            "type": "scattermapbox"
           }
          ],
          "scatterpolar": [
           {
            "marker": {
             "colorbar": {
              "outlinewidth": 0,
              "ticks": ""
             }
            },
            "type": "scatterpolar"
           }
          ],
          "scatterpolargl": [
           {
            "marker": {
             "colorbar": {
              "outlinewidth": 0,
              "ticks": ""
             }
            },
            "type": "scatterpolargl"
           }
          ],
          "scatterternary": [
           {
            "marker": {
             "colorbar": {
              "outlinewidth": 0,
              "ticks": ""
             }
            },
            "type": "scatterternary"
           }
          ],
          "surface": [
           {
            "colorbar": {
             "outlinewidth": 0,
             "ticks": ""
            },
            "colorscale": [
             [
              0,
              "#0d0887"
             ],
             [
              0.1111111111111111,
              "#46039f"
             ],
             [
              0.2222222222222222,
              "#7201a8"
             ],
             [
              0.3333333333333333,
              "#9c179e"
             ],
             [
              0.4444444444444444,
              "#bd3786"
             ],
             [
              0.5555555555555556,
              "#d8576b"
             ],
             [
              0.6666666666666666,
              "#ed7953"
             ],
             [
              0.7777777777777778,
              "#fb9f3a"
             ],
             [
              0.8888888888888888,
              "#fdca26"
             ],
             [
              1,
              "#f0f921"
             ]
            ],
            "type": "surface"
           }
          ],
          "table": [
           {
            "cells": {
             "fill": {
              "color": "#EBF0F8"
             },
             "line": {
              "color": "white"
             }
            },
            "header": {
             "fill": {
              "color": "#C8D4E3"
             },
             "line": {
              "color": "white"
             }
            },
            "type": "table"
           }
          ]
         },
         "layout": {
          "annotationdefaults": {
           "arrowcolor": "#2a3f5f",
           "arrowhead": 0,
           "arrowwidth": 1
          },
          "autotypenumbers": "strict",
          "coloraxis": {
           "colorbar": {
            "outlinewidth": 0,
            "ticks": ""
           }
          },
          "colorscale": {
           "diverging": [
            [
             0,
             "#8e0152"
            ],
            [
             0.1,
             "#c51b7d"
            ],
            [
             0.2,
             "#de77ae"
            ],
            [
             0.3,
             "#f1b6da"
            ],
            [
             0.4,
             "#fde0ef"
            ],
            [
             0.5,
             "#f7f7f7"
            ],
            [
             0.6,
             "#e6f5d0"
            ],
            [
             0.7,
             "#b8e186"
            ],
            [
             0.8,
             "#7fbc41"
            ],
            [
             0.9,
             "#4d9221"
            ],
            [
             1,
             "#276419"
            ]
           ],
           "sequential": [
            [
             0,
             "#0d0887"
            ],
            [
             0.1111111111111111,
             "#46039f"
            ],
            [
             0.2222222222222222,
             "#7201a8"
            ],
            [
             0.3333333333333333,
             "#9c179e"
            ],
            [
             0.4444444444444444,
             "#bd3786"
            ],
            [
             0.5555555555555556,
             "#d8576b"
            ],
            [
             0.6666666666666666,
             "#ed7953"
            ],
            [
             0.7777777777777778,
             "#fb9f3a"
            ],
            [
             0.8888888888888888,
             "#fdca26"
            ],
            [
             1,
             "#f0f921"
            ]
           ],
           "sequentialminus": [
            [
             0,
             "#0d0887"
            ],
            [
             0.1111111111111111,
             "#46039f"
            ],
            [
             0.2222222222222222,
             "#7201a8"
            ],
            [
             0.3333333333333333,
             "#9c179e"
            ],
            [
             0.4444444444444444,
             "#bd3786"
            ],
            [
             0.5555555555555556,
             "#d8576b"
            ],
            [
             0.6666666666666666,
             "#ed7953"
            ],
            [
             0.7777777777777778,
             "#fb9f3a"
            ],
            [
             0.8888888888888888,
             "#fdca26"
            ],
            [
             1,
             "#f0f921"
            ]
           ]
          },
          "colorway": [
           "#636efa",
           "#EF553B",
           "#00cc96",
           "#ab63fa",
           "#FFA15A",
           "#19d3f3",
           "#FF6692",
           "#B6E880",
           "#FF97FF",
           "#FECB52"
          ],
          "font": {
           "color": "#2a3f5f"
          },
          "geo": {
           "bgcolor": "white",
           "lakecolor": "white",
           "landcolor": "#E5ECF6",
           "showlakes": true,
           "showland": true,
           "subunitcolor": "white"
          },
          "hoverlabel": {
           "align": "left"
          },
          "hovermode": "closest",
          "mapbox": {
           "style": "light"
          },
          "paper_bgcolor": "white",
          "plot_bgcolor": "#E5ECF6",
          "polar": {
           "angularaxis": {
            "gridcolor": "white",
            "linecolor": "white",
            "ticks": ""
           },
           "bgcolor": "#E5ECF6",
           "radialaxis": {
            "gridcolor": "white",
            "linecolor": "white",
            "ticks": ""
           }
          },
          "scene": {
           "xaxis": {
            "backgroundcolor": "#E5ECF6",
            "gridcolor": "white",
            "gridwidth": 2,
            "linecolor": "white",
            "showbackground": true,
            "ticks": "",
            "zerolinecolor": "white"
           },
           "yaxis": {
            "backgroundcolor": "#E5ECF6",
            "gridcolor": "white",
            "gridwidth": 2,
            "linecolor": "white",
            "showbackground": true,
            "ticks": "",
            "zerolinecolor": "white"
           },
           "zaxis": {
            "backgroundcolor": "#E5ECF6",
            "gridcolor": "white",
            "gridwidth": 2,
            "linecolor": "white",
            "showbackground": true,
            "ticks": "",
            "zerolinecolor": "white"
           }
          },
          "shapedefaults": {
           "line": {
            "color": "#2a3f5f"
           }
          },
          "ternary": {
           "aaxis": {
            "gridcolor": "white",
            "linecolor": "white",
            "ticks": ""
           },
           "baxis": {
            "gridcolor": "white",
            "linecolor": "white",
            "ticks": ""
           },
           "bgcolor": "#E5ECF6",
           "caxis": {
            "gridcolor": "white",
            "linecolor": "white",
            "ticks": ""
           }
          },
          "title": {
           "x": 0.05
          },
          "xaxis": {
           "automargin": true,
           "gridcolor": "white",
           "linecolor": "white",
           "ticks": "",
           "title": {
            "standoff": 15
           },
           "zerolinecolor": "white",
           "zerolinewidth": 2
          },
          "yaxis": {
           "automargin": true,
           "gridcolor": "white",
           "linecolor": "white",
           "ticks": "",
           "title": {
            "standoff": 15
           },
           "zerolinecolor": "white",
           "zerolinewidth": 2
          }
         }
        },
        "title": {
         "text": "Interactive Correlation Heatmap between Livability % and Population",
         "x": 0.5
        },
        "xaxis": {
         "autorange": true,
         "range": [
          -0.5,
          1.5
         ],
         "type": "category"
        },
        "yaxis": {
         "autorange": true,
         "range": [
          -0.5,
          1.5
         ],
         "type": "category"
        }
       }
      },
      "image/png": "[encoded data removed]",
      "text/html": [
       "<div>                            <div id=\"b9a0f1be-9609-4916-ab56-6e23c2975add\" class=\"plotly-graph-div\" style=\"height:525px; width:100%;\"></div>            <script type=\"text/javascript\">                require([\"plotly\"], function(Plotly) {                    window.PLOTLYENV=window.PLOTLYENV || {};                                    if (document.getElementById(\"b9a0f1be-9609-4916-ab56-6e23c2975add\")) {                    Plotly.newPlot(                        \"b9a0f1be-9609-4916-ab56-6e23c2975add\",                        [{\"colorbar\":{\"title\":{\"text\":\"Correlation coefficient\"}},\"colorscale\":[[0.0,\"#440154\"],[0.1111111111111111,\"#482878\"],[0.2222222222222222,\"#3e4989\"],[0.3333333333333333,\"#31688e\"],[0.4444444444444444,\"#26828e\"],[0.5555555555555556,\"#1f9e89\"],[0.6666666666666666,\"#35b779\"],[0.7777777777777778,\"#6ece58\"],[0.8888888888888888,\"#b5de2b\"],[1.0,\"#fde725\"]],\"text\":[[1.0,-0.14838455643603132],[-0.14838455643603132,1.0]],\"textfont\":{\"size\":14},\"texttemplate\":\"%{text:.2f}\",\"x\":[\"livability percentage\",\"population\"],\"xgap\":1,\"y\":[\"livability percentage\",\"population\"],\"ygap\":1,\"z\":[[1.0,-0.14838455643603132],[-0.14838455643603132,1.0]],\"type\":\"heatmap\"}],                        {\"template\":{\"data\":{\"histogram2dcontour\":[{\"type\":\"histogram2dcontour\",\"colorbar\":{\"outlinewidth\":0,\"ticks\":\"\"},\"colorscale\":[[0.0,\"#0d0887\"],[0.1111111111111111,\"#46039f\"],[0.2222222222222222,\"#7201a8\"],[0.3333333333333333,\"#9c179e\"],[0.4444444444444444,\"#bd3786\"],[0.5555555555555556,\"#d8576b\"],[0.6666666666666666,\"#ed7953\"],[0.7777777777777778,\"#fb9f3a\"],[0.8888888888888888,\"#fdca26\"],[1.0,\"#f0f921\"]]}],\"choropleth\":[{\"type\":\"choropleth\",\"colorbar\":{\"outlinewidth\":0,\"ticks\":\"\"}}],\"histogram2d\":[{\"type\":\"histogram2d\",\"colorbar\":{\"outlinewidth\":0,\"ticks\":\"\"},\"colorscale\":[[0.0,\"#0d0887\"],[0.1111111111111111,\"#46039f\"],[0.2222222222222222,\"#7201a8\"],[0.3333333333333333,\"#9c179e\"],[0.4444444444444444,\"#bd3786\"],[0.5555555555555556,\"#d8576b\"],[0.6666666666666666,\"#ed7953\"],[0.7777777777777778,\"#fb9f3a\"],[0.8888888888888888,\"#fdca26\"],[1.0,\"#f0f921\"]]}],\"heatmap\":[{\"type\":\"heatmap\",\"colorbar\":{\"outlinewidth\":0,\"ticks\":\"\"},\"colorscale\":[[0.0,\"#0d0887\"],[0.1111111111111111,\"#46039f\"],[0.2222222222222222,\"#7201a8\"],[0.3333333333333333,\"#9c179e\"],[0.4444444444444444,\"#bd3786\"],[0.5555555555555556,\"#d8576b\"],[0.6666666666666666,\"#ed7953\"],[0.7777777777777778,\"#fb9f3a\"],[0.8888888888888888,\"#fdca26\"],[1.0,\"#f0f921\"]]}],\"heatmapgl\":[{\"type\":\"heatmapgl\",\"colorbar\":{\"outlinewidth\":0,\"ticks\":\"\"},\"colorscale\":[[0.0,\"#0d0887\"],[0.1111111111111111,\"#46039f\"],[0.2222222222222222,\"#7201a8\"],[0.3333333333333333,\"#9c179e\"],[0.4444444444444444,\"#bd3786\"],[0.5555555555555556,\"#d8576b\"],[0.6666666666666666,\"#ed7953\"],[0.7777777777777778,\"#fb9f3a\"],[0.8888888888888888,\"#fdca26\"],[1.0,\"#f0f921\"]]}],\"contourcarpet\":[{\"type\":\"contourcarpet\",\"colorbar\":{\"outlinewidth\":0,\"ticks\":\"\"}}],\"contour\":[{\"type\":\"contour\",\"colorbar\":{\"outlinewidth\":0,\"ticks\":\"\"},\"colorscale\":[[0.0,\"#0d0887\"],[0.1111111111111111,\"#46039f\"],[0.2222222222222222,\"#7201a8\"],[0.3333333333333333,\"#9c179e\"],[0.4444444444444444,\"#bd3786\"],[0.5555555555555556,\"#d8576b\"],[0.6666666666666666,\"#ed7953\"],[0.7777777777777778,\"#fb9f3a\"],[0.8888888888888888,\"#fdca26\"],[1.0,\"#f0f921\"]]}],\"surface\":[{\"type\":\"surface\",\"colorbar\":{\"outlinewidth\":0,\"ticks\":\"\"},\"colorscale\":[[0.0,\"#0d0887\"],[0.1111111111111111,\"#46039f\"],[0.2222222222222222,\"#7201a8\"],[0.3333333333333333,\"#9c179e\"],[0.4444444444444444,\"#bd3786\"],[0.5555555555555556,\"#d8576b\"],[0.6666666666666666,\"#ed7953\"],[0.7777777777777778,\"#fb9f3a\"],[0.8888888888888888,\"#fdca26\"],[1.0,\"#f0f921\"]]}],\"mesh3d\":[{\"type\":\"mesh3d\",\"colorbar\":{\"outlinewidth\":0,\"ticks\":\"\"}}],\"scatter\":[{\"fillpattern\":{\"fillmode\":\"overlay\",\"size\":10,\"solidity\":0.2},\"type\":\"scatter\"}],\"parcoords\":[{\"type\":\"parcoords\",\"line\":{\"colorbar\":{\"outlinewidth\":0,\"ticks\":\"\"}}}],\"scatterpolargl\":[{\"type\":\"scatterpolargl\",\"marker\":{\"colorbar\":{\"outlinewidth\":0,\"ticks\":\"\"}}}],\"bar\":[{\"error_x\":{\"color\":\"#2a3f5f\"},\"error_y\":{\"color\":\"#2a3f5f\"},\"marker\":{\"line\":{\"color\":\"#E5ECF6\",\"width\":0.5},\"pattern\":{\"fillmode\":\"overlay\",\"size\":10,\"solidity\":0.2}},\"type\":\"bar\"}],\"scattergeo\":[{\"type\":\"scattergeo\",\"marker\":{\"colorbar\":{\"outlinewidth\":0,\"ticks\":\"\"}}}],\"scatterpolar\":[{\"type\":\"scatterpolar\",\"marker\":{\"colorbar\":{\"outlinewidth\":0,\"ticks\":\"\"}}}],\"histogram\":[{\"marker\":{\"pattern\":{\"fillmode\":\"overlay\",\"size\":10,\"solidity\":0.2}},\"type\":\"histogram\"}],\"scattergl\":[{\"type\":\"scattergl\",\"marker\":{\"colorbar\":{\"outlinewidth\":0,\"ticks\":\"\"}}}],\"scatter3d\":[{\"type\":\"scatter3d\",\"line\":{\"colorbar\":{\"outlinewidth\":0,\"ticks\":\"\"}},\"marker\":{\"colorbar\":{\"outlinewidth\":0,\"ticks\":\"\"}}}],\"scattermapbox\":[{\"type\":\"scattermapbox\",\"marker\":{\"colorbar\":{\"outlinewidth\":0,\"ticks\":\"\"}}}],\"scatterternary\":[{\"type\":\"scatterternary\",\"marker\":{\"colorbar\":{\"outlinewidth\":0,\"ticks\":\"\"}}}],\"scattercarpet\":[{\"type\":\"scattercarpet\",\"marker\":{\"colorbar\":{\"outlinewidth\":0,\"ticks\":\"\"}}}],\"carpet\":[{\"aaxis\":{\"endlinecolor\":\"#2a3f5f\",\"gridcolor\":\"white\",\"linecolor\":\"white\",\"minorgridcolor\":\"white\",\"startlinecolor\":\"#2a3f5f\"},\"baxis\":{\"endlinecolor\":\"#2a3f5f\",\"gridcolor\":\"white\",\"linecolor\":\"white\",\"minorgridcolor\":\"white\",\"startlinecolor\":\"#2a3f5f\"},\"type\":\"carpet\"}],\"table\":[{\"cells\":{\"fill\":{\"color\":\"#EBF0F8\"},\"line\":{\"color\":\"white\"}},\"header\":{\"fill\":{\"color\":\"#C8D4E3\"},\"line\":{\"color\":\"white\"}},\"type\":\"table\"}],\"barpolar\":[{\"marker\":{\"line\":{\"color\":\"#E5ECF6\",\"width\":0.5},\"pattern\":{\"fillmode\":\"overlay\",\"size\":10,\"solidity\":0.2}},\"type\":\"barpolar\"}],\"pie\":[{\"automargin\":true,\"type\":\"pie\"}]},\"layout\":{\"autotypenumbers\":\"strict\",\"colorway\":[\"#636efa\",\"#EF553B\",\"#00cc96\",\"#ab63fa\",\"#FFA15A\",\"#19d3f3\",\"#FF6692\",\"#B6E880\",\"#FF97FF\",\"#FECB52\"],\"font\":{\"color\":\"#2a3f5f\"},\"hovermode\":\"closest\",\"hoverlabel\":{\"align\":\"left\"},\"paper_bgcolor\":\"white\",\"plot_bgcolor\":\"#E5ECF6\",\"polar\":{\"bgcolor\":\"#E5ECF6\",\"angularaxis\":{\"gridcolor\":\"white\",\"linecolor\":\"white\",\"ticks\":\"\"},\"radialaxis\":{\"gridcolor\":\"white\",\"linecolor\":\"white\",\"ticks\":\"\"}},\"ternary\":{\"bgcolor\":\"#E5ECF6\",\"aaxis\":{\"gridcolor\":\"white\",\"linecolor\":\"white\",\"ticks\":\"\"},\"baxis\":{\"gridcolor\":\"white\",\"linecolor\":\"white\",\"ticks\":\"\"},\"caxis\":{\"gridcolor\":\"white\",\"linecolor\":\"white\",\"ticks\":\"\"}},\"coloraxis\":{\"colorbar\":{\"outlinewidth\":0,\"ticks\":\"\"}},\"colorscale\":{\"sequential\":[[0.0,\"#0d0887\"],[0.1111111111111111,\"#46039f\"],[0.2222222222222222,\"#7201a8\"],[0.3333333333333333,\"#9c179e\"],[0.4444444444444444,\"#bd3786\"],[0.5555555555555556,\"#d8576b\"],[0.6666666666666666,\"#ed7953\"],[0.7777777777777778,\"#fb9f3a\"],[0.8888888888888888,\"#fdca26\"],[1.0,\"#f0f921\"]],\"sequentialminus\":[[0.0,\"#0d0887\"],[0.1111111111111111,\"#46039f\"],[0.2222222222222222,\"#7201a8\"],[0.3333333333333333,\"#9c179e\"],[0.4444444444444444,\"#bd3786\"],[0.5555555555555556,\"#d8576b\"],[0.6666666666666666,\"#ed7953\"],[0.7777777777777778,\"#fb9f3a\"],[0.8888888888888888,\"#fdca26\"],[1.0,\"#f0f921\"]],\"diverging\":[[0,\"#8e0152\"],[0.1,\"#c51b7d\"],[0.2,\"#de77ae\"],[0.3,\"#f1b6da\"],[0.4,\"#fde0ef\"],[0.5,\"#f7f7f7\"],[0.6,\"#e6f5d0\"],[0.7,\"#b8e186\"],[0.8,\"#7fbc41\"],[0.9,\"#4d9221\"],[1,\"#276419\"]]},\"xaxis\":{\"gridcolor\":\"white\",\"linecolor\":\"white\",\"ticks\":\"\",\"title\":{\"standoff\":15},\"zerolinecolor\":\"white\",\"automargin\":true,\"zerolinewidth\":2},\"yaxis\":{\"gridcolor\":\"white\",\"linecolor\":\"white\",\"ticks\":\"\",\"title\":{\"standoff\":15},\"zerolinecolor\":\"white\",\"automargin\":true,\"zerolinewidth\":2},\"scene\":{\"xaxis\":{\"backgroundcolor\":\"#E5ECF6\",\"gridcolor\":\"white\",\"linecolor\":\"white\",\"showbackground\":true,\"ticks\":\"\",\"zerolinecolor\":\"white\",\"gridwidth\":2},\"yaxis\":{\"backgroundcolor\":\"#E5ECF6\",\"gridcolor\":\"white\",\"linecolor\":\"white\",\"showbackground\":true,\"ticks\":\"\",\"zerolinecolor\":\"white\",\"gridwidth\":2},\"zaxis\":{\"backgroundcolor\":\"#E5ECF6\",\"gridcolor\":\"white\",\"linecolor\":\"white\",\"showbackground\":true,\"ticks\":\"\",\"zerolinecolor\":\"white\",\"gridwidth\":2}},\"shapedefaults\":{\"line\":{\"color\":\"#2a3f5f\"}},\"annotationdefaults\":{\"arrowcolor\":\"#2a3f5f\",\"arrowhead\":0,\"arrowwidth\":1},\"geo\":{\"bgcolor\":\"white\",\"landcolor\":\"#E5ECF6\",\"subunitcolor\":\"white\",\"showland\":true,\"showlakes\":true,\"lakecolor\":\"white\"},\"title\":{\"x\":0.05},\"mapbox\":{\"style\":\"light\"}}},\"title\":{\"text\":\"Interactive Correlation Heatmap between Livability % and Population\",\"x\":0.5}},                        {\"responsive\": true}                    ).then(function(){\n",
       "                            \n",
       "var gd = document.getElementById('b9a0f1be-9609-4916-ab56-6e23c2975add');\n",
       "var x = new MutationObserver(function (mutations, observer) {{\n",
       "        var display = window.getComputedStyle(gd).display;\n",
       "        if (!display || display === 'none') {{\n",
       "            console.log([gd, 'removed!']);\n",
       "            Plotly.purge(gd);\n",
       "            observer.disconnect();\n",
       "        }}\n",
       "}});\n",
       "\n",
       "// Listen for the removal of the full notebook cells\n",
       "var notebookContainer = gd.closest('#notebook-container');\n",
       "if (notebookContainer) {{\n",
       "    x.observe(notebookContainer, {childList: true});\n",
       "}}\n",
       "\n",
       "// Listen for the clearing of the current output cell\n",
       "var outputEl = gd.closest('.output');\n",
       "if (outputEl) {{\n",
       "    x.observe(outputEl, {childList: true});\n",
       "}}\n",
       "\n",
       "                        })                };                });            </script>        </div>"
      ]
     },
     "metadata": {},
     "output_type": "display_data"
    }
   ],
   "source": [
    "# Calculate correlation matrix\n",
    "corr_matrix = analysis_df[['livability percentage', 'population']].corr()\n",
    "\n",
    "# Create an interactive heatmap using Plotly\n",
    "heatmap_fig = go.Figure(data=go.Heatmap(\n",
    "    z=corr_matrix.values,\n",
    "    x=corr_matrix.columns,\n",
    "    y=corr_matrix.columns,\n",
    "    xgap=1, ygap=1,\n",
    "    colorscale='Viridis',\n",
    "    colorbar_title='Correlation coefficient',\n",
    "    text=corr_matrix.values,\n",
    "    texttemplate=\"%{text:.2f}\",  # Format the text to two decimal places\n",
    "    textfont={\"size\": 14}  # Adjust the font size if needed\n",
    "))\n",
    "\n",
    "heatmap_fig.update_layout(title_text='Interactive Correlation Heatmap between Livability % and Population', title_x=0.5)\n",
    "\n",
    "# Show the plot\n",
    "heatmap_fig.show()"
   ]
  }
 ],
 "metadata": {
  "kernelspec": {
   "display_name": "Python 3 (ipykernel)",
   "language": "python",
   "name": "python3"
  },
  "language_info": {
   "codemirror_mode": {
    "name": "ipython",
    "version": 3
   },
   "file_extension": ".py",
   "mimetype": "text/x-python",
   "name": "python",
   "nbconvert_exporter": "python",
   "pygments_lexer": "ipython3",
   "version": "3.12.3"
  }
 },
 "nbformat": 4,
 "nbformat_minor": 5
}
